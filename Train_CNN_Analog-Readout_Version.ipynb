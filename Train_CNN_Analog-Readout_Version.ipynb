{
 "cells": [
  {
   "cell_type": "markdown",
   "metadata": {},
   "source": [
    "# CNN Training\n",
    "\n",
    "Target of this code is to train a CNN network to extract the needle position of an analog needle device.\n",
    "\n",
    "### Preparing the training\n",
    "* First all libraries are loaded\n",
    "    * It is assumed, that they are installed during the Python setup\n",
    "* matplotlib is set to print the output inline in the jupyter notebook"
   ]
  },
  {
   "cell_type": "code",
   "execution_count": 1,
   "metadata": {
    "scrolled": true
   },
   "outputs": [],
   "source": [
    "import os\n",
    "import tensorflow as tf\n",
    "import matplotlib.pyplot as plt\n",
    "import glob\n",
    "import numpy as np\n",
    "from sklearn.utils import shuffle\n",
    "from tensorflow.python import keras\n",
    "from tensorflow.python.keras import Sequential\n",
    "from tensorflow.python.keras.layers import Dense, InputLayer, Conv2D, MaxPool2D, Flatten, BatchNormalization\n",
    "from tensorflow.keras.preprocessing.image import ImageDataGenerator\n",
    "from sklearn.model_selection import train_test_split\n",
    "import tensorflow.keras.backend as K\n",
    "from tensorflow.keras.callbacks import History \n",
    "import math\n",
    "from PIL import Image \n",
    "\n",
    "loss_ges = np.array([])\n",
    "val_loss_ges = np.array([])\n",
    "\n",
    "%matplotlib inline\n",
    "np.set_printoptions(precision=4)\n",
    "np.set_printoptions(suppress=True)"
   ]
  },
  {
   "cell_type": "markdown",
   "metadata": {},
   "source": [
    "### Load training data\n",
    "* The data is expected in the \"Input_dir\"\n",
    "* Picture size must be 32x32 with 3 color channels (RGB)\n",
    "* The filename contains the informations needed for training in the first 3 digits::\n",
    "* Typical filename: \n",
    "    * x.y-zzzz.jpg \n",
    "    * e.g. \"4.6_Lfd-1406_zeiger3_2019-06-02T050011\"\n",
    "\n",
    "|Place holder | Meaning                     | Usage        |\n",
    "|------------- |-----------------------------|--------------|\n",
    "| **x.y**          | readout value               | **to be learned** |\n",
    "| zzzz        | additional information              | not needed   |\n",
    "\n",
    "* The images are stored in the x_data[]\n",
    "* The expected output for each image in the corresponding y_data[]\n",
    "    * The periodic nature is reflected in a **sin/cos coding**, which allows to restore the angle/counter value with an arctan later on.\n",
    "\n",
    "* The last step is a shuffle (from sklearn.utils) as the filenames are on order due to the encoding of the expected analog readout in the filename "
   ]
  },
  {
   "cell_type": "code",
   "execution_count": 2,
   "metadata": {},
   "outputs": [
    {
     "name": "stdout",
     "output_type": "stream",
     "text": [
      "(3855, 32, 32, 3)\n",
      "(3855, 2)\n"
     ]
    }
   ],
   "source": [
    "Input_dir='data_resize_all'\n",
    "\n",
    "files = glob.glob(Input_dir + '/*.*')\n",
    "x_data = []\n",
    "y_data = []\n",
    "\n",
    "for aktfile in files:\n",
    "    test_image = Image.open(aktfile)\n",
    "    test_image = np.array(test_image, dtype=\"float32\")\n",
    "    test_image = np.reshape(test_image, (32,32,3))\n",
    "    base = os.path.basename(aktfile)\n",
    "    target_number = (float(base[0:3])) / 10\n",
    "    target_sin = math.sin(target_number * math.pi * 2)\n",
    "    target_cos = math.cos(target_number * math.pi * 2)\n",
    "\n",
    "    x_data.append(test_image)\n",
    "    zw = np.array([target_sin, target_cos])\n",
    "    y_data.append(zw)\n",
    "\n",
    "x_data = np.array(x_data)\n",
    "y_data = np.array(y_data)\n",
    "print(x_data.shape)\n",
    "print(y_data.shape)\n",
    "\n",
    "x_data, y_data = shuffle(x_data, y_data)\n",
    "X_train, X_test, y_train, y_test = train_test_split(x_data, y_data, test_size=0.2)"
   ]
  },
  {
   "cell_type": "markdown",
   "metadata": {},
   "source": [
    "### Define the model\n",
    "\n",
    "The layout of the network ist a typcial CNN network with alternating **Conv2D** and **MaxPool2D** layers. Finished after **flattening** with additional **Dense** layer.\n",
    "\n",
    "#### Important\n",
    "* Shape of the input layer: (32, 32, 3)\n",
    "* Shape of the output layer: (2) - sin and cos"
   ]
  },
  {
   "cell_type": "code",
   "execution_count": 3,
   "metadata": {
    "scrolled": true
   },
   "outputs": [
    {
     "name": "stdout",
     "output_type": "stream",
     "text": [
      "Model: \"sequential\"\n",
      "_________________________________________________________________\n",
      "Layer (type)                 Output Shape              Param #   \n",
      "=================================================================\n",
      "batch_normalization (BatchNo (None, 32, 32, 3)         12        \n",
      "_________________________________________________________________\n",
      "conv2d (Conv2D)              (None, 32, 32, 64)        4864      \n",
      "_________________________________________________________________\n",
      "max_pooling2d (MaxPooling2D) (None, 8, 8, 64)          0         \n",
      "_________________________________________________________________\n",
      "conv2d_1 (Conv2D)            (None, 8, 8, 32)          51232     \n",
      "_________________________________________________________________\n",
      "max_pooling2d_1 (MaxPooling2 (None, 2, 2, 32)          0         \n",
      "_________________________________________________________________\n",
      "conv2d_2 (Conv2D)            (None, 2, 2, 32)          9248      \n",
      "_________________________________________________________________\n",
      "max_pooling2d_2 (MaxPooling2 (None, 1, 1, 32)          0         \n",
      "_________________________________________________________________\n",
      "flatten (Flatten)            (None, 32)                0         \n",
      "_________________________________________________________________\n",
      "dense (Dense)                (None, 128)               4224      \n",
      "_________________________________________________________________\n",
      "dense_1 (Dense)              (None, 64)                8256      \n",
      "_________________________________________________________________\n",
      "dense_2 (Dense)              (None, 2)                 130       \n",
      "=================================================================\n",
      "Total params: 77,966\n",
      "Trainable params: 77,960\n",
      "Non-trainable params: 6\n",
      "_________________________________________________________________\n"
     ]
    }
   ],
   "source": [
    "model = Sequential()\n",
    "model.add(BatchNormalization(input_shape=(32,32,3)))\n",
    "model.add(Conv2D(64, (5, 5), input_shape=(32,32,3), padding='same', activation=\"relu\"))\n",
    "model.add(MaxPool2D(pool_size=(4,4)))\n",
    "model.add(Conv2D(32, (5, 5), padding='same', activation=\"relu\"))\n",
    "model.add(MaxPool2D(pool_size=(4,4)))\n",
    "model.add(Conv2D(32, (3, 3), padding='same', activation=\"relu\"))\n",
    "model.add(MaxPool2D(pool_size=(2,2)))\n",
    "model.add(Flatten())\n",
    "model.add(Dense(128,activation=\"relu\"))\n",
    "model.add(Dense(64,activation=\"relu\"))\n",
    "model.add(Dense(2))\n",
    "model.summary()\n",
    "\n",
    "model.compile(loss=keras.losses.mean_squared_error, optimizer=tf.keras.optimizers.Adadelta(learning_rate=1.0, rho=0.95), metrics = [\"accuracy\"])"
   ]
  },
  {
   "cell_type": "markdown",
   "metadata": {},
   "source": [
    "# Training\n",
    "The input pictures are randomly scattered for brightness and pixel shift variations. These is implemented with a ImageDataGenerator.\n",
    "\n",
    "\n",
    "The training is splitted into two steps:\n",
    "1. Variation of the brightness only\n",
    "2. Variation of brightness and Pixel Shift"
   ]
  },
  {
   "cell_type": "markdown",
   "metadata": {},
   "source": [
    "### Step 1: Brigthness scattering only"
   ]
  },
  {
   "cell_type": "code",
   "execution_count": 4,
   "metadata": {},
   "outputs": [
    {
     "name": "stdout",
     "output_type": "stream",
     "text": [
      "WARNING:tensorflow:From <ipython-input-4-9f5ba6453a73>:11: Model.fit_generator (from tensorflow.python.keras.engine.training) is deprecated and will be removed in a future version.\n",
      "Instructions for updating:\n",
      "Please use Model.fit, which supports generators.\n",
      "WARNING:tensorflow:sample_weight modes were coerced from\n",
      "  ...\n",
      "    to  \n",
      "  ['...']\n",
      "WARNING:tensorflow:sample_weight modes were coerced from\n",
      "  ...\n",
      "    to  \n",
      "  ['...']\n",
      "Train for 386 steps, validate for 97 steps\n",
      "Epoch 1/30\n",
      "386/386 [==============================] - 9s 23ms/step - loss: 0.1264 - accuracy: 0.8784 - val_loss: 0.0172 - val_accuracy: 0.9650\n",
      "Epoch 2/30\n",
      "386/386 [==============================] - 8s 20ms/step - loss: 0.0153 - accuracy: 0.9611 - val_loss: 0.0065 - val_accuracy: 0.9598\n",
      "Epoch 3/30\n",
      "386/386 [==============================] - 10s 26ms/step - loss: 0.0117 - accuracy: 0.9653 - val_loss: 0.0044 - val_accuracy: 0.9805\n",
      "Epoch 4/30\n",
      "386/386 [==============================] - 8s 20ms/step - loss: 0.0074 - accuracy: 0.9737 - val_loss: 0.0154 - val_accuracy: 0.9676\n",
      "Epoch 5/30\n",
      "386/386 [==============================] - 8s 22ms/step - loss: 0.0053 - accuracy: 0.9754 - val_loss: 0.0051 - val_accuracy: 0.9780\n",
      "Epoch 6/30\n",
      "386/386 [==============================] - 9s 23ms/step - loss: 0.0040 - accuracy: 0.9763 - val_loss: 0.0042 - val_accuracy: 0.9689\n",
      "Epoch 7/30\n",
      "386/386 [==============================] - 9s 23ms/step - loss: 0.0032 - accuracy: 0.9792 - val_loss: 0.0026 - val_accuracy: 0.9689\n",
      "Epoch 8/30\n",
      "386/386 [==============================] - 8s 22ms/step - loss: 0.0023 - accuracy: 0.9796 - val_loss: 0.0020 - val_accuracy: 0.9883\n",
      "Epoch 9/30\n",
      "386/386 [==============================] - 9s 22ms/step - loss: 0.0022 - accuracy: 0.9802 - val_loss: 0.0025 - val_accuracy: 0.9883\n",
      "Epoch 10/30\n",
      "386/386 [==============================] - 9s 24ms/step - loss: 0.0019 - accuracy: 0.9825 - val_loss: 0.0026 - val_accuracy: 0.9870\n",
      "Epoch 11/30\n",
      "386/386 [==============================] - 9s 24ms/step - loss: 0.0016 - accuracy: 0.9844 - val_loss: 0.0018 - val_accuracy: 0.9805\n",
      "Epoch 12/30\n",
      "386/386 [==============================] - 9s 24ms/step - loss: 0.0014 - accuracy: 0.9844 - val_loss: 0.0019 - val_accuracy: 0.9805\n",
      "Epoch 13/30\n",
      "386/386 [==============================] - 9s 25ms/step - loss: 0.0014 - accuracy: 0.9854 - val_loss: 0.0015 - val_accuracy: 0.9883\n",
      "Epoch 14/30\n",
      "386/386 [==============================] - 10s 26ms/step - loss: 0.0012 - accuracy: 0.9864 - val_loss: 0.0020 - val_accuracy: 0.9792\n",
      "Epoch 15/30\n",
      "386/386 [==============================] - 10s 25ms/step - loss: 0.0012 - accuracy: 0.9844 - val_loss: 0.0014 - val_accuracy: 0.9857\n",
      "Epoch 16/30\n",
      "386/386 [==============================] - 10s 25ms/step - loss: 0.0010 - accuracy: 0.9854 - val_loss: 0.0014 - val_accuracy: 0.9818\n",
      "Epoch 17/30\n",
      "386/386 [==============================] - 10s 25ms/step - loss: 0.0011 - accuracy: 0.9854 - val_loss: 0.0016 - val_accuracy: 0.9754\n",
      "Epoch 18/30\n",
      "386/386 [==============================] - 9s 23ms/step - loss: 9.0947e-04 - accuracy: 0.9874 - val_loss: 0.0013 - val_accuracy: 0.9780\n",
      "Epoch 19/30\n",
      "386/386 [==============================] - 9s 24ms/step - loss: 9.1898e-04 - accuracy: 0.9867 - val_loss: 0.0013 - val_accuracy: 0.9857\n",
      "Epoch 20/30\n",
      "386/386 [==============================] - 9s 23ms/step - loss: 8.2571e-04 - accuracy: 0.9861 - val_loss: 0.0013 - val_accuracy: 0.9844\n",
      "Epoch 21/30\n",
      "386/386 [==============================] - 9s 24ms/step - loss: 8.0968e-04 - accuracy: 0.9857 - val_loss: 0.0011 - val_accuracy: 0.9844\n",
      "Epoch 22/30\n",
      "386/386 [==============================] - 9s 24ms/step - loss: 8.0864e-04 - accuracy: 0.9861 - val_loss: 0.0013 - val_accuracy: 0.9870\n",
      "Epoch 23/30\n",
      "386/386 [==============================] - 9s 24ms/step - loss: 7.3462e-04 - accuracy: 0.9883 - val_loss: 0.0011 - val_accuracy: 0.9883\n",
      "Epoch 24/30\n",
      "386/386 [==============================] - 10s 25ms/step - loss: 7.4781e-04 - accuracy: 0.9890 - val_loss: 9.9469e-04 - val_accuracy: 0.9896\n",
      "Epoch 25/30\n",
      "386/386 [==============================] - 9s 24ms/step - loss: 7.1867e-04 - accuracy: 0.9912 - val_loss: 0.0012 - val_accuracy: 0.9883\n",
      "Epoch 26/30\n",
      "386/386 [==============================] - 9s 23ms/step - loss: 6.7531e-04 - accuracy: 0.9867 - val_loss: 0.0016 - val_accuracy: 0.9883\n",
      "Epoch 27/30\n",
      "386/386 [==============================] - 9s 22ms/step - loss: 6.5446e-04 - accuracy: 0.9890 - val_loss: 8.5334e-04 - val_accuracy: 0.9883\n",
      "Epoch 28/30\n",
      "386/386 [==============================] - 9s 23ms/step - loss: 6.4123e-04 - accuracy: 0.9867 - val_loss: 8.5655e-04 - val_accuracy: 0.9883\n",
      "Epoch 29/30\n",
      "386/386 [==============================] - 9s 23ms/step - loss: 6.1700e-04 - accuracy: 0.9909 - val_loss: 9.2143e-04 - val_accuracy: 0.9870\n",
      "Epoch 30/30\n",
      "386/386 [==============================] - 9s 23ms/step - loss: 6.2934e-04 - accuracy: 0.9880 - val_loss: 9.0554e-04 - val_accuracy: 0.9883\n"
     ]
    }
   ],
   "source": [
    "Batch_Size = 8\n",
    "Epoch_Anz = 30\n",
    "Shift_Range = 0\n",
    "Brightness_Range = 0.3\n",
    "\n",
    "datagen = ImageDataGenerator(width_shift_range=[-Shift_Range,Shift_Range], height_shift_range=[-Shift_Range,Shift_Range],brightness_range=[1-Brightness_Range,1+Brightness_Range])\n",
    "\n",
    "train_iterator = datagen.flow(X_train, y_train, batch_size=Batch_Size)\n",
    "validation_iterator = datagen.flow(X_test, y_test, batch_size=Batch_Size)\n",
    "\n",
    "history = model.fit_generator(train_iterator, validation_data = validation_iterator, epochs = Epoch_Anz)"
   ]
  },
  {
   "cell_type": "markdown",
   "metadata": {},
   "source": [
    "### Step 1: Learing result\n",
    " \n",
    "* Visualization of the training and validation results"
   ]
  },
  {
   "cell_type": "code",
   "execution_count": 5,
   "metadata": {},
   "outputs": [
    {
     "data": {
      "image/png": "[encoded data removed]",
      "text/plain": [
       "<Figure size 432x288 with 1 Axes>"
      ]
     },
     "metadata": {
      "needs_background": "light"
     },
     "output_type": "display_data"
    }
   ],
   "source": [
    "loss_ges = np.append(loss_ges, history.history['loss'])\n",
    "val_loss_ges = np.append(val_loss_ges, history.history['val_loss'])\n",
    "\n",
    "plt.semilogy(history.history['loss'])\n",
    "plt.semilogy(history.history['val_loss'])\n",
    "plt.title('model loss')\n",
    "plt.ylabel('loss')\n",
    "plt.xlabel('epoch')\n",
    "plt.legend(['train','eval'], loc='upper left')\n",
    "plt.show()"
   ]
  },
  {
   "cell_type": "markdown",
   "metadata": {},
   "source": [
    "### Step 2: Brigthness and Pixel Shift scattering\n",
    "Here a higher number of epochs is used to reach the minimum loss function"
   ]
  },
  {
   "cell_type": "code",
   "execution_count": 6,
   "metadata": {},
   "outputs": [
    {
     "name": "stdout",
     "output_type": "stream",
     "text": [
      "WARNING:tensorflow:sample_weight modes were coerced from\n",
      "  ...\n",
      "    to  \n",
      "  ['...']\n",
      "WARNING:tensorflow:sample_weight modes were coerced from\n",
      "  ...\n",
      "    to  \n",
      "  ['...']\n",
      "Train for 386 steps, validate for 97 steps\n",
      "Epoch 1/80\n",
      "386/386 [==============================] - 10s 26ms/step - loss: 0.0333 - accuracy: 0.9416 - val_loss: 0.0094 - val_accuracy: 0.9507\n",
      "Epoch 2/80\n",
      "386/386 [==============================] - 10s 27ms/step - loss: 0.0059 - accuracy: 0.9673 - val_loss: 0.0031 - val_accuracy: 0.9818\n",
      "Epoch 3/80\n",
      "386/386 [==============================] - 10s 27ms/step - loss: 0.0044 - accuracy: 0.9705 - val_loss: 0.0041 - val_accuracy: 0.9831\n",
      "Epoch 4/80\n",
      "386/386 [==============================] - 10s 25ms/step - loss: 0.0034 - accuracy: 0.9767 - val_loss: 0.0039 - val_accuracy: 0.9805\n",
      "Epoch 5/80\n",
      "386/386 [==============================] - 10s 27ms/step - loss: 0.0031 - accuracy: 0.9776 - val_loss: 0.0021 - val_accuracy: 0.9883\n",
      "Epoch 6/80\n",
      "386/386 [==============================] - 11s 30ms/step - loss: 0.0027 - accuracy: 0.9809 - val_loss: 0.0034 - val_accuracy: 0.9715\n",
      "Epoch 7/80\n",
      "386/386 [==============================] - 10s 25ms/step - loss: 0.0025 - accuracy: 0.9818 - val_loss: 0.0023 - val_accuracy: 0.9728\n",
      "Epoch 8/80\n",
      "386/386 [==============================] - 12s 31ms/step - loss: 0.0022 - accuracy: 0.9796 - val_loss: 0.0022 - val_accuracy: 0.9754\n",
      "Epoch 9/80\n",
      "386/386 [==============================] - 12s 30ms/step - loss: 0.0019 - accuracy: 0.9783 - val_loss: 0.0016 - val_accuracy: 0.9831\n",
      "Epoch 10/80\n",
      "386/386 [==============================] - 12s 31ms/step - loss: 0.0018 - accuracy: 0.9773 - val_loss: 0.0024 - val_accuracy: 0.9844\n",
      "Epoch 11/80\n",
      "386/386 [==============================] - 12s 30ms/step - loss: 0.0017 - accuracy: 0.9812 - val_loss: 0.0018 - val_accuracy: 0.9857\n",
      "Epoch 12/80\n",
      "386/386 [==============================] - 11s 28ms/step - loss: 0.0015 - accuracy: 0.9818 - val_loss: 0.0018 - val_accuracy: 0.9831\n",
      "Epoch 13/80\n",
      "386/386 [==============================] - 10s 26ms/step - loss: 0.0015 - accuracy: 0.9818 - val_loss: 0.0020 - val_accuracy: 0.9818\n",
      "Epoch 14/80\n",
      "386/386 [==============================] - 10s 25ms/step - loss: 0.0015 - accuracy: 0.9854 - val_loss: 0.0020 - val_accuracy: 0.9780\n",
      "Epoch 15/80\n",
      "386/386 [==============================] - 9s 24ms/step - loss: 0.0014 - accuracy: 0.9831 - val_loss: 0.0016 - val_accuracy: 0.9818\n",
      "Epoch 16/80\n",
      "386/386 [==============================] - 9s 24ms/step - loss: 0.0013 - accuracy: 0.9835 - val_loss: 0.0019 - val_accuracy: 0.9831\n",
      "Epoch 17/80\n",
      "386/386 [==============================] - 9s 23ms/step - loss: 0.0012 - accuracy: 0.9835 - val_loss: 0.0016 - val_accuracy: 0.9844\n",
      "Epoch 18/80\n",
      "386/386 [==============================] - 10s 25ms/step - loss: 0.0012 - accuracy: 0.9851 - val_loss: 0.0015 - val_accuracy: 0.9728\n",
      "Epoch 19/80\n",
      "386/386 [==============================] - 9s 23ms/step - loss: 0.0012 - accuracy: 0.9851 - val_loss: 0.0012 - val_accuracy: 0.9805\n",
      "Epoch 20/80\n",
      "386/386 [==============================] - 9s 24ms/step - loss: 0.0011 - accuracy: 0.9857 - val_loss: 0.0013 - val_accuracy: 0.9831\n",
      "Epoch 21/80\n",
      "386/386 [==============================] - 10s 25ms/step - loss: 0.0011 - accuracy: 0.9854 - val_loss: 0.0014 - val_accuracy: 0.9818\n",
      "Epoch 22/80\n",
      "386/386 [==============================] - 9s 24ms/step - loss: 0.0011 - accuracy: 0.9867 - val_loss: 0.0013 - val_accuracy: 0.9883\n",
      "Epoch 23/80\n",
      "386/386 [==============================] - 11s 28ms/step - loss: 0.0010 - accuracy: 0.9867 - val_loss: 0.0013 - val_accuracy: 0.9844\n",
      "Epoch 24/80\n",
      "386/386 [==============================] - 14s 36ms/step - loss: 0.0010 - accuracy: 0.9864 - val_loss: 0.0018 - val_accuracy: 0.9870\n",
      "Epoch 25/80\n",
      "386/386 [==============================] - 13s 34ms/step - loss: 9.8873e-04 - accuracy: 0.9861 - val_loss: 0.0011 - val_accuracy: 0.9883\n",
      "Epoch 26/80\n",
      "386/386 [==============================] - 12s 32ms/step - loss: 9.7634e-04 - accuracy: 0.9883 - val_loss: 0.0017 - val_accuracy: 0.9844\n",
      "Epoch 27/80\n",
      "386/386 [==============================] - 12s 31ms/step - loss: 9.4224e-04 - accuracy: 0.9851 - val_loss: 0.0015 - val_accuracy: 0.9844\n",
      "Epoch 28/80\n",
      "386/386 [==============================] - 11s 29ms/step - loss: 9.0708e-04 - accuracy: 0.9867 - val_loss: 0.0012 - val_accuracy: 0.9870\n",
      "Epoch 29/80\n",
      "386/386 [==============================] - 12s 30ms/step - loss: 8.7176e-04 - accuracy: 0.9864 - val_loss: 0.0012 - val_accuracy: 0.9792\n",
      "Epoch 30/80\n",
      "386/386 [==============================] - 11s 27ms/step - loss: 9.0582e-04 - accuracy: 0.9851 - val_loss: 0.0016 - val_accuracy: 0.9844\n",
      "Epoch 31/80\n",
      "386/386 [==============================] - 10s 27ms/step - loss: 8.6916e-04 - accuracy: 0.9903 - val_loss: 0.0012 - val_accuracy: 0.9831\n",
      "Epoch 32/80\n",
      "386/386 [==============================] - 10s 26ms/step - loss: 8.1091e-04 - accuracy: 0.9835 - val_loss: 8.9690e-04 - val_accuracy: 0.9870\n",
      "Epoch 33/80\n",
      "386/386 [==============================] - 10s 27ms/step - loss: 9.0031e-04 - accuracy: 0.9864 - val_loss: 0.0011 - val_accuracy: 0.9844\n",
      "Epoch 34/80\n",
      "386/386 [==============================] - 11s 28ms/step - loss: 7.7910e-04 - accuracy: 0.9857 - val_loss: 0.0011 - val_accuracy: 0.9909\n",
      "Epoch 35/80\n",
      "386/386 [==============================] - 10s 27ms/step - loss: 7.8510e-04 - accuracy: 0.9880 - val_loss: 9.2709e-04 - val_accuracy: 0.9857\n",
      "Epoch 36/80\n",
      "386/386 [==============================] - 10s 27ms/step - loss: 7.7595e-04 - accuracy: 0.9880 - val_loss: 0.0012 - val_accuracy: 0.9818\n",
      "Epoch 37/80\n",
      "386/386 [==============================] - 10s 27ms/step - loss: 7.7222e-04 - accuracy: 0.9880 - val_loss: 0.0011 - val_accuracy: 0.9857\n",
      "Epoch 38/80\n",
      "386/386 [==============================] - 10s 26ms/step - loss: 7.8671e-04 - accuracy: 0.9883 - val_loss: 0.0011 - val_accuracy: 0.9870\n",
      "Epoch 39/80\n",
      "386/386 [==============================] - 10s 27ms/step - loss: 8.0525e-04 - accuracy: 0.9880 - val_loss: 0.0011 - val_accuracy: 0.9844\n",
      "Epoch 40/80\n",
      "386/386 [==============================] - 11s 27ms/step - loss: 8.0167e-04 - accuracy: 0.9861 - val_loss: 0.0010 - val_accuracy: 0.9792\n",
      "Epoch 41/80\n",
      "386/386 [==============================] - 10s 27ms/step - loss: 7.2414e-04 - accuracy: 0.9880 - val_loss: 8.6065e-04 - val_accuracy: 0.9857\n",
      "Epoch 42/80\n",
      "386/386 [==============================] - 11s 27ms/step - loss: 7.1181e-04 - accuracy: 0.9912 - val_loss: 0.0015 - val_accuracy: 0.9741\n",
      "Epoch 43/80\n",
      "386/386 [==============================] - 10s 27ms/step - loss: 7.0432e-04 - accuracy: 0.9861 - val_loss: 0.0011 - val_accuracy: 0.9896\n",
      "Epoch 44/80\n",
      "386/386 [==============================] - 10s 27ms/step - loss: 7.1005e-04 - accuracy: 0.9854 - val_loss: 0.0016 - val_accuracy: 0.9831\n",
      "Epoch 45/80\n",
      "386/386 [==============================] - 11s 28ms/step - loss: 6.5736e-04 - accuracy: 0.9883 - val_loss: 0.0012 - val_accuracy: 0.9857\n",
      "Epoch 46/80\n",
      "386/386 [==============================] - 11s 28ms/step - loss: 6.6299e-04 - accuracy: 0.9880 - val_loss: 8.7749e-04 - val_accuracy: 0.9870\n",
      "Epoch 47/80\n",
      "386/386 [==============================] - 12s 31ms/step - loss: 6.9274e-04 - accuracy: 0.9867 - val_loss: 0.0012 - val_accuracy: 0.9754\n",
      "Epoch 48/80\n",
      "386/386 [==============================] - 12s 31ms/step - loss: 6.4947e-04 - accuracy: 0.9877 - val_loss: 9.7854e-04 - val_accuracy: 0.9909\n",
      "Epoch 49/80\n",
      "386/386 [==============================] - 13s 33ms/step - loss: 6.6602e-04 - accuracy: 0.9903 - val_loss: 0.0010 - val_accuracy: 0.9844\n",
      "Epoch 50/80\n",
      "386/386 [==============================] - 12s 31ms/step - loss: 6.5666e-04 - accuracy: 0.9909 - val_loss: 8.8375e-04 - val_accuracy: 0.9857\n",
      "Epoch 51/80\n",
      "386/386 [==============================] - 12s 31ms/step - loss: 6.3212e-04 - accuracy: 0.9864 - val_loss: 9.1945e-04 - val_accuracy: 0.9870\n",
      "Epoch 52/80\n",
      "386/386 [==============================] - 12s 32ms/step - loss: 6.6059e-04 - accuracy: 0.9887 - val_loss: 0.0010 - val_accuracy: 0.9896\n",
      "Epoch 53/80\n",
      "386/386 [==============================] - 12s 32ms/step - loss: 6.2525e-04 - accuracy: 0.9903 - val_loss: 0.0011 - val_accuracy: 0.9831\n",
      "Epoch 54/80\n",
      "386/386 [==============================] - 12s 31ms/step - loss: 6.2073e-04 - accuracy: 0.9896 - val_loss: 9.2899e-04 - val_accuracy: 0.9870\n",
      "Epoch 55/80\n"
     ]
    },
    {
     "name": "stdout",
     "output_type": "stream",
     "text": [
      "386/386 [==============================] - 12s 30ms/step - loss: 5.9353e-04 - accuracy: 0.9877 - val_loss: 8.8960e-04 - val_accuracy: 0.9896\n",
      "Epoch 56/80\n",
      "386/386 [==============================] - 12s 31ms/step - loss: 6.0664e-04 - accuracy: 0.9874 - val_loss: 9.8032e-04 - val_accuracy: 0.9883\n",
      "Epoch 57/80\n",
      "386/386 [==============================] - 12s 31ms/step - loss: 6.1838e-04 - accuracy: 0.9883 - val_loss: 8.5190e-04 - val_accuracy: 0.9857\n",
      "Epoch 58/80\n",
      "386/386 [==============================] - 13s 34ms/step - loss: 5.9275e-04 - accuracy: 0.9877 - val_loss: 0.0012 - val_accuracy: 0.9883\n",
      "Epoch 59/80\n",
      "386/386 [==============================] - 13s 33ms/step - loss: 5.5299e-04 - accuracy: 0.9893 - val_loss: 7.8253e-04 - val_accuracy: 0.9909\n",
      "Epoch 60/80\n",
      "386/386 [==============================] - 12s 32ms/step - loss: 5.5351e-04 - accuracy: 0.9899 - val_loss: 0.0014 - val_accuracy: 0.9857\n",
      "Epoch 61/80\n",
      "386/386 [==============================] - 12s 32ms/step - loss: 5.8716e-04 - accuracy: 0.9899 - val_loss: 0.0011 - val_accuracy: 0.9792\n",
      "Epoch 62/80\n",
      "386/386 [==============================] - 12s 31ms/step - loss: 5.3956e-04 - accuracy: 0.9890 - val_loss: 9.6446e-04 - val_accuracy: 0.9896\n",
      "Epoch 63/80\n",
      "386/386 [==============================] - 12s 31ms/step - loss: 5.5820e-04 - accuracy: 0.9867 - val_loss: 0.0011 - val_accuracy: 0.9844\n",
      "Epoch 64/80\n",
      "386/386 [==============================] - 12s 31ms/step - loss: 5.6517e-04 - accuracy: 0.9883 - val_loss: 9.0381e-04 - val_accuracy: 0.9870\n",
      "Epoch 65/80\n",
      "386/386 [==============================] - 12s 32ms/step - loss: 5.0932e-04 - accuracy: 0.9890 - val_loss: 8.8597e-04 - val_accuracy: 0.9883\n",
      "Epoch 66/80\n",
      "386/386 [==============================] - 13s 33ms/step - loss: 5.3453e-04 - accuracy: 0.9887 - val_loss: 9.4277e-04 - val_accuracy: 0.9792\n",
      "Epoch 67/80\n",
      "386/386 [==============================] - 13s 33ms/step - loss: 5.4409e-04 - accuracy: 0.9912 - val_loss: 0.0012 - val_accuracy: 0.9857\n",
      "Epoch 68/80\n",
      "386/386 [==============================] - 12s 31ms/step - loss: 5.3686e-04 - accuracy: 0.9912 - val_loss: 8.3113e-04 - val_accuracy: 0.9857\n",
      "Epoch 69/80\n",
      "386/386 [==============================] - 12s 31ms/step - loss: 5.4219e-04 - accuracy: 0.9909 - val_loss: 9.0532e-04 - val_accuracy: 0.9883\n",
      "Epoch 70/80\n",
      "386/386 [==============================] - 12s 32ms/step - loss: 5.0967e-04 - accuracy: 0.9903 - val_loss: 0.0011 - val_accuracy: 0.9792\n",
      "Epoch 71/80\n",
      "386/386 [==============================] - 12s 32ms/step - loss: 5.2242e-04 - accuracy: 0.9906 - val_loss: 8.7964e-04 - val_accuracy: 0.9831\n",
      "Epoch 72/80\n",
      "386/386 [==============================] - 12s 31ms/step - loss: 5.4354e-04 - accuracy: 0.9880 - val_loss: 8.0589e-04 - val_accuracy: 0.9870\n",
      "Epoch 73/80\n",
      "386/386 [==============================] - 12s 32ms/step - loss: 5.1732e-04 - accuracy: 0.9890 - val_loss: 8.7116e-04 - val_accuracy: 0.9883\n",
      "Epoch 74/80\n",
      "386/386 [==============================] - 12s 32ms/step - loss: 5.2037e-04 - accuracy: 0.9929 - val_loss: 0.0013 - val_accuracy: 0.9857\n",
      "Epoch 75/80\n",
      "386/386 [==============================] - 12s 32ms/step - loss: 4.9018e-04 - accuracy: 0.9877 - val_loss: 8.2418e-04 - val_accuracy: 0.9857\n",
      "Epoch 76/80\n",
      "386/386 [==============================] - 12s 31ms/step - loss: 5.2034e-04 - accuracy: 0.9887 - val_loss: 8.7368e-04 - val_accuracy: 0.9896\n",
      "Epoch 77/80\n",
      "386/386 [==============================] - 13s 33ms/step - loss: 4.7257e-04 - accuracy: 0.9896 - val_loss: 8.5172e-04 - val_accuracy: 0.9870\n",
      "Epoch 78/80\n",
      "386/386 [==============================] - 12s 31ms/step - loss: 4.9848e-04 - accuracy: 0.9890 - val_loss: 7.6375e-04 - val_accuracy: 0.9844\n",
      "Epoch 79/80\n",
      "386/386 [==============================] - 12s 31ms/step - loss: 4.8657e-04 - accuracy: 0.9880 - val_loss: 8.9969e-04 - val_accuracy: 0.9883\n",
      "Epoch 80/80\n",
      "386/386 [==============================] - 12s 31ms/step - loss: 4.8767e-04 - accuracy: 0.9909 - val_loss: 9.4813e-04 - val_accuracy: 0.9883\n"
     ]
    }
   ],
   "source": [
    "Batch_Size = 8\n",
    "Epoch_Anz = 80\n",
    "Shift_Range = 3\n",
    "Brightness_Range = 0.3\n",
    "\n",
    "datagen = ImageDataGenerator(width_shift_range=[-Shift_Range,Shift_Range], height_shift_range=[-Shift_Range,Shift_Range],brightness_range=[1-Brightness_Range,1+Brightness_Range])\n",
    "\n",
    "train_iterator = datagen.flow(X_train, y_train, batch_size=Batch_Size)\n",
    "validation_iterator = datagen.flow(X_test, y_test, batch_size=Batch_Size)\n",
    "\n",
    "history = model.fit_generator(train_iterator, validation_data = validation_iterator, epochs = Epoch_Anz)"
   ]
  },
  {
   "cell_type": "markdown",
   "metadata": {},
   "source": [
    "### Overall Learing results (Step 1 & Step 2)"
   ]
  },
  {
   "cell_type": "code",
   "execution_count": 7,
   "metadata": {},
   "outputs": [
    {
     "data": {
      "image/png": "[encoded data removed]",
      "text/plain": [
       "<Figure size 432x288 with 1 Axes>"
      ]
     },
     "metadata": {
      "needs_background": "light"
     },
     "output_type": "display_data"
    }
   ],
   "source": [
    "loss_ges = np.append(loss_ges, history.history['loss'])\n",
    "val_loss_ges = np.append(val_loss_ges, history.history['val_loss'])\n",
    "\n",
    "plt.semilogy(loss_ges)\n",
    "plt.semilogy(val_loss_ges)\n",
    "plt.title('model loss')\n",
    "plt.ylabel('loss')\n",
    "plt.xlabel('epoch')\n",
    "plt.legend(['train','eval'], loc='upper left')\n",
    "plt.show()"
   ]
  },
  {
   "cell_type": "markdown",
   "metadata": {},
   "source": [
    "### Check the model by hand\n",
    "\n",
    "* The following code uses the trained model to check the deviation for each picture.\n",
    "* The evaluation takes the periodic character of the results into account (dev1 ... dev2).\n",
    "* Images, that have a bigger deviation as the parameter \"deviation_max_list\" are printed in a list to check the picture and labeling itself"
   ]
  },
  {
   "cell_type": "code",
   "execution_count": 8,
   "metadata": {},
   "outputs": [
    {
     "name": "stdout",
     "output_type": "stream",
     "text": [
      "data_resize_all\\1.0_Lfd-0281_zeiger1_2019-06-04T171009.jpg 0.1 0.0699953612138414 0.03000463878615861\n",
      "data_resize_all\\1.1_Lfd-0312_zeiger1_2019-06-04T183009.jpg 0.11000000000000001 0.07880216918416044 0.031197830815839572\n",
      "data_resize_all\\1.1_Lfd-0313_zeiger1_2019-06-04T184009.jpg 0.11000000000000001 0.07040503501162138 0.03959496498837864\n",
      "data_resize_all\\1.1_Lfd-0315_zeiger1_2019-06-04T190009.jpg 0.11000000000000001 0.07906555361084214 0.030934446389157877\n",
      "data_resize_all\\2.6_Lfd-0991_zeiger4_2019-11-19_18-47-04.jpg 0.26 0.2979914394408367 -0.037991439440836716\n",
      "data_resize_all\\3.2_Lfd-1238_zeiger3_2019-11-19_09-12-03.jpg 0.32 0.35452168983392424 -0.03452168983392423\n",
      "data_resize_all\\3.3_Lfd-1251_zeiger1_2019-06-05T190009.jpg 0.32999999999999996 0.29803617717990033 0.03196382282009963\n",
      "data_resize_all\\3.3_Lfd-1278_zeiger3_2019-11-19_09-22-03.jpg 0.32999999999999996 0.36759930125576606 -0.037599301255766104\n",
      "data_resize_all\\4.0_Lfd-1462_zeiger2_2019-11-19_18-32-04.jpg 0.4 0.441183130023046 -0.041183130023045966\n",
      "data_resize_all\\4.4_Lfd-1648_zeiger2_2019-11-19_05-22-03.jpg 0.44000000000000006 0.4703451159758555 -0.03034511597585543\n",
      "data_resize_all\\6.2_Lfd-2335_zeiger2_2019-06-02T035012.jpg 0.62 0.6509391602439871 -0.03093916024398713\n",
      "data_resize_all\\6.2_Lfd-2336_zeiger2_2019-06-02T040013.jpg 0.62 0.6510383497689338 -0.031038349768933826\n",
      "data_resize_all\\6.2_Lfd-2337_zeiger2_2019-06-02T041013.jpg 0.62 0.6549226783499201 -0.03492267834992013\n",
      "data_resize_all\\6.2_Lfd-2338_zeiger2_2019-06-02T042011.jpg 0.62 0.6523945976651261 -0.03239459766512609\n",
      "data_resize_all\\6.2_Lfd-2339_zeiger2_2019-06-02T043015.jpg 0.62 0.6504371792854866 -0.030437179285486615\n",
      "data_resize_all\\6.2_Lfd-2344_zeiger2_2019-06-02T052011.jpg 0.62 0.6530686234997202 -0.03306862349972017\n",
      "data_resize_all\\6.2_Lfd-2346_zeiger2_2019-06-02T054013.jpg 0.62 0.6541030556495186 -0.034103055649518654\n",
      "data_resize_all\\6.3_Lfd-2390_zeiger1_2019-06-06T184009.jpg 0.63 0.6608405819197916 -0.030840581919791554\n",
      "data_resize_all\\6.3_Lfd-2457_zeiger4_2019-06-03T082009.jpg 0.63 0.6626168864499395 -0.03261688644993954\n",
      "data_resize_all\\6.6_Lfd-2552_zeiger4_2019-06-05T061009.jpg 0.6599999999999999 0.6907545527274717 -0.03075455272747174\n",
      "data_resize_all\\6.6_Lfd-2553_zeiger4_2019-06-05T062009.jpg 0.6599999999999999 0.6930253250080332 -0.033025325008033235\n",
      "data_resize_all\\6.6_Lfd-2556_zeiger4_2019-06-05T070009.jpg 0.6599999999999999 0.6903364313137808 -0.03033643131378083\n",
      "data_resize_all\\6.6_Lfd-2567_zeiger4_2019-06-05T085009.jpg 0.6599999999999999 0.6921447808147847 -0.03214478081478478\n",
      "data_resize_all\\6.6_Lfd-2570_zeiger4_2019-06-05T092009.jpg 0.6599999999999999 0.6912859034994033 -0.03128590349940341\n",
      "data_resize_all\\6.6_Lfd-2572_zeiger4_2019-06-05T094010.jpg 0.6599999999999999 0.6919066348857237 -0.03190663488572376\n",
      "data_resize_all\\6.6_Lfd-2573_zeiger4_2019-06-05T095010.jpg 0.6599999999999999 0.6920050275552672 -0.03200502755526724\n",
      "data_resize_all\\6.6_Lfd-2576_zeiger4_2019-06-05T102009.jpg 0.6599999999999999 0.6922282039863974 -0.032228203986397475\n",
      "data_resize_all\\6.6_Lfd-2583_zeiger4_2019-06-06T053009.jpg 0.6599999999999999 0.6959444529955582 -0.03594445299555826\n",
      "data_resize_all\\6.6_Lfd-2584_zeiger4_2019-06-06T125009.jpg 0.6599999999999999 0.6915933758485401 -0.03159337584854016\n",
      "data_resize_all\\6.8_Lfd-2627_zeiger4_2019-09-15_06-00-12.jpg 0.6799999999999999 0.7127306484364924 -0.03273064843649243\n",
      "data_resize_all\\6.9_Lfd-2659_zeiger3_2019-06-05T054009.jpg 0.6900000000000001 0.727292649692455 -0.03729264969245494\n",
      "data_resize_all\\7.0_Lfd-2674_zeiger1_2019-09-15_05-49-06.jpg 0.7 0.7319763191065574 -0.031976319106557405\n",
      "data_resize_all\\7.0_Lfd-2711_zeiger4_2019-06-05T140009.jpg 0.7 0.7383549568814414 -0.038354956881441415\n",
      "data_resize_all\\7.0_Lfd-2712_zeiger4_2019-06-05T141009.jpg 0.7 0.7375502088152324 -0.03755020881523241\n",
      "data_resize_all\\7.0_Lfd-2713_zeiger4_2019-06-05T153009.jpg 0.7 0.7391915412182819 -0.039191541218281944\n",
      "data_resize_all\\7.0_Lfd-2714_zeiger4_2019-06-06T112009.jpg 0.7 0.7313536904454676 -0.03135369044546765\n",
      "data_resize_all\\7.0_Lfd-2718_zeiger4_2019-06-06T135009.jpg 0.7 0.7300647578580954 -0.03006475785809548\n",
      "data_resize_all\\7.1_Lfd-2720_zeiger1_2019-09-15_05-50-13.jpg 0.71 0.7660379412604754 -0.056037941260475455\n",
      "data_resize_all\\7.1_Lfd-2758_zeiger3_2019-06-02T104009.jpg 0.71 0.7435334165826681 -0.033533416582668174\n",
      "data_resize_all\\7.1_Lfd-2772_zeiger4_2019-06-05T220009.jpg 0.71 0.741172580668801 -0.03117258066880102\n",
      "data_resize_all\\7.7_Lfd-3010_zeiger3_2019-11-19_06-22-03.jpg 0.77 0.7270474648739992 0.042952535126000835\n",
      "data_resize_all\\7.9_Lfd-3045_zeiger2_2019-11-19_06-52-03.jpg 0.79 0.7481314619864253 0.04186853801357471\n",
      "data_resize_all\\7.9_Lfd-3046_zeiger2_2019-11-19_06-57-03.jpg 0.79 0.749084842558073 0.040915157441927086\n",
      "data_resize_all\\7.9_Lfd-3047_zeiger2_2019-11-19_07-02-03.jpg 0.79 0.7487262196811519 0.0412737803188481\n",
      "data_resize_all\\7.9_Lfd-3048_zeiger2_2019-11-19_07-07-03.jpg 0.79 0.7507440093439552 0.03925599065604479\n",
      "data_resize_all\\7.9_Lfd-3052_zeiger2_2019-11-19_07-47-03.jpg 0.79 0.7576002860420479 0.03239971395795216\n",
      "data_resize_all\\7.9_Lfd-3057_zeiger3_2019-11-19_08-47-03.jpg 0.79 0.7510484081079655 0.038951591892034565\n",
      "data_resize_all\\7.9_Lfd-3058_zeiger3_2019-11-19_17-37-04.jpg 0.79 0.7474506249354089 0.04254937506459111\n",
      "data_resize_all\\7.9_Lfd-3059_zeiger3_2019-11-19_17-42-04.jpg 0.79 0.74400625540071 0.045993744599290065\n",
      "data_resize_all\\7.9_Lfd-3060_zeiger3_2019-11-19_17-47-04.jpg 0.79 0.7479928470917695 0.04200715290823054\n",
      "data_resize_all\\8.0_Lfd-3078_zeiger2_2019-11-19_01-42-03.jpg 0.8 0.7685700441677807 0.0314299558322193\n",
      "data_resize_all\\8.0_Lfd-3079_zeiger2_2019-11-19_07-52-03.jpg 0.8 0.7609611944596388 0.03903880554036121\n",
      "data_resize_all\\8.4_Lfd-3179_zeiger3_2019-11-19_06-57-03.jpg 0.8400000000000001 0.8035068412273498 0.03649315877265025\n",
      "data_resize_all\\8.4_Lfd-3180_zeiger4_2019-06-05T044009.jpg 0.8400000000000001 0.8716438502636384 -0.03164385026363836\n",
      "data_resize_all\\8.5_Lfd-3188_zeiger2_2019-06-04T210009.jpg 0.85 0.8188592281795167 0.03114077182048325\n",
      "data_resize_all\\8.5_Lfd-3208_zeiger4_2019-06-02T102009.jpg 0.85 0.8817706681820533 -0.03177066818205332\n",
      "data_resize_all\\8.5_Lfd-3209_zeiger4_2019-06-02T191009.jpg 0.85 0.880893652919876 -0.030893652919876002\n",
      "data_resize_all\\8.5_Lfd-3210_zeiger4_2019-06-02T192009.jpg 0.85 0.8801331967331596 -0.030133196733159617\n",
      "data_resize_all\\8.5_Lfd-3213_zeiger4_2019-06-02T195009.jpg 0.85 0.8806590643810075 -0.030659064381007517\n"
     ]
    }
   ],
   "source": [
    "Input_dir='data_resize_all'\n",
    "#Input_dir='test_result'\n",
    "files = glob.glob(Input_dir + '/*.*')\n",
    "res = []\n",
    "i = 0\n",
    "deviation_max_list = 0.03\n",
    "\n",
    "for aktfile in files:\n",
    "    base = os.path.basename(aktfile)\n",
    "    target = (float(base[0:3])) / 10\n",
    "    target_sin = math.sin(target * math.pi * 2)\n",
    "    target_cos = math.cos(target * math.pi * 2)\n",
    "\n",
    "    test_image = Image.open(aktfile)\n",
    "    test_image = np.array(test_image, dtype=\"float32\")\n",
    "    img = np.reshape(test_image,[1,32,32,3])\n",
    "    classes = model.predict(img)\n",
    "    \n",
    "    out_sin = classes[0][0]  \n",
    "    out_cos = classes[0][1]\n",
    "    out_target = (np.arctan2(out_sin, out_cos)/(2*math.pi)) % 1\n",
    "\n",
    "    dev_sin = target_sin - out_sin\n",
    "    dev_cos = target_cos - out_cos\n",
    "    dev_target = target - out_target\n",
    "    \n",
    "    if abs(dev_target + 1) < abs(dev_target):\n",
    "        out_target = out_target - 1\n",
    "        dev_target = target - out_target\n",
    "    else:\n",
    "        if abs(dev_target - 1) < abs(dev_target):\n",
    "            out_target = out_target + 1\n",
    "            dev_target = target - out_target\n",
    "               \n",
    "    res.append(np.array([target, out_target, dev_target, out_sin, out_cos, i]))\n",
    "    if abs(dev_target) > deviation_max_list:\n",
    "        print(aktfile + \" \" + str(target) + \" \" + str(out_target) +  \" \" + str(dev_target))\n",
    "    i+=1\n",
    "\n",
    "res = np.asarray(res)\n",
    "res_step_1 = res"
   ]
  },
  {
   "cell_type": "markdown",
   "metadata": {},
   "source": [
    "## Results"
   ]
  },
  {
   "cell_type": "code",
   "execution_count": 9,
   "metadata": {},
   "outputs": [
    {
     "data": {
      "image/png": "[encoded data removed]",
      "text/plain": [
       "<Figure size 432x288 with 1 Axes>"
      ]
     },
     "metadata": {
      "needs_background": "light"
     },
     "output_type": "display_data"
    }
   ],
   "source": [
    "plt.plot(res[:,3])\n",
    "plt.plot(res[:,4])\n",
    "plt.title('Result')\n",
    "plt.ylabel('value')\n",
    "plt.xlabel('#Picture')\n",
    "plt.legend(['sin', 'cos'], loc='lower left')\n",
    "plt.show()"
   ]
  },
  {
   "cell_type": "code",
   "execution_count": 10,
   "metadata": {},
   "outputs": [
    {
     "data": {
      "image/png": "[encoded data removed]",
      "text/plain": [
       "<Figure size 432x288 with 1 Axes>"
      ]
     },
     "metadata": {
      "needs_background": "light"
     },
     "output_type": "display_data"
    }
   ],
   "source": [
    "plt.plot(res[:,0])\n",
    "plt.plot(res[:,1])\n",
    "plt.title('Result')\n",
    "plt.ylabel('Counter Value')\n",
    "plt.xlabel('#Picture')\n",
    "plt.legend(['Orginal', 'Prediction'], loc='upper left')\n",
    "plt.show()"
   ]
  },
  {
   "cell_type": "markdown",
   "metadata": {},
   "source": [
    "### Deviation from Expected Value"
   ]
  },
  {
   "cell_type": "code",
   "execution_count": 11,
   "metadata": {},
   "outputs": [
    {
     "data": {
      "image/png": "[encoded data removed]",
      "text/plain": [
       "<Figure size 432x288 with 1 Axes>"
      ]
     },
     "metadata": {
      "needs_background": "light"
     },
     "output_type": "display_data"
    },
    {
     "name": "stdout",
     "output_type": "stream",
     "text": [
      "[ 0.0002  0.0115 -0.056   0.046 ]\n"
     ]
    }
   ],
   "source": [
    "plt.plot(res[:,2])\n",
    "plt.title('Deviation')\n",
    "plt.ylabel('Deviation from expected value')\n",
    "plt.xlabel('#Picture')\n",
    "plt.legend(['Deviation'], loc='upper left')\n",
    "#plt.ylim(-0.3, 0.3)\n",
    "plt.show()\n",
    "\n",
    "statistic = np.array([np.mean(res[:,2]), np.std(res[:,2]), np.min(res[:,2]), np.max(res[:,2])])\n",
    "print(statistic)"
   ]
  },
  {
   "cell_type": "markdown",
   "metadata": {},
   "source": [
    "### Save the model\n",
    "\n",
    "* Save the model to the file with the \"h5\" file format"
   ]
  },
  {
   "cell_type": "code",
   "execution_count": 12,
   "metadata": {},
   "outputs": [
    {
     "data": {
      "text/plain": [
       "315584"
      ]
     },
     "execution_count": 12,
     "metadata": {},
     "output_type": "execute_result"
    }
   ],
   "source": [
    "model.save(\"CNN_Analog-Readout_Version-6.0.0.h5\")\n",
    "\n",
    "converter = tf.lite.TFLiteConverter.from_keras_model(model)\n",
    "tflite_model = converter.convert()\n",
    "open(\"CNN_Analog-Readout_Version-6.0.0.tflite\", \"wb\").write(tflite_model)"
   ]
  }
 ],
 "metadata": {
  "kernelspec": {
   "display_name": "Python 3",
   "language": "python",
   "name": "python3"
  },
  "language_info": {
   "codemirror_mode": {
    "name": "ipython",
    "version": 3
   },
   "file_extension": ".py",
   "mimetype": "text/x-python",
   "name": "python",
   "nbconvert_exporter": "python",
   "pygments_lexer": "ipython3",
   "version": "3.7.7"
  }
 },
 "nbformat": 4,
 "nbformat_minor": 2
}
