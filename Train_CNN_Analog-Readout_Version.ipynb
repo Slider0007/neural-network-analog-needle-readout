{
 "cells": [
  {
   "cell_type": "markdown",
   "metadata": {},
   "source": [
    "# CNN Training\n",
    "\n",
    "Target of this code is to train a CNN network to extract the needle position of an analog needle device.\n",
    "\n",
    "### Preparing the training\n",
    "* First all libraries are loaded\n",
    "    * It is assumed, that they are installed during the Python setup\n",
    "* matplotlib is set to print the output inline in the jupyter notebook"
   ]
  },
  {
   "cell_type": "code",
   "execution_count": 1,
   "metadata": {
    "scrolled": true
   },
   "outputs": [],
   "source": [
    "import os\n",
    "import tensorflow as tf\n",
    "import matplotlib.pyplot as plt\n",
    "import glob\n",
    "import numpy as np\n",
    "from sklearn.utils import shuffle\n",
    "from tensorflow.python import keras\n",
    "from tensorflow.python.keras import Sequential\n",
    "from tensorflow.python.keras.layers import Dense, InputLayer, Conv2D, MaxPool2D, Flatten, BatchNormalization\n",
    "from tensorflow.keras.preprocessing.image import ImageDataGenerator\n",
    "from sklearn.model_selection import train_test_split\n",
    "import tensorflow.keras.backend as K\n",
    "from tensorflow.keras.callbacks import History \n",
    "import math\n",
    "from PIL import Image \n",
    "\n",
    "loss_ges = np.array([])\n",
    "val_loss_ges = np.array([])\n",
    "\n",
    "%matplotlib inline\n",
    "np.set_printoptions(precision=4)\n",
    "np.set_printoptions(suppress=True)"
   ]
  },
  {
   "cell_type": "markdown",
   "metadata": {},
   "source": [
    "### Load training data\n",
    "* The data is expected in the \"Input_dir\"\n",
    "* Picture size must be 32x32 with 3 color channels (RGB)\n",
    "* The filename contains the informations needed for training in the first 3 digits::\n",
    "* Typical filename: \n",
    "    * x.y-zzzz.jpg \n",
    "    * e.g. \"4.6_Lfd-1406_zeiger3_2019-06-02T050011\"\n",
    "\n",
    "|Place holder | Meaning                     | Usage        |\n",
    "|------------- |-----------------------------|--------------|\n",
    "| **x.y**          | readout value               | **to be learned** |\n",
    "| zzzz        | additional information              | not needed   |\n",
    "\n",
    "* The images are stored in the x_data[]\n",
    "* The expected output for each image in the corresponding y_data[]\n",
    "    * The periodic nature is reflected in a **sin/cos coding**, which allows to restore the angle/counter value with an arctan later on.\n",
    "\n",
    "* The last step is a shuffle (from sklearn.utils) as the filenames are on order due to the encoding of the expected analog readout in the filename "
   ]
  },
  {
   "cell_type": "code",
   "execution_count": 2,
   "metadata": {},
   "outputs": [
    {
     "name": "stdout",
     "output_type": "stream",
     "text": [
      "(4947, 32, 32, 3)\n",
      "(4947, 2)\n"
     ]
    }
   ],
   "source": [
    "Input_dir='data_resize_all'\n",
    "\n",
    "files = glob.glob(Input_dir + '/*.*')\n",
    "x_data = []\n",
    "y_data = []\n",
    "\n",
    "for aktfile in files:\n",
    "    test_image = Image.open(aktfile)\n",
    "    test_image = np.array(test_image, dtype=\"float32\")\n",
    "    test_image = np.reshape(test_image, (32,32,3))\n",
    "    base = os.path.basename(aktfile)\n",
    "    target_number = (float(base[0:3])) / 10\n",
    "    target_sin = math.sin(target_number * math.pi * 2)\n",
    "    target_cos = math.cos(target_number * math.pi * 2)\n",
    "\n",
    "    x_data.append(test_image)\n",
    "    zw = np.array([target_sin, target_cos])\n",
    "    y_data.append(zw)\n",
    "\n",
    "x_data = np.array(x_data)\n",
    "y_data = np.array(y_data)\n",
    "print(x_data.shape)\n",
    "print(y_data.shape)\n",
    "\n",
    "x_data, y_data = shuffle(x_data, y_data)\n",
    "X_train, X_test, y_train, y_test = train_test_split(x_data, y_data, test_size=0.1)"
   ]
  },
  {
   "cell_type": "markdown",
   "metadata": {},
   "source": [
    "### Define the model\n",
    "\n",
    "The layout of the network ist a typcial CNN network with alternating **Conv2D** and **MaxPool2D** layers. Finished after **flattening** with additional **Dense** layer.\n",
    "\n",
    "#### Important\n",
    "* Shape of the input layer: (32, 32, 3)\n",
    "* Shape of the output layer: (2) - sin and cos"
   ]
  },
  {
   "cell_type": "code",
   "execution_count": 3,
   "metadata": {
    "scrolled": true
   },
   "outputs": [
    {
     "name": "stdout",
     "output_type": "stream",
     "text": [
      "Model: \"sequential\"\n",
      "_________________________________________________________________\n",
      "Layer (type)                 Output Shape              Param #   \n",
      "=================================================================\n",
      "batch_normalization (BatchNo (None, 32, 32, 3)         12        \n",
      "_________________________________________________________________\n",
      "conv2d (Conv2D)              (None, 32, 32, 64)        4864      \n",
      "_________________________________________________________________\n",
      "max_pooling2d (MaxPooling2D) (None, 8, 8, 64)          0         \n",
      "_________________________________________________________________\n",
      "conv2d_1 (Conv2D)            (None, 8, 8, 32)          51232     \n",
      "_________________________________________________________________\n",
      "max_pooling2d_1 (MaxPooling2 (None, 2, 2, 32)          0         \n",
      "_________________________________________________________________\n",
      "conv2d_2 (Conv2D)            (None, 2, 2, 32)          9248      \n",
      "_________________________________________________________________\n",
      "max_pooling2d_2 (MaxPooling2 (None, 1, 1, 32)          0         \n",
      "_________________________________________________________________\n",
      "flatten (Flatten)            (None, 32)                0         \n",
      "_________________________________________________________________\n",
      "dense (Dense)                (None, 128)               4224      \n",
      "_________________________________________________________________\n",
      "dense_1 (Dense)              (None, 64)                8256      \n",
      "_________________________________________________________________\n",
      "dense_2 (Dense)              (None, 2)                 130       \n",
      "=================================================================\n",
      "Total params: 77,966\n",
      "Trainable params: 77,960\n",
      "Non-trainable params: 6\n",
      "_________________________________________________________________\n"
     ]
    }
   ],
   "source": [
    "model = Sequential()\n",
    "model.add(BatchNormalization(input_shape=(32,32,3)))\n",
    "model.add(Conv2D(64, (5, 5), input_shape=(32,32,3), padding='same', activation=\"relu\"))\n",
    "model.add(MaxPool2D(pool_size=(4,4)))\n",
    "model.add(Conv2D(32, (5, 5), padding='same', activation=\"relu\"))\n",
    "model.add(MaxPool2D(pool_size=(4,4)))\n",
    "model.add(Conv2D(32, (3, 3), padding='same', activation=\"relu\"))\n",
    "model.add(MaxPool2D(pool_size=(2,2)))\n",
    "model.add(Flatten())\n",
    "model.add(Dense(128,activation=\"relu\"))\n",
    "model.add(Dense(64,activation=\"relu\"))\n",
    "model.add(Dense(2))\n",
    "model.summary()\n",
    "\n",
    "model.compile(loss=keras.losses.mean_squared_error, optimizer=tf.keras.optimizers.Adadelta(learning_rate=1.0, rho=0.95), metrics = [\"accuracy\"])"
   ]
  },
  {
   "cell_type": "markdown",
   "metadata": {},
   "source": [
    "# Training\n",
    "The input pictures are randomly scattered for brightness and pixel shift variations. These is implemented with a ImageDataGenerator.\n",
    "\n",
    "\n",
    "The training is splitted into two steps:\n",
    "1. Variation of the brightness only\n",
    "2. Variation of brightness and Pixel Shift"
   ]
  },
  {
   "cell_type": "markdown",
   "metadata": {},
   "source": [
    "### Step 1: Brigthness scattering only"
   ]
  },
  {
   "cell_type": "code",
   "execution_count": 4,
   "metadata": {},
   "outputs": [
    {
     "name": "stdout",
     "output_type": "stream",
     "text": [
      "WARNING:tensorflow:From <ipython-input-4-9f5ba6453a73>:11: Model.fit_generator (from tensorflow.python.keras.engine.training) is deprecated and will be removed in a future version.\n",
      "Instructions for updating:\n",
      "Please use Model.fit, which supports generators.\n",
      "WARNING:tensorflow:sample_weight modes were coerced from\n",
      "  ...\n",
      "    to  \n",
      "  ['...']\n",
      "WARNING:tensorflow:sample_weight modes were coerced from\n",
      "  ...\n",
      "    to  \n",
      "  ['...']\n",
      "Train for 557 steps, validate for 62 steps\n",
      "Epoch 1/30\n",
      "557/557 [==============================] - 11s 20ms/step - loss: 0.1815 - accuracy: 0.8156 - val_loss: 0.0351 - val_accuracy: 0.9152\n",
      "Epoch 2/30\n",
      "557/557 [==============================] - 11s 20ms/step - loss: 0.0182 - accuracy: 0.9638 - val_loss: 0.0082 - val_accuracy: 0.9818\n",
      "Epoch 3/30\n",
      "557/557 [==============================] - 11s 20ms/step - loss: 0.0097 - accuracy: 0.9670 - val_loss: 0.0113 - val_accuracy: 0.9636\n",
      "Epoch 4/30\n",
      "557/557 [==============================] - 12s 21ms/step - loss: 0.0068 - accuracy: 0.9760 - val_loss: 0.0047 - val_accuracy: 0.9919\n",
      "Epoch 5/30\n",
      "557/557 [==============================] - 12s 21ms/step - loss: 0.0048 - accuracy: 0.9746 - val_loss: 0.0038 - val_accuracy: 0.9879\n",
      "Epoch 6/30\n",
      "557/557 [==============================] - 12s 21ms/step - loss: 0.0038 - accuracy: 0.9805 - val_loss: 0.0023 - val_accuracy: 0.9879\n",
      "Epoch 7/30\n",
      "557/557 [==============================] - 13s 23ms/step - loss: 0.0031 - accuracy: 0.9805 - val_loss: 0.0038 - val_accuracy: 0.9677\n",
      "Epoch 8/30\n",
      "557/557 [==============================] - 13s 23ms/step - loss: 0.0027 - accuracy: 0.9807 - val_loss: 0.0055 - val_accuracy: 0.9879\n",
      "Epoch 9/30\n",
      "557/557 [==============================] - 13s 23ms/step - loss: 0.0024 - accuracy: 0.9856 - val_loss: 0.0049 - val_accuracy: 0.9778\n",
      "Epoch 10/30\n",
      "557/557 [==============================] - 13s 24ms/step - loss: 0.0022 - accuracy: 0.9834 - val_loss: 0.0025 - val_accuracy: 0.9697\n",
      "Epoch 11/30\n",
      "557/557 [==============================] - 13s 23ms/step - loss: 0.0019 - accuracy: 0.9841 - val_loss: 0.0027 - val_accuracy: 0.9818\n",
      "Epoch 12/30\n",
      "557/557 [==============================] - 13s 24ms/step - loss: 0.0018 - accuracy: 0.9836 - val_loss: 0.0015 - val_accuracy: 0.9859\n",
      "Epoch 13/30\n",
      "557/557 [==============================] - 13s 24ms/step - loss: 0.0016 - accuracy: 0.9856 - val_loss: 0.0025 - val_accuracy: 0.9879\n",
      "Epoch 14/30\n",
      "557/557 [==============================] - 13s 23ms/step - loss: 0.0015 - accuracy: 0.9834 - val_loss: 0.0012 - val_accuracy: 0.9859\n",
      "Epoch 15/30\n",
      "557/557 [==============================] - 12s 21ms/step - loss: 0.0014 - accuracy: 0.9854 - val_loss: 0.0015 - val_accuracy: 0.9879\n",
      "Epoch 16/30\n",
      "557/557 [==============================] - 13s 24ms/step - loss: 0.0013 - accuracy: 0.9863 - val_loss: 0.0018 - val_accuracy: 0.9960\n",
      "Epoch 17/30\n",
      "557/557 [==============================] - 14s 25ms/step - loss: 0.0013 - accuracy: 0.9876 - val_loss: 0.0024 - val_accuracy: 0.9838\n",
      "Epoch 18/30\n",
      "557/557 [==============================] - 13s 23ms/step - loss: 0.0011 - accuracy: 0.9852 - val_loss: 0.0012 - val_accuracy: 0.9899\n",
      "Epoch 19/30\n",
      "557/557 [==============================] - 11s 20ms/step - loss: 0.0011 - accuracy: 0.9867 - val_loss: 0.0015 - val_accuracy: 0.9899\n",
      "Epoch 20/30\n",
      "557/557 [==============================] - 13s 23ms/step - loss: 0.0011 - accuracy: 0.9865 - val_loss: 0.0015 - val_accuracy: 0.9939\n",
      "Epoch 21/30\n",
      "557/557 [==============================] - 14s 26ms/step - loss: 0.0010 - accuracy: 0.9874 - val_loss: 0.0017 - val_accuracy: 0.9899\n",
      "Epoch 22/30\n",
      "557/557 [==============================] - 13s 24ms/step - loss: 0.0010 - accuracy: 0.9888 - val_loss: 0.0014 - val_accuracy: 0.9838\n",
      "Epoch 23/30\n",
      "557/557 [==============================] - 12s 22ms/step - loss: 9.7439e-04 - accuracy: 0.9872 - val_loss: 0.0013 - val_accuracy: 0.9939\n",
      "Epoch 24/30\n",
      "557/557 [==============================] - 11s 20ms/step - loss: 9.1174e-04 - accuracy: 0.9881 - val_loss: 0.0013 - val_accuracy: 0.9838\n",
      "Epoch 25/30\n",
      "557/557 [==============================] - 12s 22ms/step - loss: 8.5049e-04 - accuracy: 0.9883 - val_loss: 0.0014 - val_accuracy: 0.9859\n",
      "Epoch 26/30\n",
      "557/557 [==============================] - 12s 22ms/step - loss: 8.7098e-04 - accuracy: 0.9881 - val_loss: 0.0012 - val_accuracy: 0.9879\n",
      "Epoch 27/30\n",
      "557/557 [==============================] - 13s 23ms/step - loss: 8.2587e-04 - accuracy: 0.9870 - val_loss: 0.0010 - val_accuracy: 0.9899\n",
      "Epoch 28/30\n",
      "557/557 [==============================] - 12s 22ms/step - loss: 7.8452e-04 - accuracy: 0.9874 - val_loss: 9.1870e-04 - val_accuracy: 0.9939\n",
      "Epoch 29/30\n",
      "557/557 [==============================] - 13s 23ms/step - loss: 7.8595e-04 - accuracy: 0.9872 - val_loss: 0.0010 - val_accuracy: 0.9899\n",
      "Epoch 30/30\n",
      "557/557 [==============================] - 13s 24ms/step - loss: 7.5799e-04 - accuracy: 0.9899 - val_loss: 0.0012 - val_accuracy: 0.9960\n"
     ]
    }
   ],
   "source": [
    "Batch_Size = 8\n",
    "Epoch_Anz = 30\n",
    "Shift_Range = 0\n",
    "Brightness_Range = 0.3\n",
    "\n",
    "datagen = ImageDataGenerator(width_shift_range=[-Shift_Range,Shift_Range], height_shift_range=[-Shift_Range,Shift_Range],brightness_range=[1-Brightness_Range,1+Brightness_Range])\n",
    "\n",
    "train_iterator = datagen.flow(X_train, y_train, batch_size=Batch_Size)\n",
    "validation_iterator = datagen.flow(X_test, y_test, batch_size=Batch_Size)\n",
    "\n",
    "history = model.fit_generator(train_iterator, validation_data = validation_iterator, epochs = Epoch_Anz)"
   ]
  },
  {
   "cell_type": "markdown",
   "metadata": {},
   "source": [
    "### Step 1: Learing result\n",
    " \n",
    "* Visualization of the training and validation results"
   ]
  },
  {
   "cell_type": "code",
   "execution_count": 5,
   "metadata": {},
   "outputs": [
    {
     "data": {
      "image/png": "[encoded data removed]",
      "text/plain": [
       "<Figure size 432x288 with 1 Axes>"
      ]
     },
     "metadata": {
      "needs_background": "light"
     },
     "output_type": "display_data"
    }
   ],
   "source": [
    "loss_ges = np.append(loss_ges, history.history['loss'])\n",
    "val_loss_ges = np.append(val_loss_ges, history.history['val_loss'])\n",
    "\n",
    "plt.semilogy(history.history['loss'])\n",
    "plt.semilogy(history.history['val_loss'])\n",
    "plt.title('model loss')\n",
    "plt.ylabel('loss')\n",
    "plt.xlabel('epoch')\n",
    "plt.legend(['train','eval'], loc='upper left')\n",
    "plt.show()"
   ]
  },
  {
   "cell_type": "markdown",
   "metadata": {},
   "source": [
    "### Step 2: Brigthness and Pixel Shift scattering\n",
    "Here a higher number of epochs is used to reach the minimum loss function"
   ]
  },
  {
   "cell_type": "code",
   "execution_count": 6,
   "metadata": {},
   "outputs": [
    {
     "name": "stdout",
     "output_type": "stream",
     "text": [
      "WARNING:tensorflow:sample_weight modes were coerced from\n",
      "  ...\n",
      "    to  \n",
      "  ['...']\n",
      "WARNING:tensorflow:sample_weight modes were coerced from\n",
      "  ...\n",
      "    to  \n",
      "  ['...']\n",
      "Train for 557 steps, validate for 62 steps\n",
      "Epoch 1/80\n",
      "557/557 [==============================] - 14s 26ms/step - loss: 0.0505 - accuracy: 0.9416 - val_loss: 0.0089 - val_accuracy: 0.9596\n",
      "Epoch 2/80\n",
      "557/557 [==============================] - 13s 24ms/step - loss: 0.0097 - accuracy: 0.9733 - val_loss: 0.0089 - val_accuracy: 0.9677\n",
      "Epoch 3/80\n",
      "557/557 [==============================] - 15s 26ms/step - loss: 0.0072 - accuracy: 0.9746 - val_loss: 0.0098 - val_accuracy: 0.9737\n",
      "Epoch 4/80\n",
      "557/557 [==============================] - 15s 27ms/step - loss: 0.0049 - accuracy: 0.9769 - val_loss: 0.0068 - val_accuracy: 0.9899\n",
      "Epoch 5/80\n",
      "557/557 [==============================] - 13s 24ms/step - loss: 0.0043 - accuracy: 0.9802 - val_loss: 0.0038 - val_accuracy: 0.9859\n",
      "Epoch 6/80\n",
      "557/557 [==============================] - 13s 22ms/step - loss: 0.0036 - accuracy: 0.9775 - val_loss: 0.0031 - val_accuracy: 0.9758\n",
      "Epoch 7/80\n",
      "557/557 [==============================] - 13s 23ms/step - loss: 0.0033 - accuracy: 0.9805 - val_loss: 0.0037 - val_accuracy: 0.9778\n",
      "Epoch 8/80\n",
      "557/557 [==============================] - 13s 24ms/step - loss: 0.0029 - accuracy: 0.9823 - val_loss: 0.0029 - val_accuracy: 0.9879\n",
      "Epoch 9/80\n",
      "557/557 [==============================] - 15s 27ms/step - loss: 0.0025 - accuracy: 0.9841 - val_loss: 0.0029 - val_accuracy: 0.9818\n",
      "Epoch 10/80\n",
      "557/557 [==============================] - 13s 23ms/step - loss: 0.0025 - accuracy: 0.9816 - val_loss: 0.0023 - val_accuracy: 0.9859\n",
      "Epoch 11/80\n",
      "557/557 [==============================] - 13s 23ms/step - loss: 0.0023 - accuracy: 0.9856 - val_loss: 0.0025 - val_accuracy: 0.9879\n",
      "Epoch 12/80\n",
      "557/557 [==============================] - 14s 25ms/step - loss: 0.0021 - accuracy: 0.9858 - val_loss: 0.0022 - val_accuracy: 0.9859\n",
      "Epoch 13/80\n",
      "557/557 [==============================] - 18s 32ms/step - loss: 0.0020 - accuracy: 0.9847 - val_loss: 0.0021 - val_accuracy: 0.9899\n",
      "Epoch 14/80\n",
      "557/557 [==============================] - 15s 26ms/step - loss: 0.0020 - accuracy: 0.9852 - val_loss: 0.0024 - val_accuracy: 0.9838\n",
      "Epoch 15/80\n",
      "557/557 [==============================] - 13s 23ms/step - loss: 0.0018 - accuracy: 0.9867 - val_loss: 0.0024 - val_accuracy: 0.9960\n",
      "Epoch 16/80\n",
      "557/557 [==============================] - 13s 24ms/step - loss: 0.0017 - accuracy: 0.9843 - val_loss: 0.0020 - val_accuracy: 0.9919\n",
      "Epoch 17/80\n",
      "557/557 [==============================] - 13s 23ms/step - loss: 0.0017 - accuracy: 0.9847 - val_loss: 0.0027 - val_accuracy: 0.9919\n",
      "Epoch 18/80\n",
      "557/557 [==============================] - 13s 23ms/step - loss: 0.0016 - accuracy: 0.9854 - val_loss: 0.0027 - val_accuracy: 0.9939\n",
      "Epoch 19/80\n",
      "557/557 [==============================] - 13s 24ms/step - loss: 0.0016 - accuracy: 0.9861 - val_loss: 0.0017 - val_accuracy: 0.9879\n",
      "Epoch 20/80\n",
      "557/557 [==============================] - 14s 25ms/step - loss: 0.0015 - accuracy: 0.9872 - val_loss: 0.0023 - val_accuracy: 0.9697\n",
      "Epoch 21/80\n",
      "557/557 [==============================] - 14s 24ms/step - loss: 0.0014 - accuracy: 0.9865 - val_loss: 0.0015 - val_accuracy: 0.9838\n",
      "Epoch 22/80\n",
      "557/557 [==============================] - 13s 24ms/step - loss: 0.0014 - accuracy: 0.9858 - val_loss: 0.0015 - val_accuracy: 0.9919\n",
      "Epoch 23/80\n",
      "557/557 [==============================] - 13s 23ms/step - loss: 0.0013 - accuracy: 0.9861 - val_loss: 0.0014 - val_accuracy: 0.9838\n",
      "Epoch 24/80\n",
      "557/557 [==============================] - 13s 22ms/step - loss: 0.0013 - accuracy: 0.9854 - val_loss: 0.0016 - val_accuracy: 0.9919\n",
      "Epoch 25/80\n",
      "557/557 [==============================] - 12s 22ms/step - loss: 0.0013 - accuracy: 0.9845 - val_loss: 0.0013 - val_accuracy: 0.9939\n",
      "Epoch 26/80\n",
      "557/557 [==============================] - 13s 23ms/step - loss: 0.0013 - accuracy: 0.9870 - val_loss: 0.0017 - val_accuracy: 0.9939\n",
      "Epoch 27/80\n",
      "557/557 [==============================] - 13s 23ms/step - loss: 0.0012 - accuracy: 0.9843 - val_loss: 0.0014 - val_accuracy: 0.9899\n",
      "Epoch 28/80\n",
      "557/557 [==============================] - 12s 22ms/step - loss: 0.0013 - accuracy: 0.9852 - val_loss: 0.0012 - val_accuracy: 0.9778\n",
      "Epoch 29/80\n",
      "557/557 [==============================] - 12s 22ms/step - loss: 0.0012 - accuracy: 0.9858 - val_loss: 0.0013 - val_accuracy: 0.9879\n",
      "Epoch 30/80\n",
      "557/557 [==============================] - 12s 21ms/step - loss: 0.0012 - accuracy: 0.9858 - val_loss: 0.0016 - val_accuracy: 0.9919\n",
      "Epoch 31/80\n",
      "557/557 [==============================] - 13s 23ms/step - loss: 0.0011 - accuracy: 0.9881 - val_loss: 0.0013 - val_accuracy: 0.9919\n",
      "Epoch 32/80\n",
      "557/557 [==============================] - 13s 23ms/step - loss: 0.0011 - accuracy: 0.9870 - val_loss: 0.0020 - val_accuracy: 0.9919\n",
      "Epoch 33/80\n",
      "557/557 [==============================] - 13s 23ms/step - loss: 0.0011 - accuracy: 0.9850 - val_loss: 0.0019 - val_accuracy: 0.9919\n",
      "Epoch 34/80\n",
      "557/557 [==============================] - 14s 24ms/step - loss: 0.0011 - accuracy: 0.9874 - val_loss: 0.0012 - val_accuracy: 0.9859\n",
      "Epoch 35/80\n",
      "557/557 [==============================] - 14s 24ms/step - loss: 0.0011 - accuracy: 0.9854 - val_loss: 0.0013 - val_accuracy: 0.9879\n",
      "Epoch 36/80\n",
      "557/557 [==============================] - 13s 24ms/step - loss: 0.0011 - accuracy: 0.9890 - val_loss: 0.0012 - val_accuracy: 0.9899\n",
      "Epoch 37/80\n",
      "557/557 [==============================] - 14s 25ms/step - loss: 0.0011 - accuracy: 0.9885 - val_loss: 0.0011 - val_accuracy: 0.9939\n",
      "Epoch 38/80\n",
      "557/557 [==============================] - 13s 24ms/step - loss: 0.0011 - accuracy: 0.9854 - val_loss: 9.5592e-04 - val_accuracy: 0.9960\n",
      "Epoch 39/80\n",
      "557/557 [==============================] - 13s 24ms/step - loss: 9.9714e-04 - accuracy: 0.9879 - val_loss: 0.0011 - val_accuracy: 0.9939\n",
      "Epoch 40/80\n",
      "557/557 [==============================] - 14s 25ms/step - loss: 0.0010 - accuracy: 0.9894 - val_loss: 0.0013 - val_accuracy: 0.9899\n",
      "Epoch 41/80\n",
      "557/557 [==============================] - 14s 26ms/step - loss: 0.0010 - accuracy: 0.9874 - val_loss: 0.0017 - val_accuracy: 0.9980\n",
      "Epoch 42/80\n",
      "557/557 [==============================] - 16s 28ms/step - loss: 0.0010 - accuracy: 0.9883 - val_loss: 0.0012 - val_accuracy: 0.9879\n",
      "Epoch 43/80\n",
      "557/557 [==============================] - 17s 30ms/step - loss: 9.9320e-04 - accuracy: 0.9874 - val_loss: 0.0016 - val_accuracy: 0.9838\n",
      "Epoch 44/80\n",
      "557/557 [==============================] - 14s 26ms/step - loss: 0.0010 - accuracy: 0.9883 - val_loss: 0.0011 - val_accuracy: 0.9939\n",
      "Epoch 45/80\n",
      "557/557 [==============================] - 14s 25ms/step - loss: 9.6059e-04 - accuracy: 0.9865 - val_loss: 9.4440e-04 - val_accuracy: 0.9939683e-04 - accuracy: \n",
      "Epoch 46/80\n",
      "557/557 [==============================] - 14s 26ms/step - loss: 9.4878e-04 - accuracy: 0.9890 - val_loss: 0.0013 - val_accuracy: 0.9838\n",
      "Epoch 47/80\n",
      "557/557 [==============================] - 14s 25ms/step - loss: 9.3766e-04 - accuracy: 0.9865 - val_loss: 0.0011 - val_accuracy: 0.9838\n",
      "Epoch 48/80\n",
      "557/557 [==============================] - 14s 26ms/step - loss: 9.0485e-04 - accuracy: 0.9876 - val_loss: 0.0020 - val_accuracy: 0.9859\n",
      "Epoch 49/80\n",
      "557/557 [==============================] - 15s 26ms/step - loss: 9.1148e-04 - accuracy: 0.9874 - val_loss: 0.0010 - val_accuracy: 0.9939\n",
      "Epoch 50/80\n",
      "557/557 [==============================] - 14s 25ms/step - loss: 8.8500e-04 - accuracy: 0.9863 - val_loss: 9.7739e-04 - val_accuracy: 0.9939\n",
      "Epoch 51/80\n",
      "557/557 [==============================] - 15s 26ms/step - loss: 9.0149e-04 - accuracy: 0.9874 - val_loss: 0.0010 - val_accuracy: 0.9939\n",
      "Epoch 52/80\n",
      "557/557 [==============================] - 14s 25ms/step - loss: 8.4779e-04 - accuracy: 0.9892 - val_loss: 0.0012 - val_accuracy: 0.9899\n",
      "Epoch 53/80\n",
      "557/557 [==============================] - 14s 25ms/step - loss: 8.7150e-04 - accuracy: 0.9881 - val_loss: 0.0012 - val_accuracy: 0.9980\n",
      "Epoch 54/80\n",
      "557/557 [==============================] - 14s 24ms/step - loss: 8.4016e-04 - accuracy: 0.9863 - val_loss: 0.0012 - val_accuracy: 0.9980\n",
      "Epoch 55/80\n"
     ]
    },
    {
     "name": "stdout",
     "output_type": "stream",
     "text": [
      "557/557 [==============================] - 15s 26ms/step - loss: 8.3520e-04 - accuracy: 0.9865 - val_loss: 8.9569e-04 - val_accuracy: 0.9919\n",
      "Epoch 56/80\n",
      "557/557 [==============================] - 14s 24ms/step - loss: 8.5003e-04 - accuracy: 0.9847 - val_loss: 0.0010 - val_accuracy: 0.9919\n",
      "Epoch 57/80\n",
      "557/557 [==============================] - 14s 25ms/step - loss: 8.2383e-04 - accuracy: 0.9881 - val_loss: 0.0016 - val_accuracy: 0.9960\n",
      "Epoch 58/80\n",
      "557/557 [==============================] - 14s 26ms/step - loss: 8.1119e-04 - accuracy: 0.9879 - val_loss: 0.0018 - val_accuracy: 0.9818\n",
      "Epoch 59/80\n",
      "557/557 [==============================] - 14s 25ms/step - loss: 8.2906e-04 - accuracy: 0.9872 - val_loss: 9.2702e-04 - val_accuracy: 0.9919\n",
      "Epoch 60/80\n",
      "557/557 [==============================] - 14s 25ms/step - loss: 8.5042e-04 - accuracy: 0.9883 - val_loss: 0.0011 - val_accuracy: 0.9939\n",
      "Epoch 61/80\n",
      "557/557 [==============================] - 13s 24ms/step - loss: 8.2642e-04 - accuracy: 0.9874 - val_loss: 0.0015 - val_accuracy: 0.9899\n",
      "Epoch 62/80\n",
      "557/557 [==============================] - 14s 25ms/step - loss: 8.0341e-04 - accuracy: 0.9888 - val_loss: 0.0010 - val_accuracy: 0.9899\n",
      "Epoch 63/80\n",
      "557/557 [==============================] - 14s 25ms/step - loss: 7.7507e-04 - accuracy: 0.9872 - val_loss: 0.0010 - val_accuracy: 0.9919\n",
      "Epoch 64/80\n",
      "557/557 [==============================] - 15s 27ms/step - loss: 7.7864e-04 - accuracy: 0.9888 - val_loss: 0.0012 - val_accuracy: 0.9939\n",
      "Epoch 65/80\n",
      "557/557 [==============================] - 14s 25ms/step - loss: 8.0240e-04 - accuracy: 0.9881 - val_loss: 0.0013 - val_accuracy: 0.9919\n",
      "Epoch 66/80\n",
      "557/557 [==============================] - 15s 26ms/step - loss: 7.9015e-04 - accuracy: 0.9879 - val_loss: 0.0014 - val_accuracy: 0.9960\n",
      "Epoch 67/80\n",
      "557/557 [==============================] - 15s 27ms/step - loss: 7.8267e-04 - accuracy: 0.9879 - val_loss: 9.4717e-04 - val_accuracy: 0.9980\n",
      "Epoch 68/80\n",
      "557/557 [==============================] - 14s 25ms/step - loss: 7.4532e-04 - accuracy: 0.9885 - val_loss: 0.0011 - val_accuracy: 0.9980\n",
      "Epoch 69/80\n",
      "557/557 [==============================] - 14s 25ms/step - loss: 7.1138e-04 - accuracy: 0.9894 - val_loss: 8.5909e-04 - val_accuracy: 0.9838\n",
      "Epoch 70/80\n",
      "557/557 [==============================] - 14s 24ms/step - loss: 7.6424e-04 - accuracy: 0.9876 - val_loss: 0.0013 - val_accuracy: 0.9859\n",
      "Epoch 71/80\n",
      "557/557 [==============================] - 14s 25ms/step - loss: 7.5763e-04 - accuracy: 0.9890 - val_loss: 0.0011 - val_accuracy: 0.9960\n",
      "Epoch 72/80\n",
      "557/557 [==============================] - 14s 24ms/step - loss: 7.4127e-04 - accuracy: 0.9894 - val_loss: 0.0013 - val_accuracy: 0.9960\n",
      "Epoch 73/80\n",
      "557/557 [==============================] - 13s 24ms/step - loss: 7.2033e-04 - accuracy: 0.9894 - val_loss: 8.2576e-04 - val_accuracy: 0.9919\n",
      "Epoch 74/80\n",
      "557/557 [==============================] - 14s 25ms/step - loss: 7.2995e-04 - accuracy: 0.9894 - val_loss: 8.1457e-04 - val_accuracy: 0.9939\n",
      "Epoch 75/80\n",
      "557/557 [==============================] - 14s 25ms/step - loss: 7.1263e-04 - accuracy: 0.9890 - val_loss: 9.6823e-04 - val_accuracy: 0.9939\n",
      "Epoch 76/80\n",
      "557/557 [==============================] - 14s 25ms/step - loss: 7.1698e-04 - accuracy: 0.9885 - val_loss: 0.0010 - val_accuracy: 0.9960\n",
      "Epoch 77/80\n",
      "557/557 [==============================] - 13s 24ms/step - loss: 7.2388e-04 - accuracy: 0.9888 - val_loss: 9.7677e-04 - val_accuracy: 0.9980\n",
      "Epoch 78/80\n",
      "557/557 [==============================] - 14s 25ms/step - loss: 7.2616e-04 - accuracy: 0.9876 - val_loss: 0.0014 - val_accuracy: 0.9960\n",
      "Epoch 79/80\n",
      "557/557 [==============================] - 15s 27ms/step - loss: 6.8879e-04 - accuracy: 0.9897 - val_loss: 0.0010 - val_accuracy: 0.9919\n",
      "Epoch 80/80\n",
      "557/557 [==============================] - 14s 25ms/step - loss: 6.9539e-04 - accuracy: 0.9897 - val_loss: 9.7779e-04 - val_accuracy: 0.9939\n"
     ]
    }
   ],
   "source": [
    "Batch_Size = 8\n",
    "Epoch_Anz = 80\n",
    "Shift_Range = 3\n",
    "Brightness_Range = 0.3\n",
    "\n",
    "datagen = ImageDataGenerator(width_shift_range=[-Shift_Range,Shift_Range], height_shift_range=[-Shift_Range,Shift_Range],brightness_range=[1-Brightness_Range,1+Brightness_Range])\n",
    "\n",
    "train_iterator = datagen.flow(X_train, y_train, batch_size=Batch_Size)\n",
    "validation_iterator = datagen.flow(X_test, y_test, batch_size=Batch_Size)\n",
    "\n",
    "history = model.fit_generator(train_iterator, validation_data = validation_iterator, epochs = Epoch_Anz)"
   ]
  },
  {
   "cell_type": "markdown",
   "metadata": {},
   "source": [
    "### Overall Learing results (Step 1 & Step 2)"
   ]
  },
  {
   "cell_type": "code",
   "execution_count": 7,
   "metadata": {},
   "outputs": [
    {
     "data": {
      "image/png": "[encoded data removed]",
      "text/plain": [
       "<Figure size 432x288 with 1 Axes>"
      ]
     },
     "metadata": {
      "needs_background": "light"
     },
     "output_type": "display_data"
    }
   ],
   "source": [
    "loss_ges = np.append(loss_ges, history.history['loss'])\n",
    "val_loss_ges = np.append(val_loss_ges, history.history['val_loss'])\n",
    "\n",
    "plt.semilogy(loss_ges)\n",
    "plt.semilogy(val_loss_ges)\n",
    "plt.title('model loss')\n",
    "plt.ylabel('loss')\n",
    "plt.xlabel('epoch')\n",
    "plt.legend(['train','eval'], loc='upper left')\n",
    "plt.show()"
   ]
  },
  {
   "cell_type": "markdown",
   "metadata": {},
   "source": [
    "### Check the model by hand\n",
    "\n",
    "* The following code uses the trained model to check the deviation for each picture.\n",
    "* The evaluation takes the periodic character of the results into account (dev1 ... dev2).\n",
    "* Images, that have a bigger deviation as the parameter \"deviation_max_list\" are printed in a list to check the picture and labeling itself"
   ]
  },
  {
   "cell_type": "code",
   "execution_count": 8,
   "metadata": {},
   "outputs": [
    {
     "name": "stdout",
     "output_type": "stream",
     "text": [
      "data_resize_all\\0.0_Lfd-0045_zeiger4_2020-04-29_12-43-02.jpg 0.0 -0.03851659169571775 0.03851659169571775\n",
      "data_resize_all\\0.1_Lfd-0054_zeiger2_2019-06-06T115009.jpg 0.01 -0.022695895669021082 0.032695895669021084\n",
      "data_resize_all\\0.1_Lfd-0055_zeiger2_2019-06-06T120009.jpg 0.01 -0.02146491059629485 0.03146491059629485\n",
      "data_resize_all\\0.2_Lfd-0094_zeiger2_2019-11-19_02-07-03.jpg 0.02 0.05053315931752626 -0.030533159317526263\n",
      "data_resize_all\\0.2_Lfd-0095_zeiger2_2019-11-19_10-57-03.jpg 0.02 0.05152062917359393 -0.031520629173593925\n",
      "data_resize_all\\0.2_Lfd-0121_zeiger4_2020-04-29_14-32-02.jpg 0.02 -0.012705196543143615 0.03270519654314362\n",
      "data_resize_all\\0.3_Lfd-0128_zeiger2_2019-06-02T110009.jpg 0.03 -0.0006796862352890232 0.030679686235289022\n",
      "data_resize_all\\0.3_Lfd-0144_zeiger4_2020-04-29_13-50-02.jpg 0.03 -0.010006096696428268 0.04000609669642827\n",
      "data_resize_all\\1.6_Lfd-0650_zeiger1_2020-06-15_17-13-42.jpg 0.16 0.12796782502292475 0.03203217497707525\n",
      "data_resize_all\\1.8_Lfd-0812_zeiger4_2020-04-29_13-08-01.jpg 0.18 0.21033093230361904 -0.03033093230361905\n",
      "data_resize_all\\1.8_Lfd-0813_zeiger4_2020-04-29_14-01-02.jpg 0.18 0.21606571091274332 -0.036065710912743326\n",
      "data_resize_all\\2.2_Lfd-1018_zeiger1_2019-06-01T185013.jpg 0.22000000000000003 0.2503391637946703 -0.030339163794670276\n",
      "data_resize_all\\2.2_Lfd-1019_zeiger1_2019-06-01T190020.jpg 0.22000000000000003 0.25186639409308514 -0.031866394093085115\n",
      "data_resize_all\\2.2_Lfd-1021_zeiger1_2019-06-01T192013.jpg 0.22000000000000003 0.25254595997000606 -0.03254595997000603\n",
      "data_resize_all\\2.2_Lfd-1025_zeiger1_2019-06-01T200012.jpg 0.22000000000000003 0.2569866454043852 -0.03698664540438518\n",
      "data_resize_all\\2.6_Lfd-1257_zeiger4_2019-11-19_18-42-04.jpg 0.26 0.29376321083514034 -0.033763210835140334\n",
      "data_resize_all\\3.3_Lfd-1615_zeiger2_2020-04-29_12-41-02.jpg 0.32999999999999996 0.2995216484606396 0.03047835153936035\n",
      "data_resize_all\\3.5_Lfd-1745_zeiger4_2020-04-29_11-27-02.jpg 0.35 0.3160977207208574 0.03390227927914258\n",
      "data_resize_all\\3.7_Lfd-1788_zeiger4_2020-04-29_14-19-02.jpg 0.37 0.33874547067101035 0.031254529328989644\n",
      "data_resize_all\\4.8_Lfd-2305_zeiger1_2019-06-02T091009.jpg 0.48 0.44884546390693864 0.031154536093061347\n",
      "data_resize_all\\5.1_Lfd-2486_zeiger3_2019-06-06T184009.jpg 0.51 0.5445132775445902 -0.034513277544590215\n",
      "data_resize_all\\5.1_Lfd-2488_zeiger3_2019-06-06T190009.jpg 0.51 0.545346295004864 -0.03534629500486397\n",
      "data_resize_all\\5.2_Lfd-2511_zeiger2_2019-06-02T180009.jpg 0.52 0.5637697816535887 -0.04376978165358869\n",
      "data_resize_all\\5.2_Lfd-2529_zeiger3_2019-06-05T034009.jpg 0.52 0.5547346556375143 -0.03473465563751432\n",
      "data_resize_all\\5.2_Lfd-2531_zeiger3_2019-06-05T040009.jpg 0.52 0.5524997797955907 -0.03249977979559071\n",
      "data_resize_all\\5.2_Lfd-2534_zeiger3_2019-06-05T174009.jpg 0.52 0.5518000648606183 -0.03180006486061826\n",
      "data_resize_all\\5.3_Lfd-2584_zeiger2_2019-06-03T135009.jpg 0.53 0.5622811419239844 -0.03228114192398435\n",
      "data_resize_all\\5.3_Lfd-2585_zeiger2_2019-06-03T140009.jpg 0.53 0.5636359858368473 -0.03363598583684724\n",
      "data_resize_all\\5.3_Lfd-2586_zeiger2_2019-06-03T141009.jpg 0.53 0.5608246420289746 -0.030824642028974614\n",
      "data_resize_all\\5.3_Lfd-2613_zeiger4_2019-11-19_06-22-03.jpg 0.53 0.5642870925922264 -0.0342870925922264\n",
      "data_resize_all\\5.3_Lfd-2614_zeiger4_2019-11-19_09-27-03.jpg 0.53 0.565669029588797 -0.03566902958879692\n",
      "data_resize_all\\5.4_Lfd-2624_zeiger3_2019-06-03T113009.jpg 0.54 0.5710441987381201 -0.031044198738120032\n",
      "data_resize_all\\5.5_Lfd-2644_zeiger4_2019-11-19_08-22-03.jpg 0.55 0.5837266457709813 -0.03372664577098128\n",
      "data_resize_all\\5.6_Lfd-2660_zeiger2_2019-06-03T153009.jpg 0.5599999999999999 0.5934619420679728 -0.033461942067972816\n",
      "data_resize_all\\6.0_Lfd-2934_zeiger2_2019-11-19_06-22-03.jpg 0.6 0.5676578668386185 0.03234213316138146\n",
      "data_resize_all\\6.2_Lfd-2997_zeiger1_2019-09-14_20-20-13.jpg 0.62 0.6522807232334638 -0.03228072323346376\n",
      "data_resize_all\\6.8_Lfd-3315_zeiger1_2019-11-19_02-27-03.jpg 0.6799999999999999 0.6458920678477971 0.03410793215220287\n",
      "data_resize_all\\7.9_Lfd-3932_zeiger4_2019-06-02T105009.jpg 0.79 0.822732628457831 -0.03273262845783098\n",
      "data_resize_all\\7.9_Lfd-3933_zeiger4_2019-06-04T180009.jpg 0.79 0.8264618927719103 -0.036461892771910254\n",
      "data_resize_all\\8.4_Lfd-4117_zeiger4_2019-06-05T044009.jpg 0.8400000000000001 0.8851518015486866 -0.04515180154868648\n",
      "data_resize_all\\8.5_Lfd-4150_zeiger4_2019-06-02T102009.jpg 0.85 0.8915089621731805 -0.041508962173180564\n",
      "data_resize_all\\8.5_Lfd-4151_zeiger4_2019-06-02T191009.jpg 0.85 0.8853406467928635 -0.03534064679286353\n",
      "data_resize_all\\8.5_Lfd-4152_zeiger4_2019-06-02T192009.jpg 0.85 0.8839218931793918 -0.03392189317939187\n",
      "data_resize_all\\8.5_Lfd-4153_zeiger4_2019-06-02T193009.jpg 0.85 0.8887473933688843 -0.03874739336888433\n",
      "data_resize_all\\8.5_Lfd-4154_zeiger4_2019-06-02T194008.jpg 0.85 0.8865641518598113 -0.03656415185981132\n",
      "data_resize_all\\8.5_Lfd-4155_zeiger4_2019-06-02T195009.jpg 0.85 0.8871898066741584 -0.03718980667415839\n",
      "data_resize_all\\8.5_Lfd-4156_zeiger4_2019-06-02T200009.jpg 0.85 0.8857354886451334 -0.03573548864513343\n",
      "data_resize_all\\8.5_Lfd-4162_zeiger4_2019-06-03T152009.jpg 0.85 0.8802426884601044 -0.030242688460104472\n",
      "data_resize_all\\8.5_Lfd-4172_zeiger4_2019-11-19_15-47-04.jpg 0.85 0.8854635332796806 -0.03546353327968066\n",
      "data_resize_all\\8.5_Lfd-4173_zeiger4_2019-11-19_15-52-04.jpg 0.85 0.893254122937988 -0.04325412293798803\n",
      "data_resize_all\\8.5_Lfd-4174_zeiger4_2019-11-19_15-57-04.jpg 0.85 0.8895945265534428 -0.039594526553442866\n",
      "data_resize_all\\8.5_Lfd-4175_zeiger4_2019-11-19_16-02-04.jpg 0.85 0.8962765385639617 -0.046276538563961744\n",
      "data_resize_all\\8.5_Lfd-4176_zeiger4_2019-11-19_16-07-04.jpg 0.85 0.8962828280298224 -0.04628282802982242\n",
      "data_resize_all\\8.5_Lfd-4177_zeiger4_2019-11-19_16-12-04.jpg 0.85 0.8887850163275625 -0.03878501632756248\n",
      "data_resize_all\\8.5_Lfd-4178_zeiger4_2019-11-19_16-17-04.jpg 0.85 0.8875028759838649 -0.037502875983864925\n",
      "data_resize_all\\8.5_Lfd-4179_zeiger4_2019-11-19_16-22-04.jpg 0.85 0.8817189674445858 -0.0317189674445858\n",
      "data_resize_all\\8.5_Lfd-4180_zeiger4_2019-11-19_16-27-04.jpg 0.85 0.891351070966867 -0.041351070966867076\n",
      "data_resize_all\\8.5_Lfd-4181_zeiger4_2019-11-19_16-32-04.jpg 0.85 0.8888170802711661 -0.03881708027116615\n",
      "data_resize_all\\8.5_Lfd-4182_zeiger4_2019-11-19_16-37-04.jpg 0.85 0.8937648029013064 -0.043764802901306465\n",
      "data_resize_all\\8.5_Lfd-4183_zeiger4_2019-11-19_16-42-04.jpg 0.85 0.8873981748757129 -0.03739817487571295\n",
      "data_resize_all\\8.5_Lfd-4186_zeiger4_2019-11-19_16-57-04.jpg 0.85 0.8924669151770225 -0.0424669151770225\n",
      "data_resize_all\\8.5_Lfd-4187_zeiger4_2019-11-19_17-07-04.jpg 0.85 0.8938480553181898 -0.043848055318189805\n",
      "data_resize_all\\8.5_Lfd-4188_zeiger4_2019-11-19_17-17-04.jpg 0.85 0.8919575727924165 -0.04195757279241652\n",
      "data_resize_all\\8.5_Lfd-4189_zeiger4_2019-11-19_17-22-04.jpg 0.85 0.8866375858797628 -0.036637585879762846\n",
      "data_resize_all\\8.6_Lfd-4201_zeiger4_2019-11-19_06-37-03.jpg 0.86 0.9031693757468616 -0.04316937574686164\n",
      "data_resize_all\\8.6_Lfd-4202_zeiger4_2019-11-19_06-42-03.jpg 0.86 0.8946030283808224 -0.03460302838082241\n",
      "data_resize_all\\8.6_Lfd-4203_zeiger4_2019-11-19_06-47-03.jpg 0.86 0.8960496055287881 -0.03604960552878811\n",
      "data_resize_all\\8.6_Lfd-4205_zeiger4_2019-11-19_17-12-04.jpg 0.86 0.8917681868249302 -0.03176818682493021\n",
      "data_resize_all\\9.5_Lfd-4675_zeiger4_2020-04-29_13-10-02.jpg 0.95 0.9107424523392256 0.03925754766077438\n",
      "data_resize_all\\9.8_Lfd-4808_zeiger2_2019-11-19_00-52-03.jpg 0.9800000000000001 1.013725567515307 -0.033725567515306865\n",
      "data_resize_all\\9.9_Lfd-4885_zeiger4_2020-04-29_11-52-02.jpg 0.99 0.9598438142792403 0.03015618572075973\n",
      "data_resize_all\\9.9_Lfd-4887_zeiger4_2020-04-29_14-40-02.jpg 0.99 0.9578679449024678 0.03213205509753214\n"
     ]
    }
   ],
   "source": [
    "Input_dir='data_resize_all'\n",
    "#Input_dir='test_result'\n",
    "files = glob.glob(Input_dir + '/*.*')\n",
    "res = []\n",
    "i = 0\n",
    "deviation_max_list = 0.03\n",
    "\n",
    "for aktfile in files:\n",
    "    base = os.path.basename(aktfile)\n",
    "    target = (float(base[0:3])) / 10\n",
    "    target_sin = math.sin(target * math.pi * 2)\n",
    "    target_cos = math.cos(target * math.pi * 2)\n",
    "\n",
    "    test_image = Image.open(aktfile)\n",
    "    test_image = np.array(test_image, dtype=\"float32\")\n",
    "    img = np.reshape(test_image,[1,32,32,3])\n",
    "    classes = model.predict(img)\n",
    "    \n",
    "    out_sin = classes[0][0]  \n",
    "    out_cos = classes[0][1]\n",
    "    out_target = (np.arctan2(out_sin, out_cos)/(2*math.pi)) % 1\n",
    "\n",
    "    dev_sin = target_sin - out_sin\n",
    "    dev_cos = target_cos - out_cos\n",
    "    dev_target = target - out_target\n",
    "    \n",
    "    if abs(dev_target + 1) < abs(dev_target):\n",
    "        out_target = out_target - 1\n",
    "        dev_target = target - out_target\n",
    "    else:\n",
    "        if abs(dev_target - 1) < abs(dev_target):\n",
    "            out_target = out_target + 1\n",
    "            dev_target = target - out_target\n",
    "               \n",
    "    res.append(np.array([target, out_target, dev_target, out_sin, out_cos, i]))\n",
    "    if abs(dev_target) > deviation_max_list:\n",
    "        print(aktfile + \" \" + str(target) + \" \" + str(out_target) +  \" \" + str(dev_target))\n",
    "    i+=1\n",
    "\n",
    "res = np.asarray(res)\n",
    "res_step_1 = res"
   ]
  },
  {
   "cell_type": "markdown",
   "metadata": {},
   "source": [
    "## Results"
   ]
  },
  {
   "cell_type": "code",
   "execution_count": 9,
   "metadata": {},
   "outputs": [
    {
     "data": {
      "image/png": "[encoded data removed]",
      "text/plain": [
       "<Figure size 432x288 with 1 Axes>"
      ]
     },
     "metadata": {
      "needs_background": "light"
     },
     "output_type": "display_data"
    }
   ],
   "source": [
    "plt.plot(res[:,3])\n",
    "plt.plot(res[:,4])\n",
    "plt.title('Result')\n",
    "plt.ylabel('value')\n",
    "plt.xlabel('#Picture')\n",
    "plt.legend(['sin', 'cos'], loc='lower left')\n",
    "plt.show()"
   ]
  },
  {
   "cell_type": "code",
   "execution_count": 10,
   "metadata": {},
   "outputs": [
    {
     "data": {
      "image/png": "[encoded data removed]",
      "text/plain": [
       "<Figure size 432x288 with 1 Axes>"
      ]
     },
     "metadata": {
      "needs_background": "light"
     },
     "output_type": "display_data"
    }
   ],
   "source": [
    "plt.plot(res[:,0])\n",
    "plt.plot(res[:,1])\n",
    "plt.title('Result')\n",
    "plt.ylabel('Counter Value')\n",
    "plt.xlabel('#Picture')\n",
    "plt.legend(['Orginal', 'Prediction'], loc='upper left')\n",
    "plt.show()"
   ]
  },
  {
   "cell_type": "markdown",
   "metadata": {},
   "source": [
    "### Deviation from Expected Value"
   ]
  },
  {
   "cell_type": "code",
   "execution_count": 11,
   "metadata": {},
   "outputs": [
    {
     "data": {
      "image/png": "[encoded data removed]",
      "text/plain": [
       "<Figure size 432x288 with 1 Axes>"
      ]
     },
     "metadata": {
      "needs_background": "light"
     },
     "output_type": "display_data"
    },
    {
     "name": "stdout",
     "output_type": "stream",
     "text": [
      "[-0.0003  0.0116 -0.0463  0.04  ]\n"
     ]
    }
   ],
   "source": [
    "plt.plot(res[:,2])\n",
    "plt.title('Deviation')\n",
    "plt.ylabel('Deviation from expected value')\n",
    "plt.xlabel('#Picture')\n",
    "plt.legend(['Deviation'], loc='upper left')\n",
    "#plt.ylim(-0.3, 0.3)\n",
    "plt.show()\n",
    "\n",
    "statistic = np.array([np.mean(res[:,2]), np.std(res[:,2]), np.min(res[:,2]), np.max(res[:,2])])\n",
    "print(statistic)"
   ]
  },
  {
   "cell_type": "markdown",
   "metadata": {},
   "source": [
    "### Save the model\n",
    "\n",
    "* Save the model to the file with the \"h5\" file format"
   ]
  },
  {
   "cell_type": "code",
   "execution_count": 12,
   "metadata": {},
   "outputs": [
    {
     "data": {
      "text/plain": [
       "315584"
      ]
     },
     "execution_count": 12,
     "metadata": {},
     "output_type": "execute_result"
    }
   ],
   "source": [
    "# model.save(\"CNN_Analog-Readout_Version-6.2.0.h5\")\n",
    "\n",
    "converter = tf.lite.TFLiteConverter.from_keras_model(model)\n",
    "tflite_model = converter.convert()\n",
    "open(\"CNN_Analog-Readout_Version-6.2.0.tflite\", \"wb\").write(tflite_model)"
   ]
  }
 ],
 "metadata": {
  "kernelspec": {
   "display_name": "Python 3",
   "language": "python",
   "name": "python3"
  },
  "language_info": {
   "codemirror_mode": {
    "name": "ipython",
    "version": 3
   },
   "file_extension": ".py",
   "mimetype": "text/x-python",
   "name": "python",
   "nbconvert_exporter": "python",
   "pygments_lexer": "ipython3",
   "version": "3.6.10"
  }
 },
 "nbformat": 4,
 "nbformat_minor": 2
}
