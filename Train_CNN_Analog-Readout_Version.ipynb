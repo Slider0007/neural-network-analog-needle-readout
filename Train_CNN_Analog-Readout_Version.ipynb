{
 "cells": [
  {
   "cell_type": "markdown",
   "metadata": {},
   "source": [
    "# CNN Training\n",
    "\n",
    "Target of this code is to train a CNN network to extract the needle position of an analog needle device.\n",
    "\n",
    "### Preparing the training\n",
    "* First all libraries are loaded\n",
    "    * It is assumed, that they are installed during the Python setup\n",
    "* matplotlib is set to print the output inline in the jupyter notebook"
   ]
  },
  {
   "cell_type": "code",
   "execution_count": 1,
   "metadata": {
    "scrolled": true
   },
   "outputs": [],
   "source": [
    "import os\n",
    "import tensorflow as tf\n",
    "import matplotlib.pyplot as plt\n",
    "import glob\n",
    "import numpy as np\n",
    "from sklearn.utils import shuffle\n",
    "from tensorflow.python import keras\n",
    "from tensorflow.python.keras import Sequential\n",
    "from tensorflow.python.keras.layers import Dense, InputLayer, Conv2D, MaxPool2D, Flatten, BatchNormalization\n",
    "from tensorflow.keras.preprocessing.image import ImageDataGenerator\n",
    "from sklearn.model_selection import train_test_split\n",
    "import tensorflow.keras.backend as K\n",
    "from tensorflow.keras.callbacks import History \n",
    "import math\n",
    "from PIL import Image \n",
    "\n",
    "loss_ges = np.array([])\n",
    "val_loss_ges = np.array([])\n",
    "\n",
    "%matplotlib inline\n",
    "np.set_printoptions(precision=4)\n",
    "np.set_printoptions(suppress=True)"
   ]
  },
  {
   "cell_type": "markdown",
   "metadata": {},
   "source": [
    "### Load training data\n",
    "* The data is expected in the \"Input_dir\"\n",
    "* Picture size must be 32x32 with 3 color channels (RGB)\n",
    "* The filename contains the informations needed for training in the first 3 digits::\n",
    "* Typical filename: \n",
    "    * x.y-zzzz.jpg \n",
    "    * e.g. \"4.6_Lfd-1406_zeiger3_2019-06-02T050011\"\n",
    "\n",
    "|Place holder | Meaning                     | Usage        |\n",
    "|------------- |-----------------------------|--------------|\n",
    "| **x.y**          | readout value               | **to be learned** |\n",
    "| zzzz        | additional information              | not needed   |\n",
    "\n",
    "* The images are stored in the x_data[]\n",
    "* The expected output for each image in the corresponding y_data[]\n",
    "    * The periodic nature is reflected in a **sin/cos coding**, which allows to restore the angle/counter value with an arctan later on.\n",
    "\n",
    "* The last step is a shuffle (from sklearn.utils) as the filenames are on order due to the encoding of the expected analog readout in the filename "
   ]
  },
  {
   "cell_type": "code",
   "execution_count": 2,
   "metadata": {},
   "outputs": [
    {
     "name": "stdout",
     "output_type": "stream",
     "text": [
      "(3855, 32, 32, 3)\n",
      "(3855, 2)\n"
     ]
    }
   ],
   "source": [
    "Input_dir='data_resize_all'\n",
    "\n",
    "files = glob.glob(Input_dir + '/*.*')\n",
    "x_data = []\n",
    "y_data = []\n",
    "\n",
    "for aktfile in files:\n",
    "    test_image = Image.open(aktfile)\n",
    "    test_image = np.array(test_image, dtype=\"float32\")\n",
    "    test_image = np.reshape(test_image, (32,32,3))\n",
    "    base = os.path.basename(aktfile)\n",
    "    target_number = (float(base[0:3])) / 10\n",
    "    target_sin = math.sin(target_number * math.pi * 2)\n",
    "    target_cos = math.cos(target_number * math.pi * 2)\n",
    "\n",
    "    x_data.append(test_image)\n",
    "    zw = np.array([target_sin, target_cos])\n",
    "    y_data.append(zw)\n",
    "\n",
    "x_data = np.array(x_data)\n",
    "y_data = np.array(y_data)\n",
    "print(x_data.shape)\n",
    "print(y_data.shape)\n",
    "\n",
    "x_data, y_data = shuffle(x_data, y_data)\n",
    "X_train, X_test, y_train, y_test = train_test_split(x_data, y_data, test_size=0.2)"
   ]
  },
  {
   "cell_type": "markdown",
   "metadata": {},
   "source": [
    "### Define the model\n",
    "\n",
    "The layout of the network ist a typcial CNN network with alternating **Conv2D** and **MaxPool2D** layers. Finished after **flattening** with additional **Dense** layer.\n",
    "\n",
    "#### Important\n",
    "* Shape of the input layer: (32, 32, 3)\n",
    "* Shape of the output layer: (2) - sin and cos"
   ]
  },
  {
   "cell_type": "code",
   "execution_count": 3,
   "metadata": {
    "scrolled": true
   },
   "outputs": [
    {
     "name": "stdout",
     "output_type": "stream",
     "text": [
      "Model: \"sequential\"\n",
      "_________________________________________________________________\n",
      "Layer (type)                 Output Shape              Param #   \n",
      "=================================================================\n",
      "batch_normalization (BatchNo (None, 32, 32, 3)         12        \n",
      "_________________________________________________________________\n",
      "conv2d (Conv2D)              (None, 32, 32, 64)        4864      \n",
      "_________________________________________________________________\n",
      "max_pooling2d (MaxPooling2D) (None, 8, 8, 64)          0         \n",
      "_________________________________________________________________\n",
      "conv2d_1 (Conv2D)            (None, 8, 8, 32)          51232     \n",
      "_________________________________________________________________\n",
      "max_pooling2d_1 (MaxPooling2 (None, 2, 2, 32)          0         \n",
      "_________________________________________________________________\n",
      "conv2d_2 (Conv2D)            (None, 2, 2, 32)          9248      \n",
      "_________________________________________________________________\n",
      "max_pooling2d_2 (MaxPooling2 (None, 1, 1, 32)          0         \n",
      "_________________________________________________________________\n",
      "flatten (Flatten)            (None, 32)                0         \n",
      "_________________________________________________________________\n",
      "dense (Dense)                (None, 128)               4224      \n",
      "_________________________________________________________________\n",
      "dense_1 (Dense)              (None, 64)                8256      \n",
      "_________________________________________________________________\n",
      "dense_2 (Dense)              (None, 2)                 130       \n",
      "=================================================================\n",
      "Total params: 77,966\n",
      "Trainable params: 77,960\n",
      "Non-trainable params: 6\n",
      "_________________________________________________________________\n"
     ]
    }
   ],
   "source": [
    "model = Sequential()\n",
    "model.add(BatchNormalization(input_shape=(32,32,3)))\n",
    "model.add(Conv2D(64, (5, 5), input_shape=(32,32,3), padding='same', activation=\"relu\"))\n",
    "model.add(MaxPool2D(pool_size=(4,4)))\n",
    "model.add(Conv2D(32, (5, 5), padding='same', activation=\"relu\"))\n",
    "model.add(MaxPool2D(pool_size=(4,4)))\n",
    "model.add(Conv2D(32, (3, 3), padding='same', activation=\"relu\"))\n",
    "model.add(MaxPool2D(pool_size=(2,2)))\n",
    "model.add(Flatten())\n",
    "model.add(Dense(128,activation=\"relu\"))\n",
    "model.add(Dense(64,activation=\"relu\"))\n",
    "model.add(Dense(2))\n",
    "model.summary()\n",
    "\n",
    "model.compile(loss=keras.losses.mean_squared_error, optimizer=tf.keras.optimizers.Adadelta(learning_rate=1.0, rho=0.95), metrics = [\"accuracy\"])"
   ]
  },
  {
   "cell_type": "markdown",
   "metadata": {},
   "source": [
    "# Training\n",
    "The input pictures are randomly scattered for brightness and pixel shift variations. These is implemented with a ImageDataGenerator.\n",
    "\n",
    "\n",
    "The training is splitted into two steps:\n",
    "1. Variation of the brightness only\n",
    "2. Variation of brightness and Pixel Shift"
   ]
  },
  {
   "cell_type": "markdown",
   "metadata": {},
   "source": [
    "### Step 1: Brigthness scattering only"
   ]
  },
  {
   "cell_type": "code",
   "execution_count": 4,
   "metadata": {},
   "outputs": [
    {
     "name": "stdout",
     "output_type": "stream",
     "text": [
      "Epoch 1/30\n",
      "386/386 [==============================] - 20s 52ms/step - loss: 0.1714 - accuracy: 0.8450 - val_loss: 0.0124 - val_accuracy: 0.9767\n",
      "Epoch 2/30\n",
      "386/386 [==============================] - 20s 53ms/step - loss: 0.0154 - accuracy: 0.9647 - val_loss: 0.0203 - val_accuracy: 0.9831\n",
      "Epoch 3/30\n",
      "386/386 [==============================] - 20s 52ms/step - loss: 0.0105 - accuracy: 0.9643 - val_loss: 0.0052 - val_accuracy: 0.9546\n",
      "Epoch 4/30\n",
      "386/386 [==============================] - 22s 57ms/step - loss: 0.0077 - accuracy: 0.9711 - val_loss: 0.0063 - val_accuracy: 0.9767\n",
      "Epoch 5/30\n",
      "386/386 [==============================] - 20s 53ms/step - loss: 0.0057 - accuracy: 0.9724 - val_loss: 0.0050 - val_accuracy: 0.9922\n",
      "Epoch 6/30\n",
      "386/386 [==============================] - 22s 56ms/step - loss: 0.0042 - accuracy: 0.9718 - val_loss: 0.0064 - val_accuracy: 0.9883\n",
      "Epoch 7/30\n",
      "386/386 [==============================] - 21s 54ms/step - loss: 0.0037 - accuracy: 0.9754 - val_loss: 0.0028 - val_accuracy: 0.9870\n",
      "Epoch 8/30\n",
      "386/386 [==============================] - 22s 57ms/step - loss: 0.0029 - accuracy: 0.9734 - val_loss: 0.0027 - val_accuracy: 0.9857\n",
      "Epoch 9/30\n",
      "386/386 [==============================] - 19s 50ms/step - loss: 0.0024 - accuracy: 0.9809 - val_loss: 0.0017 - val_accuracy: 0.9883\n",
      "Epoch 10/30\n",
      "386/386 [==============================] - 20s 51ms/step - loss: 0.0021 - accuracy: 0.9792 - val_loss: 0.0023 - val_accuracy: 0.9767\n",
      "Epoch 11/30\n",
      "386/386 [==============================] - 28s 71ms/step - loss: 0.0019 - accuracy: 0.9792 - val_loss: 0.0018 - val_accuracy: 0.9922\n",
      "Epoch 12/30\n",
      "386/386 [==============================] - 30s 77ms/step - loss: 0.0016 - accuracy: 0.9841 - val_loss: 0.0032 - val_accuracy: 0.9896\n",
      "Epoch 13/30\n",
      "386/386 [==============================] - 32s 82ms/step - loss: 0.0016 - accuracy: 0.9815 - val_loss: 0.0013 - val_accuracy: 0.9935\n",
      "Epoch 14/30\n",
      "386/386 [==============================] - 38s 98ms/step - loss: 0.0014 - accuracy: 0.9857 - val_loss: 0.0014 - val_accuracy: 0.9896\n",
      "Epoch 15/30\n",
      "386/386 [==============================] - 37s 95ms/step - loss: 0.0013 - accuracy: 0.9844 - val_loss: 0.0020 - val_accuracy: 0.9857\n",
      "Epoch 16/30\n",
      "386/386 [==============================] - 35s 92ms/step - loss: 0.0012 - accuracy: 0.9857 - val_loss: 0.0016 - val_accuracy: 0.9948\n",
      "Epoch 17/30\n",
      "386/386 [==============================] - 34s 88ms/step - loss: 0.0013 - accuracy: 0.9838 - val_loss: 0.0019 - val_accuracy: 0.9780\n",
      "Epoch 18/30\n",
      "386/386 [==============================] - 33s 87ms/step - loss: 0.0011 - accuracy: 0.9857 - val_loss: 0.0013 - val_accuracy: 0.9883\n",
      "Epoch 19/30\n",
      "386/386 [==============================] - 25s 66ms/step - loss: 0.0011 - accuracy: 0.9838 - val_loss: 0.0013 - val_accuracy: 0.9896\n",
      "Epoch 20/30\n",
      "386/386 [==============================] - 23s 61ms/step - loss: 1.0000e-03 - accuracy: 0.9857 - val_loss: 0.0015 - val_accuracy: 0.9909\n",
      "Epoch 21/30\n",
      "386/386 [==============================] - 22s 58ms/step - loss: 9.4267e-04 - accuracy: 0.9857 - val_loss: 0.0017 - val_accuracy: 0.9909\n",
      "Epoch 22/30\n",
      "386/386 [==============================] - 20s 51ms/step - loss: 9.2210e-04 - accuracy: 0.9874 - val_loss: 8.5681e-04 - val_accuracy: 0.9948\n",
      "Epoch 23/30\n",
      "386/386 [==============================] - 21s 56ms/step - loss: 9.0627e-04 - accuracy: 0.9861 - val_loss: 9.7902e-04 - val_accuracy: 0.9948\n",
      "Epoch 24/30\n",
      "386/386 [==============================] - 20s 51ms/step - loss: 8.6896e-04 - accuracy: 0.9857 - val_loss: 0.0012 - val_accuracy: 0.9857\n",
      "Epoch 25/30\n",
      "386/386 [==============================] - 20s 51ms/step - loss: 8.2311e-04 - accuracy: 0.9874 - val_loss: 0.0014 - val_accuracy: 0.9857\n",
      "Epoch 26/30\n",
      "386/386 [==============================] - 20s 51ms/step - loss: 7.9206e-04 - accuracy: 0.9870 - val_loss: 8.3599e-04 - val_accuracy: 0.9961\n",
      "Epoch 27/30\n",
      "386/386 [==============================] - 24s 61ms/step - loss: 7.6230e-04 - accuracy: 0.9883 - val_loss: 0.0013 - val_accuracy: 0.9909\n",
      "Epoch 28/30\n",
      "386/386 [==============================] - 20s 51ms/step - loss: 7.7799e-04 - accuracy: 0.9854 - val_loss: 0.0013 - val_accuracy: 0.9935\n",
      "Epoch 29/30\n",
      "386/386 [==============================] - 20s 53ms/step - loss: 6.9599e-04 - accuracy: 0.9906 - val_loss: 0.0010 - val_accuracy: 0.9961\n",
      "Epoch 30/30\n",
      "386/386 [==============================] - 20s 51ms/step - loss: 7.1050e-04 - accuracy: 0.9880 - val_loss: 0.0012 - val_accuracy: 0.9844\n"
     ]
    }
   ],
   "source": [
    "Batch_Size = 8\n",
    "Epoch_Anz = 30\n",
    "Shift_Range = 0\n",
    "Brightness_Range = 0.3\n",
    "\n",
    "datagen = ImageDataGenerator(width_shift_range=[-Shift_Range,Shift_Range], height_shift_range=[-Shift_Range,Shift_Range],brightness_range=[1-Brightness_Range,1+Brightness_Range])\n",
    "\n",
    "train_iterator = datagen.flow(X_train, y_train, batch_size=Batch_Size)\n",
    "validation_iterator = datagen.flow(X_test, y_test, batch_size=Batch_Size)\n",
    "\n",
    "history = model.fit_generator(train_iterator, validation_data = validation_iterator, epochs = Epoch_Anz)"
   ]
  },
  {
   "cell_type": "markdown",
   "metadata": {},
   "source": [
    "### Step 1: Learing result\n",
    " \n",
    "* Visualization of the training and validation results"
   ]
  },
  {
   "cell_type": "code",
   "execution_count": 5,
   "metadata": {},
   "outputs": [
    {
     "data": {
      "image/png": "[encoded data removed]",
      "text/plain": [
       "<Figure size 432x288 with 1 Axes>"
      ]
     },
     "metadata": {
      "needs_background": "light"
     },
     "output_type": "display_data"
    }
   ],
   "source": [
    "loss_ges = np.append(loss_ges, history.history['loss'])\n",
    "val_loss_ges = np.append(val_loss_ges, history.history['val_loss'])\n",
    "\n",
    "plt.semilogy(history.history['loss'])\n",
    "plt.semilogy(history.history['val_loss'])\n",
    "plt.title('model loss')\n",
    "plt.ylabel('loss')\n",
    "plt.xlabel('epoch')\n",
    "plt.legend(['train','eval'], loc='upper left')\n",
    "plt.show()"
   ]
  },
  {
   "cell_type": "markdown",
   "metadata": {},
   "source": [
    "### Step 2: Brigthness and Pixel Shift scattering\n",
    "Here a higher number of epochs is used to reach the minimum loss function"
   ]
  },
  {
   "cell_type": "code",
   "execution_count": 6,
   "metadata": {},
   "outputs": [
    {
     "name": "stdout",
     "output_type": "stream",
     "text": [
      "Epoch 1/80\n",
      "386/386 [==============================] - 20s 51ms/step - loss: 0.0326 - accuracy: 0.9507 - val_loss: 0.0094 - val_accuracy: 0.9689\n",
      "Epoch 2/80\n",
      "386/386 [==============================] - 20s 52ms/step - loss: 0.0058 - accuracy: 0.9715 - val_loss: 0.0037 - val_accuracy: 0.9780\n",
      "Epoch 3/80\n",
      "386/386 [==============================] - 20s 52ms/step - loss: 0.0042 - accuracy: 0.9744 - val_loss: 0.0032 - val_accuracy: 0.9896\n",
      "Epoch 4/80\n",
      "386/386 [==============================] - 20s 52ms/step - loss: 0.0036 - accuracy: 0.9721 - val_loss: 0.0029 - val_accuracy: 0.9780\n",
      "Epoch 5/80\n",
      "386/386 [==============================] - 22s 56ms/step - loss: 0.0029 - accuracy: 0.9763 - val_loss: 0.0026 - val_accuracy: 0.9909\n",
      "Epoch 6/80\n",
      "386/386 [==============================] - 21s 54ms/step - loss: 0.0024 - accuracy: 0.9799 - val_loss: 0.0028 - val_accuracy: 0.9857\n",
      "Epoch 7/80\n",
      "386/386 [==============================] - 20s 52ms/step - loss: 0.0024 - accuracy: 0.9809 - val_loss: 0.0032 - val_accuracy: 0.9922\n",
      "Epoch 8/80\n",
      "386/386 [==============================] - 22s 56ms/step - loss: 0.0022 - accuracy: 0.9802 - val_loss: 0.0031 - val_accuracy: 0.9831\n",
      "Epoch 9/80\n",
      "386/386 [==============================] - 21s 54ms/step - loss: 0.0021 - accuracy: 0.9802 - val_loss: 0.0019 - val_accuracy: 0.9909\n",
      "Epoch 10/80\n",
      "386/386 [==============================] - 20s 52ms/step - loss: 0.0019 - accuracy: 0.9818 - val_loss: 0.0022 - val_accuracy: 0.9870\n",
      "Epoch 11/80\n",
      "386/386 [==============================] - 20s 51ms/step - loss: 0.0017 - accuracy: 0.9818 - val_loss: 0.0019 - val_accuracy: 0.9909\n",
      "Epoch 12/80\n",
      "386/386 [==============================] - 20s 52ms/step - loss: 0.0018 - accuracy: 0.9805 - val_loss: 0.0018 - val_accuracy: 0.9896\n",
      "Epoch 13/80\n",
      "386/386 [==============================] - 20s 52ms/step - loss: 0.0016 - accuracy: 0.9818 - val_loss: 0.0026 - val_accuracy: 0.9857\n",
      "Epoch 14/80\n",
      "386/386 [==============================] - 20s 52ms/step - loss: 0.0015 - accuracy: 0.9799 - val_loss: 0.0017 - val_accuracy: 0.9896\n",
      "Epoch 15/80\n",
      "386/386 [==============================] - 20s 51ms/step - loss: 0.0015 - accuracy: 0.9828 - val_loss: 0.0014 - val_accuracy: 0.9909\n",
      "Epoch 16/80\n",
      "386/386 [==============================] - 20s 52ms/step - loss: 0.0015 - accuracy: 0.9815 - val_loss: 0.0017 - val_accuracy: 0.9883\n",
      "Epoch 17/80\n",
      "386/386 [==============================] - 20s 51ms/step - loss: 0.0013 - accuracy: 0.9809 - val_loss: 0.0013 - val_accuracy: 0.9883\n",
      "Epoch 18/80\n",
      "386/386 [==============================] - 20s 52ms/step - loss: 0.0012 - accuracy: 0.9825 - val_loss: 0.0019 - val_accuracy: 0.9844\n",
      "Epoch 19/80\n",
      "386/386 [==============================] - 20s 51ms/step - loss: 0.0014 - accuracy: 0.9792 - val_loss: 0.0013 - val_accuracy: 0.9844\n",
      "Epoch 20/80\n",
      "386/386 [==============================] - 23s 61ms/step - loss: 0.0012 - accuracy: 0.9838 - val_loss: 0.0013 - val_accuracy: 0.9909\n",
      "Epoch 21/80\n",
      "386/386 [==============================] - 21s 53ms/step - loss: 0.0012 - accuracy: 0.9841 - val_loss: 0.0013 - val_accuracy: 0.9909\n",
      "Epoch 22/80\n",
      "386/386 [==============================] - 21s 53ms/step - loss: 0.0012 - accuracy: 0.9825 - val_loss: 0.0017 - val_accuracy: 0.9818\n",
      "Epoch 23/80\n",
      "386/386 [==============================] - 21s 54ms/step - loss: 0.0011 - accuracy: 0.9841 - val_loss: 0.0013 - val_accuracy: 0.9896\n",
      "Epoch 24/80\n",
      "386/386 [==============================] - 21s 55ms/step - loss: 0.0011 - accuracy: 0.9851 - val_loss: 0.0014 - val_accuracy: 0.9870\n",
      "Epoch 25/80\n",
      "386/386 [==============================] - 20s 53ms/step - loss: 0.0011 - accuracy: 0.9864 - val_loss: 0.0012 - val_accuracy: 0.9909\n",
      "Epoch 26/80\n",
      "386/386 [==============================] - 21s 54ms/step - loss: 0.0010 - accuracy: 0.9835 - val_loss: 0.0013 - val_accuracy: 0.9922\n",
      "Epoch 27/80\n",
      "386/386 [==============================] - 20s 52ms/step - loss: 0.0010 - accuracy: 0.9870 - val_loss: 0.0014 - val_accuracy: 0.9883\n",
      "Epoch 28/80\n",
      "386/386 [==============================] - 21s 54ms/step - loss: 0.0011 - accuracy: 0.9838 - val_loss: 0.0010 - val_accuracy: 0.9909\n",
      "Epoch 29/80\n",
      "386/386 [==============================] - 21s 54ms/step - loss: 0.0010 - accuracy: 0.9838 - val_loss: 0.0012 - val_accuracy: 0.9870\n",
      "Epoch 30/80\n",
      "386/386 [==============================] - 22s 57ms/step - loss: 9.3653e-04 - accuracy: 0.9848 - val_loss: 0.0013 - val_accuracy: 0.9909\n",
      "Epoch 31/80\n",
      "386/386 [==============================] - 20s 52ms/step - loss: 9.6872e-04 - accuracy: 0.9828 - val_loss: 0.0012 - val_accuracy: 0.9935\n",
      "Epoch 32/80\n",
      "386/386 [==============================] - 20s 52ms/step - loss: 8.7274e-04 - accuracy: 0.9864 - val_loss: 0.0015 - val_accuracy: 0.9909\n",
      "Epoch 33/80\n",
      "386/386 [==============================] - 20s 52ms/step - loss: 9.3330e-04 - accuracy: 0.9864 - val_loss: 0.0011 - val_accuracy: 0.9844\n",
      "Epoch 34/80\n",
      "386/386 [==============================] - 21s 54ms/step - loss: 8.6985e-04 - accuracy: 0.9864 - val_loss: 0.0010 - val_accuracy: 0.9883\n",
      "Epoch 35/80\n",
      "386/386 [==============================] - 20s 52ms/step - loss: 8.1562e-04 - accuracy: 0.9890 - val_loss: 0.0012 - val_accuracy: 0.9818\n",
      "Epoch 36/80\n",
      "386/386 [==============================] - 20s 53ms/step - loss: 8.6939e-04 - accuracy: 0.9896 - val_loss: 0.0012 - val_accuracy: 0.9818\n",
      "Epoch 37/80\n",
      "386/386 [==============================] - 20s 53ms/step - loss: 8.5971e-04 - accuracy: 0.9893 - val_loss: 0.0011 - val_accuracy: 0.9909\n",
      "Epoch 38/80\n",
      "386/386 [==============================] - 21s 55ms/step - loss: 8.3768e-04 - accuracy: 0.9851 - val_loss: 0.0010 - val_accuracy: 0.9935\n",
      "Epoch 39/80\n",
      "386/386 [==============================] - 20s 53ms/step - loss: 8.0702e-04 - accuracy: 0.9887 - val_loss: 0.0011 - val_accuracy: 0.9922\n",
      "Epoch 40/80\n",
      "386/386 [==============================] - 21s 53ms/step - loss: 7.8378e-04 - accuracy: 0.9883 - val_loss: 0.0013 - val_accuracy: 0.9883\n",
      "Epoch 41/80\n",
      "386/386 [==============================] - 24s 62ms/step - loss: 8.1007e-04 - accuracy: 0.9857 - val_loss: 0.0010 - val_accuracy: 0.9922\n",
      "Epoch 42/80\n",
      "386/386 [==============================] - 21s 53ms/step - loss: 8.1858e-04 - accuracy: 0.9880 - val_loss: 0.0012 - val_accuracy: 0.9922\n",
      "Epoch 43/80\n",
      "386/386 [==============================] - 20s 53ms/step - loss: 8.0386e-04 - accuracy: 0.9854 - val_loss: 0.0013 - val_accuracy: 0.9870\n",
      "Epoch 44/80\n",
      "386/386 [==============================] - 21s 54ms/step - loss: 7.6005e-04 - accuracy: 0.9835 - val_loss: 0.0010 - val_accuracy: 0.9896\n",
      "Epoch 45/80\n",
      "386/386 [==============================] - 22s 56ms/step - loss: 7.6253e-04 - accuracy: 0.9887 - val_loss: 9.9381e-04 - val_accuracy: 0.9935\n",
      "Epoch 46/80\n",
      "386/386 [==============================] - 21s 56ms/step - loss: 7.4232e-04 - accuracy: 0.9870 - val_loss: 0.0011 - val_accuracy: 0.9922\n",
      "Epoch 47/80\n",
      "386/386 [==============================] - 22s 57ms/step - loss: 7.1583e-04 - accuracy: 0.9861 - val_loss: 9.4297e-04 - val_accuracy: 0.9948\n",
      "Epoch 48/80\n",
      "386/386 [==============================] - 21s 54ms/step - loss: 7.5682e-04 - accuracy: 0.9861 - val_loss: 0.0013 - val_accuracy: 0.9922\n",
      "Epoch 49/80\n",
      "386/386 [==============================] - 21s 56ms/step - loss: 7.1474e-04 - accuracy: 0.9857 - val_loss: 0.0014 - val_accuracy: 0.9883\n",
      "Epoch 50/80\n",
      "386/386 [==============================] - 21s 54ms/step - loss: 6.9576e-04 - accuracy: 0.9880 - val_loss: 0.0010 - val_accuracy: 0.9844\n",
      "Epoch 51/80\n",
      "386/386 [==============================] - 21s 54ms/step - loss: 7.1005e-04 - accuracy: 0.9867 - val_loss: 0.0011 - val_accuracy: 0.9857\n",
      "Epoch 52/80\n",
      "386/386 [==============================] - 20s 53ms/step - loss: 6.6996e-04 - accuracy: 0.9877 - val_loss: 9.8923e-04 - val_accuracy: 0.9922\n",
      "Epoch 53/80\n",
      "386/386 [==============================] - 21s 54ms/step - loss: 6.3542e-04 - accuracy: 0.9880 - val_loss: 0.0011 - val_accuracy: 0.9857\n",
      "Epoch 54/80\n",
      "386/386 [==============================] - 21s 54ms/step - loss: 6.8850e-04 - accuracy: 0.9867 - val_loss: 9.1384e-04 - val_accuracy: 0.9935\n",
      "Epoch 55/80\n",
      "386/386 [==============================] - 21s 54ms/step - loss: 6.4712e-04 - accuracy: 0.9867 - val_loss: 9.5351e-04 - val_accuracy: 0.9909\n",
      "Epoch 56/80\n"
     ]
    },
    {
     "name": "stdout",
     "output_type": "stream",
     "text": [
      "386/386 [==============================] - 21s 53ms/step - loss: 6.5786e-04 - accuracy: 0.9883 - val_loss: 0.0010 - val_accuracy: 0.9922\n",
      "Epoch 57/80\n",
      "386/386 [==============================] - 21s 54ms/step - loss: 6.9125e-04 - accuracy: 0.9893 - val_loss: 0.0012 - val_accuracy: 0.9922\n",
      "Epoch 58/80\n",
      "386/386 [==============================] - 20s 52ms/step - loss: 6.4466e-04 - accuracy: 0.9844 - val_loss: 9.3039e-04 - val_accuracy: 0.9909\n",
      "Epoch 59/80\n",
      "386/386 [==============================] - 21s 53ms/step - loss: 6.3730e-04 - accuracy: 0.9899 - val_loss: 8.4049e-04 - val_accuracy: 0.9909\n",
      "Epoch 60/80\n",
      "386/386 [==============================] - 20s 52ms/step - loss: 6.3594e-04 - accuracy: 0.9864 - val_loss: 8.7699e-04 - val_accuracy: 0.9935\n",
      "Epoch 61/80\n",
      "386/386 [==============================] - 21s 53ms/step - loss: 5.9561e-04 - accuracy: 0.9870 - val_loss: 8.5809e-04 - val_accuracy: 0.9935\n",
      "Epoch 62/80\n",
      "386/386 [==============================] - 21s 54ms/step - loss: 6.1150e-04 - accuracy: 0.9874 - val_loss: 9.4915e-04 - val_accuracy: 0.9909\n",
      "Epoch 63/80\n",
      "386/386 [==============================] - 21s 55ms/step - loss: 5.7657e-04 - accuracy: 0.9870 - val_loss: 0.0013 - val_accuracy: 0.9844\n",
      "Epoch 64/80\n",
      "386/386 [==============================] - 21s 55ms/step - loss: 6.4113e-04 - accuracy: 0.9877 - val_loss: 9.8349e-04 - val_accuracy: 0.9909\n",
      "Epoch 65/80\n",
      "386/386 [==============================] - 21s 53ms/step - loss: 6.1370e-04 - accuracy: 0.9874 - val_loss: 0.0010 - val_accuracy: 0.9948\n",
      "Epoch 66/80\n",
      "386/386 [==============================] - 20s 53ms/step - loss: 6.1138e-04 - accuracy: 0.9883 - val_loss: 8.7184e-04 - val_accuracy: 0.9922\n",
      "Epoch 67/80\n",
      "386/386 [==============================] - 21s 55ms/step - loss: 6.0617e-04 - accuracy: 0.9903 - val_loss: 9.2487e-04 - val_accuracy: 0.9935\n",
      "Epoch 68/80\n",
      "386/386 [==============================] - 21s 55ms/step - loss: 5.7421e-04 - accuracy: 0.9909 - val_loss: 9.1202e-04 - val_accuracy: 0.9922\n",
      "Epoch 69/80\n",
      "386/386 [==============================] - 22s 58ms/step - loss: 5.8774e-04 - accuracy: 0.9890 - val_loss: 8.2774e-04 - val_accuracy: 0.9961\n",
      "Epoch 70/80\n",
      "386/386 [==============================] - 24s 61ms/step - loss: 5.8877e-04 - accuracy: 0.9877 - val_loss: 9.0208e-04 - val_accuracy: 0.9961\n",
      "Epoch 71/80\n",
      "386/386 [==============================] - 22s 57ms/step - loss: 5.8729e-04 - accuracy: 0.9887 - val_loss: 8.0746e-04 - val_accuracy: 0.9935\n",
      "Epoch 72/80\n",
      "386/386 [==============================] - 22s 58ms/step - loss: 5.7558e-04 - accuracy: 0.9864 - val_loss: 9.6034e-04 - val_accuracy: 0.9935\n",
      "Epoch 73/80\n",
      "386/386 [==============================] - 22s 56ms/step - loss: 5.4372e-04 - accuracy: 0.9857 - val_loss: 9.2955e-04 - val_accuracy: 0.9909\n",
      "Epoch 74/80\n",
      "386/386 [==============================] - 26s 68ms/step - loss: 5.7807e-04 - accuracy: 0.9890 - val_loss: 8.8749e-04 - val_accuracy: 0.9909\n",
      "Epoch 75/80\n",
      "386/386 [==============================] - 25s 64ms/step - loss: 5.4166e-04 - accuracy: 0.9877 - val_loss: 8.8691e-04 - val_accuracy: 0.9935\n",
      "Epoch 76/80\n",
      "386/386 [==============================] - 22s 56ms/step - loss: 5.5304e-04 - accuracy: 0.9906 - val_loss: 9.1314e-04 - val_accuracy: 0.9922\n",
      "Epoch 77/80\n",
      "386/386 [==============================] - 21s 55ms/step - loss: 5.2986e-04 - accuracy: 0.9890 - val_loss: 8.8891e-04 - val_accuracy: 0.9922\n",
      "Epoch 78/80\n",
      "386/386 [==============================] - 21s 54ms/step - loss: 5.4294e-04 - accuracy: 0.9874 - val_loss: 8.1791e-04 - val_accuracy: 0.9922\n",
      "Epoch 79/80\n",
      "386/386 [==============================] - 21s 56ms/step - loss: 5.4762e-04 - accuracy: 0.9883 - val_loss: 9.6459e-04 - val_accuracy: 0.9935\n",
      "Epoch 80/80\n",
      "386/386 [==============================] - 22s 57ms/step - loss: 5.2348e-04 - accuracy: 0.9874 - val_loss: 9.8322e-04 - val_accuracy: 0.9922\n"
     ]
    }
   ],
   "source": [
    "Batch_Size = 8\n",
    "Epoch_Anz = 80\n",
    "Shift_Range = 3\n",
    "Brightness_Range = 0.3\n",
    "\n",
    "datagen = ImageDataGenerator(width_shift_range=[-Shift_Range,Shift_Range], height_shift_range=[-Shift_Range,Shift_Range],brightness_range=[1-Brightness_Range,1+Brightness_Range])\n",
    "\n",
    "train_iterator = datagen.flow(X_train, y_train, batch_size=Batch_Size)\n",
    "validation_iterator = datagen.flow(X_test, y_test, batch_size=Batch_Size)\n",
    "\n",
    "history = model.fit_generator(train_iterator, validation_data = validation_iterator, epochs = Epoch_Anz)"
   ]
  },
  {
   "cell_type": "markdown",
   "metadata": {},
   "source": [
    "### Overall Learing results (Step 1 & Step 2)"
   ]
  },
  {
   "cell_type": "code",
   "execution_count": 7,
   "metadata": {},
   "outputs": [
    {
     "data": {
      "image/png": "[encoded data removed]",
      "text/plain": [
       "<Figure size 432x288 with 1 Axes>"
      ]
     },
     "metadata": {
      "needs_background": "light"
     },
     "output_type": "display_data"
    }
   ],
   "source": [
    "loss_ges = np.append(loss_ges, history.history['loss'])\n",
    "val_loss_ges = np.append(val_loss_ges, history.history['val_loss'])\n",
    "\n",
    "plt.semilogy(loss_ges)\n",
    "plt.semilogy(val_loss_ges)\n",
    "plt.title('model loss')\n",
    "plt.ylabel('loss')\n",
    "plt.xlabel('epoch')\n",
    "plt.legend(['train','eval'], loc='upper left')\n",
    "plt.show()"
   ]
  },
  {
   "cell_type": "markdown",
   "metadata": {},
   "source": [
    "### Check the model by hand\n",
    "\n",
    "* The following code uses the trained model to check the deviation for each picture.\n",
    "* The evaluation takes the periodic character of the results into account (dev1 ... dev2).\n",
    "* Images, that have a bigger deviation as the parameter \"deviation_max_list\" are printed in a list to check the picture and labeling itself"
   ]
  },
  {
   "cell_type": "code",
   "execution_count": 8,
   "metadata": {},
   "outputs": [
    {
     "name": "stdout",
     "output_type": "stream",
     "text": [
      "data_resize_all\\1.5_Lfd-0505_zeiger2_2019-11-19_18-12-04.jpg 0.15 0.18431005548635995 -0.03431005548635996\n",
      "data_resize_all\\1.6_Lfd-0521_zeiger2_2019-11-19_18-07-04.jpg 0.16 0.1909494167600616 -0.030949416760061604\n",
      "data_resize_all\\1.6_Lfd-0522_zeiger2_2019-11-19_18-17-04.jpg 0.16 0.1942045900547512 -0.03420459005475121\n",
      "data_resize_all\\1.7_Lfd-0560_zeiger2_2019-11-19_17-52-04.jpg 0.16999999999999998 0.20123006571678326 -0.031230065716783273\n",
      "data_resize_all\\2.6_Lfd-0990_zeiger4_2019-11-19_18-42-04.jpg 0.26 0.29059011364697707 -0.030590113646977057\n",
      "data_resize_all\\3.4_Lfd-1298_zeiger4_2019-06-04T075009.jpg 0.33999999999999997 0.3092135161381585 0.030786483861841463\n",
      "data_resize_all\\3.8_Lfd-1414_zeiger4_2019-06-04T105009.jpg 0.38 0.34958714377705774 0.030412856222942264\n",
      "data_resize_all\\3.8_Lfd-1415_zeiger4_2019-06-04T110009.jpg 0.38 0.34803050571971644 0.03196949428028356\n",
      "data_resize_all\\3.8_Lfd-1416_zeiger4_2019-06-04T111009.jpg 0.38 0.3462974969998073 0.03370250300019273\n",
      "data_resize_all\\3.8_Lfd-1417_zeiger4_2019-06-04T114009.jpg 0.38 0.3483182464112509 0.031681753588749084\n",
      "data_resize_all\\3.8_Lfd-1418_zeiger4_2019-06-04T115009.jpg 0.38 0.3488745273736531 0.031125472626346906\n",
      "data_resize_all\\4.5_Lfd-1684_zeiger2_2019-11-19_03-42-03.jpg 0.45 0.4193458009906628 0.03065419900933719\n",
      "data_resize_all\\4.5_Lfd-1685_zeiger2_2019-11-19_03-47-03.jpg 0.45 0.418828186488062 0.031171813511937985\n",
      "data_resize_all\\4.5_Lfd-1686_zeiger2_2019-11-19_04-07-03.jpg 0.45 0.4199221551201257 0.030077844879874305\n",
      "data_resize_all\\4.5_Lfd-1690_zeiger2_2019-11-19_05-57-03.jpg 0.45 0.4155626351003835 0.03443736489961652\n",
      "data_resize_all\\4.6_Lfd-1710_zeiger2_2019-06-05T134009.jpg 0.45999999999999996 0.4288591920306197 0.03114080796938029\n",
      "data_resize_all\\4.6_Lfd-1712_zeiger2_2019-11-19_03-27-03.jpg 0.45999999999999996 0.4286572461041596 0.03134275389584035\n",
      "data_resize_all\\4.7_Lfd-1773_zeiger2_2019-11-19_02-27-03.jpg 0.47000000000000003 0.4317702566003745 0.03822974339962554\n",
      "data_resize_all\\4.7_Lfd-1774_zeiger2_2019-11-19_02-32-03.jpg 0.47000000000000003 0.4290459597589241 0.040954040241075906\n",
      "data_resize_all\\4.7_Lfd-1775_zeiger2_2019-11-19_02-37-03.jpg 0.47000000000000003 0.4379928624982192 0.0320071375017808\n",
      "data_resize_all\\4.7_Lfd-1776_zeiger2_2019-11-19_02-47-03.jpg 0.47000000000000003 0.4356757208222924 0.03432427917770764\n",
      "data_resize_all\\4.7_Lfd-1782_zeiger2_2019-11-19_03-52-03.jpg 0.47000000000000003 0.421725021497046 0.048274978502954036\n",
      "data_resize_all\\4.7_Lfd-1783_zeiger2_2019-11-19_04-17-03.jpg 0.47000000000000003 0.4379042977119814 0.03209570228801861\n",
      "data_resize_all\\4.7_Lfd-1784_zeiger2_2019-11-19_04-22-03.jpg 0.47000000000000003 0.4385297533124776 0.03147024668752241\n",
      "data_resize_all\\4.7_Lfd-1790_zeiger2_2019-11-19_05-12-03.jpg 0.47000000000000003 0.4384813728058567 0.031518627194143334\n",
      "data_resize_all\\4.7_Lfd-1791_zeiger2_2019-11-19_05-32-03.jpg 0.47000000000000003 0.43305588792964783 0.0369441120703522\n",
      "data_resize_all\\4.7_Lfd-1801_zeiger4_2019-06-06T140009.jpg 0.47000000000000003 0.4397523571739099 0.030247642826090104\n",
      "data_resize_all\\4.8_Lfd-1806_zeiger2_2019-11-19_02-42-03.jpg 0.48 0.43768831195222746 0.04231168804777252\n",
      "data_resize_all\\4.8_Lfd-1807_zeiger2_2019-11-19_04-52-03.jpg 0.48 0.4391509590174903 0.04084904098250969\n",
      "data_resize_all\\4.8_Lfd-1808_zeiger2_2019-11-19_04-57-03.jpg 0.48 0.447885936165038 0.03211406383496196\n",
      "data_resize_all\\4.8_Lfd-1809_zeiger2_2019-11-19_05-17-03.jpg 0.48 0.4250265072688578 0.05497349273114216\n",
      "data_resize_all\\4.9_Lfd-1829_zeiger2_2019-11-19_03-37-03.jpg 0.49000000000000005 0.4413062631555832 0.04869373684441686\n",
      "data_resize_all\\4.9_Lfd-1830_zeiger2_2019-11-19_03-57-03.jpg 0.49000000000000005 0.43549510026424093 0.054504899735759116\n",
      "data_resize_all\\5.0_Lfd-1889_zeiger4_2019-06-04T141009.jpg 0.5 0.5306472346195565 -0.03064723461955654\n",
      "data_resize_all\\5.8_Lfd-2131_zeiger1_2019-11-19_01-12-03.jpg 0.58 0.5286014411811562 0.05139855881884381\n",
      "data_resize_all\\6.6_Lfd-2546_zeiger2_2019-09-15_05-30-13.jpg 0.6599999999999999 0.6919712940098663 -0.031971294009866424\n",
      "data_resize_all\\6.6_Lfd-2548_zeiger3_2019-09-14_22-50-13.jpg 0.6599999999999999 0.6978540221055123 -0.037854022105512364\n",
      "data_resize_all\\6.6_Lfd-2549_zeiger3_2019-11-19_05-32-03.jpg 0.6599999999999999 0.6212922688056022 0.03870773119439774\n",
      "data_resize_all\\6.8_Lfd-2627_zeiger4_2019-09-15_06-00-12.jpg 0.6799999999999999 0.710577981510329 -0.03057798151032909\n",
      "data_resize_all\\8.5_Lfd-3198_zeiger2_2019-11-19_01-47-03.jpg 0.85 0.8196849411319282 0.03031505886807173\n",
      "data_resize_all\\8.5_Lfd-3199_zeiger2_2019-11-19_08-12-03.jpg 0.85 0.8135898700440858 0.036410129955914194\n",
      "data_resize_all\\8.5_Lfd-3200_zeiger2_2019-11-19_08-22-03.jpg 0.85 0.8151493160680858 0.03485068393191415\n",
      "data_resize_all\\8.5_Lfd-3201_zeiger2_2019-11-19_08-27-03.jpg 0.85 0.8192108311397909 0.030789168860209104\n",
      "data_resize_all\\8.5_Lfd-3213_zeiger4_2019-06-02T195009.jpg 0.85 0.8878650088191095 -0.03786500881910948\n",
      "data_resize_all\\8.8_Lfd-3268_zeiger2_2019-11-19_08-47-03.jpg 0.8800000000000001 0.8475845942896332 0.03241540571036694\n"
     ]
    }
   ],
   "source": [
    "Input_dir='data_resize_all'\n",
    "#Input_dir='test_result'\n",
    "files = glob.glob(Input_dir + '/*.*')\n",
    "res = []\n",
    "i = 0\n",
    "deviation_max_list = 0.03\n",
    "\n",
    "for aktfile in files:\n",
    "    base = os.path.basename(aktfile)\n",
    "    target = (float(base[0:3])) / 10\n",
    "    target_sin = math.sin(target * math.pi * 2)\n",
    "    target_cos = math.cos(target * math.pi * 2)\n",
    "\n",
    "    test_image = Image.open(aktfile)\n",
    "    test_image = np.array(test_image, dtype=\"float32\")\n",
    "    img = np.reshape(test_image,[1,32,32,3])\n",
    "    classes = model.predict(img)\n",
    "    \n",
    "    out_sin = classes[0][0]  \n",
    "    out_cos = classes[0][1]\n",
    "    out_target = (np.arctan2(out_sin, out_cos)/(2*math.pi)) % 1\n",
    "\n",
    "    dev_sin = target_sin - out_sin\n",
    "    dev_cos = target_cos - out_cos\n",
    "    dev_target = target - out_target\n",
    "    \n",
    "    if abs(dev_target + 1) < abs(dev_target):\n",
    "        out_target = out_target - 1\n",
    "        dev_target = target - out_target\n",
    "    else:\n",
    "        if abs(dev_target - 1) < abs(dev_target):\n",
    "            out_target = out_target + 1\n",
    "            dev_target = target - out_target\n",
    "               \n",
    "    res.append(np.array([target, out_target, dev_target, out_sin, out_cos, i]))\n",
    "    if abs(dev_target) > deviation_max_list:\n",
    "        print(aktfile + \" \" + str(target) + \" \" + str(out_target) +  \" \" + str(dev_target))\n",
    "    i+=1\n",
    "\n",
    "res = np.asarray(res)\n",
    "res_step_1 = res"
   ]
  },
  {
   "cell_type": "markdown",
   "metadata": {},
   "source": [
    "## Results"
   ]
  },
  {
   "cell_type": "code",
   "execution_count": 9,
   "metadata": {},
   "outputs": [
    {
     "data": {
      "image/png": "[encoded data removed]",
      "text/plain": [
       "<Figure size 432x288 with 1 Axes>"
      ]
     },
     "metadata": {
      "needs_background": "light"
     },
     "output_type": "display_data"
    }
   ],
   "source": [
    "plt.plot(res[:,3])\n",
    "plt.plot(res[:,4])\n",
    "plt.title('Result')\n",
    "plt.ylabel('value')\n",
    "plt.xlabel('#Picture')\n",
    "plt.legend(['sin', 'cos'], loc='lower left')\n",
    "plt.show()"
   ]
  },
  {
   "cell_type": "code",
   "execution_count": 10,
   "metadata": {},
   "outputs": [
    {
     "data": {
      "image/png": "[encoded data removed]",
      "text/plain": [
       "<Figure size 432x288 with 1 Axes>"
      ]
     },
     "metadata": {
      "needs_background": "light"
     },
     "output_type": "display_data"
    }
   ],
   "source": [
    "plt.plot(res[:,0])\n",
    "plt.plot(res[:,1])\n",
    "plt.title('Result')\n",
    "plt.ylabel('Counter Value')\n",
    "plt.xlabel('#Picture')\n",
    "plt.legend(['Orginal', 'Prediction'], loc='upper left')\n",
    "plt.show()"
   ]
  },
  {
   "cell_type": "markdown",
   "metadata": {},
   "source": [
    "### Deviation from Expected Value"
   ]
  },
  {
   "cell_type": "code",
   "execution_count": 11,
   "metadata": {},
   "outputs": [
    {
     "data": {
      "image/png": "[encoded data removed]",
      "text/plain": [
       "<Figure size 432x288 with 1 Axes>"
      ]
     },
     "metadata": {
      "needs_background": "light"
     },
     "output_type": "display_data"
    },
    {
     "name": "stdout",
     "output_type": "stream",
     "text": [
      "[ 0.0016  0.0106 -0.0379  0.055 ]\n"
     ]
    }
   ],
   "source": [
    "plt.plot(res[:,2])\n",
    "plt.title('Deviation')\n",
    "plt.ylabel('Deviation from expected value')\n",
    "plt.xlabel('#Picture')\n",
    "plt.legend(['Deviation'], loc='upper left')\n",
    "#plt.ylim(-0.3, 0.3)\n",
    "plt.show()\n",
    "\n",
    "statistic = np.array([np.mean(res[:,2]), np.std(res[:,2]), np.min(res[:,2]), np.max(res[:,2])])\n",
    "print(statistic)"
   ]
  },
  {
   "cell_type": "markdown",
   "metadata": {},
   "source": [
    "### Save the model\n",
    "\n",
    "* Save the model to the file with the \"h5\" file format"
   ]
  },
  {
   "cell_type": "code",
   "execution_count": 12,
   "metadata": {},
   "outputs": [],
   "source": [
    "model.save(\"CNN_Analog-Readout_Version-5.0.0.h5\")"
   ]
  }
 ],
 "metadata": {
  "kernelspec": {
   "display_name": "Python 3",
   "language": "python",
   "name": "python3"
  },
  "language_info": {
   "codemirror_mode": {
    "name": "ipython",
    "version": 3
   },
   "file_extension": ".py",
   "mimetype": "text/x-python",
   "name": "python",
   "nbconvert_exporter": "python",
   "pygments_lexer": "ipython3",
   "version": "3.7.6"
  }
 },
 "nbformat": 4,
 "nbformat_minor": 2
}
