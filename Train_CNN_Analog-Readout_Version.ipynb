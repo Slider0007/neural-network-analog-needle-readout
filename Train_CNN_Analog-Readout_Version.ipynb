{
 "cells": [
  {
   "cell_type": "markdown",
   "metadata": {},
   "source": [
    "# CNN Training\n",
    "\n",
    "Target of this code is to train a CNN network to extract the needle position of an analog needle device.\n",
    "\n",
    "### Preparing the training\n",
    "* First all libraries are loaded\n",
    "    * It is assumed, that they are installed during the Python setup\n",
    "* matplotlib is set to print the output inline in the jupyter notebook"
   ]
  },
  {
   "cell_type": "code",
   "execution_count": 1,
   "metadata": {
    "scrolled": true
   },
   "outputs": [],
   "source": [
    "import os\n",
    "import tensorflow as tf\n",
    "import matplotlib.pyplot as plt\n",
    "import glob\n",
    "import numpy as np\n",
    "from sklearn.utils import shuffle\n",
    "from tensorflow.python import keras\n",
    "from tensorflow.python.keras import Sequential\n",
    "from tensorflow.python.keras.layers import Dense, InputLayer, Conv2D, MaxPool2D, Flatten, BatchNormalization\n",
    "from tensorflow.keras.preprocessing.image import ImageDataGenerator\n",
    "from sklearn.model_selection import train_test_split\n",
    "import tensorflow.keras.backend as K\n",
    "from tensorflow.keras.callbacks import History \n",
    "import math\n",
    "from PIL import Image \n",
    "\n",
    "loss_ges = np.array([])\n",
    "val_loss_ges = np.array([])\n",
    "\n",
    "%matplotlib inline\n",
    "np.set_printoptions(precision=4)\n",
    "np.set_printoptions(suppress=True)"
   ]
  },
  {
   "cell_type": "markdown",
   "metadata": {},
   "source": [
    "### Load training data\n",
    "* The data is expected in the \"Input_dir\"\n",
    "* Picture size must be 32x32 with 3 color channels (RGB)\n",
    "* The filename contains the informations needed for training in the first 3 digits::\n",
    "* Typical filename: \n",
    "    * x.y-zzzz.jpg \n",
    "    * e.g. \"4.6_Lfd-1406_zeiger3_2019-06-02T050011\"\n",
    "\n",
    "|Place holder | Meaning                     | Usage        |\n",
    "|------------- |-----------------------------|--------------|\n",
    "| **x.y**          | readout value               | **to be learned** |\n",
    "| zzzz        | additional information              | not needed   |\n",
    "\n",
    "* The images are stored in the x_data[]\n",
    "* The expected output for each image in the corresponding y_data[]\n",
    "    * The periodic nature is reflected in a **sin/cos coding**, which allows to restore the angle/counter value with an arctan later on.\n",
    "\n",
    "* The last step is a shuffle (from sklearn.utils) as the filenames are on order due to the encoding of the expected analog readout in the filename "
   ]
  },
  {
   "cell_type": "code",
   "execution_count": 2,
   "metadata": {},
   "outputs": [
    {
     "name": "stdout",
     "output_type": "stream",
     "text": [
      "(4742, 32, 32, 3)\n",
      "(4742, 2)\n"
     ]
    }
   ],
   "source": [
    "Input_dir='data_resize_all'\n",
    "\n",
    "files = glob.glob(Input_dir + '/*.*')\n",
    "x_data = []\n",
    "y_data = []\n",
    "\n",
    "for aktfile in files:\n",
    "    test_image = Image.open(aktfile)\n",
    "    test_image = np.array(test_image, dtype=\"float32\")\n",
    "    test_image = np.reshape(test_image, (32,32,3))\n",
    "    base = os.path.basename(aktfile)\n",
    "    target_number = (float(base[0:3])) / 10\n",
    "    target_sin = math.sin(target_number * math.pi * 2)\n",
    "    target_cos = math.cos(target_number * math.pi * 2)\n",
    "\n",
    "    x_data.append(test_image)\n",
    "    zw = np.array([target_sin, target_cos])\n",
    "    y_data.append(zw)\n",
    "\n",
    "x_data = np.array(x_data)\n",
    "y_data = np.array(y_data)\n",
    "print(x_data.shape)\n",
    "print(y_data.shape)\n",
    "\n",
    "x_data, y_data = shuffle(x_data, y_data)\n",
    "X_train, X_test, y_train, y_test = train_test_split(x_data, y_data, test_size=0.1)"
   ]
  },
  {
   "cell_type": "markdown",
   "metadata": {},
   "source": [
    "### Define the model\n",
    "\n",
    "The layout of the network ist a typcial CNN network with alternating **Conv2D** and **MaxPool2D** layers. Finished after **flattening** with additional **Dense** layer.\n",
    "\n",
    "#### Important\n",
    "* Shape of the input layer: (32, 32, 3)\n",
    "* Shape of the output layer: (2) - sin and cos"
   ]
  },
  {
   "cell_type": "code",
   "execution_count": 3,
   "metadata": {
    "scrolled": true
   },
   "outputs": [
    {
     "name": "stdout",
     "output_type": "stream",
     "text": [
      "Model: \"sequential\"\n",
      "_________________________________________________________________\n",
      "Layer (type)                 Output Shape              Param #   \n",
      "=================================================================\n",
      "batch_normalization (BatchNo (None, 32, 32, 3)         12        \n",
      "_________________________________________________________________\n",
      "conv2d (Conv2D)              (None, 32, 32, 64)        4864      \n",
      "_________________________________________________________________\n",
      "max_pooling2d (MaxPooling2D) (None, 8, 8, 64)          0         \n",
      "_________________________________________________________________\n",
      "conv2d_1 (Conv2D)            (None, 8, 8, 32)          51232     \n",
      "_________________________________________________________________\n",
      "max_pooling2d_1 (MaxPooling2 (None, 2, 2, 32)          0         \n",
      "_________________________________________________________________\n",
      "conv2d_2 (Conv2D)            (None, 2, 2, 32)          9248      \n",
      "_________________________________________________________________\n",
      "max_pooling2d_2 (MaxPooling2 (None, 1, 1, 32)          0         \n",
      "_________________________________________________________________\n",
      "flatten (Flatten)            (None, 32)                0         \n",
      "_________________________________________________________________\n",
      "dense (Dense)                (None, 128)               4224      \n",
      "_________________________________________________________________\n",
      "dense_1 (Dense)              (None, 64)                8256      \n",
      "_________________________________________________________________\n",
      "dense_2 (Dense)              (None, 2)                 130       \n",
      "=================================================================\n",
      "Total params: 77,966\n",
      "Trainable params: 77,960\n",
      "Non-trainable params: 6\n",
      "_________________________________________________________________\n"
     ]
    }
   ],
   "source": [
    "model = Sequential()\n",
    "model.add(BatchNormalization(input_shape=(32,32,3)))\n",
    "model.add(Conv2D(64, (5, 5), input_shape=(32,32,3), padding='same', activation=\"relu\"))\n",
    "model.add(MaxPool2D(pool_size=(4,4)))\n",
    "model.add(Conv2D(32, (5, 5), padding='same', activation=\"relu\"))\n",
    "model.add(MaxPool2D(pool_size=(4,4)))\n",
    "model.add(Conv2D(32, (3, 3), padding='same', activation=\"relu\"))\n",
    "model.add(MaxPool2D(pool_size=(2,2)))\n",
    "model.add(Flatten())\n",
    "model.add(Dense(128,activation=\"relu\"))\n",
    "model.add(Dense(64,activation=\"relu\"))\n",
    "model.add(Dense(2))\n",
    "model.summary()\n",
    "\n",
    "model.compile(loss=keras.losses.mean_squared_error, optimizer=tf.keras.optimizers.Adadelta(learning_rate=1.0, rho=0.95), metrics = [\"accuracy\"])"
   ]
  },
  {
   "cell_type": "markdown",
   "metadata": {},
   "source": [
    "# Training\n",
    "The input pictures are randomly scattered for brightness and pixel shift variations. These is implemented with a ImageDataGenerator.\n",
    "\n",
    "\n",
    "The training is splitted into two steps:\n",
    "1. Variation of the brightness only\n",
    "2. Variation of brightness and Pixel Shift"
   ]
  },
  {
   "cell_type": "markdown",
   "metadata": {},
   "source": [
    "### Step 1: Brigthness scattering only"
   ]
  },
  {
   "cell_type": "code",
   "execution_count": 4,
   "metadata": {},
   "outputs": [
    {
     "name": "stdout",
     "output_type": "stream",
     "text": [
      "WARNING:tensorflow:From <ipython-input-4-9f5ba6453a73>:11: Model.fit_generator (from tensorflow.python.keras.engine.training) is deprecated and will be removed in a future version.\n",
      "Instructions for updating:\n",
      "Please use Model.fit, which supports generators.\n",
      "WARNING:tensorflow:sample_weight modes were coerced from\n",
      "  ...\n",
      "    to  \n",
      "  ['...']\n",
      "WARNING:tensorflow:sample_weight modes were coerced from\n",
      "  ...\n",
      "    to  \n",
      "  ['...']\n",
      "Train for 534 steps, validate for 60 steps\n",
      "Epoch 1/30\n",
      "534/534 [==============================] - 13s 25ms/step - loss: 0.1316 - accuracy: 0.8800 - val_loss: 0.0192 - val_accuracy: 0.9705\n",
      "Epoch 2/30\n",
      "534/534 [==============================] - 13s 24ms/step - loss: 0.0177 - accuracy: 0.9576 - val_loss: 0.0158 - val_accuracy: 0.9600\n",
      "Epoch 3/30\n",
      "534/534 [==============================] - 13s 23ms/step - loss: 0.0097 - accuracy: 0.9702 - val_loss: 0.0155 - val_accuracy: 0.9558\n",
      "Epoch 4/30\n",
      "534/534 [==============================] - 12s 23ms/step - loss: 0.0068 - accuracy: 0.9735 - val_loss: 0.0071 - val_accuracy: 0.9705\n",
      "Epoch 5/30\n",
      "534/534 [==============================] - 13s 24ms/step - loss: 0.0044 - accuracy: 0.9803 - val_loss: 0.0042 - val_accuracy: 0.9705\n",
      "Epoch 6/30\n",
      "534/534 [==============================] - 14s 27ms/step - loss: 0.0037 - accuracy: 0.9754 - val_loss: 0.0033 - val_accuracy: 0.9789\n",
      "Epoch 7/30\n",
      "534/534 [==============================] - 13s 24ms/step - loss: 0.0029 - accuracy: 0.9813 - val_loss: 0.0021 - val_accuracy: 0.9874\n",
      "Epoch 8/30\n",
      "534/534 [==============================] - 13s 24ms/step - loss: 0.0025 - accuracy: 0.9824 - val_loss: 0.0016 - val_accuracy: 0.9811\n",
      "Epoch 9/30\n",
      "534/534 [==============================] - 13s 24ms/step - loss: 0.0022 - accuracy: 0.9836 - val_loss: 0.0022 - val_accuracy: 0.9832\n",
      "Epoch 10/30\n",
      "534/534 [==============================] - 12s 23ms/step - loss: 0.0019 - accuracy: 0.9843 - val_loss: 0.0020 - val_accuracy: 0.9705\n",
      "Epoch 11/30\n",
      "534/534 [==============================] - 12s 23ms/step - loss: 0.0018 - accuracy: 0.9850 - val_loss: 0.0014 - val_accuracy: 0.9811\n",
      "Epoch 12/30\n",
      "534/534 [==============================] - 12s 23ms/step - loss: 0.0016 - accuracy: 0.9848 - val_loss: 0.0019 - val_accuracy: 0.9916\n",
      "Epoch 13/30\n",
      "534/534 [==============================] - 13s 23ms/step - loss: 0.0014 - accuracy: 0.9866 - val_loss: 0.0015 - val_accuracy: 0.9789\n",
      "Epoch 14/30\n",
      "534/534 [==============================] - 12s 23ms/step - loss: 0.0013 - accuracy: 0.9876 - val_loss: 0.0012 - val_accuracy: 0.9811\n",
      "Epoch 15/30\n",
      "534/534 [==============================] - 12s 23ms/step - loss: 0.0012 - accuracy: 0.9885 - val_loss: 0.0012 - val_accuracy: 0.9811\n",
      "Epoch 16/30\n",
      "534/534 [==============================] - 12s 23ms/step - loss: 0.0013 - accuracy: 0.9862 - val_loss: 9.8441e-04 - val_accuracy: 0.9853\n",
      "Epoch 17/30\n",
      "534/534 [==============================] - 12s 23ms/step - loss: 0.0011 - accuracy: 0.9871 - val_loss: 0.0011 - val_accuracy: 0.9789\n",
      "Epoch 18/30\n",
      "534/534 [==============================] - 13s 24ms/step - loss: 0.0011 - accuracy: 0.9859 - val_loss: 0.0017 - val_accuracy: 0.9789\n",
      "Epoch 19/30\n",
      "534/534 [==============================] - 12s 23ms/step - loss: 0.0011 - accuracy: 0.9876 - val_loss: 0.0016 - val_accuracy: 0.9832\n",
      "Epoch 20/30\n",
      "534/534 [==============================] - 12s 23ms/step - loss: 0.0010 - accuracy: 0.9876 - val_loss: 9.3435e-04 - val_accuracy: 0.9811\n",
      "Epoch 21/30\n",
      "534/534 [==============================] - 12s 23ms/step - loss: 9.6663e-04 - accuracy: 0.9869 - val_loss: 8.2553e-04 - val_accuracy: 0.9768\n",
      "Epoch 22/30\n",
      "534/534 [==============================] - 12s 23ms/step - loss: 9.0277e-04 - accuracy: 0.9897 - val_loss: 9.9067e-04 - val_accuracy: 0.9726\n",
      "Epoch 23/30\n",
      "534/534 [==============================] - 12s 23ms/step - loss: 9.1034e-04 - accuracy: 0.9888 - val_loss: 0.0012 - val_accuracy: 0.9705\n",
      "Epoch 24/30\n",
      "534/534 [==============================] - 13s 24ms/step - loss: 8.4683e-04 - accuracy: 0.9883 - val_loss: 9.4671e-04 - val_accuracy: 0.9789\n",
      "Epoch 25/30\n",
      "534/534 [==============================] - 12s 23ms/step - loss: 8.1127e-04 - accuracy: 0.9906 - val_loss: 9.0615e-04 - val_accuracy: 0.9853\n",
      "Epoch 26/30\n",
      "534/534 [==============================] - 12s 23ms/step - loss: 7.8894e-04 - accuracy: 0.9904 - val_loss: 8.7179e-04 - val_accuracy: 0.9916\n",
      "Epoch 27/30\n",
      "534/534 [==============================] - 12s 23ms/step - loss: 8.0269e-04 - accuracy: 0.9885 - val_loss: 8.5885e-04 - val_accuracy: 0.9832\n",
      "Epoch 28/30\n",
      "534/534 [==============================] - 13s 24ms/step - loss: 7.9716e-04 - accuracy: 0.9906 - val_loss: 0.0014 - val_accuracy: 0.9726\n",
      "Epoch 29/30\n",
      "534/534 [==============================] - 13s 24ms/step - loss: 7.2474e-04 - accuracy: 0.9890 - val_loss: 9.1639e-04 - val_accuracy: 0.9895\n",
      "Epoch 30/30\n",
      "534/534 [==============================] - 13s 25ms/step - loss: 7.2018e-04 - accuracy: 0.9885 - val_loss: 8.4872e-04 - val_accuracy: 0.9832\n"
     ]
    }
   ],
   "source": [
    "Batch_Size = 8\n",
    "Epoch_Anz = 30\n",
    "Shift_Range = 0\n",
    "Brightness_Range = 0.3\n",
    "\n",
    "datagen = ImageDataGenerator(width_shift_range=[-Shift_Range,Shift_Range], height_shift_range=[-Shift_Range,Shift_Range],brightness_range=[1-Brightness_Range,1+Brightness_Range])\n",
    "\n",
    "train_iterator = datagen.flow(X_train, y_train, batch_size=Batch_Size)\n",
    "validation_iterator = datagen.flow(X_test, y_test, batch_size=Batch_Size)\n",
    "\n",
    "history = model.fit_generator(train_iterator, validation_data = validation_iterator, epochs = Epoch_Anz)"
   ]
  },
  {
   "cell_type": "markdown",
   "metadata": {},
   "source": [
    "### Step 1: Learing result\n",
    " \n",
    "* Visualization of the training and validation results"
   ]
  },
  {
   "cell_type": "code",
   "execution_count": 5,
   "metadata": {},
   "outputs": [
    {
     "data": {
      "image/png": "[encoded data removed]",
      "text/plain": [
       "<Figure size 432x288 with 1 Axes>"
      ]
     },
     "metadata": {
      "needs_background": "light"
     },
     "output_type": "display_data"
    }
   ],
   "source": [
    "loss_ges = np.append(loss_ges, history.history['loss'])\n",
    "val_loss_ges = np.append(val_loss_ges, history.history['val_loss'])\n",
    "\n",
    "plt.semilogy(history.history['loss'])\n",
    "plt.semilogy(history.history['val_loss'])\n",
    "plt.title('model loss')\n",
    "plt.ylabel('loss')\n",
    "plt.xlabel('epoch')\n",
    "plt.legend(['train','eval'], loc='upper left')\n",
    "plt.show()"
   ]
  },
  {
   "cell_type": "markdown",
   "metadata": {},
   "source": [
    "### Step 2: Brigthness and Pixel Shift scattering\n",
    "Here a higher number of epochs is used to reach the minimum loss function"
   ]
  },
  {
   "cell_type": "code",
   "execution_count": 6,
   "metadata": {},
   "outputs": [
    {
     "name": "stdout",
     "output_type": "stream",
     "text": [
      "WARNING:tensorflow:sample_weight modes were coerced from\n",
      "  ...\n",
      "    to  \n",
      "  ['...']\n",
      "WARNING:tensorflow:sample_weight modes were coerced from\n",
      "  ...\n",
      "    to  \n",
      "  ['...']\n",
      "Train for 534 steps, validate for 60 steps\n",
      "Epoch 1/80\n",
      "534/534 [==============================] - 14s 27ms/step - loss: 0.0443 - accuracy: 0.9414 - val_loss: 0.0082 - val_accuracy: 0.9768\n",
      "Epoch 2/80\n",
      "534/534 [==============================] - 13s 25ms/step - loss: 0.0076 - accuracy: 0.9726 - val_loss: 0.0089 - val_accuracy: 0.9642\n",
      "Epoch 3/80\n",
      "534/534 [==============================] - 13s 24ms/step - loss: 0.0049 - accuracy: 0.9716 - val_loss: 0.0038 - val_accuracy: 0.9789\n",
      "Epoch 4/80\n",
      "534/534 [==============================] - 13s 25ms/step - loss: 0.0040 - accuracy: 0.9782 - val_loss: 0.0035 - val_accuracy: 0.9832\n",
      "Epoch 5/80\n",
      "534/534 [==============================] - 17s 31ms/step - loss: 0.0034 - accuracy: 0.9794 - val_loss: 0.0041 - val_accuracy: 0.9726\n",
      "Epoch 6/80\n",
      "534/534 [==============================] - 14s 26ms/step - loss: 0.0030 - accuracy: 0.9789 - val_loss: 0.0025 - val_accuracy: 0.9789\n",
      "Epoch 7/80\n",
      "534/534 [==============================] - 14s 26ms/step - loss: 0.0028 - accuracy: 0.9813 - val_loss: 0.0029 - val_accuracy: 0.9537\n",
      "Epoch 8/80\n",
      "534/534 [==============================] - 14s 26ms/step - loss: 0.0025 - accuracy: 0.9775 - val_loss: 0.0024 - val_accuracy: 0.9768\n",
      "Epoch 9/80\n",
      "534/534 [==============================] - 14s 25ms/step - loss: 0.0023 - accuracy: 0.9820 - val_loss: 0.0026 - val_accuracy: 0.9811\n",
      "Epoch 10/80\n",
      "534/534 [==============================] - 13s 25ms/step - loss: 0.0022 - accuracy: 0.9817 - val_loss: 0.0019 - val_accuracy: 0.9747\n",
      "Epoch 11/80\n",
      "534/534 [==============================] - 14s 26ms/step - loss: 0.0021 - accuracy: 0.9822 - val_loss: 0.0028 - val_accuracy: 0.9832\n",
      "Epoch 12/80\n",
      "534/534 [==============================] - 14s 26ms/step - loss: 0.0019 - accuracy: 0.9848 - val_loss: 0.0019 - val_accuracy: 0.9895\n",
      "Epoch 13/80\n",
      "534/534 [==============================] - 14s 26ms/step - loss: 0.0020 - accuracy: 0.9838 - val_loss: 0.0015 - val_accuracy: 0.9832\n",
      "Epoch 14/80\n",
      "534/534 [==============================] - 15s 28ms/step - loss: 0.0017 - accuracy: 0.9829 - val_loss: 0.0018 - val_accuracy: 0.9916\n",
      "Epoch 15/80\n",
      "534/534 [==============================] - 15s 27ms/step - loss: 0.0016 - accuracy: 0.9827 - val_loss: 0.0017 - val_accuracy: 0.9853\n",
      "Epoch 16/80\n",
      "534/534 [==============================] - 14s 27ms/step - loss: 0.0016 - accuracy: 0.9843 - val_loss: 0.0018 - val_accuracy: 0.9705\n",
      "Epoch 17/80\n",
      "534/534 [==============================] - 15s 29ms/step - loss: 0.0015 - accuracy: 0.9845 - val_loss: 0.0015 - val_accuracy: 0.9874\n",
      "Epoch 18/80\n",
      "534/534 [==============================] - 15s 28ms/step - loss: 0.0015 - accuracy: 0.9820 - val_loss: 0.0014 - val_accuracy: 0.9832\n",
      "Epoch 19/80\n",
      "534/534 [==============================] - 15s 28ms/step - loss: 0.0015 - accuracy: 0.9852 - val_loss: 0.0012 - val_accuracy: 0.9853\n",
      "Epoch 20/80\n",
      "534/534 [==============================] - 16s 29ms/step - loss: 0.0013 - accuracy: 0.9845 - val_loss: 0.0017 - val_accuracy: 0.9853\n",
      "Epoch 21/80\n",
      "534/534 [==============================] - 16s 30ms/step - loss: 0.0013 - accuracy: 0.9820 - val_loss: 0.0015 - val_accuracy: 0.9874\n",
      "Epoch 22/80\n",
      "534/534 [==============================] - 14s 27ms/step - loss: 0.0013 - accuracy: 0.9845 - val_loss: 0.0014 - val_accuracy: 0.9811\n",
      "Epoch 23/80\n",
      "534/534 [==============================] - 14s 27ms/step - loss: 0.0012 - accuracy: 0.9843 - val_loss: 0.0018 - val_accuracy: 0.9853\n",
      "Epoch 24/80\n",
      "534/534 [==============================] - 14s 27ms/step - loss: 0.0012 - accuracy: 0.9841 - val_loss: 0.0017 - val_accuracy: 0.9811\n",
      "Epoch 25/80\n",
      "534/534 [==============================] - 15s 28ms/step - loss: 0.0012 - accuracy: 0.9864 - val_loss: 0.0011 - val_accuracy: 0.9747\n",
      "Epoch 26/80\n",
      "534/534 [==============================] - 13s 24ms/step - loss: 0.0012 - accuracy: 0.9866 - val_loss: 0.0012 - val_accuracy: 0.9853\n",
      "Epoch 27/80\n",
      "534/534 [==============================] - 13s 24ms/step - loss: 0.0012 - accuracy: 0.9890 - val_loss: 0.0012 - val_accuracy: 0.9874\n",
      "Epoch 28/80\n",
      "534/534 [==============================] - 13s 24ms/step - loss: 0.0011 - accuracy: 0.9859 - val_loss: 0.0013 - val_accuracy: 0.9811\n",
      "Epoch 29/80\n",
      "534/534 [==============================] - 13s 24ms/step - loss: 0.0011 - accuracy: 0.9857 - val_loss: 0.0017 - val_accuracy: 0.9832\n",
      "Epoch 30/80\n",
      "534/534 [==============================] - 13s 24ms/step - loss: 0.0011 - accuracy: 0.9871 - val_loss: 0.0010 - val_accuracy: 0.9874\n",
      "Epoch 31/80\n",
      "534/534 [==============================] - 13s 24ms/step - loss: 0.0010 - accuracy: 0.9871 - val_loss: 9.6367e-04 - val_accuracy: 0.9832\n",
      "Epoch 32/80\n",
      "534/534 [==============================] - 13s 25ms/step - loss: 9.9538e-04 - accuracy: 0.9883 - val_loss: 0.0014 - val_accuracy: 0.9832\n",
      "Epoch 33/80\n",
      "534/534 [==============================] - 15s 27ms/step - loss: 0.0010 - accuracy: 0.9866 - val_loss: 0.0012 - val_accuracy: 0.9853\n",
      "Epoch 34/80\n",
      "534/534 [==============================] - 16s 30ms/step - loss: 9.9635e-04 - accuracy: 0.9871 - val_loss: 0.0014 - val_accuracy: 0.9895\n",
      "Epoch 35/80\n",
      "534/534 [==============================] - 18s 33ms/step - loss: 0.0010 - accuracy: 0.9878 - val_loss: 9.4039e-04 - val_accuracy: 0.9874\n",
      "Epoch 36/80\n",
      "534/534 [==============================] - 16s 29ms/step - loss: 9.5166e-04 - accuracy: 0.9873 - val_loss: 9.8620e-04 - val_accuracy: 0.9789\n",
      "Epoch 37/80\n",
      "534/534 [==============================] - 18s 33ms/step - loss: 9.6183e-04 - accuracy: 0.9864 - val_loss: 0.0012 - val_accuracy: 0.9895\n",
      "Epoch 38/80\n",
      "534/534 [==============================] - 16s 30ms/step - loss: 9.2261e-04 - accuracy: 0.9876 - val_loss: 0.0012 - val_accuracy: 0.9832\n",
      "Epoch 39/80\n",
      "534/534 [==============================] - 15s 28ms/step - loss: 9.7874e-04 - accuracy: 0.9862 - val_loss: 0.0014 - val_accuracy: 0.9853\n",
      "Epoch 40/80\n",
      "534/534 [==============================] - 15s 28ms/step - loss: 8.7676e-04 - accuracy: 0.9878 - val_loss: 0.0011 - val_accuracy: 0.9832\n",
      "Epoch 41/80\n",
      "534/534 [==============================] - 18s 33ms/step - loss: 9.2123e-04 - accuracy: 0.9895 - val_loss: 0.0012 - val_accuracy: 0.9874\n",
      "Epoch 42/80\n",
      "534/534 [==============================] - 16s 30ms/step - loss: 8.9662e-04 - accuracy: 0.9873 - val_loss: 0.0011 - val_accuracy: 0.9853\n",
      "Epoch 43/80\n",
      "534/534 [==============================] - 16s 29ms/step - loss: 8.6875e-04 - accuracy: 0.9880 - val_loss: 9.3743e-04 - val_accuracy: 0.9832\n",
      "Epoch 44/80\n",
      "534/534 [==============================] - 16s 29ms/step - loss: 8.7485e-04 - accuracy: 0.9888 - val_loss: 8.7594e-04 - val_accuracy: 0.9853\n",
      "Epoch 45/80\n",
      "534/534 [==============================] - 17s 31ms/step - loss: 9.0055e-04 - accuracy: 0.9888 - val_loss: 8.1150e-04 - val_accuracy: 0.9811\n",
      "Epoch 46/80\n",
      "534/534 [==============================] - 15s 29ms/step - loss: 8.5760e-04 - accuracy: 0.9890 - val_loss: 8.7233e-04 - val_accuracy: 0.9853\n",
      "Epoch 47/80\n",
      "534/534 [==============================] - 15s 29ms/step - loss: 8.4170e-04 - accuracy: 0.9897 - val_loss: 9.3043e-04 - val_accuracy: 0.9874\n",
      "Epoch 48/80\n",
      "534/534 [==============================] - 16s 29ms/step - loss: 8.2162e-04 - accuracy: 0.9888 - val_loss: 9.0020e-04 - val_accuracy: 0.9832\n",
      "Epoch 49/80\n",
      "534/534 [==============================] - 16s 30ms/step - loss: 8.0394e-04 - accuracy: 0.9892 - val_loss: 0.0011 - val_accuracy: 0.9853\n",
      "Epoch 50/80\n",
      "534/534 [==============================] - 16s 30ms/step - loss: 7.8597e-04 - accuracy: 0.9883 - val_loss: 0.0011 - val_accuracy: 0.9853\n",
      "Epoch 51/80\n",
      "534/534 [==============================] - 16s 29ms/step - loss: 8.0287e-04 - accuracy: 0.9876 - val_loss: 8.8160e-04 - val_accuracy: 0.9916\n",
      "Epoch 52/80\n",
      "534/534 [==============================] - 16s 30ms/step - loss: 7.7131e-04 - accuracy: 0.9904 - val_loss: 9.0015e-04 - val_accuracy: 0.9916\n",
      "Epoch 53/80\n",
      "534/534 [==============================] - 16s 30ms/step - loss: 7.6678e-04 - accuracy: 0.9878 - val_loss: 9.5163e-04 - val_accuracy: 0.9853\n",
      "Epoch 54/80\n",
      "534/534 [==============================] - 16s 30ms/step - loss: 7.9048e-04 - accuracy: 0.9892 - val_loss: 8.7310e-04 - val_accuracy: 0.9853\n",
      "Epoch 55/80\n"
     ]
    },
    {
     "name": "stdout",
     "output_type": "stream",
     "text": [
      "534/534 [==============================] - 15s 29ms/step - loss: 7.8046e-04 - accuracy: 0.9902 - val_loss: 0.0010 - val_accuracy: 0.9853\n",
      "Epoch 56/80\n",
      "534/534 [==============================] - 16s 29ms/step - loss: 7.3823e-04 - accuracy: 0.9913 - val_loss: 0.0012 - val_accuracy: 0.9811\n",
      "Epoch 57/80\n",
      "534/534 [==============================] - 16s 30ms/step - loss: 7.6113e-04 - accuracy: 0.9906 - val_loss: 0.0010 - val_accuracy: 0.9832\n",
      "Epoch 58/80\n",
      "534/534 [==============================] - 15s 29ms/step - loss: 7.4590e-04 - accuracy: 0.9869 - val_loss: 0.0012 - val_accuracy: 0.9832\n",
      "Epoch 59/80\n",
      "534/534 [==============================] - 16s 30ms/step - loss: 7.8402e-04 - accuracy: 0.9890 - val_loss: 9.2527e-04 - val_accuracy: 0.9853\n",
      "Epoch 60/80\n",
      "534/534 [==============================] - 17s 31ms/step - loss: 7.0810e-04 - accuracy: 0.9888 - val_loss: 9.5825e-04 - val_accuracy: 0.9853\n",
      "Epoch 61/80\n",
      "534/534 [==============================] - 16s 30ms/step - loss: 7.3685e-04 - accuracy: 0.9885 - val_loss: 8.8426e-04 - val_accuracy: 0.9832\n",
      "Epoch 62/80\n",
      "534/534 [==============================] - 15s 28ms/step - loss: 7.1812e-04 - accuracy: 0.9899 - val_loss: 8.1305e-04 - val_accuracy: 0.9874\n",
      "Epoch 63/80\n",
      "534/534 [==============================] - 15s 29ms/step - loss: 7.1236e-04 - accuracy: 0.9897 - val_loss: 0.0010 - val_accuracy: 0.9832\n",
      "Epoch 64/80\n",
      "534/534 [==============================] - 16s 29ms/step - loss: 7.1872e-04 - accuracy: 0.9885 - val_loss: 0.0012 - val_accuracy: 0.9747\n",
      "Epoch 65/80\n",
      "534/534 [==============================] - 15s 29ms/step - loss: 7.2950e-04 - accuracy: 0.9902 - val_loss: 9.6032e-04 - val_accuracy: 0.9853\n",
      "Epoch 66/80\n",
      "534/534 [==============================] - 15s 28ms/step - loss: 6.6469e-04 - accuracy: 0.9899 - val_loss: 9.6508e-04 - val_accuracy: 0.9789\n",
      "Epoch 67/80\n",
      "534/534 [==============================] - 15s 27ms/step - loss: 6.6858e-04 - accuracy: 0.9880 - val_loss: 8.5277e-04 - val_accuracy: 0.9895\n",
      "Epoch 68/80\n",
      "534/534 [==============================] - 15s 28ms/step - loss: 6.8835e-04 - accuracy: 0.9902 - val_loss: 8.1313e-04 - val_accuracy: 0.9874\n",
      "Epoch 69/80\n",
      "534/534 [==============================] - 15s 29ms/step - loss: 6.9322e-04 - accuracy: 0.9878 - val_loss: 9.6411e-04 - val_accuracy: 0.9789\n",
      "Epoch 70/80\n",
      "534/534 [==============================] - 15s 28ms/step - loss: 6.7962e-04 - accuracy: 0.9880 - val_loss: 0.0012 - val_accuracy: 0.9789\n",
      "Epoch 71/80\n",
      "534/534 [==============================] - 15s 28ms/step - loss: 6.9214e-04 - accuracy: 0.9895 - val_loss: 8.8367e-04 - val_accuracy: 0.9874\n",
      "Epoch 72/80\n",
      "534/534 [==============================] - 15s 29ms/step - loss: 6.3699e-04 - accuracy: 0.9911 - val_loss: 9.4244e-04 - val_accuracy: 0.9832\n",
      "Epoch 73/80\n",
      "534/534 [==============================] - 15s 29ms/step - loss: 6.4002e-04 - accuracy: 0.9909 - val_loss: 8.8733e-04 - val_accuracy: 0.9874\n",
      "Epoch 74/80\n",
      "534/534 [==============================] - 15s 28ms/step - loss: 6.5473e-04 - accuracy: 0.9906 - val_loss: 0.0012 - val_accuracy: 0.9853\n",
      "Epoch 75/80\n",
      "534/534 [==============================] - 15s 28ms/step - loss: 6.4523e-04 - accuracy: 0.9909 - val_loss: 8.5115e-04 - val_accuracy: 0.9874\n",
      "Epoch 76/80\n",
      "534/534 [==============================] - 15s 28ms/step - loss: 6.5886e-04 - accuracy: 0.9895 - val_loss: 8.9601e-04 - val_accuracy: 0.9853\n",
      "Epoch 77/80\n",
      "534/534 [==============================] - 15s 29ms/step - loss: 6.4448e-04 - accuracy: 0.9899 - val_loss: 8.2109e-04 - val_accuracy: 0.9832\n",
      "Epoch 78/80\n",
      "534/534 [==============================] - 15s 28ms/step - loss: 6.1314e-04 - accuracy: 0.9899 - val_loss: 8.1815e-04 - val_accuracy: 0.9874\n",
      "Epoch 79/80\n",
      "534/534 [==============================] - 15s 28ms/step - loss: 6.3213e-04 - accuracy: 0.9911 - val_loss: 7.9026e-04 - val_accuracy: 0.9832\n",
      "Epoch 80/80\n",
      "534/534 [==============================] - 15s 29ms/step - loss: 6.3155e-04 - accuracy: 0.9880 - val_loss: 8.8697e-04 - val_accuracy: 0.9895\n"
     ]
    }
   ],
   "source": [
    "Batch_Size = 8\n",
    "Epoch_Anz = 80\n",
    "Shift_Range = 3\n",
    "Brightness_Range = 0.3\n",
    "\n",
    "datagen = ImageDataGenerator(width_shift_range=[-Shift_Range,Shift_Range], height_shift_range=[-Shift_Range,Shift_Range],brightness_range=[1-Brightness_Range,1+Brightness_Range])\n",
    "\n",
    "train_iterator = datagen.flow(X_train, y_train, batch_size=Batch_Size)\n",
    "validation_iterator = datagen.flow(X_test, y_test, batch_size=Batch_Size)\n",
    "\n",
    "history = model.fit_generator(train_iterator, validation_data = validation_iterator, epochs = Epoch_Anz)"
   ]
  },
  {
   "cell_type": "markdown",
   "metadata": {},
   "source": [
    "### Overall Learing results (Step 1 & Step 2)"
   ]
  },
  {
   "cell_type": "code",
   "execution_count": 7,
   "metadata": {},
   "outputs": [
    {
     "data": {
      "image/png": "[encoded data removed]",
      "text/plain": [
       "<Figure size 432x288 with 1 Axes>"
      ]
     },
     "metadata": {
      "needs_background": "light"
     },
     "output_type": "display_data"
    }
   ],
   "source": [
    "loss_ges = np.append(loss_ges, history.history['loss'])\n",
    "val_loss_ges = np.append(val_loss_ges, history.history['val_loss'])\n",
    "\n",
    "plt.semilogy(loss_ges)\n",
    "plt.semilogy(val_loss_ges)\n",
    "plt.title('model loss')\n",
    "plt.ylabel('loss')\n",
    "plt.xlabel('epoch')\n",
    "plt.legend(['train','eval'], loc='upper left')\n",
    "plt.show()"
   ]
  },
  {
   "cell_type": "markdown",
   "metadata": {},
   "source": [
    "### Check the model by hand\n",
    "\n",
    "* The following code uses the trained model to check the deviation for each picture.\n",
    "* The evaluation takes the periodic character of the results into account (dev1 ... dev2).\n",
    "* Images, that have a bigger deviation as the parameter \"deviation_max_list\" are printed in a list to check the picture and labeling itself"
   ]
  },
  {
   "cell_type": "code",
   "execution_count": 8,
   "metadata": {},
   "outputs": [
    {
     "name": "stdout",
     "output_type": "stream",
     "text": [
      "data_resize_all\\0.0_Lfd-0005_zeiger1_2020-04-29_12-16-02.jpg 0.0 0.033705894992613956 -0.033705894992613956\n",
      "data_resize_all\\0.1_Lfd-0058_zeiger3_2019-11-19_10-07-03.jpg 0.01 0.04067339705247204 -0.03067339705247204\n",
      "data_resize_all\\0.1_Lfd-0066_zeiger3_2020-04-29_13-08-01.jpg 0.01 0.04450954434068816 -0.03450954434068816\n",
      "data_resize_all\\0.2_Lfd-0088_zeiger2_2019-09-14_19-40-12.jpg 0.02 0.06419291630006477 -0.04419291630006476\n",
      "data_resize_all\\0.4_Lfd-0146_zeiger3_2019-09-14_23-30-12.jpg 0.04 0.07068797559798916 -0.030687975597989157\n",
      "data_resize_all\\0.5_Lfd-0168_zeiger1_2020-04-29_12-23-02.jpg 0.05 0.09264480922491297 -0.04264480922491297\n",
      "data_resize_all\\1.4_Lfd-0583_zeiger4_2020-04-29_12-34-02.jpg 0.13999999999999999 0.10826200830302558 0.0317379916969744\n",
      "data_resize_all\\1.7_Lfd-0674_zeiger2_2020-04-29_14-40-02.jpg 0.16999999999999998 0.1296445416004244 0.04035545839957558\n",
      "data_resize_all\\1.7_Lfd-0695_zeiger3_2020-04-29_11-37-01.jpg 0.16999999999999998 0.13655271824983534 0.03344728175016465\n",
      "data_resize_all\\1.7_Lfd-0696_zeiger3_2020-04-29_13-41-02.jpg 0.16999999999999998 0.13566069554423166 0.03433930445576833\n",
      "data_resize_all\\1.7_Lfd-0699_zeiger4_2020-04-29_11-29-02.jpg 0.16999999999999998 0.13490915654893176 0.03509084345106822\n",
      "data_resize_all\\1.8_Lfd-0729_zeiger1_2020-04-29_11-10-02.jpg 0.18 0.1488258946558051 0.031174105344194902\n",
      "data_resize_all\\1.8_Lfd-0734_zeiger2_2020-04-29_11-21-01.jpg 0.18 0.14929091670179678 0.03070908329820321\n",
      "data_resize_all\\1.8_Lfd-0741_zeiger2_2020-04-29_14-32-02.jpg 0.18 0.1472318043945149 0.032768195605485106\n",
      "data_resize_all\\1.8_Lfd-0765_zeiger3_2020-04-29_11-07-53.jpg 0.18 0.13235911490868135 0.04764088509131864\n",
      "data_resize_all\\1.8_Lfd-0766_zeiger3_2020-04-29_11-41-02.jpg 0.18 0.13639826111085457 0.043601738889145425\n",
      "data_resize_all\\1.8_Lfd-0768_zeiger3_2020-04-29_12-56-02.jpg 0.18 0.14572907739974747 0.034270922600252524\n",
      "data_resize_all\\1.8_Lfd-0769_zeiger3_2020-04-29_13-17-02.jpg 0.18 0.1440509378661707 0.035949062133829285\n",
      "data_resize_all\\1.9_Lfd-0785_zeiger2_2020-04-29_13-52-02.jpg 0.19 0.15198538838387143 0.03801461161612857\n",
      "data_resize_all\\1.9_Lfd-0804_zeiger3_2019-09-14_20-28-52.jpg 0.19 0.1597648030937867 0.03023519690621329\n",
      "data_resize_all\\1.9_Lfd-0805_zeiger3_2019-09-14_20-30-29.jpg 0.19 0.1539051743184589 0.0360948256815411\n",
      "data_resize_all\\1.9_Lfd-0806_zeiger3_2019-09-14_20-30-42.jpg 0.19 0.15624046342755551 0.03375953657244449\n",
      "data_resize_all\\1.9_Lfd-0807_zeiger3_2019-09-14_20-31-52.jpg 0.19 0.15300243201040786 0.03699756798959214\n",
      "data_resize_all\\1.9_Lfd-0808_zeiger3_2019-09-14_20-40-12.jpg 0.19 0.15605703490284528 0.03394296509715472\n",
      "data_resize_all\\1.9_Lfd-0809_zeiger3_2019-09-14_20-50-12.jpg 0.19 0.15491100505110791 0.03508899494889209\n",
      "data_resize_all\\1.9_Lfd-0810_zeiger3_2019-09-14_21-00-12.jpg 0.19 0.14966061017699758 0.04033938982300242\n",
      "data_resize_all\\1.9_Lfd-0812_zeiger3_2020-04-29_14-05-02.jpg 0.19 0.1578953992907019 0.0321046007092981\n",
      "data_resize_all\\2.0_Lfd-0856_zeiger3_2019-11-19_11-07-03.jpg 0.2 0.23476136162714528 -0.03476136162714527\n",
      "data_resize_all\\2.0_Lfd-0862_zeiger4_2020-04-29_11-35-02.jpg 0.2 0.16914041403998625 0.030859585960013758\n",
      "data_resize_all\\2.0_Lfd-0866_zeiger4_2020-04-29_13-56-02.jpg 0.2 0.1698816603196619 0.030118339680338113\n",
      "data_resize_all\\2.1_Lfd-0953_zeiger4_2019-06-04T053009.jpg 0.21000000000000002 0.1781249587107072 0.03187504128929283\n",
      "data_resize_all\\2.1_Lfd-0956_zeiger4_2019-06-06T104009.jpg 0.21000000000000002 0.17877276420798752 0.031227235792012503\n",
      "data_resize_all\\2.8_Lfd-1259_zeiger4_2019-06-02T104009.jpg 0.27999999999999997 0.2499363913338642 0.030063608666135777\n",
      "data_resize_all\\3.0_Lfd-1366_zeiger3_2019-06-06T105009.jpg 0.3 0.26946839871213424 0.03053160128786575\n",
      "data_resize_all\\3.0_Lfd-1384_zeiger4_2019-06-04T192009.jpg 0.3 0.26895953064622063 0.031040469353779354\n",
      "data_resize_all\\3.4_Lfd-1601_zeiger4_2019-09-14_23-50-12.jpg 0.33999999999999997 0.3094228614362194 0.03057713856378058\n",
      "data_resize_all\\3.5_Lfd-1655_zeiger2_2019-09-15_06-20-12.jpg 0.35 0.30537094657484776 0.04462905342515222\n",
      "data_resize_all\\3.5_Lfd-1673_zeiger4_2019-06-05T043009.jpg 0.35 0.31981169300029494 0.03018830699970504\n",
      "data_resize_all\\3.6_Lfd-1688_zeiger4_2020-04-29_13-11-02.jpg 0.36 0.39299189553312247 -0.032991895533122484\n",
      "data_resize_all\\3.7_Lfd-1712_zeiger4_2020-04-29_11-24-01.jpg 0.37 0.4005807669379421 -0.030580766937942094\n",
      "data_resize_all\\4.3_Lfd-2003_zeiger2_2019-06-04T082009.jpg 0.43 0.4619794623349285 -0.03197946233492849\n",
      "data_resize_all\\4.7_Lfd-2205_zeiger4_2019-06-02T053013.jpg 0.47000000000000003 0.5066729291233534 -0.03667292912335335\n",
      "data_resize_all\\4.8_Lfd-2222_zeiger2_2019-11-19_05-17-03.jpg 0.48 0.4497330090440864 0.030266990955913564\n",
      "data_resize_all\\4.9_Lfd-2256_zeiger2_2019-11-19_03-37-03.jpg 0.49000000000000005 0.45417851355638 0.03582148644362004\n",
      "data_resize_all\\4.9_Lfd-2257_zeiger2_2019-11-19_03-57-03.jpg 0.49000000000000005 0.45582944616976284 0.034170553830237205\n",
      "data_resize_all\\5.3_Lfd-2472_zeiger1_2020-04-29_14-19-02.jpg 0.53 0.5642405714148795 -0.03424057141487946\n",
      "data_resize_all\\5.6_Lfd-2547_zeiger2_2019-06-03T153009.jpg 0.5599999999999999 0.5940412180005806 -0.034041218000580686\n",
      "data_resize_all\\5.9_Lfd-2752_zeiger3_2019-06-02T174009.jpg 0.5900000000000001 0.6212656690133345 -0.031265669013334385\n",
      "data_resize_all\\6.3_Lfd-3007_zeiger4_2019-06-03T081010.jpg 0.63 0.6603390183617402 -0.030339018361740244\n",
      "data_resize_all\\6.3_Lfd-3008_zeiger4_2019-06-03T082009.jpg 0.63 0.660341826328399 -0.03034182632839899\n",
      "data_resize_all\\6.8_Lfd-3240_zeiger4_2020-04-29_13-31-02.jpg 0.6799999999999999 0.7144040637558932 -0.03440406375589322\n",
      "data_resize_all\\7.0_Lfd-3324_zeiger2_2020-04-29_12-52-02.jpg 0.7 0.7327121012348969 -0.032712101234896984\n",
      "data_resize_all\\7.1_Lfd-3390_zeiger2_2020-04-29_12-44-02.jpg 0.71 0.7406851707805298 -0.03068517078052979\n",
      "data_resize_all\\7.1_Lfd-3410_zeiger4_2020-04-29_12-21-02.jpg 0.71 0.7411583700807778 -0.03115837008077782\n",
      "data_resize_all\\7.2_Lfd-3461_zeiger4_2020-04-29_11-33-02.jpg 0.72 0.7524482743511073 -0.03244827435110731\n",
      "data_resize_all\\7.3_Lfd-3535_zeiger2_2020-04-29_10-47-26.jpg 0.73 0.7648147492438646 -0.03481474924386463\n",
      "data_resize_all\\8.4_Lfd-3909_zeiger2_2020-04-29_11-35-02.jpg 0.8400000000000001 0.8701154721139881 -0.030115472113988018\n",
      "data_resize_all\\8.4_Lfd-3946_zeiger4_2019-06-05T044009.jpg 0.8400000000000001 0.8738237525691173 -0.03382375256911718\n",
      "data_resize_all\\9.0_Lfd-4206_zeiger4_2019-11-19_01-12-03.jpg 0.9 0.851548930947647 0.04845106905235297\n",
      "data_resize_all\\9.3_Lfd-4424_zeiger4_2019-11-19_14-52-04.jpg 0.93 0.8960848758667521 0.03391512413324793\n",
      "data_resize_all\\9.3_Lfd-4425_zeiger4_2019-11-19_15-02-04.jpg 0.93 0.8982079358201382 0.0317920641798618\n",
      "data_resize_all\\9.3_Lfd-4426_zeiger4_2019-11-19_15-07-04.jpg 0.93 0.8986396796666738 0.03136032033332625\n",
      "data_resize_all\\9.3_Lfd-4427_zeiger4_2019-11-19_15-12-04.jpg 0.93 0.8982056306312933 0.03179436936870672\n",
      "data_resize_all\\9.3_Lfd-4429_zeiger4_2019-11-19_15-22-03.jpg 0.93 0.8945609088809406 0.03543909111905941\n",
      "data_resize_all\\9.4_Lfd-4469_zeiger4_2019-11-19_14-02-04.jpg 0.9400000000000001 0.9061412384866034 0.03385876151339662\n",
      "data_resize_all\\9.4_Lfd-4470_zeiger4_2019-11-19_14-17-03.jpg 0.9400000000000001 0.9067507474926625 0.03324925250733757\n",
      "data_resize_all\\9.6_Lfd-4495_zeiger4_2020-04-29_11-55-02.jpg 0.96 0.9964229264708996 -0.03642292647089962\n",
      "data_resize_all\\9.6_Lfd-4497_zeiger4_2020-04-29_13-58-01.jpg 0.96 0.9910267767235674 -0.031026776723567462\n",
      "data_resize_all\\9.7_Lfd-4521_zeiger1_2020-04-29_10-55-02.jpg 0.97 1.0035722007938839 -0.0335722007938839\n",
      "data_resize_all\\9.7_Lfd-4542_zeiger4_2019-11-19_06-27-03.jpg 0.97 0.9376302461737016 0.032369753826298364\n",
      "data_resize_all\\9.7_Lfd-4543_zeiger4_2020-04-29_11-19-02.jpg 0.97 1.0198597058622458 -0.04985970586224586\n",
      "data_resize_all\\9.8_Lfd-4612_zeiger2_2020-02-17_17-43-42.jpg 0.9800000000000001 1.0100686545887638 -0.030068654588763732\n",
      "data_resize_all\\9.8_Lfd-4617_zeiger3_2020-04-29_14-00-02.jpg 0.9800000000000001 1.013960888876555 -0.03396088887655491\n",
      "data_resize_all\\9.9_Lfd-4648_zeiger2_2020-02-17_17-42-46.jpg 0.99 1.0221065309778268 -0.032106530977826786\n",
      "data_resize_all\\9.9_Lfd-4680_zeiger4_2020-04-29_11-52-02.jpg 0.99 1.0255934943310998 -0.03559349433109982\n"
     ]
    }
   ],
   "source": [
    "Input_dir='data_resize_all'\n",
    "#Input_dir='test_result'\n",
    "files = glob.glob(Input_dir + '/*.*')\n",
    "res = []\n",
    "i = 0\n",
    "deviation_max_list = 0.03\n",
    "\n",
    "for aktfile in files:\n",
    "    base = os.path.basename(aktfile)\n",
    "    target = (float(base[0:3])) / 10\n",
    "    target_sin = math.sin(target * math.pi * 2)\n",
    "    target_cos = math.cos(target * math.pi * 2)\n",
    "\n",
    "    test_image = Image.open(aktfile)\n",
    "    test_image = np.array(test_image, dtype=\"float32\")\n",
    "    img = np.reshape(test_image,[1,32,32,3])\n",
    "    classes = model.predict(img)\n",
    "    \n",
    "    out_sin = classes[0][0]  \n",
    "    out_cos = classes[0][1]\n",
    "    out_target = (np.arctan2(out_sin, out_cos)/(2*math.pi)) % 1\n",
    "\n",
    "    dev_sin = target_sin - out_sin\n",
    "    dev_cos = target_cos - out_cos\n",
    "    dev_target = target - out_target\n",
    "    \n",
    "    if abs(dev_target + 1) < abs(dev_target):\n",
    "        out_target = out_target - 1\n",
    "        dev_target = target - out_target\n",
    "    else:\n",
    "        if abs(dev_target - 1) < abs(dev_target):\n",
    "            out_target = out_target + 1\n",
    "            dev_target = target - out_target\n",
    "               \n",
    "    res.append(np.array([target, out_target, dev_target, out_sin, out_cos, i]))\n",
    "    if abs(dev_target) > deviation_max_list:\n",
    "        print(aktfile + \" \" + str(target) + \" \" + str(out_target) +  \" \" + str(dev_target))\n",
    "    i+=1\n",
    "\n",
    "res = np.asarray(res)\n",
    "res_step_1 = res"
   ]
  },
  {
   "cell_type": "markdown",
   "metadata": {},
   "source": [
    "## Results"
   ]
  },
  {
   "cell_type": "code",
   "execution_count": 9,
   "metadata": {},
   "outputs": [
    {
     "data": {
      "image/png": "[encoded data removed]",
      "text/plain": [
       "<Figure size 432x288 with 1 Axes>"
      ]
     },
     "metadata": {
      "needs_background": "light"
     },
     "output_type": "display_data"
    }
   ],
   "source": [
    "plt.plot(res[:,3])\n",
    "plt.plot(res[:,4])\n",
    "plt.title('Result')\n",
    "plt.ylabel('value')\n",
    "plt.xlabel('#Picture')\n",
    "plt.legend(['sin', 'cos'], loc='lower left')\n",
    "plt.show()"
   ]
  },
  {
   "cell_type": "code",
   "execution_count": 10,
   "metadata": {},
   "outputs": [
    {
     "data": {
      "image/png": "[encoded data removed]",
      "text/plain": [
       "<Figure size 432x288 with 1 Axes>"
      ]
     },
     "metadata": {
      "needs_background": "light"
     },
     "output_type": "display_data"
    }
   ],
   "source": [
    "plt.plot(res[:,0])\n",
    "plt.plot(res[:,1])\n",
    "plt.title('Result')\n",
    "plt.ylabel('Counter Value')\n",
    "plt.xlabel('#Picture')\n",
    "plt.legend(['Orginal', 'Prediction'], loc='upper left')\n",
    "plt.show()"
   ]
  },
  {
   "cell_type": "markdown",
   "metadata": {},
   "source": [
    "### Deviation from Expected Value"
   ]
  },
  {
   "cell_type": "code",
   "execution_count": 11,
   "metadata": {},
   "outputs": [
    {
     "data": {
      "image/png": "[encoded data removed]",
      "text/plain": [
       "<Figure size 432x288 with 1 Axes>"
      ]
     },
     "metadata": {
      "needs_background": "light"
     },
     "output_type": "display_data"
    },
    {
     "name": "stdout",
     "output_type": "stream",
     "text": [
      "[-0.0003  0.0124 -0.0499  0.0485]\n"
     ]
    }
   ],
   "source": [
    "plt.plot(res[:,2])\n",
    "plt.title('Deviation')\n",
    "plt.ylabel('Deviation from expected value')\n",
    "plt.xlabel('#Picture')\n",
    "plt.legend(['Deviation'], loc='upper left')\n",
    "#plt.ylim(-0.3, 0.3)\n",
    "plt.show()\n",
    "\n",
    "statistic = np.array([np.mean(res[:,2]), np.std(res[:,2]), np.min(res[:,2]), np.max(res[:,2])])\n",
    "print(statistic)"
   ]
  },
  {
   "cell_type": "markdown",
   "metadata": {},
   "source": [
    "### Save the model\n",
    "\n",
    "* Save the model to the file with the \"h5\" file format"
   ]
  },
  {
   "cell_type": "code",
   "execution_count": 12,
   "metadata": {},
   "outputs": [
    {
     "data": {
      "text/plain": [
       "315584"
      ]
     },
     "execution_count": 12,
     "metadata": {},
     "output_type": "execute_result"
    }
   ],
   "source": [
    "model.save(\"CNN_Analog-Readout_Version-6.1.0.h5\")\n",
    "\n",
    "converter = tf.lite.TFLiteConverter.from_keras_model(model)\n",
    "tflite_model = converter.convert()\n",
    "open(\"CNN_Analog-Readout_Version-6.1.0.tflite\", \"wb\").write(tflite_model)"
   ]
  }
 ],
 "metadata": {
  "kernelspec": {
   "display_name": "Python 3",
   "language": "python",
   "name": "python3"
  },
  "language_info": {
   "codemirror_mode": {
    "name": "ipython",
    "version": 3
   },
   "file_extension": ".py",
   "mimetype": "text/x-python",
   "name": "python",
   "nbconvert_exporter": "python",
   "pygments_lexer": "ipython3",
   "version": "3.6.10"
  }
 },
 "nbformat": 4,
 "nbformat_minor": 2
}
