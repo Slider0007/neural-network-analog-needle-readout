{
 "cells": [
  {
   "cell_type": "markdown",
   "metadata": {},
   "source": [
    "# Image preparation\n",
    "\n",
    "The original image size is 55x90 pixels with a color depth of 3 (RGB).\n",
    "The below code can be used to transform the images in an input directory (Input_dir) to the right size (20x32 pixels) into an output directory (Output_dir). Inside the directory the pictures are stored in subdirectories according their labeling (0 ... 9 + NaN).\n",
    "Any other image converter can be used as well.\n",
    "\n",
    "### Prerequisite\n",
    "Installed OpenCV libary within python (opencv)"
   ]
  },
  {
   "cell_type": "code",
   "execution_count": 1,
   "metadata": {},
   "outputs": [],
   "source": [
    "import glob\n",
    "import os\n",
    "from PIL import Image \n",
    "\n",
    "Input_dir = 'data_raw_all'\n",
    "Output_dir= 'data_resize_all'\n",
    "\n",
    "target_size_x = 32\n",
    "target_size_y = 32"
   ]
  },
  {
   "cell_type": "code",
   "execution_count": 2,
   "metadata": {},
   "outputs": [
    {
     "name": "stdout",
     "output_type": "stream",
     "text": [
      "231 files have been deleted.\n"
     ]
    }
   ],
   "source": [
    "files = glob.glob(Output_dir + '/*.jpg')\n",
    "for f in files:\n",
    "    os.remove(f)\n",
    "print(str(len(files)) + \" files have been deleted.\")"
   ]
  },
  {
   "cell_type": "code",
   "execution_count": 3,
   "metadata": {},
   "outputs": [
    {
     "name": "stdout",
     "output_type": "stream",
     "text": [
      "0 data_raw_all\\0.0_0.0.jpg\n"
     ]
    },
    {
     "name": "stderr",
     "output_type": "stream",
     "text": [
      "C:\\Users\\Muell\\AppData\\Local\\Temp\\ipykernel_11928\\2001317934.py:14: DeprecationWarning: NEAREST is deprecated and will be removed in Pillow 10 (2023-07-01). Use Resampling.NEAREST or Dither.NONE instead.\n",
      "  test_image = test_image.resize((target_size_x, target_size_y), Image.NEAREST)\n"
     ]
    },
    {
     "name": "stdout",
     "output_type": "stream",
     "text": [
      "500 data_raw_all\\0.7_cf3528b9b2433f66e17535a84aabe8b1.jpg\n",
      "1000 data_raw_all\\1.4_0584_zeiger3_2019-06-04T201009.jpg\n",
      "1500 data_raw_all\\2.0_0940_zeiger4_2019-06-04T054009.jpg\n",
      "2000 data_raw_all\\2.6_697ad8d9b31ecfa8ee5d8f2eb67bac87.jpg\n",
      "2500 data_raw_all\\3.3_1628_zeiger3_2019-06-01T184019.jpg\n",
      "3000 data_raw_all\\4.0_1971_zeiger2_2020-04-29_11-00-02.jpg\n",
      "3500 data_raw_all\\4.6_2329_zeiger3_2019-06-02T040013.jpg\n",
      "4000 data_raw_all\\5.3_2585_zeiger1_2019-11-19_00-57-03.jpg\n",
      "4500 data_raw_all\\6.0_2923_zeiger2_2019-06-04T102009.jpg\n",
      "5000 data_raw_all\\6.6_3305_zeiger4_2019-06-05T072009.jpg\n",
      "5500 data_raw_all\\7.3_3749_zeiger4_2019-11-19_01-22-03.jpg\n",
      "6000 data_raw_all\\8.0_4053_zeiger4_2019-11-19_07-52-03.jpg\n",
      "6500 data_raw_all\\8.8_afcb1a4e5ca440e0a9b91f4ab1ac6a51.jpg\n",
      "7000 data_raw_all\\9.4_4735_zeiger2_2019-06-04T141009.jpg\n"
     ]
    }
   ],
   "source": [
    "import hashlib\n",
    "\n",
    "files = glob.glob(Input_dir + '/*.jpg')\n",
    "hashes={}\n",
    "for i,aktfile in enumerate(files):\n",
    "    if i%500==0:\n",
    "        print(i, aktfile)\n",
    "    test_image = Image.open(aktfile)\n",
    "    hash=hashlib.sha256(test_image.tobytes()).hexdigest()\n",
    "    if hash in hashes:\n",
    "        hashes[hash].append(aktfile)\n",
    "    else:\n",
    "        hashes[hash]=[aktfile]\n",
    "    test_image = test_image.resize((target_size_x, target_size_y), Image.NEAREST)\n",
    "    base=os.path.basename(aktfile)\n",
    "    save_name = Output_dir + '/' + base\n",
    "    test_image.save(save_name, \"JPEG\")"
   ]
  },
  {
   "cell_type": "markdown",
   "metadata": {},
   "source": [
    "# Removing duplicate files"
   ]
  },
  {
   "cell_type": "code",
   "execution_count": 4,
   "metadata": {},
   "outputs": [
    {
     "name": "stdout",
     "output_type": "stream",
     "text": [
      "['data_raw_all\\\\0.3_f38f2eb5263c3f8159ae2d2a7168d5d5.jpg', 'data_raw_all\\\\0.4_f38f2eb5263c3f8159ae2d2a7168d5d5.jpg']\n",
      "['data_raw_all\\\\1.1_e7f7d50ef31f40cf0287bf392636fff4.jpg', 'data_raw_all\\\\1.2_e7f7d50ef31f40cf0287bf392636fff4.jpg']\n",
      "['data_raw_all\\\\3.4_bb2454a9079fb538291cb22e4a1294ad.jpg', 'data_raw_all\\\\3.5_dc83d3e47e3e8bdf992e23fa31ff4093.jpg']\n",
      "['data_raw_all\\\\5.3_e046159c358ff9fdc11dc68ec08f8d42.jpg', 'data_raw_all\\\\5.4_96345da8a67b01f07d974c488425c3e5.jpg']\n"
     ]
    }
   ],
   "source": [
    "# duplicate files are a risk to the metrics, they pollute the validation dataset\n",
    "for hash in hashes:\n",
    "    if len(hashes[hash])>1:\n",
    "        print(hashes[hash])    \n",
    "        for duplicate in hashes[hash][1:]:\n",
    "            # remove all except the first\n",
    "            os.remove(duplicate)    "
   ]
  },
  {
   "cell_type": "code",
   "execution_count": null,
   "metadata": {},
   "outputs": [],
   "source": []
  }
 ],
 "metadata": {
  "kernelspec": {
   "display_name": "Python 3 (ipykernel)",
   "language": "python",
   "name": "python3"
  },
  "language_info": {
   "codemirror_mode": {
    "name": "ipython",
    "version": 3
   },
   "file_extension": ".py",
   "mimetype": "text/x-python",
   "name": "python",
   "nbconvert_exporter": "python",
   "pygments_lexer": "ipython3",
   "version": "3.9.18"
  },
  "vscode": {
   "interpreter": {
    "hash": "3431513051aa6ef6a02e4978d18932220794b1f41fa21fbae2ad068757488314"
   }
  }
 },
 "nbformat": 4,
 "nbformat_minor": 4
}
