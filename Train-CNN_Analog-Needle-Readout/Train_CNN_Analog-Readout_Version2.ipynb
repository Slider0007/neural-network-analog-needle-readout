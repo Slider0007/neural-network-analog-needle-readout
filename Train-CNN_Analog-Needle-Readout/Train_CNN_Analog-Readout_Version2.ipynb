{
 "cells": [
  {
   "cell_type": "markdown",
   "metadata": {},
   "source": [
    "# CNN Training\n",
    "\n",
    "Target of this code is to train a CNN network to extract the needle position of an analog needle device.\n",
    "\n",
    "### Preparing the training\n",
    "* First all libraries are loaded\n",
    "    * It is assumed, that they are installed during the Python setup\n",
    "* matplotlib is set to print the output inline in the jupyter notebook"
   ]
  },
  {
   "cell_type": "code",
   "execution_count": 1,
   "metadata": {
    "scrolled": true
   },
   "outputs": [],
   "source": [
    "import os\n",
    "import tensorflow as tf\n",
    "import matplotlib.pyplot as plt\n",
    "import glob\n",
    "import numpy as np\n",
    "from sklearn.utils import shuffle\n",
    "from tensorflow.python import keras\n",
    "from tensorflow.python.keras import Sequential\n",
    "from tensorflow.python.keras.layers import Dense, InputLayer, Conv2D, MaxPool2D, Flatten, BatchNormalization\n",
    "from tensorflow.keras.preprocessing.image import ImageDataGenerator\n",
    "from sklearn.model_selection import train_test_split\n",
    "import tensorflow.keras.backend as K\n",
    "from tensorflow.keras.callbacks import History \n",
    "import math\n",
    "from PIL import Image \n",
    "\n",
    "loss_ges = np.array([])\n",
    "val_loss_ges = np.array([])\n",
    "\n",
    "%matplotlib inline\n",
    "np.set_printoptions(precision=4)\n",
    "np.set_printoptions(suppress=True)"
   ]
  },
  {
   "cell_type": "markdown",
   "metadata": {},
   "source": [
    "### Load training data\n",
    "* The data is expected in the \"Input_dir\"\n",
    "* Picture size must be 32x32 with 3 color channels (RGB)\n",
    "* The filename contains the informations needed for training in the first 3 digits::\n",
    "* Typical filename: \n",
    "    * x.y-zzzz.jpg \n",
    "    * e.g. \"4.6_Lfd-1406_zeiger3_2019-06-02T050011\"\n",
    "\n",
    "|Place holder | Meaning                     | Usage        |\n",
    "|------------- |-----------------------------|--------------|\n",
    "| **x.y**          | readout value               | **to be learned** |\n",
    "| zzzz        | additional information              | not needed   |\n",
    "\n",
    "* The images are stored in the x_data[]\n",
    "* The expected output for each image in the corresponding y_data[]\n",
    "    * The periodic nature is reflected in a **sin/cos coding**, which allows to restore the angle/counter value with an arctan later on.\n",
    "\n",
    "* The last step is a shuffle (from sklearn.utils) as the filenames are on order due to the encoding of the expected analog readout in the filename "
   ]
  },
  {
   "cell_type": "code",
   "execution_count": 2,
   "metadata": {},
   "outputs": [
    {
     "name": "stdout",
     "output_type": "stream",
     "text": [
      "(3853, 32, 32, 3)\n",
      "(3853, 2)\n"
     ]
    }
   ],
   "source": [
    "Input_dir='data_resize_all'\n",
    "\n",
    "files = glob.glob(Input_dir + '/*.*')\n",
    "x_data = []\n",
    "y_data = []\n",
    "\n",
    "for aktfile in files:\n",
    "    test_image = Image.open(aktfile)\n",
    "    test_image = np.array(test_image, dtype=\"float32\")\n",
    "    test_image = np.reshape(test_image, (32,32,3))\n",
    "    base = os.path.basename(aktfile)\n",
    "    target_number = (float(base[0:3])) / 10\n",
    "    target_sin = math.sin(target_number * math.pi * 2)\n",
    "    target_cos = math.cos(target_number * math.pi * 2)\n",
    "\n",
    "    x_data.append(test_image)\n",
    "    zw = np.array([target_sin, target_cos])\n",
    "    y_data.append(zw)\n",
    "\n",
    "x_data = np.array(x_data)\n",
    "y_data = np.array(y_data)\n",
    "print(x_data.shape)\n",
    "print(y_data.shape)\n",
    "\n",
    "x_data, y_data = shuffle(x_data, y_data)\n",
    "X_train, X_test, y_train, y_test = train_test_split(x_data, y_data, test_size=0.2)"
   ]
  },
  {
   "cell_type": "markdown",
   "metadata": {},
   "source": [
    "### Define the model\n",
    "\n",
    "The layout of the network ist a typcial CNN network with alternating **Conv2D** and **MaxPool2D** layers. Finished after **flattening** with additional **Dense** layer.\n",
    "\n",
    "#### Important\n",
    "* Shape of the input layer: (32, 32, 3)\n",
    "* Shape of the output layer: (2) - sin and cos"
   ]
  },
  {
   "cell_type": "code",
   "execution_count": 3,
   "metadata": {
    "scrolled": true
   },
   "outputs": [
    {
     "name": "stdout",
     "output_type": "stream",
     "text": [
      "Model: \"sequential\"\n",
      "_________________________________________________________________\n",
      "Layer (type)                 Output Shape              Param #   \n",
      "=================================================================\n",
      "batch_normalization (BatchNo (None, 32, 32, 3)         12        \n",
      "_________________________________________________________________\n",
      "conv2d (Conv2D)              (None, 32, 32, 64)        4864      \n",
      "_________________________________________________________________\n",
      "max_pooling2d (MaxPooling2D) (None, 8, 8, 64)          0         \n",
      "_________________________________________________________________\n",
      "conv2d_1 (Conv2D)            (None, 8, 8, 32)          51232     \n",
      "_________________________________________________________________\n",
      "max_pooling2d_1 (MaxPooling2 (None, 2, 2, 32)          0         \n",
      "_________________________________________________________________\n",
      "conv2d_2 (Conv2D)            (None, 2, 2, 32)          9248      \n",
      "_________________________________________________________________\n",
      "max_pooling2d_2 (MaxPooling2 (None, 1, 1, 32)          0         \n",
      "_________________________________________________________________\n",
      "flatten (Flatten)            (None, 32)                0         \n",
      "_________________________________________________________________\n",
      "dense (Dense)                (None, 128)               4224      \n",
      "_________________________________________________________________\n",
      "dense_1 (Dense)              (None, 64)                8256      \n",
      "_________________________________________________________________\n",
      "dense_2 (Dense)              (None, 2)                 130       \n",
      "=================================================================\n",
      "Total params: 77,966\n",
      "Trainable params: 77,960\n",
      "Non-trainable params: 6\n",
      "_________________________________________________________________\n"
     ]
    }
   ],
   "source": [
    "model = Sequential()\n",
    "model.add(BatchNormalization(input_shape=(32,32,3)))\n",
    "model.add(Conv2D(64, (5, 5), input_shape=(32,32,3), padding='same', activation=\"relu\"))\n",
    "model.add(MaxPool2D(pool_size=(4,4)))\n",
    "model.add(Conv2D(32, (5, 5), padding='same', activation=\"relu\"))\n",
    "model.add(MaxPool2D(pool_size=(4,4)))\n",
    "model.add(Conv2D(32, (3, 3), padding='same', activation=\"relu\"))\n",
    "model.add(MaxPool2D(pool_size=(2,2)))\n",
    "model.add(Flatten())\n",
    "model.add(Dense(128,activation=\"relu\"))\n",
    "model.add(Dense(64,activation=\"relu\"))\n",
    "model.add(Dense(2))\n",
    "model.summary()\n",
    "\n",
    "model.compile(loss=keras.losses.mean_squared_error, optimizer=tf.keras.optimizers.Adadelta(learning_rate=1.0, rho=0.95), metrics = [\"accuracy\"])"
   ]
  },
  {
   "cell_type": "markdown",
   "metadata": {},
   "source": [
    "# Training\n",
    "The input pictures are randomly scattered for brightness and pixel shift variations. These is implemented with a ImageDataGenerator.\n",
    "\n",
    "\n",
    "The training is splitted into two steps:\n",
    "1. Variation of the brightness only\n",
    "2. Variation of brightness and Pixel Shift"
   ]
  },
  {
   "cell_type": "markdown",
   "metadata": {},
   "source": [
    "### Step 1: Brigthness scattering only"
   ]
  },
  {
   "cell_type": "code",
   "execution_count": 4,
   "metadata": {},
   "outputs": [
    {
     "name": "stdout",
     "output_type": "stream",
     "text": [
      "Epoch 1/30\n",
      "386/386 [==============================] - 52s 136ms/step - loss: 0.1444 - accuracy: 0.8563 - val_loss: 0.0274 - val_accuracy: 0.9637\n",
      "Epoch 2/30\n",
      "386/386 [==============================] - 69s 178ms/step - loss: 0.0175 - accuracy: 0.9611 - val_loss: 0.0185 - val_accuracy: 0.9702\n",
      "Epoch 3/30\n",
      "386/386 [==============================] - 59s 154ms/step - loss: 0.0124 - accuracy: 0.9646 - val_loss: 0.0112 - val_accuracy: 0.9818\n",
      "Epoch 4/30\n",
      "386/386 [==============================] - 55s 141ms/step - loss: 0.0097 - accuracy: 0.9705 - val_loss: 0.0055 - val_accuracy: 0.9637\n",
      "Epoch 5/30\n",
      "386/386 [==============================] - 66s 170ms/step - loss: 0.0070 - accuracy: 0.9695 - val_loss: 0.0040 - val_accuracy: 0.9728\n",
      "Epoch 6/30\n",
      "386/386 [==============================] - 64s 165ms/step - loss: 0.0054 - accuracy: 0.9724 - val_loss: 0.0049 - val_accuracy: 0.9702\n",
      "Epoch 7/30\n",
      "386/386 [==============================] - 52s 135ms/step - loss: 0.0041 - accuracy: 0.9776 - val_loss: 0.0040 - val_accuracy: 0.9715\n",
      "Epoch 8/30\n",
      "386/386 [==============================] - 59s 153ms/step - loss: 0.0036 - accuracy: 0.9747 - val_loss: 0.0040 - val_accuracy: 0.9728\n",
      "Epoch 9/30\n",
      "386/386 [==============================] - 56s 144ms/step - loss: 0.0027 - accuracy: 0.9799 - val_loss: 0.0047 - val_accuracy: 0.9663\n",
      "Epoch 10/30\n",
      "386/386 [==============================] - 53s 136ms/step - loss: 0.0025 - accuracy: 0.9796 - val_loss: 0.0035 - val_accuracy: 0.9818\n",
      "Epoch 11/30\n",
      "386/386 [==============================] - 60s 155ms/step - loss: 0.0022 - accuracy: 0.9815 - val_loss: 0.0016 - val_accuracy: 0.9805\n",
      "Epoch 12/30\n",
      "386/386 [==============================] - 52s 135ms/step - loss: 0.0019 - accuracy: 0.9815 - val_loss: 0.0026 - val_accuracy: 0.9792\n",
      "Epoch 13/30\n",
      "386/386 [==============================] - 51s 133ms/step - loss: 0.0017 - accuracy: 0.9835 - val_loss: 0.0019 - val_accuracy: 0.9805\n",
      "Epoch 14/30\n",
      "386/386 [==============================] - 54s 141ms/step - loss: 0.0016 - accuracy: 0.9835 - val_loss: 0.0019 - val_accuracy: 0.9792\n",
      "Epoch 15/30\n",
      "386/386 [==============================] - 52s 135ms/step - loss: 0.0015 - accuracy: 0.9844 - val_loss: 0.0030 - val_accuracy: 0.9818\n",
      "Epoch 16/30\n",
      "386/386 [==============================] - 54s 140ms/step - loss: 0.0014 - accuracy: 0.9854 - val_loss: 0.0016 - val_accuracy: 0.9818\n",
      "Epoch 17/30\n",
      "386/386 [==============================] - 49s 126ms/step - loss: 0.0013 - accuracy: 0.9854 - val_loss: 0.0022 - val_accuracy: 0.9831\n",
      "Epoch 18/30\n",
      "386/386 [==============================] - 38s 99ms/step - loss: 0.0013 - accuracy: 0.9838 - val_loss: 0.0019 - val_accuracy: 0.9780\n",
      "Epoch 19/30\n",
      "386/386 [==============================] - 37s 97ms/step - loss: 0.0012 - accuracy: 0.9822 - val_loss: 0.0019 - val_accuracy: 0.9844\n",
      "Epoch 20/30\n",
      "386/386 [==============================] - 38s 99ms/step - loss: 0.0011 - accuracy: 0.9854 - val_loss: 0.0016 - val_accuracy: 0.9857\n",
      "Epoch 21/30\n",
      "386/386 [==============================] - 37s 96ms/step - loss: 0.0010 - accuracy: 0.9877 - val_loss: 9.8001e-04 - val_accuracy: 0.9870\n",
      "Epoch 22/30\n",
      "386/386 [==============================] - 41s 105ms/step - loss: 9.8560e-04 - accuracy: 0.9909 - val_loss: 0.0012 - val_accuracy: 0.9857\n",
      "Epoch 23/30\n",
      "386/386 [==============================] - 42s 110ms/step - loss: 9.3696e-04 - accuracy: 0.9896 - val_loss: 0.0011 - val_accuracy: 0.9844\n",
      "Epoch 24/30\n",
      "386/386 [==============================] - 60s 156ms/step - loss: 0.0010 - accuracy: 0.9870 - val_loss: 0.0012 - val_accuracy: 0.9831\n",
      "Epoch 25/30\n",
      "386/386 [==============================] - 45s 116ms/step - loss: 8.7525e-04 - accuracy: 0.9851 - val_loss: 0.0014 - val_accuracy: 0.9844\n",
      "Epoch 26/30\n",
      "386/386 [==============================] - 41s 105ms/step - loss: 8.8621e-04 - accuracy: 0.9851 - val_loss: 0.0012 - val_accuracy: 0.9792\n",
      "Epoch 27/30\n",
      "386/386 [==============================] - 44s 114ms/step - loss: 7.9855e-04 - accuracy: 0.9886 - val_loss: 0.0016 - val_accuracy: 0.9805\n",
      "Epoch 28/30\n",
      "386/386 [==============================] - 52s 134ms/step - loss: 7.8504e-04 - accuracy: 0.9880 - val_loss: 0.0011 - val_accuracy: 0.9857\n",
      "Epoch 29/30\n",
      "386/386 [==============================] - 46s 118ms/step - loss: 7.8563e-04 - accuracy: 0.9880 - val_loss: 0.0012 - val_accuracy: 0.9870\n",
      "Epoch 30/30\n",
      "386/386 [==============================] - 46s 120ms/step - loss: 7.1869e-04 - accuracy: 0.9877 - val_loss: 0.0017 - val_accuracy: 0.9818\n"
     ]
    }
   ],
   "source": [
    "Batch_Size = 8\n",
    "Epoch_Anz = 30\n",
    "Shift_Range = 0\n",
    "Brightness_Range = 0.3\n",
    "\n",
    "datagen = ImageDataGenerator(width_shift_range=[-Shift_Range,Shift_Range], height_shift_range=[-Shift_Range,Shift_Range],brightness_range=[1-Brightness_Range,1+Brightness_Range])\n",
    "\n",
    "train_iterator = datagen.flow(X_train, y_train, batch_size=Batch_Size)\n",
    "validation_iterator = datagen.flow(X_test, y_test, batch_size=Batch_Size)\n",
    "\n",
    "history = model.fit_generator(train_iterator, validation_data = validation_iterator, epochs = Epoch_Anz)"
   ]
  },
  {
   "cell_type": "markdown",
   "metadata": {},
   "source": [
    "### Step 1: Learing result\n",
    " \n",
    "* Visualization of the training and validation results"
   ]
  },
  {
   "cell_type": "code",
   "execution_count": 5,
   "metadata": {},
   "outputs": [
    {
     "data": {
      "image/png": "[encoded data removed]",
      "text/plain": [
       "<Figure size 432x288 with 1 Axes>"
      ]
     },
     "metadata": {
      "needs_background": "light"
     },
     "output_type": "display_data"
    }
   ],
   "source": [
    "loss_ges = np.append(loss_ges, history.history['loss'])\n",
    "val_loss_ges = np.append(val_loss_ges, history.history['val_loss'])\n",
    "\n",
    "plt.semilogy(history.history['loss'])\n",
    "plt.semilogy(history.history['val_loss'])\n",
    "plt.title('model loss')\n",
    "plt.ylabel('loss')\n",
    "plt.xlabel('epoch')\n",
    "plt.legend(['train','eval'], loc='upper left')\n",
    "plt.show()"
   ]
  },
  {
   "cell_type": "markdown",
   "metadata": {},
   "source": [
    "### Step 2: Brigthness and Pixel Shift scattering\n",
    "Here a higher number of epochs is used to reach the minimum loss function"
   ]
  },
  {
   "cell_type": "code",
   "execution_count": 6,
   "metadata": {},
   "outputs": [
    {
     "name": "stdout",
     "output_type": "stream",
     "text": [
      "Epoch 1/80\n",
      "386/386 [==============================] - 41s 106ms/step - loss: 0.0280 - accuracy: 0.9390 - val_loss: 0.0080 - val_accuracy: 0.9546\n",
      "Epoch 2/80\n",
      "386/386 [==============================] - 41s 106ms/step - loss: 0.0054 - accuracy: 0.9656 - val_loss: 0.0056 - val_accuracy: 0.9805\n",
      "Epoch 3/80\n",
      "386/386 [==============================] - 50s 129ms/step - loss: 0.0038 - accuracy: 0.9766 - val_loss: 0.0030 - val_accuracy: 0.9676\n",
      "Epoch 4/80\n",
      "386/386 [==============================] - 39s 101ms/step - loss: 0.0031 - accuracy: 0.9744 - val_loss: 0.0024 - val_accuracy: 0.9792\n",
      "Epoch 5/80\n",
      "386/386 [==============================] - 44s 114ms/step - loss: 0.0027 - accuracy: 0.9766 - val_loss: 0.0037 - val_accuracy: 0.9741\n",
      "Epoch 6/80\n",
      "386/386 [==============================] - 36s 94ms/step - loss: 0.0027 - accuracy: 0.9792 - val_loss: 0.0042 - val_accuracy: 0.9624\n",
      "Epoch 7/80\n",
      "386/386 [==============================] - 36s 94ms/step - loss: 0.0022 - accuracy: 0.9828 - val_loss: 0.0021 - val_accuracy: 0.9805\n",
      "Epoch 8/80\n",
      "386/386 [==============================] - 37s 96ms/step - loss: 0.0022 - accuracy: 0.9799 - val_loss: 0.0020 - val_accuracy: 0.9792\n",
      "Epoch 9/80\n",
      "386/386 [==============================] - 38s 99ms/step - loss: 0.0019 - accuracy: 0.9802 - val_loss: 0.0013 - val_accuracy: 0.9792\n",
      "Epoch 10/80\n",
      "386/386 [==============================] - 57s 148ms/step - loss: 0.0018 - accuracy: 0.9812 - val_loss: 0.0019 - val_accuracy: 0.9818\n",
      "Epoch 11/80\n",
      "386/386 [==============================] - 47s 122ms/step - loss: 0.0017 - accuracy: 0.9838 - val_loss: 0.0015 - val_accuracy: 0.9844\n",
      "Epoch 12/80\n",
      "386/386 [==============================] - 43s 111ms/step - loss: 0.0017 - accuracy: 0.9848 - val_loss: 0.0013 - val_accuracy: 0.9844\n",
      "Epoch 13/80\n",
      "386/386 [==============================] - 40s 105ms/step - loss: 0.0015 - accuracy: 0.9860 - val_loss: 0.0016 - val_accuracy: 0.9831\n",
      "Epoch 14/80\n",
      "386/386 [==============================] - 43s 110ms/step - loss: 0.0015 - accuracy: 0.9844 - val_loss: 0.0016 - val_accuracy: 0.9844\n",
      "Epoch 15/80\n",
      "386/386 [==============================] - 43s 112ms/step - loss: 0.0014 - accuracy: 0.9828 - val_loss: 0.0017 - val_accuracy: 0.9780\n",
      "Epoch 16/80\n",
      "386/386 [==============================] - 40s 105ms/step - loss: 0.0014 - accuracy: 0.9838 - val_loss: 0.0014 - val_accuracy: 0.9870\n",
      "Epoch 17/80\n",
      "386/386 [==============================] - 41s 106ms/step - loss: 0.0013 - accuracy: 0.9857 - val_loss: 0.0017 - val_accuracy: 0.9844\n",
      "Epoch 18/80\n",
      "386/386 [==============================] - 41s 106ms/step - loss: 0.0013 - accuracy: 0.9825 - val_loss: 0.0015 - val_accuracy: 0.9818\n",
      "Epoch 19/80\n",
      "386/386 [==============================] - 52s 136ms/step - loss: 0.0012 - accuracy: 0.9857 - val_loss: 0.0015 - val_accuracy: 0.9857\n",
      "Epoch 20/80\n",
      "386/386 [==============================] - 43s 112ms/step - loss: 0.0012 - accuracy: 0.9864 - val_loss: 0.0015 - val_accuracy: 0.9792\n",
      "Epoch 21/80\n",
      "386/386 [==============================] - 44s 114ms/step - loss: 0.0011 - accuracy: 0.9838 - val_loss: 0.0014 - val_accuracy: 0.9844\n",
      "Epoch 22/80\n",
      "386/386 [==============================] - 51s 133ms/step - loss: 0.0011 - accuracy: 0.9873 - val_loss: 0.0010 - val_accuracy: 0.9831\n",
      "Epoch 23/80\n",
      "386/386 [==============================] - 44s 114ms/step - loss: 0.0011 - accuracy: 0.9870 - val_loss: 0.0015 - val_accuracy: 0.9831\n",
      "Epoch 24/80\n",
      "386/386 [==============================] - 51s 133ms/step - loss: 0.0011 - accuracy: 0.9867 - val_loss: 0.0014 - val_accuracy: 0.9844\n",
      "Epoch 25/80\n",
      "386/386 [==============================] - 54s 140ms/step - loss: 0.0011 - accuracy: 0.9851 - val_loss: 0.0011 - val_accuracy: 0.9870\n",
      "Epoch 26/80\n",
      "386/386 [==============================] - 50s 129ms/step - loss: 0.0010 - accuracy: 0.9854 - val_loss: 0.0012 - val_accuracy: 0.9831\n",
      "Epoch 27/80\n",
      "386/386 [==============================] - 41s 105ms/step - loss: 0.0010 - accuracy: 0.9870 - val_loss: 0.0011 - val_accuracy: 0.9883\n",
      "Epoch 28/80\n",
      "386/386 [==============================] - 47s 121ms/step - loss: 0.0010 - accuracy: 0.9883 - val_loss: 0.0010 - val_accuracy: 0.9818\n",
      "Epoch 29/80\n",
      "386/386 [==============================] - 44s 114ms/step - loss: 9.3269e-04 - accuracy: 0.9873 - val_loss: 9.1022e-04 - val_accuracy: 0.9831\n",
      "Epoch 30/80\n",
      "386/386 [==============================] - 49s 126ms/step - loss: 8.9470e-04 - accuracy: 0.9867 - val_loss: 9.2513e-04 - val_accuracy: 0.9870\n",
      "Epoch 31/80\n",
      "386/386 [==============================] - 42s 110ms/step - loss: 9.5849e-04 - accuracy: 0.9864 - val_loss: 9.6700e-04 - val_accuracy: 0.9844\n",
      "Epoch 32/80\n",
      "386/386 [==============================] - 44s 114ms/step - loss: 9.0769e-04 - accuracy: 0.9867 - val_loss: 8.4959e-04 - val_accuracy: 0.9844\n",
      "Epoch 33/80\n",
      "386/386 [==============================] - 38s 99ms/step - loss: 8.8910e-04 - accuracy: 0.9873 - val_loss: 0.0011 - val_accuracy: 0.9831\n",
      "Epoch 34/80\n",
      "386/386 [==============================] - 45s 117ms/step - loss: 8.7409e-04 - accuracy: 0.9877 - val_loss: 0.0013 - val_accuracy: 0.9818\n",
      "Epoch 35/80\n",
      "386/386 [==============================] - 43s 112ms/step - loss: 8.4935e-04 - accuracy: 0.9867 - val_loss: 8.9112e-04 - val_accuracy: 0.9870\n",
      "Epoch 36/80\n",
      "386/386 [==============================] - 42s 109ms/step - loss: 8.4693e-04 - accuracy: 0.9896 - val_loss: 0.0013 - val_accuracy: 0.9896\n",
      "Epoch 37/80\n",
      "386/386 [==============================] - 45s 117ms/step - loss: 8.4646e-04 - accuracy: 0.9886 - val_loss: 0.0012 - val_accuracy: 0.9844\n",
      "Epoch 38/80\n",
      "386/386 [==============================] - 50s 130ms/step - loss: 8.6421e-04 - accuracy: 0.9870 - val_loss: 8.5172e-04 - val_accuracy: 0.9831\n",
      "Epoch 39/80\n",
      "386/386 [==============================] - 50s 131ms/step - loss: 7.7945e-04 - accuracy: 0.9880 - val_loss: 9.1980e-04 - val_accuracy: 0.9831\n",
      "Epoch 40/80\n",
      "386/386 [==============================] - 49s 128ms/step - loss: 8.1474e-04 - accuracy: 0.9877 - val_loss: 9.9149e-04 - val_accuracy: 0.9818\n",
      "Epoch 41/80\n",
      "386/386 [==============================] - 41s 107ms/step - loss: 8.2584e-04 - accuracy: 0.9886 - val_loss: 9.7283e-04 - val_accuracy: 0.9844\n",
      "Epoch 42/80\n",
      "386/386 [==============================] - 42s 108ms/step - loss: 7.4948e-04 - accuracy: 0.9899 - val_loss: 0.0013 - val_accuracy: 0.9792\n",
      "Epoch 43/80\n",
      "386/386 [==============================] - 46s 120ms/step - loss: 7.0417e-04 - accuracy: 0.9896 - val_loss: 9.3074e-04 - val_accuracy: 0.9844\n",
      "Epoch 44/80\n",
      "386/386 [==============================] - 55s 141ms/step - loss: 7.3563e-04 - accuracy: 0.9860 - val_loss: 9.0753e-04 - val_accuracy: 0.9870\n",
      "Epoch 45/80\n",
      "386/386 [==============================] - 48s 125ms/step - loss: 7.7013e-04 - accuracy: 0.9886 - val_loss: 7.9672e-04 - val_accuracy: 0.9857\n",
      "Epoch 46/80\n",
      "386/386 [==============================] - 42s 110ms/step - loss: 7.5866e-04 - accuracy: 0.9873 - val_loss: 9.7364e-04 - val_accuracy: 0.9831\n",
      "Epoch 47/80\n",
      "386/386 [==============================] - 50s 129ms/step - loss: 7.3621e-04 - accuracy: 0.9873 - val_loss: 9.1905e-04 - val_accuracy: 0.9857\n",
      "Epoch 48/80\n",
      "386/386 [==============================] - 48s 123ms/step - loss: 7.2233e-04 - accuracy: 0.9893 - val_loss: 0.0010 - val_accuracy: 0.9844\n",
      "Epoch 49/80\n",
      "386/386 [==============================] - 41s 107ms/step - loss: 7.3153e-04 - accuracy: 0.9903 - val_loss: 9.1498e-04 - val_accuracy: 0.9883\n",
      "Epoch 50/80\n",
      "386/386 [==============================] - 43s 111ms/step - loss: 6.7976e-04 - accuracy: 0.9883 - val_loss: 0.0010 - val_accuracy: 0.9883\n",
      "Epoch 51/80\n",
      "386/386 [==============================] - 38s 99ms/step - loss: 6.8808e-04 - accuracy: 0.9893 - val_loss: 0.0012 - val_accuracy: 0.9870\n",
      "Epoch 52/80\n",
      "386/386 [==============================] - 37s 97ms/step - loss: 6.4577e-04 - accuracy: 0.9896 - val_loss: 0.0011 - val_accuracy: 0.9883\n",
      "Epoch 53/80\n",
      "386/386 [==============================] - 39s 100ms/step - loss: 6.8065e-04 - accuracy: 0.9909 - val_loss: 9.9246e-04 - val_accuracy: 0.9844\n",
      "Epoch 54/80\n",
      "386/386 [==============================] - 37s 96ms/step - loss: 6.9095e-04 - accuracy: 0.9893 - val_loss: 7.7979e-04 - val_accuracy: 0.9857\n",
      "Epoch 55/80\n",
      "386/386 [==============================] - 37s 97ms/step - loss: 6.5813e-04 - accuracy: 0.9883 - val_loss: 7.8898e-04 - val_accuracy: 0.9844\n",
      "Epoch 56/80\n"
     ]
    },
    {
     "name": "stdout",
     "output_type": "stream",
     "text": [
      "386/386 [==============================] - 36s 94ms/step - loss: 6.6852e-04 - accuracy: 0.9877 - val_loss: 9.7997e-04 - val_accuracy: 0.9818\n",
      "Epoch 57/80\n",
      "386/386 [==============================] - 37s 95ms/step - loss: 6.4983e-04 - accuracy: 0.9912 - val_loss: 0.0015 - val_accuracy: 0.9896\n",
      "Epoch 58/80\n",
      "386/386 [==============================] - 37s 95ms/step - loss: 6.6911e-04 - accuracy: 0.9896 - val_loss: 9.5389e-04 - val_accuracy: 0.9857\n",
      "Epoch 59/80\n",
      "386/386 [==============================] - 37s 95ms/step - loss: 6.1531e-04 - accuracy: 0.9886 - val_loss: 9.9691e-04 - val_accuracy: 0.9870\n",
      "Epoch 60/80\n",
      "386/386 [==============================] - 36s 92ms/step - loss: 6.3089e-04 - accuracy: 0.9906 - val_loss: 0.0012 - val_accuracy: 0.9805\n",
      "Epoch 61/80\n",
      "386/386 [==============================] - 36s 93ms/step - loss: 6.3218e-04 - accuracy: 0.9890 - val_loss: 8.1377e-04 - val_accuracy: 0.9896\n",
      "Epoch 62/80\n",
      "386/386 [==============================] - 35s 92ms/step - loss: 6.5561e-04 - accuracy: 0.9880 - val_loss: 9.5337e-04 - val_accuracy: 0.9818\n",
      "Epoch 63/80\n",
      "386/386 [==============================] - 36s 94ms/step - loss: 5.9096e-04 - accuracy: 0.9886 - val_loss: 9.5251e-04 - val_accuracy: 0.9857\n",
      "Epoch 64/80\n",
      "386/386 [==============================] - 36s 94ms/step - loss: 6.1113e-04 - accuracy: 0.9870 - val_loss: 9.4066e-04 - val_accuracy: 0.9870\n",
      "Epoch 65/80\n",
      "386/386 [==============================] - 36s 93ms/step - loss: 5.8333e-04 - accuracy: 0.9896 - val_loss: 8.3326e-04 - val_accuracy: 0.9896\n",
      "Epoch 66/80\n",
      "386/386 [==============================] - 36s 94ms/step - loss: 6.1743e-04 - accuracy: 0.9916 - val_loss: 9.1022e-04 - val_accuracy: 0.9883\n",
      "Epoch 67/80\n",
      "386/386 [==============================] - 37s 97ms/step - loss: 6.1351e-04 - accuracy: 0.9890 - val_loss: 9.8026e-04 - val_accuracy: 0.9883\n",
      "Epoch 68/80\n",
      "386/386 [==============================] - 37s 95ms/step - loss: 6.0591e-04 - accuracy: 0.9890 - val_loss: 7.1011e-04 - val_accuracy: 0.9844\n",
      "Epoch 69/80\n",
      "386/386 [==============================] - 37s 95ms/step - loss: 5.6857e-04 - accuracy: 0.9916 - val_loss: 0.0010 - val_accuracy: 0.9883\n",
      "Epoch 70/80\n",
      "386/386 [==============================] - 37s 97ms/step - loss: 5.7258e-04 - accuracy: 0.9899 - val_loss: 8.6356e-04 - val_accuracy: 0.9831\n",
      "Epoch 71/80\n",
      "386/386 [==============================] - 37s 95ms/step - loss: 5.5754e-04 - accuracy: 0.9919 - val_loss: 8.4663e-04 - val_accuracy: 0.9857\n",
      "Epoch 72/80\n",
      "386/386 [==============================] - 38s 98ms/step - loss: 5.4474e-04 - accuracy: 0.9906 - val_loss: 7.5630e-04 - val_accuracy: 0.9870\n",
      "Epoch 73/80\n",
      "386/386 [==============================] - 38s 97ms/step - loss: 5.6135e-04 - accuracy: 0.9906 - val_loss: 7.6907e-04 - val_accuracy: 0.9844\n",
      "Epoch 74/80\n",
      "386/386 [==============================] - 37s 96ms/step - loss: 5.4165e-04 - accuracy: 0.9903 - val_loss: 8.1881e-04 - val_accuracy: 0.9883\n",
      "Epoch 75/80\n",
      "386/386 [==============================] - 37s 95ms/step - loss: 5.5408e-04 - accuracy: 0.9909 - val_loss: 0.0010 - val_accuracy: 0.9857\n",
      "Epoch 76/80\n",
      "386/386 [==============================] - 37s 96ms/step - loss: 5.4592e-04 - accuracy: 0.9896 - val_loss: 9.1618e-04 - val_accuracy: 0.9883\n",
      "Epoch 77/80\n",
      "386/386 [==============================] - 37s 95ms/step - loss: 5.3296e-04 - accuracy: 0.9935 - val_loss: 7.1754e-04 - val_accuracy: 0.9831\n",
      "Epoch 78/80\n",
      "386/386 [==============================] - 36s 95ms/step - loss: 5.2011e-04 - accuracy: 0.9906 - val_loss: 6.8950e-04 - val_accuracy: 0.9870\n",
      "Epoch 79/80\n",
      "386/386 [==============================] - 37s 97ms/step - loss: 5.4296e-04 - accuracy: 0.9912 - val_loss: 7.9519e-04 - val_accuracy: 0.9870\n",
      "Epoch 80/80\n",
      "386/386 [==============================] - 37s 96ms/step - loss: 5.4602e-04 - accuracy: 0.9906 - val_loss: 8.1433e-04 - val_accuracy: 0.9857\n"
     ]
    }
   ],
   "source": [
    "Batch_Size = 8\n",
    "Epoch_Anz = 80\n",
    "Shift_Range = 3\n",
    "Brightness_Range = 0.3\n",
    "\n",
    "datagen = ImageDataGenerator(width_shift_range=[-Shift_Range,Shift_Range], height_shift_range=[-Shift_Range,Shift_Range],brightness_range=[1-Brightness_Range,1+Brightness_Range])\n",
    "\n",
    "train_iterator = datagen.flow(X_train, y_train, batch_size=Batch_Size)\n",
    "validation_iterator = datagen.flow(X_test, y_test, batch_size=Batch_Size)\n",
    "\n",
    "history = model.fit_generator(train_iterator, validation_data = validation_iterator, epochs = Epoch_Anz)"
   ]
  },
  {
   "cell_type": "markdown",
   "metadata": {},
   "source": [
    "### Overall Learing results (Step 1 & Step 2)"
   ]
  },
  {
   "cell_type": "code",
   "execution_count": 7,
   "metadata": {},
   "outputs": [
    {
     "data": {
      "image/png": "[encoded data removed]",
      "text/plain": [
       "<Figure size 432x288 with 1 Axes>"
      ]
     },
     "metadata": {
      "needs_background": "light"
     },
     "output_type": "display_data"
    }
   ],
   "source": [
    "loss_ges = np.append(loss_ges, history.history['loss'])\n",
    "val_loss_ges = np.append(val_loss_ges, history.history['val_loss'])\n",
    "\n",
    "plt.semilogy(loss_ges)\n",
    "plt.semilogy(val_loss_ges)\n",
    "plt.title('model loss')\n",
    "plt.ylabel('loss')\n",
    "plt.xlabel('epoch')\n",
    "plt.legend(['train','eval'], loc='upper left')\n",
    "plt.show()"
   ]
  },
  {
   "cell_type": "markdown",
   "metadata": {},
   "source": [
    "### Check the model by hand\n",
    "\n",
    "* The following code uses the trained model to check the deviation for each picture.\n",
    "* The evaluation takes the periodic character of the results into account (dev1 ... dev2).\n",
    "* Images, that have a bigger deviation as the parameter \"deviation_max_list\" are printed in a list to check the picture and labeling itself"
   ]
  },
  {
   "cell_type": "code",
   "execution_count": 8,
   "metadata": {},
   "outputs": [
    {
     "name": "stdout",
     "output_type": "stream",
     "text": [
      "data_resize_all\\1.2_Lfd-0379_zeiger2_2019-06-03T052009.jpg 0.12 0.08906927159902822 0.030930728400971774\n",
      "data_resize_all\\1.2_Lfd-0390_zeiger3_2019-06-02T090009.jpg 0.12 0.08895841383424938 0.031041586165750618\n",
      "data_resize_all\\1.3_Lfd-0422_zeiger4_2019-06-06T173009.jpg 0.13 0.09551076608702416 0.03448923391297584\n",
      "data_resize_all\\1.3_Lfd-0424_zeiger4_2019-06-06T175009.jpg 0.13 0.0996020683726095 0.030397931627390504\n",
      "data_resize_all\\1.4_Lfd-0443_zeiger4_2019-06-02T203009.jpg 0.13999999999999999 0.1079389024097886 0.03206109759021139\n",
      "data_resize_all\\1.4_Lfd-0446_zeiger4_2019-06-02T210009.jpg 0.13999999999999999 0.10794551441236011 0.032054485587639875\n",
      "data_resize_all\\1.4_Lfd-0447_zeiger4_2019-06-02T211009.jpg 0.13999999999999999 0.1089783718240999 0.03102162817590008\n",
      "data_resize_all\\1.4_Lfd-0450_zeiger4_2019-06-02T214009.jpg 0.13999999999999999 0.10897924457049385 0.031020755429506136\n",
      "data_resize_all\\1.4_Lfd-0452_zeiger4_2019-06-02T220009.jpg 0.13999999999999999 0.1097888496601127 0.03021115033988729\n",
      "data_resize_all\\1.4_Lfd-0457_zeiger4_2019-06-02T225009.jpg 0.13999999999999999 0.1092238032882757 0.030776196711724282\n",
      "data_resize_all\\1.4_Lfd-0474_zeiger4_2019-06-03T015009.jpg 0.13999999999999999 0.10977850951261921 0.030221490487380778\n",
      "data_resize_all\\2.2_Lfd-0811_zeiger1_2019-06-05T071009.jpg 0.22000000000000003 0.1874880855889238 0.03251191441107623\n",
      "data_resize_all\\2.2_Lfd-0818_zeiger1_2019-06-05T120009.jpg 0.22000000000000003 0.18889597730434035 0.031104022695659678\n",
      "data_resize_all\\2.3_Lfd-0837_zeiger1_2019-06-05T123009.jpg 0.22999999999999998 0.19074933016287562 0.03925066983712436\n",
      "data_resize_all\\2.7_Lfd-0992_zeiger1_2019-06-05T143009.jpg 0.27 0.23749823740031709 0.03250176259968293\n",
      "data_resize_all\\3.5_Lfd-1352_zeiger2_2019-09-15_06-20-12.jpg 0.35 0.31898193885262455 0.03101806114737543\n",
      "data_resize_all\\4.9_Lfd-1830_zeiger2_2019-11-19_03-57-03.jpg 0.49000000000000005 0.45860762561466556 0.03139237438533449\n",
      "data_resize_all\\5.7_Lfd-2112_zeiger2_2019-09-14_13-20-14.jpg 0.5700000000000001 0.5309022662940658 0.03909773370593428\n",
      "data_resize_all\\5.7_Lfd-2120_zeiger4_2019-09-14_13-30-12.jpg 0.5700000000000001 0.5386425022799919 0.031357497720008176\n",
      "data_resize_all\\5.8_Lfd-2131_zeiger1_2019-11-19_01-12-03.jpg 0.58 0.5392563086134037 0.04074369138659628\n",
      "data_resize_all\\6.0_Lfd-2307_zeiger4_2019-09-14_11-10-13.jpg 0.6 0.5688045417637775 0.031195458236222495\n",
      "data_resize_all\\7.1_Lfd-2720_zeiger1_2019-09-15_05-50-13.jpg 0.71 0.7422091567390888 -0.03220915673908886\n"
     ]
    }
   ],
   "source": [
    "Input_dir='data_resize_all'\n",
    "#Input_dir='test_result'\n",
    "files = glob.glob(Input_dir + '/*.*')\n",
    "res = []\n",
    "i = 0\n",
    "deviation_max_list = 0.03\n",
    "\n",
    "for aktfile in files:\n",
    "    base = os.path.basename(aktfile)\n",
    "    target = (float(base[0:3])) / 10\n",
    "    target_sin = math.sin(target * math.pi * 2)\n",
    "    target_cos = math.cos(target * math.pi * 2)\n",
    "\n",
    "    test_image = Image.open(aktfile)\n",
    "    test_image = np.array(test_image, dtype=\"float32\")\n",
    "    img = np.reshape(test_image,[1,32,32,3])\n",
    "    classes = model.predict(img)\n",
    "    \n",
    "    out_sin = classes[0][0]  \n",
    "    out_cos = classes[0][1]\n",
    "    out_target = (np.arctan2(out_sin, out_cos)/(2*math.pi)) % 1\n",
    "\n",
    "    dev_sin = target_sin - out_sin\n",
    "    dev_cos = target_cos - out_cos\n",
    "    dev_target = target - out_target\n",
    "    \n",
    "    if abs(dev_target + 1) < abs(dev_target):\n",
    "        out_target = out_target - 1\n",
    "        dev_target = target - out_target\n",
    "    else:\n",
    "        if abs(dev_target - 1) < abs(dev_target):\n",
    "            out_target = out_target + 1\n",
    "            dev_target = target - out_target\n",
    "               \n",
    "    res.append(np.array([target, out_target, dev_target, out_sin, out_cos, i]))\n",
    "    if abs(dev_target) > deviation_max_list:\n",
    "        print(aktfile + \" \" + str(target) + \" \" + str(out_target) +  \" \" + str(dev_target))\n",
    "    i+=1\n",
    "\n",
    "res = np.asarray(res)\n",
    "res_step_1 = res"
   ]
  },
  {
   "cell_type": "markdown",
   "metadata": {},
   "source": [
    "## Results"
   ]
  },
  {
   "cell_type": "code",
   "execution_count": 9,
   "metadata": {},
   "outputs": [
    {
     "data": {
      "image/png": "[encoded data removed]",
      "text/plain": [
       "<Figure size 432x288 with 1 Axes>"
      ]
     },
     "metadata": {
      "needs_background": "light"
     },
     "output_type": "display_data"
    }
   ],
   "source": [
    "plt.plot(res[:,3])\n",
    "plt.plot(res[:,4])\n",
    "plt.title('Result')\n",
    "plt.ylabel('value')\n",
    "plt.xlabel('#Picture')\n",
    "plt.legend(['sin', 'cos'], loc='lower left')\n",
    "plt.show()"
   ]
  },
  {
   "cell_type": "code",
   "execution_count": 10,
   "metadata": {},
   "outputs": [
    {
     "data": {
      "image/png": "[encoded data removed]",
      "text/plain": [
       "<Figure size 432x288 with 1 Axes>"
      ]
     },
     "metadata": {
      "needs_background": "light"
     },
     "output_type": "display_data"
    }
   ],
   "source": [
    "plt.plot(res[:,0])\n",
    "plt.plot(res[:,1])\n",
    "plt.title('Result')\n",
    "plt.ylabel('Counter Value')\n",
    "plt.xlabel('#Picture')\n",
    "plt.legend(['Orginal', 'Prediction'], loc='upper left')\n",
    "plt.show()"
   ]
  },
  {
   "cell_type": "markdown",
   "metadata": {},
   "source": [
    "### Deviation from Expected Value"
   ]
  },
  {
   "cell_type": "code",
   "execution_count": 11,
   "metadata": {},
   "outputs": [
    {
     "data": {
      "image/png": "[encoded data removed]",
      "text/plain": [
       "<Figure size 432x288 with 1 Axes>"
      ]
     },
     "metadata": {
      "needs_background": "light"
     },
     "output_type": "display_data"
    },
    {
     "name": "stdout",
     "output_type": "stream",
     "text": [
      "[ 0.0019  0.0097 -0.0322  0.0407]\n"
     ]
    }
   ],
   "source": [
    "plt.plot(res[:,2])\n",
    "plt.title('Deviation')\n",
    "plt.ylabel('Deviation from expected value')\n",
    "plt.xlabel('#Picture')\n",
    "plt.legend(['Deviation'], loc='upper left')\n",
    "#plt.ylim(-0.3, 0.3)\n",
    "plt.show()\n",
    "\n",
    "statistic = np.array([np.mean(res[:,2]), np.std(res[:,2]), np.min(res[:,2]), np.max(res[:,2])])\n",
    "print(statistic)"
   ]
  },
  {
   "cell_type": "markdown",
   "metadata": {},
   "source": [
    "### Save the model\n",
    "\n",
    "* Save the model to the file with the \"h5\" file format"
   ]
  },
  {
   "cell_type": "code",
   "execution_count": 12,
   "metadata": {},
   "outputs": [],
   "source": [
    "model.save(\"CNN_Analog-Readout_Version-4.0.1.h5\")"
   ]
  }
 ],
 "metadata": {
  "kernelspec": {
   "display_name": "Python 3",
   "language": "python",
   "name": "python3"
  },
  "language_info": {
   "codemirror_mode": {
    "name": "ipython",
    "version": 3
   },
   "file_extension": ".py",
   "mimetype": "text/x-python",
   "name": "python",
   "nbconvert_exporter": "python",
   "pygments_lexer": "ipython3",
   "version": "3.7.5"
  }
 },
 "nbformat": 4,
 "nbformat_minor": 2
}
