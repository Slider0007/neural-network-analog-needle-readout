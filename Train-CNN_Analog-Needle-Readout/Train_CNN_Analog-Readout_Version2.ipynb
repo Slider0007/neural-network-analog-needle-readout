{
 "cells": [
  {
   "cell_type": "markdown",
   "metadata": {},
   "source": [
    "# CNN Training\n",
    "\n",
    "Target of this code is to train a CNN network to extract the needle position of an analog needle device.\n",
    "\n",
    "### Preparing the training\n",
    "* First all libraries are loaded\n",
    "    * It is assumed, that they are installed during the Python setup\n",
    "* matplotlib is set to print the output inline in the jupyter notebook"
   ]
  },
  {
   "cell_type": "code",
   "execution_count": 1,
   "metadata": {
    "scrolled": true
   },
   "outputs": [
    {
     "name": "stderr",
     "output_type": "stream",
     "text": [
      "Using TensorFlow backend.\n"
     ]
    }
   ],
   "source": [
    "import os\n",
    "import matplotlib.pyplot as plt\n",
    "import glob\n",
    "import numpy as np\n",
    "from sklearn.utils import shuffle\n",
    "from tensorflow.python import keras\n",
    "from tensorflow.python.keras import Sequential\n",
    "from tensorflow.python.keras.layers import Dense, InputLayer, Conv2D, MaxPool2D, Flatten, BatchNormalization\n",
    "from keras.preprocessing.image import ImageDataGenerator\n",
    "from sklearn.model_selection import train_test_split\n",
    "import keras.backend as K\n",
    "from keras.callbacks import History \n",
    "import math\n",
    "import cv2\n",
    "\n",
    "loss_ges = np.array([])\n",
    "val_loss_ges = np.array([])\n",
    "\n",
    "%matplotlib inline\n",
    "np.set_printoptions(precision=4)\n",
    "np.set_printoptions(suppress=True)"
   ]
  },
  {
   "cell_type": "markdown",
   "metadata": {},
   "source": [
    "### Load training data\n",
    "* The data is expected in the \"Input_dir\"\n",
    "* Picture size must be 32x32 with 3 color channels (RGB)\n",
    "* The filename contains the informations needed for training:\n",
    "* Typical filename: \n",
    "    * ReadOut-xx_Watch-y_zzzz.jpg \n",
    "    * e.g. \"ReadOut-54_Watch-4_1667.jpg\"\n",
    "\n",
    "|Place holder | Meaning                     | Usage        |\n",
    "|------------- |-----------------------------|--------------|\n",
    "| **xx**          | readout value               | **to be learned** |\n",
    "| y           | different analog watches    | ignored      |\n",
    "| zzzz        | running number              | not needed   |\n",
    "\n",
    "* The images are stored in the x_data[]\n",
    "* The expected output for each image in the corresponding y_data[]\n",
    "    * The periodic nature is reflected in a **sin/cos coding**, which allows to restore the angle/counter value with an arctan later on.\n",
    "\n",
    "* The last step is a shuffle (from sklearn.utils) as the filenames are on order due to the encoding of the expected analog readout in the filename "
   ]
  },
  {
   "cell_type": "code",
   "execution_count": 2,
   "metadata": {},
   "outputs": [
    {
     "name": "stdout",
     "output_type": "stream",
     "text": [
      "(2898, 32, 32, 3)\n",
      "(2898, 2)\n"
     ]
    }
   ],
   "source": [
    "Input_dir='data_resize_all'\n",
    "\n",
    "files = glob.glob(Input_dir + '/*.*')\n",
    "x_data = []\n",
    "y_data = []\n",
    "\n",
    "for aktfile in files:\n",
    "    test_image = cv2.imread(aktfile)\n",
    "    test_image = np.array(test_image, dtype=\"float32\")\n",
    "    test_image = np.reshape(test_image, (32,32,3))\n",
    "    base = os.path.basename(aktfile)\n",
    "    target_number = (float(base[0:3])) / 10\n",
    "    target_sin = math.sin(target_number * math.pi * 2)\n",
    "    target_cos = math.cos(target_number * math.pi * 2)\n",
    "\n",
    "    x_data.append(test_image)\n",
    "    zw = np.array([target_sin, target_cos])\n",
    "    y_data.append(zw)\n",
    "\n",
    "x_data = np.array(x_data)\n",
    "y_data = np.array(y_data)\n",
    "print(x_data.shape)\n",
    "print(y_data.shape)\n",
    "\n",
    "x_data, y_data = shuffle(x_data, y_data)\n",
    "X_train, X_test, y_train, y_test = train_test_split(x_data, y_data, test_size=0.2)"
   ]
  },
  {
   "cell_type": "markdown",
   "metadata": {},
   "source": [
    "### Define the model\n",
    "\n",
    "The layout of the network ist a typcial CNN network with alternating **Conv2D** and **MaxPool2D** layers. Finished after **flattening** with additional **Dense** layer.\n",
    "\n",
    "#### Important\n",
    "* Shape of the input layer: (32, 32, 3)\n",
    "* Shape of the output layer: (2) - sin and cos"
   ]
  },
  {
   "cell_type": "code",
   "execution_count": 3,
   "metadata": {
    "scrolled": true
   },
   "outputs": [
    {
     "name": "stdout",
     "output_type": "stream",
     "text": [
      "WARNING:tensorflow:From C:\\Users\\Muell\\AppData\\Roaming\\Python\\Python37\\site-packages\\tensorflow\\python\\ops\\resource_variable_ops.py:435: colocate_with (from tensorflow.python.framework.ops) is deprecated and will be removed in a future version.\n",
      "Instructions for updating:\n",
      "Colocations handled automatically by placer.\n",
      "_________________________________________________________________\n",
      "Layer (type)                 Output Shape              Param #   \n",
      "=================================================================\n",
      "batch_normalization_v1 (Batc (None, 32, 32, 3)         12        \n",
      "_________________________________________________________________\n",
      "conv2d (Conv2D)              (None, 32, 32, 64)        4864      \n",
      "_________________________________________________________________\n",
      "max_pooling2d (MaxPooling2D) (None, 8, 8, 64)          0         \n",
      "_________________________________________________________________\n",
      "conv2d_1 (Conv2D)            (None, 8, 8, 32)          51232     \n",
      "_________________________________________________________________\n",
      "max_pooling2d_1 (MaxPooling2 (None, 2, 2, 32)          0         \n",
      "_________________________________________________________________\n",
      "conv2d_2 (Conv2D)            (None, 2, 2, 32)          9248      \n",
      "_________________________________________________________________\n",
      "max_pooling2d_2 (MaxPooling2 (None, 1, 1, 32)          0         \n",
      "_________________________________________________________________\n",
      "flatten (Flatten)            (None, 32)                0         \n",
      "_________________________________________________________________\n",
      "dense (Dense)                (None, 128)               4224      \n",
      "_________________________________________________________________\n",
      "dense_1 (Dense)              (None, 64)                8256      \n",
      "_________________________________________________________________\n",
      "dense_2 (Dense)              (None, 2)                 130       \n",
      "=================================================================\n",
      "Total params: 77,966\n",
      "Trainable params: 77,960\n",
      "Non-trainable params: 6\n",
      "_________________________________________________________________\n"
     ]
    }
   ],
   "source": [
    "model = Sequential()\n",
    "model.add(BatchNormalization(input_shape=(32,32,3)))\n",
    "model.add(Conv2D(64, (5, 5), input_shape=(32,32,3), padding='same', activation=\"relu\"))\n",
    "model.add(MaxPool2D(pool_size=(4,4)))\n",
    "model.add(Conv2D(32, (5, 5), padding='same', activation=\"relu\"))\n",
    "model.add(MaxPool2D(pool_size=(4,4)))\n",
    "model.add(Conv2D(32, (3, 3), padding='same', activation=\"relu\"))\n",
    "model.add(MaxPool2D(pool_size=(2,2)))\n",
    "model.add(Flatten())\n",
    "model.add(Dense(128,activation=\"relu\"))\n",
    "model.add(Dense(64,activation=\"relu\"))\n",
    "model.add(Dense(2))\n",
    "model.summary()\n",
    "\n",
    "model.compile(loss=keras.losses.mean_squared_error, optimizer=keras.optimizers.Adadelta(), metrics = [\"accuracy\"])"
   ]
  },
  {
   "cell_type": "markdown",
   "metadata": {},
   "source": [
    "# Training\n",
    "The input pictures are randomly scattered for brightness and pixel shift variations. These is implemented with a ImageDataGenerator.\n",
    "\n",
    "\n",
    "The training is splitted into two steps:\n",
    "1. Variation of the brightness only\n",
    "2. Variation of brightness and Pixel Shift"
   ]
  },
  {
   "cell_type": "markdown",
   "metadata": {},
   "source": [
    "### Step 1: Brigthness scattering only"
   ]
  },
  {
   "cell_type": "code",
   "execution_count": 4,
   "metadata": {},
   "outputs": [
    {
     "name": "stdout",
     "output_type": "stream",
     "text": [
      "WARNING:tensorflow:From C:\\Users\\Muell\\AppData\\Roaming\\Python\\Python37\\site-packages\\tensorflow\\python\\ops\\math_ops.py:3066: to_int32 (from tensorflow.python.ops.math_ops) is deprecated and will be removed in a future version.\n",
      "Instructions for updating:\n",
      "Use tf.cast instead.\n",
      "Epoch 1/30\n",
      "73/73 [==============================] - 1s 10ms/step - loss: 0.0213 - acc: 0.9517\n",
      "290/290 [==============================] - 9s 31ms/step - loss: 0.1640 - acc: 0.8615 - val_loss: 0.0213 - val_acc: 0.9517\n",
      "Epoch 2/30\n",
      "73/73 [==============================] - 1s 9ms/step - loss: 0.0077 - acc: 0.9603\n",
      "290/290 [==============================] - 9s 31ms/step - loss: 0.0187 - acc: 0.9612 - val_loss: 0.0077 - val_acc: 0.9603\n",
      "Epoch 3/30\n",
      "73/73 [==============================] - 1s 10ms/step - loss: 0.0099 - acc: 0.9707\n",
      "290/290 [==============================] - 9s 32ms/step - loss: 0.0125 - acc: 0.9603 - val_loss: 0.0099 - val_acc: 0.9707\n",
      "Epoch 4/30\n",
      "73/73 [==============================] - 1s 10ms/step - loss: 0.0047 - acc: 0.9638\n",
      "290/290 [==============================] - 9s 32ms/step - loss: 0.0090 - acc: 0.9707 - val_loss: 0.0047 - val_acc: 0.9638\n",
      "Epoch 5/30\n",
      "73/73 [==============================] - 1s 10ms/step - loss: 0.0140 - acc: 0.9741\n",
      "290/290 [==============================] - 10s 33ms/step - loss: 0.0068 - acc: 0.9767 - val_loss: 0.0140 - val_acc: 0.9741\n",
      "Epoch 6/30\n",
      "73/73 [==============================] - 1s 10ms/step - loss: 0.0022 - acc: 0.9741\n",
      "290/290 [==============================] - 9s 32ms/step - loss: 0.0056 - acc: 0.9741 - val_loss: 0.0022 - val_acc: 0.9741\n",
      "Epoch 7/30\n",
      "73/73 [==============================] - 1s 10ms/step - loss: 0.0042 - acc: 0.9810\n",
      "290/290 [==============================] - 10s 34ms/step - loss: 0.0046 - acc: 0.9780 - val_loss: 0.0042 - val_acc: 0.9810\n",
      "Epoch 8/30\n",
      "73/73 [==============================] - 1s 11ms/step - loss: 0.0040 - acc: 0.9621\n",
      "290/290 [==============================] - 10s 34ms/step - loss: 0.0037 - acc: 0.9832 - val_loss: 0.0040 - val_acc: 0.9621\n",
      "Epoch 9/30\n",
      "73/73 [==============================] - 1s 10ms/step - loss: 0.0027 - acc: 0.9759\n",
      "290/290 [==============================] - 10s 34ms/step - loss: 0.0028 - acc: 0.9810 - val_loss: 0.0027 - val_acc: 0.9759\n",
      "Epoch 10/30\n",
      "73/73 [==============================] - 1s 10ms/step - loss: 0.0015 - acc: 0.9914\n",
      "290/290 [==============================] - 10s 35ms/step - loss: 0.0025 - acc: 0.9780 - val_loss: 0.0015 - val_acc: 0.9914\n",
      "Epoch 11/30\n",
      "73/73 [==============================] - 1s 11ms/step - loss: 0.0037 - acc: 0.9603\n",
      "290/290 [==============================] - 10s 36ms/step - loss: 0.0022 - acc: 0.9789 - val_loss: 0.0037 - val_acc: 0.9603\n",
      "Epoch 12/30\n",
      "73/73 [==============================] - 1s 14ms/step - loss: 0.0019 - acc: 0.9707\n",
      "290/290 [==============================] - 12s 40ms/step - loss: 0.0018 - acc: 0.9797 - val_loss: 0.0019 - val_acc: 0.9707\n",
      "Epoch 13/30\n",
      "73/73 [==============================] - 1s 16ms/step - loss: 0.0015 - acc: 0.9914\n",
      "290/290 [==============================] - 12s 41ms/step - loss: 0.0017 - acc: 0.9836 - val_loss: 0.0015 - val_acc: 0.9914\n",
      "Epoch 14/30\n",
      "73/73 [==============================] - 1s 12ms/step - loss: 0.0011 - acc: 0.9897\n",
      "290/290 [==============================] - 13s 44ms/step - loss: 0.0014 - acc: 0.9836 - val_loss: 0.0011 - val_acc: 0.9897\n",
      "Epoch 15/30\n",
      "73/73 [==============================] - 1s 11ms/step - loss: 0.0014 - acc: 0.9914\n",
      "290/290 [==============================] - 11s 37ms/step - loss: 0.0013 - acc: 0.9814 - val_loss: 0.0014 - val_acc: 0.9914\n",
      "Epoch 16/30\n",
      "73/73 [==============================] - 1s 11ms/step - loss: 0.0014 - acc: 0.9948\n",
      "290/290 [==============================] - 11s 37ms/step - loss: 0.0012 - acc: 0.9836 - val_loss: 0.0014 - val_acc: 0.9948\n",
      "Epoch 17/30\n",
      "73/73 [==============================] - 1s 10ms/step - loss: 0.0010 - acc: 0.9897\n",
      "290/290 [==============================] - 10s 35ms/step - loss: 0.0012 - acc: 0.9819 - val_loss: 0.0010 - val_acc: 0.9897\n",
      "Epoch 18/30\n",
      "73/73 [==============================] - 1s 12ms/step - loss: 0.0013 - acc: 0.9845\n",
      "290/290 [==============================] - 11s 39ms/step - loss: 0.0010 - acc: 0.9858 - val_loss: 0.0013 - val_acc: 0.9845\n",
      "Epoch 19/30\n",
      "73/73 [==============================] - 1s 15ms/step - loss: 7.8795e-04 - acc: 0.9897\n",
      "290/290 [==============================] - 14s 49ms/step - loss: 9.2275e-04 - acc: 0.9858 - val_loss: 7.8795e-04 - val_acc: 0.9897\n",
      "Epoch 20/30\n",
      "73/73 [==============================] - 1s 13ms/step - loss: 8.8985e-04 - acc: 0.9931TA: 1\n",
      "290/290 [==============================] - 14s 49ms/step - loss: 9.1307e-04 - acc: 0.9892 - val_loss: 8.8985e-04 - val_acc: 0.9931\n",
      "Epoch 21/30\n",
      "73/73 [==============================] - 1s 14ms/step - loss: 0.0011 - acc: 0.98107- ETA\n",
      "290/290 [==============================] - 13s 44ms/step - loss: 8.6500e-04 - acc: 0.9888 - val_loss: 0.0011 - val_acc: 0.9810\n",
      "Epoch 22/30\n",
      "73/73 [==============================] - 1s 11ms/step - loss: 8.0205e-04 - acc: 0.9897\n",
      "290/290 [==============================] - 11s 38ms/step - loss: 7.9958e-04 - acc: 0.9871 - val_loss: 8.0205e-04 - val_acc: 0.9897\n",
      "Epoch 23/30\n",
      "73/73 [==============================] - 1s 11ms/step - loss: 8.0178e-04 - acc: 0.9897\n",
      "290/290 [==============================] - 10s 36ms/step - loss: 8.4417e-04 - acc: 0.9823 - val_loss: 8.0178e-04 - val_acc: 0.9897\n",
      "Epoch 24/30\n",
      "73/73 [==============================] - 1s 10ms/step - loss: 6.7584e-04 - acc: 0.9793\n",
      "290/290 [==============================] - 10s 36ms/step - loss: 7.0395e-04 - acc: 0.9858 - val_loss: 6.7584e-04 - val_acc: 0.9793\n",
      "Epoch 25/30\n",
      "73/73 [==============================] - ETA: 0s - loss: 5.8036e-04 - acc: 0.9965- ETA: 0s - loss: 5.7991e-04 - - 1s 14ms/step - loss: 5.8144e-04 - acc: 0.9966\n",
      "290/290 [==============================] - 13s 44ms/step - loss: 7.4029e-04 - acc: 0.9853 - val_loss: 5.8144e-04 - val_acc: 0.9966\n",
      "Epoch 26/30\n",
      "73/73 [==============================] - 1s 16ms/step - loss: 5.7203e-04 - acc: 0.9897\n",
      "290/290 [==============================] - 14s 49ms/step - loss: 7.0294e-04 - acc: 0.9888 - val_loss: 5.7203e-04 - val_acc: 0.9897\n",
      "Epoch 27/30\n",
      "73/73 [==============================] - 1s 16ms/step - loss: 7.3092e-04 - acc: 0.9741: 0s - loss: 7.1600e-04 - ac\n",
      "290/290 [==============================] - 15s 53ms/step - loss: 6.8591e-04 - acc: 0.9879 - val_loss: 7.3092e-04 - val_acc: 0.9741\n",
      "Epoch 28/30\n",
      "73/73 [==============================] - 1s 14ms/step - loss: 7.4293e-04 - acc: 0.9828\n",
      "290/290 [==============================] - 14s 47ms/step - loss: 6.3036e-04 - acc: 0.9862 - val_loss: 7.4293e-04 - val_acc: 0.9828\n",
      "Epoch 29/30\n",
      "73/73 [==============================] - 1s 13ms/step - loss: 7.0563e-04 - acc: 0.9966\n",
      "290/290 [==============================] - 12s 43ms/step - loss: 6.4839e-04 - acc: 0.9866 - val_loss: 7.0563e-04 - val_acc: 0.9966\n",
      "Epoch 30/30\n",
      "73/73 [==============================] - 1s 13ms/step - loss: 5.1186e-04 - acc: 0.9966\n",
      "290/290 [==============================] - 12s 41ms/step - loss: 6.0868e-04 - acc: 0.9901 - val_loss: 5.1186e-04 - val_acc: 0.9966\n"
     ]
    }
   ],
   "source": [
    "Batch_Size = 8\n",
    "Epoch_Anz = 30\n",
    "Shift_Range = 0\n",
    "Brightness_Range = 0.3\n",
    "\n",
    "datagen = ImageDataGenerator(width_shift_range=[-Shift_Range,Shift_Range], height_shift_range=[-Shift_Range,Shift_Range],brightness_range=[1-Brightness_Range,1+Brightness_Range])\n",
    "\n",
    "train_iterator = datagen.flow(X_train, y_train, batch_size=Batch_Size)\n",
    "validation_iterator = datagen.flow(X_test, y_test, batch_size=Batch_Size)\n",
    "\n",
    "history = model.fit_generator(train_iterator, validation_data = validation_iterator, epochs = Epoch_Anz)"
   ]
  },
  {
   "cell_type": "markdown",
   "metadata": {},
   "source": [
    "### Step 1: Learing result\n",
    " \n",
    "* Visualization of the training and validation results"
   ]
  },
  {
   "cell_type": "code",
   "execution_count": 5,
   "metadata": {},
   "outputs": [
    {
     "data": {
      "image/png": "[encoded data removed]",
      "text/plain": [
       "<Figure size 432x288 with 1 Axes>"
      ]
     },
     "metadata": {
      "needs_background": "light"
     },
     "output_type": "display_data"
    }
   ],
   "source": [
    "loss_ges = np.append(loss_ges, history.history['loss'])\n",
    "val_loss_ges = np.append(val_loss_ges, history.history['val_loss'])\n",
    "\n",
    "plt.semilogy(history.history['loss'])\n",
    "plt.semilogy(history.history['val_loss'])\n",
    "plt.title('model loss')\n",
    "plt.ylabel('loss')\n",
    "plt.xlabel('epoch')\n",
    "plt.legend(['train','eval'], loc='upper left')\n",
    "plt.show()"
   ]
  },
  {
   "cell_type": "markdown",
   "metadata": {},
   "source": [
    "### Step 2: Brigthness and Pixel Shift scattering\n",
    "Here a higher number of epochs is used to reach the minimum loss function"
   ]
  },
  {
   "cell_type": "code",
   "execution_count": 6,
   "metadata": {},
   "outputs": [
    {
     "name": "stdout",
     "output_type": "stream",
     "text": [
      "Epoch 1/60\n",
      "73/73 [==============================] - 1s 16ms/step - loss: 0.0046 - acc: 0.9741\n",
      "290/290 [==============================] - 13s 45ms/step - loss: 0.0324 - acc: 0.9435 - val_loss: 0.0046 - val_acc: 0.9741\n",
      "Epoch 2/60\n",
      "73/73 [==============================] - 1s 19ms/step - loss: 0.0059 - acc: 0.9776: 1s - loss: 0.00\n",
      "290/290 [==============================] - 13s 44ms/step - loss: 0.0058 - acc: 0.9685 - val_loss: 0.0059 - val_acc: 0.9776\n",
      "Epoch 3/60\n",
      "73/73 [==============================] - 2s 22ms/step - loss: 0.0037 - acc: 0.9655\n",
      "290/290 [==============================] - 15s 51ms/step - loss: 0.0039 - acc: 0.9694 - val_loss: 0.0037 - val_acc: 0.9655\n",
      "Epoch 4/60\n",
      "73/73 [==============================] - 1s 16ms/step - loss: 0.0037 - acc: 0.9759\n",
      "290/290 [==============================] - 15s 50ms/step - loss: 0.0031 - acc: 0.9724 - val_loss: 0.0037 - val_acc: 0.9759\n",
      "Epoch 5/60\n",
      "73/73 [==============================] - 1s 18ms/step - loss: 0.0027 - acc: 0.9828\n",
      "290/290 [==============================] - 14s 49ms/step - loss: 0.0028 - acc: 0.9733 - val_loss: 0.0027 - val_acc: 0.9828\n",
      "Epoch 6/60\n",
      "73/73 [==============================] - 1s 15ms/step - loss: 0.0015 - acc: 0.9897\n",
      "290/290 [==============================] - 14s 47ms/step - loss: 0.0024 - acc: 0.9797 - val_loss: 0.0015 - val_acc: 0.9897\n",
      "Epoch 7/60\n",
      "73/73 [==============================] - 1s 16ms/step - loss: 0.0017 - acc: 0.9862\n",
      "290/290 [==============================] - 13s 44ms/step - loss: 0.0020 - acc: 0.9810 - val_loss: 0.0017 - val_acc: 0.9862\n",
      "Epoch 8/60\n",
      "73/73 [==============================] - 1s 16ms/step - loss: 0.0017 - acc: 0.9845\n",
      "290/290 [==============================] - 13s 45ms/step - loss: 0.0018 - acc: 0.9836 - val_loss: 0.0017 - val_acc: 0.9845\n",
      "Epoch 9/60\n",
      "73/73 [==============================] - 1s 17ms/step - loss: 0.0015 - acc: 0.9914\n",
      "290/290 [==============================] - 13s 44ms/step - loss: 0.0015 - acc: 0.9827 - val_loss: 0.0015 - val_acc: 0.9914\n",
      "Epoch 10/60\n",
      "73/73 [==============================] - 1s 16ms/step - loss: 0.0016 - acc: 0.9845\n",
      "290/290 [==============================] - 13s 44ms/step - loss: 0.0016 - acc: 0.9827 - val_loss: 0.0016 - val_acc: 0.9845\n",
      "Epoch 11/60\n",
      "73/73 [==============================] - 1s 15ms/step - loss: 0.0013 - acc: 0.9862\n",
      "290/290 [==============================] - 13s 43ms/step - loss: 0.0015 - acc: 0.9784 - val_loss: 0.0013 - val_acc: 0.9862\n",
      "Epoch 12/60\n",
      "73/73 [==============================] - 1s 15ms/step - loss: 0.0012 - acc: 0.9897\n",
      "290/290 [==============================] - 12s 41ms/step - loss: 0.0014 - acc: 0.9819 - val_loss: 0.0012 - val_acc: 0.9897\n",
      "Epoch 13/60\n",
      "73/73 [==============================] - 1s 16ms/step - loss: 0.0017 - acc: 0.9810\n",
      "290/290 [==============================] - 12s 41ms/step - loss: 0.0013 - acc: 0.9827 - val_loss: 0.0017 - val_acc: 0.9810\n",
      "Epoch 14/60\n",
      "73/73 [==============================] - 1s 16ms/step - loss: 0.0011 - acc: 0.9810\n",
      "290/290 [==============================] - 12s 42ms/step - loss: 0.0012 - acc: 0.9832 - val_loss: 0.0011 - val_acc: 0.9810\n",
      "Epoch 15/60\n",
      "73/73 [==============================] - 1s 16ms/step - loss: 0.0013 - acc: 0.9879\n",
      "290/290 [==============================] - 13s 45ms/step - loss: 0.0012 - acc: 0.9827 - val_loss: 0.0013 - val_acc: 0.9879\n",
      "Epoch 16/60\n",
      "73/73 [==============================] - 1s 15ms/step - loss: 0.0012 - acc: 0.9897\n",
      "290/290 [==============================] - 12s 42ms/step - loss: 0.0011 - acc: 0.9827 - val_loss: 0.0012 - val_acc: 0.9897\n",
      "Epoch 17/60\n",
      "73/73 [==============================] - 1s 14ms/step - loss: 0.0011 - acc: 0.9914\n",
      "290/290 [==============================] - 12s 42ms/step - loss: 0.0011 - acc: 0.9845 - val_loss: 0.0011 - val_acc: 0.9914\n",
      "Epoch 18/60\n",
      "73/73 [==============================] - 1s 16ms/step - loss: 8.5219e-04 - acc: 0.9862\n",
      "290/290 [==============================] - 12s 40ms/step - loss: 0.0010 - acc: 0.9853 - val_loss: 8.5219e-04 - val_acc: 0.9862\n",
      "Epoch 19/60\n",
      "73/73 [==============================] - 1s 15ms/step - loss: 9.8627e-04 - acc: 0.9810\n",
      "290/290 [==============================] - 12s 40ms/step - loss: 0.0010 - acc: 0.9858 - val_loss: 9.8627e-04 - val_acc: 0.9810\n",
      "Epoch 20/60\n",
      "73/73 [==============================] - 1s 15ms/step - loss: 0.0012 - acc: 0.9897\n",
      "290/290 [==============================] - 12s 42ms/step - loss: 0.0010 - acc: 0.9866 - val_loss: 0.0012 - val_acc: 0.9897\n",
      "Epoch 21/60\n",
      "73/73 [==============================] - 1s 15ms/step - loss: 0.0012 - acc: 0.9810\n",
      "290/290 [==============================] - 12s 40ms/step - loss: 9.4122e-04 - acc: 0.9862 - val_loss: 0.0012 - val_acc: 0.9810\n",
      "Epoch 22/60\n",
      "73/73 [==============================] - 1s 14ms/step - loss: 9.3909e-04 - acc: 0.9931\n",
      "290/290 [==============================] - 11s 38ms/step - loss: 9.3422e-04 - acc: 0.9853 - val_loss: 9.3909e-04 - val_acc: 0.9931\n",
      "Epoch 23/60\n",
      "73/73 [==============================] - 1s 14ms/step - loss: 0.0013 - acc: 0.9914\n",
      "290/290 [==============================] - 12s 40ms/step - loss: 9.2063e-04 - acc: 0.9871 - val_loss: 0.0013 - val_acc: 0.9914\n",
      "Epoch 24/60\n",
      "73/73 [==============================] - 1s 14ms/step - loss: 8.9024e-04 - acc: 0.9948\n",
      "290/290 [==============================] - 12s 41ms/step - loss: 8.7873e-04 - acc: 0.9879 - val_loss: 8.9024e-04 - val_acc: 0.9948\n",
      "Epoch 25/60\n",
      "73/73 [==============================] - 1s 17ms/step - loss: 0.0012 - acc: 0.9879\n",
      "290/290 [==============================] - 12s 41ms/step - loss: 8.8986e-04 - acc: 0.9884 - val_loss: 0.0012 - val_acc: 0.9879\n",
      "Epoch 26/60\n",
      "73/73 [==============================] - 1s 20ms/step - loss: 8.5767e-04 - acc: 0.9914\n",
      "290/290 [==============================] - 13s 43ms/step - loss: 8.4207e-04 - acc: 0.9840 - val_loss: 8.5767e-04 - val_acc: 0.9914\n",
      "Epoch 27/60\n",
      "73/73 [==============================] - 1s 18ms/step - loss: 7.8587e-04 - acc: 0.9897\n",
      "290/290 [==============================] - 12s 43ms/step - loss: 8.4430e-04 - acc: 0.9875 - val_loss: 7.8587e-04 - val_acc: 0.9897\n",
      "Epoch 28/60\n",
      "73/73 [==============================] - 1s 15ms/step - loss: 0.0011 - acc: 0.9914\n",
      "290/290 [==============================] - 12s 42ms/step - loss: 8.0623e-04 - acc: 0.9871 - val_loss: 0.0011 - val_acc: 0.9914\n",
      "Epoch 29/60\n",
      "73/73 [==============================] - 1s 16ms/step - loss: 9.6636e-04 - acc: 0.9914\n",
      "290/290 [==============================] - 12s 41ms/step - loss: 8.0307e-04 - acc: 0.9866 - val_loss: 9.6636e-04 - val_acc: 0.9914\n",
      "Epoch 30/60\n",
      "73/73 [==============================] - 1s 14ms/step - loss: 8.7253e-04 - acc: 0.9879\n",
      "290/290 [==============================] - 12s 41ms/step - loss: 7.5856e-04 - acc: 0.9827 - val_loss: 8.7253e-04 - val_acc: 0.9879\n",
      "Epoch 31/60\n",
      "73/73 [==============================] - 1s 19ms/step - loss: 8.4060e-04 - acc: 0.9879\n",
      "290/290 [==============================] - 13s 45ms/step - loss: 7.3201e-04 - acc: 0.9896 - val_loss: 8.4060e-04 - val_acc: 0.9879\n",
      "Epoch 32/60\n",
      "73/73 [==============================] - 1s 18ms/step - loss: 0.0013 - acc: 0.9845\n",
      "290/290 [==============================] - 15s 50ms/step - loss: 7.2858e-04 - acc: 0.9875 - val_loss: 0.0013 - val_acc: 0.9845\n",
      "Epoch 33/60\n",
      "73/73 [==============================] - 1s 14ms/step - loss: 9.0886e-04 - acc: 0.9897\n",
      "290/290 [==============================] - 13s 45ms/step - loss: 7.8969e-04 - acc: 0.9892 - val_loss: 9.0886e-04 - val_acc: 0.9897\n",
      "Epoch 34/60\n",
      "73/73 [==============================] - 1s 15ms/step - loss: 9.2923e-04 - acc: 0.9897\n",
      "290/290 [==============================] - 11s 39ms/step - loss: 7.0278e-04 - acc: 0.9862 - val_loss: 9.2923e-04 - val_acc: 0.9897\n",
      "Epoch 35/60\n",
      "73/73 [==============================] - 1s 15ms/step - loss: 9.0780e-04 - acc: 0.9914\n",
      "290/290 [==============================] - 13s 43ms/step - loss: 7.3443e-04 - acc: 0.9849 - val_loss: 9.0780e-04 - val_acc: 0.9914\n",
      "Epoch 36/60\n",
      "73/73 [==============================] - 1s 13ms/step - loss: 9.3515e-04 - acc: 0.9931\n",
      "290/290 [==============================] - 11s 37ms/step - loss: 7.2500e-04 - acc: 0.9871 - val_loss: 9.3515e-04 - val_acc: 0.9931\n",
      "Epoch 37/60\n",
      "73/73 [==============================] - 1s 13ms/step - loss: 8.1079e-04 - acc: 0.9914\n",
      "290/290 [==============================] - 11s 37ms/step - loss: 7.1654e-04 - acc: 0.9853 - val_loss: 8.1079e-04 - val_acc: 0.9914\n"
     ]
    },
    {
     "name": "stdout",
     "output_type": "stream",
     "text": [
      "Epoch 38/60\n",
      "73/73 [==============================] - 1s 14ms/step - loss: 6.8589e-04 - acc: 0.9879\n",
      "290/290 [==============================] - 10s 36ms/step - loss: 6.7043e-04 - acc: 0.9871 - val_loss: 6.8589e-04 - val_acc: 0.9879\n",
      "Epoch 39/60\n",
      "73/73 [==============================] - 1s 17ms/step - loss: 7.7216e-04 - acc: 0.9810\n",
      "290/290 [==============================] - 11s 39ms/step - loss: 6.5876e-04 - acc: 0.9879 - val_loss: 7.7216e-04 - val_acc: 0.9810\n",
      "Epoch 40/60\n",
      "73/73 [==============================] - 1s 16ms/step - loss: 6.6585e-04 - acc: 0.9948\n",
      "290/290 [==============================] - 12s 42ms/step - loss: 6.6784e-04 - acc: 0.9879 - val_loss: 6.6585e-04 - val_acc: 0.9948\n",
      "Epoch 41/60\n",
      "73/73 [==============================] - 1s 15ms/step - loss: 6.2369e-04 - acc: 0.9914\n",
      "290/290 [==============================] - 13s 44ms/step - loss: 6.6075e-04 - acc: 0.9866 - val_loss: 6.2369e-04 - val_acc: 0.9914\n",
      "Epoch 42/60\n",
      "73/73 [==============================] - 1s 15ms/step - loss: 8.2589e-04 - acc: 0.9914\n",
      "290/290 [==============================] - 12s 41ms/step - loss: 7.2125e-04 - acc: 0.9884 - val_loss: 8.2589e-04 - val_acc: 0.9914\n",
      "Epoch 43/60\n",
      "73/73 [==============================] - 1s 19ms/step - loss: 8.0450e-04 - acc: 0.9897\n",
      "290/290 [==============================] - 12s 41ms/step - loss: 6.2218e-04 - acc: 0.9879 - val_loss: 8.0450e-04 - val_acc: 0.9897\n",
      "Epoch 44/60\n",
      "73/73 [==============================] - 1s 15ms/step - loss: 7.1999e-04 - acc: 0.9931\n",
      "290/290 [==============================] - 12s 41ms/step - loss: 6.4749e-04 - acc: 0.9875 - val_loss: 7.1999e-04 - val_acc: 0.9931\n",
      "Epoch 45/60\n",
      "73/73 [==============================] - 1s 15ms/step - loss: 9.2590e-04 - acc: 0.9897\n",
      "290/290 [==============================] - 12s 42ms/step - loss: 6.3560e-04 - acc: 0.9871 - val_loss: 9.2590e-04 - val_acc: 0.9897\n",
      "Epoch 46/60\n",
      "73/73 [==============================] - 1s 16ms/step - loss: 8.2273e-04 - acc: 0.9914\n",
      "290/290 [==============================] - 12s 40ms/step - loss: 6.3423e-04 - acc: 0.9862 - val_loss: 8.2273e-04 - val_acc: 0.9914\n",
      "Epoch 47/60\n",
      "73/73 [==============================] - 1s 14ms/step - loss: 6.7243e-04 - acc: 0.9793\n",
      "290/290 [==============================] - 12s 41ms/step - loss: 6.2505e-04 - acc: 0.9892 - val_loss: 6.7243e-04 - val_acc: 0.9793\n",
      "Epoch 48/60\n",
      "73/73 [==============================] - 1s 15ms/step - loss: 7.0812e-04 - acc: 0.9914\n",
      "290/290 [==============================] - 12s 40ms/step - loss: 6.3432e-04 - acc: 0.9866 - val_loss: 7.0812e-04 - val_acc: 0.9914\n",
      "Epoch 49/60\n",
      "73/73 [==============================] - 1s 16ms/step - loss: 6.2910e-04 - acc: 0.9931\n",
      "290/290 [==============================] - 13s 43ms/step - loss: 5.7924e-04 - acc: 0.9875 - val_loss: 6.2910e-04 - val_acc: 0.9931\n",
      "Epoch 50/60\n",
      "73/73 [==============================] - 1s 18ms/step - loss: 6.8780e-04 - acc: 0.9914\n",
      "290/290 [==============================] - 12s 41ms/step - loss: 5.8931e-04 - acc: 0.9866 - val_loss: 6.8780e-04 - val_acc: 0.9914\n",
      "Epoch 51/60\n",
      "73/73 [==============================] - 1s 16ms/step - loss: 7.6125e-04 - acc: 0.9948\n",
      "290/290 [==============================] - 13s 44ms/step - loss: 6.2120e-04 - acc: 0.9888 - val_loss: 7.6125e-04 - val_acc: 0.9948\n",
      "Epoch 52/60\n",
      "73/73 [==============================] - 1s 15ms/step - loss: 0.0011 - acc: 0.9776\n",
      "290/290 [==============================] - 12s 41ms/step - loss: 5.5968e-04 - acc: 0.9884 - val_loss: 0.0011 - val_acc: 0.9776\n",
      "Epoch 53/60\n",
      "73/73 [==============================] - 1s 14ms/step - loss: 5.5883e-04 - acc: 0.9931\n",
      "290/290 [==============================] - 12s 41ms/step - loss: 6.2100e-04 - acc: 0.9871 - val_loss: 5.5883e-04 - val_acc: 0.9931\n",
      "Epoch 54/60\n",
      "73/73 [==============================] - 1s 16ms/step - loss: 7.6030e-04 - acc: 0.9879\n",
      "290/290 [==============================] - 12s 40ms/step - loss: 5.4665e-04 - acc: 0.9884 - val_loss: 7.6030e-04 - val_acc: 0.9879\n",
      "Epoch 55/60\n",
      "73/73 [==============================] - 1s 15ms/step - loss: 5.6748e-04 - acc: 0.9948\n",
      "290/290 [==============================] - 12s 42ms/step - loss: 5.4291e-04 - acc: 0.9879 - val_loss: 5.6748e-04 - val_acc: 0.9948\n",
      "Epoch 56/60\n",
      "73/73 [==============================] - 1s 14ms/step - loss: 6.3407e-04 - acc: 0.9931\n",
      "290/290 [==============================] - 12s 41ms/step - loss: 5.4941e-04 - acc: 0.9888 - val_loss: 6.3407e-04 - val_acc: 0.9931\n",
      "Epoch 57/60\n",
      "73/73 [==============================] - 1s 13ms/step - loss: 9.0906e-04 - acc: 0.9741\n",
      "290/290 [==============================] - 11s 39ms/step - loss: 5.5941e-04 - acc: 0.9892 - val_loss: 9.0906e-04 - val_acc: 0.9741\n",
      "Epoch 58/60\n",
      "73/73 [==============================] - 1s 13ms/step - loss: 7.3319e-04 - acc: 0.9862\n",
      "290/290 [==============================] - 11s 37ms/step - loss: 5.4736e-04 - acc: 0.9884 - val_loss: 7.3319e-04 - val_acc: 0.9862\n",
      "Epoch 59/60\n",
      "73/73 [==============================] - 1s 13ms/step - loss: 7.0051e-04 - acc: 0.9931\n",
      "290/290 [==============================] - 11s 37ms/step - loss: 5.7378e-04 - acc: 0.9884 - val_loss: 7.0051e-04 - val_acc: 0.9931\n",
      "Epoch 60/60\n",
      "73/73 [==============================] - 1s 17ms/step - loss: 6.0517e-04 - acc: 0.9914\n",
      "290/290 [==============================] - 13s 44ms/step - loss: 5.5319e-04 - acc: 0.9896 - val_loss: 6.0517e-04 - val_acc: 0.9914\n"
     ]
    }
   ],
   "source": [
    "Batch_Size = 8\n",
    "Epoch_Anz = 60\n",
    "Shift_Range = 3\n",
    "Brightness_Range = 0.3\n",
    "\n",
    "datagen = ImageDataGenerator(width_shift_range=[-Shift_Range,Shift_Range], height_shift_range=[-Shift_Range,Shift_Range],brightness_range=[1-Brightness_Range,1+Brightness_Range])\n",
    "\n",
    "train_iterator = datagen.flow(X_train, y_train, batch_size=Batch_Size)\n",
    "validation_iterator = datagen.flow(X_test, y_test, batch_size=Batch_Size)\n",
    "\n",
    "history = model.fit_generator(train_iterator, validation_data = validation_iterator, epochs = Epoch_Anz)"
   ]
  },
  {
   "cell_type": "markdown",
   "metadata": {},
   "source": [
    "### Overall Learing results (Step 1 & Step 2)"
   ]
  },
  {
   "cell_type": "code",
   "execution_count": 7,
   "metadata": {},
   "outputs": [
    {
     "data": {
      "image/png": "[encoded data removed]",
      "text/plain": [
       "<Figure size 432x288 with 1 Axes>"
      ]
     },
     "metadata": {
      "needs_background": "light"
     },
     "output_type": "display_data"
    }
   ],
   "source": [
    "loss_ges = np.append(loss_ges, history.history['loss'])\n",
    "val_loss_ges = np.append(val_loss_ges, history.history['val_loss'])\n",
    "\n",
    "plt.semilogy(loss_ges)\n",
    "plt.semilogy(val_loss_ges)\n",
    "plt.title('model loss')\n",
    "plt.ylabel('loss')\n",
    "plt.xlabel('epoch')\n",
    "plt.legend(['train','eval'], loc='upper left')\n",
    "plt.show()"
   ]
  },
  {
   "cell_type": "markdown",
   "metadata": {},
   "source": [
    "### Check the model by hand\n",
    "\n",
    "* The following code uses the trained model to check the deviation for each picture.\n",
    "* The evaluation takes the periodic character of the results into account (dev1 ... dev2)."
   ]
  },
  {
   "cell_type": "code",
   "execution_count": 8,
   "metadata": {},
   "outputs": [],
   "source": [
    "Input_dir='data_resize_all'\n",
    "#Input_dir='test_result'\n",
    "files = glob.glob(Input_dir + '/*.*')\n",
    "res = []\n",
    "i = 0\n",
    "\n",
    "for aktfile in files:\n",
    "    base = os.path.basename(aktfile)\n",
    "    target = (float(base[0:3])) / 10\n",
    "    target_sin = math.sin(target * math.pi * 2)\n",
    "    target_cos = math.cos(target * math.pi * 2)\n",
    "\n",
    "    test_image = cv2.imread(aktfile)\n",
    "    test_image = np.array(test_image, dtype=\"float32\")\n",
    "    img = np.reshape(test_image,[1,32,32,3])\n",
    "    classes = model.predict(img)\n",
    "    \n",
    "    out_sin = classes[0][0]  \n",
    "    out_cos = classes[0][1]\n",
    "    out_target = (np.arctan2(out_sin, out_cos)/(2*math.pi)) % 1\n",
    "\n",
    "    dev_sin = target_sin - out_sin\n",
    "    dev_cos = target_cos - out_cos\n",
    "    dev_target = target - out_target\n",
    "    \n",
    "    if abs(dev_target + 1) < abs(dev_target):\n",
    "        out_target = out_target - 1\n",
    "        dev_target = target - out_target\n",
    "    else:\n",
    "        if abs(dev_target - 1) < abs(dev_target):\n",
    "            out_target = out_target + 1\n",
    "            dev_target = target - out_target\n",
    "               \n",
    "    res.append(np.array([target, out_target, dev_target, out_sin, out_cos, i]))\n",
    "    i+=1\n",
    "\n",
    "res = np.asarray(res)\n",
    "res_step_1 = res"
   ]
  },
  {
   "cell_type": "code",
   "execution_count": 9,
   "metadata": {},
   "outputs": [],
   "source": [
    "np.savetxt(\"foo.csv\", res, delimiter=\";\", fmt='%4.3f')"
   ]
  },
  {
   "cell_type": "markdown",
   "metadata": {},
   "source": [
    "## Results"
   ]
  },
  {
   "cell_type": "code",
   "execution_count": 10,
   "metadata": {},
   "outputs": [
    {
     "data": {
      "image/png": "[encoded data removed]",
      "text/plain": [
       "<Figure size 432x288 with 1 Axes>"
      ]
     },
     "metadata": {
      "needs_background": "light"
     },
     "output_type": "display_data"
    }
   ],
   "source": [
    "plt.plot(res[:,3])\n",
    "plt.plot(res[:,4])\n",
    "plt.title('Result')\n",
    "plt.ylabel('value')\n",
    "plt.xlabel('#Picture')\n",
    "plt.legend(['sin', 'cos'], loc='lower left')\n",
    "plt.show()"
   ]
  },
  {
   "cell_type": "code",
   "execution_count": 11,
   "metadata": {},
   "outputs": [
    {
     "data": {
      "image/png": "[encoded data removed]",
      "text/plain": [
       "<Figure size 432x288 with 1 Axes>"
      ]
     },
     "metadata": {
      "needs_background": "light"
     },
     "output_type": "display_data"
    }
   ],
   "source": [
    "plt.plot(res[:,0])\n",
    "plt.plot(res[:,1])\n",
    "plt.title('Result')\n",
    "plt.ylabel('Counter Value')\n",
    "plt.xlabel('#Picture')\n",
    "plt.legend(['Orginal', 'Prediction'], loc='upper left')\n",
    "plt.show()"
   ]
  },
  {
   "cell_type": "markdown",
   "metadata": {},
   "source": [
    "### Deviation from Expected Value"
   ]
  },
  {
   "cell_type": "code",
   "execution_count": 12,
   "metadata": {},
   "outputs": [
    {
     "data": {
      "image/png": "[encoded data removed]",
      "text/plain": [
       "<Figure size 432x288 with 1 Axes>"
      ]
     },
     "metadata": {
      "needs_background": "light"
     },
     "output_type": "display_data"
    },
    {
     "name": "stdout",
     "output_type": "stream",
     "text": [
      "[-0.0017  0.0109 -0.0384  0.0347]\n"
     ]
    }
   ],
   "source": [
    "plt.plot(res[:,2])\n",
    "plt.title('Deviation')\n",
    "plt.ylabel('Deviation from expected value')\n",
    "plt.xlabel('#Picture')\n",
    "plt.legend(['Deviation'], loc='upper left')\n",
    "#plt.ylim(-0.3, 0.3)\n",
    "plt.show()\n",
    "\n",
    "statistic = np.array([np.mean(res[:,2]), np.std(res[:,2]), np.min(res[:,2]), np.max(res[:,2])])\n",
    "print(statistic)"
   ]
  },
  {
   "cell_type": "markdown",
   "metadata": {},
   "source": [
    "### Save the model\n",
    "\n",
    "* Save the model to the file with the \"h5\" file format"
   ]
  },
  {
   "cell_type": "code",
   "execution_count": 13,
   "metadata": {},
   "outputs": [],
   "source": [
    "model.save(\"CNN_Analog-Readout_Version-2.1.1.h5\")"
   ]
  },
  {
   "cell_type": "code",
   "execution_count": null,
   "metadata": {},
   "outputs": [],
   "source": []
  }
 ],
 "metadata": {
  "kernelspec": {
   "display_name": "Python 3",
   "language": "python",
   "name": "python3"
  },
  "language_info": {
   "codemirror_mode": {
    "name": "ipython",
    "version": 3
   },
   "file_extension": ".py",
   "mimetype": "text/x-python",
   "name": "python",
   "nbconvert_exporter": "python",
   "pygments_lexer": "ipython3",
   "version": "3.7.4"
  }
 },
 "nbformat": 4,
 "nbformat_minor": 2
}
