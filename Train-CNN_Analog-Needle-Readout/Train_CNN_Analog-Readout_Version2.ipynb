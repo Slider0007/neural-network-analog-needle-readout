{
 "cells": [
  {
   "cell_type": "markdown",
   "metadata": {},
   "source": [
    "# CNN Training\n",
    "\n",
    "Target of this code is to train a CNN network to extract the needle position of an analog needle device.\n",
    "\n",
    "### Preparing the training\n",
    "* First all libraries are loaded\n",
    "    * It is assumed, that they are installed during the Python setup\n",
    "* matplotlib is set to print the output inline in the jupyter notebook"
   ]
  },
  {
   "cell_type": "code",
   "execution_count": 1,
   "metadata": {
    "scrolled": true
   },
   "outputs": [
    {
     "name": "stderr",
     "output_type": "stream",
     "text": [
      "Using TensorFlow backend.\n"
     ]
    }
   ],
   "source": [
    "import os\n",
    "import matplotlib.pyplot as plt\n",
    "import glob\n",
    "from PIL import Image\n",
    "import numpy as np\n",
    "from sklearn.utils import shuffle\n",
    "from tensorflow.python import keras\n",
    "from tensorflow.python.keras import Sequential\n",
    "from tensorflow.python.keras.layers import Dense, InputLayer, Conv2D, MaxPool2D, Flatten, BatchNormalization\n",
    "from keras.preprocessing.image import ImageDataGenerator\n",
    "from sklearn.model_selection import train_test_split\n",
    "import keras.backend as K\n",
    "from keras.callbacks import History \n",
    "\n",
    "loss_ges = np.array([])\n",
    "val_loss_ges = np.array([])\n",
    "\n",
    "%matplotlib inline\n",
    "np.set_printoptions(precision=4)\n",
    "np.set_printoptions(suppress=True)"
   ]
  },
  {
   "cell_type": "markdown",
   "metadata": {},
   "source": [
    "### Load training data\n",
    "* The data is expected in the \"Input_dir\"\n",
    "* Picture size must be 32x32 with 3 color channels (RGB)\n",
    "* The filename contains the informations needed for training:\n",
    "* Typical filename: \n",
    "    * ReadOut-xx_Watch-y_zzzz.jpg \n",
    "    * e.g. \"ReadOut-54_Watch-4_1667.jpg\"\n",
    "\n",
    "|Place holder | Meaning                     | Usage        |\n",
    "|------------- |-----------------------------|--------------|\n",
    "| **xx**          | readout value               | **to be learned** |\n",
    "| y           | different analog watches    | ignored      |\n",
    "| zzzz        | running number              | not needed   |\n",
    "\n",
    "* The images are stored in the x_data[]\n",
    "* The expected output for each image in the corresponding y_data[]\n",
    "\n",
    "* The last step is a shuffle (from sklearn.utils) as the filenames are on order due to the encoding of the expected analog readout in the filename "
   ]
  },
  {
   "cell_type": "code",
   "execution_count": 2,
   "metadata": {},
   "outputs": [
    {
     "name": "stdout",
     "output_type": "stream",
     "text": [
      "(2883, 32, 32, 3)\n",
      "(2883, 3)\n"
     ]
    }
   ],
   "source": [
    "Input_dir='data_resize_all'\n",
    "\n",
    "files = glob.glob(Input_dir + '/*.*')\n",
    "x_data = []\n",
    "y_data = []\n",
    "\n",
    "for aktfile in files:\n",
    "    test_image = Image.open(aktfile)\n",
    "    test_image = np.array(test_image, dtype=\"float32\")\n",
    "    test_image = np.reshape(test_image, (32,32,3))\n",
    "    base = os.path.basename(aktfile)\n",
    "    \n",
    "    target_number = (int(base[8:10])) / 100\n",
    "    target_number_shifted = (target_number + 0.5) % 1\n",
    "    if (target_number <= 0.25) or (target_number > 0.75):\n",
    "        target_select = 0\n",
    "    else:\n",
    "        target_select = 1\n",
    "\n",
    "    x_data.append(test_image)\n",
    "    zw = np.array([target_number, target_number_shifted, target_select])\n",
    "    y_data.append(zw)\n",
    "\n",
    "x_data = np.array(x_data)\n",
    "y_data = np.array(y_data)\n",
    "print(x_data.shape)\n",
    "print(y_data.shape)\n",
    "\n",
    "x_data, y_data = shuffle(x_data, y_data)\n",
    "X_train, X_test, y_train, y_test = train_test_split(x_data, y_data, test_size=0.2)"
   ]
  },
  {
   "cell_type": "markdown",
   "metadata": {},
   "source": [
    "### Define the model\n",
    "\n",
    "The layout of the network ist a typcial CNN network with alternating **Conv2D** and **MaxPool2D** layers. Finished after **flattening** with additional **Dense** layer.\n",
    "\n",
    "#### Important\n",
    "* Shape of the input layer: (32, 32, 3)\n",
    "* Shape of the output layer: (3)"
   ]
  },
  {
   "cell_type": "code",
   "execution_count": 3,
   "metadata": {
    "scrolled": true
   },
   "outputs": [
    {
     "name": "stdout",
     "output_type": "stream",
     "text": [
      "WARNING:tensorflow:From C:\\Users\\Muell\\AppData\\Roaming\\Python\\Python37\\site-packages\\tensorflow\\python\\ops\\resource_variable_ops.py:435: colocate_with (from tensorflow.python.framework.ops) is deprecated and will be removed in a future version.\n",
      "Instructions for updating:\n",
      "Colocations handled automatically by placer.\n",
      "_________________________________________________________________\n",
      "Layer (type)                 Output Shape              Param #   \n",
      "=================================================================\n",
      "batch_normalization_v1 (Batc (None, 32, 32, 3)         12        \n",
      "_________________________________________________________________\n",
      "conv2d (Conv2D)              (None, 32, 32, 64)        4864      \n",
      "_________________________________________________________________\n",
      "max_pooling2d (MaxPooling2D) (None, 8, 8, 64)          0         \n",
      "_________________________________________________________________\n",
      "conv2d_1 (Conv2D)            (None, 8, 8, 32)          51232     \n",
      "_________________________________________________________________\n",
      "max_pooling2d_1 (MaxPooling2 (None, 2, 2, 32)          0         \n",
      "_________________________________________________________________\n",
      "conv2d_2 (Conv2D)            (None, 2, 2, 32)          9248      \n",
      "_________________________________________________________________\n",
      "max_pooling2d_2 (MaxPooling2 (None, 1, 1, 32)          0         \n",
      "_________________________________________________________________\n",
      "flatten (Flatten)            (None, 32)                0         \n",
      "_________________________________________________________________\n",
      "dense (Dense)                (None, 128)               4224      \n",
      "_________________________________________________________________\n",
      "dense_1 (Dense)              (None, 32)                4128      \n",
      "_________________________________________________________________\n",
      "dense_2 (Dense)              (None, 3)                 99        \n",
      "=================================================================\n",
      "Total params: 73,807\n",
      "Trainable params: 73,801\n",
      "Non-trainable params: 6\n",
      "_________________________________________________________________\n"
     ]
    }
   ],
   "source": [
    "model = Sequential()\n",
    "model.add(BatchNormalization(input_shape=(32,32,3)))\n",
    "model.add(Conv2D(64, (5, 5), input_shape=(32,32,3), padding='same', activation=\"relu\"))\n",
    "model.add(MaxPool2D(pool_size=(4,4)))\n",
    "model.add(Conv2D(32, (5, 5), padding='same', activation=\"relu\"))\n",
    "model.add(MaxPool2D(pool_size=(4,4)))\n",
    "model.add(Conv2D(32, (3, 3), padding='same', activation=\"relu\"))\n",
    "model.add(MaxPool2D(pool_size=(2,2)))\n",
    "model.add(Flatten())\n",
    "model.add(Dense(128,activation=\"relu\"))\n",
    "model.add(Dense(32,activation=\"linear\"))\n",
    "model.add(Dense(3))\n",
    "model.summary()\n",
    "\n",
    "model.compile(loss=keras.losses.mean_squared_error, optimizer=keras.optimizers.Adadelta(), metrics = [\"accuracy\"])"
   ]
  },
  {
   "cell_type": "markdown",
   "metadata": {},
   "source": [
    "# Training\n",
    "The input pictures are randomly scattered for brightness and pixel shift variations. \n",
    "This is implemented with a ImageDataGenerator.\n",
    "Typically 60 epochs of learning are sufficient"
   ]
  },
  {
   "cell_type": "code",
   "execution_count": 4,
   "metadata": {},
   "outputs": [
    {
     "name": "stdout",
     "output_type": "stream",
     "text": [
      "WARNING:tensorflow:From C:\\Users\\Muell\\AppData\\Roaming\\Python\\Python37\\site-packages\\tensorflow\\python\\ops\\math_ops.py:3066: to_int32 (from tensorflow.python.ops.math_ops) is deprecated and will be removed in a future version.\n",
      "Instructions for updating:\n",
      "Use tf.cast instead.\n",
      "Epoch 1/60\n",
      "73/73 [==============================] - 1s 11ms/step - loss: 0.0280 - acc: 0.8960\n",
      "289/289 [==============================] - 9s 32ms/step - loss: 0.0835 - acc: 0.6934 - val_loss: 0.0280 - val_acc: 0.8960\n",
      "Epoch 2/60\n",
      "73/73 [==============================] - 1s 11ms/step - loss: 0.0075 - acc: 0.9723: 0s - loss: 0.0073 - acc: 0.9\n",
      "289/289 [==============================] - 9s 31ms/step - loss: 0.0180 - acc: 0.9358 - val_loss: 0.0075 - val_acc: 0.9723\n",
      "Epoch 3/60\n",
      "73/73 [==============================] - 1s 11ms/step - loss: 0.0086 - acc: 0.9584\n",
      "289/289 [==============================] - 9s 32ms/step - loss: 0.0105 - acc: 0.9623 - val_loss: 0.0086 - val_acc: 0.9584\n",
      "Epoch 4/60\n",
      "73/73 [==============================] - 1s 11ms/step - loss: 0.0056 - acc: 0.9965\n",
      "289/289 [==============================] - 10s 35ms/step - loss: 0.0072 - acc: 0.9666 - val_loss: 0.0056 - val_acc: 0.9965\n",
      "Epoch 5/60\n",
      "73/73 [==============================] - 1s 12ms/step - loss: 0.0045 - acc: 0.9861\n",
      "289/289 [==============================] - 9s 31ms/step - loss: 0.0059 - acc: 0.9731 - val_loss: 0.0045 - val_acc: 0.9861\n",
      "Epoch 6/60\n",
      "73/73 [==============================] - 1s 11ms/step - loss: 0.0032 - acc: 0.9931\n",
      "289/289 [==============================] - 9s 32ms/step - loss: 0.0048 - acc: 0.9766 - val_loss: 0.0032 - val_acc: 0.9931\n",
      "Epoch 7/60\n",
      "73/73 [==============================] - 1s 13ms/step - loss: 0.0040 - acc: 0.9896\n",
      "289/289 [==============================] - 10s 36ms/step - loss: 0.0039 - acc: 0.9818 - val_loss: 0.0040 - val_acc: 0.9896\n",
      "Epoch 8/60\n",
      "73/73 [==============================] - 1s 15ms/step - loss: 0.0071 - acc: 0.9948\n",
      "289/289 [==============================] - 10s 34ms/step - loss: 0.0032 - acc: 0.9840 - val_loss: 0.0071 - val_acc: 0.9948\n",
      "Epoch 9/60\n",
      "73/73 [==============================] - 1s 15ms/step - loss: 0.0031 - acc: 0.9931\n",
      "289/289 [==============================] - 12s 41ms/step - loss: 0.0039 - acc: 0.9818 - val_loss: 0.0031 - val_acc: 0.9931\n",
      "Epoch 10/60\n",
      "73/73 [==============================] - 1s 15ms/step - loss: 0.0029 - acc: 0.9861\n",
      "289/289 [==============================] - 12s 40ms/step - loss: 0.0026 - acc: 0.9866 - val_loss: 0.0029 - val_acc: 0.9861\n",
      "Epoch 11/60\n",
      "73/73 [==============================] - 1s 15ms/step - loss: 0.0023 - acc: 0.9931\n",
      "289/289 [==============================] - 13s 44ms/step - loss: 0.0026 - acc: 0.9879 - val_loss: 0.0023 - val_acc: 0.9931\n",
      "Epoch 12/60\n",
      "73/73 [==============================] - 1s 14ms/step - loss: 0.0023 - acc: 0.9931\n",
      "289/289 [==============================] - 11s 37ms/step - loss: 0.0025 - acc: 0.9879 - val_loss: 0.0023 - val_acc: 0.9931\n",
      "Epoch 13/60\n",
      "73/73 [==============================] - 1s 13ms/step - loss: 0.0046 - acc: 0.9827\n",
      "289/289 [==============================] - 11s 38ms/step - loss: 0.0021 - acc: 0.9905 - val_loss: 0.0046 - val_acc: 0.9827\n",
      "Epoch 14/60\n",
      "73/73 [==============================] - 1s 12ms/step - loss: 0.0049 - acc: 0.9896\n",
      "289/289 [==============================] - 9s 33ms/step - loss: 0.0021 - acc: 0.9913 - val_loss: 0.0049 - val_acc: 0.9896\n",
      "Epoch 15/60\n",
      "73/73 [==============================] - 1s 10ms/step - loss: 0.0021 - acc: 0.9948\n",
      "289/289 [==============================] - 9s 33ms/step - loss: 0.0022 - acc: 0.9883 - val_loss: 0.0021 - val_acc: 0.9948\n",
      "Epoch 16/60\n",
      "73/73 [==============================] - 1s 13ms/step - loss: 0.0022 - acc: 0.9948\n",
      "289/289 [==============================] - 10s 36ms/step - loss: 0.0018 - acc: 0.9909 - val_loss: 0.0022 - val_acc: 0.9948\n",
      "Epoch 17/60\n",
      "73/73 [==============================] - 1s 17ms/step - loss: 0.0020 - acc: 0.9844\n",
      "289/289 [==============================] - 12s 43ms/step - loss: 0.0016 - acc: 0.9905 - val_loss: 0.0020 - val_acc: 0.9844\n",
      "Epoch 18/60\n",
      "73/73 [==============================] - 1s 14ms/step - loss: 0.0020 - acc: 0.9965\n",
      "289/289 [==============================] - 11s 37ms/step - loss: 0.0011 - acc: 0.9918 - val_loss: 0.0020 - val_acc: 0.9965\n",
      "Epoch 19/60\n",
      "73/73 [==============================] - 1s 11ms/step - loss: 0.0050 - acc: 0.9116\n",
      "289/289 [==============================] - 10s 35ms/step - loss: 0.0016 - acc: 0.9905 - val_loss: 0.0050 - val_acc: 0.9116\n",
      "Epoch 20/60\n",
      "73/73 [==============================] - 1s 11ms/step - loss: 0.0030 - acc: 0.9965\n",
      "289/289 [==============================] - 10s 33ms/step - loss: 0.0011 - acc: 0.9935 - val_loss: 0.0030 - val_acc: 0.9965\n",
      "Epoch 21/60\n",
      "73/73 [==============================] - 1s 12ms/step - loss: 0.0017 - acc: 0.9931\n",
      "289/289 [==============================] - 10s 35ms/step - loss: 0.0016 - acc: 0.9905 - val_loss: 0.0017 - val_acc: 0.9931\n",
      "Epoch 22/60\n",
      "73/73 [==============================] - 1s 12ms/step - loss: 0.0026 - acc: 0.9931\n",
      "289/289 [==============================] - 10s 35ms/step - loss: 0.0014 - acc: 0.9926 - val_loss: 0.0026 - val_acc: 0.9931\n",
      "Epoch 23/60\n",
      "73/73 [==============================] - 1s 12ms/step - loss: 0.0014 - acc: 0.9965\n",
      "289/289 [==============================] - 10s 34ms/step - loss: 0.0016 - acc: 0.9909 - val_loss: 0.0014 - val_acc: 0.9965\n",
      "Epoch 24/60\n",
      "73/73 [==============================] - 1s 11ms/step - loss: 0.0022 - acc: 0.9931\n",
      "289/289 [==============================] - 11s 38ms/step - loss: 0.0012 - acc: 0.9944 - val_loss: 0.0022 - val_acc: 0.9931\n",
      "Epoch 25/60\n",
      "73/73 [==============================] - 1s 11ms/step - loss: 9.1057e-04 - acc: 1.0000\n",
      "289/289 [==============================] - 10s 35ms/step - loss: 0.0014 - acc: 0.9935 - val_loss: 9.1057e-04 - val_acc: 1.0000\n",
      "Epoch 26/60\n",
      "73/73 [==============================] - 1s 12ms/step - loss: 0.0025 - acc: 0.9913\n",
      "289/289 [==============================] - 10s 33ms/step - loss: 8.0797e-04 - acc: 0.9974 - val_loss: 0.0025 - val_acc: 0.9913\n",
      "Epoch 27/60\n",
      "73/73 [==============================] - 1s 11ms/step - loss: 0.0016 - acc: 0.9827\n",
      "289/289 [==============================] - 10s 34ms/step - loss: 0.0013 - acc: 0.9922 - val_loss: 0.0016 - val_acc: 0.9827\n",
      "Epoch 28/60\n",
      "73/73 [==============================] - 1s 13ms/step - loss: 0.0023 - acc: 0.9948\n",
      "289/289 [==============================] - 10s 34ms/step - loss: 9.9926e-04 - acc: 0.9970 - val_loss: 0.0023 - val_acc: 0.9948\n",
      "Epoch 29/60\n",
      "73/73 [==============================] - 1s 11ms/step - loss: 0.0016 - acc: 0.9965\n",
      "289/289 [==============================] - 10s 35ms/step - loss: 0.0011 - acc: 0.9931 - val_loss: 0.0016 - val_acc: 0.9965\n",
      "Epoch 30/60\n",
      "73/73 [==============================] - 1s 12ms/step - loss: 0.0030 - acc: 0.9844\n",
      "289/289 [==============================] - 10s 35ms/step - loss: 9.2747e-04 - acc: 0.9965 - val_loss: 0.0030 - val_acc: 0.9844\n",
      "Epoch 31/60\n",
      "73/73 [==============================] - 1s 13ms/step - loss: 0.0013 - acc: 0.9965\n",
      "289/289 [==============================] - 10s 33ms/step - loss: 9.7252e-04 - acc: 0.9957 - val_loss: 0.0013 - val_acc: 0.9965\n",
      "Epoch 32/60\n",
      "73/73 [==============================] - 1s 11ms/step - loss: 9.6685e-04 - acc: 0.9965\n",
      "289/289 [==============================] - 10s 33ms/step - loss: 0.0010 - acc: 0.9935 - val_loss: 9.6685e-04 - val_acc: 0.9965\n",
      "Epoch 33/60\n",
      "73/73 [==============================] - 1s 14ms/step - loss: 0.0014 - acc: 0.9931\n",
      "289/289 [==============================] - 10s 34ms/step - loss: 0.0012 - acc: 0.9935 - val_loss: 0.0014 - val_acc: 0.9931\n",
      "Epoch 34/60\n",
      "73/73 [==============================] - 1s 13ms/step - loss: 0.0014 - acc: 0.9896\n",
      "289/289 [==============================] - 11s 37ms/step - loss: 0.0010 - acc: 0.9952 - val_loss: 0.0014 - val_acc: 0.9896\n",
      "Epoch 35/60\n",
      "73/73 [==============================] - 1s 15ms/step - loss: 0.0018 - acc: 0.9965\n",
      "289/289 [==============================] - 11s 40ms/step - loss: 0.0010 - acc: 0.9944 - val_loss: 0.0018 - val_acc: 0.9965\n",
      "Epoch 36/60\n",
      "73/73 [==============================] - 1s 14ms/step - loss: 0.0016 - acc: 0.9983\n",
      "289/289 [==============================] - 11s 39ms/step - loss: 9.5848e-04 - acc: 0.9957 - val_loss: 0.0016 - val_acc: 0.9983\n",
      "Epoch 37/60\n"
     ]
    },
    {
     "name": "stdout",
     "output_type": "stream",
     "text": [
      "73/73 [==============================] - 1s 12ms/step - loss: 0.0014 - acc: 0.9965\n",
      "289/289 [==============================] - 11s 37ms/step - loss: 5.7489e-04 - acc: 0.9965 - val_loss: 0.0014 - val_acc: 0.9965\n",
      "Epoch 38/60\n",
      "73/73 [==============================] - 1s 12ms/step - loss: 9.9429e-04 - acc: 0.9965\n",
      "289/289 [==============================] - 10s 35ms/step - loss: 0.0011 - acc: 0.9952 - val_loss: 9.9429e-04 - val_acc: 0.9965\n",
      "Epoch 39/60\n",
      "73/73 [==============================] - 1s 13ms/step - loss: 0.0011 - acc: 0.9983\n",
      "289/289 [==============================] - 10s 35ms/step - loss: 6.4715e-04 - acc: 0.9965 - val_loss: 0.0011 - val_acc: 0.9983\n",
      "Epoch 40/60\n",
      "73/73 [==============================] - 1s 12ms/step - loss: 0.0022 - acc: 0.9931\n",
      "289/289 [==============================] - 10s 35ms/step - loss: 6.2877e-04 - acc: 0.9957 - val_loss: 0.0022 - val_acc: 0.9931\n",
      "Epoch 41/60\n",
      "73/73 [==============================] - 1s 12ms/step - loss: 8.9207e-04 - acc: 0.9965\n",
      "289/289 [==============================] - 11s 37ms/step - loss: 8.3016e-04 - acc: 0.9931 - val_loss: 8.9207e-04 - val_acc: 0.9965\n",
      "Epoch 42/60\n",
      "73/73 [==============================] - 1s 15ms/step - loss: 0.0020 - acc: 0.9948\n",
      "289/289 [==============================] - 10s 36ms/step - loss: 8.3375e-04 - acc: 0.9944 - val_loss: 0.0020 - val_acc: 0.9948\n",
      "Epoch 43/60\n",
      "73/73 [==============================] - 1s 12ms/step - loss: 0.0013 - acc: 0.9983\n",
      "289/289 [==============================] - 11s 37ms/step - loss: 7.2485e-04 - acc: 0.9974 - val_loss: 0.0013 - val_acc: 0.9983\n",
      "Epoch 44/60\n",
      "73/73 [==============================] - 1s 12ms/step - loss: 0.0021 - acc: 0.9931\n",
      "289/289 [==============================] - 10s 36ms/step - loss: 5.9681e-04 - acc: 0.9983 - val_loss: 0.0021 - val_acc: 0.9931\n",
      "Epoch 45/60\n",
      "73/73 [==============================] - 1s 15ms/step - loss: 9.4163e-04 - acc: 0.9965: 0s - loss: 8.0884e-04 - acc: \n",
      "289/289 [==============================] - 11s 37ms/step - loss: 7.4386e-04 - acc: 0.9974 - val_loss: 9.4163e-04 - val_acc: 0.9965\n",
      "Epoch 46/60\n",
      "73/73 [==============================] - 1s 13ms/step - loss: 0.0014 - acc: 0.9983\n",
      "289/289 [==============================] - 10s 36ms/step - loss: 9.1127e-04 - acc: 0.9957 - val_loss: 0.0014 - val_acc: 0.9983\n",
      "Epoch 47/60\n",
      "73/73 [==============================] - 1s 17ms/step - loss: 0.0015 - acc: 0.9983\n",
      "289/289 [==============================] - 11s 39ms/step - loss: 5.5229e-04 - acc: 0.9978 - val_loss: 0.0015 - val_acc: 0.9983\n",
      "Epoch 48/60\n",
      "73/73 [==============================] - 1s 12ms/step - loss: 0.0013 - acc: 0.9965\n",
      "289/289 [==============================] - 12s 41ms/step - loss: 8.2857e-04 - acc: 0.9952 - val_loss: 0.0013 - val_acc: 0.9965\n",
      "Epoch 49/60\n",
      "73/73 [==============================] - 1s 14ms/step - loss: 0.0019 - acc: 0.9948\n",
      "289/289 [==============================] - 11s 38ms/step - loss: 6.1259e-04 - acc: 0.9974 - val_loss: 0.0019 - val_acc: 0.9948\n",
      "Epoch 50/60\n",
      "73/73 [==============================] - 1s 15ms/step - loss: 0.0021 - acc: 0.9965\n",
      "289/289 [==============================] - 12s 42ms/step - loss: 9.5122e-04 - acc: 0.9961 - val_loss: 0.0021 - val_acc: 0.9965\n",
      "Epoch 51/60\n",
      "73/73 [==============================] - 1s 14ms/step - loss: 0.0016 - acc: 0.9965\n",
      "289/289 [==============================] - 12s 40ms/step - loss: 9.4506e-04 - acc: 0.9957 - val_loss: 0.0016 - val_acc: 0.9965\n",
      "Epoch 52/60\n",
      "73/73 [==============================] - 1s 14ms/step - loss: 0.0011 - acc: 0.9965\n",
      "289/289 [==============================] - 11s 38ms/step - loss: 5.0912e-04 - acc: 0.9987 - val_loss: 0.0011 - val_acc: 0.9965\n",
      "Epoch 53/60\n",
      "73/73 [==============================] - 1s 12ms/step - loss: 0.0014 - acc: 0.9965\n",
      "289/289 [==============================] - 11s 36ms/step - loss: 7.4670e-04 - acc: 0.9957 - val_loss: 0.0014 - val_acc: 0.9965\n",
      "Epoch 54/60\n",
      "73/73 [==============================] - 1s 14ms/step - loss: 0.0013 - acc: 0.9948\n",
      "289/289 [==============================] - 11s 37ms/step - loss: 5.5348e-04 - acc: 0.9974 - val_loss: 0.0013 - val_acc: 0.9948\n",
      "Epoch 55/60\n",
      "73/73 [==============================] - 1s 16ms/step - loss: 0.0014 - acc: 0.9983\n",
      "289/289 [==============================] - 11s 39ms/step - loss: 5.2659e-04 - acc: 0.9965 - val_loss: 0.0014 - val_acc: 0.9983\n",
      "Epoch 56/60\n",
      "73/73 [==============================] - 1s 15ms/step - loss: 0.0015 - acc: 0.9965: 0s - loss: 0.0023 - \n",
      "289/289 [==============================] - 11s 40ms/step - loss: 7.9603e-04 - acc: 0.9961 - val_loss: 0.0015 - val_acc: 0.9965\n",
      "Epoch 57/60\n",
      "73/73 [==============================] - 1s 14ms/step - loss: 0.0013 - acc: 0.9965\n",
      "289/289 [==============================] - 11s 39ms/step - loss: 3.9061e-04 - acc: 0.9978 - val_loss: 0.0013 - val_acc: 0.9965\n",
      "Epoch 58/60\n",
      "73/73 [==============================] - 1s 15ms/step - loss: 0.0020 - acc: 0.9965\n",
      "289/289 [==============================] - 13s 47ms/step - loss: 3.6177e-04 - acc: 0.9983 - val_loss: 0.0020 - val_acc: 0.9965\n",
      "Epoch 59/60\n",
      "73/73 [==============================] - 1s 15ms/step - loss: 0.0014 - acc: 0.9983\n",
      "289/289 [==============================] - 11s 39ms/step - loss: 9.2516e-04 - acc: 0.9952 - val_loss: 0.0014 - val_acc: 0.9983\n",
      "Epoch 60/60\n",
      "73/73 [==============================] - 1s 15ms/step - loss: 7.3588e-04 - acc: 1.0000\n",
      "289/289 [==============================] - 12s 40ms/step - loss: 7.5246e-04 - acc: 0.9965 - val_loss: 7.3588e-04 - val_acc: 1.0000\n"
     ]
    }
   ],
   "source": [
    "Batch_Size = 8\n",
    "Epoch_Anz = 60\n",
    "Shift_Range = 1\n",
    "Brightness_Range = 0.3\n",
    "\n",
    "datagen = ImageDataGenerator(width_shift_range=[-Shift_Range,Shift_Range], height_shift_range=[-Shift_Range,Shift_Range],brightness_range=[1-Brightness_Range,1+Brightness_Range])\n",
    "\n",
    "train_iterator = datagen.flow(X_train, y_train, batch_size=Batch_Size)\n",
    "validation_iterator = datagen.flow(X_test, y_test, batch_size=Batch_Size)\n",
    "\n",
    "history = model.fit_generator(train_iterator, validation_data = validation_iterator, epochs = Epoch_Anz)"
   ]
  },
  {
   "cell_type": "markdown",
   "metadata": {},
   "source": [
    "Learing result\n",
    " \n",
    "* Visualization of the training and validation results"
   ]
  },
  {
   "cell_type": "code",
   "execution_count": 5,
   "metadata": {},
   "outputs": [
    {
     "data": {
      "image/png": "[encoded data removed]",
      "text/plain": [
       "<Figure size 432x288 with 1 Axes>"
      ]
     },
     "metadata": {
      "needs_background": "light"
     },
     "output_type": "display_data"
    }
   ],
   "source": [
    "loss_ges = np.append(loss_ges, history.history['loss'])\n",
    "val_loss_ges = np.append(val_loss_ges, history.history['val_loss'])\n",
    "\n",
    "plt.semilogy(history.history['loss'])\n",
    "plt.semilogy(history.history['val_loss'])\n",
    "plt.title('model loss')\n",
    "plt.ylabel('loss')\n",
    "plt.xlabel('epoch')\n",
    "plt.legend(['train','eval'], loc='upper left')\n",
    "plt.show()"
   ]
  },
  {
   "cell_type": "markdown",
   "metadata": {},
   "source": [
    "### Check the model by hand\n",
    "\n",
    "* The following code uses the trained model to check the deviation for each picture.\n",
    "* The evaluation takes the periodic character of the results into account (dev1 ... dev2)."
   ]
  },
  {
   "cell_type": "code",
   "execution_count": 6,
   "metadata": {},
   "outputs": [],
   "source": [
    "Input_dir='data_resize_all'\n",
    "files = glob.glob(Input_dir + '/*.*')\n",
    "res = []\n",
    "\n",
    "for aktfile in files:\n",
    "    base = os.path.basename(aktfile)\n",
    "    target = (int(base[8:10])) / 100\n",
    "    test_image = Image.open(aktfile)\n",
    "    test_image = np.array(test_image, dtype=\"float32\")\n",
    "    img = np.reshape(test_image,[1,32,32,3])\n",
    "    classes = model.predict(img)\n",
    "    \n",
    "    out_orginal = round(classes[0][0], 2)  # Value 1\n",
    "    out_shifted = round(classes[0][1], 2)  # Value 2 (target - 0.5)\n",
    "    out_select = round(classes[0][2], 2)  # 1 = Value 1, 0 = Value 2\n",
    "    if out_select < 0.5:\n",
    "        combinded = (out_shifted - 0.5) % 1\n",
    "    else:\n",
    "        combinded = out_orginal % 1\n",
    "      \n",
    "    dev1 = target - combinded\n",
    "    dev2 = target - (combinded - 1)\n",
    "    dev3 = target - (combinded + 1)\n",
    "               \n",
    "    deviation = dev1;\n",
    "    if abs(dev2) < abs(deviation):\n",
    "        deviation = dev2\n",
    "    if abs(dev3) < abs(deviation):\n",
    "        deviation = dev3\n",
    "    res.append(np.array([target, out_orginal, out_shifted, out_select, combinded, deviation]))\n",
    "#    print(base, ', ', zw1, ', ', round(zw2, 2), ', ', round(zw3, 2), ', ', round(zw4, 2))\n",
    "\n",
    "res = np.asarray(res)\n",
    "res_step_1 = res"
   ]
  },
  {
   "cell_type": "markdown",
   "metadata": {},
   "source": [
    "## Results"
   ]
  },
  {
   "cell_type": "markdown",
   "metadata": {},
   "source": [
    "### Metric 1"
   ]
  },
  {
   "cell_type": "code",
   "execution_count": 7,
   "metadata": {},
   "outputs": [
    {
     "data": {
      "image/png": "[encoded data removed]",
      "text/plain": [
       "<Figure size 432x288 with 1 Axes>"
      ]
     },
     "metadata": {
      "needs_background": "light"
     },
     "output_type": "display_data"
    }
   ],
   "source": [
    "plt.plot(res[:,1])\n",
    "plt.title('Metric 1')\n",
    "plt.ylabel('Result Output Neuron 1 = Metric 1')\n",
    "plt.xlabel('#Picture')\n",
    "plt.legend(['Metric 1'], loc='upper left')\n",
    "plt.show()"
   ]
  },
  {
   "cell_type": "markdown",
   "metadata": {},
   "source": [
    "### Metric 2"
   ]
  },
  {
   "cell_type": "code",
   "execution_count": 8,
   "metadata": {},
   "outputs": [
    {
     "data": {
      "image/png": "[encoded data removed]",
      "text/plain": [
       "<Figure size 432x288 with 1 Axes>"
      ]
     },
     "metadata": {
      "needs_background": "light"
     },
     "output_type": "display_data"
    }
   ],
   "source": [
    "plt.plot(res[:,2])\n",
    "plt.title('Metric 2')\n",
    "plt.ylabel('Result Output Neuron 1 = Metric 2')\n",
    "plt.xlabel('#Picture')\n",
    "plt.legend(['Metric 2'], loc='upper left')\n",
    "plt.show()"
   ]
  },
  {
   "cell_type": "markdown",
   "metadata": {},
   "source": [
    "### Selector Neuron"
   ]
  },
  {
   "cell_type": "code",
   "execution_count": 9,
   "metadata": {},
   "outputs": [
    {
     "data": {
      "image/png": "[encoded data removed]",
      "text/plain": [
       "<Figure size 432x288 with 1 Axes>"
      ]
     },
     "metadata": {
      "needs_background": "light"
     },
     "output_type": "display_data"
    }
   ],
   "source": [
    "plt.plot(res[:,3])\n",
    "plt.title('Selector Neuron')\n",
    "plt.ylabel('Result Selector Neuron')\n",
    "plt.xlabel('#Picture')\n",
    "plt.legend(['Selector'], loc='upper left')\n",
    "plt.show()"
   ]
  },
  {
   "cell_type": "markdown",
   "metadata": {},
   "source": [
    "### Deviation from Expected Value"
   ]
  },
  {
   "cell_type": "code",
   "execution_count": 10,
   "metadata": {},
   "outputs": [
    {
     "data": {
      "image/png": "[encoded data removed]",
      "text/plain": [
       "<Figure size 432x288 with 1 Axes>"
      ]
     },
     "metadata": {
      "needs_background": "light"
     },
     "output_type": "display_data"
    },
    {
     "name": "stdout",
     "output_type": "stream",
     "text": [
      "[ 0.0031  0.0158 -0.08    0.11  ]\n"
     ]
    }
   ],
   "source": [
    "plt.plot(res[:,5])\n",
    "plt.title('Deviation')\n",
    "plt.ylabel('Deviation from expected value')\n",
    "plt.xlabel('#Picture')\n",
    "plt.legend(['Deviation'], loc='upper left')\n",
    "plt.ylim(-0.3, 0.3)\n",
    "plt.show()\n",
    "\n",
    "statistic = np.array([np.mean(res[:,5]), np.std(res[:,5]), np.min(res[:,5]), np.max(res[:,5])])\n",
    "print(statistic)"
   ]
  },
  {
   "cell_type": "markdown",
   "metadata": {},
   "source": [
    "### Save the model\n",
    "\n",
    "* Save the model to the file with the \"h5\" file format"
   ]
  },
  {
   "cell_type": "code",
   "execution_count": 11,
   "metadata": {},
   "outputs": [],
   "source": [
    "model.save(\"Train_CNN_Version2_Analog-Readout.h5\")"
   ]
  },
  {
   "cell_type": "code",
   "execution_count": null,
   "metadata": {},
   "outputs": [],
   "source": []
  }
 ],
 "metadata": {
  "kernelspec": {
   "display_name": "Python 3",
   "language": "python",
   "name": "python3"
  },
  "language_info": {
   "codemirror_mode": {
    "name": "ipython",
    "version": 3
   },
   "file_extension": ".py",
   "mimetype": "text/x-python",
   "name": "python",
   "nbconvert_exporter": "python",
   "pygments_lexer": "ipython3",
   "version": "3.7.4"
  }
 },
 "nbformat": 4,
 "nbformat_minor": 2
}
