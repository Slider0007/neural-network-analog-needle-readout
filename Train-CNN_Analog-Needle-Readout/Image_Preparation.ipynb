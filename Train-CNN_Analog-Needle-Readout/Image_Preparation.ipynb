{
 "cells": [
  {
   "cell_type": "markdown",
   "metadata": {},
   "source": [
    "# Image preparation\n",
    "\n",
    "The image size for the input ist 32x32 pixels with a color depth of 3 (RGB).\n",
    "The below code can be used to transform the images in an input directory (Input_dir) to the right size (32x32 pixels) into an output directory (Output_dir). \n",
    "Any other image converter can be used as well\n",
    "\n",
    "### Prerequisite\n",
    "Installad OpenCV libary within python (opencv)"
   ]
  },
  {
   "cell_type": "code",
   "execution_count": 2,
   "metadata": {},
   "outputs": [],
   "source": [
    "import glob\n",
    "import os\n",
    "import cv2\n",
    "\n",
    "Input_dir='data_raw_all'\n",
    "Output_dir='data_resize_all'\n",
    "\n",
    "files = glob.glob(Input_dir+'/*.*')\n",
    "\n",
    "for aktfile in files:\n",
    "    test_image = cv2.imread(aktfile)\n",
    "    test_image = cv2.resize(test_image,(32,32), interpolation = cv2.INTER_CUBIC)\n",
    "    base=os.path.basename(aktfile)\n",
    "    save_name = Output_dir+'/'+base\n",
    "    cv2.imwrite(save_name, test_image)"
   ]
  },
  {
   "cell_type": "code",
   "execution_count": null,
   "metadata": {},
   "outputs": [],
   "source": []
  }
 ],
 "metadata": {
  "kernelspec": {
   "display_name": "Python 3",
   "language": "python",
   "name": "python3"
  },
  "language_info": {
   "codemirror_mode": {
    "name": "ipython",
    "version": 3
   },
   "file_extension": ".py",
   "mimetype": "text/x-python",
   "name": "python",
   "nbconvert_exporter": "python",
   "pygments_lexer": "ipython3",
   "version": "3.7.3"
  }
 },
 "nbformat": 4,
 "nbformat_minor": 2
}
