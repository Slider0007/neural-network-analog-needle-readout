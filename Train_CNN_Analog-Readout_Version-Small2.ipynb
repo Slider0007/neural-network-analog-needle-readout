{
 "cells": [
  {
   "cell_type": "markdown",
   "metadata": {},
   "source": [
    "# CNN Training\n",
    "\n",
    "Target of this code is to train a CNN network to extract the needle position of an analog needle device.\n",
    "\n",
    "### Preparing the training\n",
    "* First all libraries are loaded\n",
    "    * It is assumed, that they are installed during the Python setup\n",
    "* matplotlib is set to print the output inline in the jupyter notebook"
   ]
  },
  {
   "cell_type": "code",
   "execution_count": 1,
   "metadata": {
    "scrolled": true
   },
   "outputs": [],
   "source": [
    "import os\n",
    "import tensorflow as tf\n",
    "import matplotlib.pyplot as plt\n",
    "import glob\n",
    "import numpy as np\n",
    "from sklearn.utils import shuffle\n",
    "from tensorflow.python import keras\n",
    "from tensorflow.python.keras import Sequential\n",
    "from tensorflow.python.keras.layers import Dense, InputLayer, Conv2D, MaxPool2D, Flatten, BatchNormalization\n",
    "from tensorflow.keras.preprocessing.image import ImageDataGenerator\n",
    "from sklearn.model_selection import train_test_split\n",
    "import tensorflow.keras.backend as K\n",
    "from tensorflow.keras.callbacks import History \n",
    "import math\n",
    "from PIL import Image \n",
    "\n",
    "loss_ges = np.array([])\n",
    "val_loss_ges = np.array([])\n",
    "\n",
    "%matplotlib inline\n",
    "np.set_printoptions(precision=4)\n",
    "np.set_printoptions(suppress=True)"
   ]
  },
  {
   "cell_type": "markdown",
   "metadata": {},
   "source": [
    "### Load training data\n",
    "* The data is expected in the \"Input_dir\"\n",
    "* Picture size must be 32x32 with 3 color channels (RGB)\n",
    "* The filename contains the informations needed for training in the first 3 digits::\n",
    "* Typical filename: \n",
    "    * x.y-zzzz.jpg \n",
    "    * e.g. \"4.6_Lfd-1406_zeiger3_2019-06-02T050011\"\n",
    "\n",
    "|Place holder | Meaning                     | Usage        |\n",
    "|------------- |-----------------------------|--------------|\n",
    "| **x.y**          | readout value               | **to be learned** |\n",
    "| zzzz        | additional information              | not needed   |\n",
    "\n",
    "* The images are stored in the x_data[]\n",
    "* The expected output for each image in the corresponding y_data[]\n",
    "    * The periodic nature is reflected in a **sin/cos coding**, which allows to restore the angle/counter value with an arctan later on.\n",
    "\n",
    "* The last step is a shuffle (from sklearn.utils) as the filenames are on order due to the encoding of the expected analog readout in the filename "
   ]
  },
  {
   "cell_type": "code",
   "execution_count": 2,
   "metadata": {},
   "outputs": [
    {
     "name": "stdout",
     "output_type": "stream",
     "text": [
      "(4827, 32, 32, 3)\n",
      "(4827, 2)\n"
     ]
    }
   ],
   "source": [
    "Input_dir='data_resize_all'\n",
    "\n",
    "files = glob.glob(Input_dir + '/*.*')\n",
    "x_data = []\n",
    "y_data = []\n",
    "\n",
    "for aktfile in files:\n",
    "    test_image = Image.open(aktfile)\n",
    "    test_image = np.array(test_image, dtype=\"float32\")\n",
    "    test_image = np.reshape(test_image, (32,32,3))\n",
    "    base = os.path.basename(aktfile)\n",
    "    target_number = (float(base[0:3])) / 10\n",
    "    target_sin = math.sin(target_number * math.pi * 2)\n",
    "    target_cos = math.cos(target_number * math.pi * 2)\n",
    "\n",
    "    x_data.append(test_image)\n",
    "    zw = np.array([target_sin, target_cos])\n",
    "    y_data.append(zw)\n",
    "\n",
    "x_data = np.array(x_data)\n",
    "y_data = np.array(y_data)\n",
    "print(x_data.shape)\n",
    "print(y_data.shape)\n",
    "\n",
    "x_data, y_data = shuffle(x_data, y_data)\n",
    "X_train, X_test, y_train, y_test = train_test_split(x_data, y_data, test_size=0.1)"
   ]
  },
  {
   "cell_type": "markdown",
   "metadata": {},
   "source": [
    "### Define the model\n",
    "\n",
    "The layout of the network ist a typcial CNN network with alternating **Conv2D** and **MaxPool2D** layers. Finished after **flattening** with additional **Dense** layer.\n",
    "\n",
    "#### Important\n",
    "* Shape of the input layer: (32, 32, 3)\n",
    "* Shape of the output layer: (2) - sin and cos"
   ]
  },
  {
   "cell_type": "code",
   "execution_count": 3,
   "metadata": {
    "scrolled": true
   },
   "outputs": [
    {
     "name": "stdout",
     "output_type": "stream",
     "text": [
      "Model: \"sequential\"\n",
      "_________________________________________________________________\n",
      "Layer (type)                 Output Shape              Param #   \n",
      "=================================================================\n",
      "batch_normalization (BatchNo (None, 32, 32, 3)         12        \n",
      "_________________________________________________________________\n",
      "conv2d (Conv2D)              (None, 32, 32, 32)        2432      \n",
      "_________________________________________________________________\n",
      "max_pooling2d (MaxPooling2D) (None, 8, 8, 32)          0         \n",
      "_________________________________________________________________\n",
      "conv2d_1 (Conv2D)            (None, 8, 8, 16)          12816     \n",
      "_________________________________________________________________\n",
      "max_pooling2d_1 (MaxPooling2 (None, 2, 2, 16)          0         \n",
      "_________________________________________________________________\n",
      "conv2d_2 (Conv2D)            (None, 2, 2, 32)          4640      \n",
      "_________________________________________________________________\n",
      "max_pooling2d_2 (MaxPooling2 (None, 1, 1, 32)          0         \n",
      "_________________________________________________________________\n",
      "flatten (Flatten)            (None, 32)                0         \n",
      "_________________________________________________________________\n",
      "dense (Dense)                (None, 128)               4224      \n",
      "_________________________________________________________________\n",
      "dense_1 (Dense)              (None, 64)                8256      \n",
      "_________________________________________________________________\n",
      "dense_2 (Dense)              (None, 2)                 130       \n",
      "=================================================================\n",
      "Total params: 32,510\n",
      "Trainable params: 32,504\n",
      "Non-trainable params: 6\n",
      "_________________________________________________________________\n"
     ]
    }
   ],
   "source": [
    "model = Sequential()\n",
    "model.add(BatchNormalization(input_shape=(32,32,3)))\n",
    "model.add(Conv2D(32, (5, 5), input_shape=(32,32,3), padding='same', activation=\"relu\"))\n",
    "model.add(MaxPool2D(pool_size=(4,4)))\n",
    "model.add(Conv2D(16, (5, 5), padding='same', activation=\"relu\"))\n",
    "model.add(MaxPool2D(pool_size=(4,4)))\n",
    "model.add(Conv2D(32, (3, 3), padding='same', activation=\"relu\"))\n",
    "model.add(MaxPool2D(pool_size=(2,2)))\n",
    "model.add(Flatten())\n",
    "model.add(Dense(128,activation=\"relu\"))\n",
    "model.add(Dense(64,activation=\"relu\"))\n",
    "model.add(Dense(2))\n",
    "model.summary()\n",
    "\n",
    "model.compile(loss=keras.losses.mean_squared_error, optimizer=tf.keras.optimizers.Adadelta(learning_rate=1.0, rho=0.95), metrics = [\"accuracy\"])"
   ]
  },
  {
   "cell_type": "markdown",
   "metadata": {},
   "source": [
    "# Training\n",
    "The input pictures are randomly scattered for brightness and pixel shift variations. These is implemented with a ImageDataGenerator.\n",
    "\n",
    "\n",
    "The training is splitted into two steps:\n",
    "1. Variation of the brightness only\n",
    "2. Variation of brightness and Pixel Shift"
   ]
  },
  {
   "cell_type": "markdown",
   "metadata": {},
   "source": [
    "### Step 1: Brigthness scattering only"
   ]
  },
  {
   "cell_type": "code",
   "execution_count": 4,
   "metadata": {},
   "outputs": [
    {
     "name": "stdout",
     "output_type": "stream",
     "text": [
      "WARNING:tensorflow:From <ipython-input-4-9f5ba6453a73>:11: Model.fit_generator (from tensorflow.python.keras.engine.training) is deprecated and will be removed in a future version.\n",
      "Instructions for updating:\n",
      "Please use Model.fit, which supports generators.\n",
      "Epoch 1/30\n",
      "543/543 [==============================] - 10s 19ms/step - loss: 0.1117 - accuracy: 0.9001 - val_loss: 0.0257 - val_accuracy: 0.9648\n",
      "Epoch 2/30\n",
      "543/543 [==============================] - 12s 21ms/step - loss: 0.0181 - accuracy: 0.9717 - val_loss: 0.0095 - val_accuracy: 0.9938\n",
      "Epoch 3/30\n",
      "543/543 [==============================] - 14s 25ms/step - loss: 0.0112 - accuracy: 0.9763 - val_loss: 0.0089 - val_accuracy: 0.9896\n",
      "Epoch 4/30\n",
      "543/543 [==============================] - 17s 31ms/step - loss: 0.0073 - accuracy: 0.9820 - val_loss: 0.0055 - val_accuracy: 0.9855\n",
      "Epoch 5/30\n",
      "543/543 [==============================] - 17s 31ms/step - loss: 0.0058 - accuracy: 0.9774 - val_loss: 0.0063 - val_accuracy: 0.9834\n",
      "Epoch 6/30\n",
      "543/543 [==============================] - 18s 33ms/step - loss: 0.0045 - accuracy: 0.9832 - val_loss: 0.0033 - val_accuracy: 0.9938\n",
      "Epoch 7/30\n",
      "543/543 [==============================] - 18s 33ms/step - loss: 0.0034 - accuracy: 0.9855 - val_loss: 0.0036 - val_accuracy: 0.9772\n",
      "Epoch 8/30\n",
      "543/543 [==============================] - 18s 33ms/step - loss: 0.0030 - accuracy: 0.9873 - val_loss: 0.0020 - val_accuracy: 0.9896\n",
      "Epoch 9/30\n",
      "543/543 [==============================] - 17s 32ms/step - loss: 0.0027 - accuracy: 0.9885 - val_loss: 0.0042 - val_accuracy: 0.9855\n",
      "Epoch 10/30\n",
      "543/543 [==============================] - 18s 33ms/step - loss: 0.0022 - accuracy: 0.9903 - val_loss: 0.0020 - val_accuracy: 0.9814\n",
      "Epoch 11/30\n",
      "543/543 [==============================] - 18s 32ms/step - loss: 0.0021 - accuracy: 0.9885 - val_loss: 0.0019 - val_accuracy: 0.9959 loss: 0.0021 - accu\n",
      "Epoch 12/30\n",
      "543/543 [==============================] - 17s 32ms/step - loss: 0.0020 - accuracy: 0.9885 - val_loss: 0.0032 - val_accuracy: 0.9959\n",
      "Epoch 13/30\n",
      "543/543 [==============================] - 18s 33ms/step - loss: 0.0018 - accuracy: 0.9913 - val_loss: 0.0015 - val_accuracy: 1.0000\n",
      "Epoch 14/30\n",
      "543/543 [==============================] - 18s 33ms/step - loss: 0.0017 - accuracy: 0.9922 - val_loss: 0.0021 - val_accuracy: 0.9896\n",
      "Epoch 15/30\n",
      "543/543 [==============================] - 17s 32ms/step - loss: 0.0015 - accuracy: 0.9922 - val_loss: 0.0013 - val_accuracy: 0.9979\n",
      "Epoch 16/30\n",
      "543/543 [==============================] - 19s 34ms/step - loss: 0.0014 - accuracy: 0.9915 - val_loss: 0.0015 - val_accuracy: 0.9876\n",
      "Epoch 17/30\n",
      "543/543 [==============================] - 19s 34ms/step - loss: 0.0014 - accuracy: 0.9931 - val_loss: 0.0013 - val_accuracy: 0.9938\n",
      "Epoch 18/30\n",
      "543/543 [==============================] - 17s 32ms/step - loss: 0.0013 - accuracy: 0.9915 - val_loss: 0.0013 - val_accuracy: 0.9979\n",
      "Epoch 19/30\n",
      "543/543 [==============================] - 18s 33ms/step - loss: 0.0012 - accuracy: 0.9913 - val_loss: 0.0019 - val_accuracy: 0.9917\n",
      "Epoch 20/30\n",
      "543/543 [==============================] - 18s 33ms/step - loss: 0.0011 - accuracy: 0.9915 - val_loss: 0.0018 - val_accuracy: 0.9979\n",
      "Epoch 21/30\n",
      "543/543 [==============================] - 17s 32ms/step - loss: 0.0011 - accuracy: 0.9938 - val_loss: 0.0010 - val_accuracy: 0.9917\n",
      "Epoch 22/30\n",
      "543/543 [==============================] - 18s 33ms/step - loss: 0.0011 - accuracy: 0.9922 - val_loss: 0.0015 - val_accuracy: 0.9979\n",
      "Epoch 23/30\n",
      "543/543 [==============================] - 18s 34ms/step - loss: 0.0010 - accuracy: 0.9929 - val_loss: 0.0010 - val_accuracy: 1.0000\n",
      "Epoch 24/30\n",
      "543/543 [==============================] - 19s 35ms/step - loss: 9.6605e-04 - accuracy: 0.9926 - val_loss: 0.0011 - val_accuracy: 1.0000\n",
      "Epoch 25/30\n",
      "543/543 [==============================] - 18s 33ms/step - loss: 9.1635e-04 - accuracy: 0.9933 - val_loss: 9.6916e-04 - val_accuracy: 1.0000\n",
      "Epoch 26/30\n",
      "543/543 [==============================] - 17s 31ms/step - loss: 9.2916e-04 - accuracy: 0.9929 - val_loss: 0.0018 - val_accuracy: 0.9814\n",
      "Epoch 27/30\n",
      "543/543 [==============================] - 18s 34ms/step - loss: 8.9245e-04 - accuracy: 0.9940 - val_loss: 0.0011 - val_accuracy: 0.9979\n",
      "Epoch 28/30\n",
      "543/543 [==============================] - 18s 33ms/step - loss: 8.8138e-04 - accuracy: 0.9919 - val_loss: 9.5394e-04 - val_accuracy: 1.0000\n",
      "Epoch 29/30\n",
      "543/543 [==============================] - 17s 32ms/step - loss: 8.1918e-04 - accuracy: 0.9945 - val_loss: 0.0013 - val_accuracy: 0.9834\n",
      "Epoch 30/30\n",
      "543/543 [==============================] - 17s 32ms/step - loss: 8.1887e-04 - accuracy: 0.9947 - val_loss: 0.0010 - val_accuracy: 1.0000\n"
     ]
    }
   ],
   "source": [
    "Batch_Size = 8\n",
    "Epoch_Anz = 30\n",
    "Shift_Range = 0\n",
    "Brightness_Range = 0.3\n",
    "\n",
    "datagen = ImageDataGenerator(width_shift_range=[-Shift_Range,Shift_Range], height_shift_range=[-Shift_Range,Shift_Range],brightness_range=[1-Brightness_Range,1+Brightness_Range])\n",
    "\n",
    "train_iterator = datagen.flow(X_train, y_train, batch_size=Batch_Size)\n",
    "validation_iterator = datagen.flow(X_test, y_test, batch_size=Batch_Size)\n",
    "\n",
    "history = model.fit_generator(train_iterator, validation_data = validation_iterator, epochs = Epoch_Anz)"
   ]
  },
  {
   "cell_type": "markdown",
   "metadata": {},
   "source": [
    "### Step 1: Learing result\n",
    " \n",
    "* Visualization of the training and validation results"
   ]
  },
  {
   "cell_type": "code",
   "execution_count": 5,
   "metadata": {},
   "outputs": [
    {
     "data": {
      "image/png": "[encoded data removed]",
      "text/plain": [
       "<Figure size 432x288 with 1 Axes>"
      ]
     },
     "metadata": {
      "needs_background": "light"
     },
     "output_type": "display_data"
    }
   ],
   "source": [
    "loss_ges = np.append(loss_ges, history.history['loss'])\n",
    "val_loss_ges = np.append(val_loss_ges, history.history['val_loss'])\n",
    "\n",
    "plt.semilogy(history.history['loss'])\n",
    "plt.semilogy(history.history['val_loss'])\n",
    "plt.title('model loss')\n",
    "plt.ylabel('loss')\n",
    "plt.xlabel('epoch')\n",
    "plt.legend(['train','eval'], loc='upper left')\n",
    "plt.show()"
   ]
  },
  {
   "cell_type": "markdown",
   "metadata": {},
   "source": [
    "### Step 2: Brigthness and Pixel Shift scattering\n",
    "Here a higher number of epochs is used to reach the minimum loss function"
   ]
  },
  {
   "cell_type": "code",
   "execution_count": 6,
   "metadata": {},
   "outputs": [
    {
     "name": "stdout",
     "output_type": "stream",
     "text": [
      "Epoch 1/160\n",
      "543/543 [==============================] - 20s 38ms/step - loss: 0.0389 - accuracy: 0.9408 - val_loss: 0.0094 - val_accuracy: 0.9669\n",
      "Epoch 2/160\n",
      "543/543 [==============================] - 17s 31ms/step - loss: 0.0084 - accuracy: 0.9671 - val_loss: 0.0069 - val_accuracy: 0.9689\n",
      "Epoch 3/160\n",
      "543/543 [==============================] - 20s 37ms/step - loss: 0.0056 - accuracy: 0.9770 - val_loss: 0.0037 - val_accuracy: 0.9814\n",
      "Epoch 4/160\n",
      "543/543 [==============================] - 19s 35ms/step - loss: 0.0045 - accuracy: 0.9807 - val_loss: 0.0032 - val_accuracy: 0.9772\n",
      "Epoch 5/160\n",
      "543/543 [==============================] - 20s 37ms/step - loss: 0.0036 - accuracy: 0.9839 - val_loss: 0.0036 - val_accuracy: 0.9793\n",
      "Epoch 6/160\n",
      "543/543 [==============================] - 20s 37ms/step - loss: 0.0033 - accuracy: 0.9846 - val_loss: 0.0031 - val_accuracy: 0.9834\n",
      "Epoch 7/160\n",
      "543/543 [==============================] - 20s 37ms/step - loss: 0.0029 - accuracy: 0.9857 - val_loss: 0.0025 - val_accuracy: 0.9855\n",
      "Epoch 8/160\n",
      "543/543 [==============================] - 19s 35ms/step - loss: 0.0026 - accuracy: 0.9864 - val_loss: 0.0029 - val_accuracy: 0.9772\n",
      "Epoch 9/160\n",
      "543/543 [==============================] - 20s 36ms/step - loss: 0.0025 - accuracy: 0.9853 - val_loss: 0.0033 - val_accuracy: 0.9814\n",
      "Epoch 10/160\n",
      "543/543 [==============================] - 19s 36ms/step - loss: 0.0022 - accuracy: 0.9869 - val_loss: 0.0023 - val_accuracy: 0.9876\n",
      "Epoch 11/160\n",
      "543/543 [==============================] - 20s 37ms/step - loss: 0.0022 - accuracy: 0.9869 - val_loss: 0.0028 - val_accuracy: 0.9834\n",
      "Epoch 12/160\n",
      "543/543 [==============================] - 20s 37ms/step - loss: 0.0021 - accuracy: 0.9853 - val_loss: 0.0021 - val_accuracy: 0.9917\n",
      "Epoch 13/160\n",
      "543/543 [==============================] - 21s 39ms/step - loss: 0.0019 - accuracy: 0.9903 - val_loss: 0.0023 - val_accuracy: 0.9896\n",
      "Epoch 14/160\n",
      "543/543 [==============================] - 20s 37ms/step - loss: 0.0017 - accuracy: 0.9885 - val_loss: 0.0022 - val_accuracy: 0.9896\n",
      "Epoch 15/160\n",
      "543/543 [==============================] - 20s 37ms/step - loss: 0.0018 - accuracy: 0.9883 - val_loss: 0.0025 - val_accuracy: 0.9814\n",
      "Epoch 16/160\n",
      "543/543 [==============================] - 20s 37ms/step - loss: 0.0017 - accuracy: 0.9890 - val_loss: 0.0029 - val_accuracy: 0.9834\n",
      "Epoch 17/160\n",
      "543/543 [==============================] - 20s 37ms/step - loss: 0.0016 - accuracy: 0.9913 - val_loss: 0.0014 - val_accuracy: 0.9896\n",
      "Epoch 18/160\n",
      "543/543 [==============================] - 21s 38ms/step - loss: 0.0015 - accuracy: 0.9915 - val_loss: 0.0017 - val_accuracy: 0.9896\n",
      "Epoch 19/160\n",
      "543/543 [==============================] - 20s 38ms/step - loss: 0.0015 - accuracy: 0.9871 - val_loss: 0.0019 - val_accuracy: 0.9896\n",
      "Epoch 20/160\n",
      "543/543 [==============================] - 20s 36ms/step - loss: 0.0015 - accuracy: 0.9899 - val_loss: 0.0016 - val_accuracy: 0.9938\n",
      "Epoch 21/160\n",
      "543/543 [==============================] - 20s 36ms/step - loss: 0.0014 - accuracy: 0.9901 - val_loss: 0.0016 - val_accuracy: 0.9938\n",
      "Epoch 22/160\n",
      "543/543 [==============================] - 19s 36ms/step - loss: 0.0014 - accuracy: 0.9892 - val_loss: 0.0018 - val_accuracy: 0.9876\n",
      "Epoch 23/160\n",
      "543/543 [==============================] - 21s 38ms/step - loss: 0.0015 - accuracy: 0.9890 - val_loss: 0.0022 - val_accuracy: 0.9876\n",
      "Epoch 24/160\n",
      "543/543 [==============================] - 20s 36ms/step - loss: 0.0013 - accuracy: 0.9910 - val_loss: 0.0020 - val_accuracy: 0.9959\n",
      "Epoch 25/160\n",
      "543/543 [==============================] - 20s 37ms/step - loss: 0.0012 - accuracy: 0.9929 - val_loss: 0.0021 - val_accuracy: 0.9814\n",
      "Epoch 26/160\n",
      "543/543 [==============================] - 21s 39ms/step - loss: 0.0013 - accuracy: 0.9906 - val_loss: 0.0016 - val_accuracy: 0.9938\n",
      "Epoch 27/160\n",
      "543/543 [==============================] - 21s 39ms/step - loss: 0.0012 - accuracy: 0.9896 - val_loss: 0.0016 - val_accuracy: 0.9896\n",
      "Epoch 28/160\n",
      "543/543 [==============================] - 21s 38ms/step - loss: 0.0012 - accuracy: 0.9922 - val_loss: 0.0016 - val_accuracy: 0.9793\n",
      "Epoch 29/160\n",
      "543/543 [==============================] - 19s 36ms/step - loss: 0.0012 - accuracy: 0.9899 - val_loss: 0.0017 - val_accuracy: 0.9855\n",
      "Epoch 30/160\n",
      "543/543 [==============================] - 21s 38ms/step - loss: 0.0011 - accuracy: 0.9906 - val_loss: 0.0019 - val_accuracy: 0.9938\n",
      "Epoch 31/160\n",
      "543/543 [==============================] - 20s 36ms/step - loss: 0.0012 - accuracy: 0.9908 - val_loss: 0.0012 - val_accuracy: 0.9979\n",
      "Epoch 32/160\n",
      "543/543 [==============================] - 20s 37ms/step - loss: 0.0011 - accuracy: 0.9919 - val_loss: 0.0013 - val_accuracy: 0.9979\n",
      "Epoch 33/160\n",
      "543/543 [==============================] - 21s 38ms/step - loss: 0.0011 - accuracy: 0.9913 - val_loss: 0.0022 - val_accuracy: 0.9979\n",
      "Epoch 34/160\n",
      "543/543 [==============================] - 20s 37ms/step - loss: 0.0010 - accuracy: 0.9933 - val_loss: 0.0015 - val_accuracy: 0.9938\n",
      "Epoch 35/160\n",
      "543/543 [==============================] - 20s 37ms/step - loss: 0.0010 - accuracy: 0.9917 - val_loss: 0.0015 - val_accuracy: 0.9876\n",
      "Epoch 36/160\n",
      "543/543 [==============================] - 20s 37ms/step - loss: 0.0010 - accuracy: 0.9922 - val_loss: 0.0013 - val_accuracy: 0.9896\n",
      "Epoch 37/160\n",
      "543/543 [==============================] - 20s 37ms/step - loss: 0.0010 - accuracy: 0.9917 - val_loss: 0.0013 - val_accuracy: 0.9979\n",
      "Epoch 38/160\n",
      "543/543 [==============================] - 21s 38ms/step - loss: 9.9662e-04 - accuracy: 0.9917 - val_loss: 0.0019 - val_accuracy: 0.9896\n",
      "Epoch 39/160\n",
      "543/543 [==============================] - 21s 38ms/step - loss: 9.4613e-04 - accuracy: 0.9890 - val_loss: 0.0021 - val_accuracy: 0.9917\n",
      "Epoch 40/160\n",
      "543/543 [==============================] - 21s 38ms/step - loss: 9.4393e-04 - accuracy: 0.9919 - val_loss: 0.0012 - val_accuracy: 0.9896\n",
      "Epoch 41/160\n",
      "543/543 [==============================] - 20s 37ms/step - loss: 9.3557e-04 - accuracy: 0.9929 - val_loss: 0.0012 - val_accuracy: 0.9959\n",
      "Epoch 42/160\n",
      "543/543 [==============================] - 21s 38ms/step - loss: 8.8624e-04 - accuracy: 0.9929 - val_loss: 0.0011 - val_accuracy: 0.9979\n",
      "Epoch 43/160\n",
      "543/543 [==============================] - 20s 37ms/step - loss: 9.4188e-04 - accuracy: 0.9933 - val_loss: 0.0023 - val_accuracy: 0.9938\n",
      "Epoch 44/160\n",
      "543/543 [==============================] - 20s 36ms/step - loss: 9.2332e-04 - accuracy: 0.9931 - val_loss: 0.0020 - val_accuracy: 0.9979\n",
      "Epoch 45/160\n",
      "543/543 [==============================] - 20s 36ms/step - loss: 9.4918e-04 - accuracy: 0.9917 - val_loss: 0.0010 - val_accuracy: 0.9855\n",
      "Epoch 46/160\n",
      "543/543 [==============================] - 22s 40ms/step - loss: 9.2996e-04 - accuracy: 0.9938 - val_loss: 0.0012 - val_accuracy: 0.9938\n",
      "Epoch 47/160\n",
      "543/543 [==============================] - 21s 38ms/step - loss: 8.5505e-04 - accuracy: 0.9922 - val_loss: 0.0013 - val_accuracy: 0.9959\n",
      "Epoch 48/160\n",
      "543/543 [==============================] - 21s 38ms/step - loss: 8.8236e-04 - accuracy: 0.9926 - val_loss: 9.9800e-04 - val_accuracy: 0.9917\n",
      "Epoch 49/160\n",
      "543/543 [==============================] - 22s 40ms/step - loss: 8.4131e-04 - accuracy: 0.9947 - val_loss: 0.0019 - val_accuracy: 0.9959\n",
      "Epoch 50/160\n",
      "543/543 [==============================] - 21s 40ms/step - loss: 8.3788e-04 - accuracy: 0.9926 - val_loss: 0.0015 - val_accuracy: 0.9979\n",
      "Epoch 51/160\n",
      "543/543 [==============================] - 21s 39ms/step - loss: 8.5773e-04 - accuracy: 0.9933 - val_loss: 0.0011 - val_accuracy: 0.9959\n",
      "Epoch 52/160\n",
      "543/543 [==============================] - 20s 37ms/step - loss: 8.6280e-04 - accuracy: 0.9933 - val_loss: 0.0010 - val_accuracy: 1.0000\n",
      "Epoch 53/160\n",
      "543/543 [==============================] - 21s 38ms/step - loss: 8.1590e-04 - accuracy: 0.9915 - val_loss: 0.0024 - val_accuracy: 0.9938\n",
      "Epoch 54/160\n",
      "543/543 [==============================] - 22s 40ms/step - loss: 7.9916e-04 - accuracy: 0.9940 - val_loss: 0.0011 - val_accuracy: 0.9959\n",
      "Epoch 55/160\n",
      "543/543 [==============================] - 21s 38ms/step - loss: 8.2222e-04 - accuracy: 0.9926 - val_loss: 8.9413e-04 - val_accuracy: 0.9959\n",
      "Epoch 56/160\n"
     ]
    },
    {
     "name": "stdout",
     "output_type": "stream",
     "text": [
      "543/543 [==============================] - 21s 38ms/step - loss: 8.0741e-04 - accuracy: 0.9931 - val_loss: 0.0012 - val_accuracy: 0.9938\n",
      "Epoch 57/160\n",
      "543/543 [==============================] - 21s 39ms/step - loss: 8.0657e-04 - accuracy: 0.9933 - val_loss: 0.0017 - val_accuracy: 0.9917\n",
      "Epoch 58/160\n",
      "543/543 [==============================] - 21s 38ms/step - loss: 7.8173e-04 - accuracy: 0.9942 - val_loss: 0.0016 - val_accuracy: 0.9959\n",
      "Epoch 59/160\n",
      "543/543 [==============================] - 20s 38ms/step - loss: 7.8813e-04 - accuracy: 0.9936 - val_loss: 0.0010 - val_accuracy: 0.9959\n",
      "Epoch 60/160\n",
      "543/543 [==============================] - 21s 38ms/step - loss: 7.5592e-04 - accuracy: 0.9942 - val_loss: 9.1028e-04 - val_accuracy: 1.0000\n",
      "Epoch 61/160\n",
      "543/543 [==============================] - 21s 39ms/step - loss: 7.5883e-04 - accuracy: 0.9936 - val_loss: 0.0026 - val_accuracy: 0.9917\n",
      "Epoch 62/160\n",
      "543/543 [==============================] - 21s 38ms/step - loss: 7.6678e-04 - accuracy: 0.9947 - val_loss: 0.0011 - val_accuracy: 0.9979\n",
      "Epoch 63/160\n",
      "543/543 [==============================] - 21s 39ms/step - loss: 7.7332e-04 - accuracy: 0.9947 - val_loss: 0.0011 - val_accuracy: 0.9979\n",
      "Epoch 64/160\n",
      "543/543 [==============================] - 21s 39ms/step - loss: 7.4747e-04 - accuracy: 0.9929 - val_loss: 0.0015 - val_accuracy: 0.9959\n",
      "Epoch 65/160\n",
      "543/543 [==============================] - 21s 39ms/step - loss: 7.4622e-04 - accuracy: 0.9924 - val_loss: 0.0013 - val_accuracy: 0.9979\n",
      "Epoch 66/160\n",
      "543/543 [==============================] - 22s 41ms/step - loss: 7.4810e-04 - accuracy: 0.9924 - val_loss: 0.0021 - val_accuracy: 0.9959\n",
      "Epoch 67/160\n",
      "543/543 [==============================] - 22s 40ms/step - loss: 7.6503e-04 - accuracy: 0.9942 - val_loss: 9.6903e-04 - val_accuracy: 0.9814\n",
      "Epoch 68/160\n",
      "543/543 [==============================] - 21s 38ms/step - loss: 7.2712e-04 - accuracy: 0.9940 - val_loss: 9.8545e-04 - val_accuracy: 0.9876\n",
      "Epoch 69/160\n",
      "543/543 [==============================] - 22s 40ms/step - loss: 7.1440e-04 - accuracy: 0.9936 - val_loss: 0.0010 - val_accuracy: 0.9979\n",
      "Epoch 70/160\n",
      "543/543 [==============================] - 22s 40ms/step - loss: 7.2684e-04 - accuracy: 0.9917 - val_loss: 0.0011 - val_accuracy: 0.9938\n",
      "Epoch 71/160\n",
      "543/543 [==============================] - 22s 40ms/step - loss: 7.0369e-04 - accuracy: 0.9940 - val_loss: 0.0011 - val_accuracy: 1.0000\n",
      "Epoch 72/160\n",
      "543/543 [==============================] - 23s 42ms/step - loss: 7.1058e-04 - accuracy: 0.9924 - val_loss: 0.0020 - val_accuracy: 0.9979\n",
      "Epoch 73/160\n",
      "543/543 [==============================] - 21s 39ms/step - loss: 7.1208e-04 - accuracy: 0.9933 - val_loss: 0.0010 - val_accuracy: 1.0000\n",
      "Epoch 74/160\n",
      "543/543 [==============================] - 23s 42ms/step - loss: 7.1311e-04 - accuracy: 0.9936 - val_loss: 0.0018 - val_accuracy: 0.9979\n",
      "Epoch 75/160\n",
      "543/543 [==============================] - 22s 40ms/step - loss: 6.9295e-04 - accuracy: 0.9945 - val_loss: 0.0010 - val_accuracy: 0.9979\n",
      "Epoch 76/160\n",
      "543/543 [==============================] - 22s 41ms/step - loss: 6.5491e-04 - accuracy: 0.9949 - val_loss: 8.8344e-04 - val_accuracy: 0.9896\n",
      "Epoch 77/160\n",
      "543/543 [==============================] - 22s 40ms/step - loss: 6.7153e-04 - accuracy: 0.9945 - val_loss: 9.2189e-04 - val_accuracy: 0.9959\n",
      "Epoch 78/160\n",
      "543/543 [==============================] - 22s 41ms/step - loss: 6.6747e-04 - accuracy: 0.9945 - val_loss: 0.0010 - val_accuracy: 0.9855\n",
      "Epoch 79/160\n",
      "543/543 [==============================] - 23s 42ms/step - loss: 6.6781e-04 - accuracy: 0.9942 - val_loss: 0.0020 - val_accuracy: 0.9896\n",
      "Epoch 80/160\n",
      "543/543 [==============================] - 22s 41ms/step - loss: 6.7593e-04 - accuracy: 0.9929 - val_loss: 0.0027 - val_accuracy: 0.9979\n",
      "Epoch 81/160\n",
      "543/543 [==============================] - 22s 40ms/step - loss: 6.5125e-04 - accuracy: 0.9947 - val_loss: 9.9356e-04 - val_accuracy: 0.9979\n",
      "Epoch 82/160\n",
      "543/543 [==============================] - 23s 43ms/step - loss: 6.6285e-04 - accuracy: 0.9945 - val_loss: 0.0014 - val_accuracy: 0.9917\n",
      "Epoch 83/160\n",
      "543/543 [==============================] - 21s 39ms/step - loss: 6.6322e-04 - accuracy: 0.9942 - val_loss: 0.0010 - val_accuracy: 0.9959\n",
      "Epoch 84/160\n",
      "543/543 [==============================] - 20s 38ms/step - loss: 6.6577e-04 - accuracy: 0.9936 - val_loss: 0.0023 - val_accuracy: 0.9855\n",
      "Epoch 85/160\n",
      "543/543 [==============================] - 18s 33ms/step - loss: 6.4775e-04 - accuracy: 0.9938 - val_loss: 0.0016 - val_accuracy: 1.0000\n",
      "Epoch 86/160\n",
      "543/543 [==============================] - 16s 30ms/step - loss: 6.5031e-04 - accuracy: 0.9942 - val_loss: 0.0025 - val_accuracy: 0.9938\n",
      "Epoch 87/160\n",
      "543/543 [==============================] - 16s 29ms/step - loss: 6.4401e-04 - accuracy: 0.9952 - val_loss: 0.0012 - val_accuracy: 0.9896\n",
      "Epoch 88/160\n",
      "543/543 [==============================] - 16s 29ms/step - loss: 6.2497e-04 - accuracy: 0.9940 - val_loss: 9.8263e-04 - val_accuracy: 0.9917\n",
      "Epoch 89/160\n",
      "543/543 [==============================] - 17s 32ms/step - loss: 6.4720e-04 - accuracy: 0.9956 - val_loss: 0.0019 - val_accuracy: 0.9959\n",
      "Epoch 90/160\n",
      "543/543 [==============================] - 15s 28ms/step - loss: 6.1248e-04 - accuracy: 0.9947 - val_loss: 9.1191e-04 - val_accuracy: 0.9938\n",
      "Epoch 91/160\n",
      "543/543 [==============================] - 15s 28ms/step - loss: 6.4066e-04 - accuracy: 0.9931 - val_loss: 9.2056e-04 - val_accuracy: 0.9938\n",
      "Epoch 92/160\n",
      "543/543 [==============================] - 15s 28ms/step - loss: 6.2049e-04 - accuracy: 0.9956 - val_loss: 8.5212e-04 - val_accuracy: 1.0000\n",
      "Epoch 93/160\n",
      "543/543 [==============================] - 13s 24ms/step - loss: 6.2739e-04 - accuracy: 0.9952 - val_loss: 0.0022 - val_accuracy: 0.9959\n",
      "Epoch 94/160\n",
      "543/543 [==============================] - 13s 24ms/step - loss: 5.9997e-04 - accuracy: 0.9949 - val_loss: 8.7150e-04 - val_accuracy: 0.9979\n",
      "Epoch 95/160\n",
      "543/543 [==============================] - 13s 24ms/step - loss: 6.1657e-04 - accuracy: 0.9936 - val_loss: 9.7708e-04 - val_accuracy: 0.9979\n",
      "Epoch 96/160\n",
      "543/543 [==============================] - 12s 23ms/step - loss: 6.0215e-04 - accuracy: 0.9938 - val_loss: 0.0030 - val_accuracy: 0.9938\n",
      "Epoch 97/160\n",
      "543/543 [==============================] - 13s 23ms/step - loss: 5.9979e-04 - accuracy: 0.9947 - val_loss: 7.6026e-04 - val_accuracy: 0.9959\n",
      "Epoch 98/160\n",
      "543/543 [==============================] - 13s 24ms/step - loss: 6.0414e-04 - accuracy: 0.9954 - val_loss: 8.4050e-04 - val_accuracy: 0.9938\n",
      "Epoch 99/160\n",
      "543/543 [==============================] - 13s 23ms/step - loss: 6.1198e-04 - accuracy: 0.9956 - val_loss: 8.4477e-04 - val_accuracy: 0.9979\n",
      "Epoch 100/160\n",
      "543/543 [==============================] - 12s 23ms/step - loss: 5.8955e-04 - accuracy: 0.9949 - val_loss: 0.0017 - val_accuracy: 0.9959\n",
      "Epoch 101/160\n",
      "543/543 [==============================] - 12s 22ms/step - loss: 5.7725e-04 - accuracy: 0.9938 - val_loss: 0.0019 - val_accuracy: 0.9979\n",
      "Epoch 102/160\n",
      "543/543 [==============================] - 12s 22ms/step - loss: 6.0281e-04 - accuracy: 0.9945 - val_loss: 8.8874e-04 - val_accuracy: 0.9959\n",
      "Epoch 103/160\n",
      "543/543 [==============================] - 12s 22ms/step - loss: 6.0308e-04 - accuracy: 0.9959 - val_loss: 0.0010 - val_accuracy: 0.9959\n",
      "Epoch 104/160\n",
      "543/543 [==============================] - 12s 22ms/step - loss: 6.0315e-04 - accuracy: 0.9956 - val_loss: 9.2743e-04 - val_accuracy: 0.9979\n",
      "Epoch 105/160\n",
      "543/543 [==============================] - 12s 22ms/step - loss: 5.7337e-04 - accuracy: 0.9947 - val_loss: 0.0016 - val_accuracy: 0.9979\n",
      "Epoch 106/160\n",
      "543/543 [==============================] - 12s 22ms/step - loss: 6.1649e-04 - accuracy: 0.9933 - val_loss: 0.0010 - val_accuracy: 1.0000\n",
      "Epoch 107/160\n",
      "543/543 [==============================] - 12s 22ms/step - loss: 5.8379e-04 - accuracy: 0.9952 - val_loss: 0.0010 - val_accuracy: 1.0000\n",
      "Epoch 108/160\n",
      "543/543 [==============================] - 12s 23ms/step - loss: 5.9001e-04 - accuracy: 0.9961 - val_loss: 0.0024 - val_accuracy: 0.9896\n",
      "Epoch 109/160\n"
     ]
    },
    {
     "name": "stdout",
     "output_type": "stream",
     "text": [
      "543/543 [==============================] - 12s 23ms/step - loss: 5.8234e-04 - accuracy: 0.9940 - val_loss: 9.2745e-04 - val_accuracy: 0.9979\n",
      "Epoch 110/160\n",
      "543/543 [==============================] - 12s 23ms/step - loss: 5.6942e-04 - accuracy: 0.9945 - val_loss: 9.7426e-04 - val_accuracy: 0.9959\n",
      "Epoch 111/160\n",
      "543/543 [==============================] - 13s 23ms/step - loss: 5.8601e-04 - accuracy: 0.9926 - val_loss: 0.0011 - val_accuracy: 1.0000\n",
      "Epoch 112/160\n",
      "543/543 [==============================] - 13s 23ms/step - loss: 5.6448e-04 - accuracy: 0.9952 - val_loss: 9.1530e-04 - val_accuracy: 0.9959\n",
      "Epoch 113/160\n",
      "543/543 [==============================] - 13s 24ms/step - loss: 5.7335e-04 - accuracy: 0.9952 - val_loss: 0.0021 - val_accuracy: 0.9938\n",
      "Epoch 114/160\n",
      "543/543 [==============================] - 12s 22ms/step - loss: 5.5063e-04 - accuracy: 0.9956 - val_loss: 8.5478e-04 - val_accuracy: 1.0000\n",
      "Epoch 115/160\n",
      "543/543 [==============================] - 12s 22ms/step - loss: 5.8080e-04 - accuracy: 0.9954 - val_loss: 8.8599e-04 - val_accuracy: 0.9938\n",
      "Epoch 116/160\n",
      "543/543 [==============================] - 12s 21ms/step - loss: 5.6779e-04 - accuracy: 0.9933 - val_loss: 0.0010 - val_accuracy: 0.9959\n",
      "Epoch 117/160\n",
      "543/543 [==============================] - 7578s 14s/step - loss: 5.5831e-04 - accuracy: 0.9949 - val_loss: 0.0023 - val_accuracy: 0.9938\n",
      "Epoch 118/160\n",
      "543/543 [==============================] - 11s 20ms/step - loss: 5.5438e-04 - accuracy: 0.9940 - val_loss: 9.1700e-04 - val_accuracy: 1.0000\n",
      "Epoch 119/160\n",
      "543/543 [==============================] - 10s 18ms/step - loss: 5.5400e-04 - accuracy: 0.9936 - val_loss: 0.0024 - val_accuracy: 0.9959\n",
      "Epoch 120/160\n",
      "543/543 [==============================] - 10s 18ms/step - loss: 5.4340e-04 - accuracy: 0.9940 - val_loss: 8.9211e-04 - val_accuracy: 1.0000\n",
      "Epoch 121/160\n",
      "543/543 [==============================] - 10s 18ms/step - loss: 5.5789e-04 - accuracy: 0.9940 - val_loss: 8.2582e-04 - val_accuracy: 0.9979\n",
      "Epoch 122/160\n",
      "543/543 [==============================] - 10s 18ms/step - loss: 5.4035e-04 - accuracy: 0.9949 - val_loss: 8.3097e-04 - val_accuracy: 1.0000\n",
      "Epoch 123/160\n",
      "543/543 [==============================] - 11s 20ms/step - loss: 5.6241e-04 - accuracy: 0.9956 - val_loss: 8.7363e-04 - val_accuracy: 0.9979\n",
      "Epoch 124/160\n",
      "543/543 [==============================] - 10s 19ms/step - loss: 5.6415e-04 - accuracy: 0.9938 - val_loss: 9.2707e-04 - val_accuracy: 1.0000\n",
      "Epoch 125/160\n",
      "543/543 [==============================] - 9s 17ms/step - loss: 5.4917e-04 - accuracy: 0.9956 - val_loss: 0.0016 - val_accuracy: 0.9979\n",
      "Epoch 126/160\n",
      "543/543 [==============================] - 10s 18ms/step - loss: 5.6661e-04 - accuracy: 0.9959 - val_loss: 7.7507e-04 - val_accuracy: 0.9979\n",
      "Epoch 127/160\n",
      "543/543 [==============================] - 9s 17ms/step - loss: 5.3813e-04 - accuracy: 0.9954 - val_loss: 7.7723e-04 - val_accuracy: 1.0000\n",
      "Epoch 128/160\n",
      "543/543 [==============================] - 9s 17ms/step - loss: 5.3169e-04 - accuracy: 0.9947 - val_loss: 9.4184e-04 - val_accuracy: 0.9979\n",
      "Epoch 129/160\n",
      "543/543 [==============================] - 10s 19ms/step - loss: 5.4882e-04 - accuracy: 0.9942 - val_loss: 8.0661e-04 - val_accuracy: 1.0000\n",
      "Epoch 130/160\n",
      "543/543 [==============================] - 10s 19ms/step - loss: 5.3919e-04 - accuracy: 0.9945 - val_loss: 7.8371e-04 - val_accuracy: 1.0000\n",
      "Epoch 131/160\n",
      "543/543 [==============================] - 10s 19ms/step - loss: 5.3079e-04 - accuracy: 0.9940 - val_loss: 9.3104e-04 - val_accuracy: 0.9979\n",
      "Epoch 132/160\n",
      "543/543 [==============================] - 10s 19ms/step - loss: 5.4603e-04 - accuracy: 0.9954 - val_loss: 0.0017 - val_accuracy: 0.9959\n",
      "Epoch 133/160\n",
      "543/543 [==============================] - 10s 19ms/step - loss: 5.3569e-04 - accuracy: 0.9942 - val_loss: 9.4927e-04 - val_accuracy: 0.9959\n",
      "Epoch 134/160\n",
      "543/543 [==============================] - 10s 18ms/step - loss: 5.4055e-04 - accuracy: 0.9952 - val_loss: 8.7031e-04 - val_accuracy: 0.9979\n",
      "Epoch 135/160\n",
      "543/543 [==============================] - 10s 18ms/step - loss: 5.2160e-04 - accuracy: 0.9954 - val_loss: 8.9312e-04 - val_accuracy: 0.9876\n",
      "Epoch 136/160\n",
      "543/543 [==============================] - 9s 17ms/step - loss: 5.2240e-04 - accuracy: 0.9952 - val_loss: 0.0024 - val_accuracy: 0.9917\n",
      "Epoch 137/160\n",
      "543/543 [==============================] - 9s 17ms/step - loss: 5.1704e-04 - accuracy: 0.9949 - val_loss: 0.0012 - val_accuracy: 0.9896\n",
      "Epoch 138/160\n",
      "543/543 [==============================] - 10s 18ms/step - loss: 5.1048e-04 - accuracy: 0.9952 - val_loss: 9.0666e-04 - val_accuracy: 1.0000\n",
      "Epoch 139/160\n",
      "543/543 [==============================] - 9s 17ms/step - loss: 5.2602e-04 - accuracy: 0.9952 - val_loss: 7.7963e-04 - val_accuracy: 1.0000\n",
      "Epoch 140/160\n",
      "543/543 [==============================] - 9s 17ms/step - loss: 5.1612e-04 - accuracy: 0.9945 - val_loss: 0.0013 - val_accuracy: 0.9959\n",
      "Epoch 141/160\n",
      "543/543 [==============================] - 10s 18ms/step - loss: 5.2792e-04 - accuracy: 0.9961 - val_loss: 7.6001e-04 - val_accuracy: 1.0000\n",
      "Epoch 142/160\n",
      "543/543 [==============================] - 9s 17ms/step - loss: 5.5515e-04 - accuracy: 0.9945 - val_loss: 8.4049e-04 - val_accuracy: 0.9938\n",
      "Epoch 143/160\n",
      "543/543 [==============================] - 10s 18ms/step - loss: 4.8863e-04 - accuracy: 0.9959 - val_loss: 9.4245e-04 - val_accuracy: 0.9959\n",
      "Epoch 144/160\n",
      "543/543 [==============================] - 10s 18ms/step - loss: 4.9915e-04 - accuracy: 0.9949 - val_loss: 8.0785e-04 - val_accuracy: 0.9979\n",
      "Epoch 145/160\n",
      "543/543 [==============================] - 10s 18ms/step - loss: 5.2139e-04 - accuracy: 0.9959 - val_loss: 7.7447e-04 - val_accuracy: 0.9979\n",
      "Epoch 146/160\n",
      "543/543 [==============================] - 9s 17ms/step - loss: 4.8529e-04 - accuracy: 0.9959 - val_loss: 0.0014 - val_accuracy: 0.9959\n",
      "Epoch 147/160\n",
      "543/543 [==============================] - 9s 17ms/step - loss: 4.9307e-04 - accuracy: 0.9954 - val_loss: 8.2242e-04 - val_accuracy: 1.0000\n",
      "Epoch 148/160\n",
      "543/543 [==============================] - 10s 19ms/step - loss: 4.9615e-04 - accuracy: 0.9959 - val_loss: 7.6778e-04 - val_accuracy: 0.9959\n",
      "Epoch 149/160\n",
      "543/543 [==============================] - 11s 20ms/step - loss: 4.9578e-04 - accuracy: 0.9954 - val_loss: 8.3044e-04 - val_accuracy: 0.9979\n",
      "Epoch 150/160\n",
      "543/543 [==============================] - 10s 18ms/step - loss: 4.7325e-04 - accuracy: 0.9952 - val_loss: 8.4350e-04 - val_accuracy: 0.9896\n",
      "Epoch 151/160\n",
      "543/543 [==============================] - 10s 18ms/step - loss: 4.9958e-04 - accuracy: 0.9968 - val_loss: 8.8547e-04 - val_accuracy: 0.9938\n",
      "Epoch 152/160\n",
      "543/543 [==============================] - 10s 19ms/step - loss: 5.0376e-04 - accuracy: 0.9945 - val_loss: 7.2473e-04 - val_accuracy: 0.9979\n",
      "Epoch 153/160\n",
      "543/543 [==============================] - 10s 19ms/step - loss: 5.1184e-04 - accuracy: 0.9940 - val_loss: 9.3850e-04 - val_accuracy: 1.0000\n",
      "Epoch 154/160\n",
      "543/543 [==============================] - 10s 19ms/step - loss: 5.0291e-04 - accuracy: 0.9956 - val_loss: 7.7173e-04 - val_accuracy: 1.0000\n",
      "Epoch 155/160\n",
      "543/543 [==============================] - 9s 17ms/step - loss: 5.0970e-04 - accuracy: 0.9940 - val_loss: 8.6041e-04 - val_accuracy: 0.9979\n",
      "Epoch 156/160\n",
      "543/543 [==============================] - 10s 18ms/step - loss: 4.8572e-04 - accuracy: 0.9959 - val_loss: 7.3293e-04 - val_accuracy: 1.0000\n",
      "Epoch 157/160\n",
      "543/543 [==============================] - 9s 17ms/step - loss: 4.7698e-04 - accuracy: 0.9963 - val_loss: 0.0015 - val_accuracy: 0.9938\n",
      "Epoch 158/160\n",
      "543/543 [==============================] - 9s 17ms/step - loss: 4.8532e-04 - accuracy: 0.9965 - val_loss: 0.0014 - val_accuracy: 1.0000\n",
      "Epoch 159/160\n",
      "543/543 [==============================] - 9s 17ms/step - loss: 4.7434e-04 - accuracy: 0.9949 - val_loss: 0.0012 - val_accuracy: 1.0000\n",
      "Epoch 160/160\n",
      "543/543 [==============================] - 9s 17ms/step - loss: 5.0611e-04 - accuracy: 0.9961 - val_loss: 9.3110e-04 - val_accuracy: 0.9959\n"
     ]
    }
   ],
   "source": [
    "Batch_Size = 8\n",
    "Epoch_Anz = 160\n",
    "Shift_Range = 3\n",
    "Brightness_Range = 0.3\n",
    "\n",
    "datagen = ImageDataGenerator(width_shift_range=[-Shift_Range,Shift_Range], height_shift_range=[-Shift_Range,Shift_Range],brightness_range=[1-Brightness_Range,1+Brightness_Range])\n",
    "\n",
    "train_iterator = datagen.flow(X_train, y_train, batch_size=Batch_Size)\n",
    "validation_iterator = datagen.flow(X_test, y_test, batch_size=Batch_Size)\n",
    "\n",
    "history = model.fit_generator(train_iterator, validation_data = validation_iterator, epochs = Epoch_Anz)"
   ]
  },
  {
   "cell_type": "markdown",
   "metadata": {},
   "source": [
    "### Overall Learing results (Step 1 & Step 2)"
   ]
  },
  {
   "cell_type": "code",
   "execution_count": 7,
   "metadata": {},
   "outputs": [
    {
     "data": {
      "image/png": "[encoded data removed]",
      "text/plain": [
       "<Figure size 432x288 with 1 Axes>"
      ]
     },
     "metadata": {
      "needs_background": "light"
     },
     "output_type": "display_data"
    }
   ],
   "source": [
    "loss_ges = np.append(loss_ges, history.history['loss'])\n",
    "val_loss_ges = np.append(val_loss_ges, history.history['val_loss'])\n",
    "\n",
    "plt.semilogy(loss_ges)\n",
    "plt.semilogy(val_loss_ges)\n",
    "plt.title('model loss')\n",
    "plt.ylabel('loss')\n",
    "plt.xlabel('epoch')\n",
    "plt.legend(['train','eval'], loc='upper left')\n",
    "plt.show()"
   ]
  },
  {
   "cell_type": "markdown",
   "metadata": {},
   "source": [
    "### Check the model by hand\n",
    "\n",
    "* The following code uses the trained model to check the deviation for each picture.\n",
    "* The evaluation takes the periodic character of the results into account (dev1 ... dev2).\n",
    "* Images, that have a bigger deviation as the parameter \"deviation_max_list\" are printed in a list to check the picture and labeling itself"
   ]
  },
  {
   "cell_type": "code",
   "execution_count": 8,
   "metadata": {},
   "outputs": [
    {
     "name": "stdout",
     "output_type": "stream",
     "text": [
      "data_resize_all\\0.8_0272_zeiger1_2020-04-29_12-20-02.jpg 0.08 0.02737665988113279 0.05262334011886721\n",
      "data_resize_all\\0.8_0273_zeiger1_2020-04-29_12-21-02.jpg 0.08 0.025376493529344176 0.05462350647065582\n",
      "data_resize_all\\0.8_0274_zeiger1_2020-04-29_13-40-01.jpg 0.08 0.01642955758774062 0.06357044241225938\n"
     ]
    }
   ],
   "source": [
    "Input_dir='data_resize_all'\n",
    "#Input_dir='test_result'\n",
    "files = glob.glob(Input_dir + '/*.*')\n",
    "res = []\n",
    "i = 0\n",
    "deviation_max_list = 0.05\n",
    "\n",
    "for aktfile in files:\n",
    "    base = os.path.basename(aktfile)\n",
    "    target = (float(base[0:3])) / 10\n",
    "    target_sin = math.sin(target * math.pi * 2)\n",
    "    target_cos = math.cos(target * math.pi * 2)\n",
    "\n",
    "    test_image = Image.open(aktfile)\n",
    "    test_image = np.array(test_image, dtype=\"float32\")\n",
    "    img = np.reshape(test_image,[1,32,32,3])\n",
    "    classes = model.predict(img)\n",
    "    \n",
    "    out_sin = classes[0][0]  \n",
    "    out_cos = classes[0][1]\n",
    "    out_target = (np.arctan2(out_sin, out_cos)/(2*math.pi)) % 1\n",
    "\n",
    "    dev_sin = target_sin - out_sin\n",
    "    dev_cos = target_cos - out_cos\n",
    "    dev_target = target - out_target\n",
    "    \n",
    "    if abs(dev_target + 1) < abs(dev_target):\n",
    "        out_target = out_target - 1\n",
    "        dev_target = target - out_target\n",
    "    else:\n",
    "        if abs(dev_target - 1) < abs(dev_target):\n",
    "            out_target = out_target + 1\n",
    "            dev_target = target - out_target\n",
    "               \n",
    "    res.append(np.array([target, out_target, dev_target, out_sin, out_cos, i]))\n",
    "    if abs(dev_target) > deviation_max_list:\n",
    "        print(aktfile + \" \" + str(target) + \" \" + str(out_target) +  \" \" + str(dev_target))\n",
    "    i+=1\n",
    "\n",
    "res = np.asarray(res)\n",
    "res_step_1 = res"
   ]
  },
  {
   "cell_type": "markdown",
   "metadata": {},
   "source": [
    "## Results"
   ]
  },
  {
   "cell_type": "code",
   "execution_count": 9,
   "metadata": {},
   "outputs": [
    {
     "data": {
      "image/png": "[encoded data removed]",
      "text/plain": [
       "<Figure size 432x288 with 1 Axes>"
      ]
     },
     "metadata": {
      "needs_background": "light"
     },
     "output_type": "display_data"
    }
   ],
   "source": [
    "plt.plot(res[:,3])\n",
    "plt.plot(res[:,4])\n",
    "plt.title('Result')\n",
    "plt.ylabel('value')\n",
    "plt.xlabel('#Picture')\n",
    "plt.legend(['sin', 'cos'], loc='lower left')\n",
    "plt.show()"
   ]
  },
  {
   "cell_type": "code",
   "execution_count": 10,
   "metadata": {},
   "outputs": [
    {
     "data": {
      "image/png": "[encoded data removed]",
      "text/plain": [
       "<Figure size 432x288 with 1 Axes>"
      ]
     },
     "metadata": {
      "needs_background": "light"
     },
     "output_type": "display_data"
    }
   ],
   "source": [
    "plt.plot(res[:,0])\n",
    "plt.plot(res[:,1])\n",
    "plt.title('Result')\n",
    "plt.ylabel('Counter Value')\n",
    "plt.xlabel('#Picture')\n",
    "plt.legend(['Orginal', 'Prediction'], loc='upper left')\n",
    "plt.show()"
   ]
  },
  {
   "cell_type": "markdown",
   "metadata": {},
   "source": [
    "### Deviation from Expected Value"
   ]
  },
  {
   "cell_type": "code",
   "execution_count": 11,
   "metadata": {},
   "outputs": [
    {
     "data": {
      "image/png": "[encoded data removed]",
      "text/plain": [
       "<Figure size 432x288 with 1 Axes>"
      ]
     },
     "metadata": {
      "needs_background": "light"
     },
     "output_type": "display_data"
    },
    {
     "name": "stdout",
     "output_type": "stream",
     "text": [
      "[ 0.0028  0.0113 -0.0431  0.0636]\n"
     ]
    }
   ],
   "source": [
    "plt.plot(res[:,2])\n",
    "plt.title('Deviation')\n",
    "plt.ylabel('Deviation from expected value')\n",
    "plt.xlabel('#Picture')\n",
    "plt.legend(['Deviation'], loc='upper left')\n",
    "#plt.ylim(-0.3, 0.3)\n",
    "plt.show()\n",
    "\n",
    "statistic = np.array([np.mean(res[:,2]), np.std(res[:,2]), np.min(res[:,2]), np.max(res[:,2])])\n",
    "print(statistic)"
   ]
  },
  {
   "cell_type": "markdown",
   "metadata": {},
   "source": [
    "### Save the model\n",
    "\n",
    "* Save the model to the file with the \"h5\" file format"
   ]
  },
  {
   "cell_type": "code",
   "execution_count": 12,
   "metadata": {},
   "outputs": [
    {
     "data": {
      "text/plain": [
       "134180"
      ]
     },
     "execution_count": 12,
     "metadata": {},
     "output_type": "execute_result"
    }
   ],
   "source": [
    "# model.save(\"CNN_Analog-Readout_Version-6.2.0.h5\")\n",
    "\n",
    "converter = tf.lite.TFLiteConverter.from_keras_model(model)\n",
    "tflite_model = converter.convert()\n",
    "open(\"CNN_Analog-Readout_Version-6.3.0-Small2.tflite\", \"wb\").write(tflite_model)"
   ]
  }
 ],
 "metadata": {
  "kernelspec": {
   "display_name": "Python 3",
   "language": "python",
   "name": "python3"
  },
  "language_info": {
   "codemirror_mode": {
    "name": "ipython",
    "version": 3
   },
   "file_extension": ".py",
   "mimetype": "text/x-python",
   "name": "python",
   "nbconvert_exporter": "python",
   "pygments_lexer": "ipython3",
   "version": "3.7.7"
  }
 },
 "nbformat": 4,
 "nbformat_minor": 2
}
