{
 "cells": [
  {
   "cell_type": "markdown",
   "metadata": {},
   "source": [
    "## Image preparation\n",
    "\n",
    "The below code can be used to transform the images in an input directory (Input_Dir) \n",
    "to the right size (e.g. 32x32 pixels) into an output directory (Output_Dir).\n",
    "\n",
    "Note: Duplicates will be removed by evaluating the file hash"
   ]
  },
  {
   "cell_type": "markdown",
   "metadata": {},
   "source": [
    "### Basic Parameter\n",
    "\n",
    "Note: Do not rename any of the variables in this section, because the they are externally used in github action `Train Model`"
   ]
  },
  {
   "cell_type": "code",
   "execution_count": 1,
   "metadata": {
    "tags": [
     "parameters"
    ]
   },
   "outputs": [],
   "source": [
    "# Parameters\n",
    "Input_Dir = 'data_raw_all'\n",
    "Output_Dir = 'data_resize_all'\n",
    "\n",
    "# Target image size\n",
    "target_size_x = 32\n",
    "target_size_y = 32\n"
   ]
  },
  {
   "cell_type": "markdown",
   "metadata": {},
   "source": [
    "### Load libraries and defaults"
   ]
  },
  {
   "cell_type": "code",
   "execution_count": 2,
   "metadata": {},
   "outputs": [],
   "source": [
    "import glob\n",
    "import os\n",
    "from pathlib import Path\n",
    "\n",
    "from PIL import Image\n"
   ]
  },
  {
   "cell_type": "markdown",
   "metadata": {},
   "source": [
    "### Delete output directory"
   ]
  },
  {
   "cell_type": "code",
   "execution_count": 3,
   "metadata": {},
   "outputs": [
    {
     "name": "stdout",
     "output_type": "stream",
     "text": [
      "1716 files have been deleted.\n"
     ]
    }
   ],
   "source": [
    "files = glob.glob(Output_Dir + '/*.jpg')\n",
    "for f in files:\n",
    "    os.remove(f)\n",
    "print(str(len(files)) + \" files have been deleted.\")\n"
   ]
  },
  {
   "cell_type": "markdown",
   "metadata": {},
   "source": [
    "### Load files and resize"
   ]
  },
  {
   "cell_type": "code",
   "execution_count": 4,
   "metadata": {},
   "outputs": [
    {
     "name": "stdout",
     "output_type": "stream",
     "text": [
      "0 data_raw_all\\0.0_0.0.jpg\n",
      "500 data_raw_all\\2.0_0947_analog2_20200819-164047.jpg\n",
      "1000 data_raw_all\\4.3_2fad4056768f5d4dce52daa761b7e6db.jpg\n",
      "1500 data_raw_all\\6.6_3343_zeiger2_2019-11-19_01-27-03.jpg\n",
      "2000 data_raw_all\\8.3_cc4cc79801bbbac820b0b195cf066603.jpg\n"
     ]
    }
   ],
   "source": [
    "import hashlib\n",
    "\n",
    "files = glob.glob(Input_Dir + '/*.jpg')\n",
    "hashes={}\n",
    "for i,aktfile in enumerate(files):\n",
    "    if i%500==0:\n",
    "        print(i, aktfile)\n",
    "    test_image = Image.open(aktfile)\n",
    "    hash=hashlib.sha256(test_image.tobytes()).hexdigest()\n",
    "    if hash in hashes:\n",
    "        hashes[hash].append(aktfile)\n",
    "    else:\n",
    "        hashes[hash]=[aktfile]\n",
    "    test_image = test_image.resize((target_size_x, target_size_y), Image.LANCZOS)\n",
    "    base=os.path.basename(aktfile)\n",
    "    save_name = Output_Dir + '/' + base\n",
    "    test_image.save(save_name, \"JPEG\", quality = 100)\n"
   ]
  },
  {
   "cell_type": "markdown",
   "metadata": {},
   "source": [
    "### Remove duplicate files"
   ]
  },
  {
   "cell_type": "code",
   "execution_count": 5,
   "metadata": {},
   "outputs": [],
   "source": [
    "# duplicate files are a risk to the metrics, they pollute the validation dataset\n",
    "for hash in hashes:\n",
    "    if len(hashes[hash])>1:\n",
    "        print(hashes[hash])    \n",
    "        for duplicate in hashes[hash][1:]:\n",
    "            # remove all except the first\n",
    "            os.remove(duplicate)    \n"
   ]
  }
 ],
 "metadata": {
  "kernelspec": {
   "display_name": "Python 3 (ipykernel)",
   "language": "python",
   "name": "python3"
  },
  "language_info": {
   "codemirror_mode": {
    "name": "ipython",
    "version": 3
   },
   "file_extension": ".py",
   "mimetype": "text/x-python",
   "name": "python",
   "nbconvert_exporter": "python",
   "pygments_lexer": "ipython3",
   "version": "3.11.11"
  }
 },
 "nbformat": 4,
 "nbformat_minor": 4
}
