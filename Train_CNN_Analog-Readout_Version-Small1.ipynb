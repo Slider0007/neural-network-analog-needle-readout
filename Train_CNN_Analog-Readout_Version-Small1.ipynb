{
 "cells": [
  {
   "cell_type": "markdown",
   "metadata": {},
   "source": [
    "# CNN Training\n",
    "\n",
    "Target of this code is to train a CNN network to extract the needle position of an analog needle device.\n",
    "\n",
    "### Preparing the training\n",
    "* First all libraries are loaded\n",
    "    * It is assumed, that they are installed during the Python setup\n",
    "* matplotlib is set to print the output inline in the jupyter notebook"
   ]
  },
  {
   "cell_type": "code",
   "execution_count": 1,
   "metadata": {
    "scrolled": true
   },
   "outputs": [],
   "source": [
    "import os\n",
    "import tensorflow as tf\n",
    "import matplotlib.pyplot as plt\n",
    "import glob\n",
    "import numpy as np\n",
    "from sklearn.utils import shuffle\n",
    "from tensorflow.python import keras\n",
    "from tensorflow.python.keras import Sequential\n",
    "from tensorflow.python.keras.layers import Dense, InputLayer, Conv2D, MaxPool2D, Flatten, BatchNormalization\n",
    "from tensorflow.keras.preprocessing.image import ImageDataGenerator\n",
    "from sklearn.model_selection import train_test_split\n",
    "import tensorflow.keras.backend as K\n",
    "from tensorflow.keras.callbacks import History \n",
    "import math\n",
    "from PIL import Image \n",
    "\n",
    "loss_ges = np.array([])\n",
    "val_loss_ges = np.array([])\n",
    "\n",
    "%matplotlib inline\n",
    "np.set_printoptions(precision=4)\n",
    "np.set_printoptions(suppress=True)"
   ]
  },
  {
   "cell_type": "markdown",
   "metadata": {},
   "source": [
    "### Load training data\n",
    "* The data is expected in the \"Input_dir\"\n",
    "* Picture size must be 32x32 with 3 color channels (RGB)\n",
    "* The filename contains the informations needed for training in the first 3 digits::\n",
    "* Typical filename: \n",
    "    * x.y-zzzz.jpg \n",
    "    * e.g. \"4.6_Lfd-1406_zeiger3_2019-06-02T050011\"\n",
    "\n",
    "|Place holder | Meaning                     | Usage        |\n",
    "|------------- |-----------------------------|--------------|\n",
    "| **x.y**          | readout value               | **to be learned** |\n",
    "| zzzz        | additional information              | not needed   |\n",
    "\n",
    "* The images are stored in the x_data[]\n",
    "* The expected output for each image in the corresponding y_data[]\n",
    "    * The periodic nature is reflected in a **sin/cos coding**, which allows to restore the angle/counter value with an arctan later on.\n",
    "\n",
    "* The last step is a shuffle (from sklearn.utils) as the filenames are on order due to the encoding of the expected analog readout in the filename "
   ]
  },
  {
   "cell_type": "code",
   "execution_count": 2,
   "metadata": {},
   "outputs": [
    {
     "name": "stdout",
     "output_type": "stream",
     "text": [
      "(4827, 32, 32, 3)\n",
      "(4827, 2)\n"
     ]
    }
   ],
   "source": [
    "Input_dir='data_resize_all'\n",
    "\n",
    "files = glob.glob(Input_dir + '/*.*')\n",
    "x_data = []\n",
    "y_data = []\n",
    "\n",
    "for aktfile in files:\n",
    "    test_image = Image.open(aktfile)\n",
    "    test_image = np.array(test_image, dtype=\"float32\")\n",
    "    test_image = np.reshape(test_image, (32,32,3))\n",
    "    base = os.path.basename(aktfile)\n",
    "    target_number = (float(base[0:3])) / 10\n",
    "    target_sin = math.sin(target_number * math.pi * 2)\n",
    "    target_cos = math.cos(target_number * math.pi * 2)\n",
    "\n",
    "    x_data.append(test_image)\n",
    "    zw = np.array([target_sin, target_cos])\n",
    "    y_data.append(zw)\n",
    "\n",
    "x_data = np.array(x_data)\n",
    "y_data = np.array(y_data)\n",
    "print(x_data.shape)\n",
    "print(y_data.shape)\n",
    "\n",
    "x_data, y_data = shuffle(x_data, y_data)\n",
    "X_train, X_test, y_train, y_test = train_test_split(x_data, y_data, test_size=0.1)"
   ]
  },
  {
   "cell_type": "markdown",
   "metadata": {},
   "source": [
    "### Define the model\n",
    "\n",
    "The layout of the network ist a typcial CNN network with alternating **Conv2D** and **MaxPool2D** layers. Finished after **flattening** with additional **Dense** layer.\n",
    "\n",
    "#### Important\n",
    "* Shape of the input layer: (32, 32, 3)\n",
    "* Shape of the output layer: (2) - sin and cos"
   ]
  },
  {
   "cell_type": "code",
   "execution_count": 3,
   "metadata": {
    "scrolled": true
   },
   "outputs": [
    {
     "name": "stdout",
     "output_type": "stream",
     "text": [
      "Model: \"sequential\"\n",
      "_________________________________________________________________\n",
      "Layer (type)                 Output Shape              Param #   \n",
      "=================================================================\n",
      "batch_normalization (BatchNo (None, 32, 32, 3)         12        \n",
      "_________________________________________________________________\n",
      "conv2d (Conv2D)              (None, 32, 32, 32)        2432      \n",
      "_________________________________________________________________\n",
      "max_pooling2d (MaxPooling2D) (None, 8, 8, 32)          0         \n",
      "_________________________________________________________________\n",
      "conv2d_1 (Conv2D)            (None, 8, 8, 32)          25632     \n",
      "_________________________________________________________________\n",
      "max_pooling2d_1 (MaxPooling2 (None, 2, 2, 32)          0         \n",
      "_________________________________________________________________\n",
      "conv2d_2 (Conv2D)            (None, 2, 2, 32)          9248      \n",
      "_________________________________________________________________\n",
      "max_pooling2d_2 (MaxPooling2 (None, 1, 1, 32)          0         \n",
      "_________________________________________________________________\n",
      "flatten (Flatten)            (None, 32)                0         \n",
      "_________________________________________________________________\n",
      "dense (Dense)                (None, 128)               4224      \n",
      "_________________________________________________________________\n",
      "dense_1 (Dense)              (None, 64)                8256      \n",
      "_________________________________________________________________\n",
      "dense_2 (Dense)              (None, 2)                 130       \n",
      "=================================================================\n",
      "Total params: 49,934\n",
      "Trainable params: 49,928\n",
      "Non-trainable params: 6\n",
      "_________________________________________________________________\n"
     ]
    }
   ],
   "source": [
    "model = Sequential()\n",
    "model.add(BatchNormalization(input_shape=(32,32,3)))\n",
    "model.add(Conv2D(32, (5, 5), input_shape=(32,32,3), padding='same', activation=\"relu\"))\n",
    "model.add(MaxPool2D(pool_size=(4,4)))\n",
    "model.add(Conv2D(32, (5, 5), padding='same', activation=\"relu\"))\n",
    "model.add(MaxPool2D(pool_size=(4,4)))\n",
    "model.add(Conv2D(32, (3, 3), padding='same', activation=\"relu\"))\n",
    "model.add(MaxPool2D(pool_size=(2,2)))\n",
    "model.add(Flatten())\n",
    "model.add(Dense(128,activation=\"relu\"))\n",
    "model.add(Dense(64,activation=\"relu\"))\n",
    "model.add(Dense(2))\n",
    "model.summary()\n",
    "\n",
    "model.compile(loss=keras.losses.mean_squared_error, optimizer=tf.keras.optimizers.Adadelta(learning_rate=1.0, rho=0.95), metrics = [\"accuracy\"])"
   ]
  },
  {
   "cell_type": "markdown",
   "metadata": {},
   "source": [
    "# Training\n",
    "The input pictures are randomly scattered for brightness and pixel shift variations. These is implemented with a ImageDataGenerator.\n",
    "\n",
    "\n",
    "The training is splitted into two steps:\n",
    "1. Variation of the brightness only\n",
    "2. Variation of brightness and Pixel Shift"
   ]
  },
  {
   "cell_type": "markdown",
   "metadata": {},
   "source": [
    "### Step 1: Brigthness scattering only"
   ]
  },
  {
   "cell_type": "code",
   "execution_count": 4,
   "metadata": {},
   "outputs": [
    {
     "name": "stdout",
     "output_type": "stream",
     "text": [
      "WARNING:tensorflow:From <ipython-input-4-9f5ba6453a73>:11: Model.fit_generator (from tensorflow.python.keras.engine.training) is deprecated and will be removed in a future version.\n",
      "Instructions for updating:\n",
      "Please use Model.fit, which supports generators.\n",
      "Epoch 1/30\n",
      "543/543 [==============================] - 7s 13ms/step - loss: 0.1437 - accuracy: 0.8755 - val_loss: 0.0194 - val_accuracy: 0.9793\n",
      "Epoch 2/30\n",
      "543/543 [==============================] - 7s 13ms/step - loss: 0.0177 - accuracy: 0.9701 - val_loss: 0.0314 - val_accuracy: 0.9876\n",
      "Epoch 3/30\n",
      "543/543 [==============================] - 10s 18ms/step - loss: 0.0103 - accuracy: 0.9751 - val_loss: 0.0158 - val_accuracy: 0.9420\n",
      "Epoch 4/30\n",
      "543/543 [==============================] - 11s 19ms/step - loss: 0.0074 - accuracy: 0.9777 - val_loss: 0.0064 - val_accuracy: 0.9731\n",
      "Epoch 5/30\n",
      "543/543 [==============================] - 15s 27ms/step - loss: 0.0051 - accuracy: 0.9830 - val_loss: 0.0073 - val_accuracy: 0.9772\n",
      "Epoch 6/30\n",
      "543/543 [==============================] - 17s 31ms/step - loss: 0.0038 - accuracy: 0.9848 - val_loss: 0.0031 - val_accuracy: 0.9938\n",
      "Epoch 7/30\n",
      "543/543 [==============================] - 18s 33ms/step - loss: 0.0032 - accuracy: 0.9832 - val_loss: 0.0031 - val_accuracy: 0.9876\n",
      "Epoch 8/30\n",
      "543/543 [==============================] - 19s 34ms/step - loss: 0.0026 - accuracy: 0.9869 - val_loss: 0.0023 - val_accuracy: 0.9896\n",
      "Epoch 9/30\n",
      "543/543 [==============================] - 19s 35ms/step - loss: 0.0022 - accuracy: 0.9869 - val_loss: 0.0014 - val_accuracy: 0.9896\n",
      "Epoch 10/30\n",
      "543/543 [==============================] - 19s 35ms/step - loss: 0.0020 - accuracy: 0.9871 - val_loss: 0.0022 - val_accuracy: 0.9938\n",
      "Epoch 11/30\n",
      "543/543 [==============================] - 19s 35ms/step - loss: 0.0018 - accuracy: 0.9896 - val_loss: 0.0018 - val_accuracy: 0.9917\n",
      "Epoch 12/30\n",
      "543/543 [==============================] - 18s 34ms/step - loss: 0.0016 - accuracy: 0.9890 - val_loss: 0.0026 - val_accuracy: 0.9855\n",
      "Epoch 13/30\n",
      "543/543 [==============================] - 19s 35ms/step - loss: 0.0015 - accuracy: 0.9892 - val_loss: 0.0017 - val_accuracy: 0.9834\n",
      "Epoch 14/30\n",
      "543/543 [==============================] - 18s 34ms/step - loss: 0.0014 - accuracy: 0.9901 - val_loss: 0.0015 - val_accuracy: 0.9855\n",
      "Epoch 15/30\n",
      "543/543 [==============================] - 20s 36ms/step - loss: 0.0013 - accuracy: 0.9919 - val_loss: 0.0014 - val_accuracy: 0.9855\n",
      "Epoch 16/30\n",
      "543/543 [==============================] - 19s 35ms/step - loss: 0.0012 - accuracy: 0.9917 - val_loss: 0.0015 - val_accuracy: 0.9938\n",
      "Epoch 17/30\n",
      "543/543 [==============================] - 19s 34ms/step - loss: 0.0012 - accuracy: 0.9903 - val_loss: 0.0022 - val_accuracy: 0.9689\n",
      "Epoch 18/30\n",
      "543/543 [==============================] - 19s 34ms/step - loss: 0.0010 - accuracy: 0.9913 - val_loss: 0.0011 - val_accuracy: 0.9959\n",
      "Epoch 19/30\n",
      "543/543 [==============================] - 19s 35ms/step - loss: 0.0011 - accuracy: 0.9929 - val_loss: 0.0012 - val_accuracy: 0.9959\n",
      "Epoch 20/30\n",
      "543/543 [==============================] - 18s 34ms/step - loss: 9.7945e-04 - accuracy: 0.9899 - val_loss: 0.0011 - val_accuracy: 0.9979\n",
      "Epoch 21/30\n",
      "543/543 [==============================] - 19s 34ms/step - loss: 9.4044e-04 - accuracy: 0.9929 - val_loss: 0.0012 - val_accuracy: 0.9793\n",
      "Epoch 22/30\n",
      "543/543 [==============================] - 20s 37ms/step - loss: 9.1166e-04 - accuracy: 0.9926 - val_loss: 0.0013 - val_accuracy: 0.9959\n",
      "Epoch 23/30\n",
      "543/543 [==============================] - 19s 34ms/step - loss: 8.4907e-04 - accuracy: 0.9933 - val_loss: 9.8045e-04 - val_accuracy: 0.9959\n",
      "Epoch 24/30\n",
      "543/543 [==============================] - 19s 36ms/step - loss: 8.7737e-04 - accuracy: 0.9945 - val_loss: 0.0013 - val_accuracy: 0.9938\n",
      "Epoch 25/30\n",
      "543/543 [==============================] - 20s 36ms/step - loss: 7.9389e-04 - accuracy: 0.9929 - val_loss: 0.0010 - val_accuracy: 0.9938\n",
      "Epoch 26/30\n",
      "543/543 [==============================] - 18s 33ms/step - loss: 7.5330e-04 - accuracy: 0.9931 - val_loss: 9.2128e-04 - val_accuracy: 0.9959\n",
      "Epoch 27/30\n",
      "543/543 [==============================] - 20s 36ms/step - loss: 7.7206e-04 - accuracy: 0.9945 - val_loss: 0.0011 - val_accuracy: 0.9959\n",
      "Epoch 28/30\n",
      "543/543 [==============================] - 18s 34ms/step - loss: 7.4607e-04 - accuracy: 0.9949 - val_loss: 0.0013 - val_accuracy: 0.9959\n",
      "Epoch 29/30\n",
      "543/543 [==============================] - 20s 36ms/step - loss: 7.2380e-04 - accuracy: 0.9933 - val_loss: 0.0011 - val_accuracy: 0.9959\n",
      "Epoch 30/30\n",
      "543/543 [==============================] - 19s 35ms/step - loss: 7.0714e-04 - accuracy: 0.9929 - val_loss: 0.0014 - val_accuracy: 0.9938\n"
     ]
    }
   ],
   "source": [
    "Batch_Size = 8\n",
    "Epoch_Anz = 30\n",
    "Shift_Range = 0\n",
    "Brightness_Range = 0.3\n",
    "\n",
    "datagen = ImageDataGenerator(width_shift_range=[-Shift_Range,Shift_Range], height_shift_range=[-Shift_Range,Shift_Range],brightness_range=[1-Brightness_Range,1+Brightness_Range])\n",
    "\n",
    "train_iterator = datagen.flow(X_train, y_train, batch_size=Batch_Size)\n",
    "validation_iterator = datagen.flow(X_test, y_test, batch_size=Batch_Size)\n",
    "\n",
    "history = model.fit_generator(train_iterator, validation_data = validation_iterator, epochs = Epoch_Anz)"
   ]
  },
  {
   "cell_type": "markdown",
   "metadata": {},
   "source": [
    "### Step 1: Learing result\n",
    " \n",
    "* Visualization of the training and validation results"
   ]
  },
  {
   "cell_type": "code",
   "execution_count": 5,
   "metadata": {},
   "outputs": [
    {
     "data": {
      "image/png": "[encoded data removed]",
      "text/plain": [
       "<Figure size 432x288 with 1 Axes>"
      ]
     },
     "metadata": {
      "needs_background": "light"
     },
     "output_type": "display_data"
    }
   ],
   "source": [
    "loss_ges = np.append(loss_ges, history.history['loss'])\n",
    "val_loss_ges = np.append(val_loss_ges, history.history['val_loss'])\n",
    "\n",
    "plt.semilogy(history.history['loss'])\n",
    "plt.semilogy(history.history['val_loss'])\n",
    "plt.title('model loss')\n",
    "plt.ylabel('loss')\n",
    "plt.xlabel('epoch')\n",
    "plt.legend(['train','eval'], loc='upper left')\n",
    "plt.show()"
   ]
  },
  {
   "cell_type": "markdown",
   "metadata": {},
   "source": [
    "### Step 2: Brigthness and Pixel Shift scattering\n",
    "Here a higher number of epochs is used to reach the minimum loss function"
   ]
  },
  {
   "cell_type": "code",
   "execution_count": 6,
   "metadata": {},
   "outputs": [
    {
     "name": "stdout",
     "output_type": "stream",
     "text": [
      "Epoch 1/160\n",
      "543/543 [==============================] - 19s 35ms/step - loss: 0.0347 - accuracy: 0.9480 - val_loss: 0.0118 - val_accuracy: 0.9627\n",
      "Epoch 2/160\n",
      "543/543 [==============================] - 19s 36ms/step - loss: 0.0071 - accuracy: 0.9692 - val_loss: 0.0066 - val_accuracy: 0.9772\n",
      "Epoch 3/160\n",
      "543/543 [==============================] - 19s 34ms/step - loss: 0.0047 - accuracy: 0.9774 - val_loss: 0.0043 - val_accuracy: 0.9731\n",
      "Epoch 4/160\n",
      "543/543 [==============================] - 20s 37ms/step - loss: 0.0037 - accuracy: 0.9827 - val_loss: 0.0032 - val_accuracy: 0.9855\n",
      "Epoch 5/160\n",
      "543/543 [==============================] - 21s 39ms/step - loss: 0.0034 - accuracy: 0.9839 - val_loss: 0.0060 - val_accuracy: 0.9876\n",
      "Epoch 6/160\n",
      "543/543 [==============================] - 21s 38ms/step - loss: 0.0027 - accuracy: 0.9839 - val_loss: 0.0029 - val_accuracy: 0.9896\n",
      "Epoch 7/160\n",
      "543/543 [==============================] - 21s 38ms/step - loss: 0.0028 - accuracy: 0.9837 - val_loss: 0.0020 - val_accuracy: 0.9834\n",
      "Epoch 8/160\n",
      "543/543 [==============================] - 22s 40ms/step - loss: 0.0023 - accuracy: 0.9855 - val_loss: 0.0021 - val_accuracy: 0.9917\n",
      "Epoch 9/160\n",
      "543/543 [==============================] - 21s 39ms/step - loss: 0.0022 - accuracy: 0.9878 - val_loss: 0.0023 - val_accuracy: 0.9917\n",
      "Epoch 10/160\n",
      "543/543 [==============================] - 20s 38ms/step - loss: 0.0021 - accuracy: 0.9850 - val_loss: 0.0018 - val_accuracy: 0.9855\n",
      "Epoch 11/160\n",
      "543/543 [==============================] - 21s 38ms/step - loss: 0.0019 - accuracy: 0.9887 - val_loss: 0.0020 - val_accuracy: 0.9814\n",
      "Epoch 12/160\n",
      "543/543 [==============================] - 20s 37ms/step - loss: 0.0020 - accuracy: 0.9853 - val_loss: 0.0019 - val_accuracy: 0.9917\n",
      "Epoch 13/160\n",
      "543/543 [==============================] - 20s 37ms/step - loss: 0.0017 - accuracy: 0.9890 - val_loss: 0.0018 - val_accuracy: 0.9876\n",
      "Epoch 14/160\n",
      "543/543 [==============================] - 21s 39ms/step - loss: 0.0016 - accuracy: 0.9878 - val_loss: 0.0018 - val_accuracy: 0.9938\n",
      "Epoch 15/160\n",
      "543/543 [==============================] - 20s 37ms/step - loss: 0.0015 - accuracy: 0.9894 - val_loss: 0.0019 - val_accuracy: 0.9938\n",
      "Epoch 16/160\n",
      "543/543 [==============================] - 21s 39ms/step - loss: 0.0017 - accuracy: 0.9894 - val_loss: 0.0014 - val_accuracy: 0.9896\n",
      "Epoch 17/160\n",
      "543/543 [==============================] - 21s 39ms/step - loss: 0.0015 - accuracy: 0.9917 - val_loss: 0.0015 - val_accuracy: 0.9814\n",
      "Epoch 18/160\n",
      "543/543 [==============================] - 22s 40ms/step - loss: 0.0014 - accuracy: 0.9890 - val_loss: 0.0030 - val_accuracy: 0.9855\n",
      "Epoch 19/160\n",
      "543/543 [==============================] - 21s 39ms/step - loss: 0.0015 - accuracy: 0.9917 - val_loss: 0.0017 - val_accuracy: 0.9793\n",
      "Epoch 20/160\n",
      "543/543 [==============================] - 20s 37ms/step - loss: 0.0013 - accuracy: 0.9901 - val_loss: 0.0014 - val_accuracy: 0.9938\n",
      "Epoch 21/160\n",
      "543/543 [==============================] - 22s 40ms/step - loss: 0.0013 - accuracy: 0.9901 - val_loss: 0.0013 - val_accuracy: 0.9959\n",
      "Epoch 22/160\n",
      "543/543 [==============================] - 21s 40ms/step - loss: 0.0013 - accuracy: 0.9894 - val_loss: 0.0015 - val_accuracy: 0.9855\n",
      "Epoch 23/160\n",
      "543/543 [==============================] - 22s 40ms/step - loss: 0.0013 - accuracy: 0.9878 - val_loss: 0.0015 - val_accuracy: 0.9979\n",
      "Epoch 24/160\n",
      "543/543 [==============================] - 22s 40ms/step - loss: 0.0012 - accuracy: 0.9908 - val_loss: 0.0018 - val_accuracy: 0.9959\n",
      "Epoch 25/160\n",
      "543/543 [==============================] - 21s 38ms/step - loss: 0.0012 - accuracy: 0.9892 - val_loss: 0.0015 - val_accuracy: 0.9938\n",
      "Epoch 26/160\n",
      "543/543 [==============================] - 20s 37ms/step - loss: 0.0011 - accuracy: 0.9917 - val_loss: 0.0011 - val_accuracy: 0.9959\n",
      "Epoch 27/160\n",
      "543/543 [==============================] - 21s 38ms/step - loss: 0.0011 - accuracy: 0.9899 - val_loss: 0.0013 - val_accuracy: 0.9938\n",
      "Epoch 28/160\n",
      "543/543 [==============================] - 22s 40ms/step - loss: 0.0011 - accuracy: 0.9919 - val_loss: 0.0011 - val_accuracy: 0.9979\n",
      "Epoch 29/160\n",
      "543/543 [==============================] - 22s 40ms/step - loss: 0.0011 - accuracy: 0.9915 - val_loss: 0.0014 - val_accuracy: 0.9938\n",
      "Epoch 30/160\n",
      "543/543 [==============================] - 21s 39ms/step - loss: 0.0011 - accuracy: 0.9933 - val_loss: 0.0012 - val_accuracy: 0.9959\n",
      "Epoch 31/160\n",
      "543/543 [==============================] - 22s 41ms/step - loss: 0.0011 - accuracy: 0.9917 - val_loss: 0.0012 - val_accuracy: 0.9959\n",
      "Epoch 32/160\n",
      "543/543 [==============================] - 21s 39ms/step - loss: 0.0010 - accuracy: 0.9908 - val_loss: 0.0017 - val_accuracy: 0.9834\n",
      "Epoch 33/160\n",
      "543/543 [==============================] - 22s 40ms/step - loss: 9.6537e-04 - accuracy: 0.9922 - val_loss: 0.0012 - val_accuracy: 0.9959\n",
      "Epoch 34/160\n",
      "543/543 [==============================] - 22s 40ms/step - loss: 9.6920e-04 - accuracy: 0.9913 - val_loss: 9.7543e-04 - val_accuracy: 0.9938\n",
      "Epoch 35/160\n",
      "543/543 [==============================] - 21s 39ms/step - loss: 9.5079e-04 - accuracy: 0.9913 - val_loss: 0.0014 - val_accuracy: 0.9834\n",
      "Epoch 36/160\n",
      "543/543 [==============================] - 21s 39ms/step - loss: 9.5843e-04 - accuracy: 0.9913 - val_loss: 9.6493e-04 - val_accuracy: 0.9855\n",
      "Epoch 37/160\n",
      "543/543 [==============================] - 22s 41ms/step - loss: 9.5227e-04 - accuracy: 0.9917 - val_loss: 0.0010 - val_accuracy: 0.9959\n",
      "Epoch 38/160\n",
      "543/543 [==============================] - 21s 39ms/step - loss: 9.2538e-04 - accuracy: 0.9919 - val_loss: 8.5885e-04 - val_accuracy: 0.9979\n",
      "Epoch 39/160\n",
      "543/543 [==============================] - 21s 40ms/step - loss: 9.0027e-04 - accuracy: 0.9926 - val_loss: 0.0011 - val_accuracy: 0.9979\n",
      "Epoch 40/160\n",
      "543/543 [==============================] - 20s 36ms/step - loss: 8.7043e-04 - accuracy: 0.9933 - val_loss: 9.9280e-04 - val_accuracy: 0.9959\n",
      "Epoch 41/160\n",
      "543/543 [==============================] - 22s 40ms/step - loss: 8.7824e-04 - accuracy: 0.9929 - val_loss: 0.0013 - val_accuracy: 0.9979\n",
      "Epoch 42/160\n",
      "543/543 [==============================] - 21s 39ms/step - loss: 8.3246e-04 - accuracy: 0.9940 - val_loss: 0.0011 - val_accuracy: 0.9938\n",
      "Epoch 43/160\n",
      "543/543 [==============================] - 22s 40ms/step - loss: 8.7256e-04 - accuracy: 0.9924 - val_loss: 0.0014 - val_accuracy: 0.9979\n",
      "Epoch 44/160\n",
      "543/543 [==============================] - 22s 40ms/step - loss: 8.8895e-04 - accuracy: 0.9924 - val_loss: 0.0013 - val_accuracy: 0.9896\n",
      "Epoch 45/160\n",
      "543/543 [==============================] - 21s 39ms/step - loss: 8.1644e-04 - accuracy: 0.9940 - val_loss: 0.0011 - val_accuracy: 0.9917\n",
      "Epoch 46/160\n",
      "543/543 [==============================] - 20s 37ms/step - loss: 8.0541e-04 - accuracy: 0.9931 - val_loss: 0.0013 - val_accuracy: 0.9772\n",
      "Epoch 47/160\n",
      "543/543 [==============================] - 21s 39ms/step - loss: 8.2189e-04 - accuracy: 0.9931 - val_loss: 0.0017 - val_accuracy: 0.9979\n",
      "Epoch 48/160\n",
      "543/543 [==============================] - 20s 38ms/step - loss: 7.9495e-04 - accuracy: 0.9936 - val_loss: 0.0010 - val_accuracy: 0.9834\n",
      "Epoch 49/160\n",
      "543/543 [==============================] - 21s 39ms/step - loss: 8.1335e-04 - accuracy: 0.9929 - val_loss: 9.1503e-04 - val_accuracy: 0.9938\n",
      "Epoch 50/160\n",
      "543/543 [==============================] - 23s 42ms/step - loss: 7.7653e-04 - accuracy: 0.9952 - val_loss: 0.0010 - val_accuracy: 0.9979\n",
      "Epoch 51/160\n",
      "543/543 [==============================] - 23s 42ms/step - loss: 7.6645e-04 - accuracy: 0.9945 - val_loss: 9.4214e-04 - val_accuracy: 0.9979\n",
      "Epoch 52/160\n",
      "543/543 [==============================] - 21s 38ms/step - loss: 7.6690e-04 - accuracy: 0.9942 - val_loss: 9.9263e-04 - val_accuracy: 0.9959\n",
      "Epoch 53/160\n",
      "543/543 [==============================] - 21s 40ms/step - loss: 7.5363e-04 - accuracy: 0.9936 - val_loss: 0.0013 - val_accuracy: 0.9938\n",
      "Epoch 54/160\n",
      "543/543 [==============================] - 22s 41ms/step - loss: 7.7456e-04 - accuracy: 0.9926 - val_loss: 9.5853e-04 - val_accuracy: 0.9979\n",
      "Epoch 55/160\n",
      "543/543 [==============================] - 21s 39ms/step - loss: 7.6213e-04 - accuracy: 0.9919 - val_loss: 9.9324e-04 - val_accuracy: 0.9917\n",
      "Epoch 56/160\n"
     ]
    },
    {
     "name": "stdout",
     "output_type": "stream",
     "text": [
      "543/543 [==============================] - 21s 38ms/step - loss: 7.3183e-04 - accuracy: 0.9942 - val_loss: 8.8672e-04 - val_accuracy: 0.9959\n",
      "Epoch 57/160\n",
      "543/543 [==============================] - 21s 40ms/step - loss: 7.5711e-04 - accuracy: 0.9945 - val_loss: 9.3063e-04 - val_accuracy: 0.9793\n",
      "Epoch 58/160\n",
      "543/543 [==============================] - 21s 39ms/step - loss: 7.2245e-04 - accuracy: 0.9931 - val_loss: 8.1254e-04 - val_accuracy: 0.9917\n",
      "Epoch 59/160\n",
      "543/543 [==============================] - 22s 41ms/step - loss: 7.1197e-04 - accuracy: 0.9924 - val_loss: 9.4257e-04 - val_accuracy: 0.9979\n",
      "Epoch 60/160\n",
      "543/543 [==============================] - 21s 39ms/step - loss: 7.1660e-04 - accuracy: 0.9929 - val_loss: 9.7077e-04 - val_accuracy: 0.9814\n",
      "Epoch 61/160\n",
      "543/543 [==============================] - 22s 40ms/step - loss: 7.1812e-04 - accuracy: 0.9942 - val_loss: 0.0013 - val_accuracy: 0.9855\n",
      "Epoch 62/160\n",
      "543/543 [==============================] - 21s 39ms/step - loss: 7.0204e-04 - accuracy: 0.9961 - val_loss: 8.4522e-04 - val_accuracy: 0.9979\n",
      "Epoch 63/160\n",
      "543/543 [==============================] - 22s 41ms/step - loss: 7.0233e-04 - accuracy: 0.9942 - val_loss: 9.9333e-04 - val_accuracy: 0.9917\n",
      "Epoch 64/160\n",
      "543/543 [==============================] - 23s 42ms/step - loss: 6.7218e-04 - accuracy: 0.9945 - val_loss: 0.0011 - val_accuracy: 0.9979\n",
      "Epoch 65/160\n",
      "543/543 [==============================] - 23s 43ms/step - loss: 7.0893e-04 - accuracy: 0.9936 - val_loss: 9.9810e-04 - val_accuracy: 0.9855\n",
      "Epoch 66/160\n",
      "543/543 [==============================] - 22s 41ms/step - loss: 6.8062e-04 - accuracy: 0.9942 - val_loss: 9.5189e-04 - val_accuracy: 0.9979\n",
      "Epoch 67/160\n",
      "543/543 [==============================] - 23s 42ms/step - loss: 7.1479e-04 - accuracy: 0.9926 - val_loss: 0.0011 - val_accuracy: 0.9917\n",
      "Epoch 68/160\n",
      "543/543 [==============================] - 23s 43ms/step - loss: 6.7172e-04 - accuracy: 0.9940 - val_loss: 8.4512e-04 - val_accuracy: 0.9979\n",
      "Epoch 69/160\n",
      "543/543 [==============================] - 22s 41ms/step - loss: 6.8507e-04 - accuracy: 0.9942 - val_loss: 0.0010 - val_accuracy: 0.9938\n",
      "Epoch 70/160\n",
      "543/543 [==============================] - 22s 40ms/step - loss: 6.8950e-04 - accuracy: 0.9924 - val_loss: 8.9353e-04 - val_accuracy: 0.9979\n",
      "Epoch 71/160\n",
      "543/543 [==============================] - 21s 39ms/step - loss: 6.8371e-04 - accuracy: 0.9947 - val_loss: 7.8012e-04 - val_accuracy: 0.9938\n",
      "Epoch 72/160\n",
      "543/543 [==============================] - 22s 41ms/step - loss: 6.3125e-04 - accuracy: 0.9970 - val_loss: 8.6786e-04 - val_accuracy: 0.9938\n",
      "Epoch 73/160\n",
      "543/543 [==============================] - 24s 44ms/step - loss: 6.3129e-04 - accuracy: 0.9952 - val_loss: 0.0010 - val_accuracy: 0.9979\n",
      "Epoch 74/160\n",
      "543/543 [==============================] - 23s 42ms/step - loss: 6.1953e-04 - accuracy: 0.9936 - val_loss: 9.8822e-04 - val_accuracy: 0.9959\n",
      "Epoch 75/160\n",
      "543/543 [==============================] - 23s 42ms/step - loss: 6.4109e-04 - accuracy: 0.9963 - val_loss: 8.5412e-04 - val_accuracy: 0.9896\n",
      "Epoch 76/160\n",
      "543/543 [==============================] - 22s 40ms/step - loss: 6.3351e-04 - accuracy: 0.9959 - val_loss: 9.2552e-04 - val_accuracy: 0.9959\n",
      "Epoch 77/160\n",
      "543/543 [==============================] - 23s 42ms/step - loss: 6.5039e-04 - accuracy: 0.9936 - val_loss: 0.0012 - val_accuracy: 0.9979\n",
      "Epoch 78/160\n",
      "543/543 [==============================] - 24s 45ms/step - loss: 6.3138e-04 - accuracy: 0.9945 - val_loss: 7.2561e-04 - val_accuracy: 0.9979\n",
      "Epoch 79/160\n",
      "543/543 [==============================] - 24s 44ms/step - loss: 6.0219e-04 - accuracy: 0.9947 - val_loss: 8.8953e-04 - val_accuracy: 0.9917\n",
      "Epoch 80/160\n",
      "543/543 [==============================] - 24s 43ms/step - loss: 6.1394e-04 - accuracy: 0.9938 - val_loss: 9.4102e-04 - val_accuracy: 0.9917\n",
      "Epoch 81/160\n",
      "543/543 [==============================] - 21s 38ms/step - loss: 6.4237e-04 - accuracy: 0.9940 - val_loss: 9.5981e-04 - val_accuracy: 0.9938\n",
      "Epoch 82/160\n",
      "543/543 [==============================] - 18s 34ms/step - loss: 6.2406e-04 - accuracy: 0.9947 - val_loss: 0.0010 - val_accuracy: 0.9979\n",
      "Epoch 83/160\n",
      "543/543 [==============================] - 17s 32ms/step - loss: 6.0207e-04 - accuracy: 0.9949 - val_loss: 9.1668e-04 - val_accuracy: 0.9979\n",
      "Epoch 84/160\n",
      "543/543 [==============================] - 18s 32ms/step - loss: 6.0674e-04 - accuracy: 0.9959 - val_loss: 0.0010 - val_accuracy: 0.9979\n",
      "Epoch 85/160\n",
      "543/543 [==============================] - 17s 31ms/step - loss: 6.0328e-04 - accuracy: 0.9938 - val_loss: 9.0028e-04 - val_accuracy: 0.9979\n",
      "Epoch 86/160\n",
      "543/543 [==============================] - 17s 31ms/step - loss: 5.9981e-04 - accuracy: 0.9947 - val_loss: 0.0011 - val_accuracy: 0.9959\n",
      "Epoch 87/160\n",
      "543/543 [==============================] - 16s 30ms/step - loss: 5.9911e-04 - accuracy: 0.9961 - val_loss: 9.4187e-04 - val_accuracy: 0.9917\n",
      "Epoch 88/160\n",
      "543/543 [==============================] - 16s 30ms/step - loss: 5.8986e-04 - accuracy: 0.9949 - val_loss: 9.2380e-04 - val_accuracy: 0.9959\n",
      "Epoch 89/160\n",
      "543/543 [==============================] - 15s 28ms/step - loss: 5.8371e-04 - accuracy: 0.9933 - val_loss: 8.3602e-04 - val_accuracy: 0.9917\n",
      "Epoch 90/160\n",
      "543/543 [==============================] - 14s 25ms/step - loss: 5.9844e-04 - accuracy: 0.9952 - val_loss: 8.7345e-04 - val_accuracy: 0.9959\n",
      "Epoch 91/160\n",
      "543/543 [==============================] - 13s 25ms/step - loss: 5.7081e-04 - accuracy: 0.9947 - val_loss: 0.0010 - val_accuracy: 0.9959\n",
      "Epoch 92/160\n",
      "543/543 [==============================] - 13s 24ms/step - loss: 5.9056e-04 - accuracy: 0.9940 - val_loss: 9.3621e-04 - val_accuracy: 0.9979\n",
      "Epoch 93/160\n",
      "543/543 [==============================] - 13s 23ms/step - loss: 5.6279e-04 - accuracy: 0.9940 - val_loss: 9.0648e-04 - val_accuracy: 0.9917\n",
      "Epoch 94/160\n",
      "543/543 [==============================] - 13s 25ms/step - loss: 5.7097e-04 - accuracy: 0.9938 - val_loss: 7.9414e-04 - val_accuracy: 0.9979\n",
      "Epoch 95/160\n",
      "543/543 [==============================] - 14s 25ms/step - loss: 5.7808e-04 - accuracy: 0.9945 - val_loss: 0.0012 - val_accuracy: 0.9979racy: 0. - ETA: 0s - loss: 5.7441e-04 \n",
      "Epoch 96/160\n",
      "543/543 [==============================] - 13s 25ms/step - loss: 5.7111e-04 - accuracy: 0.9949 - val_loss: 0.0011 - val_accuracy: 0.9979\n",
      "Epoch 97/160\n",
      "543/543 [==============================] - 13s 23ms/step - loss: 5.5961e-04 - accuracy: 0.9949 - val_loss: 7.9386e-04 - val_accuracy: 0.9979\n",
      "Epoch 98/160\n",
      "543/543 [==============================] - 12s 23ms/step - loss: 5.3334e-04 - accuracy: 0.9956 - val_loss: 0.0012 - val_accuracy: 0.9979\n",
      "Epoch 99/160\n",
      "543/543 [==============================] - 13s 23ms/step - loss: 5.6025e-04 - accuracy: 0.9949 - val_loss: 8.0598e-04 - val_accuracy: 0.9979\n",
      "Epoch 100/160\n",
      "543/543 [==============================] - 12s 23ms/step - loss: 5.5479e-04 - accuracy: 0.9940 - val_loss: 9.1639e-04 - val_accuracy: 0.9979\n",
      "Epoch 101/160\n",
      "543/543 [==============================] - 12s 23ms/step - loss: 5.6815e-04 - accuracy: 0.9949 - val_loss: 8.0191e-04 - val_accuracy: 0.9959\n",
      "Epoch 102/160\n",
      "543/543 [==============================] - 13s 23ms/step - loss: 5.5388e-04 - accuracy: 0.9954 - val_loss: 9.8815e-04 - val_accuracy: 0.9979\n",
      "Epoch 103/160\n",
      "543/543 [==============================] - 13s 23ms/step - loss: 5.3926e-04 - accuracy: 0.9940 - val_loss: 7.4663e-04 - val_accuracy: 0.9979\n",
      "Epoch 104/160\n",
      "543/543 [==============================] - 13s 24ms/step - loss: 5.2719e-04 - accuracy: 0.9961 - val_loss: 8.7260e-04 - val_accuracy: 0.9979\n",
      "Epoch 105/160\n",
      "543/543 [==============================] - 13s 24ms/step - loss: 5.3888e-04 - accuracy: 0.9949 - val_loss: 8.9932e-04 - val_accuracy: 0.9979\n",
      "Epoch 106/160\n",
      "543/543 [==============================] - 13s 24ms/step - loss: 5.4358e-04 - accuracy: 0.9961 - val_loss: 9.9932e-04 - val_accuracy: 0.9938\n",
      "Epoch 107/160\n",
      "543/543 [==============================] - 13s 24ms/step - loss: 5.2632e-04 - accuracy: 0.9945 - val_loss: 7.2162e-04 - val_accuracy: 0.9979\n",
      "Epoch 108/160\n",
      "543/543 [==============================] - 13s 24ms/step - loss: 5.2510e-04 - accuracy: 0.9956 - val_loss: 8.5016e-04 - val_accuracy: 0.9959\n",
      "Epoch 109/160\n"
     ]
    },
    {
     "name": "stdout",
     "output_type": "stream",
     "text": [
      "543/543 [==============================] - 13s 25ms/step - loss: 5.3616e-04 - accuracy: 0.9949 - val_loss: 8.8533e-04 - val_accuracy: 0.9959\n",
      "Epoch 110/160\n",
      "543/543 [==============================] - 13s 23ms/step - loss: 5.1944e-04 - accuracy: 0.9952 - val_loss: 8.0267e-04 - val_accuracy: 0.9896\n",
      "Epoch 111/160\n",
      "543/543 [==============================] - 12s 22ms/step - loss: 5.3286e-04 - accuracy: 0.9952 - val_loss: 8.9843e-04 - val_accuracy: 0.9959\n",
      "Epoch 112/160\n",
      "543/543 [==============================] - 13s 24ms/step - loss: 5.2133e-04 - accuracy: 0.9965 - val_loss: 9.1684e-04 - val_accuracy: 0.9959\n",
      "Epoch 113/160\n",
      "543/543 [==============================] - 7577s 14s/step - loss: 5.1873e-04 - accuracy: 0.9954 - val_loss: 8.9202e-04 - val_accuracy: 0.9938\n",
      "Epoch 114/160\n",
      "543/543 [==============================] - 11s 21ms/step - loss: 5.2295e-04 - accuracy: 0.9959 - val_loss: 8.6529e-04 - val_accuracy: 0.9959\n",
      "Epoch 115/160\n",
      "543/543 [==============================] - 10s 19ms/step - loss: 5.2037e-04 - accuracy: 0.9945 - val_loss: 0.0011 - val_accuracy: 0.9959\n",
      "Epoch 116/160\n",
      "543/543 [==============================] - 10s 19ms/step - loss: 5.1887e-04 - accuracy: 0.9940 - val_loss: 8.3640e-04 - val_accuracy: 0.9979\n",
      "Epoch 117/160\n",
      "543/543 [==============================] - 10s 19ms/step - loss: 5.2517e-04 - accuracy: 0.9945 - val_loss: 8.0426e-04 - val_accuracy: 0.9959\n",
      "Epoch 118/160\n",
      "543/543 [==============================] - 11s 20ms/step - loss: 5.1571e-04 - accuracy: 0.9938 - val_loss: 0.0011 - val_accuracy: 0.9979\n",
      "Epoch 119/160\n",
      "543/543 [==============================] - 11s 20ms/step - loss: 5.1563e-04 - accuracy: 0.9938 - val_loss: 0.0011 - val_accuracy: 0.9979\n",
      "Epoch 120/160\n",
      "543/543 [==============================] - 10s 19ms/step - loss: 5.2656e-04 - accuracy: 0.9954 - val_loss: 0.0010 - val_accuracy: 0.9959\n",
      "Epoch 121/160\n",
      "543/543 [==============================] - 10s 18ms/step - loss: 5.1064e-04 - accuracy: 0.9965 - val_loss: 8.2701e-04 - val_accuracy: 0.9959\n",
      "Epoch 122/160\n",
      "543/543 [==============================] - 10s 18ms/step - loss: 4.9670e-04 - accuracy: 0.9961 - val_loss: 8.2235e-04 - val_accuracy: 0.9959\n",
      "Epoch 123/160\n",
      "543/543 [==============================] - 10s 18ms/step - loss: 5.0210e-04 - accuracy: 0.9949 - val_loss: 9.8071e-04 - val_accuracy: 0.9959\n",
      "Epoch 124/160\n",
      "543/543 [==============================] - 11s 19ms/step - loss: 5.1237e-04 - accuracy: 0.9956 - val_loss: 8.8445e-04 - val_accuracy: 0.9917\n",
      "Epoch 125/160\n",
      "543/543 [==============================] - 11s 20ms/step - loss: 4.8312e-04 - accuracy: 0.9961 - val_loss: 9.8668e-04 - val_accuracy: 0.9896\n",
      "Epoch 126/160\n",
      "543/543 [==============================] - 10s 19ms/step - loss: 5.0236e-04 - accuracy: 0.9949 - val_loss: 0.0010 - val_accuracy: 0.9959\n",
      "Epoch 127/160\n",
      "543/543 [==============================] - 11s 20ms/step - loss: 4.8074e-04 - accuracy: 0.9954 - val_loss: 0.0010 - val_accuracy: 0.9938\n",
      "Epoch 128/160\n",
      "543/543 [==============================] - 11s 20ms/step - loss: 5.1219e-04 - accuracy: 0.9959 - val_loss: 7.1208e-04 - val_accuracy: 0.9979\n",
      "Epoch 129/160\n",
      "543/543 [==============================] - 10s 19ms/step - loss: 4.8560e-04 - accuracy: 0.9963 - val_loss: 8.2337e-04 - val_accuracy: 0.9979\n",
      "Epoch 130/160\n",
      "543/543 [==============================] - 10s 18ms/step - loss: 4.9800e-04 - accuracy: 0.9949 - val_loss: 7.1430e-04 - val_accuracy: 0.9979\n",
      "Epoch 131/160\n",
      "543/543 [==============================] - 10s 18ms/step - loss: 4.8732e-04 - accuracy: 0.9963 - val_loss: 0.0012 - val_accuracy: 0.9855\n",
      "Epoch 132/160\n",
      "543/543 [==============================] - 10s 18ms/step - loss: 4.7953e-04 - accuracy: 0.9954 - val_loss: 7.5130e-04 - val_accuracy: 0.9979\n",
      "Epoch 133/160\n",
      "543/543 [==============================] - 10s 19ms/step - loss: 4.8630e-04 - accuracy: 0.9961 - val_loss: 0.0011 - val_accuracy: 0.9959\n",
      "Epoch 134/160\n",
      "543/543 [==============================] - 10s 18ms/step - loss: 4.8082e-04 - accuracy: 0.9963 - val_loss: 8.0439e-04 - val_accuracy: 0.9959\n",
      "Epoch 135/160\n",
      "543/543 [==============================] - 10s 18ms/step - loss: 4.7430e-04 - accuracy: 0.9954 - val_loss: 8.0180e-04 - val_accuracy: 0.9959\n",
      "Epoch 136/160\n",
      "543/543 [==============================] - 10s 18ms/step - loss: 4.8983e-04 - accuracy: 0.9970 - val_loss: 9.2726e-04 - val_accuracy: 0.9959\n",
      "Epoch 137/160\n",
      "543/543 [==============================] - 10s 19ms/step - loss: 4.8788e-04 - accuracy: 0.9959 - val_loss: 7.3431e-04 - val_accuracy: 0.9959\n",
      "Epoch 138/160\n",
      "543/543 [==============================] - 10s 19ms/step - loss: 4.7645e-04 - accuracy: 0.9961 - val_loss: 7.7792e-04 - val_accuracy: 0.9959\n",
      "Epoch 139/160\n",
      "543/543 [==============================] - 11s 20ms/step - loss: 4.8421e-04 - accuracy: 0.9952 - val_loss: 6.7290e-04 - val_accuracy: 0.9959\n",
      "Epoch 140/160\n",
      "543/543 [==============================] - 10s 19ms/step - loss: 4.7810e-04 - accuracy: 0.9956 - val_loss: 8.4784e-04 - val_accuracy: 0.9938\n",
      "Epoch 141/160\n",
      "543/543 [==============================] - 10s 18ms/step - loss: 4.6460e-04 - accuracy: 0.9961 - val_loss: 8.3847e-04 - val_accuracy: 0.9979\n",
      "Epoch 142/160\n",
      "543/543 [==============================] - 11s 20ms/step - loss: 4.8563e-04 - accuracy: 0.9954 - val_loss: 7.7325e-04 - val_accuracy: 0.9938\n",
      "Epoch 143/160\n",
      "543/543 [==============================] - 11s 21ms/step - loss: 4.6772e-04 - accuracy: 0.9968 - val_loss: 9.0361e-04 - val_accuracy: 0.9938\n",
      "Epoch 144/160\n",
      "543/543 [==============================] - 10s 19ms/step - loss: 4.7051e-04 - accuracy: 0.9961 - val_loss: 9.3998e-04 - val_accuracy: 0.9979\n",
      "Epoch 145/160\n",
      "543/543 [==============================] - 10s 18ms/step - loss: 4.6836e-04 - accuracy: 0.9936 - val_loss: 7.9834e-04 - val_accuracy: 0.9959\n",
      "Epoch 146/160\n",
      "543/543 [==============================] - 11s 19ms/step - loss: 4.6957e-04 - accuracy: 0.9961 - val_loss: 8.7973e-04 - val_accuracy: 0.9979\n",
      "Epoch 147/160\n",
      "543/543 [==============================] - 11s 19ms/step - loss: 4.6332e-04 - accuracy: 0.9959 - val_loss: 8.6063e-04 - val_accuracy: 0.9979\n",
      "Epoch 148/160\n",
      "543/543 [==============================] - 11s 20ms/step - loss: 4.7736e-04 - accuracy: 0.9968 - val_loss: 0.0012 - val_accuracy: 0.9959\n",
      "Epoch 149/160\n",
      "543/543 [==============================] - 10s 18ms/step - loss: 4.7229e-04 - accuracy: 0.9961 - val_loss: 0.0013 - val_accuracy: 0.9979\n",
      "Epoch 150/160\n",
      "543/543 [==============================] - 10s 18ms/step - loss: 4.5664e-04 - accuracy: 0.9959 - val_loss: 8.2665e-04 - val_accuracy: 0.9959\n",
      "Epoch 151/160\n",
      "543/543 [==============================] - 10s 18ms/step - loss: 4.4940e-04 - accuracy: 0.9952 - val_loss: 0.0010 - val_accuracy: 0.9959\n",
      "Epoch 152/160\n",
      "543/543 [==============================] - 10s 18ms/step - loss: 4.6329e-04 - accuracy: 0.9954 - val_loss: 0.0010 - val_accuracy: 0.9979\n",
      "Epoch 153/160\n",
      "543/543 [==============================] - 10s 18ms/step - loss: 4.5281e-04 - accuracy: 0.9965 - val_loss: 8.4035e-04 - val_accuracy: 0.9959\n",
      "Epoch 154/160\n",
      "543/543 [==============================] - 9s 17ms/step - loss: 4.6328e-04 - accuracy: 0.9968 - val_loss: 8.6724e-04 - val_accuracy: 0.9959\n",
      "Epoch 155/160\n",
      "543/543 [==============================] - 8s 14ms/step - loss: 4.4396e-04 - accuracy: 0.9970 - val_loss: 7.6100e-04 - val_accuracy: 0.9979\n",
      "Epoch 156/160\n",
      "543/543 [==============================] - 7s 13ms/step - loss: 4.5986e-04 - accuracy: 0.9968 - val_loss: 8.8766e-04 - val_accuracy: 0.9979\n",
      "Epoch 157/160\n",
      "543/543 [==============================] - 6s 11ms/step - loss: 4.5217e-04 - accuracy: 0.9947 - val_loss: 7.6605e-04 - val_accuracy: 0.9959\n",
      "Epoch 158/160\n",
      "543/543 [==============================] - 6s 10ms/step - loss: 4.4436e-04 - accuracy: 0.9968 - val_loss: 7.2007e-04 - val_accuracy: 0.9979\n",
      "Epoch 159/160\n",
      "543/543 [==============================] - 6s 10ms/step - loss: 4.4294e-04 - accuracy: 0.9965 - val_loss: 0.0012 - val_accuracy: 0.9938\n",
      "Epoch 160/160\n",
      "543/543 [==============================] - 6s 11ms/step - loss: 4.5276e-04 - accuracy: 0.9949 - val_loss: 8.0394e-04 - val_accuracy: 0.9979\n"
     ]
    }
   ],
   "source": [
    "Batch_Size = 8\n",
    "Epoch_Anz = 160\n",
    "Shift_Range = 3\n",
    "Brightness_Range = 0.3\n",
    "\n",
    "datagen = ImageDataGenerator(width_shift_range=[-Shift_Range,Shift_Range], height_shift_range=[-Shift_Range,Shift_Range],brightness_range=[1-Brightness_Range,1+Brightness_Range])\n",
    "\n",
    "train_iterator = datagen.flow(X_train, y_train, batch_size=Batch_Size)\n",
    "validation_iterator = datagen.flow(X_test, y_test, batch_size=Batch_Size)\n",
    "\n",
    "history = model.fit_generator(train_iterator, validation_data = validation_iterator, epochs = Epoch_Anz)"
   ]
  },
  {
   "cell_type": "markdown",
   "metadata": {},
   "source": [
    "### Overall Learing results (Step 1 & Step 2)"
   ]
  },
  {
   "cell_type": "code",
   "execution_count": 7,
   "metadata": {},
   "outputs": [
    {
     "data": {
      "image/png": "[encoded data removed]",
      "text/plain": [
       "<Figure size 432x288 with 1 Axes>"
      ]
     },
     "metadata": {
      "needs_background": "light"
     },
     "output_type": "display_data"
    }
   ],
   "source": [
    "loss_ges = np.append(loss_ges, history.history['loss'])\n",
    "val_loss_ges = np.append(val_loss_ges, history.history['val_loss'])\n",
    "\n",
    "plt.semilogy(loss_ges)\n",
    "plt.semilogy(val_loss_ges)\n",
    "plt.title('model loss')\n",
    "plt.ylabel('loss')\n",
    "plt.xlabel('epoch')\n",
    "plt.legend(['train','eval'], loc='upper left')\n",
    "plt.show()"
   ]
  },
  {
   "cell_type": "markdown",
   "metadata": {},
   "source": [
    "### Check the model by hand\n",
    "\n",
    "* The following code uses the trained model to check the deviation for each picture.\n",
    "* The evaluation takes the periodic character of the results into account (dev1 ... dev2).\n",
    "* Images, that have a bigger deviation as the parameter \"deviation_max_list\" are printed in a list to check the picture and labeling itself"
   ]
  },
  {
   "cell_type": "code",
   "execution_count": 8,
   "metadata": {},
   "outputs": [
    {
     "name": "stdout",
     "output_type": "stream",
     "text": [
      "data_resize_all\\7.6_3851_analog4_20200821-235348.jpg 0.76 0.8256126156668623 -0.06561261566686227\n",
      "data_resize_all\\7.7_3893_analog4_20200822-014115.jpg 0.77 0.821155917233429 -0.05115591723342894\n"
     ]
    }
   ],
   "source": [
    "Input_dir='data_resize_all'\n",
    "#Input_dir='test_result'\n",
    "files = glob.glob(Input_dir + '/*.*')\n",
    "res = []\n",
    "i = 0\n",
    "deviation_max_list = 0.05\n",
    "\n",
    "for aktfile in files:\n",
    "    base = os.path.basename(aktfile)\n",
    "    target = (float(base[0:3])) / 10\n",
    "    target_sin = math.sin(target * math.pi * 2)\n",
    "    target_cos = math.cos(target * math.pi * 2)\n",
    "\n",
    "    test_image = Image.open(aktfile)\n",
    "    test_image = np.array(test_image, dtype=\"float32\")\n",
    "    img = np.reshape(test_image,[1,32,32,3])\n",
    "    classes = model.predict(img)\n",
    "    \n",
    "    out_sin = classes[0][0]  \n",
    "    out_cos = classes[0][1]\n",
    "    out_target = (np.arctan2(out_sin, out_cos)/(2*math.pi)) % 1\n",
    "\n",
    "    dev_sin = target_sin - out_sin\n",
    "    dev_cos = target_cos - out_cos\n",
    "    dev_target = target - out_target\n",
    "    \n",
    "    if abs(dev_target + 1) < abs(dev_target):\n",
    "        out_target = out_target - 1\n",
    "        dev_target = target - out_target\n",
    "    else:\n",
    "        if abs(dev_target - 1) < abs(dev_target):\n",
    "            out_target = out_target + 1\n",
    "            dev_target = target - out_target\n",
    "               \n",
    "    res.append(np.array([target, out_target, dev_target, out_sin, out_cos, i]))\n",
    "    if abs(dev_target) > deviation_max_list:\n",
    "        print(aktfile + \" \" + str(target) + \" \" + str(out_target) +  \" \" + str(dev_target))\n",
    "    i+=1\n",
    "\n",
    "res = np.asarray(res)\n",
    "res_step_1 = res"
   ]
  },
  {
   "cell_type": "markdown",
   "metadata": {},
   "source": [
    "## Results"
   ]
  },
  {
   "cell_type": "code",
   "execution_count": 9,
   "metadata": {},
   "outputs": [
    {
     "data": {
      "image/png": "[encoded data removed]",
      "text/plain": [
       "<Figure size 432x288 with 1 Axes>"
      ]
     },
     "metadata": {
      "needs_background": "light"
     },
     "output_type": "display_data"
    }
   ],
   "source": [
    "plt.plot(res[:,3])\n",
    "plt.plot(res[:,4])\n",
    "plt.title('Result')\n",
    "plt.ylabel('value')\n",
    "plt.xlabel('#Picture')\n",
    "plt.legend(['sin', 'cos'], loc='lower left')\n",
    "plt.show()"
   ]
  },
  {
   "cell_type": "code",
   "execution_count": 10,
   "metadata": {},
   "outputs": [
    {
     "data": {
      "image/png": "[encoded data removed]",
      "text/plain": [
       "<Figure size 432x288 with 1 Axes>"
      ]
     },
     "metadata": {
      "needs_background": "light"
     },
     "output_type": "display_data"
    }
   ],
   "source": [
    "plt.plot(res[:,0])\n",
    "plt.plot(res[:,1])\n",
    "plt.title('Result')\n",
    "plt.ylabel('Counter Value')\n",
    "plt.xlabel('#Picture')\n",
    "plt.legend(['Orginal', 'Prediction'], loc='upper left')\n",
    "plt.show()"
   ]
  },
  {
   "cell_type": "markdown",
   "metadata": {},
   "source": [
    "### Deviation from Expected Value"
   ]
  },
  {
   "cell_type": "code",
   "execution_count": 11,
   "metadata": {},
   "outputs": [
    {
     "data": {
      "image/png": "[encoded data removed]",
      "text/plain": [
       "<Figure size 432x288 with 1 Axes>"
      ]
     },
     "metadata": {
      "needs_background": "light"
     },
     "output_type": "display_data"
    },
    {
     "name": "stdout",
     "output_type": "stream",
     "text": [
      "[ 0.001   0.01   -0.0656  0.0482]\n"
     ]
    }
   ],
   "source": [
    "plt.plot(res[:,2])\n",
    "plt.title('Deviation')\n",
    "plt.ylabel('Deviation from expected value')\n",
    "plt.xlabel('#Picture')\n",
    "plt.legend(['Deviation'], loc='upper left')\n",
    "#plt.ylim(-0.3, 0.3)\n",
    "plt.show()\n",
    "\n",
    "statistic = np.array([np.mean(res[:,2]), np.std(res[:,2]), np.min(res[:,2]), np.max(res[:,2])])\n",
    "print(statistic)"
   ]
  },
  {
   "cell_type": "markdown",
   "metadata": {},
   "source": [
    "### Save the model\n",
    "\n",
    "* Save the model to the file with the \"h5\" file format"
   ]
  },
  {
   "cell_type": "code",
   "execution_count": 12,
   "metadata": {},
   "outputs": [
    {
     "data": {
      "text/plain": [
       "203904"
      ]
     },
     "execution_count": 12,
     "metadata": {},
     "output_type": "execute_result"
    }
   ],
   "source": [
    "# model.save(\"CNN_Analog-Readout_Version-6.2.0.h5\")\n",
    "\n",
    "converter = tf.lite.TFLiteConverter.from_keras_model(model)\n",
    "tflite_model = converter.convert()\n",
    "open(\"CNN_Analog-Readout_Version-6.3.0-Small1.tflite\", \"wb\").write(tflite_model)"
   ]
  }
 ],
 "metadata": {
  "kernelspec": {
   "display_name": "Python 3",
   "language": "python",
   "name": "python3"
  },
  "language_info": {
   "codemirror_mode": {
    "name": "ipython",
    "version": 3
   },
   "file_extension": ".py",
   "mimetype": "text/x-python",
   "name": "python",
   "nbconvert_exporter": "python",
   "pygments_lexer": "ipython3",
   "version": "3.7.7"
  }
 },
 "nbformat": 4,
 "nbformat_minor": 2
}
