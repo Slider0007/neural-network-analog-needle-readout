{
 "cells": [
  {
   "cell_type": "markdown",
   "metadata": {},
   "source": [
    "# CNN Training\n",
    "\n",
    "Target of this code is to train a CNN network to extract the needle position of an analog needle device.\n",
    "\n",
    "### Preparing the training\n",
    "* First all libraries are loaded\n",
    "    * It is assumed, that they are installed during the Python setup\n",
    "* matplotlib is set to print the output inline in the jupyter notebook"
   ]
  },
  {
   "cell_type": "code",
   "execution_count": 1,
   "metadata": {
    "scrolled": true
   },
   "outputs": [],
   "source": [
    "import os\n",
    "import tensorflow as tf\n",
    "import matplotlib.pyplot as plt\n",
    "import glob\n",
    "import numpy as np\n",
    "from sklearn.utils import shuffle\n",
    "from tensorflow.python import keras\n",
    "from tensorflow.python.keras import Sequential\n",
    "from tensorflow.python.keras.layers import Dense, InputLayer, Conv2D, MaxPool2D, Flatten, BatchNormalization\n",
    "from tensorflow.keras.preprocessing.image import ImageDataGenerator\n",
    "from sklearn.model_selection import train_test_split\n",
    "import tensorflow.keras.backend as K\n",
    "from tensorflow.keras.callbacks import History \n",
    "import math\n",
    "from PIL import Image \n",
    "\n",
    "loss_ges = np.array([])\n",
    "val_loss_ges = np.array([])\n",
    "\n",
    "%matplotlib inline\n",
    "np.set_printoptions(precision=4)\n",
    "np.set_printoptions(suppress=True)"
   ]
  },
  {
   "cell_type": "markdown",
   "metadata": {},
   "source": [
    "### Load training data\n",
    "* The data is expected in the \"Input_dir\"\n",
    "* Picture size must be 32x32 with 3 color channels (RGB)\n",
    "* The filename contains the informations needed for training in the first 3 digits::\n",
    "* Typical filename: \n",
    "    * x.y-zzzz.jpg \n",
    "    * e.g. \"4.6_Lfd-1406_zeiger3_2019-06-02T050011\"\n",
    "\n",
    "|Place holder | Meaning                     | Usage        |\n",
    "|------------- |-----------------------------|--------------|\n",
    "| **x.y**          | readout value               | **to be learned** |\n",
    "| zzzz        | additional information              | not needed   |\n",
    "\n",
    "* The images are stored in the x_data[]\n",
    "* The expected output for each image in the corresponding y_data[]\n",
    "    * The periodic nature is reflected in a **sin/cos coding**, which allows to restore the angle/counter value with an arctan later on.\n",
    "\n",
    "* The last step is a shuffle (from sklearn.utils) as the filenames are on order due to the encoding of the expected analog readout in the filename "
   ]
  },
  {
   "cell_type": "code",
   "execution_count": 2,
   "metadata": {},
   "outputs": [
    {
     "name": "stdout",
     "output_type": "stream",
     "text": [
      "(5063, 32, 32, 3)\n",
      "(5063, 2)\n"
     ]
    }
   ],
   "source": [
    "Input_dir='data_resize_all'\n",
    "\n",
    "files = glob.glob(Input_dir + '/*.*')\n",
    "x_data = []\n",
    "y_data = []\n",
    "\n",
    "for aktfile in files:\n",
    "    test_image = Image.open(aktfile)\n",
    "    test_image = np.array(test_image, dtype=\"float32\")\n",
    "    test_image = np.reshape(test_image, (32,32,3))\n",
    "    base = os.path.basename(aktfile)\n",
    "    target_number = (float(base[0:3])) / 10\n",
    "    target_sin = math.sin(target_number * math.pi * 2)\n",
    "    target_cos = math.cos(target_number * math.pi * 2)\n",
    "\n",
    "    x_data.append(test_image)\n",
    "    zw = np.array([target_sin, target_cos])\n",
    "    y_data.append(zw)\n",
    "\n",
    "x_data = np.array(x_data)\n",
    "y_data = np.array(y_data)\n",
    "print(x_data.shape)\n",
    "print(y_data.shape)\n",
    "\n",
    "x_data, y_data = shuffle(x_data, y_data)\n",
    "X_train, X_test, y_train, y_test = train_test_split(x_data, y_data, test_size=0.1)"
   ]
  },
  {
   "cell_type": "markdown",
   "metadata": {},
   "source": [
    "### Define the model\n",
    "\n",
    "The layout of the network ist a typcial CNN network with alternating **Conv2D** and **MaxPool2D** layers. Finished after **flattening** with additional **Dense** layer.\n",
    "\n",
    "#### Important\n",
    "* Shape of the input layer: (32, 32, 3)\n",
    "* Shape of the output layer: (2) - sin and cos"
   ]
  },
  {
   "cell_type": "code",
   "execution_count": 3,
   "metadata": {
    "scrolled": true
   },
   "outputs": [
    {
     "name": "stdout",
     "output_type": "stream",
     "text": [
      "Model: \"sequential\"\n",
      "_________________________________________________________________\n",
      "Layer (type)                 Output Shape              Param #   \n",
      "=================================================================\n",
      "batch_normalization (BatchNo (None, 32, 32, 3)         12        \n",
      "_________________________________________________________________\n",
      "conv2d (Conv2D)              (None, 32, 32, 32)        2432      \n",
      "_________________________________________________________________\n",
      "max_pooling2d (MaxPooling2D) (None, 8, 8, 32)          0         \n",
      "_________________________________________________________________\n",
      "conv2d_1 (Conv2D)            (None, 8, 8, 32)          25632     \n",
      "_________________________________________________________________\n",
      "max_pooling2d_1 (MaxPooling2 (None, 2, 2, 32)          0         \n",
      "_________________________________________________________________\n",
      "conv2d_2 (Conv2D)            (None, 2, 2, 32)          9248      \n",
      "_________________________________________________________________\n",
      "max_pooling2d_2 (MaxPooling2 (None, 1, 1, 32)          0         \n",
      "_________________________________________________________________\n",
      "flatten (Flatten)            (None, 32)                0         \n",
      "_________________________________________________________________\n",
      "dense (Dense)                (None, 128)               4224      \n",
      "_________________________________________________________________\n",
      "dense_1 (Dense)              (None, 64)                8256      \n",
      "_________________________________________________________________\n",
      "dense_2 (Dense)              (None, 2)                 130       \n",
      "=================================================================\n",
      "Total params: 49,934\n",
      "Trainable params: 49,928\n",
      "Non-trainable params: 6\n",
      "_________________________________________________________________\n"
     ]
    }
   ],
   "source": [
    "model = Sequential()\n",
    "model.add(BatchNormalization(input_shape=(32,32,3)))\n",
    "model.add(Conv2D(32, (5, 5), input_shape=(32,32,3), padding='same', activation=\"relu\"))\n",
    "model.add(MaxPool2D(pool_size=(4,4)))\n",
    "model.add(Conv2D(32, (5, 5), padding='same', activation=\"relu\"))\n",
    "model.add(MaxPool2D(pool_size=(4,4)))\n",
    "model.add(Conv2D(32, (3, 3), padding='same', activation=\"relu\"))\n",
    "model.add(MaxPool2D(pool_size=(2,2)))\n",
    "model.add(Flatten())\n",
    "model.add(Dense(128,activation=\"relu\"))\n",
    "model.add(Dense(64,activation=\"relu\"))\n",
    "model.add(Dense(2))\n",
    "model.summary()\n",
    "\n",
    "model.compile(loss=keras.losses.mean_squared_error, optimizer=tf.keras.optimizers.Adadelta(learning_rate=1.0, rho=0.95), metrics = [\"accuracy\"])"
   ]
  },
  {
   "cell_type": "markdown",
   "metadata": {},
   "source": [
    "# Training\n",
    "The input pictures are randomly scattered for brightness and pixel shift variations. These is implemented with a ImageDataGenerator.\n",
    "\n",
    "\n",
    "The training is splitted into two steps:\n",
    "1. Variation of the brightness only\n",
    "2. Variation of brightness and Pixel Shift"
   ]
  },
  {
   "cell_type": "markdown",
   "metadata": {},
   "source": [
    "### Step 1: Brigthness scattering only"
   ]
  },
  {
   "cell_type": "code",
   "execution_count": 4,
   "metadata": {},
   "outputs": [
    {
     "name": "stdout",
     "output_type": "stream",
     "text": [
      "WARNING:tensorflow:From <ipython-input-4-9f5ba6453a73>:11: Model.fit_generator (from tensorflow.python.keras.engine.training) is deprecated and will be removed in a future version.\n",
      "Instructions for updating:\n",
      "Please use Model.fit, which supports generators.\n",
      "Epoch 1/30\n",
      "570/570 [==============================] - 6s 10ms/step - loss: 0.1372 - accuracy: 0.8529 - val_loss: 0.0107 - val_accuracy: 0.9842\n",
      "Epoch 2/30\n",
      "570/570 [==============================] - 6s 10ms/step - loss: 0.0139 - accuracy: 0.9653 - val_loss: 0.0059 - val_accuracy: 0.9882\n",
      "Epoch 3/30\n",
      "570/570 [==============================] - 6s 10ms/step - loss: 0.0090 - accuracy: 0.9719 - val_loss: 0.0077 - val_accuracy: 0.9744\n",
      "Epoch 4/30\n",
      "570/570 [==============================] - 6s 10ms/step - loss: 0.0058 - accuracy: 0.9743 - val_loss: 0.0030 - val_accuracy: 0.9803\n",
      "Epoch 5/30\n",
      "570/570 [==============================] - 6s 10ms/step - loss: 0.0043 - accuracy: 0.9763 - val_loss: 0.0041 - val_accuracy: 0.9882\n",
      "Epoch 6/30\n",
      "570/570 [==============================] - 6s 10ms/step - loss: 0.0033 - accuracy: 0.9811 - val_loss: 0.0030 - val_accuracy: 0.9882\n",
      "Epoch 7/30\n",
      "570/570 [==============================] - 6s 10ms/step - loss: 0.0027 - accuracy: 0.9816 - val_loss: 0.0024 - val_accuracy: 0.9842\n",
      "Epoch 8/30\n",
      "570/570 [==============================] - 6s 10ms/step - loss: 0.0023 - accuracy: 0.9835 - val_loss: 0.0024 - val_accuracy: 0.9862\n",
      "Epoch 9/30\n",
      "570/570 [==============================] - 6s 10ms/step - loss: 0.0020 - accuracy: 0.9831 - val_loss: 0.0018 - val_accuracy: 0.9842\n",
      "Epoch 10/30\n",
      "570/570 [==============================] - 6s 10ms/step - loss: 0.0018 - accuracy: 0.9844 - val_loss: 0.0023 - val_accuracy: 0.9862\n",
      "Epoch 11/30\n",
      "570/570 [==============================] - 5s 10ms/step - loss: 0.0016 - accuracy: 0.9875 - val_loss: 0.0016 - val_accuracy: 0.9882\n",
      "Epoch 12/30\n",
      "570/570 [==============================] - 6s 10ms/step - loss: 0.0015 - accuracy: 0.9860 - val_loss: 0.0017 - val_accuracy: 0.9842\n",
      "Epoch 13/30\n",
      "570/570 [==============================] - 5s 9ms/step - loss: 0.0014 - accuracy: 0.9838 - val_loss: 0.0019 - val_accuracy: 0.9862\n",
      "Epoch 14/30\n",
      "570/570 [==============================] - 5s 10ms/step - loss: 0.0014 - accuracy: 0.9849 - val_loss: 0.0015 - val_accuracy: 0.9822\n",
      "Epoch 15/30\n",
      "570/570 [==============================] - 5s 9ms/step - loss: 0.0012 - accuracy: 0.9866 - val_loss: 0.0020 - val_accuracy: 0.9842\n",
      "Epoch 16/30\n",
      "570/570 [==============================] - 5s 9ms/step - loss: 0.0012 - accuracy: 0.9873 - val_loss: 0.0017 - val_accuracy: 0.9862\n",
      "Epoch 17/30\n",
      "570/570 [==============================] - 6s 10ms/step - loss: 0.0011 - accuracy: 0.9862 - val_loss: 0.0012 - val_accuracy: 0.9862\n",
      "Epoch 18/30\n",
      "570/570 [==============================] - 6s 10ms/step - loss: 0.0010 - accuracy: 0.9890 - val_loss: 0.0013 - val_accuracy: 0.9822\n",
      "Epoch 19/30\n",
      "570/570 [==============================] - 6s 10ms/step - loss: 9.7101e-04 - accuracy: 0.9888 - val_loss: 0.0011 - val_accuracy: 0.9882\n",
      "Epoch 20/30\n",
      "570/570 [==============================] - 6s 10ms/step - loss: 9.7878e-04 - accuracy: 0.9897 - val_loss: 0.0013 - val_accuracy: 0.9803\n",
      "Epoch 21/30\n",
      "570/570 [==============================] - 6s 10ms/step - loss: 8.9183e-04 - accuracy: 0.9890 - val_loss: 0.0016 - val_accuracy: 0.9783\n",
      "Epoch 22/30\n",
      "570/570 [==============================] - 6s 10ms/step - loss: 9.2422e-04 - accuracy: 0.9875 - val_loss: 0.0013 - val_accuracy: 0.9882\n",
      "Epoch 23/30\n",
      "570/570 [==============================] - 6s 10ms/step - loss: 8.7932e-04 - accuracy: 0.9881 - val_loss: 0.0015 - val_accuracy: 0.9842\n",
      "Epoch 24/30\n",
      "570/570 [==============================] - 6s 10ms/step - loss: 8.5394e-04 - accuracy: 0.9886 - val_loss: 0.0010 - val_accuracy: 0.9901\n",
      "Epoch 25/30\n",
      "570/570 [==============================] - 6s 10ms/step - loss: 8.2201e-04 - accuracy: 0.9881 - val_loss: 0.0012 - val_accuracy: 0.9862\n",
      "Epoch 26/30\n",
      "570/570 [==============================] - 6s 10ms/step - loss: 7.8682e-04 - accuracy: 0.9917 - val_loss: 9.8292e-04 - val_accuracy: 0.9862\n",
      "Epoch 27/30\n",
      "570/570 [==============================] - 6s 10ms/step - loss: 7.5220e-04 - accuracy: 0.9892 - val_loss: 0.0011 - val_accuracy: 0.9882\n",
      "Epoch 28/30\n",
      "570/570 [==============================] - 5s 9ms/step - loss: 7.3469e-04 - accuracy: 0.9919 - val_loss: 0.0011 - val_accuracy: 0.9842\n",
      "Epoch 29/30\n",
      "570/570 [==============================] - 5s 9ms/step - loss: 7.0938e-04 - accuracy: 0.9903 - val_loss: 0.0012 - val_accuracy: 0.9862\n",
      "Epoch 30/30\n",
      "570/570 [==============================] - 6s 10ms/step - loss: 7.2582e-04 - accuracy: 0.9884 - val_loss: 8.6214e-04 - val_accuracy: 0.9882\n"
     ]
    }
   ],
   "source": [
    "Batch_Size = 8\n",
    "Epoch_Anz = 30\n",
    "Shift_Range = 0\n",
    "Brightness_Range = 0.3\n",
    "\n",
    "datagen = ImageDataGenerator(width_shift_range=[-Shift_Range,Shift_Range], height_shift_range=[-Shift_Range,Shift_Range],brightness_range=[1-Brightness_Range,1+Brightness_Range])\n",
    "\n",
    "train_iterator = datagen.flow(X_train, y_train, batch_size=Batch_Size)\n",
    "validation_iterator = datagen.flow(X_test, y_test, batch_size=Batch_Size)\n",
    "\n",
    "history = model.fit_generator(train_iterator, validation_data = validation_iterator, epochs = Epoch_Anz)"
   ]
  },
  {
   "cell_type": "markdown",
   "metadata": {},
   "source": [
    "### Step 1: Learing result\n",
    " \n",
    "* Visualization of the training and validation results"
   ]
  },
  {
   "cell_type": "code",
   "execution_count": 5,
   "metadata": {},
   "outputs": [
    {
     "data": {
      "image/png": "[encoded data removed]",
      "text/plain": [
       "<Figure size 432x288 with 1 Axes>"
      ]
     },
     "metadata": {
      "needs_background": "light"
     },
     "output_type": "display_data"
    }
   ],
   "source": [
    "loss_ges = np.append(loss_ges, history.history['loss'])\n",
    "val_loss_ges = np.append(val_loss_ges, history.history['val_loss'])\n",
    "\n",
    "plt.semilogy(history.history['loss'])\n",
    "plt.semilogy(history.history['val_loss'])\n",
    "plt.title('model loss')\n",
    "plt.ylabel('loss')\n",
    "plt.xlabel('epoch')\n",
    "plt.legend(['train','eval'], loc='upper left')\n",
    "plt.show()"
   ]
  },
  {
   "cell_type": "markdown",
   "metadata": {},
   "source": [
    "### Step 2: Brigthness and Pixel Shift scattering\n",
    "Here a higher number of epochs is used to reach the minimum loss function"
   ]
  },
  {
   "cell_type": "code",
   "execution_count": 6,
   "metadata": {},
   "outputs": [
    {
     "name": "stdout",
     "output_type": "stream",
     "text": [
      "Epoch 1/160\n",
      "570/570 [==============================] - 6s 11ms/step - loss: 0.0344 - accuracy: 0.9280 - val_loss: 0.0069 - val_accuracy: 0.9763\n",
      "Epoch 2/160\n",
      "570/570 [==============================] - 6s 11ms/step - loss: 0.0069 - accuracy: 0.9671 - val_loss: 0.0053 - val_accuracy: 0.9783\n",
      "Epoch 3/160\n",
      "570/570 [==============================] - 7s 12ms/step - loss: 0.0052 - accuracy: 0.9750 - val_loss: 0.0039 - val_accuracy: 0.9783\n",
      "Epoch 4/160\n",
      "570/570 [==============================] - 7s 12ms/step - loss: 0.0036 - accuracy: 0.9752 - val_loss: 0.0033 - val_accuracy: 0.9882\n",
      "Epoch 5/160\n",
      "570/570 [==============================] - 6s 11ms/step - loss: 0.0033 - accuracy: 0.9785 - val_loss: 0.0028 - val_accuracy: 0.9803\n",
      "Epoch 6/160\n",
      "570/570 [==============================] - 6s 11ms/step - loss: 0.0027 - accuracy: 0.9813 - val_loss: 0.0025 - val_accuracy: 0.9921\n",
      "Epoch 7/160\n",
      "570/570 [==============================] - 6s 11ms/step - loss: 0.0025 - accuracy: 0.9831 - val_loss: 0.0027 - val_accuracy: 0.9783\n",
      "Epoch 8/160\n",
      "570/570 [==============================] - 6s 11ms/step - loss: 0.0023 - accuracy: 0.9811 - val_loss: 0.0022 - val_accuracy: 0.9862\n",
      "Epoch 9/160\n",
      "570/570 [==============================] - 6s 11ms/step - loss: 0.0020 - accuracy: 0.9831 - val_loss: 0.0018 - val_accuracy: 0.9862\n",
      "Epoch 10/160\n",
      "570/570 [==============================] - 6s 11ms/step - loss: 0.0020 - accuracy: 0.9844 - val_loss: 0.0019 - val_accuracy: 0.9882\n",
      "Epoch 11/160\n",
      "570/570 [==============================] - 6s 11ms/step - loss: 0.0018 - accuracy: 0.9851 - val_loss: 0.0017 - val_accuracy: 0.9822\n",
      "Epoch 12/160\n",
      "570/570 [==============================] - 6s 11ms/step - loss: 0.0017 - accuracy: 0.9851 - val_loss: 0.0014 - val_accuracy: 0.9921\n",
      "Epoch 13/160\n",
      "570/570 [==============================] - 6s 10ms/step - loss: 0.0017 - accuracy: 0.9829 - val_loss: 0.0017 - val_accuracy: 0.9921\n",
      "Epoch 14/160\n",
      "570/570 [==============================] - 6s 10ms/step - loss: 0.0015 - accuracy: 0.9855 - val_loss: 0.0014 - val_accuracy: 0.9882\n",
      "Epoch 15/160\n",
      "570/570 [==============================] - 6s 10ms/step - loss: 0.0015 - accuracy: 0.9866 - val_loss: 0.0016 - val_accuracy: 0.9882\n",
      "Epoch 16/160\n",
      "570/570 [==============================] - 6s 10ms/step - loss: 0.0015 - accuracy: 0.9857 - val_loss: 0.0015 - val_accuracy: 0.9901\n",
      "Epoch 17/160\n",
      "570/570 [==============================] - 6s 10ms/step - loss: 0.0014 - accuracy: 0.9862 - val_loss: 0.0016 - val_accuracy: 0.9901\n",
      "Epoch 18/160\n",
      "570/570 [==============================] - 6s 10ms/step - loss: 0.0014 - accuracy: 0.9860 - val_loss: 0.0012 - val_accuracy: 0.9862\n",
      "Epoch 19/160\n",
      "570/570 [==============================] - 6s 10ms/step - loss: 0.0013 - accuracy: 0.9888 - val_loss: 0.0016 - val_accuracy: 0.9803\n",
      "Epoch 20/160\n",
      "570/570 [==============================] - 6s 11ms/step - loss: 0.0013 - accuracy: 0.9849 - val_loss: 0.0016 - val_accuracy: 0.9862\n",
      "Epoch 21/160\n",
      "570/570 [==============================] - 6s 10ms/step - loss: 0.0012 - accuracy: 0.9866 - val_loss: 0.0014 - val_accuracy: 0.9901\n",
      "Epoch 22/160\n",
      "570/570 [==============================] - 6s 10ms/step - loss: 0.0012 - accuracy: 0.9853 - val_loss: 0.0032 - val_accuracy: 0.9803\n",
      "Epoch 23/160\n",
      "570/570 [==============================] - 6s 11ms/step - loss: 0.0012 - accuracy: 0.9886 - val_loss: 0.0013 - val_accuracy: 0.9822\n",
      "Epoch 24/160\n",
      "570/570 [==============================] - 6s 10ms/step - loss: 0.0012 - accuracy: 0.9877 - val_loss: 0.0013 - val_accuracy: 0.9862\n",
      "Epoch 25/160\n",
      "570/570 [==============================] - 6s 10ms/step - loss: 0.0011 - accuracy: 0.9866 - val_loss: 0.0014 - val_accuracy: 0.9862\n",
      "Epoch 26/160\n",
      "570/570 [==============================] - 6s 10ms/step - loss: 0.0011 - accuracy: 0.9864 - val_loss: 0.0013 - val_accuracy: 0.9901\n",
      "Epoch 27/160\n",
      "570/570 [==============================] - 6s 11ms/step - loss: 0.0010 - accuracy: 0.9890 - val_loss: 0.0014 - val_accuracy: 0.9862\n",
      "Epoch 28/160\n",
      "570/570 [==============================] - 6s 11ms/step - loss: 0.0010 - accuracy: 0.9886 - val_loss: 0.0013 - val_accuracy: 0.9842\n",
      "Epoch 29/160\n",
      "570/570 [==============================] - 6s 10ms/step - loss: 0.0010 - accuracy: 0.9886 - val_loss: 0.0014 - val_accuracy: 0.9862\n",
      "Epoch 30/160\n",
      "570/570 [==============================] - 6s 10ms/step - loss: 0.0010 - accuracy: 0.9881 - val_loss: 0.0012 - val_accuracy: 0.9882\n",
      "Epoch 31/160\n",
      "570/570 [==============================] - 6s 10ms/step - loss: 0.0010 - accuracy: 0.9862 - val_loss: 0.0014 - val_accuracy: 0.9901\n",
      "Epoch 32/160\n",
      "570/570 [==============================] - 6s 10ms/step - loss: 9.8789e-04 - accuracy: 0.9864 - val_loss: 0.0014 - val_accuracy: 0.9901\n",
      "Epoch 33/160\n",
      "570/570 [==============================] - 6s 10ms/step - loss: 9.4272e-04 - accuracy: 0.9877 - val_loss: 0.0011 - val_accuracy: 0.9921\n",
      "Epoch 34/160\n",
      "570/570 [==============================] - 6s 10ms/step - loss: 9.5918e-04 - accuracy: 0.9881 - val_loss: 0.0013 - val_accuracy: 0.9803\n",
      "Epoch 35/160\n",
      "570/570 [==============================] - 6s 10ms/step - loss: 9.3137e-04 - accuracy: 0.9868 - val_loss: 0.0013 - val_accuracy: 0.9921\n",
      "Epoch 36/160\n",
      "570/570 [==============================] - 6s 10ms/step - loss: 9.5534e-04 - accuracy: 0.9868 - val_loss: 0.0013 - val_accuracy: 0.9901\n",
      "Epoch 37/160\n",
      "570/570 [==============================] - 6s 11ms/step - loss: 9.0350e-04 - accuracy: 0.9895 - val_loss: 0.0014 - val_accuracy: 0.9882\n",
      "Epoch 38/160\n",
      "570/570 [==============================] - 6s 11ms/step - loss: 9.0058e-04 - accuracy: 0.9901 - val_loss: 0.0014 - val_accuracy: 0.9803\n",
      "Epoch 39/160\n",
      "570/570 [==============================] - 6s 11ms/step - loss: 8.9991e-04 - accuracy: 0.9888 - val_loss: 0.0011 - val_accuracy: 0.9882\n",
      "Epoch 40/160\n",
      "570/570 [==============================] - 6s 11ms/step - loss: 8.8609e-04 - accuracy: 0.9892 - val_loss: 0.0011 - val_accuracy: 0.9882\n",
      "Epoch 41/160\n",
      "570/570 [==============================] - 6s 11ms/step - loss: 8.3719e-04 - accuracy: 0.9906 - val_loss: 0.0011 - val_accuracy: 0.9862\n",
      "Epoch 42/160\n",
      "570/570 [==============================] - 7s 12ms/step - loss: 8.8568e-04 - accuracy: 0.9890 - val_loss: 0.0010 - val_accuracy: 0.9882\n",
      "Epoch 43/160\n",
      "570/570 [==============================] - 6s 11ms/step - loss: 8.5931e-04 - accuracy: 0.9884 - val_loss: 0.0011 - val_accuracy: 0.9901\n",
      "Epoch 44/160\n",
      "570/570 [==============================] - 6s 10ms/step - loss: 8.1530e-04 - accuracy: 0.9910 - val_loss: 0.0010 - val_accuracy: 0.9862\n",
      "Epoch 45/160\n",
      "570/570 [==============================] - 6s 10ms/step - loss: 8.7066e-04 - accuracy: 0.9877 - val_loss: 0.0013 - val_accuracy: 0.9783\n",
      "Epoch 46/160\n",
      "570/570 [==============================] - 6s 10ms/step - loss: 8.2982e-04 - accuracy: 0.9892 - val_loss: 0.0012 - val_accuracy: 0.9862\n",
      "Epoch 47/160\n",
      "570/570 [==============================] - 6s 11ms/step - loss: 8.3013e-04 - accuracy: 0.9888 - val_loss: 8.9163e-04 - val_accuracy: 0.9921\n",
      "Epoch 48/160\n",
      "570/570 [==============================] - 6s 11ms/step - loss: 8.0850e-04 - accuracy: 0.9897 - val_loss: 0.0015 - val_accuracy: 0.9901\n",
      "Epoch 49/160\n",
      "570/570 [==============================] - 6s 11ms/step - loss: 7.8016e-04 - accuracy: 0.9888 - val_loss: 0.0012 - val_accuracy: 0.9842\n",
      "Epoch 50/160\n",
      "570/570 [==============================] - 6s 11ms/step - loss: 7.9562e-04 - accuracy: 0.9890 - val_loss: 0.0011 - val_accuracy: 0.9882\n",
      "Epoch 51/160\n",
      "570/570 [==============================] - 6s 10ms/step - loss: 7.6387e-04 - accuracy: 0.9901 - val_loss: 9.4323e-04 - val_accuracy: 0.9882\n",
      "Epoch 52/160\n",
      "570/570 [==============================] - 6s 11ms/step - loss: 7.6935e-04 - accuracy: 0.9890 - val_loss: 0.0012 - val_accuracy: 0.9901\n",
      "Epoch 53/160\n",
      "570/570 [==============================] - 6s 10ms/step - loss: 8.1377e-04 - accuracy: 0.9906 - val_loss: 0.0011 - val_accuracy: 0.9862\n",
      "Epoch 54/160\n",
      "570/570 [==============================] - 6s 10ms/step - loss: 7.4831e-04 - accuracy: 0.9899 - val_loss: 0.0015 - val_accuracy: 0.9882\n",
      "Epoch 55/160\n",
      "570/570 [==============================] - 6s 11ms/step - loss: 7.3794e-04 - accuracy: 0.9901 - val_loss: 0.0011 - val_accuracy: 0.9822\n",
      "Epoch 56/160\n",
      "570/570 [==============================] - 6s 10ms/step - loss: 7.5869e-04 - accuracy: 0.9875 - val_loss: 8.7001e-04 - val_accuracy: 0.9862\n"
     ]
    },
    {
     "name": "stdout",
     "output_type": "stream",
     "text": [
      "Epoch 57/160\n",
      "570/570 [==============================] - 6s 10ms/step - loss: 7.3859e-04 - accuracy: 0.9912 - val_loss: 0.0010 - val_accuracy: 0.9882\n",
      "Epoch 58/160\n",
      "570/570 [==============================] - 6s 10ms/step - loss: 7.3747e-04 - accuracy: 0.9899 - val_loss: 0.0010 - val_accuracy: 0.9901\n",
      "Epoch 59/160\n",
      "570/570 [==============================] - 6s 10ms/step - loss: 7.2822e-04 - accuracy: 0.9917 - val_loss: 9.6421e-04 - val_accuracy: 0.9901\n",
      "Epoch 60/160\n",
      "570/570 [==============================] - 6s 11ms/step - loss: 7.4530e-04 - accuracy: 0.9901 - val_loss: 0.0012 - val_accuracy: 0.9862\n",
      "Epoch 61/160\n",
      "570/570 [==============================] - 6s 10ms/step - loss: 7.3770e-04 - accuracy: 0.9928 - val_loss: 0.0010 - val_accuracy: 0.9862\n",
      "Epoch 62/160\n",
      "570/570 [==============================] - 6s 10ms/step - loss: 7.1195e-04 - accuracy: 0.9903 - val_loss: 9.4463e-04 - val_accuracy: 0.9901\n",
      "Epoch 63/160\n",
      "570/570 [==============================] - 6s 10ms/step - loss: 7.1997e-04 - accuracy: 0.9903 - val_loss: 0.0013 - val_accuracy: 0.9882\n",
      "Epoch 64/160\n",
      "570/570 [==============================] - 6s 10ms/step - loss: 7.0835e-04 - accuracy: 0.9914 - val_loss: 0.0013 - val_accuracy: 0.9882\n",
      "Epoch 65/160\n",
      "570/570 [==============================] - 6s 10ms/step - loss: 6.8760e-04 - accuracy: 0.9908 - val_loss: 9.5489e-04 - val_accuracy: 0.9862\n",
      "Epoch 66/160\n",
      "570/570 [==============================] - 6s 11ms/step - loss: 6.8960e-04 - accuracy: 0.9897 - val_loss: 0.0013 - val_accuracy: 0.9921\n",
      "Epoch 67/160\n",
      "570/570 [==============================] - 6s 11ms/step - loss: 7.1066e-04 - accuracy: 0.9908 - val_loss: 0.0010 - val_accuracy: 0.9901\n",
      "Epoch 68/160\n",
      "570/570 [==============================] - 6s 10ms/step - loss: 6.7665e-04 - accuracy: 0.9912 - val_loss: 0.0012 - val_accuracy: 0.9901\n",
      "Epoch 69/160\n",
      "570/570 [==============================] - 6s 11ms/step - loss: 6.7978e-04 - accuracy: 0.9906 - val_loss: 0.0012 - val_accuracy: 0.9862\n",
      "Epoch 70/160\n",
      "570/570 [==============================] - 6s 10ms/step - loss: 6.6062e-04 - accuracy: 0.9892 - val_loss: 0.0011 - val_accuracy: 0.9862\n",
      "Epoch 71/160\n",
      "570/570 [==============================] - 6s 11ms/step - loss: 6.7783e-04 - accuracy: 0.9917 - val_loss: 0.0011 - val_accuracy: 0.9862\n",
      "Epoch 72/160\n",
      "570/570 [==============================] - 6s 11ms/step - loss: 6.5491e-04 - accuracy: 0.9901 - val_loss: 9.8559e-04 - val_accuracy: 0.9882\n",
      "Epoch 73/160\n",
      "570/570 [==============================] - 6s 11ms/step - loss: 6.6483e-04 - accuracy: 0.9897 - val_loss: 0.0014 - val_accuracy: 0.9842\n",
      "Epoch 74/160\n",
      "570/570 [==============================] - 6s 11ms/step - loss: 6.5264e-04 - accuracy: 0.9888 - val_loss: 9.0669e-04 - val_accuracy: 0.9901\n",
      "Epoch 75/160\n",
      "570/570 [==============================] - 6s 10ms/step - loss: 6.0831e-04 - accuracy: 0.9910 - val_loss: 0.0012 - val_accuracy: 0.9901\n",
      "Epoch 76/160\n",
      "570/570 [==============================] - 6s 10ms/step - loss: 6.6119e-04 - accuracy: 0.9912 - val_loss: 9.9741e-04 - val_accuracy: 0.9862\n",
      "Epoch 77/160\n",
      "570/570 [==============================] - 6s 10ms/step - loss: 6.5939e-04 - accuracy: 0.9906 - val_loss: 9.9983e-04 - val_accuracy: 0.9862\n",
      "Epoch 78/160\n",
      "570/570 [==============================] - 6s 10ms/step - loss: 6.3130e-04 - accuracy: 0.9897 - val_loss: 8.7640e-04 - val_accuracy: 0.9842\n",
      "Epoch 79/160\n",
      "570/570 [==============================] - 6s 10ms/step - loss: 6.4948e-04 - accuracy: 0.9919 - val_loss: 0.0010 - val_accuracy: 0.9901\n",
      "Epoch 80/160\n",
      "570/570 [==============================] - 6s 10ms/step - loss: 6.2169e-04 - accuracy: 0.9897 - val_loss: 9.3475e-04 - val_accuracy: 0.9822\n",
      "Epoch 81/160\n",
      "570/570 [==============================] - 6s 10ms/step - loss: 6.1941e-04 - accuracy: 0.9921 - val_loss: 0.0012 - val_accuracy: 0.9882\n",
      "Epoch 82/160\n",
      "570/570 [==============================] - 6s 11ms/step - loss: 6.2471e-04 - accuracy: 0.9899 - val_loss: 0.0011 - val_accuracy: 0.9882\n",
      "Epoch 83/160\n",
      "570/570 [==============================] - 6s 10ms/step - loss: 6.3901e-04 - accuracy: 0.9892 - val_loss: 9.2131e-04 - val_accuracy: 0.9882\n",
      "Epoch 84/160\n",
      "570/570 [==============================] - 6s 11ms/step - loss: 6.0671e-04 - accuracy: 0.9912 - val_loss: 9.5991e-04 - val_accuracy: 0.9862\n",
      "Epoch 85/160\n",
      "570/570 [==============================] - 6s 11ms/step - loss: 6.2534e-04 - accuracy: 0.9917 - val_loss: 9.8448e-04 - val_accuracy: 0.9842\n",
      "Epoch 86/160\n",
      "570/570 [==============================] - 6s 11ms/step - loss: 6.2901e-04 - accuracy: 0.9914 - val_loss: 8.6261e-04 - val_accuracy: 0.9921\n",
      "Epoch 87/160\n",
      "570/570 [==============================] - 6s 11ms/step - loss: 6.1000e-04 - accuracy: 0.9917 - val_loss: 0.0014 - val_accuracy: 0.9882\n",
      "Epoch 88/160\n",
      "570/570 [==============================] - 6s 10ms/step - loss: 6.0897e-04 - accuracy: 0.9921 - val_loss: 9.6749e-04 - val_accuracy: 0.9901\n",
      "Epoch 89/160\n",
      "570/570 [==============================] - 6s 10ms/step - loss: 6.1765e-04 - accuracy: 0.9886 - val_loss: 9.1835e-04 - val_accuracy: 0.9882\n",
      "Epoch 90/160\n",
      "570/570 [==============================] - 6s 10ms/step - loss: 5.8229e-04 - accuracy: 0.9914 - val_loss: 0.0011 - val_accuracy: 0.9862\n",
      "Epoch 91/160\n",
      "570/570 [==============================] - 6s 10ms/step - loss: 6.2581e-04 - accuracy: 0.9901 - val_loss: 8.3014e-04 - val_accuracy: 0.9901\n",
      "Epoch 92/160\n",
      "570/570 [==============================] - 6s 10ms/step - loss: 5.7765e-04 - accuracy: 0.9912 - val_loss: 8.4697e-04 - val_accuracy: 0.9882\n",
      "Epoch 93/160\n",
      "570/570 [==============================] - 6s 11ms/step - loss: 5.9029e-04 - accuracy: 0.9923 - val_loss: 0.0010 - val_accuracy: 0.9882\n",
      "Epoch 94/160\n",
      "570/570 [==============================] - 6s 10ms/step - loss: 6.0364e-04 - accuracy: 0.9912 - val_loss: 0.0012 - val_accuracy: 0.9882\n",
      "Epoch 95/160\n",
      "570/570 [==============================] - 6s 10ms/step - loss: 6.0964e-04 - accuracy: 0.9910 - val_loss: 0.0011 - val_accuracy: 0.9882\n",
      "Epoch 96/160\n",
      "570/570 [==============================] - 6s 10ms/step - loss: 5.7641e-04 - accuracy: 0.9908 - val_loss: 0.0012 - val_accuracy: 0.9901\n",
      "Epoch 97/160\n",
      "570/570 [==============================] - 6s 10ms/step - loss: 5.8389e-04 - accuracy: 0.9901 - val_loss: 9.6853e-04 - val_accuracy: 0.9901\n",
      "Epoch 98/160\n",
      "570/570 [==============================] - 6s 10ms/step - loss: 5.6537e-04 - accuracy: 0.9925 - val_loss: 9.2496e-04 - val_accuracy: 0.9882\n",
      "Epoch 99/160\n",
      "570/570 [==============================] - 6s 10ms/step - loss: 5.6720e-04 - accuracy: 0.9912 - val_loss: 0.0012 - val_accuracy: 0.9862\n",
      "Epoch 100/160\n",
      "570/570 [==============================] - 6s 11ms/step - loss: 5.8013e-04 - accuracy: 0.9912 - val_loss: 9.5691e-04 - val_accuracy: 0.9882\n",
      "Epoch 101/160\n",
      "570/570 [==============================] - 6s 11ms/step - loss: 5.4279e-04 - accuracy: 0.9917 - val_loss: 8.6183e-04 - val_accuracy: 0.9901\n",
      "Epoch 102/160\n",
      "570/570 [==============================] - 6s 11ms/step - loss: 5.7400e-04 - accuracy: 0.9899 - val_loss: 8.4149e-04 - val_accuracy: 0.9901\n",
      "Epoch 103/160\n",
      "570/570 [==============================] - 6s 11ms/step - loss: 5.4621e-04 - accuracy: 0.9910 - val_loss: 8.2930e-04 - val_accuracy: 0.9901\n",
      "Epoch 104/160\n",
      "570/570 [==============================] - 6s 11ms/step - loss: 5.7336e-04 - accuracy: 0.9919 - val_loss: 7.9003e-04 - val_accuracy: 0.9901\n",
      "Epoch 105/160\n",
      "570/570 [==============================] - 6s 10ms/step - loss: 5.5214e-04 - accuracy: 0.9906 - val_loss: 0.0011 - val_accuracy: 0.9882\n",
      "Epoch 106/160\n",
      "570/570 [==============================] - 6s 10ms/step - loss: 5.4240e-04 - accuracy: 0.9903 - val_loss: 0.0010 - val_accuracy: 0.9862\n",
      "Epoch 107/160\n",
      "570/570 [==============================] - 6s 10ms/step - loss: 5.4533e-04 - accuracy: 0.9912 - val_loss: 0.0011 - val_accuracy: 0.9862\n",
      "Epoch 108/160\n",
      "570/570 [==============================] - 6s 10ms/step - loss: 5.4364e-04 - accuracy: 0.9908 - val_loss: 9.4801e-04 - val_accuracy: 0.9842\n",
      "Epoch 109/160\n",
      "570/570 [==============================] - 6s 11ms/step - loss: 5.4362e-04 - accuracy: 0.9921 - val_loss: 9.9616e-04 - val_accuracy: 0.9862\n",
      "Epoch 110/160\n",
      "570/570 [==============================] - 6s 10ms/step - loss: 5.2709e-04 - accuracy: 0.9912 - val_loss: 7.9244e-04 - val_accuracy: 0.9901\n",
      "Epoch 111/160\n"
     ]
    },
    {
     "name": "stdout",
     "output_type": "stream",
     "text": [
      "570/570 [==============================] - 6s 10ms/step - loss: 5.6375e-04 - accuracy: 0.9921 - val_loss: 9.6219e-04 - val_accuracy: 0.9882\n",
      "Epoch 112/160\n",
      "570/570 [==============================] - 6s 10ms/step - loss: 5.4850e-04 - accuracy: 0.9925 - val_loss: 0.0012 - val_accuracy: 0.9862\n",
      "Epoch 113/160\n",
      "570/570 [==============================] - 6s 10ms/step - loss: 5.3528e-04 - accuracy: 0.9923 - val_loss: 8.6875e-04 - val_accuracy: 0.9921\n",
      "Epoch 114/160\n",
      "570/570 [==============================] - 6s 10ms/step - loss: 5.3116e-04 - accuracy: 0.9925 - val_loss: 0.0014 - val_accuracy: 0.9901\n",
      "Epoch 115/160\n",
      "570/570 [==============================] - 6s 10ms/step - loss: 5.3797e-04 - accuracy: 0.9917 - val_loss: 8.6234e-04 - val_accuracy: 0.9901\n",
      "Epoch 116/160\n",
      "570/570 [==============================] - 6s 11ms/step - loss: 5.3454e-04 - accuracy: 0.9917 - val_loss: 9.5130e-04 - val_accuracy: 0.9882\n",
      "Epoch 117/160\n",
      "570/570 [==============================] - 6s 11ms/step - loss: 5.0976e-04 - accuracy: 0.9914 - val_loss: 8.2652e-04 - val_accuracy: 0.9901\n",
      "Epoch 118/160\n",
      "570/570 [==============================] - 6s 10ms/step - loss: 5.2204e-04 - accuracy: 0.9930 - val_loss: 8.8354e-04 - val_accuracy: 0.9862\n",
      "Epoch 119/160\n",
      "570/570 [==============================] - 6s 11ms/step - loss: 5.3995e-04 - accuracy: 0.9919 - val_loss: 9.1914e-04 - val_accuracy: 0.9862\n",
      "Epoch 120/160\n",
      "570/570 [==============================] - 6s 11ms/step - loss: 5.2841e-04 - accuracy: 0.9899 - val_loss: 0.0011 - val_accuracy: 0.9882\n",
      "Epoch 121/160\n",
      "570/570 [==============================] - 6s 10ms/step - loss: 5.2697e-04 - accuracy: 0.9930 - val_loss: 9.2577e-04 - val_accuracy: 0.9882\n",
      "Epoch 122/160\n",
      "570/570 [==============================] - 6s 11ms/step - loss: 5.2659e-04 - accuracy: 0.9928 - val_loss: 9.6503e-04 - val_accuracy: 0.9901\n",
      "Epoch 123/160\n",
      "570/570 [==============================] - 6s 11ms/step - loss: 5.1161e-04 - accuracy: 0.9928 - val_loss: 8.9053e-04 - val_accuracy: 0.9901\n",
      "Epoch 124/160\n",
      "570/570 [==============================] - 6s 10ms/step - loss: 5.0268e-04 - accuracy: 0.9912 - val_loss: 9.8416e-04 - val_accuracy: 0.9901\n",
      "Epoch 125/160\n",
      "570/570 [==============================] - 6s 11ms/step - loss: 5.2496e-04 - accuracy: 0.9921 - val_loss: 7.4202e-04 - val_accuracy: 0.9882\n",
      "Epoch 126/160\n",
      "570/570 [==============================] - 6s 10ms/step - loss: 4.9148e-04 - accuracy: 0.9906 - val_loss: 8.3048e-04 - val_accuracy: 0.9862\n",
      "Epoch 127/160\n",
      "570/570 [==============================] - 6s 11ms/step - loss: 4.8880e-04 - accuracy: 0.9906 - val_loss: 9.5817e-04 - val_accuracy: 0.9842\n",
      "Epoch 128/160\n",
      "570/570 [==============================] - 6s 10ms/step - loss: 5.1809e-04 - accuracy: 0.9917 - val_loss: 9.0509e-04 - val_accuracy: 0.9882\n",
      "Epoch 129/160\n",
      "570/570 [==============================] - 6s 10ms/step - loss: 5.0383e-04 - accuracy: 0.9923 - val_loss: 8.7644e-04 - val_accuracy: 0.9803\n",
      "Epoch 130/160\n",
      "570/570 [==============================] - 6s 10ms/step - loss: 5.2102e-04 - accuracy: 0.9914 - val_loss: 0.0011 - val_accuracy: 0.9901\n",
      "Epoch 131/160\n",
      "570/570 [==============================] - 6s 10ms/step - loss: 4.9816e-04 - accuracy: 0.9921 - val_loss: 9.6481e-04 - val_accuracy: 0.9842\n",
      "Epoch 132/160\n",
      "570/570 [==============================] - 6s 11ms/step - loss: 4.9356e-04 - accuracy: 0.9934 - val_loss: 8.7919e-04 - val_accuracy: 0.9862\n",
      "Epoch 133/160\n",
      "570/570 [==============================] - 6s 11ms/step - loss: 4.8318e-04 - accuracy: 0.9914 - val_loss: 9.8288e-04 - val_accuracy: 0.9921\n",
      "Epoch 134/160\n",
      "570/570 [==============================] - 6s 11ms/step - loss: 5.0714e-04 - accuracy: 0.9901 - val_loss: 9.1640e-04 - val_accuracy: 0.9882\n",
      "Epoch 135/160\n",
      "570/570 [==============================] - 6s 11ms/step - loss: 4.8249e-04 - accuracy: 0.9917 - val_loss: 0.0012 - val_accuracy: 0.9901\n",
      "Epoch 136/160\n",
      "570/570 [==============================] - 6s 11ms/step - loss: 4.8777e-04 - accuracy: 0.9932 - val_loss: 7.9313e-04 - val_accuracy: 0.9862\n",
      "Epoch 137/160\n",
      "570/570 [==============================] - 6s 11ms/step - loss: 5.0520e-04 - accuracy: 0.9921 - val_loss: 0.0011 - val_accuracy: 0.9901\n",
      "Epoch 138/160\n",
      "570/570 [==============================] - 6s 11ms/step - loss: 5.1230e-04 - accuracy: 0.9908 - val_loss: 9.9989e-04 - val_accuracy: 0.9901\n",
      "Epoch 139/160\n",
      "570/570 [==============================] - 6s 11ms/step - loss: 5.0956e-04 - accuracy: 0.9921 - val_loss: 8.4951e-04 - val_accuracy: 0.9862\n",
      "Epoch 140/160\n",
      "570/570 [==============================] - 6s 10ms/step - loss: 4.8540e-04 - accuracy: 0.9930 - val_loss: 8.6827e-04 - val_accuracy: 0.9882\n",
      "Epoch 141/160\n",
      "570/570 [==============================] - 6s 11ms/step - loss: 4.7540e-04 - accuracy: 0.9919 - val_loss: 8.7610e-04 - val_accuracy: 0.9921\n",
      "Epoch 142/160\n",
      "570/570 [==============================] - 6s 11ms/step - loss: 4.9959e-04 - accuracy: 0.9925 - val_loss: 9.5405e-04 - val_accuracy: 0.9842\n",
      "Epoch 143/160\n",
      "570/570 [==============================] - 6s 11ms/step - loss: 4.8020e-04 - accuracy: 0.9928 - val_loss: 8.6139e-04 - val_accuracy: 0.9901\n",
      "Epoch 144/160\n",
      "570/570 [==============================] - 6s 10ms/step - loss: 4.9565e-04 - accuracy: 0.9921 - val_loss: 8.6474e-04 - val_accuracy: 0.9921\n",
      "Epoch 145/160\n",
      "570/570 [==============================] - 6s 10ms/step - loss: 4.7410e-04 - accuracy: 0.9934 - val_loss: 8.4647e-04 - val_accuracy: 0.9882\n",
      "Epoch 146/160\n",
      "570/570 [==============================] - 6s 10ms/step - loss: 4.8113e-04 - accuracy: 0.9912 - val_loss: 9.7436e-04 - val_accuracy: 0.9803\n",
      "Epoch 147/160\n",
      "570/570 [==============================] - 6s 10ms/step - loss: 4.8401e-04 - accuracy: 0.9923 - val_loss: 9.5176e-04 - val_accuracy: 0.9901\n",
      "Epoch 148/160\n",
      "570/570 [==============================] - 6s 10ms/step - loss: 4.7580e-04 - accuracy: 0.9941 - val_loss: 8.3820e-04 - val_accuracy: 0.9882\n",
      "Epoch 149/160\n",
      "570/570 [==============================] - 6s 11ms/step - loss: 4.7904e-04 - accuracy: 0.9925 - val_loss: 7.5161e-04 - val_accuracy: 0.9921\n",
      "Epoch 150/160\n",
      "570/570 [==============================] - 6s 10ms/step - loss: 4.5882e-04 - accuracy: 0.9919 - val_loss: 8.6021e-04 - val_accuracy: 0.9882\n",
      "Epoch 151/160\n",
      "570/570 [==============================] - 6s 11ms/step - loss: 4.7532e-04 - accuracy: 0.9910 - val_loss: 9.7442e-04 - val_accuracy: 0.9901\n",
      "Epoch 152/160\n",
      "570/570 [==============================] - 6s 10ms/step - loss: 4.7378e-04 - accuracy: 0.9930 - val_loss: 0.0010 - val_accuracy: 0.9882\n",
      "Epoch 153/160\n",
      "570/570 [==============================] - 6s 11ms/step - loss: 4.6207e-04 - accuracy: 0.9925 - val_loss: 9.3818e-04 - val_accuracy: 0.9862\n",
      "Epoch 154/160\n",
      "570/570 [==============================] - 6s 11ms/step - loss: 4.6642e-04 - accuracy: 0.9932 - val_loss: 8.1552e-04 - val_accuracy: 0.9901\n",
      "Epoch 155/160\n",
      "570/570 [==============================] - 6s 11ms/step - loss: 4.6805e-04 - accuracy: 0.9932 - val_loss: 8.1582e-04 - val_accuracy: 0.9882\n",
      "Epoch 156/160\n",
      "570/570 [==============================] - 6s 11ms/step - loss: 4.7962e-04 - accuracy: 0.9936 - val_loss: 8.4638e-04 - val_accuracy: 0.9862\n",
      "Epoch 157/160\n",
      "570/570 [==============================] - 6s 11ms/step - loss: 4.6542e-04 - accuracy: 0.9919 - val_loss: 0.0011 - val_accuracy: 0.9901\n",
      "Epoch 158/160\n",
      "570/570 [==============================] - 6s 11ms/step - loss: 4.6185e-04 - accuracy: 0.9934 - val_loss: 9.5180e-04 - val_accuracy: 0.9882\n",
      "Epoch 159/160\n",
      "570/570 [==============================] - 7s 12ms/step - loss: 4.4949e-04 - accuracy: 0.9919 - val_loss: 9.4505e-04 - val_accuracy: 0.9882\n",
      "Epoch 160/160\n",
      "570/570 [==============================] - 6s 11ms/step - loss: 4.5090e-04 - accuracy: 0.9925 - val_loss: 0.0010 - val_accuracy: 0.9882\n"
     ]
    }
   ],
   "source": [
    "Batch_Size = 8\n",
    "Epoch_Anz = 160\n",
    "Shift_Range = 3\n",
    "Brightness_Range = 0.3\n",
    "\n",
    "datagen = ImageDataGenerator(width_shift_range=[-Shift_Range,Shift_Range], height_shift_range=[-Shift_Range,Shift_Range],brightness_range=[1-Brightness_Range,1+Brightness_Range])\n",
    "\n",
    "train_iterator = datagen.flow(X_train, y_train, batch_size=Batch_Size)\n",
    "validation_iterator = datagen.flow(X_test, y_test, batch_size=Batch_Size)\n",
    "\n",
    "history = model.fit_generator(train_iterator, validation_data = validation_iterator, epochs = Epoch_Anz)"
   ]
  },
  {
   "cell_type": "markdown",
   "metadata": {},
   "source": [
    "### Overall Learing results (Step 1 & Step 2)"
   ]
  },
  {
   "cell_type": "code",
   "execution_count": 7,
   "metadata": {},
   "outputs": [
    {
     "data": {
      "image/png": "[encoded data removed]",
      "text/plain": [
       "<Figure size 432x288 with 1 Axes>"
      ]
     },
     "metadata": {
      "needs_background": "light"
     },
     "output_type": "display_data"
    }
   ],
   "source": [
    "loss_ges = np.append(loss_ges, history.history['loss'])\n",
    "val_loss_ges = np.append(val_loss_ges, history.history['val_loss'])\n",
    "\n",
    "plt.semilogy(loss_ges)\n",
    "plt.semilogy(val_loss_ges)\n",
    "plt.title('model loss')\n",
    "plt.ylabel('loss')\n",
    "plt.xlabel('epoch')\n",
    "plt.legend(['train','eval'], loc='upper left')\n",
    "plt.show()"
   ]
  },
  {
   "cell_type": "markdown",
   "metadata": {},
   "source": [
    "### Check the model by hand\n",
    "\n",
    "* The following code uses the trained model to check the deviation for each picture.\n",
    "* The evaluation takes the periodic character of the results into account (dev1 ... dev2).\n",
    "* Images, that have a bigger deviation as the parameter \"deviation_max_list\" are printed in a list to check the picture and labeling itself"
   ]
  },
  {
   "cell_type": "code",
   "execution_count": 8,
   "metadata": {},
   "outputs": [
    {
     "name": "stdout",
     "output_type": "stream",
     "text": [
      "data_resize_all\\4.0_1947_zeiger1_2020-06-15_19-22-14.jpg 0.4 0.48487501534271904 -0.08487501534271902\n",
      "data_resize_all\\8.4_4168_zeiger2_2020-04-29_11-35-02.jpg 0.8400000000000001 0.897828329084267 -0.05782832908426694\n"
     ]
    }
   ],
   "source": [
    "Input_dir='data_resize_all'\n",
    "#Input_dir='test_result'\n",
    "files = glob.glob(Input_dir + '/*.*')\n",
    "res = []\n",
    "i = 0\n",
    "deviation_max_list = 0.05\n",
    "\n",
    "for aktfile in files:\n",
    "    base = os.path.basename(aktfile)\n",
    "    target = (float(base[0:3])) / 10\n",
    "    target_sin = math.sin(target * math.pi * 2)\n",
    "    target_cos = math.cos(target * math.pi * 2)\n",
    "\n",
    "    test_image = Image.open(aktfile)\n",
    "    test_image = np.array(test_image, dtype=\"float32\")\n",
    "    img = np.reshape(test_image,[1,32,32,3])\n",
    "    classes = model.predict(img)\n",
    "    \n",
    "    out_sin = classes[0][0]  \n",
    "    out_cos = classes[0][1]\n",
    "    out_target = (np.arctan2(out_sin, out_cos)/(2*math.pi)) % 1\n",
    "\n",
    "    dev_sin = target_sin - out_sin\n",
    "    dev_cos = target_cos - out_cos\n",
    "    dev_target = target - out_target\n",
    "    \n",
    "    if abs(dev_target + 1) < abs(dev_target):\n",
    "        out_target = out_target - 1\n",
    "        dev_target = target - out_target\n",
    "    else:\n",
    "        if abs(dev_target - 1) < abs(dev_target):\n",
    "            out_target = out_target + 1\n",
    "            dev_target = target - out_target\n",
    "               \n",
    "    res.append(np.array([target, out_target, dev_target, out_sin, out_cos, i]))\n",
    "    if abs(dev_target) > deviation_max_list:\n",
    "        print(aktfile + \" \" + str(target) + \" \" + str(out_target) +  \" \" + str(dev_target))\n",
    "    i+=1\n",
    "\n",
    "res = np.asarray(res)\n",
    "res_step_1 = res"
   ]
  },
  {
   "cell_type": "markdown",
   "metadata": {},
   "source": [
    "## Results"
   ]
  },
  {
   "cell_type": "code",
   "execution_count": 9,
   "metadata": {},
   "outputs": [
    {
     "data": {
      "image/png": "[encoded data removed]",
      "text/plain": [
       "<Figure size 432x288 with 1 Axes>"
      ]
     },
     "metadata": {
      "needs_background": "light"
     },
     "output_type": "display_data"
    }
   ],
   "source": [
    "plt.plot(res[:,3])\n",
    "plt.plot(res[:,4])\n",
    "plt.title('Result')\n",
    "plt.ylabel('value')\n",
    "plt.xlabel('#Picture')\n",
    "plt.legend(['sin', 'cos'], loc='lower left')\n",
    "plt.show()"
   ]
  },
  {
   "cell_type": "code",
   "execution_count": 10,
   "metadata": {},
   "outputs": [
    {
     "data": {
      "image/png": "[encoded data removed]",
      "text/plain": [
       "<Figure size 432x288 with 1 Axes>"
      ]
     },
     "metadata": {
      "needs_background": "light"
     },
     "output_type": "display_data"
    }
   ],
   "source": [
    "plt.plot(res[:,0])\n",
    "plt.plot(res[:,1])\n",
    "plt.title('Result')\n",
    "plt.ylabel('Counter Value')\n",
    "plt.xlabel('#Picture')\n",
    "plt.legend(['Orginal', 'Prediction'], loc='upper left')\n",
    "plt.show()"
   ]
  },
  {
   "cell_type": "markdown",
   "metadata": {},
   "source": [
    "### Deviation from Expected Value"
   ]
  },
  {
   "cell_type": "code",
   "execution_count": 11,
   "metadata": {},
   "outputs": [
    {
     "data": {
      "image/png": "[encoded data removed]",
      "text/plain": [
       "<Figure size 432x288 with 1 Axes>"
      ]
     },
     "metadata": {
      "needs_background": "light"
     },
     "output_type": "display_data"
    },
    {
     "name": "stdout",
     "output_type": "stream",
     "text": [
      "[ 0.0006  0.0097 -0.0849  0.0426]\n"
     ]
    }
   ],
   "source": [
    "plt.plot(res[:,2])\n",
    "plt.title('Deviation')\n",
    "plt.ylabel('Deviation from expected value')\n",
    "plt.xlabel('#Picture')\n",
    "plt.legend(['Deviation'], loc='upper left')\n",
    "#plt.ylim(-0.3, 0.3)\n",
    "plt.show()\n",
    "\n",
    "statistic = np.array([np.mean(res[:,2]), np.std(res[:,2]), np.min(res[:,2]), np.max(res[:,2])])\n",
    "print(statistic)"
   ]
  },
  {
   "cell_type": "markdown",
   "metadata": {},
   "source": [
    "### Save the model\n",
    "\n",
    "* Save the model to the file with the \"h5\" file format"
   ]
  },
  {
   "cell_type": "code",
   "execution_count": 12,
   "metadata": {},
   "outputs": [
    {
     "data": {
      "text/plain": [
       "203904"
      ]
     },
     "execution_count": 12,
     "metadata": {},
     "output_type": "execute_result"
    }
   ],
   "source": [
    "# model.save(\"CNN_Analog-Readout_Version-6.2.0.h5\")\n",
    "\n",
    "converter = tf.lite.TFLiteConverter.from_keras_model(model)\n",
    "tflite_model = converter.convert()\n",
    "open(\"CNN_Analog-Readout_Version-6.3.0.tflite\", \"wb\").write(tflite_model)"
   ]
  }
 ],
 "metadata": {
  "kernelspec": {
   "display_name": "Python 3",
   "language": "python",
   "name": "python3"
  },
  "language_info": {
   "codemirror_mode": {
    "name": "ipython",
    "version": 3
   },
   "file_extension": ".py",
   "mimetype": "text/x-python",
   "name": "python",
   "nbconvert_exporter": "python",
   "pygments_lexer": "ipython3",
   "version": "3.7.7"
  }
 },
 "nbformat": 4,
 "nbformat_minor": 2
}
