{
 "cells": [
  {
   "cell_type": "markdown",
   "metadata": {},
   "source": [
    "# CNN Training\n",
    "\n",
    "Target of this code is to train a CNN network to extract the needle position of an analog needle device.\n",
    "\n",
    "### Preparing the training\n",
    "* First all libraries are loaded\n",
    "    * It is assumed, that they are installed during the Python setup\n",
    "* matplotlib is set to print the output inline in the jupyter notebook"
   ]
  },
  {
   "cell_type": "code",
   "execution_count": 1,
   "metadata": {
    "scrolled": true
   },
   "outputs": [],
   "source": [
    "import os\n",
    "import tensorflow as tf\n",
    "import matplotlib.pyplot as plt\n",
    "import glob\n",
    "import numpy as np\n",
    "from sklearn.utils import shuffle\n",
    "from tensorflow.python import keras\n",
    "from tensorflow.python.keras import Sequential\n",
    "from tensorflow.python.keras.layers import Dense, InputLayer, Conv2D, MaxPool2D, Flatten, BatchNormalization\n",
    "from tensorflow.keras.preprocessing.image import ImageDataGenerator\n",
    "from sklearn.model_selection import train_test_split\n",
    "import tensorflow.keras.backend as K\n",
    "from tensorflow.keras.callbacks import History \n",
    "import math\n",
    "from PIL import Image \n",
    "\n",
    "loss_ges = np.array([])\n",
    "val_loss_ges = np.array([])\n",
    "\n",
    "%matplotlib inline\n",
    "np.set_printoptions(precision=4)\n",
    "np.set_printoptions(suppress=True)"
   ]
  },
  {
   "cell_type": "markdown",
   "metadata": {},
   "source": [
    "### Load training data\n",
    "* The data is expected in the \"Input_dir\"\n",
    "* Picture size must be 32x32 with 3 color channels (RGB)\n",
    "* The filename contains the informations needed for training in the first 3 digits::\n",
    "* Typical filename: \n",
    "    * x.y-zzzz.jpg \n",
    "    * e.g. \"4.6_Lfd-1406_zeiger3_2019-06-02T050011\"\n",
    "\n",
    "|Place holder | Meaning                     | Usage        |\n",
    "|------------- |-----------------------------|--------------|\n",
    "| **x.y**          | readout value               | **to be learned** |\n",
    "| zzzz        | additional information              | not needed   |\n",
    "\n",
    "* The images are stored in the x_data[]\n",
    "* The expected output for each image in the corresponding y_data[]\n",
    "    * The periodic nature is reflected in a **sin/cos coding**, which allows to restore the angle/counter value with an arctan later on.\n",
    "\n",
    "* The last step is a shuffle (from sklearn.utils) as the filenames are on order due to the encoding of the expected analog readout in the filename "
   ]
  },
  {
   "cell_type": "code",
   "execution_count": 2,
   "metadata": {},
   "outputs": [
    {
     "name": "stdout",
     "output_type": "stream",
     "text": [
      "(4827, 32, 32, 3)\n",
      "(4827, 2)\n"
     ]
    }
   ],
   "source": [
    "Input_dir='data_resize_all'\n",
    "\n",
    "files = glob.glob(Input_dir + '/*.*')\n",
    "x_data = []\n",
    "y_data = []\n",
    "\n",
    "for aktfile in files:\n",
    "    test_image = Image.open(aktfile)\n",
    "    test_image = np.array(test_image, dtype=\"float32\")\n",
    "    test_image = np.reshape(test_image, (32,32,3))\n",
    "    base = os.path.basename(aktfile)\n",
    "    target_number = (float(base[0:3])) / 10\n",
    "    target_sin = math.sin(target_number * math.pi * 2)\n",
    "    target_cos = math.cos(target_number * math.pi * 2)\n",
    "\n",
    "    x_data.append(test_image)\n",
    "    zw = np.array([target_sin, target_cos])\n",
    "    y_data.append(zw)\n",
    "\n",
    "x_data = np.array(x_data)\n",
    "y_data = np.array(y_data)\n",
    "print(x_data.shape)\n",
    "print(y_data.shape)\n",
    "\n",
    "x_data, y_data = shuffle(x_data, y_data)\n",
    "X_train, X_test, y_train, y_test = train_test_split(x_data, y_data, test_size=0.1)"
   ]
  },
  {
   "cell_type": "markdown",
   "metadata": {},
   "source": [
    "### Define the model\n",
    "\n",
    "The layout of the network ist a typcial CNN network with alternating **Conv2D** and **MaxPool2D** layers. Finished after **flattening** with additional **Dense** layer.\n",
    "\n",
    "#### Important\n",
    "* Shape of the input layer: (32, 32, 3)\n",
    "* Shape of the output layer: (2) - sin and cos"
   ]
  },
  {
   "cell_type": "code",
   "execution_count": 3,
   "metadata": {
    "scrolled": true
   },
   "outputs": [
    {
     "name": "stdout",
     "output_type": "stream",
     "text": [
      "Model: \"sequential\"\n",
      "_________________________________________________________________\n",
      "Layer (type)                 Output Shape              Param #   \n",
      "=================================================================\n",
      "batch_normalization (BatchNo (None, 32, 32, 3)         12        \n",
      "_________________________________________________________________\n",
      "conv2d (Conv2D)              (None, 32, 32, 32)        2432      \n",
      "_________________________________________________________________\n",
      "max_pooling2d (MaxPooling2D) (None, 8, 8, 32)          0         \n",
      "_________________________________________________________________\n",
      "conv2d_1 (Conv2D)            (None, 8, 8, 16)          12816     \n",
      "_________________________________________________________________\n",
      "max_pooling2d_1 (MaxPooling2 (None, 2, 2, 16)          0         \n",
      "_________________________________________________________________\n",
      "conv2d_2 (Conv2D)            (None, 2, 2, 32)          4640      \n",
      "_________________________________________________________________\n",
      "max_pooling2d_2 (MaxPooling2 (None, 1, 1, 32)          0         \n",
      "_________________________________________________________________\n",
      "flatten (Flatten)            (None, 32)                0         \n",
      "_________________________________________________________________\n",
      "dense (Dense)                (None, 64)                2112      \n",
      "_________________________________________________________________\n",
      "dense_1 (Dense)              (None, 32)                2080      \n",
      "_________________________________________________________________\n",
      "dense_2 (Dense)              (None, 2)                 66        \n",
      "=================================================================\n",
      "Total params: 24,158\n",
      "Trainable params: 24,152\n",
      "Non-trainable params: 6\n",
      "_________________________________________________________________\n"
     ]
    }
   ],
   "source": [
    "model = Sequential()\n",
    "model.add(BatchNormalization(input_shape=(32,32,3)))\n",
    "model.add(Conv2D(32, (5, 5), input_shape=(32,32,3), padding='same', activation=\"relu\"))\n",
    "model.add(MaxPool2D(pool_size=(4,4)))\n",
    "model.add(Conv2D(16, (5, 5), padding='same', activation=\"relu\"))\n",
    "model.add(MaxPool2D(pool_size=(4,4)))\n",
    "model.add(Conv2D(32, (3, 3), padding='same', activation=\"relu\"))\n",
    "model.add(MaxPool2D(pool_size=(2,2)))\n",
    "model.add(Flatten())\n",
    "model.add(Dense(64,activation=\"relu\"))\n",
    "model.add(Dense(32,activation=\"relu\"))\n",
    "model.add(Dense(2))\n",
    "model.summary()\n",
    "\n",
    "model.compile(loss=keras.losses.mean_squared_error, optimizer=tf.keras.optimizers.Adadelta(learning_rate=1.0, rho=0.95), metrics = [\"accuracy\"])"
   ]
  },
  {
   "cell_type": "markdown",
   "metadata": {},
   "source": [
    "# Training\n",
    "The input pictures are randomly scattered for brightness and pixel shift variations. These is implemented with a ImageDataGenerator.\n",
    "\n",
    "\n",
    "The training is splitted into two steps:\n",
    "1. Variation of the brightness only\n",
    "2. Variation of brightness and Pixel Shift"
   ]
  },
  {
   "cell_type": "markdown",
   "metadata": {},
   "source": [
    "### Step 1: Brigthness scattering only"
   ]
  },
  {
   "cell_type": "code",
   "execution_count": 4,
   "metadata": {},
   "outputs": [
    {
     "name": "stdout",
     "output_type": "stream",
     "text": [
      "WARNING:tensorflow:From <ipython-input-4-9f5ba6453a73>:11: Model.fit_generator (from tensorflow.python.keras.engine.training) is deprecated and will be removed in a future version.\n",
      "Instructions for updating:\n",
      "Please use Model.fit, which supports generators.\n",
      "Epoch 1/30\n",
      "543/543 [==============================] - 16s 29ms/step - loss: 0.1296 - accuracy: 0.8755 - val_loss: 0.0127 - val_accuracy: 0.9627\n",
      "Epoch 2/30\n",
      "543/543 [==============================] - 16s 30ms/step - loss: 0.0171 - accuracy: 0.9629 - val_loss: 0.0130 - val_accuracy: 0.9462\n",
      "Epoch 3/30\n",
      "543/543 [==============================] - 17s 31ms/step - loss: 0.0115 - accuracy: 0.9715 - val_loss: 0.0081 - val_accuracy: 0.9607\n",
      "Epoch 4/30\n",
      "543/543 [==============================] - 19s 34ms/step - loss: 0.0080 - accuracy: 0.9777 - val_loss: 0.0039 - val_accuracy: 0.9896\n",
      "Epoch 5/30\n",
      "543/543 [==============================] - 18s 32ms/step - loss: 0.0062 - accuracy: 0.9811 - val_loss: 0.0041 - val_accuracy: 0.9834\n",
      "Epoch 6/30\n",
      "543/543 [==============================] - 17s 32ms/step - loss: 0.0047 - accuracy: 0.9839 - val_loss: 0.0027 - val_accuracy: 0.9876\n",
      "Epoch 7/30\n",
      "543/543 [==============================] - 17s 32ms/step - loss: 0.0037 - accuracy: 0.9841 - val_loss: 0.0035 - val_accuracy: 0.9855\n",
      "Epoch 8/30\n",
      "543/543 [==============================] - 18s 33ms/step - loss: 0.0030 - accuracy: 0.9862 - val_loss: 0.0019 - val_accuracy: 0.9917\n",
      "Epoch 9/30\n",
      "543/543 [==============================] - 18s 33ms/step - loss: 0.0025 - accuracy: 0.9873 - val_loss: 0.0020 - val_accuracy: 0.9896\n",
      "Epoch 10/30\n",
      "543/543 [==============================] - 18s 33ms/step - loss: 0.0023 - accuracy: 0.9843 - val_loss: 0.0016 - val_accuracy: 0.9855\n",
      "Epoch 11/30\n",
      "543/543 [==============================] - 18s 32ms/step - loss: 0.0020 - accuracy: 0.9894 - val_loss: 0.0016 - val_accuracy: 0.9938\n",
      "Epoch 12/30\n",
      "543/543 [==============================] - 18s 33ms/step - loss: 0.0019 - accuracy: 0.9887 - val_loss: 0.0014 - val_accuracy: 0.9959\n",
      "Epoch 13/30\n",
      "543/543 [==============================] - 18s 32ms/step - loss: 0.0017 - accuracy: 0.9903 - val_loss: 0.0021 - val_accuracy: 0.9855\n",
      "Epoch 14/30\n",
      "543/543 [==============================] - 17s 32ms/step - loss: 0.0015 - accuracy: 0.9906 - val_loss: 0.0020 - val_accuracy: 0.9979\n",
      "Epoch 15/30\n",
      "543/543 [==============================] - 18s 32ms/step - loss: 0.0015 - accuracy: 0.9908 - val_loss: 0.0023 - val_accuracy: 0.9876\n",
      "Epoch 16/30\n",
      "543/543 [==============================] - 18s 33ms/step - loss: 0.0013 - accuracy: 0.9917 - val_loss: 0.0014 - val_accuracy: 0.9834\n",
      "Epoch 17/30\n",
      "543/543 [==============================] - 18s 33ms/step - loss: 0.0013 - accuracy: 0.9910 - val_loss: 0.0016 - val_accuracy: 0.9876\n",
      "Epoch 18/30\n",
      "543/543 [==============================] - 17s 32ms/step - loss: 0.0011 - accuracy: 0.9919 - val_loss: 0.0016 - val_accuracy: 0.9938\n",
      "Epoch 19/30\n",
      "543/543 [==============================] - 17s 32ms/step - loss: 0.0011 - accuracy: 0.9922 - val_loss: 0.0016 - val_accuracy: 0.9938\n",
      "Epoch 20/30\n",
      "543/543 [==============================] - 18s 33ms/step - loss: 0.0011 - accuracy: 0.9938 - val_loss: 0.0019 - val_accuracy: 1.0000\n",
      "Epoch 21/30\n",
      "543/543 [==============================] - 17s 32ms/step - loss: 9.9249e-04 - accuracy: 0.9922 - val_loss: 0.0019 - val_accuracy: 0.9959\n",
      "Epoch 22/30\n",
      "543/543 [==============================] - 18s 33ms/step - loss: 9.9692e-04 - accuracy: 0.9926 - val_loss: 0.0012 - val_accuracy: 0.9917\n",
      "Epoch 23/30\n",
      "543/543 [==============================] - 19s 35ms/step - loss: 9.0153e-04 - accuracy: 0.9942 - val_loss: 9.7399e-04 - val_accuracy: 0.9959\n",
      "Epoch 24/30\n",
      "543/543 [==============================] - 18s 34ms/step - loss: 9.5976e-04 - accuracy: 0.9954 - val_loss: 9.6484e-04 - val_accuracy: 0.9938\n",
      "Epoch 25/30\n",
      "543/543 [==============================] - 18s 33ms/step - loss: 8.5119e-04 - accuracy: 0.9952 - val_loss: 0.0014 - val_accuracy: 0.9917\n",
      "Epoch 26/30\n",
      "543/543 [==============================] - 17s 32ms/step - loss: 8.5012e-04 - accuracy: 0.9940 - val_loss: 0.0011 - val_accuracy: 0.9938\n",
      "Epoch 27/30\n",
      "543/543 [==============================] - 18s 33ms/step - loss: 8.2164e-04 - accuracy: 0.9945 - val_loss: 0.0012 - val_accuracy: 0.9959\n",
      "Epoch 28/30\n",
      "543/543 [==============================] - 17s 32ms/step - loss: 8.3226e-04 - accuracy: 0.9942 - val_loss: 0.0010 - val_accuracy: 0.9896\n",
      "Epoch 29/30\n",
      "543/543 [==============================] - 17s 31ms/step - loss: 7.6354e-04 - accuracy: 0.9947 - val_loss: 0.0011 - val_accuracy: 0.9917\n",
      "Epoch 30/30\n",
      "543/543 [==============================] - 18s 34ms/step - loss: 7.6123e-04 - accuracy: 0.9947 - val_loss: 9.3848e-04 - val_accuracy: 0.9917\n"
     ]
    }
   ],
   "source": [
    "Batch_Size = 8\n",
    "Epoch_Anz = 30\n",
    "Shift_Range = 0\n",
    "Brightness_Range = 0.3\n",
    "\n",
    "datagen = ImageDataGenerator(width_shift_range=[-Shift_Range,Shift_Range], height_shift_range=[-Shift_Range,Shift_Range],brightness_range=[1-Brightness_Range,1+Brightness_Range])\n",
    "\n",
    "train_iterator = datagen.flow(X_train, y_train, batch_size=Batch_Size)\n",
    "validation_iterator = datagen.flow(X_test, y_test, batch_size=Batch_Size)\n",
    "\n",
    "history = model.fit_generator(train_iterator, validation_data = validation_iterator, epochs = Epoch_Anz)"
   ]
  },
  {
   "cell_type": "markdown",
   "metadata": {},
   "source": [
    "### Step 1: Learing result\n",
    " \n",
    "* Visualization of the training and validation results"
   ]
  },
  {
   "cell_type": "code",
   "execution_count": 5,
   "metadata": {},
   "outputs": [
    {
     "data": {
      "image/png": "[encoded data removed]",
      "text/plain": [
       "<Figure size 432x288 with 1 Axes>"
      ]
     },
     "metadata": {
      "needs_background": "light"
     },
     "output_type": "display_data"
    }
   ],
   "source": [
    "loss_ges = np.append(loss_ges, history.history['loss'])\n",
    "val_loss_ges = np.append(val_loss_ges, history.history['val_loss'])\n",
    "\n",
    "plt.semilogy(history.history['loss'])\n",
    "plt.semilogy(history.history['val_loss'])\n",
    "plt.title('model loss')\n",
    "plt.ylabel('loss')\n",
    "plt.xlabel('epoch')\n",
    "plt.legend(['train','eval'], loc='upper left')\n",
    "plt.show()"
   ]
  },
  {
   "cell_type": "markdown",
   "metadata": {},
   "source": [
    "### Step 2: Brigthness and Pixel Shift scattering\n",
    "Here a higher number of epochs is used to reach the minimum loss function"
   ]
  },
  {
   "cell_type": "code",
   "execution_count": 6,
   "metadata": {},
   "outputs": [
    {
     "name": "stdout",
     "output_type": "stream",
     "text": [
      "Epoch 1/160\n",
      "543/543 [==============================] - 20s 38ms/step - loss: 0.0320 - accuracy: 0.9459 - val_loss: 0.0094 - val_accuracy: 0.9710\n",
      "Epoch 2/160\n",
      "543/543 [==============================] - 19s 35ms/step - loss: 0.0075 - accuracy: 0.9698 - val_loss: 0.0068 - val_accuracy: 0.9731\n",
      "Epoch 3/160\n",
      "543/543 [==============================] - 19s 36ms/step - loss: 0.0053 - accuracy: 0.9749 - val_loss: 0.0048 - val_accuracy: 0.9772\n",
      "Epoch 4/160\n",
      "543/543 [==============================] - 20s 37ms/step - loss: 0.0042 - accuracy: 0.9795 - val_loss: 0.0050 - val_accuracy: 0.9834\n",
      "Epoch 5/160\n",
      "543/543 [==============================] - 21s 38ms/step - loss: 0.0036 - accuracy: 0.9820 - val_loss: 0.0033 - val_accuracy: 0.9814\n",
      "Epoch 6/160\n",
      "543/543 [==============================] - 20s 37ms/step - loss: 0.0033 - accuracy: 0.9830 - val_loss: 0.0031 - val_accuracy: 0.9814\n",
      "Epoch 7/160\n",
      "543/543 [==============================] - 20s 38ms/step - loss: 0.0029 - accuracy: 0.9866 - val_loss: 0.0029 - val_accuracy: 0.9793\n",
      "Epoch 8/160\n",
      "543/543 [==============================] - 20s 36ms/step - loss: 0.0028 - accuracy: 0.9843 - val_loss: 0.0061 - val_accuracy: 0.9545\n",
      "Epoch 9/160\n",
      "543/543 [==============================] - 19s 36ms/step - loss: 0.0025 - accuracy: 0.9855 - val_loss: 0.0022 - val_accuracy: 0.9876\n",
      "Epoch 10/160\n",
      "543/543 [==============================] - 20s 37ms/step - loss: 0.0023 - accuracy: 0.9850 - val_loss: 0.0023 - val_accuracy: 0.9876\n",
      "Epoch 11/160\n",
      "543/543 [==============================] - 20s 37ms/step - loss: 0.0022 - accuracy: 0.9883 - val_loss: 0.0033 - val_accuracy: 0.9876\n",
      "Epoch 12/160\n",
      "543/543 [==============================] - 21s 38ms/step - loss: 0.0021 - accuracy: 0.9866 - val_loss: 0.0017 - val_accuracy: 0.9896\n",
      "Epoch 13/160\n",
      "543/543 [==============================] - 20s 37ms/step - loss: 0.0019 - accuracy: 0.9876 - val_loss: 0.0024 - val_accuracy: 0.9855\n",
      "Epoch 14/160\n",
      "543/543 [==============================] - 20s 36ms/step - loss: 0.0019 - accuracy: 0.9880 - val_loss: 0.0026 - val_accuracy: 0.9855\n",
      "Epoch 15/160\n",
      "543/543 [==============================] - 21s 38ms/step - loss: 0.0018 - accuracy: 0.9876 - val_loss: 0.0027 - val_accuracy: 0.9814\n",
      "Epoch 16/160\n",
      "543/543 [==============================] - 21s 38ms/step - loss: 0.0017 - accuracy: 0.9885 - val_loss: 0.0020 - val_accuracy: 0.9876\n",
      "Epoch 17/160\n",
      "543/543 [==============================] - 20s 37ms/step - loss: 0.0017 - accuracy: 0.9880 - val_loss: 0.0020 - val_accuracy: 0.9876\n",
      "Epoch 18/160\n",
      "543/543 [==============================] - 20s 37ms/step - loss: 0.0017 - accuracy: 0.9894 - val_loss: 0.0016 - val_accuracy: 0.9876\n",
      "Epoch 19/160\n",
      "543/543 [==============================] - 20s 36ms/step - loss: 0.0016 - accuracy: 0.9878 - val_loss: 0.0018 - val_accuracy: 0.9876\n",
      "Epoch 20/160\n",
      "543/543 [==============================] - 20s 37ms/step - loss: 0.0015 - accuracy: 0.9890 - val_loss: 0.0022 - val_accuracy: 0.9959\n",
      "Epoch 21/160\n",
      "543/543 [==============================] - 21s 38ms/step - loss: 0.0014 - accuracy: 0.9896 - val_loss: 0.0019 - val_accuracy: 0.9876\n",
      "Epoch 22/160\n",
      "543/543 [==============================] - 21s 39ms/step - loss: 0.0014 - accuracy: 0.9906 - val_loss: 0.0019 - val_accuracy: 0.9876\n",
      "Epoch 23/160\n",
      "543/543 [==============================] - 20s 36ms/step - loss: 0.0014 - accuracy: 0.9894 - val_loss: 0.0015 - val_accuracy: 0.9855\n",
      "Epoch 24/160\n",
      "543/543 [==============================] - 19s 35ms/step - loss: 0.0014 - accuracy: 0.9903 - val_loss: 0.0017 - val_accuracy: 0.9917\n",
      "Epoch 25/160\n",
      "543/543 [==============================] - 21s 38ms/step - loss: 0.0013 - accuracy: 0.9906 - val_loss: 0.0012 - val_accuracy: 0.9896\n",
      "Epoch 26/160\n",
      "543/543 [==============================] - 20s 36ms/step - loss: 0.0013 - accuracy: 0.9906 - val_loss: 0.0014 - val_accuracy: 0.9834\n",
      "Epoch 27/160\n",
      "543/543 [==============================] - 20s 37ms/step - loss: 0.0013 - accuracy: 0.9910 - val_loss: 0.0013 - val_accuracy: 0.9959\n",
      "Epoch 28/160\n",
      "543/543 [==============================] - 21s 39ms/step - loss: 0.0013 - accuracy: 0.9910 - val_loss: 0.0016 - val_accuracy: 0.9876\n",
      "Epoch 29/160\n",
      "543/543 [==============================] - 20s 37ms/step - loss: 0.0012 - accuracy: 0.9910 - val_loss: 0.0015 - val_accuracy: 0.9876\n",
      "Epoch 30/160\n",
      "543/543 [==============================] - 20s 36ms/step - loss: 0.0012 - accuracy: 0.9903 - val_loss: 0.0014 - val_accuracy: 0.9896\n",
      "Epoch 31/160\n",
      "543/543 [==============================] - 21s 38ms/step - loss: 0.0012 - accuracy: 0.9910 - val_loss: 0.0017 - val_accuracy: 0.9917\n",
      "Epoch 32/160\n",
      "543/543 [==============================] - 21s 38ms/step - loss: 0.0012 - accuracy: 0.9906 - val_loss: 0.0016 - val_accuracy: 0.9772\n",
      "Epoch 33/160\n",
      "543/543 [==============================] - 20s 37ms/step - loss: 0.0011 - accuracy: 0.9901 - val_loss: 0.0013 - val_accuracy: 0.9938\n",
      "Epoch 34/160\n",
      "543/543 [==============================] - 21s 38ms/step - loss: 0.0011 - accuracy: 0.9940 - val_loss: 0.0013 - val_accuracy: 0.9917\n",
      "Epoch 35/160\n",
      "543/543 [==============================] - 20s 38ms/step - loss: 0.0011 - accuracy: 0.9924 - val_loss: 0.0014 - val_accuracy: 0.9814\n",
      "Epoch 36/160\n",
      "543/543 [==============================] - 20s 38ms/step - loss: 0.0011 - accuracy: 0.9910 - val_loss: 0.0015 - val_accuracy: 0.9876\n",
      "Epoch 37/160\n",
      "543/543 [==============================] - 20s 36ms/step - loss: 0.0010 - accuracy: 0.9929 - val_loss: 0.0011 - val_accuracy: 0.9917\n",
      "Epoch 38/160\n",
      "543/543 [==============================] - 21s 38ms/step - loss: 0.0010 - accuracy: 0.9926 - val_loss: 0.0014 - val_accuracy: 0.9834\n",
      "Epoch 39/160\n",
      "543/543 [==============================] - 20s 37ms/step - loss: 0.0010 - accuracy: 0.9896 - val_loss: 9.3838e-04 - val_accuracy: 0.9896\n",
      "Epoch 40/160\n",
      "543/543 [==============================] - 20s 38ms/step - loss: 0.0010 - accuracy: 0.9901 - val_loss: 0.0012 - val_accuracy: 0.9876\n",
      "Epoch 41/160\n",
      "543/543 [==============================] - 21s 38ms/step - loss: 0.0010 - accuracy: 0.9919 - val_loss: 0.0014 - val_accuracy: 0.9876\n",
      "Epoch 42/160\n",
      "543/543 [==============================] - 20s 37ms/step - loss: 9.8670e-04 - accuracy: 0.9931 - val_loss: 0.0017 - val_accuracy: 0.9876\n",
      "Epoch 43/160\n",
      "543/543 [==============================] - 21s 39ms/step - loss: 9.6941e-04 - accuracy: 0.9915 - val_loss: 0.0010 - val_accuracy: 0.9979\n",
      "Epoch 44/160\n",
      "543/543 [==============================] - 21s 38ms/step - loss: 9.2711e-04 - accuracy: 0.9922 - val_loss: 0.0010 - val_accuracy: 0.9917\n",
      "Epoch 45/160\n",
      "543/543 [==============================] - 22s 40ms/step - loss: 9.6328e-04 - accuracy: 0.9919 - val_loss: 0.0010 - val_accuracy: 0.9917\n",
      "Epoch 46/160\n",
      "543/543 [==============================] - 21s 39ms/step - loss: 9.2547e-04 - accuracy: 0.9915 - val_loss: 0.0013 - val_accuracy: 0.9896\n",
      "Epoch 47/160\n",
      "543/543 [==============================] - 20s 37ms/step - loss: 9.0723e-04 - accuracy: 0.9933 - val_loss: 0.0011 - val_accuracy: 0.9855\n",
      "Epoch 48/160\n",
      "543/543 [==============================] - 21s 39ms/step - loss: 9.0838e-04 - accuracy: 0.9929 - val_loss: 0.0017 - val_accuracy: 0.9855\n",
      "Epoch 49/160\n",
      "543/543 [==============================] - 20s 37ms/step - loss: 8.8748e-04 - accuracy: 0.9919 - val_loss: 0.0012 - val_accuracy: 0.9834\n",
      "Epoch 50/160\n",
      "543/543 [==============================] - 20s 37ms/step - loss: 8.7042e-04 - accuracy: 0.9922 - val_loss: 0.0012 - val_accuracy: 0.9855\n",
      "Epoch 51/160\n",
      "543/543 [==============================] - 20s 38ms/step - loss: 9.0573e-04 - accuracy: 0.9929 - val_loss: 0.0011 - val_accuracy: 0.9896\n",
      "Epoch 52/160\n",
      "543/543 [==============================] - 21s 38ms/step - loss: 8.9003e-04 - accuracy: 0.9919 - val_loss: 0.0011 - val_accuracy: 0.9876\n",
      "Epoch 53/160\n",
      "543/543 [==============================] - 20s 38ms/step - loss: 8.5322e-04 - accuracy: 0.9910 - val_loss: 0.0011 - val_accuracy: 0.9959\n",
      "Epoch 54/160\n",
      "543/543 [==============================] - 21s 39ms/step - loss: 8.5092e-04 - accuracy: 0.9929 - val_loss: 0.0012 - val_accuracy: 0.9959\n",
      "Epoch 55/160\n",
      "543/543 [==============================] - 21s 38ms/step - loss: 8.4273e-04 - accuracy: 0.9926 - val_loss: 0.0011 - val_accuracy: 0.9876\n",
      "Epoch 56/160\n",
      "543/543 [==============================] - 21s 38ms/step - loss: 8.9327e-04 - accuracy: 0.9922 - val_loss: 0.0011 - val_accuracy: 0.9855\n",
      "Epoch 57/160\n",
      "543/543 [==============================] - 22s 40ms/step - loss: 8.3308e-04 - accuracy: 0.9933 - val_loss: 0.0013 - val_accuracy: 0.9938\n",
      "Epoch 58/160\n",
      "543/543 [==============================] - 21s 39ms/step - loss: 8.2676e-04 - accuracy: 0.9933 - val_loss: 8.6301e-04 - val_accuracy: 0.9938\n",
      "Epoch 59/160\n",
      "543/543 [==============================] - 22s 40ms/step - loss: 7.9856e-04 - accuracy: 0.9936 - val_loss: 0.0011 - val_accuracy: 0.9959\n",
      "Epoch 60/160\n",
      "543/543 [==============================] - 21s 39ms/step - loss: 8.2506e-04 - accuracy: 0.9933 - val_loss: 0.0010 - val_accuracy: 0.9959 - loss: 8.2121e-04 - accu\n",
      "Epoch 61/160\n",
      "543/543 [==============================] - 20s 37ms/step - loss: 8.2649e-04 - accuracy: 0.9940 - val_loss: 0.0011 - val_accuracy: 0.9876\n",
      "Epoch 62/160\n",
      "543/543 [==============================] - 20s 37ms/step - loss: 8.0827e-04 - accuracy: 0.9910 - val_loss: 9.2542e-04 - val_accuracy: 0.9876\n",
      "Epoch 63/160\n",
      "543/543 [==============================] - 21s 39ms/step - loss: 7.8771e-04 - accuracy: 0.9947 - val_loss: 0.0010 - val_accuracy: 0.9896\n",
      "Epoch 64/160\n",
      "543/543 [==============================] - 23s 42ms/step - loss: 8.3108e-04 - accuracy: 0.9929 - val_loss: 9.9745e-04 - val_accuracy: 0.9959\n",
      "Epoch 65/160\n",
      "543/543 [==============================] - 21s 39ms/step - loss: 8.0005e-04 - accuracy: 0.9938 - val_loss: 9.4766e-04 - val_accuracy: 0.9917\n",
      "Epoch 66/160\n",
      "543/543 [==============================] - 20s 37ms/step - loss: 7.9497e-04 - accuracy: 0.9942 - val_loss: 0.0010 - val_accuracy: 0.9896\n",
      "Epoch 67/160\n",
      "543/543 [==============================] - 22s 40ms/step - loss: 7.5888e-04 - accuracy: 0.9926 - val_loss: 0.0015 - val_accuracy: 0.9938\n",
      "Epoch 68/160\n",
      "543/543 [==============================] - 21s 39ms/step - loss: 7.8065e-04 - accuracy: 0.9956 - val_loss: 0.0011 - val_accuracy: 0.9917\n",
      "Epoch 69/160\n",
      "543/543 [==============================] - 22s 40ms/step - loss: 7.7996e-04 - accuracy: 0.9933 - val_loss: 0.0011 - val_accuracy: 0.9876\n",
      "Epoch 70/160\n",
      "543/543 [==============================] - 23s 42ms/step - loss: 7.7973e-04 - accuracy: 0.9926 - val_loss: 0.0011 - val_accuracy: 0.9938\n",
      "Epoch 71/160\n",
      "543/543 [==============================] - 20s 38ms/step - loss: 7.4986e-04 - accuracy: 0.9945 - val_loss: 0.0011 - val_accuracy: 0.9855\n",
      "Epoch 72/160\n",
      "543/543 [==============================] - 22s 41ms/step - loss: 7.7015e-04 - accuracy: 0.9938 - val_loss: 0.0011 - val_accuracy: 0.9917\n",
      "Epoch 73/160\n",
      "543/543 [==============================] - 22s 40ms/step - loss: 7.5627e-04 - accuracy: 0.9942 - val_loss: 0.0012 - val_accuracy: 0.9896\n",
      "Epoch 74/160\n",
      "543/543 [==============================] - 22s 40ms/step - loss: 7.3507e-04 - accuracy: 0.9956 - val_loss: 0.0010 - val_accuracy: 0.9917\n",
      "Epoch 75/160\n",
      "543/543 [==============================] - 20s 38ms/step - loss: 7.6248e-04 - accuracy: 0.9936 - val_loss: 9.3924e-04 - val_accuracy: 0.9938\n",
      "Epoch 76/160\n",
      "543/543 [==============================] - 21s 39ms/step - loss: 6.9902e-04 - accuracy: 0.9942 - val_loss: 0.0011 - val_accuracy: 0.9959\n",
      "Epoch 77/160\n",
      "543/543 [==============================] - 22s 41ms/step - loss: 7.4831e-04 - accuracy: 0.9947 - val_loss: 9.1147e-04 - val_accuracy: 0.9917\n",
      "Epoch 78/160\n",
      "543/543 [==============================] - 23s 42ms/step - loss: 7.2665e-04 - accuracy: 0.9949 - val_loss: 8.9735e-04 - val_accuracy: 0.9876\n",
      "Epoch 79/160\n",
      "543/543 [==============================] - 22s 40ms/step - loss: 7.2886e-04 - accuracy: 0.9938 - val_loss: 0.0012 - val_accuracy: 0.9938\n",
      "Epoch 80/160\n",
      "543/543 [==============================] - 23s 41ms/step - loss: 7.3070e-04 - accuracy: 0.9938 - val_loss: 0.0013 - val_accuracy: 0.9876\n",
      "Epoch 81/160\n",
      "543/543 [==============================] - 22s 41ms/step - loss: 7.2491e-04 - accuracy: 0.9949 - val_loss: 0.0011 - val_accuracy: 0.9876\n",
      "Epoch 82/160\n",
      "543/543 [==============================] - 19s 34ms/step - loss: 7.2333e-04 - accuracy: 0.9933 - val_loss: 9.3749e-04 - val_accuracy: 0.9938\n",
      "Epoch 83/160\n",
      "543/543 [==============================] - 17s 32ms/step - loss: 6.7266e-04 - accuracy: 0.9954 - val_loss: 0.0011 - val_accuracy: 0.9917\n",
      "Epoch 84/160\n",
      "543/543 [==============================] - 17s 32ms/step - loss: 6.8856e-04 - accuracy: 0.9940 - val_loss: 0.0012 - val_accuracy: 0.9855\n",
      "Epoch 85/160\n",
      "543/543 [==============================] - 17s 30ms/step - loss: 6.8916e-04 - accuracy: 0.9938 - val_loss: 0.0011 - val_accuracy: 0.9896\n",
      "Epoch 86/160\n",
      "543/543 [==============================] - 16s 29ms/step - loss: 6.9070e-04 - accuracy: 0.9938 - val_loss: 0.0011 - val_accuracy: 0.9896\n",
      "Epoch 87/160\n",
      "543/543 [==============================] - 17s 31ms/step - loss: 7.0579e-04 - accuracy: 0.9942 - val_loss: 0.0011 - val_accuracy: 0.9876\n",
      "Epoch 88/160\n",
      "543/543 [==============================] - 16s 29ms/step - loss: 6.8663e-04 - accuracy: 0.9933 - val_loss: 0.0010 - val_accuracy: 0.9896\n",
      "Epoch 89/160\n",
      "543/543 [==============================] - 16s 29ms/step - loss: 6.8144e-04 - accuracy: 0.9938 - val_loss: 0.0010 - val_accuracy: 0.9938\n",
      "Epoch 90/160\n",
      "543/543 [==============================] - 15s 28ms/step - loss: 7.0677e-04 - accuracy: 0.9936 - val_loss: 0.0011 - val_accuracy: 0.9855\n",
      "Epoch 91/160\n",
      "543/543 [==============================] - 13s 24ms/step - loss: 6.9209e-04 - accuracy: 0.9949 - val_loss: 9.4266e-04 - val_accuracy: 0.9896\n",
      "Epoch 92/160\n",
      "543/543 [==============================] - 13s 23ms/step - loss: 6.8136e-04 - accuracy: 0.9949 - val_loss: 9.3397e-04 - val_accuracy: 0.9938\n",
      "Epoch 93/160\n",
      "543/543 [==============================] - 13s 24ms/step - loss: 6.5676e-04 - accuracy: 0.9933 - val_loss: 9.7276e-04 - val_accuracy: 0.9876\n",
      "Epoch 94/160\n",
      "543/543 [==============================] - 12s 23ms/step - loss: 6.9930e-04 - accuracy: 0.9945 - val_loss: 8.9380e-04 - val_accuracy: 0.9979-04 - accuracy: 0.\n",
      "Epoch 95/160\n",
      "543/543 [==============================] - 12s 23ms/step - loss: 6.9940e-04 - accuracy: 0.9926 - val_loss: 0.0010 - val_accuracy: 0.9917\n",
      "Epoch 96/160\n",
      "543/543 [==============================] - 13s 24ms/step - loss: 6.5009e-04 - accuracy: 0.9949 - val_loss: 9.2762e-04 - val_accuracy: 0.9917\n",
      "Epoch 97/160\n",
      "543/543 [==============================] - 13s 23ms/step - loss: 6.5932e-04 - accuracy: 0.9945 - val_loss: 9.0552e-04 - val_accuracy: 0.9876\n",
      "Epoch 98/160\n",
      "543/543 [==============================] - 13s 23ms/step - loss: 6.6494e-04 - accuracy: 0.9936 - val_loss: 9.6990e-04 - val_accuracy: 0.9959\n",
      "Epoch 99/160\n",
      "543/543 [==============================] - 12s 22ms/step - loss: 6.5613e-04 - accuracy: 0.9938 - val_loss: 0.0014 - val_accuracy: 0.9959\n",
      "Epoch 100/160\n",
      "543/543 [==============================] - 12s 22ms/step - loss: 6.6989e-04 - accuracy: 0.9933 - val_loss: 0.0012 - val_accuracy: 0.9917\n",
      "Epoch 101/160\n",
      "543/543 [==============================] - 12s 22ms/step - loss: 6.2866e-04 - accuracy: 0.9945 - val_loss: 8.0207e-04 - val_accuracy: 0.9959\n",
      "Epoch 102/160\n",
      "543/543 [==============================] - 12s 22ms/step - loss: 6.3937e-04 - accuracy: 0.9938 - val_loss: 8.3111e-04 - val_accuracy: 0.9959\n",
      "Epoch 103/160\n",
      "543/543 [==============================] - 12s 22ms/step - loss: 6.3466e-04 - accuracy: 0.9959 - val_loss: 9.0558e-04 - val_accuracy: 0.9896\n",
      "Epoch 104/160\n",
      "543/543 [==============================] - 12s 22ms/step - loss: 6.1973e-04 - accuracy: 0.9940 - val_loss: 0.0010 - val_accuracy: 0.9855\n",
      "Epoch 105/160\n",
      "543/543 [==============================] - 12s 22ms/step - loss: 6.5974e-04 - accuracy: 0.9945 - val_loss: 8.6078e-04 - val_accuracy: 0.9959\n",
      "Epoch 106/160\n",
      "543/543 [==============================] - 12s 22ms/step - loss: 6.2278e-04 - accuracy: 0.9952 - val_loss: 9.6343e-04 - val_accuracy: 0.9959\n",
      "Epoch 107/160\n",
      "543/543 [==============================] - 12s 23ms/step - loss: 6.2911e-04 - accuracy: 0.9936 - val_loss: 0.0011 - val_accuracy: 0.9896\n",
      "Epoch 108/160\n",
      "543/543 [==============================] - 12s 23ms/step - loss: 6.2011e-04 - accuracy: 0.9936 - val_loss: 0.0010 - val_accuracy: 0.9896\n",
      "Epoch 109/160\n"
     ]
    },
    {
     "name": "stdout",
     "output_type": "stream",
     "text": [
      "543/543 [==============================] - 12s 23ms/step - loss: 6.2940e-04 - accuracy: 0.9954 - val_loss: 9.0802e-04 - val_accuracy: 0.9959\n",
      "Epoch 110/160\n",
      "543/543 [==============================] - 13s 23ms/step - loss: 6.4055e-04 - accuracy: 0.9929 - val_loss: 9.6989e-04 - val_accuracy: 0.9979\n",
      "Epoch 111/160\n",
      "543/543 [==============================] - 13s 24ms/step - loss: 6.2635e-04 - accuracy: 0.9956 - val_loss: 9.2968e-04 - val_accuracy: 0.9917\n",
      "Epoch 112/160\n",
      "543/543 [==============================] - 12s 22ms/step - loss: 6.3882e-04 - accuracy: 0.9938 - val_loss: 0.0012 - val_accuracy: 0.9979\n",
      "Epoch 113/160\n",
      "543/543 [==============================] - 12s 22ms/step - loss: 6.2436e-04 - accuracy: 0.9945 - val_loss: 9.2217e-04 - val_accuracy: 0.9917\n",
      "Epoch 114/160\n",
      "543/543 [==============================] - 12s 22ms/step - loss: 6.1431e-04 - accuracy: 0.9929 - val_loss: 0.0010 - val_accuracy: 0.9959\n",
      "Epoch 115/160\n",
      "543/543 [==============================] - 7578s 14s/step - loss: 6.1119e-04 - accuracy: 0.9940 - val_loss: 8.4714e-04 - val_accuracy: 0.9979A: 56s - loss: 6.0868e-04 - accuracy: 0.\n",
      "Epoch 116/160\n",
      "543/543 [==============================] - 11s 20ms/step - loss: 6.1804e-04 - accuracy: 0.9942 - val_loss: 7.7155e-04 - val_accuracy: 0.9959\n",
      "Epoch 117/160\n",
      "543/543 [==============================] - 10s 19ms/step - loss: 6.1301e-04 - accuracy: 0.9942 - val_loss: 7.4349e-04 - val_accuracy: 0.9938\n",
      "Epoch 118/160\n",
      "543/543 [==============================] - 10s 18ms/step - loss: 6.0275e-04 - accuracy: 0.9942 - val_loss: 8.9848e-04 - val_accuracy: 0.9917\n",
      "Epoch 119/160\n",
      "543/543 [==============================] - 10s 18ms/step - loss: 6.0440e-04 - accuracy: 0.9938 - val_loss: 7.9749e-04 - val_accuracy: 0.9979\n",
      "Epoch 120/160\n",
      "543/543 [==============================] - 10s 18ms/step - loss: 6.0128e-04 - accuracy: 0.9952 - val_loss: 0.0010 - val_accuracy: 0.9896\n",
      "Epoch 121/160\n",
      "543/543 [==============================] - 11s 20ms/step - loss: 6.0001e-04 - accuracy: 0.9945 - val_loss: 9.3550e-04 - val_accuracy: 0.9917\n",
      "Epoch 122/160\n",
      "543/543 [==============================] - 10s 19ms/step - loss: 5.9979e-04 - accuracy: 0.9940 - val_loss: 8.5830e-04 - val_accuracy: 0.9917\n",
      "Epoch 123/160\n",
      "543/543 [==============================] - 10s 18ms/step - loss: 5.8827e-04 - accuracy: 0.9945 - val_loss: 8.2055e-04 - val_accuracy: 0.9938\n",
      "Epoch 124/160\n",
      "543/543 [==============================] - 10s 18ms/step - loss: 6.0923e-04 - accuracy: 0.9942 - val_loss: 8.3482e-04 - val_accuracy: 0.9938\n",
      "Epoch 125/160\n",
      "543/543 [==============================] - 9s 17ms/step - loss: 5.9502e-04 - accuracy: 0.9970 - val_loss: 8.0908e-04 - val_accuracy: 0.9959\n",
      "Epoch 126/160\n",
      "543/543 [==============================] - 9s 17ms/step - loss: 5.6780e-04 - accuracy: 0.9947 - val_loss: 7.9991e-04 - val_accuracy: 0.9938\n",
      "Epoch 127/160\n",
      "543/543 [==============================] - 10s 18ms/step - loss: 5.8567e-04 - accuracy: 0.9949 - val_loss: 8.2172e-04 - val_accuracy: 0.9959\n",
      "Epoch 128/160\n",
      "543/543 [==============================] - 10s 19ms/step - loss: 5.6753e-04 - accuracy: 0.9952 - val_loss: 7.6155e-04 - val_accuracy: 0.9959\n",
      "Epoch 129/160\n",
      "543/543 [==============================] - 10s 18ms/step - loss: 5.7995e-04 - accuracy: 0.9936 - val_loss: 8.9977e-04 - val_accuracy: 0.9979\n",
      "Epoch 130/160\n",
      "543/543 [==============================] - 10s 19ms/step - loss: 5.9707e-04 - accuracy: 0.9945 - val_loss: 8.4141e-04 - val_accuracy: 0.9959\n",
      "Epoch 131/160\n",
      "543/543 [==============================] - 11s 19ms/step - loss: 5.6593e-04 - accuracy: 0.9942 - val_loss: 8.1808e-04 - val_accuracy: 0.9959\n",
      "Epoch 132/160\n",
      "543/543 [==============================] - 10s 18ms/step - loss: 5.7823e-04 - accuracy: 0.9959 - val_loss: 7.9985e-04 - val_accuracy: 0.9938\n",
      "Epoch 133/160\n",
      "543/543 [==============================] - 10s 18ms/step - loss: 5.7921e-04 - accuracy: 0.9952 - val_loss: 8.4166e-04 - val_accuracy: 0.9876\n",
      "Epoch 134/160\n",
      "543/543 [==============================] - 9s 17ms/step - loss: 5.5597e-04 - accuracy: 0.9949 - val_loss: 8.5533e-04 - val_accuracy: 0.9938\n",
      "Epoch 135/160\n",
      "543/543 [==============================] - 9s 17ms/step - loss: 5.6597e-04 - accuracy: 0.9949 - val_loss: 0.0012 - val_accuracy: 0.9855\n",
      "Epoch 136/160\n",
      "543/543 [==============================] - 9s 17ms/step - loss: 5.6900e-04 - accuracy: 0.9949 - val_loss: 7.7470e-04 - val_accuracy: 0.9959\n",
      "Epoch 137/160\n",
      "543/543 [==============================] - 9s 17ms/step - loss: 5.4914e-04 - accuracy: 0.9959 - val_loss: 0.0011 - val_accuracy: 0.9896\n",
      "Epoch 138/160\n",
      "543/543 [==============================] - 9s 17ms/step - loss: 5.7059e-04 - accuracy: 0.9936 - val_loss: 0.0010 - val_accuracy: 0.9959\n",
      "Epoch 139/160\n",
      "543/543 [==============================] - 10s 18ms/step - loss: 5.5048e-04 - accuracy: 0.9959 - val_loss: 9.3091e-04 - val_accuracy: 0.9938\n",
      "Epoch 140/160\n",
      "543/543 [==============================] - 9s 17ms/step - loss: 5.7294e-04 - accuracy: 0.9947 - val_loss: 9.6831e-04 - val_accuracy: 0.9917\n",
      "Epoch 141/160\n",
      "543/543 [==============================] - 10s 18ms/step - loss: 5.3424e-04 - accuracy: 0.9940 - val_loss: 9.2532e-04 - val_accuracy: 0.9917\n",
      "Epoch 142/160\n",
      "543/543 [==============================] - 10s 18ms/step - loss: 5.5814e-04 - accuracy: 0.9952 - val_loss: 9.8081e-04 - val_accuracy: 0.9938\n",
      "Epoch 143/160\n",
      "543/543 [==============================] - 10s 19ms/step - loss: 5.6219e-04 - accuracy: 0.9947 - val_loss: 8.3645e-04 - val_accuracy: 0.9938\n",
      "Epoch 144/160\n",
      "543/543 [==============================] - 9s 17ms/step - loss: 5.5712e-04 - accuracy: 0.9940 - val_loss: 8.7978e-04 - val_accuracy: 0.9979\n",
      "Epoch 145/160\n",
      "543/543 [==============================] - 9s 17ms/step - loss: 5.5460e-04 - accuracy: 0.9954 - val_loss: 8.6404e-04 - val_accuracy: 0.9938\n",
      "Epoch 146/160\n",
      "543/543 [==============================] - 10s 19ms/step - loss: 5.4944e-04 - accuracy: 0.9945 - val_loss: 9.3179e-04 - val_accuracy: 0.9959\n",
      "Epoch 147/160\n",
      "543/543 [==============================] - 11s 20ms/step - loss: 5.4711e-04 - accuracy: 0.9952 - val_loss: 0.0010 - val_accuracy: 0.9938\n",
      "Epoch 148/160\n",
      "543/543 [==============================] - 10s 18ms/step - loss: 5.3250e-04 - accuracy: 0.9959 - val_loss: 7.7935e-04 - val_accuracy: 0.9938\n",
      "Epoch 149/160\n",
      "543/543 [==============================] - 10s 18ms/step - loss: 5.6078e-04 - accuracy: 0.9947 - val_loss: 8.9264e-04 - val_accuracy: 0.9917\n",
      "Epoch 150/160\n",
      "543/543 [==============================] - 10s 19ms/step - loss: 5.3740e-04 - accuracy: 0.9949 - val_loss: 9.4130e-04 - val_accuracy: 0.9938\n",
      "Epoch 151/160\n",
      "543/543 [==============================] - 10s 19ms/step - loss: 5.6378e-04 - accuracy: 0.9949 - val_loss: 9.0909e-04 - val_accuracy: 0.9959\n",
      "Epoch 152/160\n",
      "543/543 [==============================] - 11s 19ms/step - loss: 5.4223e-04 - accuracy: 0.9952 - val_loss: 8.5875e-04 - val_accuracy: 0.9896\n",
      "Epoch 153/160\n",
      "543/543 [==============================] - 9s 17ms/step - loss: 5.5805e-04 - accuracy: 0.9947 - val_loss: 8.0712e-04 - val_accuracy: 0.9917\n",
      "Epoch 154/160\n",
      "543/543 [==============================] - 9s 17ms/step - loss: 5.3984e-04 - accuracy: 0.9959 - val_loss: 0.0010 - val_accuracy: 0.9938\n",
      "Epoch 155/160\n",
      "543/543 [==============================] - 9s 17ms/step - loss: 5.2046e-04 - accuracy: 0.9938 - val_loss: 0.0011 - val_accuracy: 0.9938\n",
      "Epoch 156/160\n",
      "543/543 [==============================] - 9s 17ms/step - loss: 5.2636e-04 - accuracy: 0.9956 - val_loss: 0.0011 - val_accuracy: 0.9959\n",
      "Epoch 157/160\n",
      "543/543 [==============================] - 9s 17ms/step - loss: 5.2516e-04 - accuracy: 0.9940 - val_loss: 7.3413e-04 - val_accuracy: 0.9896\n",
      "Epoch 158/160\n",
      "543/543 [==============================] - 9s 17ms/step - loss: 5.2679e-04 - accuracy: 0.9961 - val_loss: 8.7373e-04 - val_accuracy: 0.9938\n",
      "Epoch 159/160\n",
      "543/543 [==============================] - 8s 14ms/step - loss: 5.2628e-04 - accuracy: 0.9945 - val_loss: 0.0011 - val_accuracy: 0.9896\n",
      "Epoch 160/160\n",
      "543/543 [==============================] - 7s 13ms/step - loss: 5.2747e-04 - accuracy: 0.9952 - val_loss: 8.0874e-04 - val_accuracy: 0.9938\n"
     ]
    }
   ],
   "source": [
    "Batch_Size = 8\n",
    "Epoch_Anz = 160\n",
    "Shift_Range = 3\n",
    "Brightness_Range = 0.3\n",
    "\n",
    "datagen = ImageDataGenerator(width_shift_range=[-Shift_Range,Shift_Range], height_shift_range=[-Shift_Range,Shift_Range],brightness_range=[1-Brightness_Range,1+Brightness_Range])\n",
    "\n",
    "train_iterator = datagen.flow(X_train, y_train, batch_size=Batch_Size)\n",
    "validation_iterator = datagen.flow(X_test, y_test, batch_size=Batch_Size)\n",
    "\n",
    "history = model.fit_generator(train_iterator, validation_data = validation_iterator, epochs = Epoch_Anz)"
   ]
  },
  {
   "cell_type": "markdown",
   "metadata": {},
   "source": [
    "### Overall Learing results (Step 1 & Step 2)"
   ]
  },
  {
   "cell_type": "code",
   "execution_count": 7,
   "metadata": {},
   "outputs": [
    {
     "data": {
      "image/png": "[encoded data removed]",
      "text/plain": [
       "<Figure size 432x288 with 1 Axes>"
      ]
     },
     "metadata": {
      "needs_background": "light"
     },
     "output_type": "display_data"
    }
   ],
   "source": [
    "loss_ges = np.append(loss_ges, history.history['loss'])\n",
    "val_loss_ges = np.append(val_loss_ges, history.history['val_loss'])\n",
    "\n",
    "plt.semilogy(loss_ges)\n",
    "plt.semilogy(val_loss_ges)\n",
    "plt.title('model loss')\n",
    "plt.ylabel('loss')\n",
    "plt.xlabel('epoch')\n",
    "plt.legend(['train','eval'], loc='upper left')\n",
    "plt.show()"
   ]
  },
  {
   "cell_type": "markdown",
   "metadata": {},
   "source": [
    "### Check the model by hand\n",
    "\n",
    "* The following code uses the trained model to check the deviation for each picture.\n",
    "* The evaluation takes the periodic character of the results into account (dev1 ... dev2).\n",
    "* Images, that have a bigger deviation as the parameter \"deviation_max_list\" are printed in a list to check the picture and labeling itself"
   ]
  },
  {
   "cell_type": "code",
   "execution_count": 8,
   "metadata": {},
   "outputs": [
    {
     "name": "stdout",
     "output_type": "stream",
     "text": [
      "data_resize_all\\0.3_0155_zeiger4_2020-04-29_13-50-02.jpg 0.03 -0.02691758816313672 0.05691758816313672\n",
      "data_resize_all\\0.9_0381_zeiger4_2020-04-29_13-32-02.jpg 0.09 0.034587613124626056 0.05541238687537394\n",
      "data_resize_all\\4.5_2286_zeiger4_2020-04-29_11-22-02.jpg 0.45 0.39503939651881537 0.054960603481184644\n",
      "data_resize_all\\4.5_2287_zeiger4_2020-04-29_12-53-02.jpg 0.45 0.389624688163297 0.06037531183670303\n",
      "data_resize_all\\5.9_2862_zeiger1_2020-04-29_13-02-02.jpg 0.5900000000000001 0.6430727554858926 -0.05307275548589252\n",
      "data_resize_all\\6.2_3048_zeiger1_2020-04-29_11-48-02.jpg 0.62 0.6854073114627549 -0.06540731146275491\n",
      "data_resize_all\\6.2_3049_zeiger1_2020-04-29_14-26-02.jpg 0.62 0.6921635069167591 -0.0721635069167591\n",
      "data_resize_all\\6.4_3194_zeiger1_2020-04-29_14-27-02.jpg 0.64 0.7237107656824664 -0.08371076568246638\n",
      "data_resize_all\\6.5_3121_zeiger1_2020-04-29_13-07-02.jpg 0.65 0.7132304095835127 -0.06323040958351267\n",
      "data_resize_all\\6.5_3271_zeiger1_2020-04-29_11-49-17.jpg 0.65 0.8246818126649711 -0.17468181266497107\n",
      "data_resize_all\\6.6_3270_zeiger1_2020-04-29_11-49-10.jpg 0.6599999999999999 0.77173494512894 -0.11173494512894011\n",
      "data_resize_all\\6.6_3287_zeiger1_2020-04-29_13-08-01.jpg 0.6599999999999999 0.7511742163979276 -0.09117421639792767\n",
      "data_resize_all\\6.6_3288_zeiger1_2020-04-29_14-28-02.jpg 0.6599999999999999 0.8102090402414156 -0.15020904024141568\n",
      "data_resize_all\\6.7_3340_zeiger1_2020-04-29_11-50-02.jpg 0.67 0.7907149973312823 -0.12071499733128221\n",
      "data_resize_all\\6.7_3341_zeiger1_2020-04-29_14-29-02.jpg 0.67 0.7863236789864041 -0.11632367898640406\n",
      "data_resize_all\\6.8_3396_zeiger1_2020-04-29_13-09-02.jpg 0.6799999999999999 0.7819338405158461 -0.1019338405158462\n",
      "data_resize_all\\6.8_3397_zeiger1_2020-04-29_13-10-02.jpg 0.6799999999999999 0.7424072511977668 -0.06240725119776691\n",
      "data_resize_all\\6.8_3398_zeiger1_2020-04-29_14-30-02.jpg 0.6799999999999999 0.7378025653323166 -0.05780256533231665\n",
      "data_resize_all\\6.9_3449_zeiger1_2020-04-29_11-52-02.jpg 0.6900000000000001 0.757498497250667 -0.06749849725066692\n",
      "data_resize_all\\7.1_3581_zeiger1_2020-04-29_14-33-02.jpg 0.71 0.7696502385850182 -0.05965023858501828\n",
      "data_resize_all\\7.7_3967_zeiger1_2020-04-29_14-38-02.jpg 0.77 0.8373533883134033 -0.06735338831340332\n",
      "data_resize_all\\7.9_3968_zeiger1_2020-04-29_14-39-02.jpg 0.79 0.8624538876536294 -0.07245388765362937\n",
      "data_resize_all\\8.0_4018_zeiger1_2020-04-29_12-01-02.jpg 0.8 0.8607209073928418 -0.06072090739284175\n",
      "data_resize_all\\8.0_4019_zeiger1_2020-04-29_14-40-02.jpg 0.8 0.8639475267022512 -0.06394752670225112\n",
      "data_resize_all\\8.1_4069_zeiger1_2020-04-29_14-42-02.jpg 0.8099999999999999 0.8834102645786887 -0.07341026457868871\n",
      "data_resize_all\\8.1_4114_zeiger1_2020-04-29_13-21-02.jpg 0.8099999999999999 0.860843974120762 -0.050843974120762025\n",
      "data_resize_all\\8.3_4116_zeiger1_2020-04-29_13-23-01.jpg 0.8300000000000001 0.8865199738168047 -0.056519973816804625\n",
      "data_resize_all\\8.3_4117_zeiger1_2020-04-29_14-43-02.jpg 0.8300000000000001 0.8862211056087475 -0.05622110560874738\n",
      "data_resize_all\\9.0_4437_zeiger1_2020-04-29_12-08-02.jpg 0.9 0.9522584054008749 -0.0522584054008749\n"
     ]
    }
   ],
   "source": [
    "Input_dir='data_resize_all'\n",
    "#Input_dir='test_result'\n",
    "files = glob.glob(Input_dir + '/*.*')\n",
    "res = []\n",
    "i = 0\n",
    "deviation_max_list = 0.05\n",
    "\n",
    "for aktfile in files:\n",
    "    base = os.path.basename(aktfile)\n",
    "    target = (float(base[0:3])) / 10\n",
    "    target_sin = math.sin(target * math.pi * 2)\n",
    "    target_cos = math.cos(target * math.pi * 2)\n",
    "\n",
    "    test_image = Image.open(aktfile)\n",
    "    test_image = np.array(test_image, dtype=\"float32\")\n",
    "    img = np.reshape(test_image,[1,32,32,3])\n",
    "    classes = model.predict(img)\n",
    "    \n",
    "    out_sin = classes[0][0]  \n",
    "    out_cos = classes[0][1]\n",
    "    out_target = (np.arctan2(out_sin, out_cos)/(2*math.pi)) % 1\n",
    "\n",
    "    dev_sin = target_sin - out_sin\n",
    "    dev_cos = target_cos - out_cos\n",
    "    dev_target = target - out_target\n",
    "    \n",
    "    if abs(dev_target + 1) < abs(dev_target):\n",
    "        out_target = out_target - 1\n",
    "        dev_target = target - out_target\n",
    "    else:\n",
    "        if abs(dev_target - 1) < abs(dev_target):\n",
    "            out_target = out_target + 1\n",
    "            dev_target = target - out_target\n",
    "               \n",
    "    res.append(np.array([target, out_target, dev_target, out_sin, out_cos, i]))\n",
    "    if abs(dev_target) > deviation_max_list:\n",
    "        print(aktfile + \" \" + str(target) + \" \" + str(out_target) +  \" \" + str(dev_target))\n",
    "    i+=1\n",
    "\n",
    "res = np.asarray(res)\n",
    "res_step_1 = res"
   ]
  },
  {
   "cell_type": "markdown",
   "metadata": {},
   "source": [
    "## Results"
   ]
  },
  {
   "cell_type": "code",
   "execution_count": 9,
   "metadata": {},
   "outputs": [
    {
     "data": {
      "image/png": "[encoded data removed]",
      "text/plain": [
       "<Figure size 432x288 with 1 Axes>"
      ]
     },
     "metadata": {
      "needs_background": "light"
     },
     "output_type": "display_data"
    }
   ],
   "source": [
    "plt.plot(res[:,3])\n",
    "plt.plot(res[:,4])\n",
    "plt.title('Result')\n",
    "plt.ylabel('value')\n",
    "plt.xlabel('#Picture')\n",
    "plt.legend(['sin', 'cos'], loc='lower left')\n",
    "plt.show()"
   ]
  },
  {
   "cell_type": "code",
   "execution_count": 10,
   "metadata": {},
   "outputs": [
    {
     "data": {
      "image/png": "[encoded data removed]",
      "text/plain": [
       "<Figure size 432x288 with 1 Axes>"
      ]
     },
     "metadata": {
      "needs_background": "light"
     },
     "output_type": "display_data"
    }
   ],
   "source": [
    "plt.plot(res[:,0])\n",
    "plt.plot(res[:,1])\n",
    "plt.title('Result')\n",
    "plt.ylabel('Counter Value')\n",
    "plt.xlabel('#Picture')\n",
    "plt.legend(['Orginal', 'Prediction'], loc='upper left')\n",
    "plt.show()"
   ]
  },
  {
   "cell_type": "markdown",
   "metadata": {},
   "source": [
    "### Deviation from Expected Value"
   ]
  },
  {
   "cell_type": "code",
   "execution_count": 11,
   "metadata": {},
   "outputs": [
    {
     "data": {
      "image/png": "[encoded data removed]",
      "text/plain": [
       "<Figure size 432x288 with 1 Axes>"
      ]
     },
     "metadata": {
      "needs_background": "light"
     },
     "output_type": "display_data"
    },
    {
     "name": "stdout",
     "output_type": "stream",
     "text": [
      "[-0.0006  0.0138 -0.1747  0.0604]\n"
     ]
    }
   ],
   "source": [
    "plt.plot(res[:,2])\n",
    "plt.title('Deviation')\n",
    "plt.ylabel('Deviation from expected value')\n",
    "plt.xlabel('#Picture')\n",
    "plt.legend(['Deviation'], loc='upper left')\n",
    "#plt.ylim(-0.3, 0.3)\n",
    "plt.show()\n",
    "\n",
    "statistic = np.array([np.mean(res[:,2]), np.std(res[:,2]), np.min(res[:,2]), np.max(res[:,2])])\n",
    "print(statistic)"
   ]
  },
  {
   "cell_type": "markdown",
   "metadata": {},
   "source": [
    "### Save the model\n",
    "\n",
    "* Save the model to the file with the \"h5\" file format"
   ]
  },
  {
   "cell_type": "code",
   "execution_count": 12,
   "metadata": {},
   "outputs": [
    {
     "data": {
      "text/plain": [
       "100772"
      ]
     },
     "execution_count": 12,
     "metadata": {},
     "output_type": "execute_result"
    }
   ],
   "source": [
    "# model.save(\"CNN_Analog-Readout_Version-6.2.0.h5\")\n",
    "\n",
    "converter = tf.lite.TFLiteConverter.from_keras_model(model)\n",
    "tflite_model = converter.convert()\n",
    "open(\"CNN_Analog-Readout_Version-6.3.0-Small3.tflite\", \"wb\").write(tflite_model)"
   ]
  }
 ],
 "metadata": {
  "kernelspec": {
   "display_name": "Python 3",
   "language": "python",
   "name": "python3"
  },
  "language_info": {
   "codemirror_mode": {
    "name": "ipython",
    "version": 3
   },
   "file_extension": ".py",
   "mimetype": "text/x-python",
   "name": "python",
   "nbconvert_exporter": "python",
   "pygments_lexer": "ipython3",
   "version": "3.7.9"
  }
 },
 "nbformat": 4,
 "nbformat_minor": 2
}
