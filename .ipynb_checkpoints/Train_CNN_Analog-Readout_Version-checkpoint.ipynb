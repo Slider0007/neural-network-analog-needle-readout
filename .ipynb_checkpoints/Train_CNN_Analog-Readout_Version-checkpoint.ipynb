{
 "cells": [
  {
   "cell_type": "markdown",
   "metadata": {},
   "source": [
    "# CNN Training\n",
    "\n",
    "Target of this code is to train a CNN network to extract the needle position of an analog needle device.\n",
    "\n",
    "### Preparing the training\n",
    "* First all libraries are loaded\n",
    "    * It is assumed, that they are installed during the Python setup\n",
    "* matplotlib is set to print the output inline in the jupyter notebook"
   ]
  },
  {
   "cell_type": "code",
   "execution_count": 1,
   "metadata": {
    "scrolled": true
   },
   "outputs": [],
   "source": [
    "import os\n",
    "import tensorflow as tf\n",
    "import matplotlib.pyplot as plt\n",
    "import glob\n",
    "import numpy as np\n",
    "from sklearn.utils import shuffle\n",
    "from tensorflow.python import keras\n",
    "from tensorflow.python.keras import Sequential\n",
    "from tensorflow.python.keras.layers import Dense, InputLayer, Conv2D, MaxPool2D, Flatten, BatchNormalization\n",
    "from tensorflow.keras.preprocessing.image import ImageDataGenerator\n",
    "from sklearn.model_selection import train_test_split\n",
    "import tensorflow.keras.backend as K\n",
    "from tensorflow.keras.callbacks import History \n",
    "import math\n",
    "from PIL import Image \n",
    "\n",
    "loss_ges = np.array([])\n",
    "val_loss_ges = np.array([])\n",
    "\n",
    "%matplotlib inline\n",
    "np.set_printoptions(precision=4)\n",
    "np.set_printoptions(suppress=True)"
   ]
  },
  {
   "cell_type": "markdown",
   "metadata": {},
   "source": [
    "### Load training data\n",
    "* The data is expected in the \"Input_dir\"\n",
    "* Picture size must be 32x32 with 3 color channels (RGB)\n",
    "* The filename contains the informations needed for training in the first 3 digits::\n",
    "* Typical filename: \n",
    "    * x.y-zzzz.jpg \n",
    "    * e.g. \"4.6_Lfd-1406_zeiger3_2019-06-02T050011\"\n",
    "\n",
    "|Place holder | Meaning                     | Usage        |\n",
    "|------------- |-----------------------------|--------------|\n",
    "| **x.y**          | readout value               | **to be learned** |\n",
    "| zzzz        | additional information              | not needed   |\n",
    "\n",
    "* The images are stored in the x_data[]\n",
    "* The expected output for each image in the corresponding y_data[]\n",
    "    * The periodic nature is reflected in a **sin/cos coding**, which allows to restore the angle/counter value with an arctan later on.\n",
    "\n",
    "* The last step is a shuffle (from sklearn.utils) as the filenames are on order due to the encoding of the expected analog readout in the filename "
   ]
  },
  {
   "cell_type": "code",
   "execution_count": 2,
   "metadata": {},
   "outputs": [
    {
     "name": "stdout",
     "output_type": "stream",
     "text": [
      "(4907, 32, 32, 3)\n",
      "(4907, 2)\n"
     ]
    }
   ],
   "source": [
    "Input_dir='data_resize_all'\n",
    "\n",
    "files = glob.glob(Input_dir + '/*.*')\n",
    "x_data = []\n",
    "y_data = []\n",
    "\n",
    "for aktfile in files:\n",
    "    test_image = Image.open(aktfile)\n",
    "    test_image = np.array(test_image, dtype=\"float32\")\n",
    "    test_image = np.reshape(test_image, (32,32,3))\n",
    "    base = os.path.basename(aktfile)\n",
    "    target_number = (float(base[0:3])) / 10\n",
    "    target_sin = math.sin(target_number * math.pi * 2)\n",
    "    target_cos = math.cos(target_number * math.pi * 2)\n",
    "\n",
    "    x_data.append(test_image)\n",
    "    zw = np.array([target_sin, target_cos])\n",
    "    y_data.append(zw)\n",
    "\n",
    "x_data = np.array(x_data)\n",
    "y_data = np.array(y_data)\n",
    "print(x_data.shape)\n",
    "print(y_data.shape)\n",
    "\n",
    "x_data, y_data = shuffle(x_data, y_data)\n",
    "X_train, X_test, y_train, y_test = train_test_split(x_data, y_data, test_size=0.1)"
   ]
  },
  {
   "cell_type": "markdown",
   "metadata": {},
   "source": [
    "### Define the model\n",
    "\n",
    "The layout of the network ist a typcial CNN network with alternating **Conv2D** and **MaxPool2D** layers. Finished after **flattening** with additional **Dense** layer.\n",
    "\n",
    "#### Important\n",
    "* Shape of the input layer: (32, 32, 3)\n",
    "* Shape of the output layer: (2) - sin and cos"
   ]
  },
  {
   "cell_type": "code",
   "execution_count": 3,
   "metadata": {
    "scrolled": true
   },
   "outputs": [
    {
     "name": "stdout",
     "output_type": "stream",
     "text": [
      "Model: \"sequential\"\n",
      "_________________________________________________________________\n",
      "Layer (type)                 Output Shape              Param #   \n",
      "=================================================================\n",
      "batch_normalization (BatchNo (None, 32, 32, 3)         12        \n",
      "_________________________________________________________________\n",
      "conv2d (Conv2D)              (None, 32, 32, 64)        4864      \n",
      "_________________________________________________________________\n",
      "max_pooling2d (MaxPooling2D) (None, 8, 8, 64)          0         \n",
      "_________________________________________________________________\n",
      "conv2d_1 (Conv2D)            (None, 8, 8, 32)          51232     \n",
      "_________________________________________________________________\n",
      "max_pooling2d_1 (MaxPooling2 (None, 2, 2, 32)          0         \n",
      "_________________________________________________________________\n",
      "conv2d_2 (Conv2D)            (None, 2, 2, 32)          9248      \n",
      "_________________________________________________________________\n",
      "max_pooling2d_2 (MaxPooling2 (None, 1, 1, 32)          0         \n",
      "_________________________________________________________________\n",
      "flatten (Flatten)            (None, 32)                0         \n",
      "_________________________________________________________________\n",
      "dense (Dense)                (None, 128)               4224      \n",
      "_________________________________________________________________\n",
      "dense_1 (Dense)              (None, 64)                8256      \n",
      "_________________________________________________________________\n",
      "dense_2 (Dense)              (None, 2)                 130       \n",
      "=================================================================\n",
      "Total params: 77,966\n",
      "Trainable params: 77,960\n",
      "Non-trainable params: 6\n",
      "_________________________________________________________________\n"
     ]
    }
   ],
   "source": [
    "model = Sequential()\n",
    "model.add(BatchNormalization(input_shape=(32,32,3)))\n",
    "model.add(Conv2D(64, (5, 5), input_shape=(32,32,3), padding='same', activation=\"relu\"))\n",
    "model.add(MaxPool2D(pool_size=(4,4)))\n",
    "model.add(Conv2D(32, (5, 5), padding='same', activation=\"relu\"))\n",
    "model.add(MaxPool2D(pool_size=(4,4)))\n",
    "model.add(Conv2D(32, (3, 3), padding='same', activation=\"relu\"))\n",
    "model.add(MaxPool2D(pool_size=(2,2)))\n",
    "model.add(Flatten())\n",
    "model.add(Dense(128,activation=\"relu\"))\n",
    "model.add(Dense(64,activation=\"relu\"))\n",
    "model.add(Dense(2))\n",
    "model.summary()\n",
    "\n",
    "model.compile(loss=keras.losses.mean_squared_error, optimizer=tf.keras.optimizers.Adadelta(learning_rate=1.0, rho=0.95), metrics = [\"accuracy\"])"
   ]
  },
  {
   "cell_type": "markdown",
   "metadata": {},
   "source": [
    "# Training\n",
    "The input pictures are randomly scattered for brightness and pixel shift variations. These is implemented with a ImageDataGenerator.\n",
    "\n",
    "\n",
    "The training is splitted into two steps:\n",
    "1. Variation of the brightness only\n",
    "2. Variation of brightness and Pixel Shift"
   ]
  },
  {
   "cell_type": "markdown",
   "metadata": {},
   "source": [
    "### Step 1: Brigthness scattering only"
   ]
  },
  {
   "cell_type": "code",
   "execution_count": 4,
   "metadata": {},
   "outputs": [
    {
     "name": "stdout",
     "output_type": "stream",
     "text": [
      "WARNING:tensorflow:From <ipython-input-4-9f5ba6453a73>:11: Model.fit_generator (from tensorflow.python.keras.engine.training) is deprecated and will be removed in a future version.\n",
      "Instructions for updating:\n",
      "Please use Model.fit, which supports generators.\n",
      "Epoch 1/30\n",
      "552/552 [==============================] - 23s 42ms/step - loss: 0.1403 - accuracy: 0.8646 - val_loss: 0.0124 - val_accuracy: 0.9837\n",
      "Epoch 2/30\n",
      "552/552 [==============================] - 18s 33ms/step - loss: 0.0148 - accuracy: 0.9744 - val_loss: 0.0050 - val_accuracy: 0.9735\n",
      "Epoch 3/30\n",
      "552/552 [==============================] - 18s 32ms/step - loss: 0.0087 - accuracy: 0.9789 - val_loss: 0.0062 - val_accuracy: 0.9715\n",
      "Epoch 4/30\n",
      "552/552 [==============================] - 17s 30ms/step - loss: 0.0058 - accuracy: 0.9832 - val_loss: 0.0038 - val_accuracy: 0.9878\n",
      "Epoch 5/30\n",
      "552/552 [==============================] - 18s 33ms/step - loss: 0.0043 - accuracy: 0.9837 - val_loss: 0.0027 - val_accuracy: 0.9959oss: 0.0043 - ac\n",
      "Epoch 6/30\n",
      "552/552 [==============================] - 20s 36ms/step - loss: 0.0033 - accuracy: 0.9832 - val_loss: 0.0026 - val_accuracy: 0.9817\n",
      "Epoch 7/30\n",
      "552/552 [==============================] - 22s 40ms/step - loss: 0.0027 - accuracy: 0.9873 - val_loss: 0.0024 - val_accuracy: 0.9980\n",
      "Epoch 8/30\n",
      "552/552 [==============================] - 19s 34ms/step - loss: 0.0021 - accuracy: 0.9846 - val_loss: 0.0026 - val_accuracy: 0.9959\n",
      "Epoch 9/30\n",
      "552/552 [==============================] - 20s 36ms/step - loss: 0.0020 - accuracy: 0.9896 - val_loss: 0.0041 - val_accuracy: 0.9898\n",
      "Epoch 10/30\n",
      "552/552 [==============================] - 18s 33ms/step - loss: 0.0017 - accuracy: 0.9928 - val_loss: 0.0016 - val_accuracy: 0.9878\n",
      "Epoch 11/30\n",
      "552/552 [==============================] - 23s 41ms/step - loss: 0.0016 - accuracy: 0.9932 - val_loss: 0.0014 - val_accuracy: 0.9980\n",
      "Epoch 12/30\n",
      "552/552 [==============================] - 23s 41ms/step - loss: 0.0014 - accuracy: 0.9916 - val_loss: 0.0016 - val_accuracy: 0.9959\n",
      "Epoch 13/30\n",
      "552/552 [==============================] - 18s 33ms/step - loss: 0.0013 - accuracy: 0.9925 - val_loss: 0.0019 - val_accuracy: 0.9837\n",
      "Epoch 14/30\n",
      "552/552 [==============================] - 18s 33ms/step - loss: 0.0012 - accuracy: 0.9941 - val_loss: 0.0017 - val_accuracy: 0.9817 - loss: 0.0012 - accuracy: 0.99\n",
      "Epoch 15/30\n",
      "552/552 [==============================] - 18s 32ms/step - loss: 0.0011 - accuracy: 0.9934 - val_loss: 0.0013 - val_accuracy: 0.9939\n",
      "Epoch 16/30\n",
      "552/552 [==============================] - 17s 31ms/step - loss: 0.0011 - accuracy: 0.9921 - val_loss: 0.0013 - val_accuracy: 0.9919\n",
      "Epoch 17/30\n",
      "552/552 [==============================] - 18s 33ms/step - loss: 9.8214e-04 - accuracy: 0.9932 - val_loss: 0.0013 - val_accuracy: 0.9959\n",
      "Epoch 18/30\n",
      "552/552 [==============================] - 20s 35ms/step - loss: 9.6452e-04 - accuracy: 0.9941 - val_loss: 0.0012 - val_accuracy: 0.9959\n",
      "Epoch 19/30\n",
      "552/552 [==============================] - 24s 43ms/step - loss: 8.7505e-04 - accuracy: 0.9932 - val_loss: 0.0016 - val_accuracy: 0.9939\n",
      "Epoch 20/30\n",
      "552/552 [==============================] - 24s 43ms/step - loss: 8.1497e-04 - accuracy: 0.9946 - val_loss: 0.0011 - val_accuracy: 0.9959\n",
      "Epoch 21/30\n",
      "552/552 [==============================] - 26s 47ms/step - loss: 7.9830e-04 - accuracy: 0.9928 - val_loss: 0.0010 - val_accuracy: 0.9980\n",
      "Epoch 22/30\n",
      "552/552 [==============================] - 25s 45ms/step - loss: 7.5136e-04 - accuracy: 0.9923 - val_loss: 0.0010 - val_accuracy: 1.0000\n",
      "Epoch 23/30\n",
      "552/552 [==============================] - 27s 49ms/step - loss: 7.6205e-04 - accuracy: 0.9934 - val_loss: 8.8611e-04 - val_accuracy: 0.9980\n",
      "Epoch 24/30\n",
      "552/552 [==============================] - 25s 46ms/step - loss: 7.4704e-04 - accuracy: 0.9955 - val_loss: 0.0010 - val_accuracy: 0.9980\n",
      "Epoch 25/30\n",
      "552/552 [==============================] - 26s 47ms/step - loss: 6.8898e-04 - accuracy: 0.9957 - val_loss: 0.0014 - val_accuracy: 1.0000\n",
      "Epoch 26/30\n",
      "552/552 [==============================] - 24s 44ms/step - loss: 6.8919e-04 - accuracy: 0.9918 - val_loss: 0.0011 - val_accuracy: 0.9959\n",
      "Epoch 27/30\n",
      "552/552 [==============================] - 25s 46ms/step - loss: 6.2115e-04 - accuracy: 0.9952 - val_loss: 8.2819e-04 - val_accuracy: 0.9959\n",
      "Epoch 28/30\n",
      "552/552 [==============================] - 25s 46ms/step - loss: 6.2858e-04 - accuracy: 0.9955 - val_loss: 0.0011 - val_accuracy: 0.9980\n",
      "Epoch 29/30\n",
      "552/552 [==============================] - 24s 44ms/step - loss: 6.3622e-04 - accuracy: 0.9959 - val_loss: 9.6417e-04 - val_accuracy: 0.9939\n",
      "Epoch 30/30\n",
      "552/552 [==============================] - 26s 47ms/step - loss: 5.8757e-04 - accuracy: 0.9957 - val_loss: 0.0013 - val_accuracy: 0.9980\n"
     ]
    }
   ],
   "source": [
    "Batch_Size = 8\n",
    "Epoch_Anz = 30\n",
    "Shift_Range = 0\n",
    "Brightness_Range = 0.3\n",
    "\n",
    "datagen = ImageDataGenerator(width_shift_range=[-Shift_Range,Shift_Range], height_shift_range=[-Shift_Range,Shift_Range],brightness_range=[1-Brightness_Range,1+Brightness_Range])\n",
    "\n",
    "train_iterator = datagen.flow(X_train, y_train, batch_size=Batch_Size)\n",
    "validation_iterator = datagen.flow(X_test, y_test, batch_size=Batch_Size)\n",
    "\n",
    "history = model.fit_generator(train_iterator, validation_data = validation_iterator, epochs = Epoch_Anz)"
   ]
  },
  {
   "cell_type": "markdown",
   "metadata": {},
   "source": [
    "### Step 1: Learing result\n",
    " \n",
    "* Visualization of the training and validation results"
   ]
  },
  {
   "cell_type": "code",
   "execution_count": 5,
   "metadata": {},
   "outputs": [
    {
     "data": {
      "image/png": "[encoded data removed]",
      "text/plain": [
       "<Figure size 432x288 with 1 Axes>"
      ]
     },
     "metadata": {
      "needs_background": "light"
     },
     "output_type": "display_data"
    }
   ],
   "source": [
    "loss_ges = np.append(loss_ges, history.history['loss'])\n",
    "val_loss_ges = np.append(val_loss_ges, history.history['val_loss'])\n",
    "\n",
    "plt.semilogy(history.history['loss'])\n",
    "plt.semilogy(history.history['val_loss'])\n",
    "plt.title('model loss')\n",
    "plt.ylabel('loss')\n",
    "plt.xlabel('epoch')\n",
    "plt.legend(['train','eval'], loc='upper left')\n",
    "plt.show()"
   ]
  },
  {
   "cell_type": "markdown",
   "metadata": {},
   "source": [
    "### Step 2: Brigthness and Pixel Shift scattering\n",
    "Here a higher number of epochs is used to reach the minimum loss function"
   ]
  },
  {
   "cell_type": "code",
   "execution_count": 6,
   "metadata": {},
   "outputs": [
    {
     "name": "stdout",
     "output_type": "stream",
     "text": [
      "Epoch 1/160\n",
      "552/552 [==============================] - 25s 45ms/step - loss: 0.0320 - accuracy: 0.9459 - val_loss: 0.0067 - val_accuracy: 0.9857\n",
      "Epoch 2/160\n",
      "552/552 [==============================] - 28s 51ms/step - loss: 0.0071 - accuracy: 0.9774 - val_loss: 0.0056 - val_accuracy: 0.9837\n",
      "Epoch 3/160\n",
      "552/552 [==============================] - 31s 56ms/step - loss: 0.0043 - accuracy: 0.9830 - val_loss: 0.0051 - val_accuracy: 0.9817\n",
      "Epoch 4/160\n",
      "552/552 [==============================] - 33s 60ms/step - loss: 0.0038 - accuracy: 0.9835 - val_loss: 0.0032 - val_accuracy: 0.9878\n",
      "Epoch 5/160\n",
      "552/552 [==============================] - 32s 58ms/step - loss: 0.0032 - accuracy: 0.9885 - val_loss: 0.0038 - val_accuracy: 0.9919\n",
      "Epoch 6/160\n",
      "552/552 [==============================] - 28s 52ms/step - loss: 0.0027 - accuracy: 0.9848 - val_loss: 0.0022 - val_accuracy: 0.9817\n",
      "Epoch 7/160\n",
      "552/552 [==============================] - 28s 50ms/step - loss: 0.0025 - accuracy: 0.9880 - val_loss: 0.0020 - val_accuracy: 0.9919\n",
      "Epoch 8/160\n",
      "552/552 [==============================] - 27s 48ms/step - loss: 0.0021 - accuracy: 0.9896 - val_loss: 0.0028 - val_accuracy: 0.9857\n",
      "Epoch 9/160\n",
      "552/552 [==============================] - 26s 48ms/step - loss: 0.0020 - accuracy: 0.9887 - val_loss: 0.0026 - val_accuracy: 0.9857\n",
      "Epoch 10/160\n",
      "552/552 [==============================] - 26s 47ms/step - loss: 0.0018 - accuracy: 0.9916 - val_loss: 0.0017 - val_accuracy: 0.9919\n",
      "Epoch 11/160\n",
      "552/552 [==============================] - 28s 50ms/step - loss: 0.0018 - accuracy: 0.9905 - val_loss: 0.0017 - val_accuracy: 0.9878\n",
      "Epoch 12/160\n",
      "552/552 [==============================] - 28s 50ms/step - loss: 0.0016 - accuracy: 0.9887 - val_loss: 0.0015 - val_accuracy: 0.9898\n",
      "Epoch 13/160\n",
      "552/552 [==============================] - 27s 48ms/step - loss: 0.0016 - accuracy: 0.9916 - val_loss: 0.0020 - val_accuracy: 0.9878\n",
      "Epoch 14/160\n",
      "552/552 [==============================] - 26s 47ms/step - loss: 0.0014 - accuracy: 0.9916 - val_loss: 0.0020 - val_accuracy: 0.9919\n",
      "Epoch 15/160\n",
      "552/552 [==============================] - 27s 49ms/step - loss: 0.0014 - accuracy: 0.9918 - val_loss: 0.0014 - val_accuracy: 0.9939\n",
      "Epoch 16/160\n",
      "552/552 [==============================] - 29s 52ms/step - loss: 0.0013 - accuracy: 0.9937 - val_loss: 0.0015 - val_accuracy: 0.9959\n",
      "Epoch 17/160\n",
      "552/552 [==============================] - 26s 47ms/step - loss: 0.0013 - accuracy: 0.9930 - val_loss: 0.0013 - val_accuracy: 0.9878\n",
      "Epoch 18/160\n",
      "552/552 [==============================] - 27s 49ms/step - loss: 0.0012 - accuracy: 0.9921 - val_loss: 0.0016 - val_accuracy: 0.9898\n",
      "Epoch 19/160\n",
      "552/552 [==============================] - 27s 50ms/step - loss: 0.0012 - accuracy: 0.9928 - val_loss: 0.0014 - val_accuracy: 0.9878\n",
      "Epoch 20/160\n",
      "552/552 [==============================] - 27s 48ms/step - loss: 0.0011 - accuracy: 0.9937 - val_loss: 0.0019 - val_accuracy: 0.9939\n",
      "Epoch 21/160\n",
      "552/552 [==============================] - 27s 49ms/step - loss: 0.0011 - accuracy: 0.9907 - val_loss: 0.0018 - val_accuracy: 0.9898\n",
      "Epoch 22/160\n",
      "552/552 [==============================] - 27s 48ms/step - loss: 0.0011 - accuracy: 0.9909 - val_loss: 0.0015 - val_accuracy: 0.9878\n",
      "Epoch 23/160\n",
      "552/552 [==============================] - 26s 48ms/step - loss: 0.0010 - accuracy: 0.9916 - val_loss: 0.0011 - val_accuracy: 0.9878\n",
      "Epoch 24/160\n",
      "552/552 [==============================] - 26s 48ms/step - loss: 0.0010 - accuracy: 0.9946 - val_loss: 0.0012 - val_accuracy: 0.9898\n",
      "Epoch 25/160\n",
      "552/552 [==============================] - 27s 49ms/step - loss: 0.0010 - accuracy: 0.9921 - val_loss: 0.0012 - val_accuracy: 0.9878\n",
      "Epoch 26/160\n",
      "552/552 [==============================] - 26s 48ms/step - loss: 0.0010 - accuracy: 0.9934 - val_loss: 0.0012 - val_accuracy: 0.9919\n",
      "Epoch 27/160\n",
      "552/552 [==============================] - 26s 47ms/step - loss: 9.2560e-04 - accuracy: 0.9937 - val_loss: 0.0012 - val_accuracy: 0.9898\n",
      "Epoch 28/160\n",
      "552/552 [==============================] - 26s 47ms/step - loss: 9.2094e-04 - accuracy: 0.9914 - val_loss: 9.9687e-04 - val_accuracy: 0.9939\n",
      "Epoch 29/160\n",
      "552/552 [==============================] - 27s 49ms/step - loss: 9.1758e-04 - accuracy: 0.9934 - val_loss: 0.0014 - val_accuracy: 0.9939\n",
      "Epoch 30/160\n",
      "552/552 [==============================] - 20s 37ms/step - loss: 8.5978e-04 - accuracy: 0.9946 - val_loss: 0.0011 - val_accuracy: 0.9919\n",
      "Epoch 31/160\n",
      "552/552 [==============================] - 22s 40ms/step - loss: 8.4548e-04 - accuracy: 0.9937 - val_loss: 0.0010 - val_accuracy: 0.9939\n",
      "Epoch 32/160\n",
      "552/552 [==============================] - 20s 37ms/step - loss: 8.3801e-04 - accuracy: 0.9939 - val_loss: 0.0011 - val_accuracy: 0.9898\n",
      "Epoch 33/160\n",
      "552/552 [==============================] - 20s 36ms/step - loss: 8.4004e-04 - accuracy: 0.9937 - val_loss: 0.0012 - val_accuracy: 0.9837\n",
      "Epoch 34/160\n",
      "552/552 [==============================] - 20s 35ms/step - loss: 8.3049e-04 - accuracy: 0.9946 - val_loss: 0.0010 - val_accuracy: 0.9919\n",
      "Epoch 35/160\n",
      "552/552 [==============================] - 20s 37ms/step - loss: 8.2220e-04 - accuracy: 0.9941 - val_loss: 0.0011 - val_accuracy: 0.9919\n",
      "Epoch 36/160\n",
      "552/552 [==============================] - 21s 38ms/step - loss: 8.4201e-04 - accuracy: 0.9950 - val_loss: 0.0010 - val_accuracy: 0.9898\n",
      "Epoch 37/160\n",
      "552/552 [==============================] - 20s 36ms/step - loss: 8.0555e-04 - accuracy: 0.9932 - val_loss: 0.0013 - val_accuracy: 0.9919\n",
      "Epoch 38/160\n",
      "552/552 [==============================] - 20s 36ms/step - loss: 7.6723e-04 - accuracy: 0.9955 - val_loss: 0.0010 - val_accuracy: 0.9898\n",
      "Epoch 39/160\n",
      "552/552 [==============================] - 20s 36ms/step - loss: 7.6387e-04 - accuracy: 0.9941 - val_loss: 9.2721e-04 - val_accuracy: 0.9959\n",
      "Epoch 40/160\n",
      "552/552 [==============================] - 20s 37ms/step - loss: 7.7000e-04 - accuracy: 0.9939 - val_loss: 9.7410e-04 - val_accuracy: 0.9919\n",
      "Epoch 41/160\n",
      "552/552 [==============================] - 19s 35ms/step - loss: 7.4649e-04 - accuracy: 0.9941 - val_loss: 0.0010 - val_accuracy: 0.9878\n",
      "Epoch 42/160\n",
      "552/552 [==============================] - 19s 35ms/step - loss: 7.2474e-04 - accuracy: 0.9943 - val_loss: 0.0010 - val_accuracy: 0.9898\n",
      "Epoch 43/160\n",
      "552/552 [==============================] - 18s 33ms/step - loss: 7.3082e-04 - accuracy: 0.9934 - val_loss: 0.0013 - val_accuracy: 0.9959\n",
      "Epoch 44/160\n",
      "552/552 [==============================] - 18s 33ms/step - loss: 6.8470e-04 - accuracy: 0.9943 - val_loss: 0.0013 - val_accuracy: 0.9939\n",
      "Epoch 45/160\n",
      "552/552 [==============================] - 18s 33ms/step - loss: 6.7418e-04 - accuracy: 0.9930 - val_loss: 0.0010 - val_accuracy: 0.9939\n",
      "Epoch 46/160\n",
      "552/552 [==============================] - 18s 33ms/step - loss: 7.0114e-04 - accuracy: 0.9957 - val_loss: 0.0014 - val_accuracy: 0.9919\n",
      "Epoch 47/160\n",
      "552/552 [==============================] - 18s 33ms/step - loss: 7.1934e-04 - accuracy: 0.9950 - val_loss: 0.0010 - val_accuracy: 0.9959\n",
      "Epoch 48/160\n",
      "552/552 [==============================] - 18s 33ms/step - loss: 6.8000e-04 - accuracy: 0.9957 - val_loss: 9.6574e-04 - val_accuracy: 0.9919\n",
      "Epoch 49/160\n",
      "552/552 [==============================] - 18s 33ms/step - loss: 6.7050e-04 - accuracy: 0.9950 - val_loss: 8.9534e-04 - val_accuracy: 0.9939\n",
      "Epoch 50/160\n",
      "552/552 [==============================] - 18s 32ms/step - loss: 6.7242e-04 - accuracy: 0.9950 - val_loss: 8.4093e-04 - val_accuracy: 0.9919\n",
      "Epoch 51/160\n",
      "552/552 [==============================] - 19s 34ms/step - loss: 6.3061e-04 - accuracy: 0.9959 - val_loss: 9.3073e-04 - val_accuracy: 0.9919\n",
      "Epoch 52/160\n",
      "552/552 [==============================] - 18s 32ms/step - loss: 6.5995e-04 - accuracy: 0.9946 - val_loss: 0.0015 - val_accuracy: 0.9939\n",
      "Epoch 53/160\n",
      "552/552 [==============================] - 17s 31ms/step - loss: 6.3928e-04 - accuracy: 0.9932 - val_loss: 0.0011 - val_accuracy: 0.9959: 0s - loss: 6.3967e-04 - accuracy\n",
      "Epoch 54/160\n",
      "552/552 [==============================] - 18s 32ms/step - loss: 6.6279e-04 - accuracy: 0.9948 - val_loss: 0.0011 - val_accuracy: 0.9939\n",
      "Epoch 55/160\n",
      "552/552 [==============================] - 17s 32ms/step - loss: 6.3316e-04 - accuracy: 0.9948 - val_loss: 0.0011 - val_accuracy: 0.9939\n"
     ]
    },
    {
     "name": "stdout",
     "output_type": "stream",
     "text": [
      "Epoch 56/160\n",
      "552/552 [==============================] - 17s 31ms/step - loss: 6.1282e-04 - accuracy: 0.9939 - val_loss: 0.0013 - val_accuracy: 0.9817\n",
      "Epoch 57/160\n",
      "552/552 [==============================] - 17s 31ms/step - loss: 6.3816e-04 - accuracy: 0.9962 - val_loss: 0.0011 - val_accuracy: 0.9959\n",
      "Epoch 58/160\n",
      "552/552 [==============================] - 17s 31ms/step - loss: 6.2924e-04 - accuracy: 0.9957 - val_loss: 8.3898e-04 - val_accuracy: 0.9939\n",
      "Epoch 59/160\n",
      "552/552 [==============================] - 18s 32ms/step - loss: 6.0067e-04 - accuracy: 0.9943 - val_loss: 9.0838e-04 - val_accuracy: 0.9898\n",
      "Epoch 60/160\n",
      "552/552 [==============================] - 17s 32ms/step - loss: 6.0370e-04 - accuracy: 0.9955 - val_loss: 8.3962e-04 - val_accuracy: 0.9980\n",
      "Epoch 61/160\n",
      "552/552 [==============================] - 18s 32ms/step - loss: 6.1467e-04 - accuracy: 0.9962 - val_loss: 9.0471e-04 - val_accuracy: 0.9939\n",
      "Epoch 62/160\n",
      "552/552 [==============================] - 17s 31ms/step - loss: 6.1507e-04 - accuracy: 0.9959 - val_loss: 0.0010 - val_accuracy: 0.9939\n",
      "Epoch 63/160\n",
      "552/552 [==============================] - 17s 32ms/step - loss: 6.0527e-04 - accuracy: 0.9957 - val_loss: 9.5863e-04 - val_accuracy: 0.9939\n",
      "Epoch 64/160\n",
      "552/552 [==============================] - 18s 32ms/step - loss: 5.9155e-04 - accuracy: 0.9941 - val_loss: 9.5938e-04 - val_accuracy: 0.9939\n",
      "Epoch 65/160\n",
      "552/552 [==============================] - 18s 33ms/step - loss: 5.9617e-04 - accuracy: 0.9952 - val_loss: 9.2075e-04 - val_accuracy: 0.9959\n",
      "Epoch 66/160\n",
      "552/552 [==============================] - 18s 33ms/step - loss: 5.9966e-04 - accuracy: 0.9957 - val_loss: 8.6713e-04 - val_accuracy: 0.9939\n",
      "Epoch 67/160\n",
      "552/552 [==============================] - 17s 32ms/step - loss: 5.6965e-04 - accuracy: 0.9957 - val_loss: 9.6136e-04 - val_accuracy: 0.9898\n",
      "Epoch 68/160\n",
      "552/552 [==============================] - 18s 33ms/step - loss: 5.9421e-04 - accuracy: 0.9957 - val_loss: 8.6038e-04 - val_accuracy: 0.9898 loss: 5.9110e\n",
      "Epoch 69/160\n",
      "552/552 [==============================] - 19s 34ms/step - loss: 5.7139e-04 - accuracy: 0.9959 - val_loss: 9.5906e-04 - val_accuracy: 0.9919\n",
      "Epoch 70/160\n",
      "552/552 [==============================] - 18s 33ms/step - loss: 5.5736e-04 - accuracy: 0.9946 - val_loss: 9.3729e-04 - val_accuracy: 0.9939\n",
      "Epoch 71/160\n",
      "552/552 [==============================] - 18s 33ms/step - loss: 5.3776e-04 - accuracy: 0.9957 - val_loss: 8.9838e-04 - val_accuracy: 0.9878TA: 4s - loss: 5.471 - - ETA: 2s - loss:\n",
      "Epoch 72/160\n",
      "552/552 [==============================] - 18s 32ms/step - loss: 5.6172e-04 - accuracy: 0.9946 - val_loss: 0.0012 - val_accuracy: 0.9919\n",
      "Epoch 73/160\n",
      "552/552 [==============================] - 18s 32ms/step - loss: 5.3732e-04 - accuracy: 0.9941 - val_loss: 9.6822e-04 - val_accuracy: 0.9939\n",
      "Epoch 74/160\n",
      "552/552 [==============================] - 18s 33ms/step - loss: 5.5297e-04 - accuracy: 0.9962 - val_loss: 9.6450e-04 - val_accuracy: 0.9939\n",
      "Epoch 75/160\n",
      "552/552 [==============================] - 15s 28ms/step - loss: 5.3865e-04 - accuracy: 0.9952 - val_loss: 8.3008e-04 - val_accuracy: 0.9939\n",
      "Epoch 76/160\n",
      "552/552 [==============================] - 15s 26ms/step - loss: 5.6434e-04 - accuracy: 0.9957 - val_loss: 9.3248e-04 - val_accuracy: 0.9939\n",
      "Epoch 77/160\n",
      "552/552 [==============================] - 15s 27ms/step - loss: 5.4406e-04 - accuracy: 0.9952 - val_loss: 8.7242e-04 - val_accuracy: 0.9939\n",
      "Epoch 78/160\n",
      "552/552 [==============================] - 14s 26ms/step - loss: 5.2646e-04 - accuracy: 0.9950 - val_loss: 8.3032e-04 - val_accuracy: 0.9919\n",
      "Epoch 79/160\n",
      "552/552 [==============================] - 15s 27ms/step - loss: 5.3624e-04 - accuracy: 0.9968 - val_loss: 7.9712e-04 - val_accuracy: 0.9939\n",
      "Epoch 80/160\n",
      "552/552 [==============================] - 15s 27ms/step - loss: 5.4081e-04 - accuracy: 0.9957 - val_loss: 0.0010 - val_accuracy: 0.9878\n",
      "Epoch 81/160\n",
      "552/552 [==============================] - 14s 26ms/step - loss: 5.2268e-04 - accuracy: 0.9962 - val_loss: 8.2576e-04 - val_accuracy: 0.9919\n",
      "Epoch 82/160\n",
      "552/552 [==============================] - 14s 26ms/step - loss: 5.2998e-04 - accuracy: 0.9968 - val_loss: 0.0010 - val_accuracy: 0.9857\n",
      "Epoch 83/160\n",
      "552/552 [==============================] - 15s 26ms/step - loss: 5.3052e-04 - accuracy: 0.9937 - val_loss: 8.3740e-04 - val_accuracy: 0.9939\n",
      "Epoch 84/160\n",
      "552/552 [==============================] - 15s 27ms/step - loss: 5.0627e-04 - accuracy: 0.9950 - val_loss: 9.2119e-04 - val_accuracy: 0.9980\n",
      "Epoch 85/160\n",
      "552/552 [==============================] - 15s 28ms/step - loss: 4.9574e-04 - accuracy: 0.9957 - val_loss: 7.7113e-04 - val_accuracy: 0.9980\n",
      "Epoch 86/160\n",
      "552/552 [==============================] - 15s 28ms/step - loss: 5.1223e-04 - accuracy: 0.9964 - val_loss: 8.0626e-04 - val_accuracy: 0.9919\n",
      "Epoch 87/160\n",
      "552/552 [==============================] - 16s 28ms/step - loss: 4.9567e-04 - accuracy: 0.9968 - val_loss: 9.4242e-04 - val_accuracy: 0.9959\n",
      "Epoch 88/160\n",
      "552/552 [==============================] - 15s 28ms/step - loss: 5.1099e-04 - accuracy: 0.9962 - val_loss: 9.4583e-04 - val_accuracy: 0.9878\n",
      "Epoch 89/160\n",
      "552/552 [==============================] - 16s 29ms/step - loss: 5.0050e-04 - accuracy: 0.9952 - val_loss: 8.7009e-04 - val_accuracy: 0.9939\n",
      "Epoch 90/160\n",
      "552/552 [==============================] - 15s 27ms/step - loss: 4.8842e-04 - accuracy: 0.9952 - val_loss: 8.6699e-04 - val_accuracy: 0.9939\n",
      "Epoch 91/160\n",
      "552/552 [==============================] - 16s 28ms/step - loss: 5.0121e-04 - accuracy: 0.9957 - val_loss: 0.0011 - val_accuracy: 0.9939\n",
      "Epoch 92/160\n",
      "552/552 [==============================] - 15s 28ms/step - loss: 4.8244e-04 - accuracy: 0.9959 - val_loss: 9.2616e-04 - val_accuracy: 0.9919\n",
      "Epoch 93/160\n",
      "552/552 [==============================] - 15s 27ms/step - loss: 4.7929e-04 - accuracy: 0.9950 - val_loss: 8.9639e-04 - val_accuracy: 0.9919\n",
      "Epoch 94/160\n",
      "552/552 [==============================] - 15s 28ms/step - loss: 4.7514e-04 - accuracy: 0.9950 - val_loss: 8.3581e-04 - val_accuracy: 0.9939\n",
      "Epoch 95/160\n",
      "552/552 [==============================] - 16s 29ms/step - loss: 4.6048e-04 - accuracy: 0.9968 - val_loss: 8.4511e-04 - val_accuracy: 0.9959\n",
      "Epoch 96/160\n",
      "552/552 [==============================] - 15s 28ms/step - loss: 4.5934e-04 - accuracy: 0.9957 - val_loss: 0.0010 - val_accuracy: 0.9919\n",
      "Epoch 97/160\n",
      "552/552 [==============================] - 15s 28ms/step - loss: 4.7819e-04 - accuracy: 0.9959 - val_loss: 9.4112e-04 - val_accuracy: 0.9898\n",
      "Epoch 98/160\n",
      "552/552 [==============================] - 15s 27ms/step - loss: 4.7426e-04 - accuracy: 0.9962 - val_loss: 9.4984e-04 - val_accuracy: 0.9959\n",
      "Epoch 99/160\n",
      "552/552 [==============================] - 15s 27ms/step - loss: 4.6852e-04 - accuracy: 0.9957 - val_loss: 8.3024e-04 - val_accuracy: 0.9878\n",
      "Epoch 100/160\n",
      "552/552 [==============================] - 15s 28ms/step - loss: 4.7234e-04 - accuracy: 0.9966 - val_loss: 9.8411e-04 - val_accuracy: 0.9939\n",
      "Epoch 101/160\n",
      "552/552 [==============================] - 15s 28ms/step - loss: 4.6257e-04 - accuracy: 0.9971 - val_loss: 8.8856e-04 - val_accuracy: 0.9919\n",
      "Epoch 102/160\n",
      "552/552 [==============================] - 14s 25ms/step - loss: 4.7197e-04 - accuracy: 0.9946 - val_loss: 8.4043e-04 - val_accuracy: 0.9898\n",
      "Epoch 103/160\n",
      "552/552 [==============================] - 14s 26ms/step - loss: 4.7880e-04 - accuracy: 0.9966 - val_loss: 9.0354e-04 - val_accuracy: 0.9919\n",
      "Epoch 104/160\n",
      "552/552 [==============================] - 14s 25ms/step - loss: 4.5315e-04 - accuracy: 0.9955 - val_loss: 8.0473e-04 - val_accuracy: 0.9959\n",
      "Epoch 105/160\n",
      "552/552 [==============================] - 14s 25ms/step - loss: 4.4630e-04 - accuracy: 0.9959 - val_loss: 7.8970e-04 - val_accuracy: 0.9959\n",
      "Epoch 106/160\n",
      "552/552 [==============================] - 14s 26ms/step - loss: 4.4954e-04 - accuracy: 0.9964 - val_loss: 8.7611e-04 - val_accuracy: 0.9919\n",
      "Epoch 107/160\n",
      "552/552 [==============================] - 14s 26ms/step - loss: 4.5598e-04 - accuracy: 0.9968 - val_loss: 8.6115e-04 - val_accuracy: 0.9898\n",
      "Epoch 108/160\n",
      "552/552 [==============================] - 15s 26ms/step - loss: 4.6090e-04 - accuracy: 0.9962 - val_loss: 0.0011 - val_accuracy: 0.9959\n",
      "Epoch 109/160\n"
     ]
    },
    {
     "name": "stdout",
     "output_type": "stream",
     "text": [
      "552/552 [==============================] - 14s 26ms/step - loss: 4.5172e-04 - accuracy: 0.9977 - val_loss: 8.6546e-04 - val_accuracy: 0.9959\n",
      "Epoch 110/160\n",
      "552/552 [==============================] - 16s 29ms/step - loss: 4.6547e-04 - accuracy: 0.9964 - val_loss: 9.8455e-04 - val_accuracy: 0.9959\n",
      "Epoch 111/160\n",
      "552/552 [==============================] - 14s 26ms/step - loss: 4.4670e-04 - accuracy: 0.9962 - val_loss: 8.5096e-04 - val_accuracy: 0.9959\n",
      "Epoch 112/160\n",
      "552/552 [==============================] - 14s 26ms/step - loss: 4.4701e-04 - accuracy: 0.9973 - val_loss: 8.2413e-04 - val_accuracy: 0.9959\n",
      "Epoch 113/160\n",
      "552/552 [==============================] - 14s 25ms/step - loss: 4.3620e-04 - accuracy: 0.9966 - val_loss: 8.0897e-04 - val_accuracy: 0.9939\n",
      "Epoch 114/160\n",
      "552/552 [==============================] - 14s 25ms/step - loss: 4.4712e-04 - accuracy: 0.9957 - val_loss: 9.0714e-04 - val_accuracy: 0.9980\n",
      "Epoch 115/160\n",
      "552/552 [==============================] - 14s 25ms/step - loss: 4.2235e-04 - accuracy: 0.9973 - val_loss: 9.1773e-04 - val_accuracy: 0.9959\n",
      "Epoch 116/160\n",
      "552/552 [==============================] - 14s 25ms/step - loss: 4.3504e-04 - accuracy: 0.9964 - val_loss: 0.0010 - val_accuracy: 0.9939\n",
      "Epoch 117/160\n",
      "552/552 [==============================] - 11s 20ms/step - loss: 4.1055e-04 - accuracy: 0.9968 - val_loss: 8.3038e-04 - val_accuracy: 0.9898\n",
      "Epoch 118/160\n",
      "552/552 [==============================] - 11s 20ms/step - loss: 4.2245e-04 - accuracy: 0.9962 - val_loss: 7.9896e-04 - val_accuracy: 0.9919\n",
      "Epoch 119/160\n",
      "552/552 [==============================] - 12s 21ms/step - loss: 4.3228e-04 - accuracy: 0.9959 - val_loss: 9.1597e-04 - val_accuracy: 0.9898\n",
      "Epoch 120/160\n",
      "552/552 [==============================] - 12s 21ms/step - loss: 4.2874e-04 - accuracy: 0.9966 - val_loss: 7.4988e-04 - val_accuracy: 0.9898\n",
      "Epoch 121/160\n",
      "552/552 [==============================] - 12s 22ms/step - loss: 4.2478e-04 - accuracy: 0.9973 - val_loss: 9.0328e-04 - val_accuracy: 0.9959\n",
      "Epoch 122/160\n",
      "552/552 [==============================] - 12s 21ms/step - loss: 4.2540e-04 - accuracy: 0.9966 - val_loss: 9.9856e-04 - val_accuracy: 0.9939\n",
      "Epoch 123/160\n",
      "552/552 [==============================] - 11s 20ms/step - loss: 4.0559e-04 - accuracy: 0.9959 - val_loss: 8.7659e-04 - val_accuracy: 0.9959\n",
      "Epoch 124/160\n",
      "552/552 [==============================] - 11s 20ms/step - loss: 4.1548e-04 - accuracy: 0.9971 - val_loss: 8.0599e-04 - val_accuracy: 0.9959\n",
      "Epoch 125/160\n",
      "552/552 [==============================] - 11s 20ms/step - loss: 4.2368e-04 - accuracy: 0.9959 - val_loss: 8.1021e-04 - val_accuracy: 0.9959\n",
      "Epoch 126/160\n",
      "552/552 [==============================] - 12s 21ms/step - loss: 4.2554e-04 - accuracy: 0.9962 - val_loss: 7.5817e-04 - val_accuracy: 0.9980\n",
      "Epoch 127/160\n",
      "552/552 [==============================] - 14s 25ms/step - loss: 4.1184e-04 - accuracy: 0.9962 - val_loss: 8.3350e-04 - val_accuracy: 0.9898\n",
      "Epoch 128/160\n",
      "552/552 [==============================] - 13s 24ms/step - loss: 4.3374e-04 - accuracy: 0.9968 - val_loss: 7.7454e-04 - val_accuracy: 0.9959\n",
      "Epoch 129/160\n",
      "552/552 [==============================] - 11s 20ms/step - loss: 4.1300e-04 - accuracy: 0.9980 - val_loss: 8.3351e-04 - val_accuracy: 0.9959\n",
      "Epoch 130/160\n",
      "552/552 [==============================] - 10s 18ms/step - loss: 4.0992e-04 - accuracy: 0.9968 - val_loss: 0.0010 - val_accuracy: 0.9939\n",
      "Epoch 131/160\n",
      "552/552 [==============================] - 10s 18ms/step - loss: 4.1253e-04 - accuracy: 0.9973 - val_loss: 0.0011 - val_accuracy: 0.9959\n",
      "Epoch 132/160\n",
      "552/552 [==============================] - 10s 19ms/step - loss: 4.0165e-04 - accuracy: 0.9968 - val_loss: 8.6496e-04 - val_accuracy: 1.0000\n",
      "Epoch 133/160\n",
      "552/552 [==============================] - 10s 18ms/step - loss: 4.2015e-04 - accuracy: 0.9968 - val_loss: 8.9823e-04 - val_accuracy: 0.9980\n",
      "Epoch 134/160\n",
      "552/552 [==============================] - 10s 17ms/step - loss: 4.2231e-04 - accuracy: 0.9950 - val_loss: 8.3868e-04 - val_accuracy: 0.9939\n",
      "Epoch 135/160\n",
      "552/552 [==============================] - 9s 17ms/step - loss: 4.0439e-04 - accuracy: 0.9971 - val_loss: 7.8495e-04 - val_accuracy: 0.9939\n",
      "Epoch 136/160\n",
      "552/552 [==============================] - 10s 17ms/step - loss: 4.1279e-04 - accuracy: 0.9968 - val_loss: 9.2763e-04 - val_accuracy: 0.9939\n",
      "Epoch 137/160\n",
      "552/552 [==============================] - 10s 18ms/step - loss: 3.8217e-04 - accuracy: 0.9968 - val_loss: 8.5451e-04 - val_accuracy: 0.9959\n",
      "Epoch 138/160\n",
      "552/552 [==============================] - 10s 18ms/step - loss: 3.9894e-04 - accuracy: 0.9975 - val_loss: 7.7539e-04 - val_accuracy: 0.9959\n",
      "Epoch 139/160\n",
      "552/552 [==============================] - 11s 20ms/step - loss: 3.8526e-04 - accuracy: 0.9971 - val_loss: 8.6142e-04 - val_accuracy: 0.9959\n",
      "Epoch 140/160\n",
      "552/552 [==============================] - 10s 18ms/step - loss: 3.9057e-04 - accuracy: 0.9971 - val_loss: 8.4110e-04 - val_accuracy: 1.0000\n",
      "Epoch 141/160\n",
      "552/552 [==============================] - 9s 16ms/step - loss: 3.9568e-04 - accuracy: 0.9971 - val_loss: 7.7410e-04 - val_accuracy: 0.9939\n",
      "Epoch 142/160\n",
      "552/552 [==============================] - 9s 16ms/step - loss: 3.9822e-04 - accuracy: 0.9980 - val_loss: 9.7846e-04 - val_accuracy: 0.9939\n",
      "Epoch 143/160\n",
      "552/552 [==============================] - 8s 15ms/step - loss: 3.7751e-04 - accuracy: 0.9982 - val_loss: 7.7167e-04 - val_accuracy: 0.9959\n",
      "Epoch 144/160\n",
      "552/552 [==============================] - 9s 16ms/step - loss: 3.8540e-04 - accuracy: 0.9973 - val_loss: 7.1300e-04 - val_accuracy: 0.9959\n",
      "Epoch 145/160\n",
      "552/552 [==============================] - 8s 15ms/step - loss: 3.9413e-04 - accuracy: 0.9968 - val_loss: 9.2522e-04 - val_accuracy: 0.9980\n",
      "Epoch 146/160\n",
      "552/552 [==============================] - 8s 15ms/step - loss: 3.7868e-04 - accuracy: 0.9957 - val_loss: 7.8717e-04 - val_accuracy: 0.9959\n",
      "Epoch 147/160\n",
      "552/552 [==============================] - 8s 15ms/step - loss: 3.8003e-04 - accuracy: 0.9986 - val_loss: 8.2744e-04 - val_accuracy: 0.9919\n",
      "Epoch 148/160\n",
      "552/552 [==============================] - 8s 15ms/step - loss: 3.8698e-04 - accuracy: 0.9968 - val_loss: 8.3184e-04 - val_accuracy: 0.9959\n",
      "Epoch 149/160\n",
      "552/552 [==============================] - 8s 15ms/step - loss: 3.8405e-04 - accuracy: 0.9962 - val_loss: 7.5090e-04 - val_accuracy: 0.9980\n",
      "Epoch 150/160\n",
      "552/552 [==============================] - 8s 15ms/step - loss: 3.7322e-04 - accuracy: 0.9971 - val_loss: 7.5058e-04 - val_accuracy: 0.9980\n",
      "Epoch 151/160\n",
      "552/552 [==============================] - 8s 15ms/step - loss: 3.8076e-04 - accuracy: 0.9968 - val_loss: 8.7371e-04 - val_accuracy: 0.9919\n",
      "Epoch 152/160\n",
      "552/552 [==============================] - 9s 16ms/step - loss: 3.6884e-04 - accuracy: 0.9962 - val_loss: 8.9445e-04 - val_accuracy: 0.9959\n",
      "Epoch 153/160\n",
      "552/552 [==============================] - 9s 15ms/step - loss: 3.7900e-04 - accuracy: 0.9964 - val_loss: 7.8028e-04 - val_accuracy: 0.9939\n",
      "Epoch 154/160\n",
      "552/552 [==============================] - 8s 14ms/step - loss: 3.8984e-04 - accuracy: 0.9964 - val_loss: 6.8939e-04 - val_accuracy: 0.9980\n",
      "Epoch 155/160\n",
      "552/552 [==============================] - 8s 14ms/step - loss: 3.6818e-04 - accuracy: 0.9975 - val_loss: 8.4496e-04 - val_accuracy: 0.9959\n",
      "Epoch 156/160\n",
      "552/552 [==============================] - 8s 14ms/step - loss: 3.5965e-04 - accuracy: 0.9980 - val_loss: 7.2716e-04 - val_accuracy: 1.0000\n",
      "Epoch 157/160\n",
      "552/552 [==============================] - 8s 15ms/step - loss: 3.5938e-04 - accuracy: 0.9959 - val_loss: 9.6117e-04 - val_accuracy: 0.9939\n",
      "Epoch 158/160\n",
      "552/552 [==============================] - 8s 14ms/step - loss: 3.6961e-04 - accuracy: 0.9975 - val_loss: 8.6489e-04 - val_accuracy: 0.9878\n",
      "Epoch 159/160\n",
      "552/552 [==============================] - 8s 14ms/step - loss: 3.6217e-04 - accuracy: 0.9968 - val_loss: 7.8091e-04 - val_accuracy: 0.9919\n",
      "Epoch 160/160\n",
      "552/552 [==============================] - 8s 14ms/step - loss: 3.6483e-04 - accuracy: 0.9973 - val_loss: 8.2486e-04 - val_accuracy: 0.9980\n"
     ]
    }
   ],
   "source": [
    "Batch_Size = 8\n",
    "Epoch_Anz = 160\n",
    "Shift_Range = 3\n",
    "Brightness_Range = 0.3\n",
    "\n",
    "datagen = ImageDataGenerator(width_shift_range=[-Shift_Range,Shift_Range], height_shift_range=[-Shift_Range,Shift_Range],brightness_range=[1-Brightness_Range,1+Brightness_Range])\n",
    "\n",
    "train_iterator = datagen.flow(X_train, y_train, batch_size=Batch_Size)\n",
    "validation_iterator = datagen.flow(X_test, y_test, batch_size=Batch_Size)\n",
    "\n",
    "history = model.fit_generator(train_iterator, validation_data = validation_iterator, epochs = Epoch_Anz)"
   ]
  },
  {
   "cell_type": "markdown",
   "metadata": {},
   "source": [
    "### Overall Learing results (Step 1 & Step 2)"
   ]
  },
  {
   "cell_type": "code",
   "execution_count": 7,
   "metadata": {},
   "outputs": [
    {
     "data": {
      "image/png": "[encoded data removed]",
      "text/plain": [
       "<Figure size 432x288 with 1 Axes>"
      ]
     },
     "metadata": {
      "needs_background": "light"
     },
     "output_type": "display_data"
    }
   ],
   "source": [
    "loss_ges = np.append(loss_ges, history.history['loss'])\n",
    "val_loss_ges = np.append(val_loss_ges, history.history['val_loss'])\n",
    "\n",
    "plt.semilogy(loss_ges)\n",
    "plt.semilogy(val_loss_ges)\n",
    "plt.title('model loss')\n",
    "plt.ylabel('loss')\n",
    "plt.xlabel('epoch')\n",
    "plt.legend(['train','eval'], loc='upper left')\n",
    "plt.show()"
   ]
  },
  {
   "cell_type": "markdown",
   "metadata": {},
   "source": [
    "### Check the model by hand\n",
    "\n",
    "* The following code uses the trained model to check the deviation for each picture.\n",
    "* The evaluation takes the periodic character of the results into account (dev1 ... dev2).\n",
    "* Images, that have a bigger deviation as the parameter \"deviation_max_list\" are printed in a list to check the picture and labeling itself"
   ]
  },
  {
   "cell_type": "code",
   "execution_count": 8,
   "metadata": {},
   "outputs": [
    {
     "name": "stdout",
     "output_type": "stream",
     "text": [
      "data_resize_all\\4.1_2036_zeiger1_2020-04-29_12-50-02.jpg 0.41 0.35914136417005316 0.05085863582994682\n",
      "data_resize_all\\6.2_3049_zeiger1_2020-04-29_14-26-02.jpg 0.62 0.67290083666476 -0.052900836664759976\n",
      "data_resize_all\\6.5_3271_zeiger1_2020-04-29_11-49-17.jpg 0.65 0.7124062903419075 -0.06240629034190748\n",
      "data_resize_all\\7.4_3756_zeiger1_2020-04-29_11-56-01.jpg 0.74 0.8045943022069544 -0.06459430220695439\n",
      "data_resize_all\\7.4_3758_zeiger1_2020-04-29_13-15-02.jpg 0.74 0.8088532856366635 -0.06885328563666349\n",
      "data_resize_all\\7.6_3859_zeiger1_2020-04-29_11-57-02.jpg 0.76 0.8162619349111333 -0.05626193491113329\n",
      "data_resize_all\\7.6_3860_zeiger1_2020-04-29_13-16-02.jpg 0.76 0.8230494164260858 -0.06304941642608575\n",
      "data_resize_all\\7.6_3861_zeiger1_2020-04-29_14-36-02.jpg 0.76 0.8452417540269541 -0.08524175402695411\n",
      "data_resize_all\\7.7_3895_zeiger1_2020-04-29_11-58-02.jpg 0.77 0.8240858407143921 -0.05408584071439204\n",
      "data_resize_all\\7.7_3896_zeiger1_2020-04-29_13-17-02.jpg 0.77 0.8401009647162748 -0.0701009647162748\n",
      "data_resize_all\\7.7_3924_zeiger1_2020-04-29_14-37-02.jpg 0.77 0.8236897466607744 -0.05368974666077442\n",
      "data_resize_all\\7.7_3967_zeiger1_2020-04-29_14-38-02.jpg 0.77 0.8618353191605463 -0.09183531916054632\n",
      "data_resize_all\\7.8_3963_zeiger1_2020-04-29_11-59-02.jpg 0.78 0.849262231045396 -0.06926223104539597\n",
      "data_resize_all\\7.8_3965_zeiger1_2020-04-29_13-18-02.jpg 0.78 0.8659994483381569 -0.08599944833815687\n",
      "data_resize_all\\7.9_3964_zeiger1_2020-04-29_12-00-02.jpg 0.79 0.8589436067934398 -0.0689436067934398\n",
      "data_resize_all\\7.9_3966_zeiger1_2020-04-29_13-19-02.jpg 0.79 0.8656519814368802 -0.07565198143688012\n",
      "data_resize_all\\7.9_3968_zeiger1_2020-04-29_14-39-02.jpg 0.79 0.887954645565592 -0.09795464556559197\n",
      "data_resize_all\\8.0_4019_zeiger1_2020-04-29_14-40-02.jpg 0.8 0.8559864289604135 -0.055986428960413503\n",
      "data_resize_all\\8.1_4066_zeiger1_2020-04-29_12-02-04.jpg 0.8099999999999999 0.8629527096496388 -0.05295270964963883\n",
      "data_resize_all\\8.1_4067_zeiger1_2020-04-29_13-20-02.jpg 0.8099999999999999 0.8639017549484382 -0.053901754948438296\n",
      "data_resize_all\\8.1_4068_zeiger1_2020-04-29_14-41-02.jpg 0.8099999999999999 0.8782848431936419 -0.06828484319364192\n",
      "data_resize_all\\8.1_4069_zeiger1_2020-04-29_14-42-02.jpg 0.8099999999999999 0.867136428189244 -0.057136428189244026\n",
      "data_resize_all\\8.2_4111_zeiger1_2020-04-29_10-45-02.jpg 0.82 0.8814299176334605 -0.06142991763346051\n",
      "data_resize_all\\8.2_4115_zeiger1_2020-04-29_13-22-02.jpg 0.82 0.8865651289563176 -0.06656512895631761\n",
      "data_resize_all\\8.2_4116_zeiger1_2020-04-29_13-23-01.jpg 0.82 0.8892468604383154 -0.0692468604383154\n",
      "data_resize_all\\8.2_4117_zeiger1_2020-04-29_14-43-02.jpg 0.82 0.8811770962840576 -0.06117709628405765\n",
      "data_resize_all\\8.5_4214_zeiger1_2020-04-29_13-24-02.jpg 0.85 0.9089131094928977 -0.05891310949289774\n"
     ]
    }
   ],
   "source": [
    "Input_dir='data_resize_all'\n",
    "#Input_dir='test_result'\n",
    "files = glob.glob(Input_dir + '/*.*')\n",
    "res = []\n",
    "i = 0\n",
    "deviation_max_list = 0.05\n",
    "\n",
    "for aktfile in files:\n",
    "    base = os.path.basename(aktfile)\n",
    "    target = (float(base[0:3])) / 10\n",
    "    target_sin = math.sin(target * math.pi * 2)\n",
    "    target_cos = math.cos(target * math.pi * 2)\n",
    "\n",
    "    test_image = Image.open(aktfile)\n",
    "    test_image = np.array(test_image, dtype=\"float32\")\n",
    "    img = np.reshape(test_image,[1,32,32,3])\n",
    "    classes = model.predict(img)\n",
    "    \n",
    "    out_sin = classes[0][0]  \n",
    "    out_cos = classes[0][1]\n",
    "    out_target = (np.arctan2(out_sin, out_cos)/(2*math.pi)) % 1\n",
    "\n",
    "    dev_sin = target_sin - out_sin\n",
    "    dev_cos = target_cos - out_cos\n",
    "    dev_target = target - out_target\n",
    "    \n",
    "    if abs(dev_target + 1) < abs(dev_target):\n",
    "        out_target = out_target - 1\n",
    "        dev_target = target - out_target\n",
    "    else:\n",
    "        if abs(dev_target - 1) < abs(dev_target):\n",
    "            out_target = out_target + 1\n",
    "            dev_target = target - out_target\n",
    "               \n",
    "    res.append(np.array([target, out_target, dev_target, out_sin, out_cos, i]))\n",
    "    if abs(dev_target) > deviation_max_list:\n",
    "        print(aktfile + \" \" + str(target) + \" \" + str(out_target) +  \" \" + str(dev_target))\n",
    "    i+=1\n",
    "\n",
    "res = np.asarray(res)\n",
    "res_step_1 = res"
   ]
  },
  {
   "cell_type": "markdown",
   "metadata": {},
   "source": [
    "## Results"
   ]
  },
  {
   "cell_type": "code",
   "execution_count": 9,
   "metadata": {},
   "outputs": [
    {
     "data": {
      "image/png": "[encoded data removed]",
      "text/plain": [
       "<Figure size 432x288 with 1 Axes>"
      ]
     },
     "metadata": {
      "needs_background": "light"
     },
     "output_type": "display_data"
    }
   ],
   "source": [
    "plt.plot(res[:,3])\n",
    "plt.plot(res[:,4])\n",
    "plt.title('Result')\n",
    "plt.ylabel('value')\n",
    "plt.xlabel('#Picture')\n",
    "plt.legend(['sin', 'cos'], loc='lower left')\n",
    "plt.show()"
   ]
  },
  {
   "cell_type": "code",
   "execution_count": 10,
   "metadata": {},
   "outputs": [
    {
     "data": {
      "image/png": "[encoded data removed]",
      "text/plain": [
       "<Figure size 432x288 with 1 Axes>"
      ]
     },
     "metadata": {
      "needs_background": "light"
     },
     "output_type": "display_data"
    }
   ],
   "source": [
    "plt.plot(res[:,0])\n",
    "plt.plot(res[:,1])\n",
    "plt.title('Result')\n",
    "plt.ylabel('Counter Value')\n",
    "plt.xlabel('#Picture')\n",
    "plt.legend(['Orginal', 'Prediction'], loc='upper left')\n",
    "plt.show()"
   ]
  },
  {
   "cell_type": "markdown",
   "metadata": {},
   "source": [
    "### Deviation from Expected Value"
   ]
  },
  {
   "cell_type": "code",
   "execution_count": 11,
   "metadata": {},
   "outputs": [
    {
     "data": {
      "image/png": "[encoded data removed]",
      "text/plain": [
       "<Figure size 432x288 with 1 Axes>"
      ]
     },
     "metadata": {
      "needs_background": "light"
     },
     "output_type": "display_data"
    },
    {
     "name": "stdout",
     "output_type": "stream",
     "text": [
      "[-0.001   0.0115 -0.098   0.0509]\n"
     ]
    }
   ],
   "source": [
    "plt.plot(res[:,2])\n",
    "plt.title('Deviation')\n",
    "plt.ylabel('Deviation from expected value')\n",
    "plt.xlabel('#Picture')\n",
    "plt.legend(['Deviation'], loc='upper left')\n",
    "#plt.ylim(-0.3, 0.3)\n",
    "plt.show()\n",
    "\n",
    "statistic = np.array([np.mean(res[:,2]), np.std(res[:,2]), np.min(res[:,2]), np.max(res[:,2])])\n",
    "print(statistic)"
   ]
  },
  {
   "cell_type": "markdown",
   "metadata": {},
   "source": [
    "### Save the model\n",
    "\n",
    "* Save the model to the file with the \"h5\" file format"
   ]
  },
  {
   "cell_type": "code",
   "execution_count": 12,
   "metadata": {},
   "outputs": [
    {
     "data": {
      "text/plain": [
       "316004"
      ]
     },
     "execution_count": 12,
     "metadata": {},
     "output_type": "execute_result"
    }
   ],
   "source": [
    "# model.save(\"CNN_Analog-Readout_Version-6.2.0.h5\")\n",
    "\n",
    "converter = tf.lite.TFLiteConverter.from_keras_model(model)\n",
    "tflite_model = converter.convert()\n",
    "open(\"CNN_Analog-Readout_Version-6.3.0.tflite\", \"wb\").write(tflite_model)"
   ]
  }
 ],
 "metadata": {
  "kernelspec": {
   "display_name": "Python 3",
   "language": "python",
   "name": "python3"
  },
  "language_info": {
   "codemirror_mode": {
    "name": "ipython",
    "version": 3
   },
   "file_extension": ".py",
   "mimetype": "text/x-python",
   "name": "python",
   "nbconvert_exporter": "python",
   "pygments_lexer": "ipython3",
   "version": "3.7.7"
  }
 },
 "nbformat": 4,
 "nbformat_minor": 2
}
