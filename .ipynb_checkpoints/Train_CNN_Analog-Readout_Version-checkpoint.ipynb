{
 "cells": [
  {
   "cell_type": "markdown",
   "metadata": {},
   "source": [
    "# CNN Training\n",
    "\n",
    "Target of this code is to train a CNN network to extract the needle position of an analog needle device.\n",
    "\n",
    "### Preparing the training\n",
    "* First all libraries are loaded\n",
    "    * It is assumed, that they are installed during the Python setup\n",
    "* matplotlib is set to print the output inline in the jupyter notebook"
   ]
  },
  {
   "cell_type": "code",
   "execution_count": 1,
   "metadata": {
    "scrolled": true
   },
   "outputs": [],
   "source": [
    "import os\n",
    "import tensorflow as tf\n",
    "import matplotlib.pyplot as plt\n",
    "import glob\n",
    "import numpy as np\n",
    "from sklearn.utils import shuffle\n",
    "from tensorflow.python import keras\n",
    "from tensorflow.python.keras import Sequential\n",
    "from tensorflow.python.keras.layers import Dense, InputLayer, Conv2D, MaxPool2D, Flatten, BatchNormalization\n",
    "from tensorflow.keras.preprocessing.image import ImageDataGenerator\n",
    "from sklearn.model_selection import train_test_split\n",
    "import tensorflow.keras.backend as K\n",
    "from tensorflow.keras.callbacks import History \n",
    "import math\n",
    "from PIL import Image \n",
    "\n",
    "loss_ges = np.array([])\n",
    "val_loss_ges = np.array([])\n",
    "\n",
    "%matplotlib inline\n",
    "np.set_printoptions(precision=4)\n",
    "np.set_printoptions(suppress=True)"
   ]
  },
  {
   "cell_type": "markdown",
   "metadata": {},
   "source": [
    "### Load training data\n",
    "* The data is expected in the \"Input_dir\"\n",
    "* Picture size must be 32x32 with 3 color channels (RGB)\n",
    "* The filename contains the informations needed for training in the first 3 digits::\n",
    "* Typical filename: \n",
    "    * x.y-zzzz.jpg \n",
    "    * e.g. \"4.6_Lfd-1406_zeiger3_2019-06-02T050011\"\n",
    "\n",
    "|Place holder | Meaning                     | Usage        |\n",
    "|------------- |-----------------------------|--------------|\n",
    "| **x.y**          | readout value               | **to be learned** |\n",
    "| zzzz        | additional information              | not needed   |\n",
    "\n",
    "* The images are stored in the x_data[]\n",
    "* The expected output for each image in the corresponding y_data[]\n",
    "    * The periodic nature is reflected in a **sin/cos coding**, which allows to restore the angle/counter value with an arctan later on.\n",
    "\n",
    "* The last step is a shuffle (from sklearn.utils) as the filenames are on order due to the encoding of the expected analog readout in the filename "
   ]
  },
  {
   "cell_type": "code",
   "execution_count": 2,
   "metadata": {},
   "outputs": [
    {
     "name": "stdout",
     "output_type": "stream",
     "text": [
      "(3859, 32, 32, 3)\n",
      "(3859, 2)\n"
     ]
    }
   ],
   "source": [
    "Input_dir='data_resize_all'\n",
    "\n",
    "files = glob.glob(Input_dir + '/*.*')\n",
    "x_data = []\n",
    "y_data = []\n",
    "\n",
    "for aktfile in files:\n",
    "    test_image = Image.open(aktfile)\n",
    "    test_image = np.array(test_image, dtype=\"float32\")\n",
    "    test_image = np.reshape(test_image, (32,32,3))\n",
    "    base = os.path.basename(aktfile)\n",
    "    target_number = (float(base[0:3])) / 10\n",
    "    target_sin = math.sin(target_number * math.pi * 2)\n",
    "    target_cos = math.cos(target_number * math.pi * 2)\n",
    "\n",
    "    x_data.append(test_image)\n",
    "    zw = np.array([target_sin, target_cos])\n",
    "    y_data.append(zw)\n",
    "\n",
    "x_data = np.array(x_data)\n",
    "y_data = np.array(y_data)\n",
    "print(x_data.shape)\n",
    "print(y_data.shape)\n",
    "\n",
    "x_data, y_data = shuffle(x_data, y_data)\n",
    "X_train, X_test, y_train, y_test = train_test_split(x_data, y_data, test_size=0.1)"
   ]
  },
  {
   "cell_type": "markdown",
   "metadata": {},
   "source": [
    "### Define the model\n",
    "\n",
    "The layout of the network ist a typcial CNN network with alternating **Conv2D** and **MaxPool2D** layers. Finished after **flattening** with additional **Dense** layer.\n",
    "\n",
    "#### Important\n",
    "* Shape of the input layer: (32, 32, 3)\n",
    "* Shape of the output layer: (2) - sin and cos"
   ]
  },
  {
   "cell_type": "code",
   "execution_count": 3,
   "metadata": {
    "scrolled": true
   },
   "outputs": [
    {
     "name": "stdout",
     "output_type": "stream",
     "text": [
      "Model: \"sequential\"\n",
      "_________________________________________________________________\n",
      "Layer (type)                 Output Shape              Param #   \n",
      "=================================================================\n",
      "batch_normalization (BatchNo (None, 32, 32, 3)         12        \n",
      "_________________________________________________________________\n",
      "conv2d (Conv2D)              (None, 32, 32, 64)        4864      \n",
      "_________________________________________________________________\n",
      "max_pooling2d (MaxPooling2D) (None, 8, 8, 64)          0         \n",
      "_________________________________________________________________\n",
      "conv2d_1 (Conv2D)            (None, 8, 8, 32)          51232     \n",
      "_________________________________________________________________\n",
      "max_pooling2d_1 (MaxPooling2 (None, 2, 2, 32)          0         \n",
      "_________________________________________________________________\n",
      "conv2d_2 (Conv2D)            (None, 2, 2, 32)          9248      \n",
      "_________________________________________________________________\n",
      "max_pooling2d_2 (MaxPooling2 (None, 1, 1, 32)          0         \n",
      "_________________________________________________________________\n",
      "flatten (Flatten)            (None, 32)                0         \n",
      "_________________________________________________________________\n",
      "dense (Dense)                (None, 128)               4224      \n",
      "_________________________________________________________________\n",
      "dense_1 (Dense)              (None, 64)                8256      \n",
      "_________________________________________________________________\n",
      "dense_2 (Dense)              (None, 2)                 130       \n",
      "=================================================================\n",
      "Total params: 77,966\n",
      "Trainable params: 77,960\n",
      "Non-trainable params: 6\n",
      "_________________________________________________________________\n"
     ]
    }
   ],
   "source": [
    "model = Sequential()\n",
    "model.add(BatchNormalization(input_shape=(32,32,3)))\n",
    "model.add(Conv2D(64, (5, 5), input_shape=(32,32,3), padding='same', activation=\"relu\"))\n",
    "model.add(MaxPool2D(pool_size=(4,4)))\n",
    "model.add(Conv2D(32, (5, 5), padding='same', activation=\"relu\"))\n",
    "model.add(MaxPool2D(pool_size=(4,4)))\n",
    "model.add(Conv2D(32, (3, 3), padding='same', activation=\"relu\"))\n",
    "model.add(MaxPool2D(pool_size=(2,2)))\n",
    "model.add(Flatten())\n",
    "model.add(Dense(128,activation=\"relu\"))\n",
    "model.add(Dense(64,activation=\"relu\"))\n",
    "model.add(Dense(2))\n",
    "model.summary()\n",
    "\n",
    "model.compile(loss=keras.losses.mean_squared_error, optimizer=tf.keras.optimizers.Adadelta(learning_rate=1.0, rho=0.95), metrics = [\"accuracy\"])"
   ]
  },
  {
   "cell_type": "markdown",
   "metadata": {},
   "source": [
    "# Training\n",
    "The input pictures are randomly scattered for brightness and pixel shift variations. These is implemented with a ImageDataGenerator.\n",
    "\n",
    "\n",
    "The training is splitted into two steps:\n",
    "1. Variation of the brightness only\n",
    "2. Variation of brightness and Pixel Shift"
   ]
  },
  {
   "cell_type": "markdown",
   "metadata": {},
   "source": [
    "### Step 1: Brigthness scattering only"
   ]
  },
  {
   "cell_type": "code",
   "execution_count": 4,
   "metadata": {},
   "outputs": [
    {
     "name": "stdout",
     "output_type": "stream",
     "text": [
      "WARNING:tensorflow:From <ipython-input-4-9f5ba6453a73>:11: Model.fit_generator (from tensorflow.python.keras.engine.training) is deprecated and will be removed in a future version.\n",
      "Instructions for updating:\n",
      "Please use Model.fit, which supports generators.\n",
      "WARNING:tensorflow:sample_weight modes were coerced from\n",
      "  ...\n",
      "    to  \n",
      "  ['...']\n",
      "WARNING:tensorflow:sample_weight modes were coerced from\n",
      "  ...\n",
      "    to  \n",
      "  ['...']\n",
      "Train for 435 steps, validate for 49 steps\n",
      "Epoch 1/30\n",
      "435/435 [==============================] - 10s 23ms/step - loss: 0.1386 - accuracy: 0.8624 - val_loss: 0.0461 - val_accuracy: 0.9119\n",
      "Epoch 2/30\n",
      "435/435 [==============================] - 10s 22ms/step - loss: 0.0150 - accuracy: 0.9629 - val_loss: 0.0102 - val_accuracy: 0.9637\n",
      "Epoch 3/30\n",
      "435/435 [==============================] - 11s 25ms/step - loss: 0.0100 - accuracy: 0.9726 - val_loss: 0.0056 - val_accuracy: 0.9767\n",
      "Epoch 4/30\n",
      "435/435 [==============================] - 10s 22ms/step - loss: 0.0075 - accuracy: 0.9744 - val_loss: 0.0056 - val_accuracy: 0.9689\n",
      "Epoch 5/30\n",
      "435/435 [==============================] - 10s 23ms/step - loss: 0.0055 - accuracy: 0.9744 - val_loss: 0.0046 - val_accuracy: 0.9845\n",
      "Epoch 6/30\n",
      "435/435 [==============================] - 10s 24ms/step - loss: 0.0040 - accuracy: 0.9801 - val_loss: 0.0030 - val_accuracy: 0.9896\n",
      "Epoch 7/30\n",
      "435/435 [==============================] - 11s 25ms/step - loss: 0.0031 - accuracy: 0.9790 - val_loss: 0.0045 - val_accuracy: 0.9715\n",
      "Epoch 8/30\n",
      "435/435 [==============================] - 11s 25ms/step - loss: 0.0025 - accuracy: 0.9819 - val_loss: 0.0021 - val_accuracy: 0.9870\n",
      "Epoch 9/30\n",
      "435/435 [==============================] - 10s 24ms/step - loss: 0.0021 - accuracy: 0.9839 - val_loss: 0.0019 - val_accuracy: 0.9845\n",
      "Epoch 10/30\n",
      "435/435 [==============================] - 11s 25ms/step - loss: 0.0019 - accuracy: 0.9787 - val_loss: 0.0017 - val_accuracy: 0.9793\n",
      "Epoch 11/30\n",
      "435/435 [==============================] - 11s 26ms/step - loss: 0.0017 - accuracy: 0.9850 - val_loss: 0.0023 - val_accuracy: 0.9896\n",
      "Epoch 12/30\n",
      "435/435 [==============================] - 10s 23ms/step - loss: 0.0015 - accuracy: 0.9862 - val_loss: 0.0017 - val_accuracy: 0.9819\n",
      "Epoch 13/30\n",
      "435/435 [==============================] - 11s 25ms/step - loss: 0.0014 - accuracy: 0.9845 - val_loss: 0.0015 - val_accuracy: 0.9870\n",
      "Epoch 14/30\n",
      "435/435 [==============================] - 10s 23ms/step - loss: 0.0013 - accuracy: 0.9859 - val_loss: 0.0015 - val_accuracy: 0.9870\n",
      "Epoch 15/30\n",
      "435/435 [==============================] - 10s 24ms/step - loss: 0.0012 - accuracy: 0.9847 - val_loss: 0.0014 - val_accuracy: 0.9845\n",
      "Epoch 16/30\n",
      "435/435 [==============================] - 11s 25ms/step - loss: 0.0011 - accuracy: 0.9845 - val_loss: 0.0014 - val_accuracy: 0.9896\n",
      "Epoch 17/30\n",
      "435/435 [==============================] - 10s 23ms/step - loss: 0.0010 - accuracy: 0.9853 - val_loss: 0.0016 - val_accuracy: 0.9845\n",
      "Epoch 18/30\n",
      "435/435 [==============================] - 10s 23ms/step - loss: 9.8298e-04 - accuracy: 0.9856 - val_loss: 0.0018 - val_accuracy: 0.9819\n",
      "Epoch 19/30\n",
      "435/435 [==============================] - 11s 26ms/step - loss: 9.3720e-04 - accuracy: 0.9856 - val_loss: 9.8918e-04 - val_accuracy: 0.9922\n",
      "Epoch 20/30\n",
      "435/435 [==============================] - 12s 28ms/step - loss: 8.5869e-04 - accuracy: 0.9885 - val_loss: 0.0017 - val_accuracy: 0.9922\n",
      "Epoch 21/30\n",
      "435/435 [==============================] - 12s 27ms/step - loss: 8.5757e-04 - accuracy: 0.9870 - val_loss: 0.0012 - val_accuracy: 0.9896\n",
      "Epoch 22/30\n",
      "435/435 [==============================] - 10s 23ms/step - loss: 8.2271e-04 - accuracy: 0.9893 - val_loss: 0.0011 - val_accuracy: 0.9922\n",
      "Epoch 23/30\n",
      "435/435 [==============================] - 10s 23ms/step - loss: 7.9107e-04 - accuracy: 0.9893 - val_loss: 9.0143e-04 - val_accuracy: 0.9922\n",
      "Epoch 24/30\n",
      "435/435 [==============================] - 10s 22ms/step - loss: 7.4075e-04 - accuracy: 0.9879 - val_loss: 0.0016 - val_accuracy: 0.9845\n",
      "Epoch 25/30\n",
      "435/435 [==============================] - 9s 21ms/step - loss: 7.4747e-04 - accuracy: 0.9888 - val_loss: 0.0011 - val_accuracy: 0.9922\n",
      "Epoch 26/30\n",
      "435/435 [==============================] - 10s 22ms/step - loss: 6.7369e-04 - accuracy: 0.9899 - val_loss: 0.0012 - val_accuracy: 0.9819\n",
      "Epoch 27/30\n",
      "435/435 [==============================] - 9s 21ms/step - loss: 6.6659e-04 - accuracy: 0.9856 - val_loss: 9.4157e-04 - val_accuracy: 0.9870\n",
      "Epoch 28/30\n",
      "435/435 [==============================] - 10s 22ms/step - loss: 6.7931e-04 - accuracy: 0.9899 - val_loss: 0.0011 - val_accuracy: 0.9922\n",
      "Epoch 29/30\n",
      "435/435 [==============================] - 10s 23ms/step - loss: 6.1582e-04 - accuracy: 0.9885 - val_loss: 9.0155e-04 - val_accuracy: 0.9870\n",
      "Epoch 30/30\n",
      "435/435 [==============================] - 11s 25ms/step - loss: 6.0175e-04 - accuracy: 0.9893 - val_loss: 0.0011 - val_accuracy: 0.9896\n"
     ]
    }
   ],
   "source": [
    "Batch_Size = 8\n",
    "Epoch_Anz = 30\n",
    "Shift_Range = 0\n",
    "Brightness_Range = 0.3\n",
    "\n",
    "datagen = ImageDataGenerator(width_shift_range=[-Shift_Range,Shift_Range], height_shift_range=[-Shift_Range,Shift_Range],brightness_range=[1-Brightness_Range,1+Brightness_Range])\n",
    "\n",
    "train_iterator = datagen.flow(X_train, y_train, batch_size=Batch_Size)\n",
    "validation_iterator = datagen.flow(X_test, y_test, batch_size=Batch_Size)\n",
    "\n",
    "history = model.fit_generator(train_iterator, validation_data = validation_iterator, epochs = Epoch_Anz)"
   ]
  },
  {
   "cell_type": "markdown",
   "metadata": {},
   "source": [
    "### Step 1: Learing result\n",
    " \n",
    "* Visualization of the training and validation results"
   ]
  },
  {
   "cell_type": "code",
   "execution_count": 5,
   "metadata": {},
   "outputs": [
    {
     "data": {
      "image/png": "[encoded data removed]",
      "text/plain": [
       "<Figure size 432x288 with 1 Axes>"
      ]
     },
     "metadata": {
      "needs_background": "light"
     },
     "output_type": "display_data"
    }
   ],
   "source": [
    "loss_ges = np.append(loss_ges, history.history['loss'])\n",
    "val_loss_ges = np.append(val_loss_ges, history.history['val_loss'])\n",
    "\n",
    "plt.semilogy(history.history['loss'])\n",
    "plt.semilogy(history.history['val_loss'])\n",
    "plt.title('model loss')\n",
    "plt.ylabel('loss')\n",
    "plt.xlabel('epoch')\n",
    "plt.legend(['train','eval'], loc='upper left')\n",
    "plt.show()"
   ]
  },
  {
   "cell_type": "markdown",
   "metadata": {},
   "source": [
    "### Step 2: Brigthness and Pixel Shift scattering\n",
    "Here a higher number of epochs is used to reach the minimum loss function"
   ]
  },
  {
   "cell_type": "code",
   "execution_count": 6,
   "metadata": {},
   "outputs": [
    {
     "name": "stdout",
     "output_type": "stream",
     "text": [
      "WARNING:tensorflow:sample_weight modes were coerced from\n",
      "  ...\n",
      "    to  \n",
      "  ['...']\n",
      "WARNING:tensorflow:sample_weight modes were coerced from\n",
      "  ...\n",
      "    to  \n",
      "  ['...']\n",
      "Train for 435 steps, validate for 49 steps\n",
      "Epoch 1/80\n",
      "435/435 [==============================] - 12s 28ms/step - loss: 0.0284 - accuracy: 0.9490 - val_loss: 0.0097 - val_accuracy: 0.9689\n",
      "Epoch 2/80\n",
      "435/435 [==============================] - 13s 29ms/step - loss: 0.0056 - accuracy: 0.9738 - val_loss: 0.0058 - val_accuracy: 0.9715\n",
      "Epoch 3/80\n",
      "435/435 [==============================] - 11s 25ms/step - loss: 0.0038 - accuracy: 0.9758 - val_loss: 0.0049 - val_accuracy: 0.9767\n",
      "Epoch 4/80\n",
      "435/435 [==============================] - 13s 30ms/step - loss: 0.0032 - accuracy: 0.9790 - val_loss: 0.0030 - val_accuracy: 0.9741\n",
      "Epoch 5/80\n",
      "435/435 [==============================] - 14s 33ms/step - loss: 0.0027 - accuracy: 0.9781 - val_loss: 0.0026 - val_accuracy: 0.9845\n",
      "Epoch 6/80\n",
      "435/435 [==============================] - 13s 29ms/step - loss: 0.0024 - accuracy: 0.9819 - val_loss: 0.0021 - val_accuracy: 0.9767\n",
      "Epoch 7/80\n",
      "435/435 [==============================] - 12s 28ms/step - loss: 0.0023 - accuracy: 0.9816 - val_loss: 0.0021 - val_accuracy: 0.9793\n",
      "Epoch 8/80\n",
      "435/435 [==============================] - 12s 29ms/step - loss: 0.0020 - accuracy: 0.9816 - val_loss: 0.0021 - val_accuracy: 0.9870\n",
      "Epoch 9/80\n",
      "435/435 [==============================] - 15s 34ms/step - loss: 0.0019 - accuracy: 0.9862 - val_loss: 0.0023 - val_accuracy: 0.9793\n",
      "Epoch 10/80\n",
      "435/435 [==============================] - 15s 34ms/step - loss: 0.0018 - accuracy: 0.9801 - val_loss: 0.0023 - val_accuracy: 0.9845\n",
      "Epoch 11/80\n",
      "435/435 [==============================] - 15s 35ms/step - loss: 0.0017 - accuracy: 0.9833 - val_loss: 0.0017 - val_accuracy: 0.9845\n",
      "Epoch 12/80\n",
      "435/435 [==============================] - 19s 44ms/step - loss: 0.0016 - accuracy: 0.9827 - val_loss: 0.0024 - val_accuracy: 0.9793\n",
      "Epoch 13/80\n",
      "435/435 [==============================] - 18s 41ms/step - loss: 0.0014 - accuracy: 0.9850 - val_loss: 0.0019 - val_accuracy: 0.9819\n",
      "Epoch 14/80\n",
      "435/435 [==============================] - 18s 40ms/step - loss: 0.0014 - accuracy: 0.9868 - val_loss: 0.0017 - val_accuracy: 0.9767\n",
      "Epoch 15/80\n",
      "435/435 [==============================] - 18s 42ms/step - loss: 0.0014 - accuracy: 0.9845 - val_loss: 0.0015 - val_accuracy: 0.9819\n",
      "Epoch 16/80\n",
      "435/435 [==============================] - 17s 40ms/step - loss: 0.0014 - accuracy: 0.9839 - val_loss: 0.0015 - val_accuracy: 0.9793\n",
      "Epoch 17/80\n",
      "435/435 [==============================] - 19s 43ms/step - loss: 0.0012 - accuracy: 0.9827 - val_loss: 0.0012 - val_accuracy: 0.9870\n",
      "Epoch 18/80\n",
      "435/435 [==============================] - 14s 31ms/step - loss: 0.0012 - accuracy: 0.9856 - val_loss: 0.0014 - val_accuracy: 0.9819\n",
      "Epoch 19/80\n",
      "435/435 [==============================] - 11s 26ms/step - loss: 0.0012 - accuracy: 0.9870 - val_loss: 0.0012 - val_accuracy: 0.9896\n",
      "Epoch 20/80\n",
      "435/435 [==============================] - 11s 25ms/step - loss: 0.0011 - accuracy: 0.9873 - val_loss: 0.0014 - val_accuracy: 0.9845\n",
      "Epoch 21/80\n",
      "435/435 [==============================] - 11s 26ms/step - loss: 0.0011 - accuracy: 0.9853 - val_loss: 0.0010 - val_accuracy: 0.9819\n",
      "Epoch 22/80\n",
      "435/435 [==============================] - 11s 26ms/step - loss: 0.0011 - accuracy: 0.9847 - val_loss: 0.0018 - val_accuracy: 0.9741\n",
      "Epoch 23/80\n",
      "435/435 [==============================] - 11s 25ms/step - loss: 0.0011 - accuracy: 0.9850 - val_loss: 0.0015 - val_accuracy: 0.9819\n",
      "Epoch 24/80\n",
      "435/435 [==============================] - 12s 26ms/step - loss: 0.0011 - accuracy: 0.9847 - val_loss: 0.0012 - val_accuracy: 0.9793\n",
      "Epoch 25/80\n",
      "435/435 [==============================] - 11s 26ms/step - loss: 9.5465e-04 - accuracy: 0.9876 - val_loss: 0.0010 - val_accuracy: 0.9845\n",
      "Epoch 26/80\n",
      "435/435 [==============================] - 11s 26ms/step - loss: 9.3846e-04 - accuracy: 0.9859 - val_loss: 9.1834e-04 - val_accuracy: 0.9870\n",
      "Epoch 27/80\n",
      "435/435 [==============================] - 11s 26ms/step - loss: 9.4676e-04 - accuracy: 0.9868 - val_loss: 9.9297e-04 - val_accuracy: 0.9819\n",
      "Epoch 28/80\n",
      "435/435 [==============================] - 14s 32ms/step - loss: 9.2786e-04 - accuracy: 0.9856 - val_loss: 0.0010 - val_accuracy: 0.9793\n",
      "Epoch 29/80\n",
      "435/435 [==============================] - 15s 34ms/step - loss: 9.1615e-04 - accuracy: 0.9876 - val_loss: 0.0011 - val_accuracy: 0.9870\n",
      "Epoch 30/80\n",
      "435/435 [==============================] - 12s 27ms/step - loss: 8.9286e-04 - accuracy: 0.9865 - val_loss: 9.7397e-04 - val_accuracy: 0.9870\n",
      "Epoch 31/80\n",
      "435/435 [==============================] - 11s 26ms/step - loss: 8.5878e-04 - accuracy: 0.9891 - val_loss: 0.0011 - val_accuracy: 0.9845\n",
      "Epoch 32/80\n",
      "435/435 [==============================] - 11s 26ms/step - loss: 8.4662e-04 - accuracy: 0.9868 - val_loss: 0.0013 - val_accuracy: 0.9819\n",
      "Epoch 33/80\n",
      "435/435 [==============================] - 12s 27ms/step - loss: 8.5570e-04 - accuracy: 0.9859 - val_loss: 9.1360e-04 - val_accuracy: 0.9819\n",
      "Epoch 34/80\n",
      "435/435 [==============================] - 12s 27ms/step - loss: 8.2671e-04 - accuracy: 0.9865 - val_loss: 8.6688e-04 - val_accuracy: 0.9870\n",
      "Epoch 35/80\n",
      "435/435 [==============================] - 11s 26ms/step - loss: 8.1371e-04 - accuracy: 0.9870 - val_loss: 9.2619e-04 - val_accuracy: 0.9870\n",
      "Epoch 36/80\n",
      "435/435 [==============================] - 12s 28ms/step - loss: 8.2896e-04 - accuracy: 0.9862 - val_loss: 0.0011 - val_accuracy: 0.9845\n",
      "Epoch 37/80\n",
      "435/435 [==============================] - 12s 27ms/step - loss: 7.6908e-04 - accuracy: 0.9899 - val_loss: 9.4509e-04 - val_accuracy: 0.9896\n",
      "Epoch 38/80\n",
      "435/435 [==============================] - 11s 26ms/step - loss: 7.7960e-04 - accuracy: 0.9868 - val_loss: 0.0010 - val_accuracy: 0.9819\n",
      "Epoch 39/80\n",
      "435/435 [==============================] - 13s 29ms/step - loss: 7.4718e-04 - accuracy: 0.9899 - val_loss: 8.0817e-04 - val_accuracy: 0.9922\n",
      "Epoch 40/80\n",
      "435/435 [==============================] - 12s 28ms/step - loss: 7.3405e-04 - accuracy: 0.9882 - val_loss: 9.2657e-04 - val_accuracy: 0.9845\n",
      "Epoch 41/80\n",
      "435/435 [==============================] - 12s 27ms/step - loss: 7.3153e-04 - accuracy: 0.9882 - val_loss: 9.4001e-04 - val_accuracy: 0.9819\n",
      "Epoch 42/80\n",
      "435/435 [==============================] - 12s 28ms/step - loss: 7.1196e-04 - accuracy: 0.9879 - val_loss: 0.0011 - val_accuracy: 0.9922\n",
      "Epoch 43/80\n",
      "435/435 [==============================] - 11s 26ms/step - loss: 7.0861e-04 - accuracy: 0.9916 - val_loss: 8.2570e-04 - val_accuracy: 0.9896\n",
      "Epoch 44/80\n",
      "435/435 [==============================] - 12s 27ms/step - loss: 6.8963e-04 - accuracy: 0.9888 - val_loss: 8.4768e-04 - val_accuracy: 0.9896\n",
      "Epoch 45/80\n",
      "435/435 [==============================] - 12s 27ms/step - loss: 7.2229e-04 - accuracy: 0.9865 - val_loss: 8.8345e-04 - val_accuracy: 0.9819\n",
      "Epoch 46/80\n",
      "435/435 [==============================] - 12s 26ms/step - loss: 7.3058e-04 - accuracy: 0.9911 - val_loss: 0.0014 - val_accuracy: 0.9793\n",
      "Epoch 47/80\n",
      "435/435 [==============================] - 12s 26ms/step - loss: 6.9961e-04 - accuracy: 0.9891 - val_loss: 7.6510e-04 - val_accuracy: 0.9845\n",
      "Epoch 48/80\n",
      "435/435 [==============================] - 12s 28ms/step - loss: 6.7028e-04 - accuracy: 0.9882 - val_loss: 8.9235e-04 - val_accuracy: 0.9870\n",
      "Epoch 49/80\n",
      "435/435 [==============================] - 12s 27ms/step - loss: 6.6015e-04 - accuracy: 0.9905 - val_loss: 8.0792e-04 - val_accuracy: 0.9896\n",
      "Epoch 50/80\n",
      "435/435 [==============================] - 12s 27ms/step - loss: 6.1221e-04 - accuracy: 0.9899 - val_loss: 0.0010 - val_accuracy: 0.9922\n",
      "Epoch 51/80\n",
      "435/435 [==============================] - 12s 27ms/step - loss: 6.5658e-04 - accuracy: 0.9899 - val_loss: 9.5692e-04 - val_accuracy: 0.9845\n",
      "Epoch 52/80\n",
      "435/435 [==============================] - 12s 27ms/step - loss: 6.5742e-04 - accuracy: 0.9908 - val_loss: 9.7612e-04 - val_accuracy: 0.9819\n",
      "Epoch 53/80\n",
      "435/435 [==============================] - 12s 27ms/step - loss: 6.6472e-04 - accuracy: 0.9870 - val_loss: 7.7995e-04 - val_accuracy: 0.9819\n",
      "Epoch 54/80\n",
      "435/435 [==============================] - 12s 26ms/step - loss: 6.3543e-04 - accuracy: 0.9882 - val_loss: 8.7818e-04 - val_accuracy: 0.9870\n"
     ]
    },
    {
     "name": "stdout",
     "output_type": "stream",
     "text": [
      "Epoch 55/80\n",
      "435/435 [==============================] - 12s 28ms/step - loss: 6.5213e-04 - accuracy: 0.9899 - val_loss: 0.0011 - val_accuracy: 0.9870\n",
      "Epoch 56/80\n",
      "435/435 [==============================] - 13s 30ms/step - loss: 5.9375e-04 - accuracy: 0.9902 - val_loss: 8.6381e-04 - val_accuracy: 0.9870\n",
      "Epoch 57/80\n",
      "435/435 [==============================] - 12s 29ms/step - loss: 6.0858e-04 - accuracy: 0.9885 - val_loss: 9.7957e-04 - val_accuracy: 0.9870\n",
      "Epoch 58/80\n",
      "435/435 [==============================] - 12s 27ms/step - loss: 6.1534e-04 - accuracy: 0.9882 - val_loss: 9.7212e-04 - val_accuracy: 0.9793\n",
      "Epoch 59/80\n",
      "435/435 [==============================] - 12s 28ms/step - loss: 5.8027e-04 - accuracy: 0.9922 - val_loss: 8.4326e-04 - val_accuracy: 0.9793\n",
      "Epoch 60/80\n",
      "435/435 [==============================] - 12s 28ms/step - loss: 6.2863e-04 - accuracy: 0.9885 - val_loss: 7.1266e-04 - val_accuracy: 0.9870\n",
      "Epoch 61/80\n",
      "435/435 [==============================] - 13s 29ms/step - loss: 5.7935e-04 - accuracy: 0.9905 - val_loss: 8.1597e-04 - val_accuracy: 0.9793\n",
      "Epoch 62/80\n",
      "435/435 [==============================] - 12s 28ms/step - loss: 5.8356e-04 - accuracy: 0.9891 - val_loss: 8.5445e-04 - val_accuracy: 0.9922\n",
      "Epoch 63/80\n",
      "435/435 [==============================] - 12s 28ms/step - loss: 6.0064e-04 - accuracy: 0.9899 - val_loss: 0.0011 - val_accuracy: 0.9819\n",
      "Epoch 64/80\n",
      "435/435 [==============================] - 12s 28ms/step - loss: 5.6899e-04 - accuracy: 0.9896 - val_loss: 7.6580e-04 - val_accuracy: 0.9870\n",
      "Epoch 65/80\n",
      "435/435 [==============================] - 12s 27ms/step - loss: 5.4858e-04 - accuracy: 0.9905 - val_loss: 7.3296e-04 - val_accuracy: 0.9896\n",
      "Epoch 66/80\n",
      "435/435 [==============================] - 12s 27ms/step - loss: 5.4720e-04 - accuracy: 0.9888 - val_loss: 6.8014e-04 - val_accuracy: 0.9922\n",
      "Epoch 67/80\n",
      "435/435 [==============================] - 11s 26ms/step - loss: 5.3143e-04 - accuracy: 0.9896 - val_loss: 7.1842e-04 - val_accuracy: 0.9845\n",
      "Epoch 68/80\n",
      "435/435 [==============================] - 12s 27ms/step - loss: 5.6738e-04 - accuracy: 0.9893 - val_loss: 8.5153e-04 - val_accuracy: 0.9870\n",
      "Epoch 69/80\n",
      "435/435 [==============================] - 12s 26ms/step - loss: 5.5308e-04 - accuracy: 0.9891 - val_loss: 6.6732e-04 - val_accuracy: 0.9922\n",
      "Epoch 70/80\n",
      "435/435 [==============================] - 11s 26ms/step - loss: 5.7268e-04 - accuracy: 0.9873 - val_loss: 9.9511e-04 - val_accuracy: 0.9819\n",
      "Epoch 71/80\n",
      "435/435 [==============================] - 12s 27ms/step - loss: 5.3750e-04 - accuracy: 0.9885 - val_loss: 6.9382e-04 - val_accuracy: 0.9896\n",
      "Epoch 72/80\n",
      "435/435 [==============================] - 11s 26ms/step - loss: 5.1655e-04 - accuracy: 0.9873 - val_loss: 8.6365e-04 - val_accuracy: 0.9870\n",
      "Epoch 73/80\n",
      "435/435 [==============================] - 11s 25ms/step - loss: 5.6484e-04 - accuracy: 0.9893 - val_loss: 8.9308e-04 - val_accuracy: 0.9845\n",
      "Epoch 74/80\n",
      "435/435 [==============================] - 11s 26ms/step - loss: 5.2285e-04 - accuracy: 0.9891 - val_loss: 9.5644e-04 - val_accuracy: 0.9896\n",
      "Epoch 75/80\n",
      "435/435 [==============================] - 11s 26ms/step - loss: 5.0227e-04 - accuracy: 0.9891 - val_loss: 7.8189e-04 - val_accuracy: 0.9922\n",
      "Epoch 76/80\n",
      "435/435 [==============================] - 11s 26ms/step - loss: 5.0379e-04 - accuracy: 0.9902 - val_loss: 0.0010 - val_accuracy: 0.9870\n",
      "Epoch 77/80\n",
      "435/435 [==============================] - 11s 26ms/step - loss: 5.1982e-04 - accuracy: 0.9873 - val_loss: 8.9877e-04 - val_accuracy: 0.9896\n",
      "Epoch 78/80\n",
      "435/435 [==============================] - 11s 25ms/step - loss: 5.2622e-04 - accuracy: 0.9914 - val_loss: 9.0861e-04 - val_accuracy: 0.9845\n",
      "Epoch 79/80\n",
      "435/435 [==============================] - 11s 26ms/step - loss: 5.2030e-04 - accuracy: 0.9888 - val_loss: 8.9182e-04 - val_accuracy: 0.9793\n",
      "Epoch 80/80\n",
      "435/435 [==============================] - 11s 25ms/step - loss: 5.2161e-04 - accuracy: 0.9896 - val_loss: 7.0868e-04 - val_accuracy: 0.9896\n"
     ]
    }
   ],
   "source": [
    "Batch_Size = 8\n",
    "Epoch_Anz = 80\n",
    "Shift_Range = 3\n",
    "Brightness_Range = 0.3\n",
    "\n",
    "datagen = ImageDataGenerator(width_shift_range=[-Shift_Range,Shift_Range], height_shift_range=[-Shift_Range,Shift_Range],brightness_range=[1-Brightness_Range,1+Brightness_Range])\n",
    "\n",
    "train_iterator = datagen.flow(X_train, y_train, batch_size=Batch_Size)\n",
    "validation_iterator = datagen.flow(X_test, y_test, batch_size=Batch_Size)\n",
    "\n",
    "history = model.fit_generator(train_iterator, validation_data = validation_iterator, epochs = Epoch_Anz)"
   ]
  },
  {
   "cell_type": "markdown",
   "metadata": {},
   "source": [
    "### Overall Learing results (Step 1 & Step 2)"
   ]
  },
  {
   "cell_type": "code",
   "execution_count": 7,
   "metadata": {},
   "outputs": [
    {
     "data": {
      "image/png": "[encoded data removed]",
      "text/plain": [
       "<Figure size 432x288 with 1 Axes>"
      ]
     },
     "metadata": {
      "needs_background": "light"
     },
     "output_type": "display_data"
    }
   ],
   "source": [
    "loss_ges = np.append(loss_ges, history.history['loss'])\n",
    "val_loss_ges = np.append(val_loss_ges, history.history['val_loss'])\n",
    "\n",
    "plt.semilogy(loss_ges)\n",
    "plt.semilogy(val_loss_ges)\n",
    "plt.title('model loss')\n",
    "plt.ylabel('loss')\n",
    "plt.xlabel('epoch')\n",
    "plt.legend(['train','eval'], loc='upper left')\n",
    "plt.show()"
   ]
  },
  {
   "cell_type": "markdown",
   "metadata": {},
   "source": [
    "### Check the model by hand\n",
    "\n",
    "* The following code uses the trained model to check the deviation for each picture.\n",
    "* The evaluation takes the periodic character of the results into account (dev1 ... dev2).\n",
    "* Images, that have a bigger deviation as the parameter \"deviation_max_list\" are printed in a list to check the picture and labeling itself"
   ]
  },
  {
   "cell_type": "code",
   "execution_count": 8,
   "metadata": {},
   "outputs": [
    {
     "name": "stdout",
     "output_type": "stream",
     "text": [
      "data_resize_all\\0.2_Lfd-0064_zeiger2_2019-11-19_10-57-03.jpg 0.02 0.060999826579018424 -0.04099982657901842\n",
      "data_resize_all\\2.6_Lfd-0932_zeiger2_2019-06-04T052009.jpg 0.26 0.2930115674897282 -0.033011567489728166\n",
      "data_resize_all\\2.6_Lfd-0933_zeiger2_2019-06-04T053009.jpg 0.26 0.2910361060270312 -0.03103610602703122\n",
      "data_resize_all\\2.6_Lfd-0975_zeiger4_2019-06-04T070009.jpg 0.26 0.2981049913357882 -0.03810499133578821\n",
      "data_resize_all\\2.6_Lfd-0976_zeiger4_2019-06-04T071009.jpg 0.26 0.2976058752621895 -0.0376058752621895\n",
      "data_resize_all\\2.7_Lfd-1001_zeiger3_2019-06-05T141009.jpg 0.27 0.3015313367601774 -0.031531336760177386\n",
      "data_resize_all\\2.7_Lfd-1003_zeiger4_2019-06-04T195009.jpg 0.27 0.30131781745762376 -0.03131781745762374\n",
      "data_resize_all\\2.7_Lfd-1006_zeiger4_2019-06-04T202009.jpg 0.27 0.3003106112007669 -0.03031061120076689\n",
      "data_resize_all\\2.7_Lfd-1012_zeiger4_2019-06-06T074009.jpg 0.27 0.3001036374961678 -0.03010363749616779\n",
      "data_resize_all\\4.4_Lfd-1645_zeiger2_2019-11-19_04-02-03.jpg 0.44000000000000006 0.4745322116645503 -0.03453221166455023\n",
      "data_resize_all\\4.4_Lfd-1646_zeiger2_2019-11-19_05-02-03.jpg 0.44000000000000006 0.4788899103005138 -0.03888991030051375\n",
      "data_resize_all\\4.4_Lfd-1648_zeiger2_2019-11-19_05-22-03.jpg 0.44000000000000006 0.4726057568091482 -0.03260575680914812\n",
      "data_resize_all\\4.4_Lfd-1649_zeiger2_2019-11-19_05-37-03.jpg 0.44000000000000006 0.47573849896296533 -0.03573849896296527\n",
      "data_resize_all\\4.4_Lfd-1650_zeiger2_2019-11-19_05-42-03.jpg 0.44000000000000006 0.4714522516948192 -0.03145225169481913\n",
      "data_resize_all\\4.4_Lfd-1651_zeiger2_2019-11-19_05-52-03.jpg 0.44000000000000006 0.4789763880845052 -0.038976388084505154\n",
      "data_resize_all\\4.4_Lfd-1652_zeiger2_2019-11-19_06-02-03.jpg 0.44000000000000006 0.4710559489409769 -0.031055948940976852\n",
      "data_resize_all\\4.4_Lfd-1653_zeiger2_2019-11-19_06-07-03.jpg 0.44000000000000006 0.472667683857623 -0.03266768385762292\n",
      "data_resize_all\\4.4_Lfd-1654_zeiger2_2019-11-19_18-37-04.jpg 0.44000000000000006 0.47515857795693583 -0.03515857795693578\n",
      "data_resize_all\\5.3_Lfd-2027_zeiger4_2019-11-19_09-27-03.jpg 0.53 0.5619715066816106 -0.03197150668161053\n",
      "data_resize_all\\5.5_Lfd-2043_zeiger4_2019-11-19_08-22-03.jpg 0.55 0.5807201862258187 -0.030720186225818624\n",
      "data_resize_all\\5.6_Lfd-2058_zeiger2_2019-06-03T153009.jpg 0.5599999999999999 0.5915916465457464 -0.03159164654574642\n",
      "data_resize_all\\6.7_Lfd-2585_zeiger2_2019-11-19_01-27-03.jpg 0.67 0.6391348478654172 0.03086515213458285\n",
      "data_resize_all\\6.8_Lfd-2625_zeiger2_2019-11-19_06-27-03.jpg 0.6799999999999999 0.6472606859754859 0.03273931402451402\n"
     ]
    }
   ],
   "source": [
    "Input_dir='data_resize_all'\n",
    "#Input_dir='test_result'\n",
    "files = glob.glob(Input_dir + '/*.*')\n",
    "res = []\n",
    "i = 0\n",
    "deviation_max_list = 0.03\n",
    "\n",
    "for aktfile in files:\n",
    "    base = os.path.basename(aktfile)\n",
    "    target = (float(base[0:3])) / 10\n",
    "    target_sin = math.sin(target * math.pi * 2)\n",
    "    target_cos = math.cos(target * math.pi * 2)\n",
    "\n",
    "    test_image = Image.open(aktfile)\n",
    "    test_image = np.array(test_image, dtype=\"float32\")\n",
    "    img = np.reshape(test_image,[1,32,32,3])\n",
    "    classes = model.predict(img)\n",
    "    \n",
    "    out_sin = classes[0][0]  \n",
    "    out_cos = classes[0][1]\n",
    "    out_target = (np.arctan2(out_sin, out_cos)/(2*math.pi)) % 1\n",
    "\n",
    "    dev_sin = target_sin - out_sin\n",
    "    dev_cos = target_cos - out_cos\n",
    "    dev_target = target - out_target\n",
    "    \n",
    "    if abs(dev_target + 1) < abs(dev_target):\n",
    "        out_target = out_target - 1\n",
    "        dev_target = target - out_target\n",
    "    else:\n",
    "        if abs(dev_target - 1) < abs(dev_target):\n",
    "            out_target = out_target + 1\n",
    "            dev_target = target - out_target\n",
    "               \n",
    "    res.append(np.array([target, out_target, dev_target, out_sin, out_cos, i]))\n",
    "    if abs(dev_target) > deviation_max_list:\n",
    "        print(aktfile + \" \" + str(target) + \" \" + str(out_target) +  \" \" + str(dev_target))\n",
    "    i+=1\n",
    "\n",
    "res = np.asarray(res)\n",
    "res_step_1 = res"
   ]
  },
  {
   "cell_type": "markdown",
   "metadata": {},
   "source": [
    "## Results"
   ]
  },
  {
   "cell_type": "code",
   "execution_count": 9,
   "metadata": {},
   "outputs": [
    {
     "data": {
      "image/png": "[encoded data removed]",
      "text/plain": [
       "<Figure size 432x288 with 1 Axes>"
      ]
     },
     "metadata": {
      "needs_background": "light"
     },
     "output_type": "display_data"
    }
   ],
   "source": [
    "plt.plot(res[:,3])\n",
    "plt.plot(res[:,4])\n",
    "plt.title('Result')\n",
    "plt.ylabel('value')\n",
    "plt.xlabel('#Picture')\n",
    "plt.legend(['sin', 'cos'], loc='lower left')\n",
    "plt.show()"
   ]
  },
  {
   "cell_type": "code",
   "execution_count": 10,
   "metadata": {},
   "outputs": [
    {
     "data": {
      "image/png": "[encoded data removed]",
      "text/plain": [
       "<Figure size 432x288 with 1 Axes>"
      ]
     },
     "metadata": {
      "needs_background": "light"
     },
     "output_type": "display_data"
    }
   ],
   "source": [
    "plt.plot(res[:,0])\n",
    "plt.plot(res[:,1])\n",
    "plt.title('Result')\n",
    "plt.ylabel('Counter Value')\n",
    "plt.xlabel('#Picture')\n",
    "plt.legend(['Orginal', 'Prediction'], loc='upper left')\n",
    "plt.show()"
   ]
  },
  {
   "cell_type": "markdown",
   "metadata": {},
   "source": [
    "### Deviation from Expected Value"
   ]
  },
  {
   "cell_type": "code",
   "execution_count": 11,
   "metadata": {},
   "outputs": [
    {
     "data": {
      "image/png": "[encoded data removed]",
      "text/plain": [
       "<Figure size 432x288 with 1 Axes>"
      ]
     },
     "metadata": {
      "needs_background": "light"
     },
     "output_type": "display_data"
    },
    {
     "name": "stdout",
     "output_type": "stream",
     "text": [
      "[-0.0009  0.0097 -0.041   0.0327]\n"
     ]
    }
   ],
   "source": [
    "plt.plot(res[:,2])\n",
    "plt.title('Deviation')\n",
    "plt.ylabel('Deviation from expected value')\n",
    "plt.xlabel('#Picture')\n",
    "plt.legend(['Deviation'], loc='upper left')\n",
    "#plt.ylim(-0.3, 0.3)\n",
    "plt.show()\n",
    "\n",
    "statistic = np.array([np.mean(res[:,2]), np.std(res[:,2]), np.min(res[:,2]), np.max(res[:,2])])\n",
    "print(statistic)"
   ]
  },
  {
   "cell_type": "markdown",
   "metadata": {},
   "source": [
    "### Save the model\n",
    "\n",
    "* Save the model to the file with the \"h5\" file format"
   ]
  },
  {
   "cell_type": "code",
   "execution_count": 12,
   "metadata": {},
   "outputs": [
    {
     "data": {
      "text/plain": [
       "315584"
      ]
     },
     "execution_count": 12,
     "metadata": {},
     "output_type": "execute_result"
    }
   ],
   "source": [
    "model.save(\"CNN_Analog-Readout_Version-6.0.1.h5\")\n",
    "\n",
    "converter = tf.lite.TFLiteConverter.from_keras_model(model)\n",
    "tflite_model = converter.convert()\n",
    "open(\"CNN_Analog-Readout_Version-6.0.1.tflite\", \"wb\").write(tflite_model)"
   ]
  }
 ],
 "metadata": {
  "kernelspec": {
   "display_name": "Python 3",
   "language": "python",
   "name": "python3"
  },
  "language_info": {
   "codemirror_mode": {
    "name": "ipython",
    "version": 3
   },
   "file_extension": ".py",
   "mimetype": "text/x-python",
   "name": "python",
   "nbconvert_exporter": "python",
   "pygments_lexer": "ipython3",
   "version": "3.6.10"
  }
 },
 "nbformat": 4,
 "nbformat_minor": 2
}
