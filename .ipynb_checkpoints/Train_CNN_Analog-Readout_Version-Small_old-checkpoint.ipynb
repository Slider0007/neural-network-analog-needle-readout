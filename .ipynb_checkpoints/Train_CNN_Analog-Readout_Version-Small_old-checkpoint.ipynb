{
 "cells": [
  {
   "cell_type": "markdown",
   "metadata": {},
   "source": [
    "# CNN Training\n",
    "\n",
    "Target of this code is to train a CNN network to extract the needle position of an analog needle device.\n",
    "\n",
    "### Preparing the training\n",
    "* First all libraries are loaded\n",
    "    * It is assumed, that they are installed during the Python setup\n",
    "* matplotlib is set to print the output inline in the jupyter notebook"
   ]
  },
  {
   "cell_type": "code",
   "execution_count": 1,
   "metadata": {
    "scrolled": true
   },
   "outputs": [],
   "source": [
    "import os\n",
    "import tensorflow as tf\n",
    "import matplotlib.pyplot as plt\n",
    "import glob\n",
    "import numpy as np\n",
    "from sklearn.utils import shuffle\n",
    "from tensorflow.python import keras\n",
    "from tensorflow.python.keras import Sequential\n",
    "from tensorflow.python.keras.layers import Dense, InputLayer, Conv2D, MaxPool2D, Flatten, BatchNormalization\n",
    "from tensorflow.keras.preprocessing.image import ImageDataGenerator\n",
    "from sklearn.model_selection import train_test_split\n",
    "import tensorflow.keras.backend as K\n",
    "from tensorflow.keras.callbacks import History \n",
    "import math\n",
    "from PIL import Image \n",
    "\n",
    "loss_ges = np.array([])\n",
    "val_loss_ges = np.array([])\n",
    "\n",
    "%matplotlib inline\n",
    "np.set_printoptions(precision=4)\n",
    "np.set_printoptions(suppress=True)"
   ]
  },
  {
   "cell_type": "markdown",
   "metadata": {},
   "source": [
    "### Load training data\n",
    "* The data is expected in the \"Input_dir\"\n",
    "* Picture size must be 32x32 with 3 color channels (RGB)\n",
    "* The filename contains the informations needed for training in the first 3 digits::\n",
    "* Typical filename: \n",
    "    * x.y-zzzz.jpg \n",
    "    * e.g. \"4.6_Lfd-1406_zeiger3_2019-06-02T050011\"\n",
    "\n",
    "|Place holder | Meaning                     | Usage        |\n",
    "|------------- |-----------------------------|--------------|\n",
    "| **x.y**          | readout value               | **to be learned** |\n",
    "| zzzz        | additional information              | not needed   |\n",
    "\n",
    "* The images are stored in the x_data[]\n",
    "* The expected output for each image in the corresponding y_data[]\n",
    "    * The periodic nature is reflected in a **sin/cos coding**, which allows to restore the angle/counter value with an arctan later on.\n",
    "\n",
    "* The last step is a shuffle (from sklearn.utils) as the filenames are on order due to the encoding of the expected analog readout in the filename "
   ]
  },
  {
   "cell_type": "code",
   "execution_count": 2,
   "metadata": {},
   "outputs": [
    {
     "name": "stdout",
     "output_type": "stream",
     "text": [
      "(4827, 32, 32, 3)\n",
      "(4827, 2)\n"
     ]
    }
   ],
   "source": [
    "Input_dir='data_resize_all'\n",
    "\n",
    "files = glob.glob(Input_dir + '/*.*')\n",
    "x_data = []\n",
    "y_data = []\n",
    "\n",
    "for aktfile in files:\n",
    "    test_image = Image.open(aktfile)\n",
    "    test_image = np.array(test_image, dtype=\"float32\")\n",
    "    test_image = np.reshape(test_image, (32,32,3))\n",
    "    base = os.path.basename(aktfile)\n",
    "    target_number = (float(base[0:3])) / 10\n",
    "    target_sin = math.sin(target_number * math.pi * 2)\n",
    "    target_cos = math.cos(target_number * math.pi * 2)\n",
    "\n",
    "    x_data.append(test_image)\n",
    "    zw = np.array([target_sin, target_cos])\n",
    "    y_data.append(zw)\n",
    "\n",
    "x_data = np.array(x_data)\n",
    "y_data = np.array(y_data)\n",
    "print(x_data.shape)\n",
    "print(y_data.shape)\n",
    "\n",
    "x_data, y_data = shuffle(x_data, y_data)\n",
    "X_train, X_test, y_train, y_test = train_test_split(x_data, y_data, test_size=0.1)"
   ]
  },
  {
   "cell_type": "markdown",
   "metadata": {},
   "source": [
    "### Define the model\n",
    "\n",
    "The layout of the network ist a typcial CNN network with alternating **Conv2D** and **MaxPool2D** layers. Finished after **flattening** with additional **Dense** layer.\n",
    "\n",
    "#### Important\n",
    "* Shape of the input layer: (32, 32, 3)\n",
    "* Shape of the output layer: (2) - sin and cos"
   ]
  },
  {
   "cell_type": "code",
   "execution_count": 3,
   "metadata": {
    "scrolled": true
   },
   "outputs": [
    {
     "name": "stdout",
     "output_type": "stream",
     "text": [
      "Model: \"sequential\"\n",
      "_________________________________________________________________\n",
      "Layer (type)                 Output Shape              Param #   \n",
      "=================================================================\n",
      "batch_normalization (BatchNo (None, 32, 32, 3)         12        \n",
      "_________________________________________________________________\n",
      "conv2d (Conv2D)              (None, 32, 32, 32)        2432      \n",
      "_________________________________________________________________\n",
      "max_pooling2d (MaxPooling2D) (None, 8, 8, 32)          0         \n",
      "_________________________________________________________________\n",
      "conv2d_1 (Conv2D)            (None, 8, 8, 8)           6408      \n",
      "_________________________________________________________________\n",
      "max_pooling2d_1 (MaxPooling2 (None, 2, 2, 8)           0         \n",
      "_________________________________________________________________\n",
      "conv2d_2 (Conv2D)            (None, 2, 2, 8)           584       \n",
      "_________________________________________________________________\n",
      "max_pooling2d_2 (MaxPooling2 (None, 1, 1, 8)           0         \n",
      "_________________________________________________________________\n",
      "flatten (Flatten)            (None, 8)                 0         \n",
      "_________________________________________________________________\n",
      "dense (Dense)                (None, 32)                288       \n",
      "_________________________________________________________________\n",
      "dense_1 (Dense)              (None, 16)                528       \n",
      "_________________________________________________________________\n",
      "dense_2 (Dense)              (None, 2)                 34        \n",
      "=================================================================\n",
      "Total params: 10,286\n",
      "Trainable params: 10,280\n",
      "Non-trainable params: 6\n",
      "_________________________________________________________________\n"
     ]
    }
   ],
   "source": [
    "model = Sequential()\n",
    "model.add(BatchNormalization(input_shape=(32,32,3)))\n",
    "model.add(Conv2D(32, (5, 5), input_shape=(32,32,3), padding='same', activation=\"relu\"))\n",
    "model.add(MaxPool2D(pool_size=(4,4)))\n",
    "model.add(Conv2D(8, (5, 5), padding='same', activation=\"relu\"))\n",
    "model.add(MaxPool2D(pool_size=(4,4)))\n",
    "model.add(Conv2D(8, (3, 3), padding='same', activation=\"relu\"))\n",
    "model.add(MaxPool2D(pool_size=(2,2)))\n",
    "model.add(Flatten())\n",
    "model.add(Dense(32,activation=\"relu\"))\n",
    "model.add(Dense(16,activation=\"relu\"))\n",
    "model.add(Dense(2))\n",
    "model.summary()\n",
    "\n",
    "model.compile(loss=keras.losses.mean_squared_error, optimizer=tf.keras.optimizers.Adadelta(learning_rate=1.0, rho=0.95), metrics = [\"accuracy\"])"
   ]
  },
  {
   "cell_type": "markdown",
   "metadata": {},
   "source": [
    "# Training\n",
    "The input pictures are randomly scattered for brightness and pixel shift variations. These is implemented with a ImageDataGenerator.\n",
    "\n",
    "\n",
    "The training is splitted into two steps:\n",
    "1. Variation of the brightness only\n",
    "2. Variation of brightness and Pixel Shift"
   ]
  },
  {
   "cell_type": "markdown",
   "metadata": {},
   "source": [
    "### Step 1: Brigthness scattering only"
   ]
  },
  {
   "cell_type": "code",
   "execution_count": 4,
   "metadata": {},
   "outputs": [
    {
     "name": "stdout",
     "output_type": "stream",
     "text": [
      "WARNING:tensorflow:From <ipython-input-4-9f5ba6453a73>:11: Model.fit_generator (from tensorflow.python.keras.engine.training) is deprecated and will be removed in a future version.\n",
      "Instructions for updating:\n",
      "Please use Model.fit, which supports generators.\n",
      "Epoch 1/30\n",
      "543/543 [==============================] - 20s 36ms/step - loss: 0.1665 - accuracy: 0.8306 - val_loss: 0.0203 - val_accuracy: 0.9627\n",
      "Epoch 2/30\n",
      "543/543 [==============================] - 17s 32ms/step - loss: 0.0235 - accuracy: 0.9629 - val_loss: 0.0174 - val_accuracy: 0.9648\n",
      "Epoch 3/30\n",
      "543/543 [==============================] - 18s 34ms/step - loss: 0.0159 - accuracy: 0.9698 - val_loss: 0.0092 - val_accuracy: 0.9772\n",
      "Epoch 4/30\n",
      "543/543 [==============================] - 17s 32ms/step - loss: 0.0126 - accuracy: 0.9717 - val_loss: 0.0111 - val_accuracy: 0.9834\n",
      "Epoch 5/30\n",
      "543/543 [==============================] - 17s 32ms/step - loss: 0.0104 - accuracy: 0.9751 - val_loss: 0.0072 - val_accuracy: 0.9752\n",
      "Epoch 6/30\n",
      "543/543 [==============================] - 18s 33ms/step - loss: 0.0083 - accuracy: 0.9761 - val_loss: 0.0132 - val_accuracy: 0.9710\n",
      "Epoch 7/30\n",
      "543/543 [==============================] - 18s 32ms/step - loss: 0.0070 - accuracy: 0.9800 - val_loss: 0.0109 - val_accuracy: 0.9731\n",
      "Epoch 8/30\n",
      "543/543 [==============================] - 18s 32ms/step - loss: 0.0059 - accuracy: 0.9788 - val_loss: 0.0076 - val_accuracy: 0.9627\n",
      "Epoch 9/30\n",
      "543/543 [==============================] - 17s 31ms/step - loss: 0.0051 - accuracy: 0.9837 - val_loss: 0.0045 - val_accuracy: 0.9896\n",
      "Epoch 10/30\n",
      "543/543 [==============================] - 18s 34ms/step - loss: 0.0047 - accuracy: 0.9816 - val_loss: 0.0091 - val_accuracy: 0.9627\n",
      "Epoch 11/30\n",
      "543/543 [==============================] - 18s 33ms/step - loss: 0.0041 - accuracy: 0.9883 - val_loss: 0.0038 - val_accuracy: 0.9814\n",
      "Epoch 12/30\n",
      "543/543 [==============================] - 18s 33ms/step - loss: 0.0036 - accuracy: 0.9823 - val_loss: 0.0047 - val_accuracy: 0.9814\n",
      "Epoch 13/30\n",
      "543/543 [==============================] - 18s 33ms/step - loss: 0.0035 - accuracy: 0.9850 - val_loss: 0.0041 - val_accuracy: 0.9586\n",
      "Epoch 14/30\n",
      "543/543 [==============================] - 18s 33ms/step - loss: 0.0031 - accuracy: 0.9848 - val_loss: 0.0028 - val_accuracy: 0.9793\n",
      "Epoch 15/30\n",
      "543/543 [==============================] - 18s 33ms/step - loss: 0.0029 - accuracy: 0.9843 - val_loss: 0.0056 - val_accuracy: 0.9752\n",
      "Epoch 16/30\n",
      "543/543 [==============================] - 18s 32ms/step - loss: 0.0029 - accuracy: 0.9839 - val_loss: 0.0030 - val_accuracy: 0.9814\n",
      "Epoch 17/30\n",
      "543/543 [==============================] - 18s 33ms/step - loss: 0.0027 - accuracy: 0.9873 - val_loss: 0.0033 - val_accuracy: 0.9772\n",
      "Epoch 18/30\n",
      "543/543 [==============================] - 17s 32ms/step - loss: 0.0026 - accuracy: 0.9873 - val_loss: 0.0021 - val_accuracy: 0.9834\n",
      "Epoch 19/30\n",
      "543/543 [==============================] - 18s 34ms/step - loss: 0.0025 - accuracy: 0.9876 - val_loss: 0.0022 - val_accuracy: 0.9896\n",
      "Epoch 20/30\n",
      "543/543 [==============================] - 18s 33ms/step - loss: 0.0023 - accuracy: 0.9890 - val_loss: 0.0018 - val_accuracy: 0.9876\n",
      "Epoch 21/30\n",
      "543/543 [==============================] - 18s 33ms/step - loss: 0.0022 - accuracy: 0.9869 - val_loss: 0.0029 - val_accuracy: 0.9793\n",
      "Epoch 22/30\n",
      "543/543 [==============================] - 18s 33ms/step - loss: 0.0022 - accuracy: 0.9878 - val_loss: 0.0017 - val_accuracy: 0.9876\n",
      "Epoch 23/30\n",
      "543/543 [==============================] - 18s 34ms/step - loss: 0.0021 - accuracy: 0.9873 - val_loss: 0.0019 - val_accuracy: 0.9834\n",
      "Epoch 24/30\n",
      "543/543 [==============================] - 18s 32ms/step - loss: 0.0019 - accuracy: 0.9903 - val_loss: 0.0020 - val_accuracy: 0.9896\n",
      "Epoch 25/30\n",
      "543/543 [==============================] - 18s 34ms/step - loss: 0.0019 - accuracy: 0.9873 - val_loss: 0.0020 - val_accuracy: 0.9834\n",
      "Epoch 26/30\n",
      "543/543 [==============================] - 18s 32ms/step - loss: 0.0018 - accuracy: 0.9908 - val_loss: 0.0019 - val_accuracy: 0.9855\n",
      "Epoch 27/30\n",
      "543/543 [==============================] - 17s 31ms/step - loss: 0.0018 - accuracy: 0.9883 - val_loss: 0.0016 - val_accuracy: 0.9917\n",
      "Epoch 28/30\n",
      "543/543 [==============================] - 18s 34ms/step - loss: 0.0017 - accuracy: 0.9885 - val_loss: 0.0022 - val_accuracy: 0.9834\n",
      "Epoch 29/30\n",
      "543/543 [==============================] - 16s 29ms/step - loss: 0.0017 - accuracy: 0.9885 - val_loss: 0.0016 - val_accuracy: 0.9938017 - accu\n",
      "Epoch 30/30\n",
      "543/543 [==============================] - 19s 34ms/step - loss: 0.0015 - accuracy: 0.9938 - val_loss: 0.0015 - val_accuracy: 0.9814\n"
     ]
    }
   ],
   "source": [
    "Batch_Size = 8\n",
    "Epoch_Anz = 30\n",
    "Shift_Range = 0\n",
    "Brightness_Range = 0.3\n",
    "\n",
    "datagen = ImageDataGenerator(width_shift_range=[-Shift_Range,Shift_Range], height_shift_range=[-Shift_Range,Shift_Range],brightness_range=[1-Brightness_Range,1+Brightness_Range])\n",
    "\n",
    "train_iterator = datagen.flow(X_train, y_train, batch_size=Batch_Size)\n",
    "validation_iterator = datagen.flow(X_test, y_test, batch_size=Batch_Size)\n",
    "\n",
    "history = model.fit_generator(train_iterator, validation_data = validation_iterator, epochs = Epoch_Anz)"
   ]
  },
  {
   "cell_type": "markdown",
   "metadata": {},
   "source": [
    "### Step 1: Learing result\n",
    " \n",
    "* Visualization of the training and validation results"
   ]
  },
  {
   "cell_type": "code",
   "execution_count": 5,
   "metadata": {},
   "outputs": [
    {
     "data": {
      "image/png": "[encoded data removed]",
      "text/plain": [
       "<Figure size 432x288 with 1 Axes>"
      ]
     },
     "metadata": {
      "needs_background": "light"
     },
     "output_type": "display_data"
    }
   ],
   "source": [
    "loss_ges = np.append(loss_ges, history.history['loss'])\n",
    "val_loss_ges = np.append(val_loss_ges, history.history['val_loss'])\n",
    "\n",
    "plt.semilogy(history.history['loss'])\n",
    "plt.semilogy(history.history['val_loss'])\n",
    "plt.title('model loss')\n",
    "plt.ylabel('loss')\n",
    "plt.xlabel('epoch')\n",
    "plt.legend(['train','eval'], loc='upper left')\n",
    "plt.show()"
   ]
  },
  {
   "cell_type": "markdown",
   "metadata": {},
   "source": [
    "### Step 2: Brigthness and Pixel Shift scattering\n",
    "Here a higher number of epochs is used to reach the minimum loss function"
   ]
  },
  {
   "cell_type": "code",
   "execution_count": 6,
   "metadata": {},
   "outputs": [
    {
     "name": "stdout",
     "output_type": "stream",
     "text": [
      "Epoch 1/80\n",
      "543/543 [==============================] - 19s 36ms/step - loss: 0.0316 - accuracy: 0.9457 - val_loss: 0.0114 - val_accuracy: 0.9648\n",
      "Epoch 2/80\n",
      "543/543 [==============================] - 19s 35ms/step - loss: 0.0087 - accuracy: 0.9632 - val_loss: 0.0068 - val_accuracy: 0.9731\n",
      "Epoch 3/80\n",
      "543/543 [==============================] - 19s 35ms/step - loss: 0.0066 - accuracy: 0.9698 - val_loss: 0.0052 - val_accuracy: 0.9607\n",
      "Epoch 4/80\n",
      "543/543 [==============================] - 19s 35ms/step - loss: 0.0055 - accuracy: 0.9740 - val_loss: 0.0066 - val_accuracy: 0.9731\n",
      "Epoch 5/80\n",
      "543/543 [==============================] - 20s 36ms/step - loss: 0.0050 - accuracy: 0.9767 - val_loss: 0.0043 - val_accuracy: 0.9731\n",
      "Epoch 6/80\n",
      "543/543 [==============================] - 19s 36ms/step - loss: 0.0043 - accuracy: 0.9756 - val_loss: 0.0039 - val_accuracy: 0.9772\n",
      "Epoch 7/80\n",
      "543/543 [==============================] - 20s 36ms/step - loss: 0.0041 - accuracy: 0.9804 - val_loss: 0.0053 - val_accuracy: 0.9648\n",
      "Epoch 8/80\n",
      "543/543 [==============================] - 20s 37ms/step - loss: 0.0037 - accuracy: 0.9811 - val_loss: 0.0033 - val_accuracy: 0.9669\n",
      "Epoch 9/80\n",
      "543/543 [==============================] - 20s 36ms/step - loss: 0.0036 - accuracy: 0.9784 - val_loss: 0.0026 - val_accuracy: 0.9896\n",
      "Epoch 10/80\n",
      "543/543 [==============================] - 20s 37ms/step - loss: 0.0034 - accuracy: 0.9807 - val_loss: 0.0036 - val_accuracy: 0.9710\n",
      "Epoch 11/80\n",
      "543/543 [==============================] - 19s 35ms/step - loss: 0.0031 - accuracy: 0.9834 - val_loss: 0.0034 - val_accuracy: 0.9793\n",
      "Epoch 12/80\n",
      "543/543 [==============================] - 19s 35ms/step - loss: 0.0030 - accuracy: 0.9864 - val_loss: 0.0033 - val_accuracy: 0.9834\n",
      "Epoch 13/80\n",
      "543/543 [==============================] - 20s 37ms/step - loss: 0.0030 - accuracy: 0.9871 - val_loss: 0.0034 - val_accuracy: 0.9731\n",
      "Epoch 14/80\n",
      "543/543 [==============================] - 20s 36ms/step - loss: 0.0030 - accuracy: 0.9855 - val_loss: 0.0032 - val_accuracy: 0.9731\n",
      "Epoch 15/80\n",
      "543/543 [==============================] - 20s 38ms/step - loss: 0.0027 - accuracy: 0.9860 - val_loss: 0.0027 - val_accuracy: 0.9793\n",
      "Epoch 16/80\n",
      "543/543 [==============================] - 20s 36ms/step - loss: 0.0027 - accuracy: 0.9848 - val_loss: 0.0055 - val_accuracy: 0.9689\n",
      "Epoch 17/80\n",
      "543/543 [==============================] - 20s 37ms/step - loss: 0.0026 - accuracy: 0.9860 - val_loss: 0.0024 - val_accuracy: 0.9855\n",
      "Epoch 18/80\n",
      "543/543 [==============================] - 20s 36ms/step - loss: 0.0026 - accuracy: 0.9848 - val_loss: 0.0025 - val_accuracy: 0.9689\n",
      "Epoch 19/80\n",
      "543/543 [==============================] - 21s 38ms/step - loss: 0.0023 - accuracy: 0.9839 - val_loss: 0.0025 - val_accuracy: 0.9814\n",
      "Epoch 20/80\n",
      "543/543 [==============================] - 21s 39ms/step - loss: 0.0023 - accuracy: 0.9855 - val_loss: 0.0024 - val_accuracy: 0.9896\n",
      "Epoch 21/80\n",
      "543/543 [==============================] - 20s 37ms/step - loss: 0.0023 - accuracy: 0.9857 - val_loss: 0.0026 - val_accuracy: 0.9793\n",
      "Epoch 22/80\n",
      "543/543 [==============================] - 20s 38ms/step - loss: 0.0023 - accuracy: 0.9850 - val_loss: 0.0018 - val_accuracy: 0.9793\n",
      "Epoch 23/80\n",
      "543/543 [==============================] - 20s 37ms/step - loss: 0.0022 - accuracy: 0.9825 - val_loss: 0.0023 - val_accuracy: 0.9793\n",
      "Epoch 24/80\n",
      "543/543 [==============================] - 22s 40ms/step - loss: 0.0021 - accuracy: 0.9855 - val_loss: 0.0028 - val_accuracy: 0.9793\n",
      "Epoch 25/80\n",
      "543/543 [==============================] - 20s 38ms/step - loss: 0.0021 - accuracy: 0.9850 - val_loss: 0.0025 - val_accuracy: 0.9814\n",
      "Epoch 26/80\n",
      "543/543 [==============================] - 20s 37ms/step - loss: 0.0021 - accuracy: 0.9885 - val_loss: 0.0024 - val_accuracy: 0.9772\n",
      "Epoch 27/80\n",
      "543/543 [==============================] - 21s 38ms/step - loss: 0.0020 - accuracy: 0.9906 - val_loss: 0.0019 - val_accuracy: 0.9814\n",
      "Epoch 28/80\n",
      "543/543 [==============================] - 20s 37ms/step - loss: 0.0020 - accuracy: 0.9857 - val_loss: 0.0054 - val_accuracy: 0.9607\n",
      "Epoch 29/80\n",
      "543/543 [==============================] - 20s 37ms/step - loss: 0.0019 - accuracy: 0.9887 - val_loss: 0.0024 - val_accuracy: 0.9814\n",
      "Epoch 30/80\n",
      "543/543 [==============================] - 20s 37ms/step - loss: 0.0019 - accuracy: 0.9880 - val_loss: 0.0022 - val_accuracy: 0.9855\n",
      "Epoch 31/80\n",
      "543/543 [==============================] - 21s 39ms/step - loss: 0.0020 - accuracy: 0.9883 - val_loss: 0.0016 - val_accuracy: 0.9855\n",
      "Epoch 32/80\n",
      "543/543 [==============================] - 21s 39ms/step - loss: 0.0018 - accuracy: 0.9903 - val_loss: 0.0015 - val_accuracy: 0.9896\n",
      "Epoch 33/80\n",
      "543/543 [==============================] - 20s 36ms/step - loss: 0.0019 - accuracy: 0.9871 - val_loss: 0.0015 - val_accuracy: 0.9896\n",
      "Epoch 34/80\n",
      "543/543 [==============================] - 21s 38ms/step - loss: 0.0018 - accuracy: 0.9880 - val_loss: 0.0028 - val_accuracy: 0.9917\n",
      "Epoch 35/80\n",
      "543/543 [==============================] - 21s 38ms/step - loss: 0.0017 - accuracy: 0.9887 - val_loss: 0.0020 - val_accuracy: 0.9793\n",
      "Epoch 36/80\n",
      "543/543 [==============================] - 21s 39ms/step - loss: 0.0017 - accuracy: 0.9887 - val_loss: 0.0017 - val_accuracy: 0.9814\n",
      "Epoch 37/80\n",
      "543/543 [==============================] - 20s 37ms/step - loss: 0.0017 - accuracy: 0.9885 - val_loss: 0.0025 - val_accuracy: 0.9752\n",
      "Epoch 38/80\n",
      "543/543 [==============================] - 21s 39ms/step - loss: 0.0018 - accuracy: 0.9894 - val_loss: 0.0018 - val_accuracy: 0.9917\n",
      "Epoch 39/80\n",
      "543/543 [==============================] - 20s 36ms/step - loss: 0.0017 - accuracy: 0.9901 - val_loss: 0.0019 - val_accuracy: 0.9834\n",
      "Epoch 40/80\n",
      "543/543 [==============================] - 20s 38ms/step - loss: 0.0017 - accuracy: 0.9913 - val_loss: 0.0017 - val_accuracy: 0.9896\n",
      "Epoch 41/80\n",
      "543/543 [==============================] - 20s 38ms/step - loss: 0.0016 - accuracy: 0.9894 - val_loss: 0.0018 - val_accuracy: 0.9834\n",
      "Epoch 42/80\n",
      "543/543 [==============================] - 20s 37ms/step - loss: 0.0016 - accuracy: 0.9887 - val_loss: 0.0018 - val_accuracy: 0.9855\n",
      "Epoch 43/80\n",
      "543/543 [==============================] - 20s 37ms/step - loss: 0.0016 - accuracy: 0.9903 - val_loss: 0.0018 - val_accuracy: 0.9938\n",
      "Epoch 44/80\n",
      "543/543 [==============================] - 21s 38ms/step - loss: 0.0016 - accuracy: 0.9901 - val_loss: 0.0022 - val_accuracy: 0.9855\n",
      "Epoch 45/80\n",
      "543/543 [==============================] - 21s 38ms/step - loss: 0.0016 - accuracy: 0.9880 - val_loss: 0.0017 - val_accuracy: 0.9834\n",
      "Epoch 46/80\n",
      "543/543 [==============================] - 19s 36ms/step - loss: 0.0015 - accuracy: 0.9901 - val_loss: 0.0019 - val_accuracy: 0.9793\n",
      "Epoch 47/80\n",
      "543/543 [==============================] - 21s 39ms/step - loss: 0.0016 - accuracy: 0.9903 - val_loss: 0.0017 - val_accuracy: 0.9793\n",
      "Epoch 48/80\n",
      "543/543 [==============================] - 21s 39ms/step - loss: 0.0015 - accuracy: 0.9896 - val_loss: 0.0021 - val_accuracy: 0.9793\n",
      "Epoch 49/80\n",
      "543/543 [==============================] - 20s 37ms/step - loss: 0.0015 - accuracy: 0.9896 - val_loss: 0.0019 - val_accuracy: 0.98960s - loss:\n",
      "Epoch 50/80\n",
      "543/543 [==============================] - 21s 38ms/step - loss: 0.0015 - accuracy: 0.9887 - val_loss: 0.0021 - val_accuracy: 0.9772\n",
      "Epoch 51/80\n",
      "543/543 [==============================] - 21s 38ms/step - loss: 0.0015 - accuracy: 0.9892 - val_loss: 0.0015 - val_accuracy: 0.9855\n",
      "Epoch 52/80\n",
      "543/543 [==============================] - 20s 37ms/step - loss: 0.0014 - accuracy: 0.9894 - val_loss: 0.0020 - val_accuracy: 0.9772\n",
      "Epoch 53/80\n",
      "543/543 [==============================] - 21s 39ms/step - loss: 0.0014 - accuracy: 0.9913 - val_loss: 0.0017 - val_accuracy: 0.9917\n",
      "Epoch 54/80\n",
      "543/543 [==============================] - 21s 39ms/step - loss: 0.0014 - accuracy: 0.9899 - val_loss: 0.0015 - val_accuracy: 0.9855\n",
      "Epoch 55/80\n",
      "543/543 [==============================] - 22s 41ms/step - loss: 0.0014 - accuracy: 0.9899 - val_loss: 0.0016 - val_accuracy: 0.9834\n",
      "Epoch 56/80\n",
      "543/543 [==============================] - 20s 36ms/step - loss: 0.0014 - accuracy: 0.9913 - val_loss: 0.0019 - val_accuracy: 0.9814\n",
      "Epoch 57/80\n",
      "543/543 [==============================] - 21s 39ms/step - loss: 0.0014 - accuracy: 0.9901 - val_loss: 0.0017 - val_accuracy: 0.9896\n",
      "Epoch 58/80\n",
      "543/543 [==============================] - 20s 38ms/step - loss: 0.0014 - accuracy: 0.9901 - val_loss: 0.0023 - val_accuracy: 0.9772\n",
      "Epoch 59/80\n",
      "543/543 [==============================] - 21s 39ms/step - loss: 0.0014 - accuracy: 0.9933 - val_loss: 0.0017 - val_accuracy: 0.9917\n",
      "Epoch 60/80\n",
      "543/543 [==============================] - 21s 39ms/step - loss: 0.0013 - accuracy: 0.9906 - val_loss: 0.0015 - val_accuracy: 0.9855\n",
      "Epoch 61/80\n",
      "543/543 [==============================] - 21s 40ms/step - loss: 0.0013 - accuracy: 0.9903 - val_loss: 0.0019 - val_accuracy: 0.9834\n",
      "Epoch 62/80\n",
      "543/543 [==============================] - 22s 40ms/step - loss: 0.0014 - accuracy: 0.9903 - val_loss: 0.0015 - val_accuracy: 0.9876s: 0.0014 - accuracy: 0.99\n",
      "Epoch 63/80\n",
      "543/543 [==============================] - 21s 39ms/step - loss: 0.0014 - accuracy: 0.9910 - val_loss: 0.0016 - val_accuracy: 0.9876\n",
      "Epoch 64/80\n",
      "543/543 [==============================] - 22s 40ms/step - loss: 0.0013 - accuracy: 0.9913 - val_loss: 0.0015 - val_accuracy: 0.9855\n",
      "Epoch 65/80\n",
      "543/543 [==============================] - 22s 40ms/step - loss: 0.0014 - accuracy: 0.9929 - val_loss: 0.0014 - val_accuracy: 0.9876\n",
      "Epoch 66/80\n",
      "543/543 [==============================] - 22s 40ms/step - loss: 0.0013 - accuracy: 0.9906 - val_loss: 0.0016 - val_accuracy: 0.9917\n",
      "Epoch 67/80\n",
      "543/543 [==============================] - 22s 40ms/step - loss: 0.0014 - accuracy: 0.9894 - val_loss: 0.0015 - val_accuracy: 0.9896\n",
      "Epoch 68/80\n",
      "543/543 [==============================] - 22s 40ms/step - loss: 0.0012 - accuracy: 0.9908 - val_loss: 0.0017 - val_accuracy: 0.9959\n",
      "Epoch 69/80\n",
      "543/543 [==============================] - 21s 40ms/step - loss: 0.0013 - accuracy: 0.9901 - val_loss: 0.0018 - val_accuracy: 0.9855\n",
      "Epoch 70/80\n",
      "543/543 [==============================] - 21s 39ms/step - loss: 0.0013 - accuracy: 0.9896 - val_loss: 0.0019 - val_accuracy: 0.9876\n",
      "Epoch 71/80\n",
      "543/543 [==============================] - 21s 39ms/step - loss: 0.0013 - accuracy: 0.9906 - val_loss: 0.0016 - val_accuracy: 0.9917\n",
      "Epoch 72/80\n",
      "543/543 [==============================] - 22s 41ms/step - loss: 0.0013 - accuracy: 0.9901 - val_loss: 0.0017 - val_accuracy: 0.9876\n",
      "Epoch 73/80\n",
      "543/543 [==============================] - 23s 42ms/step - loss: 0.0013 - accuracy: 0.9913 - val_loss: 0.0017 - val_accuracy: 0.9814\n",
      "Epoch 74/80\n",
      "543/543 [==============================] - 21s 38ms/step - loss: 0.0012 - accuracy: 0.9917 - val_loss: 0.0013 - val_accuracy: 0.9896\n",
      "Epoch 75/80\n",
      "543/543 [==============================] - 21s 39ms/step - loss: 0.0012 - accuracy: 0.9894 - val_loss: 0.0017 - val_accuracy: 0.9855\n",
      "Epoch 76/80\n",
      "543/543 [==============================] - 22s 41ms/step - loss: 0.0012 - accuracy: 0.9917 - val_loss: 0.0019 - val_accuracy: 0.9855\n",
      "Epoch 77/80\n",
      "543/543 [==============================] - 23s 43ms/step - loss: 0.0012 - accuracy: 0.9915 - val_loss: 0.0013 - val_accuracy: 0.9855\n",
      "Epoch 78/80\n",
      "543/543 [==============================] - 24s 45ms/step - loss: 0.0012 - accuracy: 0.9915 - val_loss: 0.0017 - val_accuracy: 0.9876\n",
      "Epoch 79/80\n",
      "543/543 [==============================] - 23s 41ms/step - loss: 0.0012 - accuracy: 0.9876 - val_loss: 0.0015 - val_accuracy: 0.9876\n",
      "Epoch 80/80\n",
      "543/543 [==============================] - 23s 42ms/step - loss: 0.0012 - accuracy: 0.9922 - val_loss: 0.0013 - val_accuracy: 0.9855\n"
     ]
    }
   ],
   "source": [
    "Batch_Size = 8\n",
    "Epoch_Anz = 80\n",
    "Shift_Range = 3\n",
    "Brightness_Range = 0.3\n",
    "\n",
    "datagen = ImageDataGenerator(width_shift_range=[-Shift_Range,Shift_Range], height_shift_range=[-Shift_Range,Shift_Range],brightness_range=[1-Brightness_Range,1+Brightness_Range])\n",
    "\n",
    "train_iterator = datagen.flow(X_train, y_train, batch_size=Batch_Size)\n",
    "validation_iterator = datagen.flow(X_test, y_test, batch_size=Batch_Size)\n",
    "\n",
    "history = model.fit_generator(train_iterator, validation_data = validation_iterator, epochs = Epoch_Anz)"
   ]
  },
  {
   "cell_type": "markdown",
   "metadata": {},
   "source": [
    "### Overall Learing results (Step 1 & Step 2)"
   ]
  },
  {
   "cell_type": "code",
   "execution_count": 7,
   "metadata": {},
   "outputs": [
    {
     "data": {
      "image/png": "[encoded data removed]",
      "text/plain": [
       "<Figure size 432x288 with 1 Axes>"
      ]
     },
     "metadata": {
      "needs_background": "light"
     },
     "output_type": "display_data"
    }
   ],
   "source": [
    "loss_ges = np.append(loss_ges, history.history['loss'])\n",
    "val_loss_ges = np.append(val_loss_ges, history.history['val_loss'])\n",
    "\n",
    "plt.semilogy(loss_ges)\n",
    "plt.semilogy(val_loss_ges)\n",
    "plt.title('model loss')\n",
    "plt.ylabel('loss')\n",
    "plt.xlabel('epoch')\n",
    "plt.legend(['train','eval'], loc='upper left')\n",
    "plt.show()"
   ]
  },
  {
   "cell_type": "markdown",
   "metadata": {},
   "source": [
    "### Check the model by hand\n",
    "\n",
    "* The following code uses the trained model to check the deviation for each picture.\n",
    "* The evaluation takes the periodic character of the results into account (dev1 ... dev2).\n",
    "* Images, that have a bigger deviation as the parameter \"deviation_max_list\" are printed in a list to check the picture and labeling itself"
   ]
  },
  {
   "cell_type": "code",
   "execution_count": 8,
   "metadata": {},
   "outputs": [
    {
     "name": "stdout",
     "output_type": "stream",
     "text": [
      "data_resize_all\\0.8_0282_zeiger2_2020-04-29_13-27-02.jpg 0.08 0.015956418763125875 0.06404358123687412\n",
      "data_resize_all\\0.9_0355_zeiger2_2020-04-29_10-50-02.jpg 0.09 0.0399536563823081 0.0500463436176919\n",
      "data_resize_all\\0.9_0358_zeiger2_2020-04-29_13-03-02.jpg 0.09 0.03611696362759577 0.05388303637240423\n",
      "data_resize_all\\1.0_0392_zeiger1_2020-04-29_12-23-02.jpg 0.1 0.044415273500581214 0.05558472649941879\n",
      "data_resize_all\\1.1_0474_zeiger2_2020-04-29_11-37-01.jpg 0.11000000000000001 0.04740423542918265 0.06259576457081736\n",
      "data_resize_all\\1.6_0680_zeiger1_2020-06-15_17-13-42.jpg 0.16 0.10950942851844224 0.050490571481557764\n",
      "data_resize_all\\1.7_0737_zeiger2_2020-04-29_14-40-02.jpg 0.16999999999999998 0.08697132207721572 0.08302867792278426\n",
      "data_resize_all\\1.7_0761_zeiger3_2020-06-14_08-38-09.jpg 0.16999999999999998 0.11905493093387202 0.05094506906612796\n",
      "data_resize_all\\1.7_0764_zeiger4_2020-04-29_11-29-02.jpg 0.16999999999999998 0.11669766189657137 0.05330233810342862\n",
      "data_resize_all\\1.8_0797_zeiger1_2020-04-29_11-10-02.jpg 0.18 0.1293794828287587 0.0506205171712413\n",
      "data_resize_all\\1.8_0836_zeiger3_2020-04-29_11-07-53.jpg 0.18 0.12769225534903628 0.05230774465096372\n",
      "data_resize_all\\1.9_0855_zeiger1_2020-06-14_14-18-59.jpg 0.19 0.13520987459988928 0.05479012540011072\n",
      "data_resize_all\\2.0_0917_zeiger1_2020-06-14_14-21-17.jpg 0.2 0.1472218816474707 0.052778118352529324\n",
      "data_resize_all\\2.0_0918_zeiger1_2020-06-15_17-29-07.jpg 0.2 0.1405252701076009 0.0594747298923991\n",
      "data_resize_all\\2.0_0946_zeiger4_2020-04-29_13-56-02.jpg 0.2 0.14945745948105893 0.05054254051894108\n",
      "data_resize_all\\2.2_1077_zeiger1_2020-06-14_14-54-25.jpg 0.22000000000000003 0.1556734059444629 0.06432659405553712\n",
      "data_resize_all\\2.5_1187_zeiger1_2020-04-29_13-55-01.jpg 0.25 0.1966105811081313 0.05338941889186871\n",
      "data_resize_all\\2.5_1188_zeiger1_2020-06-14_15-04-38.jpg 0.25 0.17192540470131126 0.07807459529868874\n",
      "data_resize_all\\2.5_1193_zeiger2_2020-06-14_08-56-07.jpg 0.25 0.1974079867209826 0.05259201327901741\n",
      "data_resize_all\\2.6_1239_zeiger1_2020-06-14_15-10-18.jpg 0.26 0.1818864387503717 0.07811356124962832\n",
      "data_resize_all\\2.8_1350_zeiger1_2020-06-15_17-39-24.jpg 0.27999999999999997 0.2115704978014902 0.06842950219850977\n",
      "data_resize_all\\3.9_1898_analog1_20200815-080008.jpg 0.39 0.4403209324768181 -0.05032093247681807\n",
      "data_resize_all\\4.0_1947_zeiger1_2020-06-15_19-22-14.jpg 0.4 0.47897718493990843 -0.0789771849399084\n",
      "data_resize_all\\4.1_2042_zeiger2_2019-09-14_19-50-12.jpg 0.41 0.4656093284238364 -0.055609328423836424\n",
      "data_resize_all\\4.2_2137_zeiger1_2020-06-14_17-30-40.jpg 0.42000000000000004 0.4727945735942036 -0.05279457359420359\n",
      "data_resize_all\\5.0_2526_zeiger1_2020-04-29_14-17-02.jpg 0.5 0.5901458472804362 -0.09014584728043618\n",
      "data_resize_all\\5.2_2597_zeiger1_2020-04-29_11-40-01.jpg 0.52 0.5873578020067324 -0.06735780200673236\n",
      "data_resize_all\\5.2_2598_zeiger1_2020-04-29_14-18-02.jpg 0.52 0.5930882548293823 -0.0730882548293823\n",
      "data_resize_all\\5.2_2599_zeiger2_2019-09-14_21-50-13.jpg 0.52 0.578217415186449 -0.05821741518644896\n",
      "data_resize_all\\5.2_2605_zeiger3_2020-04-29_13-30-02.jpg 0.52 0.4520888171798146 0.06791118282018543\n",
      "data_resize_all\\5.2_2609_zeiger2_2019-09-14_21-10-12.jpg 0.52 0.5718503507876584 -0.05185035078765843\n",
      "data_resize_all\\5.3_2617_zeiger2_2020-04-29_12-04-02.jpg 0.53 0.5824711052195514 -0.05247110521955134\n",
      "data_resize_all\\5.3_2633_zeiger1_2020-04-29_12-58-01.jpg 0.53 0.5931633869102524 -0.06316338691025236\n",
      "data_resize_all\\5.3_2634_zeiger1_2020-04-29_14-19-02.jpg 0.53 0.619174492762449 -0.08917449276244893\n",
      "data_resize_all\\5.4_2686_zeiger1_2020-04-29_11-41-02.jpg 0.54 0.5910366557301874 -0.05103665573018734\n",
      "data_resize_all\\5.6_2758_zeiger1_2020-04-29_13-00-02.jpg 0.5599999999999999 0.620774236902552 -0.060774236902552015\n",
      "data_resize_all\\5.7_2786_zeiger1_2020-04-29_14-21-02.jpg 0.5700000000000001 0.6320630976717583 -0.062063097671758216\n",
      "data_resize_all\\5.9_2860_zeiger1_2020-04-29_11-44-02.jpg 0.5900000000000001 0.6451659049025384 -0.055165904902538365\n",
      "data_resize_all\\5.9_2861_zeiger1_2020-04-29_11-45-02.jpg 0.5900000000000001 0.6411379526215051 -0.051137952621505\n",
      "data_resize_all\\5.9_2863_zeiger1_2020-04-29_13-03-02.jpg 0.5900000000000001 0.6520384791909006 -0.06203847919090055\n",
      "data_resize_all\\5.9_2864_zeiger1_2020-04-29_14-22-02.jpg 0.5900000000000001 0.6440440463313639 -0.05404404633136384\n",
      "data_resize_all\\5.9_2865_zeiger1_2020-04-29_14-23-02.jpg 0.5900000000000001 0.6444058186844022 -0.054405818684402085\n",
      "data_resize_all\\6.0_2936_zeiger1_2020-04-29_11-46-02.jpg 0.6 0.6545777917423299 -0.054577791742329906\n",
      "data_resize_all\\6.0_2938_zeiger1_2020-04-29_14-24-01.jpg 0.6 0.6579186269928601 -0.0579186269928601\n",
      "data_resize_all\\6.1_2939_zeiger1_2020-04-29_14-25-02.jpg 0.61 0.6708811497271872 -0.06088114972718717\n",
      "data_resize_all\\6.1_3006_zeiger1_2020-04-29_11-47-02.jpg 0.61 0.6617207276853384 -0.05172072768533842\n",
      "data_resize_all\\6.2_3048_zeiger1_2020-04-29_11-48-02.jpg 0.62 0.6863693436073512 -0.06636934360735125\n",
      "data_resize_all\\6.2_3049_zeiger1_2020-04-29_14-26-02.jpg 0.62 0.6930730035229895 -0.07307300352298951\n",
      "data_resize_all\\6.3_3120_zeiger1_2020-04-29_13-06-02.jpg 0.63 0.6965170125754823 -0.06651701257548226\n",
      "data_resize_all\\6.4_3194_zeiger1_2020-04-29_14-27-02.jpg 0.64 0.7467090181735272 -0.10670901817352718\n",
      "data_resize_all\\6.5_3121_zeiger1_2020-04-29_13-07-02.jpg 0.65 0.7149934521630221 -0.0649934521630221\n",
      "data_resize_all\\6.5_3236_zeiger3_2020-04-29_14-07-02.jpg 0.65 0.7160987095799641 -0.06609870957996411\n",
      "data_resize_all\\6.5_3271_zeiger1_2020-04-29_11-49-17.jpg 0.65 0.7508184963514037 -0.10081849635140372\n",
      "data_resize_all\\6.5_3276_zeiger3_2020-04-29_14-28-02.jpg 0.65 0.7093823568961182 -0.05938235689611815\n",
      "data_resize_all\\6.6_3270_zeiger1_2020-04-29_11-49-10.jpg 0.6599999999999999 0.7241605715848072 -0.06416057158480726\n",
      "data_resize_all\\6.6_3287_zeiger1_2020-04-29_13-08-01.jpg 0.6599999999999999 0.742601494188663 -0.08260149418866303\n",
      "data_resize_all\\6.6_3288_zeiger1_2020-04-29_14-28-02.jpg 0.6599999999999999 0.7720014553158043 -0.11200145531580441\n",
      "data_resize_all\\6.7_3340_zeiger1_2020-04-29_11-50-02.jpg 0.67 0.7596522645961967 -0.08965226459619668\n",
      "data_resize_all\\6.7_3341_zeiger1_2020-04-29_14-29-02.jpg 0.67 0.7777582043667588 -0.10775820436675876\n",
      "data_resize_all\\6.7_3347_zeiger2_2020-04-29_13-16-02.jpg 0.67 0.720657652150723 -0.05065765215072293\n",
      "data_resize_all\\6.7_3353_zeiger3_2020-04-29_11-57-02.jpg 0.67 0.8170237666220574 -0.1470237666220574\n",
      "data_resize_all\\6.7_3354_zeiger3_2020-04-29_12-54-02.jpg 0.67 0.7243227506320995 -0.05432275063209946\n",
      "data_resize_all\\6.7_3355_zeiger3_2020-04-29_13-15-02.jpg 0.67 0.7451309978295342 -0.07513099782953414\n",
      "data_resize_all\\6.8_3395_zeiger1_2020-04-29_11-51-02.jpg 0.6799999999999999 0.7349767832634485 -0.05497678326344857\n",
      "data_resize_all\\6.8_3396_zeiger1_2020-04-29_13-09-02.jpg 0.6799999999999999 0.7499792748026338 -0.06997927480263388\n",
      "data_resize_all\\6.8_3397_zeiger1_2020-04-29_13-10-02.jpg 0.6799999999999999 0.7402105674969524 -0.060210567496952416\n",
      "data_resize_all\\6.8_3398_zeiger1_2020-04-29_14-30-02.jpg 0.6799999999999999 0.7531966354111683 -0.07319663541116839\n",
      "data_resize_all\\6.8_3410_zeiger2_2020-04-29_13-56-02.jpg 0.6799999999999999 0.7376492465581976 -0.0576492465581977\n",
      "data_resize_all\\6.8_3413_zeiger3_2020-04-29_11-21-01.jpg 0.6799999999999999 0.7339709050989303 -0.05397090509893032\n",
      "data_resize_all\\6.9_3449_zeiger1_2020-04-29_11-52-02.jpg 0.6900000000000001 0.7513631659922169 -0.061363165992216806\n",
      "data_resize_all\\6.9_3450_zeiger1_2020-04-29_13-11-02.jpg 0.6900000000000001 0.7504912923446647 -0.06049129234466466\n",
      "data_resize_all\\6.9_3451_zeiger1_2020-04-29_14-31-02.jpg 0.6900000000000001 0.7716593197566298 -0.08165931975662977\n",
      "data_resize_all\\7.0_3506_zeiger1_2020-04-29_11-53-01.jpg 0.7 0.7544618330911748 -0.054461833091174805\n",
      "data_resize_all\\7.0_3580_zeiger1_2020-04-29_14-32-02.jpg 0.7 0.7838588534424235 -0.0838588534424235\n",
      "data_resize_all\\7.1_3643_zeiger1_2020-04-29_13-12-02.jpg 0.71 0.7820791907359336 -0.07207919073593361\n",
      "data_resize_all\\7.3_3742_zeiger1_2020-04-29_14-34-02.jpg 0.73 0.7940932278675182 -0.06409322786751825\n",
      "data_resize_all\\7.4_3756_zeiger1_2020-04-29_11-56-01.jpg 0.74 0.8071632501902823 -0.06716325019028235\n",
      "data_resize_all\\7.4_3757_zeiger1_2020-04-29_13-14-02.jpg 0.74 0.7940074331024438 -0.054007433102443825\n"
     ]
    },
    {
     "name": "stdout",
     "output_type": "stream",
     "text": [
      "data_resize_all\\7.4_3758_zeiger1_2020-04-29_13-15-02.jpg 0.74 0.8083318576117761 -0.06833185761177607\n",
      "data_resize_all\\7.4_3759_zeiger1_2020-04-29_14-35-02.jpg 0.74 0.7985869990499466 -0.058586999049946575\n",
      "data_resize_all\\7.6_3861_zeiger1_2020-04-29_14-36-02.jpg 0.76 0.8274986965151705 -0.06749869651517049\n",
      "data_resize_all\\7.7_3895_zeiger1_2020-04-29_11-58-02.jpg 0.77 0.8223430989749156 -0.052343098974915625\n",
      "data_resize_all\\7.7_3896_zeiger1_2020-04-29_13-17-02.jpg 0.77 0.8258114880081958 -0.0558114880081958\n",
      "data_resize_all\\7.7_3924_zeiger1_2020-04-29_14-37-02.jpg 0.77 0.8438078981063177 -0.07380789810631772\n",
      "data_resize_all\\7.7_3967_zeiger1_2020-04-29_14-38-02.jpg 0.77 0.8503876185476418 -0.08038761854764176\n",
      "data_resize_all\\7.9_3968_zeiger1_2020-04-29_14-39-02.jpg 0.79 0.8421073422713399 -0.05210734227133984\n"
     ]
    }
   ],
   "source": [
    "Input_dir='data_resize_all'\n",
    "#Input_dir='test_result'\n",
    "files = glob.glob(Input_dir + '/*.*')\n",
    "res = []\n",
    "i = 0\n",
    "deviation_max_list = 0.05\n",
    "\n",
    "for aktfile in files:\n",
    "    base = os.path.basename(aktfile)\n",
    "    target = (float(base[0:3])) / 10\n",
    "    target_sin = math.sin(target * math.pi * 2)\n",
    "    target_cos = math.cos(target * math.pi * 2)\n",
    "\n",
    "    test_image = Image.open(aktfile)\n",
    "    test_image = np.array(test_image, dtype=\"float32\")\n",
    "    img = np.reshape(test_image,[1,32,32,3])\n",
    "    classes = model.predict(img)\n",
    "    \n",
    "    out_sin = classes[0][0]  \n",
    "    out_cos = classes[0][1]\n",
    "    out_target = (np.arctan2(out_sin, out_cos)/(2*math.pi)) % 1\n",
    "\n",
    "    dev_sin = target_sin - out_sin\n",
    "    dev_cos = target_cos - out_cos\n",
    "    dev_target = target - out_target\n",
    "    \n",
    "    if abs(dev_target + 1) < abs(dev_target):\n",
    "        out_target = out_target - 1\n",
    "        dev_target = target - out_target\n",
    "    else:\n",
    "        if abs(dev_target - 1) < abs(dev_target):\n",
    "            out_target = out_target + 1\n",
    "            dev_target = target - out_target\n",
    "               \n",
    "    res.append(np.array([target, out_target, dev_target, out_sin, out_cos, i]))\n",
    "    if abs(dev_target) > deviation_max_list:\n",
    "        print(aktfile + \" \" + str(target) + \" \" + str(out_target) +  \" \" + str(dev_target))\n",
    "    i+=1\n",
    "\n",
    "res = np.asarray(res)\n",
    "res_step_1 = res"
   ]
  },
  {
   "cell_type": "markdown",
   "metadata": {},
   "source": [
    "## Results"
   ]
  },
  {
   "cell_type": "code",
   "execution_count": 9,
   "metadata": {},
   "outputs": [
    {
     "data": {
      "image/png": "[encoded data removed]",
      "text/plain": [
       "<Figure size 432x288 with 1 Axes>"
      ]
     },
     "metadata": {
      "needs_background": "light"
     },
     "output_type": "display_data"
    }
   ],
   "source": [
    "plt.plot(res[:,3])\n",
    "plt.plot(res[:,4])\n",
    "plt.title('Result')\n",
    "plt.ylabel('value')\n",
    "plt.xlabel('#Picture')\n",
    "plt.legend(['sin', 'cos'], loc='lower left')\n",
    "plt.show()"
   ]
  },
  {
   "cell_type": "code",
   "execution_count": 10,
   "metadata": {},
   "outputs": [
    {
     "data": {
      "image/png": "[encoded data removed]",
      "text/plain": [
       "<Figure size 432x288 with 1 Axes>"
      ]
     },
     "metadata": {
      "needs_background": "light"
     },
     "output_type": "display_data"
    }
   ],
   "source": [
    "plt.plot(res[:,0])\n",
    "plt.plot(res[:,1])\n",
    "plt.title('Result')\n",
    "plt.ylabel('Counter Value')\n",
    "plt.xlabel('#Picture')\n",
    "plt.legend(['Orginal', 'Prediction'], loc='upper left')\n",
    "plt.show()"
   ]
  },
  {
   "cell_type": "markdown",
   "metadata": {},
   "source": [
    "### Deviation from Expected Value"
   ]
  },
  {
   "cell_type": "code",
   "execution_count": 11,
   "metadata": {},
   "outputs": [
    {
     "data": {
      "image/png": "[encoded data removed]",
      "text/plain": [
       "<Figure size 432x288 with 1 Axes>"
      ]
     },
     "metadata": {
      "needs_background": "light"
     },
     "output_type": "display_data"
    },
    {
     "name": "stdout",
     "output_type": "stream",
     "text": [
      "[ 0.001   0.0166 -0.147   0.083 ]\n"
     ]
    }
   ],
   "source": [
    "plt.plot(res[:,2])\n",
    "plt.title('Deviation')\n",
    "plt.ylabel('Deviation from expected value')\n",
    "plt.xlabel('#Picture')\n",
    "plt.legend(['Deviation'], loc='upper left')\n",
    "#plt.ylim(-0.3, 0.3)\n",
    "plt.show()\n",
    "\n",
    "statistic = np.array([np.mean(res[:,2]), np.std(res[:,2]), np.min(res[:,2]), np.max(res[:,2])])\n",
    "print(statistic)"
   ]
  },
  {
   "cell_type": "markdown",
   "metadata": {},
   "source": [
    "### Save the model\n",
    "\n",
    "* Save the model to the file with the \"h5\" file format"
   ]
  },
  {
   "cell_type": "code",
   "execution_count": 12,
   "metadata": {},
   "outputs": [
    {
     "data": {
      "text/plain": [
       "45284"
      ]
     },
     "execution_count": 12,
     "metadata": {},
     "output_type": "execute_result"
    }
   ],
   "source": [
    "# model.save(\"CNN_Analog-Readout_Version-6.2.0.h5\")\n",
    "\n",
    "converter = tf.lite.TFLiteConverter.from_keras_model(model)\n",
    "tflite_model = converter.convert()\n",
    "open(\"CNN_Analog-Readout_Version-6.3.0-Small.tflite\", \"wb\").write(tflite_model)"
   ]
  }
 ],
 "metadata": {
  "kernelspec": {
   "display_name": "Python 3",
   "language": "python",
   "name": "python3"
  },
  "language_info": {
   "codemirror_mode": {
    "name": "ipython",
    "version": 3
   },
   "file_extension": ".py",
   "mimetype": "text/x-python",
   "name": "python",
   "nbconvert_exporter": "python",
   "pygments_lexer": "ipython3",
   "version": "3.7.9"
  }
 },
 "nbformat": 4,
 "nbformat_minor": 2
}
