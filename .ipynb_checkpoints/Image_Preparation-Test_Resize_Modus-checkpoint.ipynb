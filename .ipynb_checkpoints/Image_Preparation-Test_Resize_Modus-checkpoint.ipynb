{
 "cells": [
  {
   "cell_type": "markdown",
   "metadata": {},
   "source": [
    "# Image preparation\n",
    "\n",
    "The image size for the input ist 32x32 pixels with a color depth of 3 (RGB).\n",
    "The below code can be used to transform the images in an input directory (Input_dir) to the right size (32x32 pixels) into an output directory (Output_dir). \n",
    "Any other image converter can be used as well\n",
    "\n",
    "### Prerequisite\n",
    "Installad OpenCV libary within python (opencv)"
   ]
  },
  {
   "cell_type": "code",
   "execution_count": 2,
   "metadata": {},
   "outputs": [],
   "source": [
    "import glob\n",
    "import os\n",
    "from PIL import Image \n",
    "\n",
    "Input_dir='data_raw_all'\n",
    "Output_dir='data_resize_all'\n",
    "\n",
    "files = glob.glob(Input_dir+'/*.*')\n",
    "\n",
    "test_image = Image.open('test/test.jpg')\n",
    "test_bicubic = test_image.resize((32, 32), Image.BICUBIC)\n",
    "test_nearest = test_image.resize((32, 32), Image.NEAREST)\n",
    "test_bilinear = test_image.resize((32, 32), Image.BILINEAR)\n",
    "test_anti = test_image.resize((32, 32), Image.ANTIALIAS)\n",
    "\n",
    "test_bicubic.save('test/'+\"test_bicubic.jpg\", \"JPEG\")\n",
    "test_nearest.save('test/'+\"test_nearest.jpg\", \"JPEG\")\n",
    "test_bilinear.save('test/'+\"test_bilinear.jpg\", \"JPEG\")\n",
    "test_anti.save('test/'+\"test_anti.jpg\", \"JPEG\")\n",
    "\n"
   ]
  },
  {
   "cell_type": "code",
   "execution_count": null,
   "metadata": {},
   "outputs": [],
   "source": []
  }
 ],
 "metadata": {
  "kernelspec": {
   "display_name": "Python 3",
   "language": "python",
   "name": "python3"
  },
  "language_info": {
   "codemirror_mode": {
    "name": "ipython",
    "version": 3
   },
   "file_extension": ".py",
   "mimetype": "text/x-python",
   "name": "python",
   "nbconvert_exporter": "python",
   "pygments_lexer": "ipython3",
   "version": "3.7.6"
  }
 },
 "nbformat": 4,
 "nbformat_minor": 2
}
