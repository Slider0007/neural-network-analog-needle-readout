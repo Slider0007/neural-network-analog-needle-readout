{
 "cells": [
  {
   "cell_type": "code",
   "execution_count": 6,
   "metadata": {},
   "outputs": [],
   "source": [
    "import os\n",
    "import glob"
   ]
  },
  {
   "cell_type": "code",
   "execution_count": 16,
   "metadata": {},
   "outputs": [],
   "source": [
    "Input_dir='data_raw_all'\n",
    "Output_dir='data_raw_all_rename'\n",
    "\n",
    "files = glob.glob(Input_dir + '/*.*')\n",
    "x_data = []\n",
    "y_data = []\n",
    "\n",
    "for aktfile in files:\n",
    "    base = os.path.basename(aktfile)\n",
    "    t1 = base[9:10]\n",
    "    t2 = base[10:11]\n",
    "    zeiger=base[17:18]\n",
    "    rest=base[19:36]\n",
    "    new_name = Input_dir + '\\\\' + t1 + '.' + t2 + '_zeiger' + zeiger + '_' + rest + '.jpg'\n",
    "    os.rename(aktfile, new_name)\n",
    "    \n",
    "\n",
    "#    print(aktfile)\n",
    "#    print(new_name)\n",
    "#    zeiger_rv00_va0_u1_2019-06-04T044009.153Z\n",
    "#    5.0_zeiger2_2019-09-14_13-10-12\n",
    "    "
   ]
  },
  {
   "cell_type": "code",
   "execution_count": null,
   "metadata": {},
   "outputs": [],
   "source": []
  }
 ],
 "metadata": {
  "kernelspec": {
   "display_name": "Python 3",
   "language": "python",
   "name": "python3"
  },
  "language_info": {
   "codemirror_mode": {
    "name": "ipython",
    "version": 3
   },
   "file_extension": ".py",
   "mimetype": "text/x-python",
   "name": "python",
   "nbconvert_exporter": "python",
   "pygments_lexer": "ipython3",
   "version": "3.7.6"
  }
 },
 "nbformat": 4,
 "nbformat_minor": 2
}
