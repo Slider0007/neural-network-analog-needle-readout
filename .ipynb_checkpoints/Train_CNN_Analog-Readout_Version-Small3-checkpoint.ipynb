{
 "cells": [
  {
   "cell_type": "markdown",
   "metadata": {},
   "source": [
    "# CNN Training\n",
    "\n",
    "Target of this code is to train a CNN network to extract the needle position of an analog needle device.\n",
    "\n",
    "### Preparing the training\n",
    "* First all libraries are loaded\n",
    "    * It is assumed, that they are installed during the Python setup\n",
    "* matplotlib is set to print the output inline in the jupyter notebook"
   ]
  },
  {
   "cell_type": "code",
   "execution_count": 1,
   "metadata": {
    "scrolled": true
   },
   "outputs": [],
   "source": [
    "import os\n",
    "import tensorflow as tf\n",
    "import matplotlib.pyplot as plt\n",
    "import glob\n",
    "import numpy as np\n",
    "from sklearn.utils import shuffle\n",
    "from tensorflow.python import keras\n",
    "from tensorflow.python.keras import Sequential\n",
    "from tensorflow.python.keras.layers import Dense, InputLayer, Conv2D, MaxPool2D, Flatten, BatchNormalization\n",
    "from tensorflow.keras.preprocessing.image import ImageDataGenerator\n",
    "from sklearn.model_selection import train_test_split\n",
    "import tensorflow.keras.backend as K\n",
    "from tensorflow.keras.callbacks import History \n",
    "import math\n",
    "from PIL import Image \n",
    "\n",
    "loss_ges = np.array([])\n",
    "val_loss_ges = np.array([])\n",
    "\n",
    "%matplotlib inline\n",
    "np.set_printoptions(precision=4)\n",
    "np.set_printoptions(suppress=True)"
   ]
  },
  {
   "cell_type": "markdown",
   "metadata": {},
   "source": [
    "### Load training data\n",
    "* The data is expected in the \"Input_dir\"\n",
    "* Picture size must be 32x32 with 3 color channels (RGB)\n",
    "* The filename contains the informations needed for training in the first 3 digits::\n",
    "* Typical filename: \n",
    "    * x.y-zzzz.jpg \n",
    "    * e.g. \"4.6_Lfd-1406_zeiger3_2019-06-02T050011\"\n",
    "\n",
    "|Place holder | Meaning                     | Usage        |\n",
    "|------------- |-----------------------------|--------------|\n",
    "| **x.y**          | readout value               | **to be learned** |\n",
    "| zzzz        | additional information              | not needed   |\n",
    "\n",
    "* The images are stored in the x_data[]\n",
    "* The expected output for each image in the corresponding y_data[]\n",
    "    * The periodic nature is reflected in a **sin/cos coding**, which allows to restore the angle/counter value with an arctan later on.\n",
    "\n",
    "* The last step is a shuffle (from sklearn.utils) as the filenames are on order due to the encoding of the expected analog readout in the filename "
   ]
  },
  {
   "cell_type": "code",
   "execution_count": 2,
   "metadata": {},
   "outputs": [
    {
     "name": "stdout",
     "output_type": "stream",
     "text": [
      "(4907, 32, 32, 3)\n",
      "(4907, 2)\n"
     ]
    }
   ],
   "source": [
    "Input_dir='data_resize_all'\n",
    "\n",
    "files = glob.glob(Input_dir + '/*.*')\n",
    "x_data = []\n",
    "y_data = []\n",
    "\n",
    "for aktfile in files:\n",
    "    test_image = Image.open(aktfile)\n",
    "    test_image = np.array(test_image, dtype=\"float32\")\n",
    "    test_image = np.reshape(test_image, (32,32,3))\n",
    "    base = os.path.basename(aktfile)\n",
    "    target_number = (float(base[0:3])) / 10\n",
    "    target_sin = math.sin(target_number * math.pi * 2)\n",
    "    target_cos = math.cos(target_number * math.pi * 2)\n",
    "\n",
    "    x_data.append(test_image)\n",
    "    zw = np.array([target_sin, target_cos])\n",
    "    y_data.append(zw)\n",
    "\n",
    "x_data = np.array(x_data)\n",
    "y_data = np.array(y_data)\n",
    "print(x_data.shape)\n",
    "print(y_data.shape)\n",
    "\n",
    "x_data, y_data = shuffle(x_data, y_data)\n",
    "X_train, X_test, y_train, y_test = train_test_split(x_data, y_data, test_size=0.1)"
   ]
  },
  {
   "cell_type": "markdown",
   "metadata": {},
   "source": [
    "### Define the model\n",
    "\n",
    "The layout of the network ist a typcial CNN network with alternating **Conv2D** and **MaxPool2D** layers. Finished after **flattening** with additional **Dense** layer.\n",
    "\n",
    "#### Important\n",
    "* Shape of the input layer: (32, 32, 3)\n",
    "* Shape of the output layer: (2) - sin and cos"
   ]
  },
  {
   "cell_type": "code",
   "execution_count": 3,
   "metadata": {
    "scrolled": true
   },
   "outputs": [
    {
     "name": "stdout",
     "output_type": "stream",
     "text": [
      "Model: \"sequential\"\n",
      "_________________________________________________________________\n",
      "Layer (type)                 Output Shape              Param #   \n",
      "=================================================================\n",
      "batch_normalization (BatchNo (None, 32, 32, 3)         12        \n",
      "_________________________________________________________________\n",
      "conv2d (Conv2D)              (None, 32, 32, 32)        2432      \n",
      "_________________________________________________________________\n",
      "max_pooling2d (MaxPooling2D) (None, 8, 8, 32)          0         \n",
      "_________________________________________________________________\n",
      "conv2d_1 (Conv2D)            (None, 8, 8, 16)          12816     \n",
      "_________________________________________________________________\n",
      "max_pooling2d_1 (MaxPooling2 (None, 2, 2, 16)          0         \n",
      "_________________________________________________________________\n",
      "conv2d_2 (Conv2D)            (None, 2, 2, 32)          4640      \n",
      "_________________________________________________________________\n",
      "max_pooling2d_2 (MaxPooling2 (None, 1, 1, 32)          0         \n",
      "_________________________________________________________________\n",
      "flatten (Flatten)            (None, 32)                0         \n",
      "_________________________________________________________________\n",
      "dense (Dense)                (None, 64)                2112      \n",
      "_________________________________________________________________\n",
      "dense_1 (Dense)              (None, 32)                2080      \n",
      "_________________________________________________________________\n",
      "dense_2 (Dense)              (None, 2)                 66        \n",
      "=================================================================\n",
      "Total params: 24,158\n",
      "Trainable params: 24,152\n",
      "Non-trainable params: 6\n",
      "_________________________________________________________________\n"
     ]
    }
   ],
   "source": [
    "model = Sequential()\n",
    "model.add(BatchNormalization(input_shape=(32,32,3)))\n",
    "model.add(Conv2D(32, (5, 5), input_shape=(32,32,3), padding='same', activation=\"relu\"))\n",
    "model.add(MaxPool2D(pool_size=(4,4)))\n",
    "model.add(Conv2D(16, (5, 5), padding='same', activation=\"relu\"))\n",
    "model.add(MaxPool2D(pool_size=(4,4)))\n",
    "model.add(Conv2D(32, (3, 3), padding='same', activation=\"relu\"))\n",
    "model.add(MaxPool2D(pool_size=(2,2)))\n",
    "model.add(Flatten())\n",
    "model.add(Dense(64,activation=\"relu\"))\n",
    "model.add(Dense(32,activation=\"relu\"))\n",
    "model.add(Dense(2))\n",
    "model.summary()\n",
    "\n",
    "model.compile(loss=keras.losses.mean_squared_error, optimizer=tf.keras.optimizers.Adadelta(learning_rate=1.0, rho=0.95), metrics = [\"accuracy\"])"
   ]
  },
  {
   "cell_type": "markdown",
   "metadata": {},
   "source": [
    "# Training\n",
    "The input pictures are randomly scattered for brightness and pixel shift variations. These is implemented with a ImageDataGenerator.\n",
    "\n",
    "\n",
    "The training is splitted into two steps:\n",
    "1. Variation of the brightness only\n",
    "2. Variation of brightness and Pixel Shift"
   ]
  },
  {
   "cell_type": "markdown",
   "metadata": {},
   "source": [
    "### Step 1: Brigthness scattering only"
   ]
  },
  {
   "cell_type": "code",
   "execution_count": 4,
   "metadata": {},
   "outputs": [
    {
     "name": "stdout",
     "output_type": "stream",
     "text": [
      "WARNING:tensorflow:From <ipython-input-4-9f5ba6453a73>:11: Model.fit_generator (from tensorflow.python.keras.engine.training) is deprecated and will be removed in a future version.\n",
      "Instructions for updating:\n",
      "Please use Model.fit, which supports generators.\n",
      "Epoch 1/30\n",
      "552/552 [==============================] - 6s 11ms/step - loss: 0.1400 - accuracy: 0.8519 - val_loss: 0.0173 - val_accuracy: 0.9796\n",
      "Epoch 2/30\n",
      "552/552 [==============================] - 6s 11ms/step - loss: 0.0192 - accuracy: 0.9629 - val_loss: 0.0079 - val_accuracy: 0.9837\n",
      "Epoch 3/30\n",
      "552/552 [==============================] - 6s 11ms/step - loss: 0.0129 - accuracy: 0.9692 - val_loss: 0.0104 - val_accuracy: 0.9817\n",
      "Epoch 4/30\n",
      "552/552 [==============================] - 6s 11ms/step - loss: 0.0098 - accuracy: 0.9721 - val_loss: 0.0092 - val_accuracy: 0.9715\n",
      "Epoch 5/30\n",
      "552/552 [==============================] - 6s 11ms/step - loss: 0.0076 - accuracy: 0.9783 - val_loss: 0.0057 - val_accuracy: 0.9735\n",
      "Epoch 6/30\n",
      "552/552 [==============================] - 7s 12ms/step - loss: 0.0062 - accuracy: 0.9760 - val_loss: 0.0054 - val_accuracy: 0.9776\n",
      "Epoch 7/30\n",
      "552/552 [==============================] - 6s 12ms/step - loss: 0.0046 - accuracy: 0.9783 - val_loss: 0.0074 - val_accuracy: 0.9674\n",
      "Epoch 8/30\n",
      "552/552 [==============================] - 7s 12ms/step - loss: 0.0042 - accuracy: 0.9826 - val_loss: 0.0035 - val_accuracy: 0.9919\n",
      "Epoch 9/30\n",
      "552/552 [==============================] - 7s 12ms/step - loss: 0.0035 - accuracy: 0.9796 - val_loss: 0.0066 - val_accuracy: 0.9654\n",
      "Epoch 10/30\n",
      "552/552 [==============================] - 7s 12ms/step - loss: 0.0031 - accuracy: 0.9835 - val_loss: 0.0037 - val_accuracy: 0.9919\n",
      "Epoch 11/30\n",
      "552/552 [==============================] - 7s 13ms/step - loss: 0.0026 - accuracy: 0.9866 - val_loss: 0.0022 - val_accuracy: 0.9919\n",
      "Epoch 12/30\n",
      "552/552 [==============================] - 9s 16ms/step - loss: 0.0024 - accuracy: 0.9875 - val_loss: 0.0030 - val_accuracy: 0.9919\n",
      "Epoch 13/30\n",
      "552/552 [==============================] - 10s 17ms/step - loss: 0.0022 - accuracy: 0.9887 - val_loss: 0.0014 - val_accuracy: 0.9939\n",
      "Epoch 14/30\n",
      "552/552 [==============================] - 8s 15ms/step - loss: 0.0020 - accuracy: 0.9873 - val_loss: 0.0014 - val_accuracy: 0.9959\n",
      "Epoch 15/30\n",
      "552/552 [==============================] - 7s 13ms/step - loss: 0.0019 - accuracy: 0.9885 - val_loss: 0.0018 - val_accuracy: 0.9939\n",
      "Epoch 16/30\n",
      "552/552 [==============================] - 7s 13ms/step - loss: 0.0017 - accuracy: 0.9912 - val_loss: 0.0016 - val_accuracy: 0.9919\n",
      "Epoch 17/30\n",
      "552/552 [==============================] - 7s 13ms/step - loss: 0.0017 - accuracy: 0.9907 - val_loss: 0.0013 - val_accuracy: 0.9959\n",
      "Epoch 18/30\n",
      "552/552 [==============================] - 7s 13ms/step - loss: 0.0015 - accuracy: 0.9894 - val_loss: 0.0017 - val_accuracy: 0.9919\n",
      "Epoch 19/30\n",
      "552/552 [==============================] - 7s 13ms/step - loss: 0.0014 - accuracy: 0.9903 - val_loss: 0.0018 - val_accuracy: 0.9939\n",
      "Epoch 20/30\n",
      "552/552 [==============================] - 7s 12ms/step - loss: 0.0013 - accuracy: 0.9916 - val_loss: 0.0011 - val_accuracy: 0.9939\n",
      "Epoch 21/30\n",
      "552/552 [==============================] - 7s 13ms/step - loss: 0.0013 - accuracy: 0.9921 - val_loss: 0.0019 - val_accuracy: 0.9857\n",
      "Epoch 22/30\n",
      "552/552 [==============================] - 7s 13ms/step - loss: 0.0012 - accuracy: 0.9928 - val_loss: 0.0013 - val_accuracy: 0.9980\n",
      "Epoch 23/30\n",
      "552/552 [==============================] - 8s 14ms/step - loss: 0.0012 - accuracy: 0.9921 - val_loss: 0.0013 - val_accuracy: 0.9919\n",
      "Epoch 24/30\n",
      "552/552 [==============================] - 7s 13ms/step - loss: 0.0011 - accuracy: 0.9930 - val_loss: 0.0015 - val_accuracy: 0.9919\n",
      "Epoch 25/30\n",
      "552/552 [==============================] - 7s 13ms/step - loss: 0.0011 - accuracy: 0.9923 - val_loss: 0.0014 - val_accuracy: 0.9939\n",
      "Epoch 26/30\n",
      "552/552 [==============================] - 7s 14ms/step - loss: 0.0010 - accuracy: 0.9932 - val_loss: 9.8954e-04 - val_accuracy: 0.9980\n",
      "Epoch 27/30\n",
      "552/552 [==============================] - 7s 13ms/step - loss: 0.0010 - accuracy: 0.9937 - val_loss: 0.0015 - val_accuracy: 0.9919\n",
      "Epoch 28/30\n",
      "552/552 [==============================] - 7s 14ms/step - loss: 0.0010 - accuracy: 0.9903 - val_loss: 0.0013 - val_accuracy: 0.9857\n",
      "Epoch 29/30\n",
      "552/552 [==============================] - 7s 13ms/step - loss: 9.7442e-04 - accuracy: 0.9932 - val_loss: 0.0014 - val_accuracy: 0.9980\n",
      "Epoch 30/30\n",
      "552/552 [==============================] - 7s 12ms/step - loss: 9.1275e-04 - accuracy: 0.9932 - val_loss: 0.0011 - val_accuracy: 0.9857\n"
     ]
    }
   ],
   "source": [
    "Batch_Size = 8\n",
    "Epoch_Anz = 30\n",
    "Shift_Range = 0\n",
    "Brightness_Range = 0.3\n",
    "\n",
    "datagen = ImageDataGenerator(width_shift_range=[-Shift_Range,Shift_Range], height_shift_range=[-Shift_Range,Shift_Range],brightness_range=[1-Brightness_Range,1+Brightness_Range])\n",
    "\n",
    "train_iterator = datagen.flow(X_train, y_train, batch_size=Batch_Size)\n",
    "validation_iterator = datagen.flow(X_test, y_test, batch_size=Batch_Size)\n",
    "\n",
    "history = model.fit_generator(train_iterator, validation_data = validation_iterator, epochs = Epoch_Anz)"
   ]
  },
  {
   "cell_type": "markdown",
   "metadata": {},
   "source": [
    "### Step 1: Learing result\n",
    " \n",
    "* Visualization of the training and validation results"
   ]
  },
  {
   "cell_type": "code",
   "execution_count": 5,
   "metadata": {},
   "outputs": [
    {
     "data": {
      "image/png": "[encoded data removed]",
      "text/plain": [
       "<Figure size 432x288 with 1 Axes>"
      ]
     },
     "metadata": {
      "needs_background": "light"
     },
     "output_type": "display_data"
    }
   ],
   "source": [
    "loss_ges = np.append(loss_ges, history.history['loss'])\n",
    "val_loss_ges = np.append(val_loss_ges, history.history['val_loss'])\n",
    "\n",
    "plt.semilogy(history.history['loss'])\n",
    "plt.semilogy(history.history['val_loss'])\n",
    "plt.title('model loss')\n",
    "plt.ylabel('loss')\n",
    "plt.xlabel('epoch')\n",
    "plt.legend(['train','eval'], loc='upper left')\n",
    "plt.show()"
   ]
  },
  {
   "cell_type": "markdown",
   "metadata": {},
   "source": [
    "### Step 2: Brigthness and Pixel Shift scattering\n",
    "Here a higher number of epochs is used to reach the minimum loss function"
   ]
  },
  {
   "cell_type": "code",
   "execution_count": 6,
   "metadata": {},
   "outputs": [
    {
     "name": "stdout",
     "output_type": "stream",
     "text": [
      "Epoch 1/160\n",
      "552/552 [==============================] - 8s 14ms/step - loss: 0.0420 - accuracy: 0.9438 - val_loss: 0.0146 - val_accuracy: 0.9715\n",
      "Epoch 2/160\n",
      "552/552 [==============================] - 8s 14ms/step - loss: 0.0097 - accuracy: 0.9710 - val_loss: 0.0084 - val_accuracy: 0.9633\n",
      "Epoch 3/160\n",
      "552/552 [==============================] - 8s 14ms/step - loss: 0.0071 - accuracy: 0.9740 - val_loss: 0.0054 - val_accuracy: 0.9654\n",
      "Epoch 4/160\n",
      "552/552 [==============================] - 8s 14ms/step - loss: 0.0053 - accuracy: 0.9760 - val_loss: 0.0063 - val_accuracy: 0.9593\n",
      "Epoch 5/160\n",
      "552/552 [==============================] - 8s 15ms/step - loss: 0.0041 - accuracy: 0.9794 - val_loss: 0.0044 - val_accuracy: 0.9715\n",
      "Epoch 6/160\n",
      "552/552 [==============================] - 8s 14ms/step - loss: 0.0037 - accuracy: 0.9808 - val_loss: 0.0028 - val_accuracy: 0.9878\n",
      "Epoch 7/160\n",
      "552/552 [==============================] - 8s 15ms/step - loss: 0.0033 - accuracy: 0.9792 - val_loss: 0.0035 - val_accuracy: 0.9898\n",
      "Epoch 8/160\n",
      "552/552 [==============================] - 8s 14ms/step - loss: 0.0030 - accuracy: 0.9880 - val_loss: 0.0028 - val_accuracy: 0.9837\n",
      "Epoch 9/160\n",
      "552/552 [==============================] - 8s 14ms/step - loss: 0.0030 - accuracy: 0.9826 - val_loss: 0.0029 - val_accuracy: 0.9898\n",
      "Epoch 10/160\n",
      "552/552 [==============================] - 8s 14ms/step - loss: 0.0028 - accuracy: 0.9855 - val_loss: 0.0037 - val_accuracy: 0.9898\n",
      "Epoch 11/160\n",
      "552/552 [==============================] - 8s 14ms/step - loss: 0.0025 - accuracy: 0.9835 - val_loss: 0.0037 - val_accuracy: 0.9898\n",
      "Epoch 12/160\n",
      "552/552 [==============================] - 8s 14ms/step - loss: 0.0024 - accuracy: 0.9848 - val_loss: 0.0018 - val_accuracy: 0.9898\n",
      "Epoch 13/160\n",
      "552/552 [==============================] - 8s 14ms/step - loss: 0.0023 - accuracy: 0.9882 - val_loss: 0.0043 - val_accuracy: 0.9735\n",
      "Epoch 14/160\n",
      "552/552 [==============================] - 8s 14ms/step - loss: 0.0022 - accuracy: 0.9864 - val_loss: 0.0022 - val_accuracy: 0.9857\n",
      "Epoch 15/160\n",
      "552/552 [==============================] - 8s 15ms/step - loss: 0.0022 - accuracy: 0.9882 - val_loss: 0.0029 - val_accuracy: 0.9919\n",
      "Epoch 16/160\n",
      "552/552 [==============================] - 9s 16ms/step - loss: 0.0020 - accuracy: 0.9866 - val_loss: 0.0023 - val_accuracy: 0.9817\n",
      "Epoch 17/160\n",
      "552/552 [==============================] - 8s 15ms/step - loss: 0.0020 - accuracy: 0.9880 - val_loss: 0.0019 - val_accuracy: 0.9878\n",
      "Epoch 18/160\n",
      "552/552 [==============================] - 9s 16ms/step - loss: 0.0019 - accuracy: 0.9887 - val_loss: 0.0041 - val_accuracy: 0.9817\n",
      "Epoch 19/160\n",
      "552/552 [==============================] - 8s 15ms/step - loss: 0.0018 - accuracy: 0.9885 - val_loss: 0.0022 - val_accuracy: 0.9898\n",
      "Epoch 20/160\n",
      "552/552 [==============================] - 8s 15ms/step - loss: 0.0018 - accuracy: 0.9869 - val_loss: 0.0024 - val_accuracy: 0.9857\n",
      "Epoch 21/160\n",
      "552/552 [==============================] - 8s 15ms/step - loss: 0.0017 - accuracy: 0.9862 - val_loss: 0.0021 - val_accuracy: 0.9878\n",
      "Epoch 22/160\n",
      "552/552 [==============================] - 8s 15ms/step - loss: 0.0017 - accuracy: 0.9873 - val_loss: 0.0018 - val_accuracy: 0.9878\n",
      "Epoch 23/160\n",
      "552/552 [==============================] - 8s 15ms/step - loss: 0.0016 - accuracy: 0.9898 - val_loss: 0.0019 - val_accuracy: 0.9919\n",
      "Epoch 24/160\n",
      "552/552 [==============================] - 8s 15ms/step - loss: 0.0016 - accuracy: 0.9900 - val_loss: 0.0039 - val_accuracy: 0.9898\n",
      "Epoch 25/160\n",
      "552/552 [==============================] - 8s 15ms/step - loss: 0.0016 - accuracy: 0.9898 - val_loss: 0.0018 - val_accuracy: 0.9939\n",
      "Epoch 26/160\n",
      "552/552 [==============================] - 8s 14ms/step - loss: 0.0015 - accuracy: 0.9889 - val_loss: 0.0025 - val_accuracy: 0.9878\n",
      "Epoch 27/160\n",
      "552/552 [==============================] - 8s 14ms/step - loss: 0.0015 - accuracy: 0.9905 - val_loss: 0.0013 - val_accuracy: 0.9939\n",
      "Epoch 28/160\n",
      "552/552 [==============================] - 8s 14ms/step - loss: 0.0014 - accuracy: 0.9909 - val_loss: 0.0015 - val_accuracy: 0.9898\n",
      "Epoch 29/160\n",
      "552/552 [==============================] - 8s 15ms/step - loss: 0.0014 - accuracy: 0.9900 - val_loss: 0.0013 - val_accuracy: 0.9959\n",
      "Epoch 30/160\n",
      "552/552 [==============================] - 8s 15ms/step - loss: 0.0014 - accuracy: 0.9907 - val_loss: 0.0015 - val_accuracy: 0.9939\n",
      "Epoch 31/160\n",
      "552/552 [==============================] - 8s 15ms/step - loss: 0.0014 - accuracy: 0.9905 - val_loss: 0.0014 - val_accuracy: 0.9939\n",
      "Epoch 32/160\n",
      "552/552 [==============================] - 8s 15ms/step - loss: 0.0013 - accuracy: 0.9921 - val_loss: 0.0013 - val_accuracy: 0.9939\n",
      "Epoch 33/160\n",
      "552/552 [==============================] - 8s 14ms/step - loss: 0.0013 - accuracy: 0.9905 - val_loss: 0.0014 - val_accuracy: 0.9939\n",
      "Epoch 34/160\n",
      "552/552 [==============================] - 8s 14ms/step - loss: 0.0013 - accuracy: 0.9907 - val_loss: 0.0021 - val_accuracy: 0.9919\n",
      "Epoch 35/160\n",
      "552/552 [==============================] - 8s 14ms/step - loss: 0.0013 - accuracy: 0.9907 - val_loss: 0.0013 - val_accuracy: 0.9939\n",
      "Epoch 36/160\n",
      "552/552 [==============================] - 8s 15ms/step - loss: 0.0012 - accuracy: 0.9900 - val_loss: 0.0014 - val_accuracy: 0.9980\n",
      "Epoch 37/160\n",
      "552/552 [==============================] - 8s 15ms/step - loss: 0.0012 - accuracy: 0.9896 - val_loss: 0.0020 - val_accuracy: 0.9898\n",
      "Epoch 38/160\n",
      "552/552 [==============================] - 8s 15ms/step - loss: 0.0012 - accuracy: 0.9921 - val_loss: 0.0020 - val_accuracy: 0.9878\n",
      "Epoch 39/160\n",
      "552/552 [==============================] - 9s 16ms/step - loss: 0.0012 - accuracy: 0.9909 - val_loss: 0.0014 - val_accuracy: 0.9959\n",
      "Epoch 40/160\n",
      "552/552 [==============================] - 9s 15ms/step - loss: 0.0012 - accuracy: 0.9903 - val_loss: 0.0012 - val_accuracy: 0.9939\n",
      "Epoch 41/160\n",
      "552/552 [==============================] - 8s 15ms/step - loss: 0.0012 - accuracy: 0.9918 - val_loss: 0.0011 - val_accuracy: 0.9959\n",
      "Epoch 42/160\n",
      "552/552 [==============================] - 8s 15ms/step - loss: 0.0012 - accuracy: 0.9912 - val_loss: 0.0012 - val_accuracy: 0.9939\n",
      "Epoch 43/160\n",
      "552/552 [==============================] - 8s 15ms/step - loss: 0.0011 - accuracy: 0.9907 - val_loss: 0.0012 - val_accuracy: 0.9919\n",
      "Epoch 44/160\n",
      "552/552 [==============================] - 8s 15ms/step - loss: 0.0011 - accuracy: 0.9912 - val_loss: 0.0011 - val_accuracy: 0.9898\n",
      "Epoch 45/160\n",
      "552/552 [==============================] - 8s 15ms/step - loss: 0.0010 - accuracy: 0.9914 - val_loss: 0.0012 - val_accuracy: 0.9980\n",
      "Epoch 46/160\n",
      "552/552 [==============================] - 8s 15ms/step - loss: 0.0011 - accuracy: 0.9914 - val_loss: 0.0010 - val_accuracy: 0.9980\n",
      "Epoch 47/160\n",
      "552/552 [==============================] - 8s 15ms/step - loss: 0.0011 - accuracy: 0.9918 - val_loss: 0.0014 - val_accuracy: 0.9980\n",
      "Epoch 48/160\n",
      "552/552 [==============================] - 9s 16ms/step - loss: 0.0011 - accuracy: 0.9907 - val_loss: 0.0014 - val_accuracy: 0.9939\n",
      "Epoch 49/160\n",
      "552/552 [==============================] - 8s 15ms/step - loss: 0.0011 - accuracy: 0.9925 - val_loss: 9.6479e-04 - val_accuracy: 0.9939\n",
      "Epoch 50/160\n",
      "552/552 [==============================] - 8s 15ms/step - loss: 0.0010 - accuracy: 0.9932 - val_loss: 0.0012 - val_accuracy: 0.9959\n",
      "Epoch 51/160\n",
      "552/552 [==============================] - 9s 16ms/step - loss: 0.0010 - accuracy: 0.9925 - val_loss: 0.0011 - val_accuracy: 0.9919\n",
      "Epoch 52/160\n",
      "552/552 [==============================] - 8s 15ms/step - loss: 0.0010 - accuracy: 0.9923 - val_loss: 0.0014 - val_accuracy: 0.9939\n",
      "Epoch 53/160\n",
      "552/552 [==============================] - 9s 15ms/step - loss: 0.0010 - accuracy: 0.9921 - val_loss: 0.0011 - val_accuracy: 0.9980\n",
      "Epoch 54/160\n",
      "552/552 [==============================] - 8s 15ms/step - loss: 9.7400e-04 - accuracy: 0.9925 - val_loss: 0.0012 - val_accuracy: 0.9980\n",
      "Epoch 55/160\n",
      "552/552 [==============================] - 8s 15ms/step - loss: 0.0010 - accuracy: 0.9923 - val_loss: 0.0010 - val_accuracy: 0.9878\n",
      "Epoch 56/160\n",
      "552/552 [==============================] - 8s 14ms/step - loss: 9.7886e-04 - accuracy: 0.9914 - val_loss: 0.0012 - val_accuracy: 0.9939\n",
      "Epoch 57/160\n"
     ]
    },
    {
     "name": "stdout",
     "output_type": "stream",
     "text": [
      "552/552 [==============================] - 8s 15ms/step - loss: 9.8564e-04 - accuracy: 0.9930 - val_loss: 0.0013 - val_accuracy: 0.9939\n",
      "Epoch 58/160\n",
      "552/552 [==============================] - 8s 15ms/step - loss: 9.3012e-04 - accuracy: 0.9916 - val_loss: 0.0013 - val_accuracy: 0.9939\n",
      "Epoch 59/160\n",
      "552/552 [==============================] - 8s 15ms/step - loss: 9.4594e-04 - accuracy: 0.9943 - val_loss: 0.0011 - val_accuracy: 0.9919\n",
      "Epoch 60/160\n",
      "552/552 [==============================] - 8s 15ms/step - loss: 9.6067e-04 - accuracy: 0.9937 - val_loss: 0.0013 - val_accuracy: 0.9959\n",
      "Epoch 61/160\n",
      "552/552 [==============================] - 8s 15ms/step - loss: 9.2925e-04 - accuracy: 0.9937 - val_loss: 0.0011 - val_accuracy: 0.9980\n",
      "Epoch 62/160\n",
      "552/552 [==============================] - 9s 16ms/step - loss: 8.9914e-04 - accuracy: 0.9937 - val_loss: 0.0011 - val_accuracy: 0.9919\n",
      "Epoch 63/160\n",
      "552/552 [==============================] - 8s 15ms/step - loss: 9.0119e-04 - accuracy: 0.9925 - val_loss: 0.0011 - val_accuracy: 0.9898\n",
      "Epoch 64/160\n",
      "552/552 [==============================] - 9s 16ms/step - loss: 9.0339e-04 - accuracy: 0.9932 - val_loss: 0.0014 - val_accuracy: 0.9939\n",
      "Epoch 65/160\n",
      "552/552 [==============================] - 8s 15ms/step - loss: 9.3019e-04 - accuracy: 0.9943 - val_loss: 0.0012 - val_accuracy: 0.9939\n",
      "Epoch 66/160\n",
      "552/552 [==============================] - 9s 16ms/step - loss: 9.0567e-04 - accuracy: 0.9934 - val_loss: 0.0012 - val_accuracy: 0.9898\n",
      "Epoch 67/160\n",
      "552/552 [==============================] - 9s 17ms/step - loss: 8.5048e-04 - accuracy: 0.9925 - val_loss: 0.0010 - val_accuracy: 0.9939\n",
      "Epoch 68/160\n",
      "552/552 [==============================] - 8s 15ms/step - loss: 8.6205e-04 - accuracy: 0.9939 - val_loss: 0.0011 - val_accuracy: 0.9980\n",
      "Epoch 69/160\n",
      "552/552 [==============================] - 9s 15ms/step - loss: 8.7938e-04 - accuracy: 0.9946 - val_loss: 9.6487e-04 - val_accuracy: 0.9919\n",
      "Epoch 70/160\n",
      "552/552 [==============================] - 8s 14ms/step - loss: 8.8856e-04 - accuracy: 0.9939 - val_loss: 0.0011 - val_accuracy: 0.9959\n",
      "Epoch 71/160\n",
      "552/552 [==============================] - 8s 14ms/step - loss: 8.7267e-04 - accuracy: 0.9928 - val_loss: 0.0011 - val_accuracy: 0.9939\n",
      "Epoch 72/160\n",
      "552/552 [==============================] - 9s 16ms/step - loss: 9.0052e-04 - accuracy: 0.9921 - val_loss: 0.0012 - val_accuracy: 0.9959\n",
      "Epoch 73/160\n",
      "552/552 [==============================] - 10s 18ms/step - loss: 8.6230e-04 - accuracy: 0.9939 - val_loss: 0.0010 - val_accuracy: 0.9919\n",
      "Epoch 74/160\n",
      "552/552 [==============================] - 9s 16ms/step - loss: 8.5979e-04 - accuracy: 0.9932 - val_loss: 0.0012 - val_accuracy: 0.9919\n",
      "Epoch 75/160\n",
      "552/552 [==============================] - 8s 15ms/step - loss: 8.2169e-04 - accuracy: 0.9934 - val_loss: 0.0012 - val_accuracy: 0.9980\n",
      "Epoch 76/160\n",
      "552/552 [==============================] - 8s 15ms/step - loss: 8.5161e-04 - accuracy: 0.9925 - val_loss: 0.0011 - val_accuracy: 0.9939\n",
      "Epoch 77/160\n",
      "552/552 [==============================] - 8s 15ms/step - loss: 8.1777e-04 - accuracy: 0.9939 - val_loss: 0.0013 - val_accuracy: 0.9980\n",
      "Epoch 78/160\n",
      "552/552 [==============================] - 8s 15ms/step - loss: 8.0022e-04 - accuracy: 0.9948 - val_loss: 8.8675e-04 - val_accuracy: 0.9939\n",
      "Epoch 79/160\n",
      "552/552 [==============================] - 8s 15ms/step - loss: 8.0420e-04 - accuracy: 0.9930 - val_loss: 0.0011 - val_accuracy: 0.9939\n",
      "Epoch 80/160\n",
      "552/552 [==============================] - 8s 15ms/step - loss: 8.3479e-04 - accuracy: 0.9928 - val_loss: 8.9455e-04 - val_accuracy: 0.9980\n",
      "Epoch 81/160\n",
      "552/552 [==============================] - 8s 15ms/step - loss: 8.0760e-04 - accuracy: 0.9943 - val_loss: 0.0011 - val_accuracy: 0.9939\n",
      "Epoch 82/160\n",
      "552/552 [==============================] - 8s 15ms/step - loss: 8.1166e-04 - accuracy: 0.9946 - val_loss: 9.1669e-04 - val_accuracy: 0.9959\n",
      "Epoch 83/160\n",
      "552/552 [==============================] - 8s 15ms/step - loss: 8.2649e-04 - accuracy: 0.9932 - val_loss: 9.2010e-04 - val_accuracy: 0.9939\n",
      "Epoch 84/160\n",
      "552/552 [==============================] - 8s 15ms/step - loss: 8.3087e-04 - accuracy: 0.9928 - val_loss: 0.0012 - val_accuracy: 0.9939\n",
      "Epoch 85/160\n",
      "552/552 [==============================] - 8s 15ms/step - loss: 7.9178e-04 - accuracy: 0.9937 - val_loss: 9.8430e-04 - val_accuracy: 0.9878\n",
      "Epoch 86/160\n",
      "552/552 [==============================] - 8s 15ms/step - loss: 8.1317e-04 - accuracy: 0.9939 - val_loss: 0.0013 - val_accuracy: 0.9980\n",
      "Epoch 87/160\n",
      "552/552 [==============================] - 9s 16ms/step - loss: 7.9599e-04 - accuracy: 0.9925 - val_loss: 0.0012 - val_accuracy: 0.9919\n",
      "Epoch 88/160\n",
      "552/552 [==============================] - 8s 15ms/step - loss: 7.6546e-04 - accuracy: 0.9934 - val_loss: 0.0011 - val_accuracy: 0.9959\n",
      "Epoch 89/160\n",
      "552/552 [==============================] - 8s 15ms/step - loss: 7.8227e-04 - accuracy: 0.9946 - val_loss: 0.0010 - val_accuracy: 0.9939\n",
      "Epoch 90/160\n",
      "552/552 [==============================] - 8s 14ms/step - loss: 8.1802e-04 - accuracy: 0.9952 - val_loss: 9.1709e-04 - val_accuracy: 0.9919\n",
      "Epoch 91/160\n",
      "552/552 [==============================] - 8s 15ms/step - loss: 7.8302e-04 - accuracy: 0.9921 - val_loss: 0.0010 - val_accuracy: 0.9919\n",
      "Epoch 92/160\n",
      "552/552 [==============================] - 8s 14ms/step - loss: 7.6913e-04 - accuracy: 0.9934 - val_loss: 0.0011 - val_accuracy: 0.9959\n",
      "Epoch 93/160\n",
      "552/552 [==============================] - 8s 15ms/step - loss: 7.7013e-04 - accuracy: 0.9946 - val_loss: 9.1590e-04 - val_accuracy: 0.9980\n",
      "Epoch 94/160\n",
      "552/552 [==============================] - 8s 15ms/step - loss: 7.5585e-04 - accuracy: 0.9937 - val_loss: 9.8093e-04 - val_accuracy: 0.9959\n",
      "Epoch 95/160\n",
      "552/552 [==============================] - 8s 15ms/step - loss: 7.8757e-04 - accuracy: 0.9943 - val_loss: 9.2354e-04 - val_accuracy: 1.0000\n",
      "Epoch 96/160\n",
      "552/552 [==============================] - 9s 16ms/step - loss: 7.7436e-04 - accuracy: 0.9943 - val_loss: 0.0011 - val_accuracy: 0.9959\n",
      "Epoch 97/160\n",
      "552/552 [==============================] - 8s 15ms/step - loss: 7.5404e-04 - accuracy: 0.9939 - val_loss: 0.0011 - val_accuracy: 0.9959\n",
      "Epoch 98/160\n",
      "552/552 [==============================] - 8s 15ms/step - loss: 7.2309e-04 - accuracy: 0.9937 - val_loss: 8.4227e-04 - val_accuracy: 0.9959\n",
      "Epoch 99/160\n",
      "552/552 [==============================] - 8s 15ms/step - loss: 7.8107e-04 - accuracy: 0.9916 - val_loss: 9.6907e-04 - val_accuracy: 0.9980\n",
      "Epoch 100/160\n",
      "552/552 [==============================] - 8s 15ms/step - loss: 7.4083e-04 - accuracy: 0.9934 - val_loss: 9.3139e-04 - val_accuracy: 0.9898\n",
      "Epoch 101/160\n",
      "552/552 [==============================] - 8s 14ms/step - loss: 7.1748e-04 - accuracy: 0.9943 - val_loss: 9.4457e-04 - val_accuracy: 0.9959\n",
      "Epoch 102/160\n",
      "552/552 [==============================] - 8s 15ms/step - loss: 7.3187e-04 - accuracy: 0.9934 - val_loss: 0.0012 - val_accuracy: 0.9959\n",
      "Epoch 103/160\n",
      "552/552 [==============================] - 8s 15ms/step - loss: 7.1244e-04 - accuracy: 0.9946 - val_loss: 9.2592e-04 - val_accuracy: 0.9980\n",
      "Epoch 104/160\n",
      "552/552 [==============================] - 8s 15ms/step - loss: 7.4284e-04 - accuracy: 0.9939 - val_loss: 8.0504e-04 - val_accuracy: 0.9959\n",
      "Epoch 105/160\n",
      "552/552 [==============================] - 8s 15ms/step - loss: 7.4650e-04 - accuracy: 0.9937 - val_loss: 9.6029e-04 - val_accuracy: 0.9919\n",
      "Epoch 106/160\n",
      "552/552 [==============================] - 8s 15ms/step - loss: 7.5789e-04 - accuracy: 0.9925 - val_loss: 9.3075e-04 - val_accuracy: 0.9959\n",
      "Epoch 107/160\n",
      "552/552 [==============================] - 8s 15ms/step - loss: 6.8921e-04 - accuracy: 0.9939 - val_loss: 9.8708e-04 - val_accuracy: 0.9939\n",
      "Epoch 108/160\n",
      "552/552 [==============================] - 8s 15ms/step - loss: 6.9070e-04 - accuracy: 0.9939 - val_loss: 8.3443e-04 - val_accuracy: 0.9939\n",
      "Epoch 109/160\n",
      "552/552 [==============================] - 8s 15ms/step - loss: 7.0458e-04 - accuracy: 0.9950 - val_loss: 9.1426e-04 - val_accuracy: 0.9939\n",
      "Epoch 110/160\n",
      "552/552 [==============================] - 8s 15ms/step - loss: 7.0907e-04 - accuracy: 0.9939 - val_loss: 8.3246e-04 - val_accuracy: 0.9919\n",
      "Epoch 111/160\n"
     ]
    },
    {
     "name": "stdout",
     "output_type": "stream",
     "text": [
      "552/552 [==============================] - 8s 15ms/step - loss: 7.1771e-04 - accuracy: 0.9966 - val_loss: 9.6086e-04 - val_accuracy: 0.9939\n",
      "Epoch 112/160\n",
      "552/552 [==============================] - 8s 15ms/step - loss: 7.1413e-04 - accuracy: 0.9943 - val_loss: 8.7206e-04 - val_accuracy: 0.9939\n",
      "Epoch 113/160\n",
      "552/552 [==============================] - 8s 15ms/step - loss: 6.8992e-04 - accuracy: 0.9939 - val_loss: 9.6597e-04 - val_accuracy: 0.9959\n",
      "Epoch 114/160\n",
      "552/552 [==============================] - 8s 15ms/step - loss: 6.9496e-04 - accuracy: 0.9948 - val_loss: 9.5082e-04 - val_accuracy: 0.9939\n",
      "Epoch 115/160\n",
      "552/552 [==============================] - 8s 15ms/step - loss: 6.8768e-04 - accuracy: 0.9921 - val_loss: 0.0010 - val_accuracy: 0.9939\n",
      "Epoch 116/160\n",
      "552/552 [==============================] - 8s 15ms/step - loss: 7.0957e-04 - accuracy: 0.9939 - val_loss: 8.5299e-04 - val_accuracy: 0.9980\n",
      "Epoch 117/160\n",
      "552/552 [==============================] - 8s 15ms/step - loss: 6.8933e-04 - accuracy: 0.9948 - val_loss: 8.7899e-04 - val_accuracy: 0.9939\n",
      "Epoch 118/160\n",
      "552/552 [==============================] - 9s 15ms/step - loss: 7.1019e-04 - accuracy: 0.9934 - val_loss: 9.7063e-04 - val_accuracy: 0.9919\n",
      "Epoch 119/160\n",
      "552/552 [==============================] - 9s 16ms/step - loss: 6.9597e-04 - accuracy: 0.9937 - val_loss: 9.7576e-04 - val_accuracy: 0.9939\n",
      "Epoch 120/160\n",
      "552/552 [==============================] - 8s 15ms/step - loss: 6.9377e-04 - accuracy: 0.9943 - val_loss: 9.7407e-04 - val_accuracy: 0.9980\n",
      "Epoch 121/160\n",
      "552/552 [==============================] - 8s 15ms/step - loss: 6.9940e-04 - accuracy: 0.9932 - val_loss: 8.6642e-04 - val_accuracy: 1.0000\n",
      "Epoch 122/160\n",
      "552/552 [==============================] - 8s 15ms/step - loss: 7.0142e-04 - accuracy: 0.9962 - val_loss: 0.0010 - val_accuracy: 0.9959\n",
      "Epoch 123/160\n",
      "552/552 [==============================] - 8s 15ms/step - loss: 6.8354e-04 - accuracy: 0.9941 - val_loss: 0.0015 - val_accuracy: 0.9898\n",
      "Epoch 124/160\n",
      "552/552 [==============================] - 9s 16ms/step - loss: 6.8484e-04 - accuracy: 0.9955 - val_loss: 9.1288e-04 - val_accuracy: 0.9939\n",
      "Epoch 125/160\n",
      "552/552 [==============================] - 8s 15ms/step - loss: 6.6112e-04 - accuracy: 0.9946 - val_loss: 0.0010 - val_accuracy: 0.9898\n",
      "Epoch 126/160\n",
      "552/552 [==============================] - 8s 15ms/step - loss: 6.8362e-04 - accuracy: 0.9941 - val_loss: 0.0011 - val_accuracy: 0.9919\n",
      "Epoch 127/160\n",
      "552/552 [==============================] - 8s 15ms/step - loss: 6.8699e-04 - accuracy: 0.9957 - val_loss: 8.8462e-04 - val_accuracy: 0.9919\n",
      "Epoch 128/160\n",
      "552/552 [==============================] - 9s 16ms/step - loss: 6.8195e-04 - accuracy: 0.9937 - val_loss: 9.7091e-04 - val_accuracy: 0.9939\n",
      "Epoch 129/160\n",
      "552/552 [==============================] - 8s 15ms/step - loss: 6.9112e-04 - accuracy: 0.9939 - val_loss: 0.0010 - val_accuracy: 0.9919\n",
      "Epoch 130/160\n",
      "552/552 [==============================] - 9s 16ms/step - loss: 6.7554e-04 - accuracy: 0.9941 - val_loss: 9.7484e-04 - val_accuracy: 0.9939\n",
      "Epoch 131/160\n",
      "552/552 [==============================] - 8s 15ms/step - loss: 6.5906e-04 - accuracy: 0.9952 - val_loss: 8.6680e-04 - val_accuracy: 0.9919\n",
      "Epoch 132/160\n",
      "552/552 [==============================] - 8s 15ms/step - loss: 6.8877e-04 - accuracy: 0.9950 - val_loss: 9.2971e-04 - val_accuracy: 0.9939\n",
      "Epoch 133/160\n",
      "552/552 [==============================] - 8s 15ms/step - loss: 6.7134e-04 - accuracy: 0.9930 - val_loss: 9.9154e-04 - val_accuracy: 0.9980\n",
      "Epoch 134/160\n",
      "552/552 [==============================] - 8s 15ms/step - loss: 6.6135e-04 - accuracy: 0.9934 - val_loss: 9.4482e-04 - val_accuracy: 0.9959\n",
      "Epoch 135/160\n",
      "552/552 [==============================] - 8s 15ms/step - loss: 6.2988e-04 - accuracy: 0.9952 - val_loss: 8.3747e-04 - val_accuracy: 0.9980\n",
      "Epoch 136/160\n",
      "552/552 [==============================] - 8s 15ms/step - loss: 6.4626e-04 - accuracy: 0.9939 - val_loss: 8.5760e-04 - val_accuracy: 0.9959\n",
      "Epoch 137/160\n",
      "552/552 [==============================] - 9s 15ms/step - loss: 6.4819e-04 - accuracy: 0.9930 - val_loss: 9.8490e-04 - val_accuracy: 0.9939\n",
      "Epoch 138/160\n",
      "552/552 [==============================] - 9s 16ms/step - loss: 6.5197e-04 - accuracy: 0.9941 - val_loss: 0.0010 - val_accuracy: 0.9959\n",
      "Epoch 139/160\n",
      "552/552 [==============================] - 9s 16ms/step - loss: 6.2821e-04 - accuracy: 0.9941 - val_loss: 0.0011 - val_accuracy: 0.9959\n",
      "Epoch 140/160\n",
      "552/552 [==============================] - 9s 16ms/step - loss: 6.4164e-04 - accuracy: 0.9946 - val_loss: 9.5415e-04 - val_accuracy: 0.9919\n",
      "Epoch 141/160\n",
      "552/552 [==============================] - 8s 15ms/step - loss: 6.2758e-04 - accuracy: 0.9948 - val_loss: 9.6501e-04 - val_accuracy: 0.9959\n",
      "Epoch 142/160\n",
      "552/552 [==============================] - 8s 15ms/step - loss: 6.5491e-04 - accuracy: 0.9943 - val_loss: 9.9600e-04 - val_accuracy: 0.9919\n",
      "Epoch 143/160\n",
      "552/552 [==============================] - 8s 15ms/step - loss: 6.3602e-04 - accuracy: 0.9943 - val_loss: 9.8576e-04 - val_accuracy: 0.9919\n",
      "Epoch 144/160\n",
      "552/552 [==============================] - 9s 16ms/step - loss: 6.3186e-04 - accuracy: 0.9934 - val_loss: 9.9068e-04 - val_accuracy: 0.9959\n",
      "Epoch 145/160\n",
      "552/552 [==============================] - 8s 15ms/step - loss: 6.2524e-04 - accuracy: 0.9939 - val_loss: 8.9328e-04 - val_accuracy: 0.9939\n",
      "Epoch 146/160\n",
      "552/552 [==============================] - 9s 15ms/step - loss: 6.2909e-04 - accuracy: 0.9957 - val_loss: 0.0010 - val_accuracy: 0.9959\n",
      "Epoch 147/160\n",
      "552/552 [==============================] - 8s 15ms/step - loss: 6.4780e-04 - accuracy: 0.9943 - val_loss: 9.0833e-04 - val_accuracy: 0.9939\n",
      "Epoch 148/160\n",
      "552/552 [==============================] - 9s 15ms/step - loss: 5.9729e-04 - accuracy: 0.9952 - val_loss: 8.5416e-04 - val_accuracy: 0.9939\n",
      "Epoch 149/160\n",
      "552/552 [==============================] - 8s 15ms/step - loss: 6.3902e-04 - accuracy: 0.9955 - val_loss: 7.7422e-04 - val_accuracy: 0.9959\n",
      "Epoch 150/160\n",
      "552/552 [==============================] - 8s 15ms/step - loss: 6.3038e-04 - accuracy: 0.9943 - val_loss: 9.8592e-04 - val_accuracy: 0.9939\n",
      "Epoch 151/160\n",
      "552/552 [==============================] - 8s 15ms/step - loss: 6.2206e-04 - accuracy: 0.9957 - val_loss: 7.4934e-04 - val_accuracy: 0.9959\n",
      "Epoch 152/160\n",
      "552/552 [==============================] - 9s 15ms/step - loss: 5.9788e-04 - accuracy: 0.9941 - val_loss: 8.7607e-04 - val_accuracy: 0.9959\n",
      "Epoch 153/160\n",
      "552/552 [==============================] - 8s 15ms/step - loss: 6.1186e-04 - accuracy: 0.9941 - val_loss: 8.6403e-04 - val_accuracy: 0.9959\n",
      "Epoch 154/160\n",
      "552/552 [==============================] - 8s 15ms/step - loss: 6.4303e-04 - accuracy: 0.9948 - val_loss: 8.5779e-04 - val_accuracy: 0.9959\n",
      "Epoch 155/160\n",
      "552/552 [==============================] - 9s 16ms/step - loss: 6.1089e-04 - accuracy: 0.9941 - val_loss: 9.3716e-04 - val_accuracy: 0.9959\n",
      "Epoch 156/160\n",
      "552/552 [==============================] - 9s 16ms/step - loss: 6.4370e-04 - accuracy: 0.9934 - val_loss: 8.3254e-04 - val_accuracy: 0.9980\n",
      "Epoch 157/160\n",
      "552/552 [==============================] - 8s 15ms/step - loss: 6.2184e-04 - accuracy: 0.9952 - val_loss: 9.4420e-04 - val_accuracy: 0.9919\n",
      "Epoch 158/160\n",
      "552/552 [==============================] - 8s 15ms/step - loss: 6.1181e-04 - accuracy: 0.9955 - val_loss: 8.2812e-04 - val_accuracy: 0.9959\n",
      "Epoch 159/160\n",
      "552/552 [==============================] - 9s 16ms/step - loss: 6.0378e-04 - accuracy: 0.9941 - val_loss: 0.0010 - val_accuracy: 0.9959\n",
      "Epoch 160/160\n",
      "552/552 [==============================] - 9s 15ms/step - loss: 5.9403e-04 - accuracy: 0.9939 - val_loss: 7.5994e-04 - val_accuracy: 0.9939\n"
     ]
    }
   ],
   "source": [
    "Batch_Size = 8\n",
    "Epoch_Anz = 160\n",
    "Shift_Range = 3\n",
    "Brightness_Range = 0.3\n",
    "\n",
    "datagen = ImageDataGenerator(width_shift_range=[-Shift_Range,Shift_Range], height_shift_range=[-Shift_Range,Shift_Range],brightness_range=[1-Brightness_Range,1+Brightness_Range])\n",
    "\n",
    "train_iterator = datagen.flow(X_train, y_train, batch_size=Batch_Size)\n",
    "validation_iterator = datagen.flow(X_test, y_test, batch_size=Batch_Size)\n",
    "\n",
    "history = model.fit_generator(train_iterator, validation_data = validation_iterator, epochs = Epoch_Anz)"
   ]
  },
  {
   "cell_type": "markdown",
   "metadata": {},
   "source": [
    "### Overall Learing results (Step 1 & Step 2)"
   ]
  },
  {
   "cell_type": "code",
   "execution_count": 7,
   "metadata": {},
   "outputs": [
    {
     "data": {
      "image/png": "[encoded data removed]",
      "text/plain": [
       "<Figure size 432x288 with 1 Axes>"
      ]
     },
     "metadata": {
      "needs_background": "light"
     },
     "output_type": "display_data"
    }
   ],
   "source": [
    "loss_ges = np.append(loss_ges, history.history['loss'])\n",
    "val_loss_ges = np.append(val_loss_ges, history.history['val_loss'])\n",
    "\n",
    "plt.semilogy(loss_ges)\n",
    "plt.semilogy(val_loss_ges)\n",
    "plt.title('model loss')\n",
    "plt.ylabel('loss')\n",
    "plt.xlabel('epoch')\n",
    "plt.legend(['train','eval'], loc='upper left')\n",
    "plt.show()"
   ]
  },
  {
   "cell_type": "markdown",
   "metadata": {},
   "source": [
    "### Check the model by hand\n",
    "\n",
    "* The following code uses the trained model to check the deviation for each picture.\n",
    "* The evaluation takes the periodic character of the results into account (dev1 ... dev2).\n",
    "* Images, that have a bigger deviation as the parameter \"deviation_max_list\" are printed in a list to check the picture and labeling itself"
   ]
  },
  {
   "cell_type": "code",
   "execution_count": 8,
   "metadata": {},
   "outputs": [
    {
     "name": "stdout",
     "output_type": "stream",
     "text": [
      "data_resize_all\\0.0_0006_zeiger1_2020-04-29_10-56-43.jpg 0.0 -0.09686487954910072 0.09686487954910072\n",
      "data_resize_all\\0.0_0009_zeiger1_2020-04-29_13-35-02.jpg 0.0 -0.05660725128960553 0.05660725128960553\n",
      "data_resize_all\\0.0_0025_zeiger3_2020-04-29_12-43-02.jpg 0.0 -0.06337183269809077 0.06337183269809077\n",
      "data_resize_all\\0.8_0272_zeiger1_2020-04-29_12-20-02.jpg 0.08 0.023584346754871303 0.0564156532451287\n",
      "data_resize_all\\0.8_0273_zeiger1_2020-04-29_12-21-02.jpg 0.08 0.028305909489306485 0.05169409051069351\n",
      "data_resize_all\\0.8_0274_zeiger1_2020-04-29_13-40-01.jpg 0.08 0.0213425245156981 0.058657475484301905\n",
      "data_resize_all\\0.8_0275_zeiger1_2020-04-29_13-41-02.jpg 0.08 0.02162634259164675 0.05837365740835325\n",
      "data_resize_all\\0.9_0313_zeiger1_2020-04-29_12-22-01.jpg 0.09 0.02659576767355608 0.06340423232644392\n",
      "data_resize_all\\0.9_0314_zeiger1_2020-04-29_13-42-02.jpg 0.09 0.008681178142764957 0.08131882185723505\n",
      "data_resize_all\\1.0_0391_zeiger1_2020-04-29_11-05-01.jpg 0.1 0.03484224637143367 0.06515775362856634\n",
      "data_resize_all\\1.0_0392_zeiger1_2020-04-29_12-23-02.jpg 0.1 0.011838172804220918 0.08816182719577909\n",
      "data_resize_all\\1.0_0393_zeiger1_2020-04-29_13-43-02.jpg 0.1 -0.0025593563700208044 0.10255935637002081\n",
      "data_resize_all\\1.1_0438_zeiger1_2020-04-29_12-24-02.jpg 0.11000000000000001 0.04980748017733395 0.06019251982266607\n",
      "data_resize_all\\1.7_0730_zeiger1_2020-04-29_12-28-02.jpg 0.16999999999999998 0.22232235391995192 -0.052322353919951936\n",
      "data_resize_all\\1.8_0798_zeiger1_2020-04-29_12-29-02.jpg 0.18 0.24337908719394116 -0.06337908719394117\n",
      "data_resize_all\\1.8_0800_zeiger1_2020-04-29_13-48-02.jpg 0.18 0.2512150976102291 -0.0712150976102291\n",
      "data_resize_all\\1.8_0801_zeiger1_2020-04-29_13-49-02.jpg 0.18 0.24194884558174048 -0.06194884558174049\n",
      "data_resize_all\\1.8_0805_zeiger2_2020-04-29_12-16-02.jpg 0.18 0.232856592622358 -0.052856592622358006\n",
      "data_resize_all\\2.0_0938_zeiger3_2020-04-29_13-37-02.jpg 0.2 0.25562542664829707 -0.05562542664829706\n",
      "data_resize_all\\2.1_0952_zeiger1_2020-04-29_12-32-02.jpg 0.21000000000000002 0.26293215432215206 -0.052932154322152036\n",
      "data_resize_all\\2.7_1324_zeiger3_2020-04-29_12-33-02.jpg 0.27 0.32410966542651626 -0.05410966542651624\n",
      "data_resize_all\\2.9_1378_zeiger1_2020-04-29_11-20-02.jpg 0.29 0.3756084569675138 -0.08560845696751385\n",
      "data_resize_all\\2.9_1379_zeiger1_2020-04-29_12-39-02.jpg 0.29 0.35954168914640666 -0.06954168914640668\n",
      "data_resize_all\\2.9_1380_zeiger1_2020-04-29_13-59-02.jpg 0.29 0.36362413115881864 -0.07362413115881866\n",
      "data_resize_all\\3.0_1403_zeiger1_2020-04-29_12-40-02.jpg 0.3 0.35367379773945795 -0.05367379773945796\n",
      "data_resize_all\\3.1_1532_zeiger1_2020-04-29_14-02-02.jpg 0.31 0.365948444533374 -0.055948444533374\n",
      "data_resize_all\\3.3_1655_zeiger1_2020-04-29_12-43-02.jpg 0.32999999999999996 0.3874383825554713 -0.057438382555471346\n",
      "data_resize_all\\3.3_1656_zeiger1_2020-04-29_14-03-02.jpg 0.32999999999999996 0.38821421615419394 -0.058214216154193976\n",
      "data_resize_all\\3.7_1828_zeiger1_2020-04-29_11-27-02.jpg 0.37 0.4268051644197199 -0.05680516441971989\n",
      "data_resize_all\\3.9_1907_zeiger1_2020-04-29_11-29-02.jpg 0.39 0.4842959291375881 -0.09429592913758811\n",
      "data_resize_all\\3.9_1908_zeiger1_2020-04-29_12-47-02.jpg 0.39 0.4445931778571657 -0.054593177857165665\n",
      "data_resize_all\\4.0_1943_zeiger1_2020-04-29_11-30-02.jpg 0.4 0.4891344730911205 -0.08913447309112049\n",
      "data_resize_all\\4.0_1944_zeiger1_2020-04-29_12-48-02.jpg 0.4 0.5108612390679006 -0.11086123906790057\n",
      "data_resize_all\\4.0_1946_zeiger1_2020-04-29_14-09-02.jpg 0.4 0.48625938085099446 -0.08625938085099444\n",
      "data_resize_all\\4.1_2033_zeiger1_2020-04-29_11-31-02.jpg 0.41 0.4874384612292156 -0.0774384612292156\n",
      "data_resize_all\\4.1_2035_zeiger1_2020-04-29_12-49-02.jpg 0.41 0.48418171319646736 -0.07418171319646738\n",
      "data_resize_all\\4.1_2036_zeiger1_2020-04-29_12-50-02.jpg 0.41 0.46045670960496954 -0.05045670960496956\n",
      "data_resize_all\\4.1_2037_zeiger1_2020-04-29_14-10-02.jpg 0.41 0.47594181092725935 -0.06594181092725937\n",
      "data_resize_all\\4.9_2456_zeiger1_2020-04-29_14-16-02.jpg 0.49000000000000005 0.5508233857548019 -0.060823385754801895\n",
      "data_resize_all\\5.0_2490_zeiger1_2020-04-29_12-56-02.jpg 0.5 0.5560744351887077 -0.056074435188707694\n",
      "data_resize_all\\5.0_2496_zeiger1_2020-04-29_11-38-02.jpg 0.5 0.5639692611228485 -0.06396926112284851\n",
      "data_resize_all\\5.0_2526_zeiger1_2020-04-29_14-17-02.jpg 0.5 0.5645931989035291 -0.0645931989035291\n",
      "data_resize_all\\5.1_2545_zeiger1_2020-04-29_11-39-02.jpg 0.51 0.5676521750143102 -0.05765217501431019\n",
      "data_resize_all\\5.1_2546_zeiger1_2020-04-29_12-57-02.jpg 0.51 0.5794614203072807 -0.06946142030728064\n",
      "data_resize_all\\5.2_2597_zeiger1_2020-04-29_11-40-01.jpg 0.52 0.5943762387793697 -0.07437623877936972\n",
      "data_resize_all\\5.3_2634_zeiger1_2020-04-29_14-19-02.jpg 0.53 0.5837206503827098 -0.05372065038270979\n",
      "data_resize_all\\5.4_2686_zeiger1_2020-04-29_11-41-02.jpg 0.54 0.618321478026105 -0.07832147802610501\n",
      "data_resize_all\\5.4_2687_zeiger1_2020-04-29_12-59-02.jpg 0.54 0.5917920746523908 -0.051792074652390774\n",
      "data_resize_all\\8.2_4113_zeiger1_2020-04-29_12-03-02.jpg 0.82 0.7687386360037939 0.051261363996206066\n",
      "data_resize_all\\8.2_4115_zeiger1_2020-04-29_13-22-02.jpg 0.82 0.7419677854429196 0.07803221455708031\n",
      "data_resize_all\\8.3_4145_zeiger1_2020-04-29_12-04-02.jpg 0.8300000000000001 0.7748979488153298 0.055102051184670264\n",
      "data_resize_all\\8.5_4215_zeiger1_2020-04-29_14-44-02.jpg 0.85 0.7639751672128885 0.08602483278711148\n",
      "data_resize_all\\9.7_4829_zeiger1_2020-04-29_10-55-02.jpg 0.97 0.9170885423654398 0.05291145763456018\n",
      "data_resize_all\\9.7_4831_zeiger1_2020-04-29_13-32-02.jpg 0.97 0.9008359269942914 0.06916407300570859\n",
      "data_resize_all\\9.8_4910_zeiger1_2020-04-29_12-14-02.jpg 0.9800000000000001 0.9275615275519142 0.05243847244808586\n",
      "data_resize_all\\9.8_4911_zeiger1_2020-04-29_13-33-02.jpg 0.9800000000000001 0.9040944015470799 0.07590559845292022\n",
      "data_resize_all\\9.8_4926_zeiger2_2020-02-17_17-43-42.jpg 0.9800000000000001 0.9249691150228752 0.05503088497712494\n",
      "data_resize_all\\9.9_4967_zeiger1_2020-04-29_13-34-02.jpg 0.99 0.9135696668505446 0.07643033314945535\n",
      "data_resize_all\\9.9_4970_zeiger2_2020-02-17_17-43-10.jpg 0.99 0.9103376023625469 0.07966239763745309\n"
     ]
    }
   ],
   "source": [
    "Input_dir='data_resize_all'\n",
    "#Input_dir='test_result'\n",
    "files = glob.glob(Input_dir + '/*.*')\n",
    "res = []\n",
    "i = 0\n",
    "deviation_max_list = 0.05\n",
    "\n",
    "for aktfile in files:\n",
    "    base = os.path.basename(aktfile)\n",
    "    target = (float(base[0:3])) / 10\n",
    "    target_sin = math.sin(target * math.pi * 2)\n",
    "    target_cos = math.cos(target * math.pi * 2)\n",
    "\n",
    "    test_image = Image.open(aktfile)\n",
    "    test_image = np.array(test_image, dtype=\"float32\")\n",
    "    img = np.reshape(test_image,[1,32,32,3])\n",
    "    classes = model.predict(img)\n",
    "    \n",
    "    out_sin = classes[0][0]  \n",
    "    out_cos = classes[0][1]\n",
    "    out_target = (np.arctan2(out_sin, out_cos)/(2*math.pi)) % 1\n",
    "\n",
    "    dev_sin = target_sin - out_sin\n",
    "    dev_cos = target_cos - out_cos\n",
    "    dev_target = target - out_target\n",
    "    \n",
    "    if abs(dev_target + 1) < abs(dev_target):\n",
    "        out_target = out_target - 1\n",
    "        dev_target = target - out_target\n",
    "    else:\n",
    "        if abs(dev_target - 1) < abs(dev_target):\n",
    "            out_target = out_target + 1\n",
    "            dev_target = target - out_target\n",
    "               \n",
    "    res.append(np.array([target, out_target, dev_target, out_sin, out_cos, i]))\n",
    "    if abs(dev_target) > deviation_max_list:\n",
    "        print(aktfile + \" \" + str(target) + \" \" + str(out_target) +  \" \" + str(dev_target))\n",
    "    i+=1\n",
    "\n",
    "res = np.asarray(res)\n",
    "res_step_1 = res"
   ]
  },
  {
   "cell_type": "markdown",
   "metadata": {},
   "source": [
    "## Results"
   ]
  },
  {
   "cell_type": "code",
   "execution_count": 9,
   "metadata": {},
   "outputs": [
    {
     "data": {
      "image/png": "[encoded data removed]",
      "text/plain": [
       "<Figure size 432x288 with 1 Axes>"
      ]
     },
     "metadata": {
      "needs_background": "light"
     },
     "output_type": "display_data"
    }
   ],
   "source": [
    "plt.plot(res[:,3])\n",
    "plt.plot(res[:,4])\n",
    "plt.title('Result')\n",
    "plt.ylabel('value')\n",
    "plt.xlabel('#Picture')\n",
    "plt.legend(['sin', 'cos'], loc='lower left')\n",
    "plt.show()"
   ]
  },
  {
   "cell_type": "code",
   "execution_count": 10,
   "metadata": {},
   "outputs": [
    {
     "data": {
      "image/png": "[encoded data removed]",
      "text/plain": [
       "<Figure size 432x288 with 1 Axes>"
      ]
     },
     "metadata": {
      "needs_background": "light"
     },
     "output_type": "display_data"
    }
   ],
   "source": [
    "plt.plot(res[:,0])\n",
    "plt.plot(res[:,1])\n",
    "plt.title('Result')\n",
    "plt.ylabel('Counter Value')\n",
    "plt.xlabel('#Picture')\n",
    "plt.legend(['Orginal', 'Prediction'], loc='upper left')\n",
    "plt.show()"
   ]
  },
  {
   "cell_type": "markdown",
   "metadata": {},
   "source": [
    "### Deviation from Expected Value"
   ]
  },
  {
   "cell_type": "code",
   "execution_count": 11,
   "metadata": {},
   "outputs": [
    {
     "data": {
      "image/png": "[encoded data removed]",
      "text/plain": [
       "<Figure size 432x288 with 1 Axes>"
      ]
     },
     "metadata": {
      "needs_background": "light"
     },
     "output_type": "display_data"
    },
    {
     "name": "stdout",
     "output_type": "stream",
     "text": [
      "[-0.0027  0.0139 -0.1109  0.1026]\n"
     ]
    }
   ],
   "source": [
    "plt.plot(res[:,2])\n",
    "plt.title('Deviation')\n",
    "plt.ylabel('Deviation from expected value')\n",
    "plt.xlabel('#Picture')\n",
    "plt.legend(['Deviation'], loc='upper left')\n",
    "#plt.ylim(-0.3, 0.3)\n",
    "plt.show()\n",
    "\n",
    "statistic = np.array([np.mean(res[:,2]), np.std(res[:,2]), np.min(res[:,2]), np.max(res[:,2])])\n",
    "print(statistic)"
   ]
  },
  {
   "cell_type": "markdown",
   "metadata": {},
   "source": [
    "### Save the model\n",
    "\n",
    "* Save the model to the file with the \"h5\" file format"
   ]
  },
  {
   "cell_type": "code",
   "execution_count": 12,
   "metadata": {},
   "outputs": [
    {
     "data": {
      "text/plain": [
       "100772"
      ]
     },
     "execution_count": 12,
     "metadata": {},
     "output_type": "execute_result"
    }
   ],
   "source": [
    "# model.save(\"CNN_Analog-Readout_Version-6.2.0.h5\")\n",
    "\n",
    "converter = tf.lite.TFLiteConverter.from_keras_model(model)\n",
    "tflite_model = converter.convert()\n",
    "open(\"CNN_Analog-Readout_Version-6.3.0-Small3.tflite\", \"wb\").write(tflite_model)"
   ]
  }
 ],
 "metadata": {
  "kernelspec": {
   "display_name": "Python 3",
   "language": "python",
   "name": "python3"
  },
  "language_info": {
   "codemirror_mode": {
    "name": "ipython",
    "version": 3
   },
   "file_extension": ".py",
   "mimetype": "text/x-python",
   "name": "python",
   "nbconvert_exporter": "python",
   "pygments_lexer": "ipython3",
   "version": "3.7.7"
  }
 },
 "nbformat": 4,
 "nbformat_minor": 2
}
