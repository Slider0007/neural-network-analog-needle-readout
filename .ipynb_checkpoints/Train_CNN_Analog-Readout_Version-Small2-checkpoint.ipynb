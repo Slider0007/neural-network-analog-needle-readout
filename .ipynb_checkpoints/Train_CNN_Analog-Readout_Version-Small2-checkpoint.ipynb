{
 "cells": [
  {
   "cell_type": "markdown",
   "metadata": {},
   "source": [
    "# CNN Training\n",
    "\n",
    "Target of this code is to train a CNN network to extract the needle position of an analog needle device.\n",
    "\n",
    "### Preparing the training\n",
    "* First all libraries are loaded\n",
    "    * It is assumed, that they are installed during the Python setup\n",
    "* matplotlib is set to print the output inline in the jupyter notebook"
   ]
  },
  {
   "cell_type": "code",
   "execution_count": 1,
   "metadata": {
    "scrolled": true
   },
   "outputs": [],
   "source": [
    "import os\n",
    "import tensorflow as tf\n",
    "import matplotlib.pyplot as plt\n",
    "import glob\n",
    "import numpy as np\n",
    "from sklearn.utils import shuffle\n",
    "from tensorflow.python import keras\n",
    "from tensorflow.python.keras import Sequential\n",
    "from tensorflow.python.keras.layers import Dense, InputLayer, Conv2D, MaxPool2D, Flatten, BatchNormalization\n",
    "from tensorflow.keras.preprocessing.image import ImageDataGenerator\n",
    "from sklearn.model_selection import train_test_split\n",
    "import tensorflow.keras.backend as K\n",
    "from tensorflow.keras.callbacks import History \n",
    "import math\n",
    "from PIL import Image \n",
    "\n",
    "loss_ges = np.array([])\n",
    "val_loss_ges = np.array([])\n",
    "\n",
    "%matplotlib inline\n",
    "np.set_printoptions(precision=4)\n",
    "np.set_printoptions(suppress=True)"
   ]
  },
  {
   "cell_type": "markdown",
   "metadata": {},
   "source": [
    "### Load training data\n",
    "* The data is expected in the \"Input_dir\"\n",
    "* Picture size must be 32x32 with 3 color channels (RGB)\n",
    "* The filename contains the informations needed for training in the first 3 digits::\n",
    "* Typical filename: \n",
    "    * x.y-zzzz.jpg \n",
    "    * e.g. \"4.6_Lfd-1406_zeiger3_2019-06-02T050011\"\n",
    "\n",
    "|Place holder | Meaning                     | Usage        |\n",
    "|------------- |-----------------------------|--------------|\n",
    "| **x.y**          | readout value               | **to be learned** |\n",
    "| zzzz        | additional information              | not needed   |\n",
    "\n",
    "* The images are stored in the x_data[]\n",
    "* The expected output for each image in the corresponding y_data[]\n",
    "    * The periodic nature is reflected in a **sin/cos coding**, which allows to restore the angle/counter value with an arctan later on.\n",
    "\n",
    "* The last step is a shuffle (from sklearn.utils) as the filenames are on order due to the encoding of the expected analog readout in the filename "
   ]
  },
  {
   "cell_type": "code",
   "execution_count": 2,
   "metadata": {},
   "outputs": [
    {
     "name": "stdout",
     "output_type": "stream",
     "text": [
      "(4907, 32, 32, 3)\n",
      "(4907, 2)\n"
     ]
    }
   ],
   "source": [
    "Input_dir='data_resize_all'\n",
    "\n",
    "files = glob.glob(Input_dir + '/*.*')\n",
    "x_data = []\n",
    "y_data = []\n",
    "\n",
    "for aktfile in files:\n",
    "    test_image = Image.open(aktfile)\n",
    "    test_image = np.array(test_image, dtype=\"float32\")\n",
    "    test_image = np.reshape(test_image, (32,32,3))\n",
    "    base = os.path.basename(aktfile)\n",
    "    target_number = (float(base[0:3])) / 10\n",
    "    target_sin = math.sin(target_number * math.pi * 2)\n",
    "    target_cos = math.cos(target_number * math.pi * 2)\n",
    "\n",
    "    x_data.append(test_image)\n",
    "    zw = np.array([target_sin, target_cos])\n",
    "    y_data.append(zw)\n",
    "\n",
    "x_data = np.array(x_data)\n",
    "y_data = np.array(y_data)\n",
    "print(x_data.shape)\n",
    "print(y_data.shape)\n",
    "\n",
    "x_data, y_data = shuffle(x_data, y_data)\n",
    "X_train, X_test, y_train, y_test = train_test_split(x_data, y_data, test_size=0.1)"
   ]
  },
  {
   "cell_type": "markdown",
   "metadata": {},
   "source": [
    "### Define the model\n",
    "\n",
    "The layout of the network ist a typcial CNN network with alternating **Conv2D** and **MaxPool2D** layers. Finished after **flattening** with additional **Dense** layer.\n",
    "\n",
    "#### Important\n",
    "* Shape of the input layer: (32, 32, 3)\n",
    "* Shape of the output layer: (2) - sin and cos"
   ]
  },
  {
   "cell_type": "code",
   "execution_count": 3,
   "metadata": {
    "scrolled": true
   },
   "outputs": [
    {
     "name": "stdout",
     "output_type": "stream",
     "text": [
      "Model: \"sequential\"\n",
      "_________________________________________________________________\n",
      "Layer (type)                 Output Shape              Param #   \n",
      "=================================================================\n",
      "batch_normalization (BatchNo (None, 32, 32, 3)         12        \n",
      "_________________________________________________________________\n",
      "conv2d (Conv2D)              (None, 32, 32, 32)        2432      \n",
      "_________________________________________________________________\n",
      "max_pooling2d (MaxPooling2D) (None, 8, 8, 32)          0         \n",
      "_________________________________________________________________\n",
      "conv2d_1 (Conv2D)            (None, 8, 8, 16)          12816     \n",
      "_________________________________________________________________\n",
      "max_pooling2d_1 (MaxPooling2 (None, 2, 2, 16)          0         \n",
      "_________________________________________________________________\n",
      "conv2d_2 (Conv2D)            (None, 2, 2, 32)          4640      \n",
      "_________________________________________________________________\n",
      "max_pooling2d_2 (MaxPooling2 (None, 1, 1, 32)          0         \n",
      "_________________________________________________________________\n",
      "flatten (Flatten)            (None, 32)                0         \n",
      "_________________________________________________________________\n",
      "dense (Dense)                (None, 128)               4224      \n",
      "_________________________________________________________________\n",
      "dense_1 (Dense)              (None, 64)                8256      \n",
      "_________________________________________________________________\n",
      "dense_2 (Dense)              (None, 2)                 130       \n",
      "=================================================================\n",
      "Total params: 32,510\n",
      "Trainable params: 32,504\n",
      "Non-trainable params: 6\n",
      "_________________________________________________________________\n"
     ]
    }
   ],
   "source": [
    "model = Sequential()\n",
    "model.add(BatchNormalization(input_shape=(32,32,3)))\n",
    "model.add(Conv2D(32, (5, 5), input_shape=(32,32,3), padding='same', activation=\"relu\"))\n",
    "model.add(MaxPool2D(pool_size=(4,4)))\n",
    "model.add(Conv2D(16, (5, 5), padding='same', activation=\"relu\"))\n",
    "model.add(MaxPool2D(pool_size=(4,4)))\n",
    "model.add(Conv2D(32, (3, 3), padding='same', activation=\"relu\"))\n",
    "model.add(MaxPool2D(pool_size=(2,2)))\n",
    "model.add(Flatten())\n",
    "model.add(Dense(128,activation=\"relu\"))\n",
    "model.add(Dense(64,activation=\"relu\"))\n",
    "model.add(Dense(2))\n",
    "model.summary()\n",
    "\n",
    "model.compile(loss=keras.losses.mean_squared_error, optimizer=tf.keras.optimizers.Adadelta(learning_rate=1.0, rho=0.95), metrics = [\"accuracy\"])"
   ]
  },
  {
   "cell_type": "markdown",
   "metadata": {},
   "source": [
    "# Training\n",
    "The input pictures are randomly scattered for brightness and pixel shift variations. These is implemented with a ImageDataGenerator.\n",
    "\n",
    "\n",
    "The training is splitted into two steps:\n",
    "1. Variation of the brightness only\n",
    "2. Variation of brightness and Pixel Shift"
   ]
  },
  {
   "cell_type": "markdown",
   "metadata": {},
   "source": [
    "### Step 1: Brigthness scattering only"
   ]
  },
  {
   "cell_type": "code",
   "execution_count": 4,
   "metadata": {},
   "outputs": [
    {
     "name": "stdout",
     "output_type": "stream",
     "text": [
      "WARNING:tensorflow:From <ipython-input-4-9f5ba6453a73>:11: Model.fit_generator (from tensorflow.python.keras.engine.training) is deprecated and will be removed in a future version.\n",
      "Instructions for updating:\n",
      "Please use Model.fit, which supports generators.\n",
      "Epoch 1/30\n",
      "552/552 [==============================] - 6s 11ms/step - loss: 0.1206 - accuracy: 0.8952 - val_loss: 0.0148 - val_accuracy: 0.9695\n",
      "Epoch 2/30\n",
      "552/552 [==============================] - 6s 11ms/step - loss: 0.0177 - accuracy: 0.9703 - val_loss: 0.0099 - val_accuracy: 0.9735\n",
      "Epoch 3/30\n",
      "552/552 [==============================] - 7s 12ms/step - loss: 0.0100 - accuracy: 0.9787 - val_loss: 0.0060 - val_accuracy: 0.9756\n",
      "Epoch 4/30\n",
      "552/552 [==============================] - 6s 11ms/step - loss: 0.0069 - accuracy: 0.9792 - val_loss: 0.0068 - val_accuracy: 0.9776\n",
      "Epoch 5/30\n",
      "552/552 [==============================] - 7s 13ms/step - loss: 0.0052 - accuracy: 0.9848 - val_loss: 0.0067 - val_accuracy: 0.9470\n",
      "Epoch 6/30\n",
      "552/552 [==============================] - 9s 16ms/step - loss: 0.0042 - accuracy: 0.9830 - val_loss: 0.0030 - val_accuracy: 0.9817\n",
      "Epoch 7/30\n",
      "552/552 [==============================] - 9s 17ms/step - loss: 0.0033 - accuracy: 0.9853 - val_loss: 0.0029 - val_accuracy: 0.9776\n",
      "Epoch 8/30\n",
      "552/552 [==============================] - 9s 16ms/step - loss: 0.0029 - accuracy: 0.9860 - val_loss: 0.0027 - val_accuracy: 0.9898\n",
      "Epoch 9/30\n",
      "552/552 [==============================] - 9s 17ms/step - loss: 0.0025 - accuracy: 0.9860 - val_loss: 0.0029 - val_accuracy: 0.9857\n",
      "Epoch 10/30\n",
      "552/552 [==============================] - 10s 19ms/step - loss: 0.0023 - accuracy: 0.9864 - val_loss: 0.0020 - val_accuracy: 0.9878\n",
      "Epoch 11/30\n",
      "552/552 [==============================] - 12s 21ms/step - loss: 0.0020 - accuracy: 0.9896 - val_loss: 0.0028 - val_accuracy: 0.9857\n",
      "Epoch 12/30\n",
      "552/552 [==============================] - 17s 30ms/step - loss: 0.0018 - accuracy: 0.9891 - val_loss: 0.0021 - val_accuracy: 0.9857\n",
      "Epoch 13/30\n",
      "552/552 [==============================] - 14s 26ms/step - loss: 0.0017 - accuracy: 0.9887 - val_loss: 0.0020 - val_accuracy: 0.9756\n",
      "Epoch 14/30\n",
      "552/552 [==============================] - 14s 25ms/step - loss: 0.0015 - accuracy: 0.9903 - val_loss: 0.0018 - val_accuracy: 0.9878\n",
      "Epoch 15/30\n",
      "552/552 [==============================] - 14s 26ms/step - loss: 0.0014 - accuracy: 0.9905 - val_loss: 0.0020 - val_accuracy: 0.9776\n",
      "Epoch 16/30\n",
      "552/552 [==============================] - 14s 25ms/step - loss: 0.0013 - accuracy: 0.9923 - val_loss: 0.0015 - val_accuracy: 0.9837\n",
      "Epoch 17/30\n",
      "552/552 [==============================] - 15s 27ms/step - loss: 0.0013 - accuracy: 0.9925 - val_loss: 0.0014 - val_accuracy: 0.9878\n",
      "Epoch 18/30\n",
      "552/552 [==============================] - 16s 29ms/step - loss: 0.0012 - accuracy: 0.9928 - val_loss: 0.0013 - val_accuracy: 0.9817\n",
      "Epoch 19/30\n",
      "552/552 [==============================] - 17s 30ms/step - loss: 0.0011 - accuracy: 0.9928 - val_loss: 0.0012 - val_accuracy: 0.9878\n",
      "Epoch 20/30\n",
      "552/552 [==============================] - 15s 28ms/step - loss: 0.0011 - accuracy: 0.9912 - val_loss: 0.0012 - val_accuracy: 1.0000\n",
      "Epoch 21/30\n",
      "552/552 [==============================] - 15s 27ms/step - loss: 0.0010 - accuracy: 0.9934 - val_loss: 0.0013 - val_accuracy: 0.9939\n",
      "Epoch 22/30\n",
      "552/552 [==============================] - 17s 30ms/step - loss: 0.0010 - accuracy: 0.9918 - val_loss: 0.0018 - val_accuracy: 0.9796\n",
      "Epoch 23/30\n",
      "552/552 [==============================] - 14s 26ms/step - loss: 9.3298e-04 - accuracy: 0.9918 - val_loss: 0.0012 - val_accuracy: 0.9898\n",
      "Epoch 24/30\n",
      "552/552 [==============================] - 15s 28ms/step - loss: 9.0310e-04 - accuracy: 0.9932 - val_loss: 0.0013 - val_accuracy: 0.9919\n",
      "Epoch 25/30\n",
      "552/552 [==============================] - 19s 34ms/step - loss: 8.5425e-04 - accuracy: 0.9925 - val_loss: 0.0011 - val_accuracy: 0.9939\n",
      "Epoch 26/30\n",
      "552/552 [==============================] - 19s 34ms/step - loss: 8.5140e-04 - accuracy: 0.9932 - val_loss: 0.0011 - val_accuracy: 0.9919\n",
      "Epoch 27/30\n",
      "552/552 [==============================] - 15s 26ms/step - loss: 8.5251e-04 - accuracy: 0.9916 - val_loss: 0.0012 - val_accuracy: 0.9919\n",
      "Epoch 28/30\n",
      "552/552 [==============================] - 14s 25ms/step - loss: 8.1565e-04 - accuracy: 0.9939 - val_loss: 9.5830e-04 - val_accuracy: 0.9898\n",
      "Epoch 29/30\n",
      "552/552 [==============================] - 14s 26ms/step - loss: 7.8050e-04 - accuracy: 0.9928 - val_loss: 9.9051e-04 - val_accuracy: 0.9980\n",
      "Epoch 30/30\n",
      "552/552 [==============================] - 14s 26ms/step - loss: 7.5675e-04 - accuracy: 0.9939 - val_loss: 9.0338e-04 - val_accuracy: 0.9980\n"
     ]
    }
   ],
   "source": [
    "Batch_Size = 8\n",
    "Epoch_Anz = 30\n",
    "Shift_Range = 0\n",
    "Brightness_Range = 0.3\n",
    "\n",
    "datagen = ImageDataGenerator(width_shift_range=[-Shift_Range,Shift_Range], height_shift_range=[-Shift_Range,Shift_Range],brightness_range=[1-Brightness_Range,1+Brightness_Range])\n",
    "\n",
    "train_iterator = datagen.flow(X_train, y_train, batch_size=Batch_Size)\n",
    "validation_iterator = datagen.flow(X_test, y_test, batch_size=Batch_Size)\n",
    "\n",
    "history = model.fit_generator(train_iterator, validation_data = validation_iterator, epochs = Epoch_Anz)"
   ]
  },
  {
   "cell_type": "markdown",
   "metadata": {},
   "source": [
    "### Step 1: Learing result\n",
    " \n",
    "* Visualization of the training and validation results"
   ]
  },
  {
   "cell_type": "code",
   "execution_count": 5,
   "metadata": {},
   "outputs": [
    {
     "data": {
      "image/png": "[encoded data removed]",
      "text/plain": [
       "<Figure size 432x288 with 1 Axes>"
      ]
     },
     "metadata": {
      "needs_background": "light"
     },
     "output_type": "display_data"
    }
   ],
   "source": [
    "loss_ges = np.append(loss_ges, history.history['loss'])\n",
    "val_loss_ges = np.append(val_loss_ges, history.history['val_loss'])\n",
    "\n",
    "plt.semilogy(history.history['loss'])\n",
    "plt.semilogy(history.history['val_loss'])\n",
    "plt.title('model loss')\n",
    "plt.ylabel('loss')\n",
    "plt.xlabel('epoch')\n",
    "plt.legend(['train','eval'], loc='upper left')\n",
    "plt.show()"
   ]
  },
  {
   "cell_type": "markdown",
   "metadata": {},
   "source": [
    "### Step 2: Brigthness and Pixel Shift scattering\n",
    "Here a higher number of epochs is used to reach the minimum loss function"
   ]
  },
  {
   "cell_type": "code",
   "execution_count": 6,
   "metadata": {},
   "outputs": [
    {
     "name": "stdout",
     "output_type": "stream",
     "text": [
      "Epoch 1/160\n",
      "552/552 [==============================] - 15s 28ms/step - loss: 0.0548 - accuracy: 0.9366 - val_loss: 0.0140 - val_accuracy: 0.9593\n",
      "Epoch 2/160\n",
      "552/552 [==============================] - 15s 28ms/step - loss: 0.0096 - accuracy: 0.9728 - val_loss: 0.0097 - val_accuracy: 0.9735\n",
      "Epoch 3/160\n",
      "552/552 [==============================] - 16s 28ms/step - loss: 0.0064 - accuracy: 0.9769 - val_loss: 0.0075 - val_accuracy: 0.9735\n",
      "Epoch 4/160\n",
      "552/552 [==============================] - 19s 35ms/step - loss: 0.0052 - accuracy: 0.9783 - val_loss: 0.0062 - val_accuracy: 0.9857\n",
      "Epoch 5/160\n",
      "552/552 [==============================] - 20s 36ms/step - loss: 0.0045 - accuracy: 0.9839 - val_loss: 0.0057 - val_accuracy: 0.9756\n",
      "Epoch 6/160\n",
      "552/552 [==============================] - 19s 35ms/step - loss: 0.0037 - accuracy: 0.9848 - val_loss: 0.0046 - val_accuracy: 0.9756\n",
      "Epoch 7/160\n",
      "552/552 [==============================] - 20s 37ms/step - loss: 0.0034 - accuracy: 0.9841 - val_loss: 0.0032 - val_accuracy: 0.9735\n",
      "Epoch 8/160\n",
      "552/552 [==============================] - 20s 36ms/step - loss: 0.0031 - accuracy: 0.9841 - val_loss: 0.0031 - val_accuracy: 0.9796\n",
      "Epoch 9/160\n",
      "552/552 [==============================] - 21s 38ms/step - loss: 0.0033 - accuracy: 0.9853 - val_loss: 0.0030 - val_accuracy: 0.9857\n",
      "Epoch 10/160\n",
      "552/552 [==============================] - 20s 37ms/step - loss: 0.0026 - accuracy: 0.9857 - val_loss: 0.0045 - val_accuracy: 0.9715\n",
      "Epoch 11/160\n",
      "552/552 [==============================] - 20s 36ms/step - loss: 0.0025 - accuracy: 0.9855 - val_loss: 0.0025 - val_accuracy: 0.9857\n",
      "Epoch 12/160\n",
      "552/552 [==============================] - 20s 36ms/step - loss: 0.0025 - accuracy: 0.9835 - val_loss: 0.0031 - val_accuracy: 0.9715\n",
      "Epoch 13/160\n",
      "552/552 [==============================] - 19s 35ms/step - loss: 0.0026 - accuracy: 0.9866 - val_loss: 0.0022 - val_accuracy: 0.9817\n",
      "Epoch 14/160\n",
      "552/552 [==============================] - 20s 36ms/step - loss: 0.0021 - accuracy: 0.9882 - val_loss: 0.0022 - val_accuracy: 0.9857\n",
      "Epoch 15/160\n",
      "552/552 [==============================] - 21s 37ms/step - loss: 0.0021 - accuracy: 0.9889 - val_loss: 0.0027 - val_accuracy: 0.9817\n",
      "Epoch 16/160\n",
      "552/552 [==============================] - 20s 36ms/step - loss: 0.0020 - accuracy: 0.9889 - val_loss: 0.0037 - val_accuracy: 0.9817\n",
      "Epoch 17/160\n",
      "552/552 [==============================] - 19s 35ms/step - loss: 0.0019 - accuracy: 0.9875 - val_loss: 0.0018 - val_accuracy: 0.9817\n",
      "Epoch 18/160\n",
      "552/552 [==============================] - 20s 35ms/step - loss: 0.0021 - accuracy: 0.9875 - val_loss: 0.0031 - val_accuracy: 0.9837\n",
      "Epoch 19/160\n",
      "552/552 [==============================] - 20s 37ms/step - loss: 0.0018 - accuracy: 0.9880 - val_loss: 0.0019 - val_accuracy: 0.9817\n",
      "Epoch 20/160\n",
      "552/552 [==============================] - 22s 40ms/step - loss: 0.0018 - accuracy: 0.9889 - val_loss: 0.0035 - val_accuracy: 0.9817\n",
      "Epoch 21/160\n",
      "552/552 [==============================] - 22s 39ms/step - loss: 0.0017 - accuracy: 0.9900 - val_loss: 0.0018 - val_accuracy: 0.9837\n",
      "Epoch 22/160\n",
      "552/552 [==============================] - 25s 45ms/step - loss: 0.0018 - accuracy: 0.9903 - val_loss: 0.0017 - val_accuracy: 0.9837\n",
      "Epoch 23/160\n",
      "552/552 [==============================] - 23s 42ms/step - loss: 0.0015 - accuracy: 0.9882 - val_loss: 0.0016 - val_accuracy: 0.9817\n",
      "Epoch 24/160\n",
      "552/552 [==============================] - 27s 49ms/step - loss: 0.0015 - accuracy: 0.9912 - val_loss: 0.0017 - val_accuracy: 0.9878\n",
      "Epoch 25/160\n",
      "552/552 [==============================] - 23s 42ms/step - loss: 0.0015 - accuracy: 0.9905 - val_loss: 0.0015 - val_accuracy: 0.9837\n",
      "Epoch 26/160\n",
      "552/552 [==============================] - 22s 39ms/step - loss: 0.0016 - accuracy: 0.9896 - val_loss: 0.0017 - val_accuracy: 0.9939\n",
      "Epoch 27/160\n",
      "552/552 [==============================] - 21s 38ms/step - loss: 0.0014 - accuracy: 0.9891 - val_loss: 0.0019 - val_accuracy: 0.9857\n",
      "Epoch 28/160\n",
      "552/552 [==============================] - 21s 38ms/step - loss: 0.0015 - accuracy: 0.9894 - val_loss: 0.0018 - val_accuracy: 0.9776\n",
      "Epoch 29/160\n",
      "552/552 [==============================] - 20s 35ms/step - loss: 0.0014 - accuracy: 0.9900 - val_loss: 0.0016 - val_accuracy: 0.9898\n",
      "Epoch 30/160\n",
      "552/552 [==============================] - 21s 38ms/step - loss: 0.0014 - accuracy: 0.9909 - val_loss: 0.0019 - val_accuracy: 0.9898\n",
      "Epoch 31/160\n",
      "552/552 [==============================] - 21s 38ms/step - loss: 0.0013 - accuracy: 0.9909 - val_loss: 0.0020 - val_accuracy: 0.9878: \n",
      "Epoch 32/160\n",
      "552/552 [==============================] - 20s 36ms/step - loss: 0.0013 - accuracy: 0.9912 - val_loss: 0.0014 - val_accuracy: 0.9878\n",
      "Epoch 33/160\n",
      "552/552 [==============================] - 22s 40ms/step - loss: 0.0013 - accuracy: 0.9921 - val_loss: 0.0011 - val_accuracy: 0.9919\n",
      "Epoch 34/160\n",
      "552/552 [==============================] - 20s 36ms/step - loss: 0.0012 - accuracy: 0.9925 - val_loss: 0.0016 - val_accuracy: 0.9959\n",
      "Epoch 35/160\n",
      "552/552 [==============================] - 21s 38ms/step - loss: 0.0012 - accuracy: 0.9907 - val_loss: 0.0020 - val_accuracy: 0.9857\n",
      "Epoch 36/160\n",
      "552/552 [==============================] - 20s 37ms/step - loss: 0.0012 - accuracy: 0.9907 - val_loss: 0.0014 - val_accuracy: 0.9898\n",
      "Epoch 37/160\n",
      "552/552 [==============================] - 20s 36ms/step - loss: 0.0012 - accuracy: 0.9921 - val_loss: 0.0023 - val_accuracy: 0.9715\n",
      "Epoch 38/160\n",
      "552/552 [==============================] - 20s 37ms/step - loss: 0.0011 - accuracy: 0.9912 - val_loss: 0.0014 - val_accuracy: 0.9919\n",
      "Epoch 39/160\n",
      "552/552 [==============================] - 21s 39ms/step - loss: 0.0011 - accuracy: 0.9912 - val_loss: 0.0015 - val_accuracy: 0.9898\n",
      "Epoch 40/160\n",
      "552/552 [==============================] - 21s 38ms/step - loss: 0.0012 - accuracy: 0.9894 - val_loss: 0.0013 - val_accuracy: 0.9857\n",
      "Epoch 41/160\n",
      "552/552 [==============================] - 21s 37ms/step - loss: 0.0011 - accuracy: 0.9941 - val_loss: 0.0015 - val_accuracy: 0.9898\n",
      "Epoch 42/160\n",
      "552/552 [==============================] - 20s 37ms/step - loss: 0.0011 - accuracy: 0.9934 - val_loss: 0.0016 - val_accuracy: 0.9898\n",
      "Epoch 43/160\n",
      "552/552 [==============================] - 21s 38ms/step - loss: 0.0011 - accuracy: 0.9939 - val_loss: 0.0017 - val_accuracy: 0.9939\n",
      "Epoch 44/160\n",
      "552/552 [==============================] - 21s 37ms/step - loss: 0.0010 - accuracy: 0.9934 - val_loss: 0.0017 - val_accuracy: 0.9939\n",
      "Epoch 45/160\n",
      "552/552 [==============================] - 20s 37ms/step - loss: 0.0011 - accuracy: 0.9946 - val_loss: 0.0013 - val_accuracy: 0.9939\n",
      "Epoch 46/160\n",
      "552/552 [==============================] - 21s 39ms/step - loss: 0.0011 - accuracy: 0.9928 - val_loss: 0.0013 - val_accuracy: 0.9919\n",
      "Epoch 47/160\n",
      "552/552 [==============================] - 21s 37ms/step - loss: 0.0010 - accuracy: 0.9916 - val_loss: 0.0012 - val_accuracy: 0.9919\n",
      "Epoch 48/160\n",
      "552/552 [==============================] - 22s 40ms/step - loss: 0.0010 - accuracy: 0.9925 - val_loss: 0.0012 - val_accuracy: 0.9857\n",
      "Epoch 49/160\n",
      "552/552 [==============================] - 21s 39ms/step - loss: 0.0010 - accuracy: 0.9909 - val_loss: 0.0013 - val_accuracy: 0.9898\n",
      "Epoch 50/160\n",
      "552/552 [==============================] - 22s 39ms/step - loss: 9.8971e-04 - accuracy: 0.9946 - val_loss: 0.0012 - val_accuracy: 0.9898\n",
      "Epoch 51/160\n",
      "552/552 [==============================] - 21s 37ms/step - loss: 9.7972e-04 - accuracy: 0.9941 - val_loss: 0.0013 - val_accuracy: 0.9878\n",
      "Epoch 52/160\n",
      "552/552 [==============================] - 20s 37ms/step - loss: 9.9554e-04 - accuracy: 0.9930 - val_loss: 0.0013 - val_accuracy: 0.9919\n",
      "Epoch 53/160\n",
      "552/552 [==============================] - 20s 36ms/step - loss: 9.6231e-04 - accuracy: 0.9928 - val_loss: 0.0014 - val_accuracy: 0.9878\n",
      "Epoch 54/160\n",
      "552/552 [==============================] - 21s 37ms/step - loss: 9.8112e-04 - accuracy: 0.9928 - val_loss: 0.0011 - val_accuracy: 0.9878\n",
      "Epoch 55/160\n",
      "552/552 [==============================] - 21s 38ms/step - loss: 9.2399e-04 - accuracy: 0.9941 - val_loss: 0.0015 - val_accuracy: 0.9776\n",
      "Epoch 56/160\n"
     ]
    },
    {
     "name": "stdout",
     "output_type": "stream",
     "text": [
      "552/552 [==============================] - 20s 36ms/step - loss: 9.4181e-04 - accuracy: 0.9934 - val_loss: 0.0012 - val_accuracy: 0.9898\n",
      "Epoch 57/160\n",
      "552/552 [==============================] - 16s 30ms/step - loss: 9.1817e-04 - accuracy: 0.9937 - val_loss: 0.0012 - val_accuracy: 0.9898\n",
      "Epoch 58/160\n",
      "552/552 [==============================] - 18s 33ms/step - loss: 9.1255e-04 - accuracy: 0.9941 - val_loss: 0.0012 - val_accuracy: 0.9939\n",
      "Epoch 59/160\n",
      "552/552 [==============================] - 16s 30ms/step - loss: 8.7163e-04 - accuracy: 0.9948 - val_loss: 0.0015 - val_accuracy: 0.9898\n",
      "Epoch 60/160\n",
      "552/552 [==============================] - 16s 29ms/step - loss: 8.8801e-04 - accuracy: 0.9934 - val_loss: 8.9955e-04 - val_accuracy: 0.9898-04 - accuracy: \n",
      "Epoch 61/160\n",
      "552/552 [==============================] - 16s 28ms/step - loss: 8.9698e-04 - accuracy: 0.9928 - val_loss: 0.0011 - val_accuracy: 0.9959\n",
      "Epoch 62/160\n",
      "552/552 [==============================] - 16s 28ms/step - loss: 8.8524e-04 - accuracy: 0.9934 - val_loss: 0.0012 - val_accuracy: 0.9857\n",
      "Epoch 63/160\n",
      "552/552 [==============================] - 16s 29ms/step - loss: 8.5034e-04 - accuracy: 0.9930 - val_loss: 0.0012 - val_accuracy: 0.9898\n",
      "Epoch 64/160\n",
      "552/552 [==============================] - 17s 30ms/step - loss: 8.8423e-04 - accuracy: 0.9939 - val_loss: 9.8224e-04 - val_accuracy: 0.9878\n",
      "Epoch 65/160\n",
      "552/552 [==============================] - 16s 30ms/step - loss: 8.7449e-04 - accuracy: 0.9937 - val_loss: 0.0014 - val_accuracy: 0.9898\n",
      "Epoch 66/160\n",
      "552/552 [==============================] - 16s 29ms/step - loss: 8.4892e-04 - accuracy: 0.9948 - val_loss: 0.0015 - val_accuracy: 0.9796\n",
      "Epoch 67/160\n",
      "552/552 [==============================] - 16s 29ms/step - loss: 8.6026e-04 - accuracy: 0.9943 - val_loss: 0.0013 - val_accuracy: 0.9878\n",
      "Epoch 68/160\n",
      "552/552 [==============================] - 16s 30ms/step - loss: 8.1652e-04 - accuracy: 0.9932 - val_loss: 0.0012 - val_accuracy: 0.9919\n",
      "Epoch 69/160\n",
      "552/552 [==============================] - 16s 29ms/step - loss: 8.3629e-04 - accuracy: 0.9943 - val_loss: 0.0012 - val_accuracy: 0.9898\n",
      "Epoch 70/160\n",
      "552/552 [==============================] - 17s 30ms/step - loss: 8.4175e-04 - accuracy: 0.9932 - val_loss: 0.0012 - val_accuracy: 0.9898\n",
      "Epoch 71/160\n",
      "552/552 [==============================] - 16s 28ms/step - loss: 8.0217e-04 - accuracy: 0.9930 - val_loss: 0.0010 - val_accuracy: 0.9857\n",
      "Epoch 72/160\n",
      "552/552 [==============================] - 15s 27ms/step - loss: 8.0429e-04 - accuracy: 0.9937 - val_loss: 0.0012 - val_accuracy: 0.9898\n",
      "Epoch 73/160\n",
      "552/552 [==============================] - 15s 28ms/step - loss: 8.3348e-04 - accuracy: 0.9943 - val_loss: 9.6376e-04 - val_accuracy: 0.9898\n",
      "Epoch 74/160\n",
      "552/552 [==============================] - 15s 27ms/step - loss: 7.9730e-04 - accuracy: 0.9943 - val_loss: 0.0013 - val_accuracy: 0.9878\n",
      "Epoch 75/160\n",
      "552/552 [==============================] - 15s 26ms/step - loss: 7.9167e-04 - accuracy: 0.9946 - val_loss: 9.7591e-04 - val_accuracy: 0.9837\n",
      "Epoch 76/160\n",
      "552/552 [==============================] - 15s 26ms/step - loss: 7.8423e-04 - accuracy: 0.9952 - val_loss: 0.0011 - val_accuracy: 0.9878\n",
      "Epoch 77/160\n",
      "552/552 [==============================] - 15s 27ms/step - loss: 7.8238e-04 - accuracy: 0.9962 - val_loss: 0.0011 - val_accuracy: 0.9898\n",
      "Epoch 78/160\n",
      "552/552 [==============================] - 15s 27ms/step - loss: 7.9337e-04 - accuracy: 0.9946 - val_loss: 0.0014 - val_accuracy: 0.9878\n",
      "Epoch 79/160\n",
      "552/552 [==============================] - 15s 27ms/step - loss: 7.9524e-04 - accuracy: 0.9941 - val_loss: 0.0015 - val_accuracy: 0.9980\n",
      "Epoch 80/160\n",
      "552/552 [==============================] - 15s 27ms/step - loss: 7.4410e-04 - accuracy: 0.9932 - val_loss: 0.0012 - val_accuracy: 0.9919\n",
      "Epoch 81/160\n",
      "552/552 [==============================] - 15s 28ms/step - loss: 7.5126e-04 - accuracy: 0.9955 - val_loss: 0.0013 - val_accuracy: 0.9898\n",
      "Epoch 82/160\n",
      "552/552 [==============================] - 15s 27ms/step - loss: 7.8437e-04 - accuracy: 0.9934 - val_loss: 0.0011 - val_accuracy: 0.9919\n",
      "Epoch 83/160\n",
      "552/552 [==============================] - 15s 28ms/step - loss: 7.4045e-04 - accuracy: 0.9946 - val_loss: 0.0016 - val_accuracy: 0.9878\n",
      "Epoch 84/160\n",
      "552/552 [==============================] - 15s 27ms/step - loss: 7.6537e-04 - accuracy: 0.9932 - val_loss: 0.0014 - val_accuracy: 0.9817\n",
      "Epoch 85/160\n",
      "552/552 [==============================] - 14s 26ms/step - loss: 7.6671e-04 - accuracy: 0.9957 - val_loss: 0.0012 - val_accuracy: 0.9857\n",
      "Epoch 86/160\n",
      "552/552 [==============================] - 15s 26ms/step - loss: 7.3351e-04 - accuracy: 0.9955 - val_loss: 0.0010 - val_accuracy: 0.9837\n",
      "Epoch 87/160\n",
      "552/552 [==============================] - 14s 26ms/step - loss: 7.3001e-04 - accuracy: 0.9957 - val_loss: 0.0012 - val_accuracy: 0.9898\n",
      "Epoch 88/160\n",
      "552/552 [==============================] - 14s 26ms/step - loss: 7.3688e-04 - accuracy: 0.9948 - val_loss: 0.0013 - val_accuracy: 0.9898\n",
      "Epoch 89/160\n",
      "552/552 [==============================] - 15s 26ms/step - loss: 7.4204e-04 - accuracy: 0.9946 - val_loss: 0.0011 - val_accuracy: 0.9939\n",
      "Epoch 90/160\n",
      "552/552 [==============================] - 15s 26ms/step - loss: 7.4691e-04 - accuracy: 0.9937 - val_loss: 0.0016 - val_accuracy: 0.9939\n",
      "Epoch 91/160\n",
      "552/552 [==============================] - 14s 26ms/step - loss: 7.2618e-04 - accuracy: 0.9939 - val_loss: 9.5079e-04 - val_accuracy: 0.9898\n",
      "Epoch 92/160\n",
      "552/552 [==============================] - 15s 26ms/step - loss: 7.2929e-04 - accuracy: 0.9950 - val_loss: 0.0015 - val_accuracy: 0.9939\n",
      "Epoch 93/160\n",
      "552/552 [==============================] - 15s 26ms/step - loss: 6.9197e-04 - accuracy: 0.9948 - val_loss: 9.8801e-04 - val_accuracy: 0.9919\n",
      "Epoch 94/160\n",
      "552/552 [==============================] - 14s 26ms/step - loss: 7.2115e-04 - accuracy: 0.9941 - val_loss: 9.8296e-04 - val_accuracy: 0.9837\n",
      "Epoch 95/160\n",
      "552/552 [==============================] - 14s 26ms/step - loss: 7.1038e-04 - accuracy: 0.9950 - val_loss: 0.0013 - val_accuracy: 0.9919\n",
      "Epoch 96/160\n",
      "552/552 [==============================] - 14s 26ms/step - loss: 7.0421e-04 - accuracy: 0.9928 - val_loss: 9.6231e-04 - val_accuracy: 0.9878\n",
      "Epoch 97/160\n",
      "552/552 [==============================] - 15s 26ms/step - loss: 7.1108e-04 - accuracy: 0.9941 - val_loss: 0.0012 - val_accuracy: 0.9837\n",
      "Epoch 98/160\n",
      "552/552 [==============================] - 15s 26ms/step - loss: 7.2738e-04 - accuracy: 0.9930 - val_loss: 9.5166e-04 - val_accuracy: 0.9939\n",
      "Epoch 99/160\n",
      "552/552 [==============================] - 14s 26ms/step - loss: 6.7720e-04 - accuracy: 0.9950 - val_loss: 9.2774e-04 - val_accuracy: 0.9898\n",
      "Epoch 100/160\n",
      "552/552 [==============================] - 15s 28ms/step - loss: 7.0795e-04 - accuracy: 0.9957 - val_loss: 0.0012 - val_accuracy: 0.9857\n",
      "Epoch 101/160\n",
      "552/552 [==============================] - 15s 26ms/step - loss: 6.9776e-04 - accuracy: 0.9950 - val_loss: 9.0754e-04 - val_accuracy: 0.9919\n",
      "Epoch 102/160\n",
      "552/552 [==============================] - 15s 27ms/step - loss: 6.7986e-04 - accuracy: 0.9950 - val_loss: 0.0013 - val_accuracy: 0.9878\n",
      "Epoch 103/160\n",
      "552/552 [==============================] - 15s 26ms/step - loss: 7.0291e-04 - accuracy: 0.9962 - val_loss: 0.0011 - val_accuracy: 0.9919\n",
      "Epoch 104/160\n",
      "552/552 [==============================] - 16s 28ms/step - loss: 6.7888e-04 - accuracy: 0.9959 - val_loss: 9.4750e-04 - val_accuracy: 0.9857\n",
      "Epoch 105/160\n",
      "552/552 [==============================] - 15s 27ms/step - loss: 6.9578e-04 - accuracy: 0.9937 - val_loss: 0.0015 - val_accuracy: 0.9898\n",
      "Epoch 106/160\n",
      "552/552 [==============================] - 15s 27ms/step - loss: 6.7083e-04 - accuracy: 0.9959 - val_loss: 9.1875e-04 - val_accuracy: 0.9939\n",
      "Epoch 107/160\n",
      "552/552 [==============================] - 15s 27ms/step - loss: 6.7371e-04 - accuracy: 0.9964 - val_loss: 0.0011 - val_accuracy: 0.9939\n",
      "Epoch 108/160\n",
      "552/552 [==============================] - 15s 26ms/step - loss: 6.8518e-04 - accuracy: 0.9941 - val_loss: 9.1438e-04 - val_accuracy: 0.9939\n",
      "Epoch 109/160\n",
      "552/552 [==============================] - 15s 26ms/step - loss: 6.7139e-04 - accuracy: 0.9948 - val_loss: 0.0011 - val_accuracy: 0.9919\n",
      "Epoch 110/160\n"
     ]
    },
    {
     "name": "stdout",
     "output_type": "stream",
     "text": [
      "552/552 [==============================] - 15s 27ms/step - loss: 6.6188e-04 - accuracy: 0.9948 - val_loss: 0.0011 - val_accuracy: 0.9919\n",
      "Epoch 111/160\n",
      "552/552 [==============================] - 15s 27ms/step - loss: 6.4042e-04 - accuracy: 0.9959 - val_loss: 0.0011 - val_accuracy: 0.9919\n",
      "Epoch 112/160\n",
      "552/552 [==============================] - 12s 22ms/step - loss: 6.2113e-04 - accuracy: 0.9948 - val_loss: 8.4931e-04 - val_accuracy: 0.9837\n",
      "Epoch 113/160\n",
      "552/552 [==============================] - 13s 23ms/step - loss: 6.4164e-04 - accuracy: 0.9955 - val_loss: 0.0010 - val_accuracy: 0.9919\n",
      "Epoch 114/160\n",
      "552/552 [==============================] - 13s 23ms/step - loss: 6.5736e-04 - accuracy: 0.9943 - val_loss: 9.3414e-04 - val_accuracy: 0.9878\n",
      "Epoch 115/160\n",
      "552/552 [==============================] - 12s 22ms/step - loss: 6.3141e-04 - accuracy: 0.9948 - val_loss: 9.4964e-04 - val_accuracy: 0.9878\n",
      "Epoch 116/160\n",
      "552/552 [==============================] - 12s 22ms/step - loss: 6.5153e-04 - accuracy: 0.9952 - val_loss: 9.6517e-04 - val_accuracy: 0.9898\n",
      "Epoch 117/160\n",
      "552/552 [==============================] - 13s 23ms/step - loss: 6.5523e-04 - accuracy: 0.9959 - val_loss: 0.0010 - val_accuracy: 0.9919\n",
      "Epoch 118/160\n",
      "552/552 [==============================] - 12s 22ms/step - loss: 6.3515e-04 - accuracy: 0.9950 - val_loss: 0.0011 - val_accuracy: 0.9878\n",
      "Epoch 119/160\n",
      "552/552 [==============================] - 13s 23ms/step - loss: 6.4707e-04 - accuracy: 0.9941 - val_loss: 0.0013 - val_accuracy: 0.9857\n",
      "Epoch 120/160\n",
      "552/552 [==============================] - 12s 22ms/step - loss: 6.5103e-04 - accuracy: 0.9955 - val_loss: 0.0011 - val_accuracy: 0.9878\n",
      "Epoch 121/160\n",
      "552/552 [==============================] - 12s 22ms/step - loss: 5.9912e-04 - accuracy: 0.9941 - val_loss: 0.0013 - val_accuracy: 0.9959\n",
      "Epoch 122/160\n",
      "552/552 [==============================] - 12s 23ms/step - loss: 6.7004e-04 - accuracy: 0.9950 - val_loss: 8.8824e-04 - val_accuracy: 0.9898\n",
      "Epoch 123/160\n",
      "552/552 [==============================] - 13s 23ms/step - loss: 6.3101e-04 - accuracy: 0.9941 - val_loss: 0.0012 - val_accuracy: 0.9898\n",
      "Epoch 124/160\n",
      "552/552 [==============================] - 13s 23ms/step - loss: 6.3279e-04 - accuracy: 0.9952 - val_loss: 0.0011 - val_accuracy: 0.9857\n",
      "Epoch 125/160\n",
      "552/552 [==============================] - 13s 23ms/step - loss: 6.1294e-04 - accuracy: 0.9950 - val_loss: 9.2390e-04 - val_accuracy: 0.9898\n",
      "Epoch 126/160\n",
      "552/552 [==============================] - 13s 23ms/step - loss: 6.5147e-04 - accuracy: 0.9950 - val_loss: 9.9483e-04 - val_accuracy: 0.9939\n",
      "Epoch 127/160\n",
      "552/552 [==============================] - 13s 23ms/step - loss: 5.9757e-04 - accuracy: 0.9950 - val_loss: 9.6171e-04 - val_accuracy: 0.9919\n",
      "Epoch 128/160\n",
      "552/552 [==============================] - 13s 24ms/step - loss: 6.1954e-04 - accuracy: 0.9952 - val_loss: 0.0010 - val_accuracy: 0.9919\n",
      "Epoch 129/160\n",
      "552/552 [==============================] - 13s 24ms/step - loss: 6.1367e-04 - accuracy: 0.9952 - val_loss: 0.0011 - val_accuracy: 0.9939\n",
      "Epoch 130/160\n",
      "552/552 [==============================] - 12s 23ms/step - loss: 6.0892e-04 - accuracy: 0.9957 - val_loss: 9.9872e-04 - val_accuracy: 0.9919\n",
      "Epoch 131/160\n",
      "552/552 [==============================] - 13s 24ms/step - loss: 5.8888e-04 - accuracy: 0.9932 - val_loss: 0.0011 - val_accuracy: 0.9857\n",
      "Epoch 132/160\n",
      "552/552 [==============================] - 13s 23ms/step - loss: 6.0694e-04 - accuracy: 0.9932 - val_loss: 0.0010 - val_accuracy: 0.9898\n",
      "Epoch 133/160\n",
      "552/552 [==============================] - 13s 23ms/step - loss: 5.9528e-04 - accuracy: 0.9964 - val_loss: 0.0013 - val_accuracy: 0.9898\n",
      "Epoch 134/160\n",
      "552/552 [==============================] - 13s 23ms/step - loss: 5.9710e-04 - accuracy: 0.9955 - val_loss: 9.6693e-04 - val_accuracy: 0.9857\n",
      "Epoch 135/160\n",
      "552/552 [==============================] - 14s 25ms/step - loss: 5.9533e-04 - accuracy: 0.9950 - val_loss: 0.0010 - val_accuracy: 0.9898\n",
      "Epoch 136/160\n",
      "552/552 [==============================] - 13s 23ms/step - loss: 6.0248e-04 - accuracy: 0.9957 - val_loss: 8.3156e-04 - val_accuracy: 0.9919\n",
      "Epoch 137/160\n",
      "552/552 [==============================] - 13s 23ms/step - loss: 5.8357e-04 - accuracy: 0.9959 - val_loss: 0.0010 - val_accuracy: 0.9837\n",
      "Epoch 138/160\n",
      "552/552 [==============================] - 13s 23ms/step - loss: 5.8051e-04 - accuracy: 0.9968 - val_loss: 9.5624e-04 - val_accuracy: 0.9959\n",
      "Epoch 139/160\n",
      "552/552 [==============================] - 13s 23ms/step - loss: 5.7703e-04 - accuracy: 0.9962 - val_loss: 8.9928e-04 - val_accuracy: 0.9898\n",
      "Epoch 140/160\n",
      "552/552 [==============================] - 13s 23ms/step - loss: 5.8255e-04 - accuracy: 0.9957 - val_loss: 9.0415e-04 - val_accuracy: 0.9939\n",
      "Epoch 141/160\n",
      "552/552 [==============================] - 13s 23ms/step - loss: 5.6869e-04 - accuracy: 0.9955 - val_loss: 0.0013 - val_accuracy: 0.9939\n",
      "Epoch 142/160\n",
      "552/552 [==============================] - 14s 25ms/step - loss: 5.8428e-04 - accuracy: 0.9959 - val_loss: 0.0012 - val_accuracy: 0.9939\n",
      "Epoch 143/160\n",
      "552/552 [==============================] - 12s 23ms/step - loss: 5.7726e-04 - accuracy: 0.9959 - val_loss: 8.2107e-04 - val_accuracy: 0.9878\n",
      "Epoch 144/160\n",
      "552/552 [==============================] - 12s 22ms/step - loss: 5.9473e-04 - accuracy: 0.9955 - val_loss: 0.0018 - val_accuracy: 0.9857\n",
      "Epoch 145/160\n",
      "552/552 [==============================] - 12s 22ms/step - loss: 5.7663e-04 - accuracy: 0.9968 - val_loss: 9.8244e-04 - val_accuracy: 0.9857\n",
      "Epoch 146/160\n",
      "552/552 [==============================] - 12s 22ms/step - loss: 5.8064e-04 - accuracy: 0.9964 - val_loss: 9.1053e-04 - val_accuracy: 0.9980\n",
      "Epoch 147/160\n",
      "552/552 [==============================] - 12s 21ms/step - loss: 5.7270e-04 - accuracy: 0.9968 - val_loss: 0.0011 - val_accuracy: 0.9857\n",
      "Epoch 148/160\n",
      "552/552 [==============================] - 12s 22ms/step - loss: 5.6418e-04 - accuracy: 0.9955 - val_loss: 9.3689e-04 - val_accuracy: 0.9878\n",
      "Epoch 149/160\n",
      "552/552 [==============================] - 12s 22ms/step - loss: 5.9549e-04 - accuracy: 0.9952 - val_loss: 9.4521e-04 - val_accuracy: 0.9878\n",
      "Epoch 150/160\n",
      "552/552 [==============================] - 12s 22ms/step - loss: 5.7087e-04 - accuracy: 0.9957 - val_loss: 0.0010 - val_accuracy: 0.9939\n",
      "Epoch 151/160\n",
      "552/552 [==============================] - 13s 23ms/step - loss: 5.6513e-04 - accuracy: 0.9950 - val_loss: 9.4755e-04 - val_accuracy: 0.9878: 0s - loss: 5.6\n",
      "Epoch 152/160\n",
      "552/552 [==============================] - 12s 23ms/step - loss: 5.6464e-04 - accuracy: 0.9957 - val_loss: 8.3348e-04 - val_accuracy: 0.9919\n",
      "Epoch 153/160\n",
      "552/552 [==============================] - 13s 24ms/step - loss: 5.4758e-04 - accuracy: 0.9948 - val_loss: 9.4103e-04 - val_accuracy: 0.9959\n",
      "Epoch 154/160\n",
      "552/552 [==============================] - 12s 22ms/step - loss: 5.6339e-04 - accuracy: 0.9966 - val_loss: 8.9587e-04 - val_accuracy: 0.9939\n",
      "Epoch 155/160\n",
      "552/552 [==============================] - 12s 22ms/step - loss: 5.6260e-04 - accuracy: 0.9950 - val_loss: 8.7080e-04 - val_accuracy: 0.9898\n",
      "Epoch 156/160\n",
      "552/552 [==============================] - 12s 22ms/step - loss: 5.4055e-04 - accuracy: 0.9959 - val_loss: 9.5690e-04 - val_accuracy: 0.9898\n",
      "Epoch 157/160\n",
      "552/552 [==============================] - 12s 22ms/step - loss: 5.7250e-04 - accuracy: 0.9964 - val_loss: 8.6384e-04 - val_accuracy: 0.9939\n",
      "Epoch 158/160\n",
      "552/552 [==============================] - 12s 22ms/step - loss: 5.5619e-04 - accuracy: 0.9946 - val_loss: 9.8790e-04 - val_accuracy: 0.9919\n",
      "Epoch 159/160\n",
      "552/552 [==============================] - 12s 21ms/step - loss: 5.5084e-04 - accuracy: 0.9948 - val_loss: 7.9118e-04 - val_accuracy: 0.9878\n",
      "Epoch 160/160\n",
      "552/552 [==============================] - 12s 22ms/step - loss: 5.5065e-04 - accuracy: 0.9948 - val_loss: 9.2269e-04 - val_accuracy: 0.9898\n"
     ]
    }
   ],
   "source": [
    "Batch_Size = 8\n",
    "Epoch_Anz = 160\n",
    "Shift_Range = 3\n",
    "Brightness_Range = 0.3\n",
    "\n",
    "datagen = ImageDataGenerator(width_shift_range=[-Shift_Range,Shift_Range], height_shift_range=[-Shift_Range,Shift_Range],brightness_range=[1-Brightness_Range,1+Brightness_Range])\n",
    "\n",
    "train_iterator = datagen.flow(X_train, y_train, batch_size=Batch_Size)\n",
    "validation_iterator = datagen.flow(X_test, y_test, batch_size=Batch_Size)\n",
    "\n",
    "history = model.fit_generator(train_iterator, validation_data = validation_iterator, epochs = Epoch_Anz)"
   ]
  },
  {
   "cell_type": "markdown",
   "metadata": {},
   "source": [
    "### Overall Learing results (Step 1 & Step 2)"
   ]
  },
  {
   "cell_type": "code",
   "execution_count": 7,
   "metadata": {},
   "outputs": [
    {
     "data": {
      "image/png": "[encoded data removed]",
      "text/plain": [
       "<Figure size 432x288 with 1 Axes>"
      ]
     },
     "metadata": {
      "needs_background": "light"
     },
     "output_type": "display_data"
    }
   ],
   "source": [
    "loss_ges = np.append(loss_ges, history.history['loss'])\n",
    "val_loss_ges = np.append(val_loss_ges, history.history['val_loss'])\n",
    "\n",
    "plt.semilogy(loss_ges)\n",
    "plt.semilogy(val_loss_ges)\n",
    "plt.title('model loss')\n",
    "plt.ylabel('loss')\n",
    "plt.xlabel('epoch')\n",
    "plt.legend(['train','eval'], loc='upper left')\n",
    "plt.show()"
   ]
  },
  {
   "cell_type": "markdown",
   "metadata": {},
   "source": [
    "### Check the model by hand\n",
    "\n",
    "* The following code uses the trained model to check the deviation for each picture.\n",
    "* The evaluation takes the periodic character of the results into account (dev1 ... dev2).\n",
    "* Images, that have a bigger deviation as the parameter \"deviation_max_list\" are printed in a list to check the picture and labeling itself"
   ]
  },
  {
   "cell_type": "code",
   "execution_count": 8,
   "metadata": {},
   "outputs": [
    {
     "name": "stdout",
     "output_type": "stream",
     "text": [
      "data_resize_all\\0.1_0055_zeiger1_2020-04-29_10-58-40.jpg 0.01 0.10222400724024815 -0.09222400724024815\n",
      "data_resize_all\\0.1_0056_zeiger1_2020-04-29_13-37-02.jpg 0.01 0.06827973627400728 -0.05827973627400728\n",
      "data_resize_all\\0.2_0098_zeiger1_2020-04-29_11-00-02.jpg 0.02 0.09242369133690766 -0.07242369133690765\n",
      "data_resize_all\\0.9_0314_zeiger1_2020-04-29_13-42-02.jpg 0.09 0.14256023010706773 -0.05256023010706773\n"
     ]
    }
   ],
   "source": [
    "Input_dir='data_resize_all'\n",
    "#Input_dir='test_result'\n",
    "files = glob.glob(Input_dir + '/*.*')\n",
    "res = []\n",
    "i = 0\n",
    "deviation_max_list = 0.05\n",
    "\n",
    "for aktfile in files:\n",
    "    base = os.path.basename(aktfile)\n",
    "    target = (float(base[0:3])) / 10\n",
    "    target_sin = math.sin(target * math.pi * 2)\n",
    "    target_cos = math.cos(target * math.pi * 2)\n",
    "\n",
    "    test_image = Image.open(aktfile)\n",
    "    test_image = np.array(test_image, dtype=\"float32\")\n",
    "    img = np.reshape(test_image,[1,32,32,3])\n",
    "    classes = model.predict(img)\n",
    "    \n",
    "    out_sin = classes[0][0]  \n",
    "    out_cos = classes[0][1]\n",
    "    out_target = (np.arctan2(out_sin, out_cos)/(2*math.pi)) % 1\n",
    "\n",
    "    dev_sin = target_sin - out_sin\n",
    "    dev_cos = target_cos - out_cos\n",
    "    dev_target = target - out_target\n",
    "    \n",
    "    if abs(dev_target + 1) < abs(dev_target):\n",
    "        out_target = out_target - 1\n",
    "        dev_target = target - out_target\n",
    "    else:\n",
    "        if abs(dev_target - 1) < abs(dev_target):\n",
    "            out_target = out_target + 1\n",
    "            dev_target = target - out_target\n",
    "               \n",
    "    res.append(np.array([target, out_target, dev_target, out_sin, out_cos, i]))\n",
    "    if abs(dev_target) > deviation_max_list:\n",
    "        print(aktfile + \" \" + str(target) + \" \" + str(out_target) +  \" \" + str(dev_target))\n",
    "    i+=1\n",
    "\n",
    "res = np.asarray(res)\n",
    "res_step_1 = res"
   ]
  },
  {
   "cell_type": "markdown",
   "metadata": {},
   "source": [
    "## Results"
   ]
  },
  {
   "cell_type": "code",
   "execution_count": 9,
   "metadata": {},
   "outputs": [
    {
     "data": {
      "image/png": "[encoded data removed]",
      "text/plain": [
       "<Figure size 432x288 with 1 Axes>"
      ]
     },
     "metadata": {
      "needs_background": "light"
     },
     "output_type": "display_data"
    }
   ],
   "source": [
    "plt.plot(res[:,3])\n",
    "plt.plot(res[:,4])\n",
    "plt.title('Result')\n",
    "plt.ylabel('value')\n",
    "plt.xlabel('#Picture')\n",
    "plt.legend(['sin', 'cos'], loc='lower left')\n",
    "plt.show()"
   ]
  },
  {
   "cell_type": "code",
   "execution_count": 10,
   "metadata": {},
   "outputs": [
    {
     "data": {
      "image/png": "[encoded data removed]",
      "text/plain": [
       "<Figure size 432x288 with 1 Axes>"
      ]
     },
     "metadata": {
      "needs_background": "light"
     },
     "output_type": "display_data"
    }
   ],
   "source": [
    "plt.plot(res[:,0])\n",
    "plt.plot(res[:,1])\n",
    "plt.title('Result')\n",
    "plt.ylabel('Counter Value')\n",
    "plt.xlabel('#Picture')\n",
    "plt.legend(['Orginal', 'Prediction'], loc='upper left')\n",
    "plt.show()"
   ]
  },
  {
   "cell_type": "markdown",
   "metadata": {},
   "source": [
    "### Deviation from Expected Value"
   ]
  },
  {
   "cell_type": "code",
   "execution_count": 11,
   "metadata": {},
   "outputs": [
    {
     "data": {
      "image/png": "[encoded data removed]",
      "text/plain": [
       "<Figure size 432x288 with 1 Axes>"
      ]
     },
     "metadata": {
      "needs_background": "light"
     },
     "output_type": "display_data"
    },
    {
     "name": "stdout",
     "output_type": "stream",
     "text": [
      "[ 0.0005  0.0104 -0.0922  0.0479]\n"
     ]
    }
   ],
   "source": [
    "plt.plot(res[:,2])\n",
    "plt.title('Deviation')\n",
    "plt.ylabel('Deviation from expected value')\n",
    "plt.xlabel('#Picture')\n",
    "plt.legend(['Deviation'], loc='upper left')\n",
    "#plt.ylim(-0.3, 0.3)\n",
    "plt.show()\n",
    "\n",
    "statistic = np.array([np.mean(res[:,2]), np.std(res[:,2]), np.min(res[:,2]), np.max(res[:,2])])\n",
    "print(statistic)"
   ]
  },
  {
   "cell_type": "markdown",
   "metadata": {},
   "source": [
    "### Save the model\n",
    "\n",
    "* Save the model to the file with the \"h5\" file format"
   ]
  },
  {
   "cell_type": "code",
   "execution_count": 12,
   "metadata": {},
   "outputs": [
    {
     "data": {
      "text/plain": [
       "134180"
      ]
     },
     "execution_count": 12,
     "metadata": {},
     "output_type": "execute_result"
    }
   ],
   "source": [
    "# model.save(\"CNN_Analog-Readout_Version-6.2.0.h5\")\n",
    "\n",
    "converter = tf.lite.TFLiteConverter.from_keras_model(model)\n",
    "tflite_model = converter.convert()\n",
    "open(\"CNN_Analog-Readout_Version-6.3.0-Small2.tflite\", \"wb\").write(tflite_model)"
   ]
  }
 ],
 "metadata": {
  "kernelspec": {
   "display_name": "Python 3",
   "language": "python",
   "name": "python3"
  },
  "language_info": {
   "codemirror_mode": {
    "name": "ipython",
    "version": 3
   },
   "file_extension": ".py",
   "mimetype": "text/x-python",
   "name": "python",
   "nbconvert_exporter": "python",
   "pygments_lexer": "ipython3",
   "version": "3.7.7"
  }
 },
 "nbformat": 4,
 "nbformat_minor": 2
}
