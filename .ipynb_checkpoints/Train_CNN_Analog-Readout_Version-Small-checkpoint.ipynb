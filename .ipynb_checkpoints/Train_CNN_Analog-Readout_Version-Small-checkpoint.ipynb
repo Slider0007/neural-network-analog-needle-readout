{
 "cells": [
  {
   "cell_type": "markdown",
   "metadata": {},
   "source": [
    "# CNN Training\n",
    "\n",
    "Target of this code is to train a CNN network to extract the needle position of an analog needle device.\n",
    "\n",
    "### Preparing the training\n",
    "* First all libraries are loaded\n",
    "    * It is assumed, that they are installed during the Python setup\n",
    "* matplotlib is set to print the output inline in the jupyter notebook"
   ]
  },
  {
   "cell_type": "code",
   "execution_count": 1,
   "metadata": {
    "scrolled": true
   },
   "outputs": [],
   "source": [
    "import os\n",
    "import tensorflow as tf\n",
    "import matplotlib.pyplot as plt\n",
    "import glob\n",
    "import numpy as np\n",
    "from sklearn.utils import shuffle\n",
    "from tensorflow.python import keras\n",
    "from tensorflow.python.keras import Sequential\n",
    "from tensorflow.python.keras.layers import Dense, InputLayer, Conv2D, MaxPool2D, Flatten, BatchNormalization\n",
    "from tensorflow.keras.preprocessing.image import ImageDataGenerator\n",
    "from sklearn.model_selection import train_test_split\n",
    "import tensorflow.keras.backend as K\n",
    "from tensorflow.keras.callbacks import History \n",
    "import math\n",
    "from PIL import Image \n",
    "\n",
    "loss_ges = np.array([])\n",
    "val_loss_ges = np.array([])\n",
    "\n",
    "%matplotlib inline\n",
    "np.set_printoptions(precision=4)\n",
    "np.set_printoptions(suppress=True)"
   ]
  },
  {
   "cell_type": "markdown",
   "metadata": {},
   "source": [
    "### Load training data\n",
    "* The data is expected in the \"Input_dir\"\n",
    "* Picture size must be 32x32 with 3 color channels (RGB)\n",
    "* The filename contains the informations needed for training in the first 3 digits::\n",
    "* Typical filename: \n",
    "    * x.y-zzzz.jpg \n",
    "    * e.g. \"4.6_Lfd-1406_zeiger3_2019-06-02T050011\"\n",
    "\n",
    "|Place holder | Meaning                     | Usage        |\n",
    "|------------- |-----------------------------|--------------|\n",
    "| **x.y**          | readout value               | **to be learned** |\n",
    "| zzzz        | additional information              | not needed   |\n",
    "\n",
    "* The images are stored in the x_data[]\n",
    "* The expected output for each image in the corresponding y_data[]\n",
    "    * The periodic nature is reflected in a **sin/cos coding**, which allows to restore the angle/counter value with an arctan later on.\n",
    "\n",
    "* The last step is a shuffle (from sklearn.utils) as the filenames are on order due to the encoding of the expected analog readout in the filename "
   ]
  },
  {
   "cell_type": "code",
   "execution_count": 2,
   "metadata": {},
   "outputs": [
    {
     "name": "stdout",
     "output_type": "stream",
     "text": [
      "(4907, 32, 32, 3)\n",
      "(4907, 2)\n"
     ]
    }
   ],
   "source": [
    "Input_dir='data_resize_all'\n",
    "\n",
    "files = glob.glob(Input_dir + '/*.*')\n",
    "x_data = []\n",
    "y_data = []\n",
    "\n",
    "for aktfile in files:\n",
    "    test_image = Image.open(aktfile)\n",
    "    test_image = np.array(test_image, dtype=\"float32\")\n",
    "    test_image = np.reshape(test_image, (32,32,3))\n",
    "    base = os.path.basename(aktfile)\n",
    "    target_number = (float(base[0:3])) / 10\n",
    "    target_sin = math.sin(target_number * math.pi * 2)\n",
    "    target_cos = math.cos(target_number * math.pi * 2)\n",
    "\n",
    "    x_data.append(test_image)\n",
    "    zw = np.array([target_sin, target_cos])\n",
    "    y_data.append(zw)\n",
    "\n",
    "x_data = np.array(x_data)\n",
    "y_data = np.array(y_data)\n",
    "print(x_data.shape)\n",
    "print(y_data.shape)\n",
    "\n",
    "x_data, y_data = shuffle(x_data, y_data)\n",
    "X_train, X_test, y_train, y_test = train_test_split(x_data, y_data, test_size=0.1)"
   ]
  },
  {
   "cell_type": "markdown",
   "metadata": {},
   "source": [
    "### Define the model\n",
    "\n",
    "The layout of the network ist a typcial CNN network with alternating **Conv2D** and **MaxPool2D** layers. Finished after **flattening** with additional **Dense** layer.\n",
    "\n",
    "#### Important\n",
    "* Shape of the input layer: (32, 32, 3)\n",
    "* Shape of the output layer: (2) - sin and cos"
   ]
  },
  {
   "cell_type": "code",
   "execution_count": 3,
   "metadata": {
    "scrolled": true
   },
   "outputs": [
    {
     "name": "stdout",
     "output_type": "stream",
     "text": [
      "Model: \"sequential\"\n",
      "_________________________________________________________________\n",
      "Layer (type)                 Output Shape              Param #   \n",
      "=================================================================\n",
      "batch_normalization (BatchNo (None, 32, 32, 3)         12        \n",
      "_________________________________________________________________\n",
      "conv2d (Conv2D)              (None, 32, 32, 32)        2432      \n",
      "_________________________________________________________________\n",
      "max_pooling2d (MaxPooling2D) (None, 8, 8, 32)          0         \n",
      "_________________________________________________________________\n",
      "conv2d_1 (Conv2D)            (None, 8, 8, 8)           6408      \n",
      "_________________________________________________________________\n",
      "max_pooling2d_1 (MaxPooling2 (None, 2, 2, 8)           0         \n",
      "_________________________________________________________________\n",
      "conv2d_2 (Conv2D)            (None, 2, 2, 8)           584       \n",
      "_________________________________________________________________\n",
      "max_pooling2d_2 (MaxPooling2 (None, 1, 1, 8)           0         \n",
      "_________________________________________________________________\n",
      "flatten (Flatten)            (None, 8)                 0         \n",
      "_________________________________________________________________\n",
      "dense (Dense)                (None, 32)                288       \n",
      "_________________________________________________________________\n",
      "dense_1 (Dense)              (None, 16)                528       \n",
      "_________________________________________________________________\n",
      "dense_2 (Dense)              (None, 2)                 34        \n",
      "=================================================================\n",
      "Total params: 10,286\n",
      "Trainable params: 10,280\n",
      "Non-trainable params: 6\n",
      "_________________________________________________________________\n"
     ]
    }
   ],
   "source": [
    "model = Sequential()\n",
    "model.add(BatchNormalization(input_shape=(32,32,3)))\n",
    "model.add(Conv2D(32, (5, 5), input_shape=(32,32,3), padding='same', activation=\"relu\"))\n",
    "model.add(MaxPool2D(pool_size=(4,4)))\n",
    "model.add(Conv2D(8, (5, 5), padding='same', activation=\"relu\"))\n",
    "model.add(MaxPool2D(pool_size=(4,4)))\n",
    "model.add(Conv2D(8, (3, 3), padding='same', activation=\"relu\"))\n",
    "model.add(MaxPool2D(pool_size=(2,2)))\n",
    "model.add(Flatten())\n",
    "model.add(Dense(32,activation=\"relu\"))\n",
    "model.add(Dense(16,activation=\"relu\"))\n",
    "model.add(Dense(2))\n",
    "model.summary()\n",
    "\n",
    "model.compile(loss=keras.losses.mean_squared_error, optimizer=tf.keras.optimizers.Adadelta(learning_rate=1.0, rho=0.95), metrics = [\"accuracy\"])"
   ]
  },
  {
   "cell_type": "markdown",
   "metadata": {},
   "source": [
    "# Training\n",
    "The input pictures are randomly scattered for brightness and pixel shift variations. These is implemented with a ImageDataGenerator.\n",
    "\n",
    "\n",
    "The training is splitted into two steps:\n",
    "1. Variation of the brightness only\n",
    "2. Variation of brightness and Pixel Shift"
   ]
  },
  {
   "cell_type": "markdown",
   "metadata": {},
   "source": [
    "### Step 1: Brigthness scattering only"
   ]
  },
  {
   "cell_type": "code",
   "execution_count": 4,
   "metadata": {},
   "outputs": [
    {
     "name": "stdout",
     "output_type": "stream",
     "text": [
      "WARNING:tensorflow:From <ipython-input-4-9f5ba6453a73>:11: Model.fit_generator (from tensorflow.python.keras.engine.training) is deprecated and will be removed in a future version.\n",
      "Instructions for updating:\n",
      "Please use Model.fit, which supports generators.\n",
      "Epoch 1/30\n",
      "552/552 [==============================] - 20s 36ms/step - loss: 0.1764 - accuracy: 0.8505 - val_loss: 0.0339 - val_accuracy: 0.9511\n",
      "Epoch 2/30\n",
      "552/552 [==============================] - 18s 33ms/step - loss: 0.0285 - accuracy: 0.9554 - val_loss: 0.0153 - val_accuracy: 0.9878\n",
      "Epoch 3/30\n",
      "552/552 [==============================] - 18s 33ms/step - loss: 0.0196 - accuracy: 0.9620 - val_loss: 0.0139 - val_accuracy: 0.9776\n",
      "Epoch 4/30\n",
      "552/552 [==============================] - 20s 36ms/step - loss: 0.0154 - accuracy: 0.9635 - val_loss: 0.0087 - val_accuracy: 0.9878\n",
      "Epoch 5/30\n",
      "552/552 [==============================] - 19s 35ms/step - loss: 0.0123 - accuracy: 0.9692 - val_loss: 0.0197 - val_accuracy: 0.9613\n",
      "Epoch 6/30\n",
      "552/552 [==============================] - 20s 36ms/step - loss: 0.0105 - accuracy: 0.9703 - val_loss: 0.0123 - val_accuracy: 0.9756\n",
      "Epoch 7/30\n",
      "552/552 [==============================] - 19s 35ms/step - loss: 0.0084 - accuracy: 0.9755 - val_loss: 0.0057 - val_accuracy: 0.9735\n",
      "Epoch 8/30\n",
      "552/552 [==============================] - 20s 35ms/step - loss: 0.0079 - accuracy: 0.9731 - val_loss: 0.0082 - val_accuracy: 0.9756\n",
      "Epoch 9/30\n",
      "552/552 [==============================] - 20s 35ms/step - loss: 0.0066 - accuracy: 0.9767 - val_loss: 0.0084 - val_accuracy: 0.9837\n",
      "Epoch 10/30\n",
      "552/552 [==============================] - 18s 33ms/step - loss: 0.0057 - accuracy: 0.9808 - val_loss: 0.0041 - val_accuracy: 0.9857\n",
      "Epoch 11/30\n",
      "552/552 [==============================] - 18s 33ms/step - loss: 0.0052 - accuracy: 0.9819 - val_loss: 0.0039 - val_accuracy: 0.9776\n",
      "Epoch 12/30\n",
      "552/552 [==============================] - 19s 35ms/step - loss: 0.0044 - accuracy: 0.9803 - val_loss: 0.0054 - val_accuracy: 0.9878\n",
      "Epoch 13/30\n",
      "552/552 [==============================] - 19s 34ms/step - loss: 0.0042 - accuracy: 0.9798 - val_loss: 0.0025 - val_accuracy: 0.9796\n",
      "Epoch 14/30\n",
      "552/552 [==============================] - 18s 33ms/step - loss: 0.0038 - accuracy: 0.9826 - val_loss: 0.0028 - val_accuracy: 0.9878\n",
      "Epoch 15/30\n",
      "552/552 [==============================] - 18s 33ms/step - loss: 0.0036 - accuracy: 0.9814 - val_loss: 0.0039 - val_accuracy: 0.9878\n",
      "Epoch 16/30\n",
      "552/552 [==============================] - 20s 36ms/step - loss: 0.0033 - accuracy: 0.9848 - val_loss: 0.0027 - val_accuracy: 0.9817\n",
      "Epoch 17/30\n",
      "552/552 [==============================] - 19s 35ms/step - loss: 0.0028 - accuracy: 0.9860 - val_loss: 0.0032 - val_accuracy: 0.9837\n",
      "Epoch 18/30\n",
      "552/552 [==============================] - 19s 34ms/step - loss: 0.0029 - accuracy: 0.9835 - val_loss: 0.0072 - val_accuracy: 0.9552\n",
      "Epoch 19/30\n",
      "552/552 [==============================] - 20s 37ms/step - loss: 0.0028 - accuracy: 0.9837 - val_loss: 0.0034 - val_accuracy: 0.9837\n",
      "Epoch 20/30\n",
      "552/552 [==============================] - 21s 38ms/step - loss: 0.0026 - accuracy: 0.9860 - val_loss: 0.0026 - val_accuracy: 0.9919\n",
      "Epoch 21/30\n",
      "552/552 [==============================] - 21s 38ms/step - loss: 0.0025 - accuracy: 0.9848 - val_loss: 0.0019 - val_accuracy: 0.9735\n",
      "Epoch 22/30\n",
      "552/552 [==============================] - 26s 47ms/step - loss: 0.0024 - accuracy: 0.9869 - val_loss: 0.0022 - val_accuracy: 0.9837\n",
      "Epoch 23/30\n",
      "552/552 [==============================] - 21s 39ms/step - loss: 0.0022 - accuracy: 0.9909 - val_loss: 0.0019 - val_accuracy: 0.9837\n",
      "Epoch 24/30\n",
      "552/552 [==============================] - 21s 37ms/step - loss: 0.0021 - accuracy: 0.9880 - val_loss: 0.0023 - val_accuracy: 0.9878\n",
      "Epoch 25/30\n",
      "552/552 [==============================] - 19s 34ms/step - loss: 0.0020 - accuracy: 0.9889 - val_loss: 0.0019 - val_accuracy: 0.9898\n",
      "Epoch 26/30\n",
      "552/552 [==============================] - 18s 33ms/step - loss: 0.0020 - accuracy: 0.9862 - val_loss: 0.0025 - val_accuracy: 0.9796\n",
      "Epoch 27/30\n",
      "552/552 [==============================] - 19s 35ms/step - loss: 0.0020 - accuracy: 0.9866 - val_loss: 0.0024 - val_accuracy: 0.9898\n",
      "Epoch 28/30\n",
      "552/552 [==============================] - 19s 34ms/step - loss: 0.0019 - accuracy: 0.9896 - val_loss: 0.0031 - val_accuracy: 0.9837\n",
      "Epoch 29/30\n",
      "552/552 [==============================] - 20s 35ms/step - loss: 0.0018 - accuracy: 0.9898 - val_loss: 0.0017 - val_accuracy: 0.9919\n",
      "Epoch 30/30\n",
      "552/552 [==============================] - 19s 35ms/step - loss: 0.0018 - accuracy: 0.9894 - val_loss: 0.0016 - val_accuracy: 0.9898\n"
     ]
    }
   ],
   "source": [
    "Batch_Size = 8\n",
    "Epoch_Anz = 30\n",
    "Shift_Range = 0\n",
    "Brightness_Range = 0.3\n",
    "\n",
    "datagen = ImageDataGenerator(width_shift_range=[-Shift_Range,Shift_Range], height_shift_range=[-Shift_Range,Shift_Range],brightness_range=[1-Brightness_Range,1+Brightness_Range])\n",
    "\n",
    "train_iterator = datagen.flow(X_train, y_train, batch_size=Batch_Size)\n",
    "validation_iterator = datagen.flow(X_test, y_test, batch_size=Batch_Size)\n",
    "\n",
    "history = model.fit_generator(train_iterator, validation_data = validation_iterator, epochs = Epoch_Anz)"
   ]
  },
  {
   "cell_type": "markdown",
   "metadata": {},
   "source": [
    "### Step 1: Learing result\n",
    " \n",
    "* Visualization of the training and validation results"
   ]
  },
  {
   "cell_type": "code",
   "execution_count": 5,
   "metadata": {},
   "outputs": [
    {
     "data": {
      "image/png": "[encoded data removed]",
      "text/plain": [
       "<Figure size 432x288 with 1 Axes>"
      ]
     },
     "metadata": {
      "needs_background": "light"
     },
     "output_type": "display_data"
    }
   ],
   "source": [
    "loss_ges = np.append(loss_ges, history.history['loss'])\n",
    "val_loss_ges = np.append(val_loss_ges, history.history['val_loss'])\n",
    "\n",
    "plt.semilogy(history.history['loss'])\n",
    "plt.semilogy(history.history['val_loss'])\n",
    "plt.title('model loss')\n",
    "plt.ylabel('loss')\n",
    "plt.xlabel('epoch')\n",
    "plt.legend(['train','eval'], loc='upper left')\n",
    "plt.show()"
   ]
  },
  {
   "cell_type": "markdown",
   "metadata": {},
   "source": [
    "### Step 2: Brigthness and Pixel Shift scattering\n",
    "Here a higher number of epochs is used to reach the minimum loss function"
   ]
  },
  {
   "cell_type": "code",
   "execution_count": 6,
   "metadata": {},
   "outputs": [
    {
     "name": "stdout",
     "output_type": "stream",
     "text": [
      "Epoch 1/80\n",
      "552/552 [==============================] - 21s 37ms/step - loss: 0.0529 - accuracy: 0.9237 - val_loss: 0.0161 - val_accuracy: 0.9593\n",
      "Epoch 2/80\n",
      "552/552 [==============================] - 23s 41ms/step - loss: 0.0164 - accuracy: 0.9545 - val_loss: 0.0136 - val_accuracy: 0.9633\n",
      "Epoch 3/80\n",
      "552/552 [==============================] - 21s 38ms/step - loss: 0.0115 - accuracy: 0.9638 - val_loss: 0.0105 - val_accuracy: 0.9552\n",
      "Epoch 4/80\n",
      "552/552 [==============================] - 20s 37ms/step - loss: 0.0099 - accuracy: 0.9665 - val_loss: 0.0115 - val_accuracy: 0.9756\n",
      "Epoch 5/80\n",
      "552/552 [==============================] - 21s 38ms/step - loss: 0.0082 - accuracy: 0.9733 - val_loss: 0.0069 - val_accuracy: 0.9817\n",
      "Epoch 6/80\n",
      "552/552 [==============================] - 21s 37ms/step - loss: 0.0070 - accuracy: 0.9776 - val_loss: 0.0064 - val_accuracy: 0.9878\n",
      "Epoch 7/80\n",
      "552/552 [==============================] - 20s 36ms/step - loss: 0.0072 - accuracy: 0.9749 - val_loss: 0.0056 - val_accuracy: 0.9857\n",
      "Epoch 8/80\n",
      "552/552 [==============================] - 21s 38ms/step - loss: 0.0069 - accuracy: 0.9737 - val_loss: 0.0058 - val_accuracy: 0.9817\n",
      "Epoch 9/80\n",
      "552/552 [==============================] - 21s 38ms/step - loss: 0.0056 - accuracy: 0.9760 - val_loss: 0.0046 - val_accuracy: 0.9878\n",
      "Epoch 10/80\n",
      "552/552 [==============================] - 21s 38ms/step - loss: 0.0053 - accuracy: 0.9760 - val_loss: 0.0063 - val_accuracy: 0.9776\n",
      "Epoch 11/80\n",
      "552/552 [==============================] - 20s 36ms/step - loss: 0.0050 - accuracy: 0.9778 - val_loss: 0.0049 - val_accuracy: 0.9857\n",
      "Epoch 12/80\n",
      "552/552 [==============================] - 20s 36ms/step - loss: 0.0050 - accuracy: 0.9796 - val_loss: 0.0056 - val_accuracy: 0.9715\n",
      "Epoch 13/80\n",
      "552/552 [==============================] - 20s 36ms/step - loss: 0.0045 - accuracy: 0.9848 - val_loss: 0.0042 - val_accuracy: 0.9878\n",
      "Epoch 14/80\n",
      "552/552 [==============================] - 20s 36ms/step - loss: 0.0043 - accuracy: 0.9803 - val_loss: 0.0039 - val_accuracy: 0.9837\n",
      "Epoch 15/80\n",
      "552/552 [==============================] - 21s 37ms/step - loss: 0.0041 - accuracy: 0.9832 - val_loss: 0.0038 - val_accuracy: 0.9837\n",
      "Epoch 16/80\n",
      "552/552 [==============================] - 22s 39ms/step - loss: 0.0039 - accuracy: 0.9814 - val_loss: 0.0046 - val_accuracy: 0.9776\n",
      "Epoch 17/80\n",
      "552/552 [==============================] - 21s 38ms/step - loss: 0.0038 - accuracy: 0.9787 - val_loss: 0.0038 - val_accuracy: 0.9837\n",
      "Epoch 18/80\n",
      "552/552 [==============================] - 20s 37ms/step - loss: 0.0036 - accuracy: 0.9830 - val_loss: 0.0030 - val_accuracy: 0.9817\n",
      "Epoch 19/80\n",
      "552/552 [==============================] - 20s 36ms/step - loss: 0.0034 - accuracy: 0.9844 - val_loss: 0.0037 - val_accuracy: 0.9939\n",
      "Epoch 20/80\n",
      "552/552 [==============================] - 21s 38ms/step - loss: 0.0033 - accuracy: 0.9851 - val_loss: 0.0040 - val_accuracy: 0.9878\n",
      "Epoch 21/80\n",
      "552/552 [==============================] - 20s 37ms/step - loss: 0.0034 - accuracy: 0.9835 - val_loss: 0.0038 - val_accuracy: 0.9939\n",
      "Epoch 22/80\n",
      "552/552 [==============================] - 21s 38ms/step - loss: 0.0032 - accuracy: 0.9841 - val_loss: 0.0026 - val_accuracy: 0.9857\n",
      "Epoch 23/80\n",
      "552/552 [==============================] - 20s 37ms/step - loss: 0.0030 - accuracy: 0.9839 - val_loss: 0.0042 - val_accuracy: 0.9837\n",
      "Epoch 24/80\n",
      "552/552 [==============================] - 21s 38ms/step - loss: 0.0029 - accuracy: 0.9844 - val_loss: 0.0035 - val_accuracy: 0.9857\n",
      "Epoch 25/80\n",
      "552/552 [==============================] - 19s 34ms/step - loss: 0.0029 - accuracy: 0.9844 - val_loss: 0.0032 - val_accuracy: 0.9878\n",
      "Epoch 26/80\n",
      "552/552 [==============================] - 16s 29ms/step - loss: 0.0029 - accuracy: 0.9848 - val_loss: 0.0035 - val_accuracy: 0.9817\n",
      "Epoch 27/80\n",
      "552/552 [==============================] - 18s 33ms/step - loss: 0.0028 - accuracy: 0.9851 - val_loss: 0.0030 - val_accuracy: 0.9837\n",
      "Epoch 28/80\n",
      "552/552 [==============================] - 16s 29ms/step - loss: 0.0027 - accuracy: 0.9855 - val_loss: 0.0026 - val_accuracy: 0.9817\n",
      "Epoch 29/80\n",
      "552/552 [==============================] - 16s 28ms/step - loss: 0.0025 - accuracy: 0.9855 - val_loss: 0.0043 - val_accuracy: 0.9878\n",
      "Epoch 30/80\n",
      "552/552 [==============================] - 16s 29ms/step - loss: 0.0025 - accuracy: 0.9848 - val_loss: 0.0023 - val_accuracy: 0.9919\n",
      "Epoch 31/80\n",
      "552/552 [==============================] - 16s 28ms/step - loss: 0.0025 - accuracy: 0.9894 - val_loss: 0.0026 - val_accuracy: 0.9817\n",
      "Epoch 32/80\n",
      "552/552 [==============================] - 16s 30ms/step - loss: 0.0025 - accuracy: 0.9873 - val_loss: 0.0028 - val_accuracy: 0.9959\n",
      "Epoch 33/80\n",
      "552/552 [==============================] - 17s 30ms/step - loss: 0.0024 - accuracy: 0.9864 - val_loss: 0.0026 - val_accuracy: 0.9837\n",
      "Epoch 34/80\n",
      "552/552 [==============================] - 16s 29ms/step - loss: 0.0023 - accuracy: 0.9880 - val_loss: 0.0024 - val_accuracy: 0.9898\n",
      "Epoch 35/80\n",
      "552/552 [==============================] - 16s 29ms/step - loss: 0.0025 - accuracy: 0.9882 - val_loss: 0.0024 - val_accuracy: 0.9857\n",
      "Epoch 36/80\n",
      "552/552 [==============================] - 16s 30ms/step - loss: 0.0023 - accuracy: 0.9885 - val_loss: 0.0021 - val_accuracy: 0.9898\n",
      "Epoch 37/80\n",
      "552/552 [==============================] - 16s 29ms/step - loss: 0.0023 - accuracy: 0.9882 - val_loss: 0.0029 - val_accuracy: 0.9878\n",
      "Epoch 38/80\n",
      "552/552 [==============================] - 16s 29ms/step - loss: 0.0022 - accuracy: 0.9864 - val_loss: 0.0024 - val_accuracy: 0.9878\n",
      "Epoch 39/80\n",
      "552/552 [==============================] - 17s 30ms/step - loss: 0.0022 - accuracy: 0.9880 - val_loss: 0.0022 - val_accuracy: 0.9857\n",
      "Epoch 40/80\n",
      "552/552 [==============================] - 15s 28ms/step - loss: 0.0021 - accuracy: 0.9875 - val_loss: 0.0018 - val_accuracy: 0.9878\n",
      "Epoch 41/80\n",
      "552/552 [==============================] - 15s 28ms/step - loss: 0.0021 - accuracy: 0.9900 - val_loss: 0.0029 - val_accuracy: 0.9837\n",
      "Epoch 42/80\n",
      "552/552 [==============================] - 15s 27ms/step - loss: 0.0021 - accuracy: 0.9875 - val_loss: 0.0041 - val_accuracy: 0.9735 - los\n",
      "Epoch 43/80\n",
      "552/552 [==============================] - 15s 27ms/step - loss: 0.0021 - accuracy: 0.9885 - val_loss: 0.0026 - val_accuracy: 0.9878\n",
      "Epoch 44/80\n",
      "552/552 [==============================] - 15s 27ms/step - loss: 0.0021 - accuracy: 0.9875 - val_loss: 0.0024 - val_accuracy: 0.9817\n",
      "Epoch 45/80\n",
      "552/552 [==============================] - 15s 27ms/step - loss: 0.0020 - accuracy: 0.9882 - val_loss: 0.0020 - val_accuracy: 0.9857\n",
      "Epoch 46/80\n",
      "552/552 [==============================] - 14s 26ms/step - loss: 0.0021 - accuracy: 0.9882 - val_loss: 0.0022 - val_accuracy: 0.9878\n",
      "Epoch 47/80\n",
      "552/552 [==============================] - 14s 26ms/step - loss: 0.0020 - accuracy: 0.9873 - val_loss: 0.0023 - val_accuracy: 0.9878\n",
      "Epoch 48/80\n",
      "552/552 [==============================] - 15s 27ms/step - loss: 0.0020 - accuracy: 0.9875 - val_loss: 0.0028 - val_accuracy: 0.9919\n",
      "Epoch 49/80\n",
      "552/552 [==============================] - 15s 27ms/step - loss: 0.0020 - accuracy: 0.9889 - val_loss: 0.0022 - val_accuracy: 0.9796\n",
      "Epoch 50/80\n",
      "552/552 [==============================] - 15s 28ms/step - loss: 0.0019 - accuracy: 0.9871 - val_loss: 0.0023 - val_accuracy: 0.9817\n",
      "Epoch 51/80\n",
      "552/552 [==============================] - 15s 27ms/step - loss: 0.0020 - accuracy: 0.9851 - val_loss: 0.0024 - val_accuracy: 0.9857\n",
      "Epoch 52/80\n",
      "552/552 [==============================] - 15s 28ms/step - loss: 0.0018 - accuracy: 0.9905 - val_loss: 0.0017 - val_accuracy: 0.9878\n",
      "Epoch 53/80\n",
      "552/552 [==============================] - 14s 26ms/step - loss: 0.0018 - accuracy: 0.9896 - val_loss: 0.0021 - val_accuracy: 0.9857\n",
      "Epoch 54/80\n",
      "552/552 [==============================] - 14s 26ms/step - loss: 0.0018 - accuracy: 0.9894 - val_loss: 0.0031 - val_accuracy: 0.9837\n",
      "Epoch 55/80\n",
      "552/552 [==============================] - 14s 26ms/step - loss: 0.0018 - accuracy: 0.9900 - val_loss: 0.0022 - val_accuracy: 0.9857\n",
      "Epoch 56/80\n",
      "552/552 [==============================] - 14s 26ms/step - loss: 0.0017 - accuracy: 0.9894 - val_loss: 0.0016 - val_accuracy: 0.9919\n",
      "Epoch 57/80\n"
     ]
    },
    {
     "name": "stdout",
     "output_type": "stream",
     "text": [
      "552/552 [==============================] - 14s 26ms/step - loss: 0.0018 - accuracy: 0.9891 - val_loss: 0.0023 - val_accuracy: 0.9878\n",
      "Epoch 58/80\n",
      "552/552 [==============================] - 14s 26ms/step - loss: 0.0017 - accuracy: 0.9889 - val_loss: 0.0020 - val_accuracy: 0.9919- accu\n",
      "Epoch 59/80\n",
      "552/552 [==============================] - 15s 27ms/step - loss: 0.0017 - accuracy: 0.9914 - val_loss: 0.0018 - val_accuracy: 0.9776\n",
      "Epoch 60/80\n",
      "552/552 [==============================] - 15s 27ms/step - loss: 0.0017 - accuracy: 0.9909 - val_loss: 0.0018 - val_accuracy: 0.9939\n",
      "Epoch 61/80\n",
      "552/552 [==============================] - 15s 27ms/step - loss: 0.0017 - accuracy: 0.9905 - val_loss: 0.0016 - val_accuracy: 0.9919\n",
      "Epoch 62/80\n",
      "552/552 [==============================] - 14s 26ms/step - loss: 0.0017 - accuracy: 0.9869 - val_loss: 0.0017 - val_accuracy: 0.9878\n",
      "Epoch 63/80\n",
      "552/552 [==============================] - 14s 25ms/step - loss: 0.0017 - accuracy: 0.9885 - val_loss: 0.0021 - val_accuracy: 0.9878\n",
      "Epoch 64/80\n",
      "552/552 [==============================] - 14s 26ms/step - loss: 0.0017 - accuracy: 0.9923 - val_loss: 0.0023 - val_accuracy: 0.9857\n",
      "Epoch 65/80\n",
      "552/552 [==============================] - 15s 26ms/step - loss: 0.0016 - accuracy: 0.9903 - val_loss: 0.0016 - val_accuracy: 0.9878\n",
      "Epoch 66/80\n",
      "552/552 [==============================] - 14s 26ms/step - loss: 0.0016 - accuracy: 0.9894 - val_loss: 0.0024 - val_accuracy: 0.9817\n",
      "Epoch 67/80\n",
      "552/552 [==============================] - 14s 26ms/step - loss: 0.0016 - accuracy: 0.9912 - val_loss: 0.0015 - val_accuracy: 0.9898\n",
      "Epoch 68/80\n",
      "552/552 [==============================] - 14s 26ms/step - loss: 0.0016 - accuracy: 0.9903 - val_loss: 0.0018 - val_accuracy: 0.9837\n",
      "Epoch 69/80\n",
      "552/552 [==============================] - 15s 27ms/step - loss: 0.0016 - accuracy: 0.9900 - val_loss: 0.0030 - val_accuracy: 0.9837\n",
      "Epoch 70/80\n",
      "552/552 [==============================] - 15s 27ms/step - loss: 0.0017 - accuracy: 0.9903 - val_loss: 0.0017 - val_accuracy: 0.9939\n",
      "Epoch 71/80\n",
      "552/552 [==============================] - 15s 27ms/step - loss: 0.0016 - accuracy: 0.9900 - val_loss: 0.0020 - val_accuracy: 0.9837\n",
      "Epoch 72/80\n",
      "552/552 [==============================] - 14s 26ms/step - loss: 0.0016 - accuracy: 0.9896 - val_loss: 0.0019 - val_accuracy: 0.9939\n",
      "Epoch 73/80\n",
      "552/552 [==============================] - 15s 28ms/step - loss: 0.0015 - accuracy: 0.9896 - val_loss: 0.0017 - val_accuracy: 0.9898\n",
      "Epoch 74/80\n",
      "552/552 [==============================] - 15s 27ms/step - loss: 0.0015 - accuracy: 0.9896 - val_loss: 0.0019 - val_accuracy: 0.9796\n",
      "Epoch 75/80\n",
      "552/552 [==============================] - 15s 27ms/step - loss: 0.0015 - accuracy: 0.9889 - val_loss: 0.0017 - val_accuracy: 0.9817\n",
      "Epoch 76/80\n",
      "552/552 [==============================] - 15s 27ms/step - loss: 0.0016 - accuracy: 0.9914 - val_loss: 0.0014 - val_accuracy: 0.9898\n",
      "Epoch 77/80\n",
      "552/552 [==============================] - 14s 26ms/step - loss: 0.0015 - accuracy: 0.9894 - val_loss: 0.0018 - val_accuracy: 0.9919\n",
      "Epoch 78/80\n",
      "552/552 [==============================] - 14s 26ms/step - loss: 0.0015 - accuracy: 0.9907 - val_loss: 0.0015 - val_accuracy: 0.9878\n",
      "Epoch 79/80\n",
      "552/552 [==============================] - 15s 27ms/step - loss: 0.0015 - accuracy: 0.9925 - val_loss: 0.0018 - val_accuracy: 0.9959\n",
      "Epoch 80/80\n",
      "552/552 [==============================] - 15s 27ms/step - loss: 0.0015 - accuracy: 0.9900 - val_loss: 0.0017 - val_accuracy: 0.9919\n"
     ]
    }
   ],
   "source": [
    "Batch_Size = 8\n",
    "Epoch_Anz = 80\n",
    "Shift_Range = 3\n",
    "Brightness_Range = 0.3\n",
    "\n",
    "datagen = ImageDataGenerator(width_shift_range=[-Shift_Range,Shift_Range], height_shift_range=[-Shift_Range,Shift_Range],brightness_range=[1-Brightness_Range,1+Brightness_Range])\n",
    "\n",
    "train_iterator = datagen.flow(X_train, y_train, batch_size=Batch_Size)\n",
    "validation_iterator = datagen.flow(X_test, y_test, batch_size=Batch_Size)\n",
    "\n",
    "history = model.fit_generator(train_iterator, validation_data = validation_iterator, epochs = Epoch_Anz)"
   ]
  },
  {
   "cell_type": "markdown",
   "metadata": {},
   "source": [
    "### Overall Learing results (Step 1 & Step 2)"
   ]
  },
  {
   "cell_type": "code",
   "execution_count": 7,
   "metadata": {},
   "outputs": [
    {
     "data": {
      "image/png": "[encoded data removed]",
      "text/plain": [
       "<Figure size 432x288 with 1 Axes>"
      ]
     },
     "metadata": {
      "needs_background": "light"
     },
     "output_type": "display_data"
    }
   ],
   "source": [
    "loss_ges = np.append(loss_ges, history.history['loss'])\n",
    "val_loss_ges = np.append(val_loss_ges, history.history['val_loss'])\n",
    "\n",
    "plt.semilogy(loss_ges)\n",
    "plt.semilogy(val_loss_ges)\n",
    "plt.title('model loss')\n",
    "plt.ylabel('loss')\n",
    "plt.xlabel('epoch')\n",
    "plt.legend(['train','eval'], loc='upper left')\n",
    "plt.show()"
   ]
  },
  {
   "cell_type": "markdown",
   "metadata": {},
   "source": [
    "### Check the model by hand\n",
    "\n",
    "* The following code uses the trained model to check the deviation for each picture.\n",
    "* The evaluation takes the periodic character of the results into account (dev1 ... dev2).\n",
    "* Images, that have a bigger deviation as the parameter \"deviation_max_list\" are printed in a list to check the picture and labeling itself"
   ]
  },
  {
   "cell_type": "code",
   "execution_count": 8,
   "metadata": {},
   "outputs": [
    {
     "name": "stdout",
     "output_type": "stream",
     "text": [
      "data_resize_all\\0.0_0006_zeiger1_2020-04-29_10-56-43.jpg 0.0 -0.05571310363626003 0.05571310363626003\n",
      "data_resize_all\\0.0_0023_zeiger3_2020-04-29_11-55-02.jpg 0.0 -0.09039623505915395 0.09039623505915395\n",
      "data_resize_all\\0.0_0025_zeiger3_2020-04-29_12-43-02.jpg 0.0 -0.0531586745481053 0.0531586745481053\n",
      "data_resize_all\\0.0_0026_zeiger3_2020-04-29_13-32-02.jpg 0.0 -0.05127242294506784 0.05127242294506784\n",
      "data_resize_all\\0.7_0245_zeiger1_2020-06-14_14-13-16.jpg 0.06999999999999999 0.004290160693807282 0.06570983930619272\n",
      "data_resize_all\\0.7_0252_zeiger2_2020-04-29_14-07-02.jpg 0.06999999999999999 0.12317884737274416 -0.05317884737274417\n",
      "data_resize_all\\0.8_0281_zeiger2_2020-04-29_13-11-02.jpg 0.08 0.15044235378662707 -0.07044235378662707\n",
      "data_resize_all\\0.8_0282_zeiger2_2020-04-29_13-27-02.jpg 0.08 0.13954880918838297 -0.05954880918838297\n",
      "data_resize_all\\0.8_0283_zeiger2_2020-04-29_13-59-02.jpg 0.08 0.14335340479718317 -0.06335340479718317\n",
      "data_resize_all\\0.9_0358_zeiger2_2020-04-29_13-03-02.jpg 0.09 0.14851934248493154 -0.05851934248493154\n",
      "data_resize_all\\2.3_1137_zeiger4_2020-04-29_10-50-02.jpg 0.22999999999999998 0.16753784296047664 0.06246215703952335\n",
      "data_resize_all\\2.3_1138_zeiger4_2020-04-29_12-20-02.jpg 0.22999999999999998 0.17969377727206834 0.05030622272793164\n",
      "data_resize_all\\2.9_1390_zeiger3_2020-04-29_12-03-02.jpg 0.29 0.23372882675211631 0.056271173247883666\n",
      "data_resize_all\\2.9_1393_zeiger4_2020-04-29_12-10-02.jpg 0.29 0.22913343753303633 0.06086656246696365\n",
      "data_resize_all\\2.9_1394_zeiger4_2020-04-29_13-03-02.jpg 0.29 0.21286785428883873 0.07713214571116125\n",
      "data_resize_all\\3.0_1492_zeiger4_2019-06-04T165009.jpg 0.3 0.21076804543775216 0.08923195456224783\n",
      "data_resize_all\\3.0_1493_zeiger4_2019-06-04T170009.jpg 0.3 0.2482478357618032 0.051752164238196785\n",
      "data_resize_all\\3.0_1519_zeiger4_2020-04-29_11-39-02.jpg 0.3 0.23323172178977325 0.06676827821022674\n",
      "data_resize_all\\3.1_1564_zeiger3_2020-04-29_12-51-19.jpg 0.31 0.24302756012465784 0.06697243987534215\n",
      "data_resize_all\\3.5_1808_zeiger4_2019-06-06T155009.jpg 0.35 0.4000976069451545 -0.05009760694515453\n",
      "data_resize_all\\3.5_1810_zeiger4_2020-04-29_12-04-02.jpg 0.35 0.4034385560321708 -0.05343855603217085\n",
      "data_resize_all\\4.0_2031_zeiger4_2020-04-29_14-44-02.jpg 0.4 0.34055850644069485 0.05944149355930517\n",
      "data_resize_all\\4.7_2368_zeiger1_2020-04-29_12-53-02.jpg 0.47000000000000003 0.5250816929198671 -0.05508169291986703\n",
      "data_resize_all\\5.6_2750_zeiger3_2020-04-29_11-49-17.jpg 0.5599999999999999 0.6107234238114013 -0.05072342381140138\n",
      "data_resize_all\\6.5_3246_analog4_20200817-163844.jpg 0.65 0.594993498152862 0.05500650184713807\n",
      "data_resize_all\\7.7_3895_zeiger1_2020-04-29_11-58-02.jpg 0.77 0.8437697344243302 -0.07376973442433021\n",
      "data_resize_all\\7.7_3896_zeiger1_2020-04-29_13-17-02.jpg 0.77 0.841647547217338 -0.07164754721733801\n",
      "data_resize_all\\7.7_3967_zeiger1_2020-04-29_14-38-02.jpg 0.77 0.8463918630194458 -0.07639186301944578\n",
      "data_resize_all\\7.8_3963_zeiger1_2020-04-29_11-59-02.jpg 0.78 0.8723368109004317 -0.09233681090043167\n",
      "data_resize_all\\7.8_3965_zeiger1_2020-04-29_13-18-02.jpg 0.78 0.8310065868091505 -0.05100658680915049\n",
      "data_resize_all\\7.9_3964_zeiger1_2020-04-29_12-00-02.jpg 0.79 0.8541123863205174 -0.06411238632051741\n",
      "data_resize_all\\7.9_3968_zeiger1_2020-04-29_14-39-02.jpg 0.79 0.8483276050348444 -0.058327605034844354\n",
      "data_resize_all\\8.2_4116_zeiger1_2020-04-29_13-23-01.jpg 0.82 0.8830402865122725 -0.06304028651227256\n",
      "data_resize_all\\8.9_4429_zeiger4_2020-04-29_13-29-01.jpg 0.89 0.8379681243114522 0.052031875688547835\n",
      "data_resize_all\\9.0_4474_zeiger3_2020-02-12_16-41-06.jpg 0.9 0.8332586899059807 0.06674131009401929\n",
      "data_resize_all\\9.3_4631_zeiger1_2020-04-29_13-30-02.jpg 0.93 0.8731594502677166 0.056840549732283474\n",
      "data_resize_all\\9.8_4931_zeiger3_2020-04-29_13-26-28.jpg 0.9800000000000001 0.9245006162208684 0.05549938377913166\n"
     ]
    }
   ],
   "source": [
    "Input_dir='data_resize_all'\n",
    "#Input_dir='test_result'\n",
    "files = glob.glob(Input_dir + '/*.*')\n",
    "res = []\n",
    "i = 0\n",
    "deviation_max_list = 0.05\n",
    "\n",
    "for aktfile in files:\n",
    "    base = os.path.basename(aktfile)\n",
    "    target = (float(base[0:3])) / 10\n",
    "    target_sin = math.sin(target * math.pi * 2)\n",
    "    target_cos = math.cos(target * math.pi * 2)\n",
    "\n",
    "    test_image = Image.open(aktfile)\n",
    "    test_image = np.array(test_image, dtype=\"float32\")\n",
    "    img = np.reshape(test_image,[1,32,32,3])\n",
    "    classes = model.predict(img)\n",
    "    \n",
    "    out_sin = classes[0][0]  \n",
    "    out_cos = classes[0][1]\n",
    "    out_target = (np.arctan2(out_sin, out_cos)/(2*math.pi)) % 1\n",
    "\n",
    "    dev_sin = target_sin - out_sin\n",
    "    dev_cos = target_cos - out_cos\n",
    "    dev_target = target - out_target\n",
    "    \n",
    "    if abs(dev_target + 1) < abs(dev_target):\n",
    "        out_target = out_target - 1\n",
    "        dev_target = target - out_target\n",
    "    else:\n",
    "        if abs(dev_target - 1) < abs(dev_target):\n",
    "            out_target = out_target + 1\n",
    "            dev_target = target - out_target\n",
    "               \n",
    "    res.append(np.array([target, out_target, dev_target, out_sin, out_cos, i]))\n",
    "    if abs(dev_target) > deviation_max_list:\n",
    "        print(aktfile + \" \" + str(target) + \" \" + str(out_target) +  \" \" + str(dev_target))\n",
    "    i+=1\n",
    "\n",
    "res = np.asarray(res)\n",
    "res_step_1 = res"
   ]
  },
  {
   "cell_type": "markdown",
   "metadata": {},
   "source": [
    "## Results"
   ]
  },
  {
   "cell_type": "code",
   "execution_count": 9,
   "metadata": {},
   "outputs": [
    {
     "data": {
      "image/png": "[encoded data removed]",
      "text/plain": [
       "<Figure size 432x288 with 1 Axes>"
      ]
     },
     "metadata": {
      "needs_background": "light"
     },
     "output_type": "display_data"
    }
   ],
   "source": [
    "plt.plot(res[:,3])\n",
    "plt.plot(res[:,4])\n",
    "plt.title('Result')\n",
    "plt.ylabel('value')\n",
    "plt.xlabel('#Picture')\n",
    "plt.legend(['sin', 'cos'], loc='lower left')\n",
    "plt.show()"
   ]
  },
  {
   "cell_type": "code",
   "execution_count": 10,
   "metadata": {},
   "outputs": [
    {
     "data": {
      "image/png": "[encoded data removed]",
      "text/plain": [
       "<Figure size 432x288 with 1 Axes>"
      ]
     },
     "metadata": {
      "needs_background": "light"
     },
     "output_type": "display_data"
    }
   ],
   "source": [
    "plt.plot(res[:,0])\n",
    "plt.plot(res[:,1])\n",
    "plt.title('Result')\n",
    "plt.ylabel('Counter Value')\n",
    "plt.xlabel('#Picture')\n",
    "plt.legend(['Orginal', 'Prediction'], loc='upper left')\n",
    "plt.show()"
   ]
  },
  {
   "cell_type": "markdown",
   "metadata": {},
   "source": [
    "### Deviation from Expected Value"
   ]
  },
  {
   "cell_type": "code",
   "execution_count": 11,
   "metadata": {},
   "outputs": [
    {
     "data": {
      "image/png": "[encoded data removed]",
      "text/plain": [
       "<Figure size 432x288 with 1 Axes>"
      ]
     },
     "metadata": {
      "needs_background": "light"
     },
     "output_type": "display_data"
    },
    {
     "name": "stdout",
     "output_type": "stream",
     "text": [
      "[-0.0031  0.0152 -0.0923  0.0904]\n"
     ]
    }
   ],
   "source": [
    "plt.plot(res[:,2])\n",
    "plt.title('Deviation')\n",
    "plt.ylabel('Deviation from expected value')\n",
    "plt.xlabel('#Picture')\n",
    "plt.legend(['Deviation'], loc='upper left')\n",
    "#plt.ylim(-0.3, 0.3)\n",
    "plt.show()\n",
    "\n",
    "statistic = np.array([np.mean(res[:,2]), np.std(res[:,2]), np.min(res[:,2]), np.max(res[:,2])])\n",
    "print(statistic)"
   ]
  },
  {
   "cell_type": "markdown",
   "metadata": {},
   "source": [
    "### Save the model\n",
    "\n",
    "* Save the model to the file with the \"h5\" file format"
   ]
  },
  {
   "cell_type": "code",
   "execution_count": 12,
   "metadata": {},
   "outputs": [
    {
     "data": {
      "text/plain": [
       "45284"
      ]
     },
     "execution_count": 12,
     "metadata": {},
     "output_type": "execute_result"
    }
   ],
   "source": [
    "# model.save(\"CNN_Analog-Readout_Version-6.2.0.h5\")\n",
    "\n",
    "converter = tf.lite.TFLiteConverter.from_keras_model(model)\n",
    "tflite_model = converter.convert()\n",
    "open(\"CNN_Analog-Readout_Version-6.3.0-Small.tflite\", \"wb\").write(tflite_model)"
   ]
  }
 ],
 "metadata": {
  "kernelspec": {
   "display_name": "Python 3",
   "language": "python",
   "name": "python3"
  },
  "language_info": {
   "codemirror_mode": {
    "name": "ipython",
    "version": 3
   },
   "file_extension": ".py",
   "mimetype": "text/x-python",
   "name": "python",
   "nbconvert_exporter": "python",
   "pygments_lexer": "ipython3",
   "version": "3.7.7"
  }
 },
 "nbformat": 4,
 "nbformat_minor": 2
}
